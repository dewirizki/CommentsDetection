{
 "cells": [
  {
   "cell_type": "markdown",
   "metadata": {},
   "source": [
    "# Spam Comments Detection"
   ]
  },
  {
   "cell_type": "markdown",
   "metadata": {},
   "source": [
    "## Tahap 1: Data Preparation and Data Cleaning\n",
    "------------------------------------------------"
   ]
  },
  {
   "cell_type": "markdown",
   "metadata": {},
   "source": [
    "##### **Daftar Isi pada Notebook**\n",
    "1. Background - Latar belakang pembuatan projek dan sumber data yang digunakan hingga tujuan penelitian\n",
    "2. Notebook Setup - mengimport package dan data\n",
    "3. Overview data\n",
    "5. Data Cleaning\n",
    "   - remove duplicate comments\n",
    "   - replace slangwords\n",
    "   - remove stopwords\n",
    "   - remove white spaces\n",
    "6. Feature Extraction\n",
    "    - url_ratio\n",
    "    - word_duplicate\n",
    "7. Export data yang telah dilakukan prepocessing kedalam format .csv\n",
    "\n",
    "------------------------------------------------------"
   ]
  },
  {
   "cell_type": "markdown",
   "metadata": {},
   "source": [
    "**1. Background**\n",
    "\n",
    "**Latar Belakang Project**\n",
    "\n",
    "\n",
    "\n",
    "**Tujuan Project**\n",
    "Pada project kali ini pendeteksian komentar spam dilakukan untuk menemukan komentar yang tidak relevan berisikan \"promosi\" sehingga hasilnya dapat digunakan untuk mengetahui sebuah komentar yang relevan dengan konten videonya. \n",
    "\n",
    "\n",
    "---------------------------------------------------"
   ]
  },
  {
   "cell_type": "markdown",
   "metadata": {},
   "source": [
    "**Sumber Data**\n",
    "\n",
    "Data yang digunakan berasal dari YouTube dengan melakukan crawling data menggunakan YouTube Data API. Mengekstrak dataset berdasarkan query yang telah dipilih, kemudian untuk memperoleh komentar dengan videoId menggunakan videoId.\n",
    "\n",
    "Metadata yang dipilih anatara lain:\n",
    "- videoId\n",
    "- Tittle Video\n",
    "- Name (username)\n",
    "- Commment\n",
    "- CommentId\n",
    "- Time\n",
    "- Like\n",
    "- Reply Count\n",
    "- Label\n",
    "\n",
    "---------------------------------------------------"
   ]
  },
  {
   "cell_type": "markdown",
   "metadata": {},
   "source": [
    "**Notebook Setup**"
   ]
  },
  {
   "cell_type": "code",
   "execution_count": 2,
   "metadata": {},
   "outputs": [],
   "source": [
    "import pandas as pd\n",
    "import glob\n",
    "import os\n",
    "import regex as re\n",
    "import emoji\n",
    "import pandas as pd\n",
    "import numpy as np\n",
    "import time\n",
    "import string\n",
    "from string import punctuation\n",
    "import seaborn as sns\n",
    "import datetime\n",
    "import spacy\n",
    "import matplotlib.pyplot as plt\n",
    "import plotly.graph_objs as go\n",
    "import plotly.express as px\n",
    "from tqdm import tqdm\n",
    "from textblob import TextBlob\n",
    "from Sastrawi.Stemmer.StemmerFactory import StemmerFactory\n",
    "from Sastrawi.StopWordRemover.StopWordRemoverFactory import StopWordRemoverFactory\n",
    "#from spacy.lang.id import Indonesian\n",
    "#from spacy.lang.id.stop_words import STOP_WORDS\n",
    "import warnings; warnings.simplefilter('ignore')"
   ]
  },
  {
   "cell_type": "code",
   "execution_count": 3,
   "metadata": {},
   "outputs": [
    {
     "name": "stdout",
     "output_type": "stream",
     "text": [
      "<class 'pandas.core.frame.DataFrame'>\n",
      "RangeIndex: 3003 entries, 0 to 3002\n",
      "Data columns (total 9 columns):\n",
      " #   Column       Non-Null Count  Dtype  \n",
      "---  ------       --------------  -----  \n",
      " 0   Video_Id     3003 non-null   object \n",
      " 1   Tittle       3003 non-null   object \n",
      " 2   Name         3003 non-null   object \n",
      " 3   Comment      3003 non-null   object \n",
      " 4   Comment_Id   3003 non-null   object \n",
      " 5   Time         3003 non-null   object \n",
      " 6   Likes        3003 non-null   int64  \n",
      " 7   Reply_Count  2624 non-null   float64\n",
      " 8   Label        3003 non-null   object \n",
      "dtypes: float64(1), int64(1), object(7)\n",
      "memory usage: 211.3+ KB\n"
     ]
    }
   ],
   "source": [
    "df = pd.read_csv(\"..\\Data\\Data Label\\dataLabel_3003.csv\")\n",
    "df.info()"
   ]
  },
  {
   "cell_type": "code",
   "execution_count": 4,
   "metadata": {},
   "outputs": [],
   "source": [
    "df[\"Label\"] = df[\"Label\"].astype(\"category\")\n",
    "df[\"Time\"] = df[\"Time\"].astype(\"datetime64\")"
   ]
  },
  {
   "cell_type": "code",
   "execution_count": 5,
   "metadata": {},
   "outputs": [
    {
     "data": {
      "text/html": [
       "<div>\n",
       "<style scoped>\n",
       "    .dataframe tbody tr th:only-of-type {\n",
       "        vertical-align: middle;\n",
       "    }\n",
       "\n",
       "    .dataframe tbody tr th {\n",
       "        vertical-align: top;\n",
       "    }\n",
       "\n",
       "    .dataframe thead th {\n",
       "        text-align: right;\n",
       "    }\n",
       "</style>\n",
       "<table border=\"1\" class=\"dataframe\">\n",
       "  <thead>\n",
       "    <tr style=\"text-align: right;\">\n",
       "      <th></th>\n",
       "      <th>Video_Id</th>\n",
       "      <th>Tittle</th>\n",
       "      <th>Name</th>\n",
       "      <th>Comment</th>\n",
       "      <th>Comment_Id</th>\n",
       "      <th>Time</th>\n",
       "      <th>Likes</th>\n",
       "      <th>Reply_Count</th>\n",
       "      <th>Label</th>\n",
       "    </tr>\n",
       "  </thead>\n",
       "  <tbody>\n",
       "    <tr>\n",
       "      <th>0</th>\n",
       "      <td>0iLgiRBQzzs</td>\n",
       "      <td>Panas! Jokowi VS Prabowo Saling Serang soal Ko...</td>\n",
       "      <td>Doharman Patimura Waruwu</td>\n",
       "      <td>https://youtu.be/LBKGyxnpMCU</td>\n",
       "      <td>Ugz-zdD0s87dSDzITuh4AaABAg</td>\n",
       "      <td>2019-01-17 23:06:24</td>\n",
       "      <td>0</td>\n",
       "      <td>0.0</td>\n",
       "      <td>spam</td>\n",
       "    </tr>\n",
       "    <tr>\n",
       "      <th>1</th>\n",
       "      <td>AP0NACavjfk</td>\n",
       "      <td>SkinnyIndonesian24 | Prabowo VS Jokowi - Epic ...</td>\n",
       "      <td>Akiru Syakir</td>\n",
       "      <td>Bantu subscribe youtube gw dong</td>\n",
       "      <td>UgwQM2OHIzkVDtu0PIN4AaABAg</td>\n",
       "      <td>2019-04-10 22:40:00</td>\n",
       "      <td>0</td>\n",
       "      <td>0.0</td>\n",
       "      <td>spam</td>\n",
       "    </tr>\n",
       "    <tr>\n",
       "      <th>2</th>\n",
       "      <td>AP0NACavjfk</td>\n",
       "      <td>SkinnyIndonesian24 | Prabowo VS Jokowi - Epic ...</td>\n",
       "      <td>Teguh Wage Prakoso</td>\n",
       "      <td>hachimon tonkou, kalau buka gerbang ke 8 auto ...</td>\n",
       "      <td>Ugyh7dOOI2953Exf3cp4AaABAg.8tUY_eVh77e8tUhBosQJLg</td>\n",
       "      <td>2019-04-09 02:50:06</td>\n",
       "      <td>0</td>\n",
       "      <td>NaN</td>\n",
       "      <td>spam</td>\n",
       "    </tr>\n",
       "    <tr>\n",
       "      <th>3</th>\n",
       "      <td>AP0NACavjfk</td>\n",
       "      <td>SkinnyIndonesian24 | Prabowo VS Jokowi - Epic ...</td>\n",
       "      <td>hidayah</td>\n",
       "      <td>https://www.youtube.com/channel/UC_iQ1hcNxz1ir...</td>\n",
       "      <td>UgxA-h0VMWXoShPkFEZ4AaABAg</td>\n",
       "      <td>2019-04-10 12:25:49</td>\n",
       "      <td>0</td>\n",
       "      <td>0.0</td>\n",
       "      <td>spam</td>\n",
       "    </tr>\n",
       "    <tr>\n",
       "      <th>4</th>\n",
       "      <td>AP0NACavjfk</td>\n",
       "      <td>SkinnyIndonesian24 | Prabowo VS Jokowi - Epic ...</td>\n",
       "      <td>Derisma Ae</td>\n",
       "      <td>https://youtu.be/aS1FIPcCuh4 CH: Derisma ae, m...</td>\n",
       "      <td>UgybtnYbYjDF7YZJAdN4AaABAg</td>\n",
       "      <td>2019-04-15 16:00:05</td>\n",
       "      <td>0</td>\n",
       "      <td>0.0</td>\n",
       "      <td>spam</td>\n",
       "    </tr>\n",
       "  </tbody>\n",
       "</table>\n",
       "</div>"
      ],
      "text/plain": [
       "      Video_Id                                             Tittle  \\\n",
       "0  0iLgiRBQzzs  Panas! Jokowi VS Prabowo Saling Serang soal Ko...   \n",
       "1  AP0NACavjfk  SkinnyIndonesian24 | Prabowo VS Jokowi - Epic ...   \n",
       "2  AP0NACavjfk  SkinnyIndonesian24 | Prabowo VS Jokowi - Epic ...   \n",
       "3  AP0NACavjfk  SkinnyIndonesian24 | Prabowo VS Jokowi - Epic ...   \n",
       "4  AP0NACavjfk  SkinnyIndonesian24 | Prabowo VS Jokowi - Epic ...   \n",
       "\n",
       "                       Name  \\\n",
       "0  Doharman Patimura Waruwu   \n",
       "1              Akiru Syakir   \n",
       "2        Teguh Wage Prakoso   \n",
       "3                   hidayah   \n",
       "4                Derisma Ae   \n",
       "\n",
       "                                             Comment  \\\n",
       "0                       https://youtu.be/LBKGyxnpMCU   \n",
       "1                    Bantu subscribe youtube gw dong   \n",
       "2  hachimon tonkou, kalau buka gerbang ke 8 auto ...   \n",
       "3  https://www.youtube.com/channel/UC_iQ1hcNxz1ir...   \n",
       "4  https://youtu.be/aS1FIPcCuh4 CH: Derisma ae, m...   \n",
       "\n",
       "                                          Comment_Id                Time  \\\n",
       "0                         Ugz-zdD0s87dSDzITuh4AaABAg 2019-01-17 23:06:24   \n",
       "1                         UgwQM2OHIzkVDtu0PIN4AaABAg 2019-04-10 22:40:00   \n",
       "2  Ugyh7dOOI2953Exf3cp4AaABAg.8tUY_eVh77e8tUhBosQJLg 2019-04-09 02:50:06   \n",
       "3                         UgxA-h0VMWXoShPkFEZ4AaABAg 2019-04-10 12:25:49   \n",
       "4                         UgybtnYbYjDF7YZJAdN4AaABAg 2019-04-15 16:00:05   \n",
       "\n",
       "   Likes  Reply_Count Label  \n",
       "0      0          0.0  spam  \n",
       "1      0          0.0  spam  \n",
       "2      0          NaN  spam  \n",
       "3      0          0.0  spam  \n",
       "4      0          0.0  spam  "
      ]
     },
     "execution_count": 5,
     "metadata": {},
     "output_type": "execute_result"
    }
   ],
   "source": [
    "df.head()"
   ]
  },
  {
   "cell_type": "code",
   "execution_count": 6,
   "metadata": {},
   "outputs": [],
   "source": [
    "data = df.drop_duplicates(subset=[\"Comment\", \"Comment_Id\"], keep=False)"
   ]
  },
  {
   "cell_type": "code",
   "execution_count": 7,
   "metadata": {},
   "outputs": [
    {
     "name": "stdout",
     "output_type": "stream",
     "text": [
      "Banyaknya Saat ini adalah Baris: 3001 dan Kolom: 9\n"
     ]
    }
   ],
   "source": [
    "B, K = data.shape\n",
    "print(f\"Banyaknya Saat ini adalah Baris: {B} dan Kolom: {K}\")"
   ]
  },
  {
   "cell_type": "code",
   "execution_count": 8,
   "metadata": {},
   "outputs": [
    {
     "data": {
      "text/plain": [
       "Video_Id         0\n",
       "Tittle           0\n",
       "Name             0\n",
       "Comment          0\n",
       "Comment_Id       0\n",
       "Time             0\n",
       "Likes            0\n",
       "Reply_Count    379\n",
       "Label            0\n",
       "dtype: int64"
      ]
     },
     "execution_count": 8,
     "metadata": {},
     "output_type": "execute_result"
    }
   ],
   "source": [
    "data.isnull().sum()"
   ]
  },
  {
   "cell_type": "code",
   "execution_count": 9,
   "metadata": {},
   "outputs": [
    {
     "data": {
      "image/png": "[encoded data removed]",
      "text/plain": [
       "<Figure size 432x288 with 1 Axes>"
      ]
     },
     "metadata": {
      "needs_background": "light"
     },
     "output_type": "display_data"
    }
   ],
   "source": [
    "p = sns.distplot(data['Reply_Count'], kde=True, rug=True)"
   ]
  },
  {
   "cell_type": "code",
   "execution_count": 10,
   "metadata": {},
   "outputs": [],
   "source": [
    "data['Reply_Count'].fillna(data['Reply_Count'].median(),inplace=True)"
   ]
  },
  {
   "cell_type": "code",
   "execution_count": 11,
   "metadata": {},
   "outputs": [
    {
     "data": {
      "text/plain": [
       "Video_Id       0\n",
       "Tittle         0\n",
       "Name           0\n",
       "Comment        0\n",
       "Comment_Id     0\n",
       "Time           0\n",
       "Likes          0\n",
       "Reply_Count    0\n",
       "Label          0\n",
       "dtype: int64"
      ]
     },
     "execution_count": 11,
     "metadata": {},
     "output_type": "execute_result"
    }
   ],
   "source": [
    "data.isnull().sum()"
   ]
  },
  {
   "cell_type": "code",
   "execution_count": 12,
   "metadata": {},
   "outputs": [],
   "source": [
    "data[\"Reply_Count\"] = data[\"Reply_Count\"].astype(\"int64\")"
   ]
  },
  {
   "cell_type": "code",
   "execution_count": 13,
   "metadata": {},
   "outputs": [
    {
     "name": "stdout",
     "output_type": "stream",
     "text": [
      "<class 'pandas.core.frame.DataFrame'>\n",
      "Int64Index: 3001 entries, 0 to 3002\n",
      "Data columns (total 9 columns):\n",
      " #   Column       Non-Null Count  Dtype         \n",
      "---  ------       --------------  -----         \n",
      " 0   Video_Id     3001 non-null   object        \n",
      " 1   Tittle       3001 non-null   object        \n",
      " 2   Name         3001 non-null   object        \n",
      " 3   Comment      3001 non-null   object        \n",
      " 4   Comment_Id   3001 non-null   object        \n",
      " 5   Time         3001 non-null   datetime64[ns]\n",
      " 6   Likes        3001 non-null   int64         \n",
      " 7   Reply_Count  3001 non-null   int64         \n",
      " 8   Label        3001 non-null   category      \n",
      "dtypes: category(1), datetime64[ns](1), int64(2), object(5)\n",
      "memory usage: 214.0+ KB\n"
     ]
    }
   ],
   "source": [
    "data.info()"
   ]
  },
  {
   "cell_type": "code",
   "execution_count": 14,
   "metadata": {},
   "outputs": [],
   "source": [
    "#count comments words length\n",
    "def count_length(text):\n",
    "    return len(text)"
   ]
  },
  {
   "cell_type": "code",
   "execution_count": 15,
   "metadata": {},
   "outputs": [],
   "source": [
    "data['Length_Comment'] = data['Comment'].apply(lambda x: count_length(x))"
   ]
  },
  {
   "cell_type": "code",
   "execution_count": 16,
   "metadata": {},
   "outputs": [
    {
     "data": {
      "text/html": [
       "<div>\n",
       "<style scoped>\n",
       "    .dataframe tbody tr th:only-of-type {\n",
       "        vertical-align: middle;\n",
       "    }\n",
       "\n",
       "    .dataframe tbody tr th {\n",
       "        vertical-align: top;\n",
       "    }\n",
       "\n",
       "    .dataframe thead th {\n",
       "        text-align: right;\n",
       "    }\n",
       "</style>\n",
       "<table border=\"1\" class=\"dataframe\">\n",
       "  <thead>\n",
       "    <tr style=\"text-align: right;\">\n",
       "      <th></th>\n",
       "      <th>Video_Id</th>\n",
       "      <th>Tittle</th>\n",
       "      <th>Name</th>\n",
       "      <th>Comment</th>\n",
       "      <th>Comment_Id</th>\n",
       "      <th>Time</th>\n",
       "      <th>Likes</th>\n",
       "      <th>Reply_Count</th>\n",
       "      <th>Label</th>\n",
       "      <th>Length_Comment</th>\n",
       "    </tr>\n",
       "  </thead>\n",
       "  <tbody>\n",
       "    <tr>\n",
       "      <th>2743</th>\n",
       "      <td>AP0NACavjfk</td>\n",
       "      <td>SkinnyIndonesian24 | Prabowo VS Jokowi - Epic ...</td>\n",
       "      <td>Emon Sulaeman</td>\n",
       "      <td>Seruuu</td>\n",
       "      <td>UgxS-2BLegpA35-2xhx4AaABAg</td>\n",
       "      <td>2019-04-20 01:54:06</td>\n",
       "      <td>0</td>\n",
       "      <td>0</td>\n",
       "      <td>legitimate</td>\n",
       "      <td>6</td>\n",
       "    </tr>\n",
       "    <tr>\n",
       "      <th>86</th>\n",
       "      <td>AP0NACavjfk</td>\n",
       "      <td>SkinnyIndonesian24 | Prabowo VS Jokowi - Epic ...</td>\n",
       "      <td>David Sianipar</td>\n",
       "      <td>*Give away* ✨\\nRules :\\n1. Subscribe akun saya...</td>\n",
       "      <td>UgzCOP0KuCM22V4cBNJ4AaABAg</td>\n",
       "      <td>2019-04-12 01:59:13</td>\n",
       "      <td>0</td>\n",
       "      <td>0</td>\n",
       "      <td>spam</td>\n",
       "      <td>232</td>\n",
       "    </tr>\n",
       "    <tr>\n",
       "      <th>2141</th>\n",
       "      <td>AP0NACavjfk</td>\n",
       "      <td>SkinnyIndonesian24 | Prabowo VS Jokowi - Epic ...</td>\n",
       "      <td>Dunia Faiss</td>\n",
       "      <td>Yg Nonton Bulan Desember</td>\n",
       "      <td>UgzsyNzyqXAabgBKf0F4AaABAg</td>\n",
       "      <td>2019-12-05 11:23:59</td>\n",
       "      <td>0</td>\n",
       "      <td>0</td>\n",
       "      <td>legitimate</td>\n",
       "      <td>24</td>\n",
       "    </tr>\n",
       "    <tr>\n",
       "      <th>569</th>\n",
       "      <td>AP0NACavjfk</td>\n",
       "      <td>SkinnyIndonesian24 | Prabowo VS Jokowi - Epic ...</td>\n",
       "      <td>Kota Tanyoe</td>\n",
       "      <td>Mantap banget karnyanya, \\nayok nonton juga vi...</td>\n",
       "      <td>Ugwa7Ps9YIxUYOmASoF4AaABAg</td>\n",
       "      <td>2019-04-12 06:45:44</td>\n",
       "      <td>0</td>\n",
       "      <td>0</td>\n",
       "      <td>spam</td>\n",
       "      <td>148</td>\n",
       "    </tr>\n",
       "    <tr>\n",
       "      <th>759</th>\n",
       "      <td>AP0NACavjfk</td>\n",
       "      <td>SkinnyIndonesian24 | Prabowo VS Jokowi - Epic ...</td>\n",
       "      <td>HW AR Production</td>\n",
       "      <td>https://youtu.be/S5sbVpjv2aw\\n\\nPamer Bojo Cov...</td>\n",
       "      <td>UgzOKuQ06ko2R65BWcV4AaABAg</td>\n",
       "      <td>2019-04-10 15:06:11</td>\n",
       "      <td>0</td>\n",
       "      <td>0</td>\n",
       "      <td>spam</td>\n",
       "      <td>68</td>\n",
       "    </tr>\n",
       "    <tr>\n",
       "      <th>716</th>\n",
       "      <td>AP0NACavjfk</td>\n",
       "      <td>SkinnyIndonesian24 | Prabowo VS Jokowi - Epic ...</td>\n",
       "      <td>wahdatun thoibah_Manajemen 7B</td>\n",
       "      <td>https://youtu.be/RICoi_7u7fU\\n\\nAssalamualaiku...</td>\n",
       "      <td>UgwY0aJE6M70RBDXQUd4AaABAg</td>\n",
       "      <td>2020-08-08 05:49:25</td>\n",
       "      <td>0</td>\n",
       "      <td>0</td>\n",
       "      <td>spam</td>\n",
       "      <td>257</td>\n",
       "    </tr>\n",
       "    <tr>\n",
       "      <th>347</th>\n",
       "      <td>AP0NACavjfk</td>\n",
       "      <td>SkinnyIndonesian24 | Prabowo VS Jokowi - Epic ...</td>\n",
       "      <td>alday walker</td>\n",
       "      <td>Yang punya kontol download Tante sange https:/...</td>\n",
       "      <td>UgxWQb3XlSWqH02u9nJ4AaABAg</td>\n",
       "      <td>2019-04-11 14:19:06</td>\n",
       "      <td>0</td>\n",
       "      <td>0</td>\n",
       "      <td>spam</td>\n",
       "      <td>78</td>\n",
       "    </tr>\n",
       "    <tr>\n",
       "      <th>949</th>\n",
       "      <td>AP0NACavjfk</td>\n",
       "      <td>SkinnyIndonesian24 | Prabowo VS Jokowi - Epic ...</td>\n",
       "      <td>Twoninedes Naibaho</td>\n",
       "      <td>Bantu  Subscribe YouTuber baru kak https://you...</td>\n",
       "      <td>UgyPQtqfYzEe5Ww9RnJ4AaABAg</td>\n",
       "      <td>2019-04-14 14:57:12</td>\n",
       "      <td>0</td>\n",
       "      <td>0</td>\n",
       "      <td>spam</td>\n",
       "      <td>92</td>\n",
       "    </tr>\n",
       "    <tr>\n",
       "      <th>1548</th>\n",
       "      <td>AP0NACavjfk</td>\n",
       "      <td>SkinnyIndonesian24 | Prabowo VS Jokowi - Epic ...</td>\n",
       "      <td>Gibran Ramadan AlGifari</td>\n",
       "      <td>Yg nonton sambil lihat komentar Like</td>\n",
       "      <td>Ugz7gt0l-LqXhwk68ud4AaABAg</td>\n",
       "      <td>2019-05-02 02:23:47</td>\n",
       "      <td>1</td>\n",
       "      <td>0</td>\n",
       "      <td>legitimate</td>\n",
       "      <td>36</td>\n",
       "    </tr>\n",
       "    <tr>\n",
       "      <th>2321</th>\n",
       "      <td>LU2p56QVUWA</td>\n",
       "      <td>Debat Jokowi Vs Prabowo Soal Ideologi &amp;amp; Pe...</td>\n",
       "      <td>Donik Astutik</td>\n",
       "      <td>Mantab salam 2 periode.. 02 itu mah paling keok</td>\n",
       "      <td>UgyHqiNt2xgNX3gnDVt4AaABAg.8t6VdzSB_-B8t6bDqImufm</td>\n",
       "      <td>2019-03-30 18:16:11</td>\n",
       "      <td>2</td>\n",
       "      <td>0</td>\n",
       "      <td>legitimate</td>\n",
       "      <td>47</td>\n",
       "    </tr>\n",
       "  </tbody>\n",
       "</table>\n",
       "</div>"
      ],
      "text/plain": [
       "         Video_Id                                             Tittle  \\\n",
       "2743  AP0NACavjfk  SkinnyIndonesian24 | Prabowo VS Jokowi - Epic ...   \n",
       "86    AP0NACavjfk  SkinnyIndonesian24 | Prabowo VS Jokowi - Epic ...   \n",
       "2141  AP0NACavjfk  SkinnyIndonesian24 | Prabowo VS Jokowi - Epic ...   \n",
       "569   AP0NACavjfk  SkinnyIndonesian24 | Prabowo VS Jokowi - Epic ...   \n",
       "759   AP0NACavjfk  SkinnyIndonesian24 | Prabowo VS Jokowi - Epic ...   \n",
       "716   AP0NACavjfk  SkinnyIndonesian24 | Prabowo VS Jokowi - Epic ...   \n",
       "347   AP0NACavjfk  SkinnyIndonesian24 | Prabowo VS Jokowi - Epic ...   \n",
       "949   AP0NACavjfk  SkinnyIndonesian24 | Prabowo VS Jokowi - Epic ...   \n",
       "1548  AP0NACavjfk  SkinnyIndonesian24 | Prabowo VS Jokowi - Epic ...   \n",
       "2321  LU2p56QVUWA  Debat Jokowi Vs Prabowo Soal Ideologi &amp; Pe...   \n",
       "\n",
       "                               Name  \\\n",
       "2743                  Emon Sulaeman   \n",
       "86                   David Sianipar   \n",
       "2141                    Dunia Faiss   \n",
       "569                     Kota Tanyoe   \n",
       "759                HW AR Production   \n",
       "716   wahdatun thoibah_Manajemen 7B   \n",
       "347                    alday walker   \n",
       "949              Twoninedes Naibaho   \n",
       "1548        Gibran Ramadan AlGifari   \n",
       "2321                  Donik Astutik   \n",
       "\n",
       "                                                Comment  \\\n",
       "2743                                             Seruuu   \n",
       "86    *Give away* ✨\\nRules :\\n1. Subscribe akun saya...   \n",
       "2141                           Yg Nonton Bulan Desember   \n",
       "569   Mantap banget karnyanya, \\nayok nonton juga vi...   \n",
       "759   https://youtu.be/S5sbVpjv2aw\\n\\nPamer Bojo Cov...   \n",
       "716   https://youtu.be/RICoi_7u7fU\\n\\nAssalamualaiku...   \n",
       "347   Yang punya kontol download Tante sange https:/...   \n",
       "949   Bantu  Subscribe YouTuber baru kak https://you...   \n",
       "1548               Yg nonton sambil lihat komentar Like   \n",
       "2321    Mantab salam 2 periode.. 02 itu mah paling keok   \n",
       "\n",
       "                                             Comment_Id                Time  \\\n",
       "2743                         UgxS-2BLegpA35-2xhx4AaABAg 2019-04-20 01:54:06   \n",
       "86                           UgzCOP0KuCM22V4cBNJ4AaABAg 2019-04-12 01:59:13   \n",
       "2141                         UgzsyNzyqXAabgBKf0F4AaABAg 2019-12-05 11:23:59   \n",
       "569                          Ugwa7Ps9YIxUYOmASoF4AaABAg 2019-04-12 06:45:44   \n",
       "759                          UgzOKuQ06ko2R65BWcV4AaABAg 2019-04-10 15:06:11   \n",
       "716                          UgwY0aJE6M70RBDXQUd4AaABAg 2020-08-08 05:49:25   \n",
       "347                          UgxWQb3XlSWqH02u9nJ4AaABAg 2019-04-11 14:19:06   \n",
       "949                          UgyPQtqfYzEe5Ww9RnJ4AaABAg 2019-04-14 14:57:12   \n",
       "1548                         Ugz7gt0l-LqXhwk68ud4AaABAg 2019-05-02 02:23:47   \n",
       "2321  UgyHqiNt2xgNX3gnDVt4AaABAg.8t6VdzSB_-B8t6bDqImufm 2019-03-30 18:16:11   \n",
       "\n",
       "      Likes  Reply_Count       Label  Length_Comment  \n",
       "2743      0            0  legitimate               6  \n",
       "86        0            0        spam             232  \n",
       "2141      0            0  legitimate              24  \n",
       "569       0            0        spam             148  \n",
       "759       0            0        spam              68  \n",
       "716       0            0        spam             257  \n",
       "347       0            0        spam              78  \n",
       "949       0            0        spam              92  \n",
       "1548      1            0  legitimate              36  \n",
       "2321      2            0  legitimate              47  "
      ]
     },
     "execution_count": 16,
     "metadata": {},
     "output_type": "execute_result"
    }
   ],
   "source": [
    "data.sample(10)"
   ]
  },
  {
   "cell_type": "markdown",
   "metadata": {},
   "source": [
    "## EDA"
   ]
  },
  {
   "cell_type": "markdown",
   "metadata": {},
   "source": [
    "### Comments that got most "
   ]
  },
  {
   "cell_type": "code",
   "execution_count": 17,
   "metadata": {},
   "outputs": [
    {
     "name": "stdout",
     "output_type": "stream",
     "text": [
      "Komentar dengan like terbanyak adalah \n",
      " Official Teaser Trailer Film Bucin. Tayang Maret 2020. https://www.youtube.com/watch?v=rdLn2rcJjk0\n",
      "Update terbaru: Video paling populer no 1 di Indonesia tahun 2019. Terima kasih semuanya!\n",
      "Prabowo Vs Jokowi - Behind The Scenes Epic Rap Battles Of Presidency\n",
      " https://www.youtube.com/watch?v=N1X4WmVMRMg\n",
      "Prabowo VS Jokowi - Epic Rap Battles Of Presidency - Bedah Lirik - Jenius (Genius Parody) https://youtu.be/AYK71Exj0M0\n",
      "Prabowo Vs Jokowi - Bedah Lirik Part 2 https://youtu.be/prSN3P5fb0o\n",
      "Prabowo VS Jokowi - Epic Rap Battles Of Presidency (Green Screen Cut) https://youtu.be/1Ofs0y0ZeTg\n"
     ]
    }
   ],
   "source": [
    "like = data[data['Likes']== data['Likes'].max()]\n",
    "print(\"Komentar dengan like terbanyak adalah \\n {}\".format(like.iloc[0].Comment))"
   ]
  },
  {
   "cell_type": "markdown",
   "metadata": {},
   "source": [
    "### 10 YouTube Account that comments have most reply"
   ]
  },
  {
   "cell_type": "code",
   "execution_count": 18,
   "metadata": {},
   "outputs": [
    {
     "data": {
      "application/vnd.plotly.v1+json": {
       "config": {
        "plotlyServerURL": "https://plot.ly"
       },
       "data": [
        {
         "alignmentgroup": "True",
         "hovertemplate": "Youtube_Account=%{x}<br>reply_count=%{y}<extra></extra>",
         "legendgroup": "skinnyindonesian24",
         "marker": {
          "color": "#636efa",
          "pattern": {
           "shape": ""
          }
         },
         "name": "skinnyindonesian24",
         "offsetgroup": "skinnyindonesian24",
         "orientation": "v",
         "showlegend": true,
         "textposition": "auto",
         "type": "bar",
         "x": [
          "skinnyindonesian24"
         ],
         "xaxis": "x",
         "y": [
          10
         ],
         "yaxis": "y"
        },
        {
         "alignmentgroup": "True",
         "hovertemplate": "Youtube_Account=%{x}<br>reply_count=%{y}<extra></extra>",
         "legendgroup": "danu sa",
         "marker": {
          "color": "#EF553B",
          "pattern": {
           "shape": ""
          }
         },
         "name": "danu sa",
         "offsetgroup": "danu sa",
         "orientation": "v",
         "showlegend": true,
         "textposition": "auto",
         "type": "bar",
         "x": [
          "danu sa"
         ],
         "xaxis": "x",
         "y": [
          6
         ],
         "yaxis": "y"
        },
        {
         "alignmentgroup": "True",
         "hovertemplate": "Youtube_Account=%{x}<br>reply_count=%{y}<extra></extra>",
         "legendgroup": "MUR Dani",
         "marker": {
          "color": "#00cc96",
          "pattern": {
           "shape": ""
          }
         },
         "name": "MUR Dani",
         "offsetgroup": "MUR Dani",
         "orientation": "v",
         "showlegend": true,
         "textposition": "auto",
         "type": "bar",
         "x": [
          "MUR Dani"
         ],
         "xaxis": "x",
         "y": [
          5
         ],
         "yaxis": "y"
        },
        {
         "alignmentgroup": "True",
         "hovertemplate": "Youtube_Account=%{x}<br>reply_count=%{y}<extra></extra>",
         "legendgroup": "FAHA LIAN",
         "marker": {
          "color": "#ab63fa",
          "pattern": {
           "shape": ""
          }
         },
         "name": "FAHA LIAN",
         "offsetgroup": "FAHA LIAN",
         "orientation": "v",
         "showlegend": true,
         "textposition": "auto",
         "type": "bar",
         "x": [
          "FAHA LIAN"
         ],
         "xaxis": "x",
         "y": [
          5
         ],
         "yaxis": "y"
        },
        {
         "alignmentgroup": "True",
         "hovertemplate": "Youtube_Account=%{x}<br>reply_count=%{y}<extra></extra>",
         "legendgroup": "HEN DRI",
         "marker": {
          "color": "#FFA15A",
          "pattern": {
           "shape": ""
          }
         },
         "name": "HEN DRI",
         "offsetgroup": "HEN DRI",
         "orientation": "v",
         "showlegend": true,
         "textposition": "auto",
         "type": "bar",
         "x": [
          "HEN DRI"
         ],
         "xaxis": "x",
         "y": [
          5
         ],
         "yaxis": "y"
        },
        {
         "alignmentgroup": "True",
         "hovertemplate": "Youtube_Account=%{x}<br>reply_count=%{y}<extra></extra>",
         "legendgroup": "thinkxy",
         "marker": {
          "color": "#19d3f3",
          "pattern": {
           "shape": ""
          }
         },
         "name": "thinkxy",
         "offsetgroup": "thinkxy",
         "orientation": "v",
         "showlegend": true,
         "textposition": "auto",
         "type": "bar",
         "x": [
          "thinkxy"
         ],
         "xaxis": "x",
         "y": [
          4
         ],
         "yaxis": "y"
        },
        {
         "alignmentgroup": "True",
         "hovertemplate": "Youtube_Account=%{x}<br>reply_count=%{y}<extra></extra>",
         "legendgroup": "Annisa Dewi",
         "marker": {
          "color": "#FF6692",
          "pattern": {
           "shape": ""
          }
         },
         "name": "Annisa Dewi",
         "offsetgroup": "Annisa Dewi",
         "orientation": "v",
         "showlegend": true,
         "textposition": "auto",
         "type": "bar",
         "x": [
          "Annisa Dewi"
         ],
         "xaxis": "x",
         "y": [
          4
         ],
         "yaxis": "y"
        },
        {
         "alignmentgroup": "True",
         "hovertemplate": "Youtube_Account=%{x}<br>reply_count=%{y}<extra></extra>",
         "legendgroup": "ZUHUDIL ASHAR",
         "marker": {
          "color": "#B6E880",
          "pattern": {
           "shape": ""
          }
         },
         "name": "ZUHUDIL ASHAR",
         "offsetgroup": "ZUHUDIL ASHAR",
         "orientation": "v",
         "showlegend": true,
         "textposition": "auto",
         "type": "bar",
         "x": [
          "ZUHUDIL ASHAR"
         ],
         "xaxis": "x",
         "y": [
          4
         ],
         "yaxis": "y"
        },
        {
         "alignmentgroup": "True",
         "hovertemplate": "Youtube_Account=%{x}<br>reply_count=%{y}<extra></extra>",
         "legendgroup": "dio mario",
         "marker": {
          "color": "#FF97FF",
          "pattern": {
           "shape": ""
          }
         },
         "name": "dio mario",
         "offsetgroup": "dio mario",
         "orientation": "v",
         "showlegend": true,
         "textposition": "auto",
         "type": "bar",
         "x": [
          "dio mario"
         ],
         "xaxis": "x",
         "y": [
          4
         ],
         "yaxis": "y"
        },
        {
         "alignmentgroup": "True",
         "hovertemplate": "Youtube_Account=%{x}<br>reply_count=%{y}<extra></extra>",
         "legendgroup": "Terkini Channel",
         "marker": {
          "color": "#FECB52",
          "pattern": {
           "shape": ""
          }
         },
         "name": "Terkini Channel",
         "offsetgroup": "Terkini Channel",
         "orientation": "v",
         "showlegend": true,
         "textposition": "auto",
         "type": "bar",
         "x": [
          "Terkini Channel"
         ],
         "xaxis": "x",
         "y": [
          3
         ],
         "yaxis": "y"
        }
       ],
       "layout": {
        "barmode": "relative",
        "legend": {
         "title": {
          "text": "Youtube_Account"
         },
         "tracegroupgap": 0
        },
        "template": {
         "data": {
          "bar": [
           {
            "error_x": {
             "color": "#2a3f5f"
            },
            "error_y": {
             "color": "#2a3f5f"
            },
            "marker": {
             "line": {
              "color": "#E5ECF6",
              "width": 0.5
             },
             "pattern": {
              "fillmode": "overlay",
              "size": 10,
              "solidity": 0.2
             }
            },
            "type": "bar"
           }
          ],
          "barpolar": [
           {
            "marker": {
             "line": {
              "color": "#E5ECF6",
              "width": 0.5
             },
             "pattern": {
              "fillmode": "overlay",
              "size": 10,
              "solidity": 0.2
             }
            },
            "type": "barpolar"
           }
          ],
          "carpet": [
           {
            "aaxis": {
             "endlinecolor": "#2a3f5f",
             "gridcolor": "white",
             "linecolor": "white",
             "minorgridcolor": "white",
             "startlinecolor": "#2a3f5f"
            },
            "baxis": {
             "endlinecolor": "#2a3f5f",
             "gridcolor": "white",
             "linecolor": "white",
             "minorgridcolor": "white",
             "startlinecolor": "#2a3f5f"
            },
            "type": "carpet"
           }
          ],
          "choropleth": [
           {
            "colorbar": {
             "outlinewidth": 0,
             "ticks": ""
            },
            "type": "choropleth"
           }
          ],
          "contour": [
           {
            "colorbar": {
             "outlinewidth": 0,
             "ticks": ""
            },
            "colorscale": [
             [
              0,
              "#0d0887"
             ],
             [
              0.1111111111111111,
              "#46039f"
             ],
             [
              0.2222222222222222,
              "#7201a8"
             ],
             [
              0.3333333333333333,
              "#9c179e"
             ],
             [
              0.4444444444444444,
              "#bd3786"
             ],
             [
              0.5555555555555556,
              "#d8576b"
             ],
             [
              0.6666666666666666,
              "#ed7953"
             ],
             [
              0.7777777777777778,
              "#fb9f3a"
             ],
             [
              0.8888888888888888,
              "#fdca26"
             ],
             [
              1,
              "#f0f921"
             ]
            ],
            "type": "contour"
           }
          ],
          "contourcarpet": [
           {
            "colorbar": {
             "outlinewidth": 0,
             "ticks": ""
            },
            "type": "contourcarpet"
           }
          ],
          "heatmap": [
           {
            "colorbar": {
             "outlinewidth": 0,
             "ticks": ""
            },
            "colorscale": [
             [
              0,
              "#0d0887"
             ],
             [
              0.1111111111111111,
              "#46039f"
             ],
             [
              0.2222222222222222,
              "#7201a8"
             ],
             [
              0.3333333333333333,
              "#9c179e"
             ],
             [
              0.4444444444444444,
              "#bd3786"
             ],
             [
              0.5555555555555556,
              "#d8576b"
             ],
             [
              0.6666666666666666,
              "#ed7953"
             ],
             [
              0.7777777777777778,
              "#fb9f3a"
             ],
             [
              0.8888888888888888,
              "#fdca26"
             ],
             [
              1,
              "#f0f921"
             ]
            ],
            "type": "heatmap"
           }
          ],
          "heatmapgl": [
           {
            "colorbar": {
             "outlinewidth": 0,
             "ticks": ""
            },
            "colorscale": [
             [
              0,
              "#0d0887"
             ],
             [
              0.1111111111111111,
              "#46039f"
             ],
             [
              0.2222222222222222,
              "#7201a8"
             ],
             [
              0.3333333333333333,
              "#9c179e"
             ],
             [
              0.4444444444444444,
              "#bd3786"
             ],
             [
              0.5555555555555556,
              "#d8576b"
             ],
             [
              0.6666666666666666,
              "#ed7953"
             ],
             [
              0.7777777777777778,
              "#fb9f3a"
             ],
             [
              0.8888888888888888,
              "#fdca26"
             ],
             [
              1,
              "#f0f921"
             ]
            ],
            "type": "heatmapgl"
           }
          ],
          "histogram": [
           {
            "marker": {
             "pattern": {
              "fillmode": "overlay",
              "size": 10,
              "solidity": 0.2
             }
            },
            "type": "histogram"
           }
          ],
          "histogram2d": [
           {
            "colorbar": {
             "outlinewidth": 0,
             "ticks": ""
            },
            "colorscale": [
             [
              0,
              "#0d0887"
             ],
             [
              0.1111111111111111,
              "#46039f"
             ],
             [
              0.2222222222222222,
              "#7201a8"
             ],
             [
              0.3333333333333333,
              "#9c179e"
             ],
             [
              0.4444444444444444,
              "#bd3786"
             ],
             [
              0.5555555555555556,
              "#d8576b"
             ],
             [
              0.6666666666666666,
              "#ed7953"
             ],
             [
              0.7777777777777778,
              "#fb9f3a"
             ],
             [
              0.8888888888888888,
              "#fdca26"
             ],
             [
              1,
              "#f0f921"
             ]
            ],
            "type": "histogram2d"
           }
          ],
          "histogram2dcontour": [
           {
            "colorbar": {
             "outlinewidth": 0,
             "ticks": ""
            },
            "colorscale": [
             [
              0,
              "#0d0887"
             ],
             [
              0.1111111111111111,
              "#46039f"
             ],
             [
              0.2222222222222222,
              "#7201a8"
             ],
             [
              0.3333333333333333,
              "#9c179e"
             ],
             [
              0.4444444444444444,
              "#bd3786"
             ],
             [
              0.5555555555555556,
              "#d8576b"
             ],
             [
              0.6666666666666666,
              "#ed7953"
             ],
             [
              0.7777777777777778,
              "#fb9f3a"
             ],
             [
              0.8888888888888888,
              "#fdca26"
             ],
             [
              1,
              "#f0f921"
             ]
            ],
            "type": "histogram2dcontour"
           }
          ],
          "mesh3d": [
           {
            "colorbar": {
             "outlinewidth": 0,
             "ticks": ""
            },
            "type": "mesh3d"
           }
          ],
          "parcoords": [
           {
            "line": {
             "colorbar": {
              "outlinewidth": 0,
              "ticks": ""
             }
            },
            "type": "parcoords"
           }
          ],
          "pie": [
           {
            "automargin": true,
            "type": "pie"
           }
          ],
          "scatter": [
           {
            "fillpattern": {
             "fillmode": "overlay",
             "size": 10,
             "solidity": 0.2
            },
            "type": "scatter"
           }
          ],
          "scatter3d": [
           {
            "line": {
             "colorbar": {
              "outlinewidth": 0,
              "ticks": ""
             }
            },
            "marker": {
             "colorbar": {
              "outlinewidth": 0,
              "ticks": ""
             }
            },
            "type": "scatter3d"
           }
          ],
          "scattercarpet": [
           {
            "marker": {
             "colorbar": {
              "outlinewidth": 0,
              "ticks": ""
             }
            },
            "type": "scattercarpet"
           }
          ],
          "scattergeo": [
           {
            "marker": {
             "colorbar": {
              "outlinewidth": 0,
              "ticks": ""
             }
            },
            "type": "scattergeo"
           }
          ],
          "scattergl": [
           {
            "marker": {
             "colorbar": {
              "outlinewidth": 0,
              "ticks": ""
             }
            },
            "type": "scattergl"
           }
          ],
          "scattermapbox": [
           {
            "marker": {
             "colorbar": {
              "outlinewidth": 0,
              "ticks": ""
             }
            },
            "type": "scattermapbox"
           }
          ],
          "scatterpolar": [
           {
            "marker": {
             "colorbar": {
              "outlinewidth": 0,
              "ticks": ""
             }
            },
            "type": "scatterpolar"
           }
          ],
          "scatterpolargl": [
           {
            "marker": {
             "colorbar": {
              "outlinewidth": 0,
              "ticks": ""
             }
            },
            "type": "scatterpolargl"
           }
          ],
          "scatterternary": [
           {
            "marker": {
             "colorbar": {
              "outlinewidth": 0,
              "ticks": ""
             }
            },
            "type": "scatterternary"
           }
          ],
          "surface": [
           {
            "colorbar": {
             "outlinewidth": 0,
             "ticks": ""
            },
            "colorscale": [
             [
              0,
              "#0d0887"
             ],
             [
              0.1111111111111111,
              "#46039f"
             ],
             [
              0.2222222222222222,
              "#7201a8"
             ],
             [
              0.3333333333333333,
              "#9c179e"
             ],
             [
              0.4444444444444444,
              "#bd3786"
             ],
             [
              0.5555555555555556,
              "#d8576b"
             ],
             [
              0.6666666666666666,
              "#ed7953"
             ],
             [
              0.7777777777777778,
              "#fb9f3a"
             ],
             [
              0.8888888888888888,
              "#fdca26"
             ],
             [
              1,
              "#f0f921"
             ]
            ],
            "type": "surface"
           }
          ],
          "table": [
           {
            "cells": {
             "fill": {
              "color": "#EBF0F8"
             },
             "line": {
              "color": "white"
             }
            },
            "header": {
             "fill": {
              "color": "#C8D4E3"
             },
             "line": {
              "color": "white"
             }
            },
            "type": "table"
           }
          ]
         },
         "layout": {
          "annotationdefaults": {
           "arrowcolor": "#2a3f5f",
           "arrowhead": 0,
           "arrowwidth": 1
          },
          "autotypenumbers": "strict",
          "coloraxis": {
           "colorbar": {
            "outlinewidth": 0,
            "ticks": ""
           }
          },
          "colorscale": {
           "diverging": [
            [
             0,
             "#8e0152"
            ],
            [
             0.1,
             "#c51b7d"
            ],
            [
             0.2,
             "#de77ae"
            ],
            [
             0.3,
             "#f1b6da"
            ],
            [
             0.4,
             "#fde0ef"
            ],
            [
             0.5,
             "#f7f7f7"
            ],
            [
             0.6,
             "#e6f5d0"
            ],
            [
             0.7,
             "#b8e186"
            ],
            [
             0.8,
             "#7fbc41"
            ],
            [
             0.9,
             "#4d9221"
            ],
            [
             1,
             "#276419"
            ]
           ],
           "sequential": [
            [
             0,
             "#0d0887"
            ],
            [
             0.1111111111111111,
             "#46039f"
            ],
            [
             0.2222222222222222,
             "#7201a8"
            ],
            [
             0.3333333333333333,
             "#9c179e"
            ],
            [
             0.4444444444444444,
             "#bd3786"
            ],
            [
             0.5555555555555556,
             "#d8576b"
            ],
            [
             0.6666666666666666,
             "#ed7953"
            ],
            [
             0.7777777777777778,
             "#fb9f3a"
            ],
            [
             0.8888888888888888,
             "#fdca26"
            ],
            [
             1,
             "#f0f921"
            ]
           ],
           "sequentialminus": [
            [
             0,
             "#0d0887"
            ],
            [
             0.1111111111111111,
             "#46039f"
            ],
            [
             0.2222222222222222,
             "#7201a8"
            ],
            [
             0.3333333333333333,
             "#9c179e"
            ],
            [
             0.4444444444444444,
             "#bd3786"
            ],
            [
             0.5555555555555556,
             "#d8576b"
            ],
            [
             0.6666666666666666,
             "#ed7953"
            ],
            [
             0.7777777777777778,
             "#fb9f3a"
            ],
            [
             0.8888888888888888,
             "#fdca26"
            ],
            [
             1,
             "#f0f921"
            ]
           ]
          },
          "colorway": [
           "#636efa",
           "#EF553B",
           "#00cc96",
           "#ab63fa",
           "#FFA15A",
           "#19d3f3",
           "#FF6692",
           "#B6E880",
           "#FF97FF",
           "#FECB52"
          ],
          "font": {
           "color": "#2a3f5f"
          },
          "geo": {
           "bgcolor": "white",
           "lakecolor": "white",
           "landcolor": "#E5ECF6",
           "showlakes": true,
           "showland": true,
           "subunitcolor": "white"
          },
          "hoverlabel": {
           "align": "left"
          },
          "hovermode": "closest",
          "mapbox": {
           "style": "light"
          },
          "paper_bgcolor": "white",
          "plot_bgcolor": "#E5ECF6",
          "polar": {
           "angularaxis": {
            "gridcolor": "white",
            "linecolor": "white",
            "ticks": ""
           },
           "bgcolor": "#E5ECF6",
           "radialaxis": {
            "gridcolor": "white",
            "linecolor": "white",
            "ticks": ""
           }
          },
          "scene": {
           "xaxis": {
            "backgroundcolor": "#E5ECF6",
            "gridcolor": "white",
            "gridwidth": 2,
            "linecolor": "white",
            "showbackground": true,
            "ticks": "",
            "zerolinecolor": "white"
           },
           "yaxis": {
            "backgroundcolor": "#E5ECF6",
            "gridcolor": "white",
            "gridwidth": 2,
            "linecolor": "white",
            "showbackground": true,
            "ticks": "",
            "zerolinecolor": "white"
           },
           "zaxis": {
            "backgroundcolor": "#E5ECF6",
            "gridcolor": "white",
            "gridwidth": 2,
            "linecolor": "white",
            "showbackground": true,
            "ticks": "",
            "zerolinecolor": "white"
           }
          },
          "shapedefaults": {
           "line": {
            "color": "#2a3f5f"
           }
          },
          "ternary": {
           "aaxis": {
            "gridcolor": "white",
            "linecolor": "white",
            "ticks": ""
           },
           "baxis": {
            "gridcolor": "white",
            "linecolor": "white",
            "ticks": ""
           },
           "bgcolor": "#E5ECF6",
           "caxis": {
            "gridcolor": "white",
            "linecolor": "white",
            "ticks": ""
           }
          },
          "title": {
           "x": 0.05
          },
          "xaxis": {
           "automargin": true,
           "gridcolor": "white",
           "linecolor": "white",
           "ticks": "",
           "title": {
            "standoff": 15
           },
           "zerolinecolor": "white",
           "zerolinewidth": 2
          },
          "yaxis": {
           "automargin": true,
           "gridcolor": "white",
           "linecolor": "white",
           "ticks": "",
           "title": {
            "standoff": 15
           },
           "zerolinecolor": "white",
           "zerolinewidth": 2
          }
         }
        },
        "title": {
         "text": "10 YouTube Account that comments have most reply"
        },
        "xaxis": {
         "anchor": "y",
         "categoryarray": [
          "skinnyindonesian24",
          "danu sa",
          "MUR Dani",
          "FAHA LIAN",
          "HEN DRI",
          "thinkxy",
          "Annisa Dewi",
          "ZUHUDIL ASHAR",
          "dio mario",
          "Terkini Channel"
         ],
         "categoryorder": "array",
         "domain": [
          0,
          1
         ],
         "title": {
          "text": "Youtube_Account"
         }
        },
        "yaxis": {
         "anchor": "x",
         "domain": [
          0,
          1
         ],
         "title": {
          "text": "reply_count"
         }
        }
       }
      }
     },
     "metadata": {},
     "output_type": "display_data"
    }
   ],
   "source": [
    "account = data['Name'].value_counts().head(10)\n",
    "account = pd.DataFrame(data=account)\n",
    "account.reset_index(inplace=True)\n",
    "account = account.rename(columns = {\"index\" : \"Youtube_Account\",\n",
    "                                    'Name': \"reply_count\"})\n",
    "fig = px.bar(account, x='Youtube_Account', y='reply_count',\n",
    "            color='Youtube_Account', title='10 YouTube Account that comments have most reply')\n",
    "fig.show()"
   ]
  },
  {
   "cell_type": "markdown",
   "metadata": {},
   "source": [
    "### Peak time to comments"
   ]
  },
  {
   "cell_type": "code",
   "execution_count": 19,
   "metadata": {},
   "outputs": [],
   "source": [
    "peak_time = data.copy()\n",
    "times = peak_time['Time']"
   ]
  },
  {
   "cell_type": "code",
   "execution_count": 20,
   "metadata": {},
   "outputs": [
    {
     "data": {
      "text/html": [
       "<div>\n",
       "<style scoped>\n",
       "    .dataframe tbody tr th:only-of-type {\n",
       "        vertical-align: middle;\n",
       "    }\n",
       "\n",
       "    .dataframe tbody tr th {\n",
       "        vertical-align: top;\n",
       "    }\n",
       "\n",
       "    .dataframe thead th {\n",
       "        text-align: right;\n",
       "    }\n",
       "</style>\n",
       "<table border=\"1\" class=\"dataframe\">\n",
       "  <thead>\n",
       "    <tr style=\"text-align: right;\">\n",
       "      <th></th>\n",
       "      <th>Video_Id</th>\n",
       "      <th>Tittle</th>\n",
       "      <th>Name</th>\n",
       "      <th>Comment</th>\n",
       "      <th>Comment_Id</th>\n",
       "      <th>Time</th>\n",
       "      <th>Likes</th>\n",
       "      <th>Reply_Count</th>\n",
       "      <th>Label</th>\n",
       "      <th>Length_Comment</th>\n",
       "      <th>Date</th>\n",
       "    </tr>\n",
       "  </thead>\n",
       "  <tbody>\n",
       "    <tr>\n",
       "      <th>0</th>\n",
       "      <td>0iLgiRBQzzs</td>\n",
       "      <td>Panas! Jokowi VS Prabowo Saling Serang soal Ko...</td>\n",
       "      <td>Doharman Patimura Waruwu</td>\n",
       "      <td>https://youtu.be/LBKGyxnpMCU</td>\n",
       "      <td>Ugz-zdD0s87dSDzITuh4AaABAg</td>\n",
       "      <td>2019-01-17 23:06:24</td>\n",
       "      <td>0</td>\n",
       "      <td>0</td>\n",
       "      <td>spam</td>\n",
       "      <td>28</td>\n",
       "      <td>Thursday</td>\n",
       "    </tr>\n",
       "    <tr>\n",
       "      <th>1</th>\n",
       "      <td>AP0NACavjfk</td>\n",
       "      <td>SkinnyIndonesian24 | Prabowo VS Jokowi - Epic ...</td>\n",
       "      <td>Akiru Syakir</td>\n",
       "      <td>Bantu subscribe youtube gw dong</td>\n",
       "      <td>UgwQM2OHIzkVDtu0PIN4AaABAg</td>\n",
       "      <td>2019-04-10 22:40:00</td>\n",
       "      <td>0</td>\n",
       "      <td>0</td>\n",
       "      <td>spam</td>\n",
       "      <td>31</td>\n",
       "      <td>Wednesday</td>\n",
       "    </tr>\n",
       "    <tr>\n",
       "      <th>2</th>\n",
       "      <td>AP0NACavjfk</td>\n",
       "      <td>SkinnyIndonesian24 | Prabowo VS Jokowi - Epic ...</td>\n",
       "      <td>Teguh Wage Prakoso</td>\n",
       "      <td>hachimon tonkou, kalau buka gerbang ke 8 auto ...</td>\n",
       "      <td>Ugyh7dOOI2953Exf3cp4AaABAg.8tUY_eVh77e8tUhBosQJLg</td>\n",
       "      <td>2019-04-09 02:50:06</td>\n",
       "      <td>0</td>\n",
       "      <td>0</td>\n",
       "      <td>spam</td>\n",
       "      <td>57</td>\n",
       "      <td>Tuesday</td>\n",
       "    </tr>\n",
       "    <tr>\n",
       "      <th>3</th>\n",
       "      <td>AP0NACavjfk</td>\n",
       "      <td>SkinnyIndonesian24 | Prabowo VS Jokowi - Epic ...</td>\n",
       "      <td>hidayah</td>\n",
       "      <td>https://www.youtube.com/channel/UC_iQ1hcNxz1ir...</td>\n",
       "      <td>UgxA-h0VMWXoShPkFEZ4AaABAg</td>\n",
       "      <td>2019-04-10 12:25:49</td>\n",
       "      <td>0</td>\n",
       "      <td>0</td>\n",
       "      <td>spam</td>\n",
       "      <td>56</td>\n",
       "      <td>Wednesday</td>\n",
       "    </tr>\n",
       "    <tr>\n",
       "      <th>4</th>\n",
       "      <td>AP0NACavjfk</td>\n",
       "      <td>SkinnyIndonesian24 | Prabowo VS Jokowi - Epic ...</td>\n",
       "      <td>Derisma Ae</td>\n",
       "      <td>https://youtu.be/aS1FIPcCuh4 CH: Derisma ae, m...</td>\n",
       "      <td>UgybtnYbYjDF7YZJAdN4AaABAg</td>\n",
       "      <td>2019-04-15 16:00:05</td>\n",
       "      <td>0</td>\n",
       "      <td>0</td>\n",
       "      <td>spam</td>\n",
       "      <td>88</td>\n",
       "      <td>Monday</td>\n",
       "    </tr>\n",
       "  </tbody>\n",
       "</table>\n",
       "</div>"
      ],
      "text/plain": [
       "      Video_Id                                             Tittle  \\\n",
       "0  0iLgiRBQzzs  Panas! Jokowi VS Prabowo Saling Serang soal Ko...   \n",
       "1  AP0NACavjfk  SkinnyIndonesian24 | Prabowo VS Jokowi - Epic ...   \n",
       "2  AP0NACavjfk  SkinnyIndonesian24 | Prabowo VS Jokowi - Epic ...   \n",
       "3  AP0NACavjfk  SkinnyIndonesian24 | Prabowo VS Jokowi - Epic ...   \n",
       "4  AP0NACavjfk  SkinnyIndonesian24 | Prabowo VS Jokowi - Epic ...   \n",
       "\n",
       "                       Name  \\\n",
       "0  Doharman Patimura Waruwu   \n",
       "1              Akiru Syakir   \n",
       "2        Teguh Wage Prakoso   \n",
       "3                   hidayah   \n",
       "4                Derisma Ae   \n",
       "\n",
       "                                             Comment  \\\n",
       "0                       https://youtu.be/LBKGyxnpMCU   \n",
       "1                    Bantu subscribe youtube gw dong   \n",
       "2  hachimon tonkou, kalau buka gerbang ke 8 auto ...   \n",
       "3  https://www.youtube.com/channel/UC_iQ1hcNxz1ir...   \n",
       "4  https://youtu.be/aS1FIPcCuh4 CH: Derisma ae, m...   \n",
       "\n",
       "                                          Comment_Id                Time  \\\n",
       "0                         Ugz-zdD0s87dSDzITuh4AaABAg 2019-01-17 23:06:24   \n",
       "1                         UgwQM2OHIzkVDtu0PIN4AaABAg 2019-04-10 22:40:00   \n",
       "2  Ugyh7dOOI2953Exf3cp4AaABAg.8tUY_eVh77e8tUhBosQJLg 2019-04-09 02:50:06   \n",
       "3                         UgxA-h0VMWXoShPkFEZ4AaABAg 2019-04-10 12:25:49   \n",
       "4                         UgybtnYbYjDF7YZJAdN4AaABAg 2019-04-15 16:00:05   \n",
       "\n",
       "   Likes  Reply_Count Label  Length_Comment       Date  \n",
       "0      0            0  spam              28   Thursday  \n",
       "1      0            0  spam              31  Wednesday  \n",
       "2      0            0  spam              57    Tuesday  \n",
       "3      0            0  spam              56  Wednesday  \n",
       "4      0            0  spam              88     Monday  "
      ]
     },
     "execution_count": 20,
     "metadata": {},
     "output_type": "execute_result"
    }
   ],
   "source": [
    "peak_time[\"Date\"] = peak_time[\"Time\"].dt.day_name()\n",
    "peak_time.head(5)"
   ]
  },
  {
   "cell_type": "code",
   "execution_count": 21,
   "metadata": {},
   "outputs": [
    {
     "data": {
      "text/plain": [
       "0    23:06:24\n",
       "1    22:40:00\n",
       "2    02:50:06\n",
       "3    12:25:49\n",
       "4    16:00:05\n",
       "Name: Period, dtype: object"
      ]
     },
     "execution_count": 21,
     "metadata": {},
     "output_type": "execute_result"
    }
   ],
   "source": [
    "def time(date):\n",
    "    Time = date.time()\n",
    "    return Time\n",
    "\n",
    "peak_time['Period'] = times.map(time)\n",
    "peak_time['Period'].head()"
   ]
  },
  {
   "cell_type": "code",
   "execution_count": 22,
   "metadata": {},
   "outputs": [],
   "source": [
    "def time_groups(time):\n",
    "    if time >= datetime.time(0,0) and time <= datetime.time(1,0):\n",
    "        return '24:00 - 01:00'\n",
    "    elif time >= datetime.time(1,0) and time <= datetime.time(2,0):\n",
    "        return '01:00 - 02:00 '\n",
    "    elif time >= datetime.time(2,0) and time <= datetime.time(3,0):\n",
    "        return '02:00 - 03:00 '\n",
    "    elif time >= datetime.time(3,0) and time <= datetime.time(4,0):\n",
    "        return '03:00 - 04:00'\n",
    "    elif time >= datetime.time(4,0) and time <= datetime.time(5,0):\n",
    "        return '04:00 - 05:00'\n",
    "    elif time >= datetime.time(5,0) and time <= datetime.time(6,0):\n",
    "        return '05:00 - 06:00 '\n",
    "    elif time >= datetime.time(6,0) and time <= datetime.time(7,0):\n",
    "        return '06:00 - 07:00 '\n",
    "    elif time >= datetime.time(7,0) and time <= datetime.time(8,0):\n",
    "        return '07:00 - 08:00 '\n",
    "    elif time >= datetime.time(8,0) and time <= datetime.time(9,0):\n",
    "        return '08:00 - 09:00 '\n",
    "    elif time >= datetime.time(9,0) and time <= datetime.time(10,0):\n",
    "        return '09:00 - 10:00 '\n",
    "    elif time >= datetime.time(10,0) and time <= datetime.time(11,0):\n",
    "        return '10:00 - 11:00 '\n",
    "    elif time >= datetime.time(11,0) and time <= datetime.time(12,0):\n",
    "        return '11:00 - 12:00'\n",
    "    elif time >= datetime.time(12,0) and time <= datetime.time(13,0):\n",
    "        return '12:00 - 13:00'\n",
    "    elif time >= datetime.time(13,0) and time <= datetime.time(14,0):\n",
    "        return '13:00 - 14:00'\n",
    "    elif time >= datetime.time(14,0) and time <= datetime.time(15,0):\n",
    "        return '14:00 - 15:00'\n",
    "    elif time >= datetime.time(15,0) and time <= datetime.time(16,0):\n",
    "        return '15:00 - 16:00'\n",
    "    elif time >= datetime.time(16,0) and time <= datetime.time(17,0):\n",
    "        return '16:00 - 17:00'\n",
    "    elif time >= datetime.time(17,0) and time <= datetime.time(18,0):\n",
    "        return '17:00 - 18:00'\n",
    "    elif time >= datetime.time(18,0) and time <= datetime.time(19,0):\n",
    "        return '18:00 - 19:00'\n",
    "    elif time >= datetime.time(19,0) and time <= datetime.time(20,0):\n",
    "        return '19:00 - 20:00'\n",
    "    elif time >= datetime.time(20,0) and time <= datetime.time(21,0):\n",
    "        return '20:00 - 21:00'\n",
    "    elif time >= datetime.time(21,0) and time <= datetime.time(22,0):\n",
    "        return '21:00 - 22:00'\n",
    "    elif time >= datetime.time(22,0) and time <= datetime.time(23,0):\n",
    "        return '22:00 - 23:00'\n",
    "    elif time >= datetime.time(23,0) and time <= datetime.time(23,59):\n",
    "        return '23:00 - 24:00'\n",
    "    else:\n",
    "        return 'other'"
   ]
  },
  {
   "cell_type": "code",
   "execution_count": 23,
   "metadata": {},
   "outputs": [
    {
     "data": {
      "text/html": [
       "<div>\n",
       "<style scoped>\n",
       "    .dataframe tbody tr th:only-of-type {\n",
       "        vertical-align: middle;\n",
       "    }\n",
       "\n",
       "    .dataframe tbody tr th {\n",
       "        vertical-align: top;\n",
       "    }\n",
       "\n",
       "    .dataframe thead th {\n",
       "        text-align: right;\n",
       "    }\n",
       "</style>\n",
       "<table border=\"1\" class=\"dataframe\">\n",
       "  <thead>\n",
       "    <tr style=\"text-align: right;\">\n",
       "      <th></th>\n",
       "      <th>Video_Id</th>\n",
       "      <th>Tittle</th>\n",
       "      <th>Name</th>\n",
       "      <th>Comment</th>\n",
       "      <th>Comment_Id</th>\n",
       "      <th>Time</th>\n",
       "      <th>Likes</th>\n",
       "      <th>Reply_Count</th>\n",
       "      <th>Label</th>\n",
       "      <th>Length_Comment</th>\n",
       "      <th>Date</th>\n",
       "      <th>Period</th>\n",
       "      <th>Period_groups</th>\n",
       "    </tr>\n",
       "  </thead>\n",
       "  <tbody>\n",
       "    <tr>\n",
       "      <th>0</th>\n",
       "      <td>0iLgiRBQzzs</td>\n",
       "      <td>Panas! Jokowi VS Prabowo Saling Serang soal Ko...</td>\n",
       "      <td>Doharman Patimura Waruwu</td>\n",
       "      <td>https://youtu.be/LBKGyxnpMCU</td>\n",
       "      <td>Ugz-zdD0s87dSDzITuh4AaABAg</td>\n",
       "      <td>2019-01-17 23:06:24</td>\n",
       "      <td>0</td>\n",
       "      <td>0</td>\n",
       "      <td>spam</td>\n",
       "      <td>28</td>\n",
       "      <td>Thursday</td>\n",
       "      <td>23:06:24</td>\n",
       "      <td>23:00 - 24:00</td>\n",
       "    </tr>\n",
       "    <tr>\n",
       "      <th>1</th>\n",
       "      <td>AP0NACavjfk</td>\n",
       "      <td>SkinnyIndonesian24 | Prabowo VS Jokowi - Epic ...</td>\n",
       "      <td>Akiru Syakir</td>\n",
       "      <td>Bantu subscribe youtube gw dong</td>\n",
       "      <td>UgwQM2OHIzkVDtu0PIN4AaABAg</td>\n",
       "      <td>2019-04-10 22:40:00</td>\n",
       "      <td>0</td>\n",
       "      <td>0</td>\n",
       "      <td>spam</td>\n",
       "      <td>31</td>\n",
       "      <td>Wednesday</td>\n",
       "      <td>22:40:00</td>\n",
       "      <td>22:00 - 23:00</td>\n",
       "    </tr>\n",
       "    <tr>\n",
       "      <th>2</th>\n",
       "      <td>AP0NACavjfk</td>\n",
       "      <td>SkinnyIndonesian24 | Prabowo VS Jokowi - Epic ...</td>\n",
       "      <td>Teguh Wage Prakoso</td>\n",
       "      <td>hachimon tonkou, kalau buka gerbang ke 8 auto ...</td>\n",
       "      <td>Ugyh7dOOI2953Exf3cp4AaABAg.8tUY_eVh77e8tUhBosQJLg</td>\n",
       "      <td>2019-04-09 02:50:06</td>\n",
       "      <td>0</td>\n",
       "      <td>0</td>\n",
       "      <td>spam</td>\n",
       "      <td>57</td>\n",
       "      <td>Tuesday</td>\n",
       "      <td>02:50:06</td>\n",
       "      <td>02:00 - 03:00</td>\n",
       "    </tr>\n",
       "    <tr>\n",
       "      <th>3</th>\n",
       "      <td>AP0NACavjfk</td>\n",
       "      <td>SkinnyIndonesian24 | Prabowo VS Jokowi - Epic ...</td>\n",
       "      <td>hidayah</td>\n",
       "      <td>https://www.youtube.com/channel/UC_iQ1hcNxz1ir...</td>\n",
       "      <td>UgxA-h0VMWXoShPkFEZ4AaABAg</td>\n",
       "      <td>2019-04-10 12:25:49</td>\n",
       "      <td>0</td>\n",
       "      <td>0</td>\n",
       "      <td>spam</td>\n",
       "      <td>56</td>\n",
       "      <td>Wednesday</td>\n",
       "      <td>12:25:49</td>\n",
       "      <td>12:00 - 13:00</td>\n",
       "    </tr>\n",
       "    <tr>\n",
       "      <th>4</th>\n",
       "      <td>AP0NACavjfk</td>\n",
       "      <td>SkinnyIndonesian24 | Prabowo VS Jokowi - Epic ...</td>\n",
       "      <td>Derisma Ae</td>\n",
       "      <td>https://youtu.be/aS1FIPcCuh4 CH: Derisma ae, m...</td>\n",
       "      <td>UgybtnYbYjDF7YZJAdN4AaABAg</td>\n",
       "      <td>2019-04-15 16:00:05</td>\n",
       "      <td>0</td>\n",
       "      <td>0</td>\n",
       "      <td>spam</td>\n",
       "      <td>88</td>\n",
       "      <td>Monday</td>\n",
       "      <td>16:00:05</td>\n",
       "      <td>16:00 - 17:00</td>\n",
       "    </tr>\n",
       "  </tbody>\n",
       "</table>\n",
       "</div>"
      ],
      "text/plain": [
       "      Video_Id                                             Tittle  \\\n",
       "0  0iLgiRBQzzs  Panas! Jokowi VS Prabowo Saling Serang soal Ko...   \n",
       "1  AP0NACavjfk  SkinnyIndonesian24 | Prabowo VS Jokowi - Epic ...   \n",
       "2  AP0NACavjfk  SkinnyIndonesian24 | Prabowo VS Jokowi - Epic ...   \n",
       "3  AP0NACavjfk  SkinnyIndonesian24 | Prabowo VS Jokowi - Epic ...   \n",
       "4  AP0NACavjfk  SkinnyIndonesian24 | Prabowo VS Jokowi - Epic ...   \n",
       "\n",
       "                       Name  \\\n",
       "0  Doharman Patimura Waruwu   \n",
       "1              Akiru Syakir   \n",
       "2        Teguh Wage Prakoso   \n",
       "3                   hidayah   \n",
       "4                Derisma Ae   \n",
       "\n",
       "                                             Comment  \\\n",
       "0                       https://youtu.be/LBKGyxnpMCU   \n",
       "1                    Bantu subscribe youtube gw dong   \n",
       "2  hachimon tonkou, kalau buka gerbang ke 8 auto ...   \n",
       "3  https://www.youtube.com/channel/UC_iQ1hcNxz1ir...   \n",
       "4  https://youtu.be/aS1FIPcCuh4 CH: Derisma ae, m...   \n",
       "\n",
       "                                          Comment_Id                Time  \\\n",
       "0                         Ugz-zdD0s87dSDzITuh4AaABAg 2019-01-17 23:06:24   \n",
       "1                         UgwQM2OHIzkVDtu0PIN4AaABAg 2019-04-10 22:40:00   \n",
       "2  Ugyh7dOOI2953Exf3cp4AaABAg.8tUY_eVh77e8tUhBosQJLg 2019-04-09 02:50:06   \n",
       "3                         UgxA-h0VMWXoShPkFEZ4AaABAg 2019-04-10 12:25:49   \n",
       "4                         UgybtnYbYjDF7YZJAdN4AaABAg 2019-04-15 16:00:05   \n",
       "\n",
       "   Likes  Reply_Count Label  Length_Comment       Date    Period  \\\n",
       "0      0            0  spam              28   Thursday  23:06:24   \n",
       "1      0            0  spam              31  Wednesday  22:40:00   \n",
       "2      0            0  spam              57    Tuesday  02:50:06   \n",
       "3      0            0  spam              56  Wednesday  12:25:49   \n",
       "4      0            0  spam              88     Monday  16:00:05   \n",
       "\n",
       "    Period_groups  \n",
       "0   23:00 - 24:00  \n",
       "1   22:00 - 23:00  \n",
       "2  02:00 - 03:00   \n",
       "3   12:00 - 13:00  \n",
       "4   16:00 - 17:00  "
      ]
     },
     "execution_count": 23,
     "metadata": {},
     "output_type": "execute_result"
    }
   ],
   "source": [
    "peak_time[\"Period_groups\"] = peak_time['Period'].map(time_groups)\n",
    "peak_time.head()"
   ]
  },
  {
   "cell_type": "code",
   "execution_count": 24,
   "metadata": {},
   "outputs": [
    {
     "data": {
      "application/vnd.plotly.v1+json": {
       "config": {
        "plotlyServerURL": "https://plot.ly"
       },
       "data": [
        {
         "alignmentgroup": "True",
         "hovertemplate": "Time=%{x}<br>Most Comment=%{y}<extra></extra>",
         "legendgroup": "13:00 - 14:00",
         "marker": {
          "color": "#636efa",
          "pattern": {
           "shape": ""
          }
         },
         "name": "13:00 - 14:00",
         "offsetgroup": "13:00 - 14:00",
         "orientation": "v",
         "showlegend": true,
         "textposition": "auto",
         "type": "bar",
         "x": [
          "13:00 - 14:00"
         ],
         "xaxis": "x",
         "y": [
          210
         ],
         "yaxis": "y"
        },
        {
         "alignmentgroup": "True",
         "hovertemplate": "Time=%{x}<br>Most Comment=%{y}<extra></extra>",
         "legendgroup": "14:00 - 15:00",
         "marker": {
          "color": "#EF553B",
          "pattern": {
           "shape": ""
          }
         },
         "name": "14:00 - 15:00",
         "offsetgroup": "14:00 - 15:00",
         "orientation": "v",
         "showlegend": true,
         "textposition": "auto",
         "type": "bar",
         "x": [
          "14:00 - 15:00"
         ],
         "xaxis": "x",
         "y": [
          200
         ],
         "yaxis": "y"
        },
        {
         "alignmentgroup": "True",
         "hovertemplate": "Time=%{x}<br>Most Comment=%{y}<extra></extra>",
         "legendgroup": "15:00 - 16:00",
         "marker": {
          "color": "#00cc96",
          "pattern": {
           "shape": ""
          }
         },
         "name": "15:00 - 16:00",
         "offsetgroup": "15:00 - 16:00",
         "orientation": "v",
         "showlegend": true,
         "textposition": "auto",
         "type": "bar",
         "x": [
          "15:00 - 16:00"
         ],
         "xaxis": "x",
         "y": [
          178
         ],
         "yaxis": "y"
        },
        {
         "alignmentgroup": "True",
         "hovertemplate": "Time=%{x}<br>Most Comment=%{y}<extra></extra>",
         "legendgroup": "12:00 - 13:00",
         "marker": {
          "color": "#ab63fa",
          "pattern": {
           "shape": ""
          }
         },
         "name": "12:00 - 13:00",
         "offsetgroup": "12:00 - 13:00",
         "orientation": "v",
         "showlegend": true,
         "textposition": "auto",
         "type": "bar",
         "x": [
          "12:00 - 13:00"
         ],
         "xaxis": "x",
         "y": [
          176
         ],
         "yaxis": "y"
        },
        {
         "alignmentgroup": "True",
         "hovertemplate": "Time=%{x}<br>Most Comment=%{y}<extra></extra>",
         "legendgroup": "09:00 - 10:00 ",
         "marker": {
          "color": "#FFA15A",
          "pattern": {
           "shape": ""
          }
         },
         "name": "09:00 - 10:00 ",
         "offsetgroup": "09:00 - 10:00 ",
         "orientation": "v",
         "showlegend": true,
         "textposition": "auto",
         "type": "bar",
         "x": [
          "09:00 - 10:00 "
         ],
         "xaxis": "x",
         "y": [
          170
         ],
         "yaxis": "y"
        },
        {
         "alignmentgroup": "True",
         "hovertemplate": "Time=%{x}<br>Most Comment=%{y}<extra></extra>",
         "legendgroup": "11:00 - 12:00",
         "marker": {
          "color": "#19d3f3",
          "pattern": {
           "shape": ""
          }
         },
         "name": "11:00 - 12:00",
         "offsetgroup": "11:00 - 12:00",
         "orientation": "v",
         "showlegend": true,
         "textposition": "auto",
         "type": "bar",
         "x": [
          "11:00 - 12:00"
         ],
         "xaxis": "x",
         "y": [
          160
         ],
         "yaxis": "y"
        },
        {
         "alignmentgroup": "True",
         "hovertemplate": "Time=%{x}<br>Most Comment=%{y}<extra></extra>",
         "legendgroup": "10:00 - 11:00 ",
         "marker": {
          "color": "#FF6692",
          "pattern": {
           "shape": ""
          }
         },
         "name": "10:00 - 11:00 ",
         "offsetgroup": "10:00 - 11:00 ",
         "orientation": "v",
         "showlegend": true,
         "textposition": "auto",
         "type": "bar",
         "x": [
          "10:00 - 11:00 "
         ],
         "xaxis": "x",
         "y": [
          151
         ],
         "yaxis": "y"
        },
        {
         "alignmentgroup": "True",
         "hovertemplate": "Time=%{x}<br>Most Comment=%{y}<extra></extra>",
         "legendgroup": "07:00 - 08:00 ",
         "marker": {
          "color": "#B6E880",
          "pattern": {
           "shape": ""
          }
         },
         "name": "07:00 - 08:00 ",
         "offsetgroup": "07:00 - 08:00 ",
         "orientation": "v",
         "showlegend": true,
         "textposition": "auto",
         "type": "bar",
         "x": [
          "07:00 - 08:00 "
         ],
         "xaxis": "x",
         "y": [
          149
         ],
         "yaxis": "y"
        },
        {
         "alignmentgroup": "True",
         "hovertemplate": "Time=%{x}<br>Most Comment=%{y}<extra></extra>",
         "legendgroup": "08:00 - 09:00 ",
         "marker": {
          "color": "#FF97FF",
          "pattern": {
           "shape": ""
          }
         },
         "name": "08:00 - 09:00 ",
         "offsetgroup": "08:00 - 09:00 ",
         "orientation": "v",
         "showlegend": true,
         "textposition": "auto",
         "type": "bar",
         "x": [
          "08:00 - 09:00 "
         ],
         "xaxis": "x",
         "y": [
          149
         ],
         "yaxis": "y"
        },
        {
         "alignmentgroup": "True",
         "hovertemplate": "Time=%{x}<br>Most Comment=%{y}<extra></extra>",
         "legendgroup": "05:00 - 06:00 ",
         "marker": {
          "color": "#FECB52",
          "pattern": {
           "shape": ""
          }
         },
         "name": "05:00 - 06:00 ",
         "offsetgroup": "05:00 - 06:00 ",
         "orientation": "v",
         "showlegend": true,
         "textposition": "auto",
         "type": "bar",
         "x": [
          "05:00 - 06:00 "
         ],
         "xaxis": "x",
         "y": [
          147
         ],
         "yaxis": "y"
        }
       ],
       "layout": {
        "barmode": "relative",
        "height": 400,
        "legend": {
         "title": {
          "text": "Time"
         },
         "tracegroupgap": 0
        },
        "template": {
         "data": {
          "bar": [
           {
            "error_x": {
             "color": "#2a3f5f"
            },
            "error_y": {
             "color": "#2a3f5f"
            },
            "marker": {
             "line": {
              "color": "#E5ECF6",
              "width": 0.5
             },
             "pattern": {
              "fillmode": "overlay",
              "size": 10,
              "solidity": 0.2
             }
            },
            "type": "bar"
           }
          ],
          "barpolar": [
           {
            "marker": {
             "line": {
              "color": "#E5ECF6",
              "width": 0.5
             },
             "pattern": {
              "fillmode": "overlay",
              "size": 10,
              "solidity": 0.2
             }
            },
            "type": "barpolar"
           }
          ],
          "carpet": [
           {
            "aaxis": {
             "endlinecolor": "#2a3f5f",
             "gridcolor": "white",
             "linecolor": "white",
             "minorgridcolor": "white",
             "startlinecolor": "#2a3f5f"
            },
            "baxis": {
             "endlinecolor": "#2a3f5f",
             "gridcolor": "white",
             "linecolor": "white",
             "minorgridcolor": "white",
             "startlinecolor": "#2a3f5f"
            },
            "type": "carpet"
           }
          ],
          "choropleth": [
           {
            "colorbar": {
             "outlinewidth": 0,
             "ticks": ""
            },
            "type": "choropleth"
           }
          ],
          "contour": [
           {
            "colorbar": {
             "outlinewidth": 0,
             "ticks": ""
            },
            "colorscale": [
             [
              0,
              "#0d0887"
             ],
             [
              0.1111111111111111,
              "#46039f"
             ],
             [
              0.2222222222222222,
              "#7201a8"
             ],
             [
              0.3333333333333333,
              "#9c179e"
             ],
             [
              0.4444444444444444,
              "#bd3786"
             ],
             [
              0.5555555555555556,
              "#d8576b"
             ],
             [
              0.6666666666666666,
              "#ed7953"
             ],
             [
              0.7777777777777778,
              "#fb9f3a"
             ],
             [
              0.8888888888888888,
              "#fdca26"
             ],
             [
              1,
              "#f0f921"
             ]
            ],
            "type": "contour"
           }
          ],
          "contourcarpet": [
           {
            "colorbar": {
             "outlinewidth": 0,
             "ticks": ""
            },
            "type": "contourcarpet"
           }
          ],
          "heatmap": [
           {
            "colorbar": {
             "outlinewidth": 0,
             "ticks": ""
            },
            "colorscale": [
             [
              0,
              "#0d0887"
             ],
             [
              0.1111111111111111,
              "#46039f"
             ],
             [
              0.2222222222222222,
              "#7201a8"
             ],
             [
              0.3333333333333333,
              "#9c179e"
             ],
             [
              0.4444444444444444,
              "#bd3786"
             ],
             [
              0.5555555555555556,
              "#d8576b"
             ],
             [
              0.6666666666666666,
              "#ed7953"
             ],
             [
              0.7777777777777778,
              "#fb9f3a"
             ],
             [
              0.8888888888888888,
              "#fdca26"
             ],
             [
              1,
              "#f0f921"
             ]
            ],
            "type": "heatmap"
           }
          ],
          "heatmapgl": [
           {
            "colorbar": {
             "outlinewidth": 0,
             "ticks": ""
            },
            "colorscale": [
             [
              0,
              "#0d0887"
             ],
             [
              0.1111111111111111,
              "#46039f"
             ],
             [
              0.2222222222222222,
              "#7201a8"
             ],
             [
              0.3333333333333333,
              "#9c179e"
             ],
             [
              0.4444444444444444,
              "#bd3786"
             ],
             [
              0.5555555555555556,
              "#d8576b"
             ],
             [
              0.6666666666666666,
              "#ed7953"
             ],
             [
              0.7777777777777778,
              "#fb9f3a"
             ],
             [
              0.8888888888888888,
              "#fdca26"
             ],
             [
              1,
              "#f0f921"
             ]
            ],
            "type": "heatmapgl"
           }
          ],
          "histogram": [
           {
            "marker": {
             "pattern": {
              "fillmode": "overlay",
              "size": 10,
              "solidity": 0.2
             }
            },
            "type": "histogram"
           }
          ],
          "histogram2d": [
           {
            "colorbar": {
             "outlinewidth": 0,
             "ticks": ""
            },
            "colorscale": [
             [
              0,
              "#0d0887"
             ],
             [
              0.1111111111111111,
              "#46039f"
             ],
             [
              0.2222222222222222,
              "#7201a8"
             ],
             [
              0.3333333333333333,
              "#9c179e"
             ],
             [
              0.4444444444444444,
              "#bd3786"
             ],
             [
              0.5555555555555556,
              "#d8576b"
             ],
             [
              0.6666666666666666,
              "#ed7953"
             ],
             [
              0.7777777777777778,
              "#fb9f3a"
             ],
             [
              0.8888888888888888,
              "#fdca26"
             ],
             [
              1,
              "#f0f921"
             ]
            ],
            "type": "histogram2d"
           }
          ],
          "histogram2dcontour": [
           {
            "colorbar": {
             "outlinewidth": 0,
             "ticks": ""
            },
            "colorscale": [
             [
              0,
              "#0d0887"
             ],
             [
              0.1111111111111111,
              "#46039f"
             ],
             [
              0.2222222222222222,
              "#7201a8"
             ],
             [
              0.3333333333333333,
              "#9c179e"
             ],
             [
              0.4444444444444444,
              "#bd3786"
             ],
             [
              0.5555555555555556,
              "#d8576b"
             ],
             [
              0.6666666666666666,
              "#ed7953"
             ],
             [
              0.7777777777777778,
              "#fb9f3a"
             ],
             [
              0.8888888888888888,
              "#fdca26"
             ],
             [
              1,
              "#f0f921"
             ]
            ],
            "type": "histogram2dcontour"
           }
          ],
          "mesh3d": [
           {
            "colorbar": {
             "outlinewidth": 0,
             "ticks": ""
            },
            "type": "mesh3d"
           }
          ],
          "parcoords": [
           {
            "line": {
             "colorbar": {
              "outlinewidth": 0,
              "ticks": ""
             }
            },
            "type": "parcoords"
           }
          ],
          "pie": [
           {
            "automargin": true,
            "type": "pie"
           }
          ],
          "scatter": [
           {
            "fillpattern": {
             "fillmode": "overlay",
             "size": 10,
             "solidity": 0.2
            },
            "type": "scatter"
           }
          ],
          "scatter3d": [
           {
            "line": {
             "colorbar": {
              "outlinewidth": 0,
              "ticks": ""
             }
            },
            "marker": {
             "colorbar": {
              "outlinewidth": 0,
              "ticks": ""
             }
            },
            "type": "scatter3d"
           }
          ],
          "scattercarpet": [
           {
            "marker": {
             "colorbar": {
              "outlinewidth": 0,
              "ticks": ""
             }
            },
            "type": "scattercarpet"
           }
          ],
          "scattergeo": [
           {
            "marker": {
             "colorbar": {
              "outlinewidth": 0,
              "ticks": ""
             }
            },
            "type": "scattergeo"
           }
          ],
          "scattergl": [
           {
            "marker": {
             "colorbar": {
              "outlinewidth": 0,
              "ticks": ""
             }
            },
            "type": "scattergl"
           }
          ],
          "scattermapbox": [
           {
            "marker": {
             "colorbar": {
              "outlinewidth": 0,
              "ticks": ""
             }
            },
            "type": "scattermapbox"
           }
          ],
          "scatterpolar": [
           {
            "marker": {
             "colorbar": {
              "outlinewidth": 0,
              "ticks": ""
             }
            },
            "type": "scatterpolar"
           }
          ],
          "scatterpolargl": [
           {
            "marker": {
             "colorbar": {
              "outlinewidth": 0,
              "ticks": ""
             }
            },
            "type": "scatterpolargl"
           }
          ],
          "scatterternary": [
           {
            "marker": {
             "colorbar": {
              "outlinewidth": 0,
              "ticks": ""
             }
            },
            "type": "scatterternary"
           }
          ],
          "surface": [
           {
            "colorbar": {
             "outlinewidth": 0,
             "ticks": ""
            },
            "colorscale": [
             [
              0,
              "#0d0887"
             ],
             [
              0.1111111111111111,
              "#46039f"
             ],
             [
              0.2222222222222222,
              "#7201a8"
             ],
             [
              0.3333333333333333,
              "#9c179e"
             ],
             [
              0.4444444444444444,
              "#bd3786"
             ],
             [
              0.5555555555555556,
              "#d8576b"
             ],
             [
              0.6666666666666666,
              "#ed7953"
             ],
             [
              0.7777777777777778,
              "#fb9f3a"
             ],
             [
              0.8888888888888888,
              "#fdca26"
             ],
             [
              1,
              "#f0f921"
             ]
            ],
            "type": "surface"
           }
          ],
          "table": [
           {
            "cells": {
             "fill": {
              "color": "#EBF0F8"
             },
             "line": {
              "color": "white"
             }
            },
            "header": {
             "fill": {
              "color": "#C8D4E3"
             },
             "line": {
              "color": "white"
             }
            },
            "type": "table"
           }
          ]
         },
         "layout": {
          "annotationdefaults": {
           "arrowcolor": "#2a3f5f",
           "arrowhead": 0,
           "arrowwidth": 1
          },
          "autotypenumbers": "strict",
          "coloraxis": {
           "colorbar": {
            "outlinewidth": 0,
            "ticks": ""
           }
          },
          "colorscale": {
           "diverging": [
            [
             0,
             "#8e0152"
            ],
            [
             0.1,
             "#c51b7d"
            ],
            [
             0.2,
             "#de77ae"
            ],
            [
             0.3,
             "#f1b6da"
            ],
            [
             0.4,
             "#fde0ef"
            ],
            [
             0.5,
             "#f7f7f7"
            ],
            [
             0.6,
             "#e6f5d0"
            ],
            [
             0.7,
             "#b8e186"
            ],
            [
             0.8,
             "#7fbc41"
            ],
            [
             0.9,
             "#4d9221"
            ],
            [
             1,
             "#276419"
            ]
           ],
           "sequential": [
            [
             0,
             "#0d0887"
            ],
            [
             0.1111111111111111,
             "#46039f"
            ],
            [
             0.2222222222222222,
             "#7201a8"
            ],
            [
             0.3333333333333333,
             "#9c179e"
            ],
            [
             0.4444444444444444,
             "#bd3786"
            ],
            [
             0.5555555555555556,
             "#d8576b"
            ],
            [
             0.6666666666666666,
             "#ed7953"
            ],
            [
             0.7777777777777778,
             "#fb9f3a"
            ],
            [
             0.8888888888888888,
             "#fdca26"
            ],
            [
             1,
             "#f0f921"
            ]
           ],
           "sequentialminus": [
            [
             0,
             "#0d0887"
            ],
            [
             0.1111111111111111,
             "#46039f"
            ],
            [
             0.2222222222222222,
             "#7201a8"
            ],
            [
             0.3333333333333333,
             "#9c179e"
            ],
            [
             0.4444444444444444,
             "#bd3786"
            ],
            [
             0.5555555555555556,
             "#d8576b"
            ],
            [
             0.6666666666666666,
             "#ed7953"
            ],
            [
             0.7777777777777778,
             "#fb9f3a"
            ],
            [
             0.8888888888888888,
             "#fdca26"
            ],
            [
             1,
             "#f0f921"
            ]
           ]
          },
          "colorway": [
           "#636efa",
           "#EF553B",
           "#00cc96",
           "#ab63fa",
           "#FFA15A",
           "#19d3f3",
           "#FF6692",
           "#B6E880",
           "#FF97FF",
           "#FECB52"
          ],
          "font": {
           "color": "#2a3f5f"
          },
          "geo": {
           "bgcolor": "white",
           "lakecolor": "white",
           "landcolor": "#E5ECF6",
           "showlakes": true,
           "showland": true,
           "subunitcolor": "white"
          },
          "hoverlabel": {
           "align": "left"
          },
          "hovermode": "closest",
          "mapbox": {
           "style": "light"
          },
          "paper_bgcolor": "white",
          "plot_bgcolor": "#E5ECF6",
          "polar": {
           "angularaxis": {
            "gridcolor": "white",
            "linecolor": "white",
            "ticks": ""
           },
           "bgcolor": "#E5ECF6",
           "radialaxis": {
            "gridcolor": "white",
            "linecolor": "white",
            "ticks": ""
           }
          },
          "scene": {
           "xaxis": {
            "backgroundcolor": "#E5ECF6",
            "gridcolor": "white",
            "gridwidth": 2,
            "linecolor": "white",
            "showbackground": true,
            "ticks": "",
            "zerolinecolor": "white"
           },
           "yaxis": {
            "backgroundcolor": "#E5ECF6",
            "gridcolor": "white",
            "gridwidth": 2,
            "linecolor": "white",
            "showbackground": true,
            "ticks": "",
            "zerolinecolor": "white"
           },
           "zaxis": {
            "backgroundcolor": "#E5ECF6",
            "gridcolor": "white",
            "gridwidth": 2,
            "linecolor": "white",
            "showbackground": true,
            "ticks": "",
            "zerolinecolor": "white"
           }
          },
          "shapedefaults": {
           "line": {
            "color": "#2a3f5f"
           }
          },
          "ternary": {
           "aaxis": {
            "gridcolor": "white",
            "linecolor": "white",
            "ticks": ""
           },
           "baxis": {
            "gridcolor": "white",
            "linecolor": "white",
            "ticks": ""
           },
           "bgcolor": "#E5ECF6",
           "caxis": {
            "gridcolor": "white",
            "linecolor": "white",
            "ticks": ""
           }
          },
          "title": {
           "x": 0.05
          },
          "xaxis": {
           "automargin": true,
           "gridcolor": "white",
           "linecolor": "white",
           "ticks": "",
           "title": {
            "standoff": 15
           },
           "zerolinecolor": "white",
           "zerolinewidth": 2
          },
          "yaxis": {
           "automargin": true,
           "gridcolor": "white",
           "linecolor": "white",
           "ticks": "",
           "title": {
            "standoff": 15
           },
           "zerolinecolor": "white",
           "zerolinewidth": 2
          }
         }
        },
        "title": {
         "text": "Peak Time Comments Video"
        },
        "xaxis": {
         "anchor": "y",
         "categoryarray": [
          "13:00 - 14:00",
          "14:00 - 15:00",
          "15:00 - 16:00",
          "12:00 - 13:00",
          "09:00 - 10:00 ",
          "11:00 - 12:00",
          "10:00 - 11:00 ",
          "07:00 - 08:00 ",
          "08:00 - 09:00 ",
          "05:00 - 06:00 "
         ],
         "categoryorder": "array",
         "domain": [
          0,
          1
         ],
         "title": {
          "text": "Time"
         }
        },
        "yaxis": {
         "anchor": "x",
         "domain": [
          0,
          1
         ],
         "title": {
          "text": "Most Comment"
         }
        }
       }
      }
     },
     "metadata": {},
     "output_type": "display_data"
    }
   ],
   "source": [
    "time_group = peak_time['Period_groups'].value_counts().head(10)\n",
    "time_group = pd.DataFrame(data=time_group)\n",
    "time_group.reset_index(inplace=True)\n",
    "time_group = time_group.rename(columns = {'index':'Time','Period_groups':'Most Comment'})\n",
    "time_group\n",
    "\n",
    "fig2 = px.bar(time_group, x='Time', y='Most Comment', \n",
    "              color='Time', title = 'Peak Time Comments Video', height=400)\n",
    "fig2.show()"
   ]
  },
  {
   "cell_type": "code",
   "execution_count": 25,
   "metadata": {},
   "outputs": [
    {
     "data": {
      "application/vnd.plotly.v1+json": {
       "config": {
        "plotlyServerURL": "https://plot.ly"
       },
       "data": [
        {
         "alignmentgroup": "True",
         "hovertemplate": "Day=%{x}<br>Most Comment=%{y}<extra></extra>",
         "legendgroup": "Tuesday",
         "marker": {
          "color": "#636efa",
          "pattern": {
           "shape": ""
          }
         },
         "name": "Tuesday",
         "offsetgroup": "Tuesday",
         "orientation": "v",
         "showlegend": true,
         "textposition": "auto",
         "type": "bar",
         "x": [
          "Tuesday"
         ],
         "xaxis": "x",
         "y": [
          688
         ],
         "yaxis": "y"
        },
        {
         "alignmentgroup": "True",
         "hovertemplate": "Day=%{x}<br>Most Comment=%{y}<extra></extra>",
         "legendgroup": "Wednesday",
         "marker": {
          "color": "#EF553B",
          "pattern": {
           "shape": ""
          }
         },
         "name": "Wednesday",
         "offsetgroup": "Wednesday",
         "orientation": "v",
         "showlegend": true,
         "textposition": "auto",
         "type": "bar",
         "x": [
          "Wednesday"
         ],
         "xaxis": "x",
         "y": [
          534
         ],
         "yaxis": "y"
        },
        {
         "alignmentgroup": "True",
         "hovertemplate": "Day=%{x}<br>Most Comment=%{y}<extra></extra>",
         "legendgroup": "Thursday",
         "marker": {
          "color": "#00cc96",
          "pattern": {
           "shape": ""
          }
         },
         "name": "Thursday",
         "offsetgroup": "Thursday",
         "orientation": "v",
         "showlegend": true,
         "textposition": "auto",
         "type": "bar",
         "x": [
          "Thursday"
         ],
         "xaxis": "x",
         "y": [
          418
         ],
         "yaxis": "y"
        },
        {
         "alignmentgroup": "True",
         "hovertemplate": "Day=%{x}<br>Most Comment=%{y}<extra></extra>",
         "legendgroup": "Monday",
         "marker": {
          "color": "#ab63fa",
          "pattern": {
           "shape": ""
          }
         },
         "name": "Monday",
         "offsetgroup": "Monday",
         "orientation": "v",
         "showlegend": true,
         "textposition": "auto",
         "type": "bar",
         "x": [
          "Monday"
         ],
         "xaxis": "x",
         "y": [
          415
         ],
         "yaxis": "y"
        },
        {
         "alignmentgroup": "True",
         "hovertemplate": "Day=%{x}<br>Most Comment=%{y}<extra></extra>",
         "legendgroup": "Friday",
         "marker": {
          "color": "#FFA15A",
          "pattern": {
           "shape": ""
          }
         },
         "name": "Friday",
         "offsetgroup": "Friday",
         "orientation": "v",
         "showlegend": true,
         "textposition": "auto",
         "type": "bar",
         "x": [
          "Friday"
         ],
         "xaxis": "x",
         "y": [
          353
         ],
         "yaxis": "y"
        },
        {
         "alignmentgroup": "True",
         "hovertemplate": "Day=%{x}<br>Most Comment=%{y}<extra></extra>",
         "legendgroup": "Saturday",
         "marker": {
          "color": "#19d3f3",
          "pattern": {
           "shape": ""
          }
         },
         "name": "Saturday",
         "offsetgroup": "Saturday",
         "orientation": "v",
         "showlegend": true,
         "textposition": "auto",
         "type": "bar",
         "x": [
          "Saturday"
         ],
         "xaxis": "x",
         "y": [
          321
         ],
         "yaxis": "y"
        },
        {
         "alignmentgroup": "True",
         "hovertemplate": "Day=%{x}<br>Most Comment=%{y}<extra></extra>",
         "legendgroup": "Sunday",
         "marker": {
          "color": "#FF6692",
          "pattern": {
           "shape": ""
          }
         },
         "name": "Sunday",
         "offsetgroup": "Sunday",
         "orientation": "v",
         "showlegend": true,
         "textposition": "auto",
         "type": "bar",
         "x": [
          "Sunday"
         ],
         "xaxis": "x",
         "y": [
          272
         ],
         "yaxis": "y"
        }
       ],
       "layout": {
        "barmode": "relative",
        "height": 400,
        "legend": {
         "title": {
          "text": "Day"
         },
         "tracegroupgap": 0
        },
        "template": {
         "data": {
          "bar": [
           {
            "error_x": {
             "color": "#2a3f5f"
            },
            "error_y": {
             "color": "#2a3f5f"
            },
            "marker": {
             "line": {
              "color": "#E5ECF6",
              "width": 0.5
             },
             "pattern": {
              "fillmode": "overlay",
              "size": 10,
              "solidity": 0.2
             }
            },
            "type": "bar"
           }
          ],
          "barpolar": [
           {
            "marker": {
             "line": {
              "color": "#E5ECF6",
              "width": 0.5
             },
             "pattern": {
              "fillmode": "overlay",
              "size": 10,
              "solidity": 0.2
             }
            },
            "type": "barpolar"
           }
          ],
          "carpet": [
           {
            "aaxis": {
             "endlinecolor": "#2a3f5f",
             "gridcolor": "white",
             "linecolor": "white",
             "minorgridcolor": "white",
             "startlinecolor": "#2a3f5f"
            },
            "baxis": {
             "endlinecolor": "#2a3f5f",
             "gridcolor": "white",
             "linecolor": "white",
             "minorgridcolor": "white",
             "startlinecolor": "#2a3f5f"
            },
            "type": "carpet"
           }
          ],
          "choropleth": [
           {
            "colorbar": {
             "outlinewidth": 0,
             "ticks": ""
            },
            "type": "choropleth"
           }
          ],
          "contour": [
           {
            "colorbar": {
             "outlinewidth": 0,
             "ticks": ""
            },
            "colorscale": [
             [
              0,
              "#0d0887"
             ],
             [
              0.1111111111111111,
              "#46039f"
             ],
             [
              0.2222222222222222,
              "#7201a8"
             ],
             [
              0.3333333333333333,
              "#9c179e"
             ],
             [
              0.4444444444444444,
              "#bd3786"
             ],
             [
              0.5555555555555556,
              "#d8576b"
             ],
             [
              0.6666666666666666,
              "#ed7953"
             ],
             [
              0.7777777777777778,
              "#fb9f3a"
             ],
             [
              0.8888888888888888,
              "#fdca26"
             ],
             [
              1,
              "#f0f921"
             ]
            ],
            "type": "contour"
           }
          ],
          "contourcarpet": [
           {
            "colorbar": {
             "outlinewidth": 0,
             "ticks": ""
            },
            "type": "contourcarpet"
           }
          ],
          "heatmap": [
           {
            "colorbar": {
             "outlinewidth": 0,
             "ticks": ""
            },
            "colorscale": [
             [
              0,
              "#0d0887"
             ],
             [
              0.1111111111111111,
              "#46039f"
             ],
             [
              0.2222222222222222,
              "#7201a8"
             ],
             [
              0.3333333333333333,
              "#9c179e"
             ],
             [
              0.4444444444444444,
              "#bd3786"
             ],
             [
              0.5555555555555556,
              "#d8576b"
             ],
             [
              0.6666666666666666,
              "#ed7953"
             ],
             [
              0.7777777777777778,
              "#fb9f3a"
             ],
             [
              0.8888888888888888,
              "#fdca26"
             ],
             [
              1,
              "#f0f921"
             ]
            ],
            "type": "heatmap"
           }
          ],
          "heatmapgl": [
           {
            "colorbar": {
             "outlinewidth": 0,
             "ticks": ""
            },
            "colorscale": [
             [
              0,
              "#0d0887"
             ],
             [
              0.1111111111111111,
              "#46039f"
             ],
             [
              0.2222222222222222,
              "#7201a8"
             ],
             [
              0.3333333333333333,
              "#9c179e"
             ],
             [
              0.4444444444444444,
              "#bd3786"
             ],
             [
              0.5555555555555556,
              "#d8576b"
             ],
             [
              0.6666666666666666,
              "#ed7953"
             ],
             [
              0.7777777777777778,
              "#fb9f3a"
             ],
             [
              0.8888888888888888,
              "#fdca26"
             ],
             [
              1,
              "#f0f921"
             ]
            ],
            "type": "heatmapgl"
           }
          ],
          "histogram": [
           {
            "marker": {
             "pattern": {
              "fillmode": "overlay",
              "size": 10,
              "solidity": 0.2
             }
            },
            "type": "histogram"
           }
          ],
          "histogram2d": [
           {
            "colorbar": {
             "outlinewidth": 0,
             "ticks": ""
            },
            "colorscale": [
             [
              0,
              "#0d0887"
             ],
             [
              0.1111111111111111,
              "#46039f"
             ],
             [
              0.2222222222222222,
              "#7201a8"
             ],
             [
              0.3333333333333333,
              "#9c179e"
             ],
             [
              0.4444444444444444,
              "#bd3786"
             ],
             [
              0.5555555555555556,
              "#d8576b"
             ],
             [
              0.6666666666666666,
              "#ed7953"
             ],
             [
              0.7777777777777778,
              "#fb9f3a"
             ],
             [
              0.8888888888888888,
              "#fdca26"
             ],
             [
              1,
              "#f0f921"
             ]
            ],
            "type": "histogram2d"
           }
          ],
          "histogram2dcontour": [
           {
            "colorbar": {
             "outlinewidth": 0,
             "ticks": ""
            },
            "colorscale": [
             [
              0,
              "#0d0887"
             ],
             [
              0.1111111111111111,
              "#46039f"
             ],
             [
              0.2222222222222222,
              "#7201a8"
             ],
             [
              0.3333333333333333,
              "#9c179e"
             ],
             [
              0.4444444444444444,
              "#bd3786"
             ],
             [
              0.5555555555555556,
              "#d8576b"
             ],
             [
              0.6666666666666666,
              "#ed7953"
             ],
             [
              0.7777777777777778,
              "#fb9f3a"
             ],
             [
              0.8888888888888888,
              "#fdca26"
             ],
             [
              1,
              "#f0f921"
             ]
            ],
            "type": "histogram2dcontour"
           }
          ],
          "mesh3d": [
           {
            "colorbar": {
             "outlinewidth": 0,
             "ticks": ""
            },
            "type": "mesh3d"
           }
          ],
          "parcoords": [
           {
            "line": {
             "colorbar": {
              "outlinewidth": 0,
              "ticks": ""
             }
            },
            "type": "parcoords"
           }
          ],
          "pie": [
           {
            "automargin": true,
            "type": "pie"
           }
          ],
          "scatter": [
           {
            "fillpattern": {
             "fillmode": "overlay",
             "size": 10,
             "solidity": 0.2
            },
            "type": "scatter"
           }
          ],
          "scatter3d": [
           {
            "line": {
             "colorbar": {
              "outlinewidth": 0,
              "ticks": ""
             }
            },
            "marker": {
             "colorbar": {
              "outlinewidth": 0,
              "ticks": ""
             }
            },
            "type": "scatter3d"
           }
          ],
          "scattercarpet": [
           {
            "marker": {
             "colorbar": {
              "outlinewidth": 0,
              "ticks": ""
             }
            },
            "type": "scattercarpet"
           }
          ],
          "scattergeo": [
           {
            "marker": {
             "colorbar": {
              "outlinewidth": 0,
              "ticks": ""
             }
            },
            "type": "scattergeo"
           }
          ],
          "scattergl": [
           {
            "marker": {
             "colorbar": {
              "outlinewidth": 0,
              "ticks": ""
             }
            },
            "type": "scattergl"
           }
          ],
          "scattermapbox": [
           {
            "marker": {
             "colorbar": {
              "outlinewidth": 0,
              "ticks": ""
             }
            },
            "type": "scattermapbox"
           }
          ],
          "scatterpolar": [
           {
            "marker": {
             "colorbar": {
              "outlinewidth": 0,
              "ticks": ""
             }
            },
            "type": "scatterpolar"
           }
          ],
          "scatterpolargl": [
           {
            "marker": {
             "colorbar": {
              "outlinewidth": 0,
              "ticks": ""
             }
            },
            "type": "scatterpolargl"
           }
          ],
          "scatterternary": [
           {
            "marker": {
             "colorbar": {
              "outlinewidth": 0,
              "ticks": ""
             }
            },
            "type": "scatterternary"
           }
          ],
          "surface": [
           {
            "colorbar": {
             "outlinewidth": 0,
             "ticks": ""
            },
            "colorscale": [
             [
              0,
              "#0d0887"
             ],
             [
              0.1111111111111111,
              "#46039f"
             ],
             [
              0.2222222222222222,
              "#7201a8"
             ],
             [
              0.3333333333333333,
              "#9c179e"
             ],
             [
              0.4444444444444444,
              "#bd3786"
             ],
             [
              0.5555555555555556,
              "#d8576b"
             ],
             [
              0.6666666666666666,
              "#ed7953"
             ],
             [
              0.7777777777777778,
              "#fb9f3a"
             ],
             [
              0.8888888888888888,
              "#fdca26"
             ],
             [
              1,
              "#f0f921"
             ]
            ],
            "type": "surface"
           }
          ],
          "table": [
           {
            "cells": {
             "fill": {
              "color": "#EBF0F8"
             },
             "line": {
              "color": "white"
             }
            },
            "header": {
             "fill": {
              "color": "#C8D4E3"
             },
             "line": {
              "color": "white"
             }
            },
            "type": "table"
           }
          ]
         },
         "layout": {
          "annotationdefaults": {
           "arrowcolor": "#2a3f5f",
           "arrowhead": 0,
           "arrowwidth": 1
          },
          "autotypenumbers": "strict",
          "coloraxis": {
           "colorbar": {
            "outlinewidth": 0,
            "ticks": ""
           }
          },
          "colorscale": {
           "diverging": [
            [
             0,
             "#8e0152"
            ],
            [
             0.1,
             "#c51b7d"
            ],
            [
             0.2,
             "#de77ae"
            ],
            [
             0.3,
             "#f1b6da"
            ],
            [
             0.4,
             "#fde0ef"
            ],
            [
             0.5,
             "#f7f7f7"
            ],
            [
             0.6,
             "#e6f5d0"
            ],
            [
             0.7,
             "#b8e186"
            ],
            [
             0.8,
             "#7fbc41"
            ],
            [
             0.9,
             "#4d9221"
            ],
            [
             1,
             "#276419"
            ]
           ],
           "sequential": [
            [
             0,
             "#0d0887"
            ],
            [
             0.1111111111111111,
             "#46039f"
            ],
            [
             0.2222222222222222,
             "#7201a8"
            ],
            [
             0.3333333333333333,
             "#9c179e"
            ],
            [
             0.4444444444444444,
             "#bd3786"
            ],
            [
             0.5555555555555556,
             "#d8576b"
            ],
            [
             0.6666666666666666,
             "#ed7953"
            ],
            [
             0.7777777777777778,
             "#fb9f3a"
            ],
            [
             0.8888888888888888,
             "#fdca26"
            ],
            [
             1,
             "#f0f921"
            ]
           ],
           "sequentialminus": [
            [
             0,
             "#0d0887"
            ],
            [
             0.1111111111111111,
             "#46039f"
            ],
            [
             0.2222222222222222,
             "#7201a8"
            ],
            [
             0.3333333333333333,
             "#9c179e"
            ],
            [
             0.4444444444444444,
             "#bd3786"
            ],
            [
             0.5555555555555556,
             "#d8576b"
            ],
            [
             0.6666666666666666,
             "#ed7953"
            ],
            [
             0.7777777777777778,
             "#fb9f3a"
            ],
            [
             0.8888888888888888,
             "#fdca26"
            ],
            [
             1,
             "#f0f921"
            ]
           ]
          },
          "colorway": [
           "#636efa",
           "#EF553B",
           "#00cc96",
           "#ab63fa",
           "#FFA15A",
           "#19d3f3",
           "#FF6692",
           "#B6E880",
           "#FF97FF",
           "#FECB52"
          ],
          "font": {
           "color": "#2a3f5f"
          },
          "geo": {
           "bgcolor": "white",
           "lakecolor": "white",
           "landcolor": "#E5ECF6",
           "showlakes": true,
           "showland": true,
           "subunitcolor": "white"
          },
          "hoverlabel": {
           "align": "left"
          },
          "hovermode": "closest",
          "mapbox": {
           "style": "light"
          },
          "paper_bgcolor": "white",
          "plot_bgcolor": "#E5ECF6",
          "polar": {
           "angularaxis": {
            "gridcolor": "white",
            "linecolor": "white",
            "ticks": ""
           },
           "bgcolor": "#E5ECF6",
           "radialaxis": {
            "gridcolor": "white",
            "linecolor": "white",
            "ticks": ""
           }
          },
          "scene": {
           "xaxis": {
            "backgroundcolor": "#E5ECF6",
            "gridcolor": "white",
            "gridwidth": 2,
            "linecolor": "white",
            "showbackground": true,
            "ticks": "",
            "zerolinecolor": "white"
           },
           "yaxis": {
            "backgroundcolor": "#E5ECF6",
            "gridcolor": "white",
            "gridwidth": 2,
            "linecolor": "white",
            "showbackground": true,
            "ticks": "",
            "zerolinecolor": "white"
           },
           "zaxis": {
            "backgroundcolor": "#E5ECF6",
            "gridcolor": "white",
            "gridwidth": 2,
            "linecolor": "white",
            "showbackground": true,
            "ticks": "",
            "zerolinecolor": "white"
           }
          },
          "shapedefaults": {
           "line": {
            "color": "#2a3f5f"
           }
          },
          "ternary": {
           "aaxis": {
            "gridcolor": "white",
            "linecolor": "white",
            "ticks": ""
           },
           "baxis": {
            "gridcolor": "white",
            "linecolor": "white",
            "ticks": ""
           },
           "bgcolor": "#E5ECF6",
           "caxis": {
            "gridcolor": "white",
            "linecolor": "white",
            "ticks": ""
           }
          },
          "title": {
           "x": 0.05
          },
          "xaxis": {
           "automargin": true,
           "gridcolor": "white",
           "linecolor": "white",
           "ticks": "",
           "title": {
            "standoff": 15
           },
           "zerolinecolor": "white",
           "zerolinewidth": 2
          },
          "yaxis": {
           "automargin": true,
           "gridcolor": "white",
           "linecolor": "white",
           "ticks": "",
           "title": {
            "standoff": 15
           },
           "zerolinecolor": "white",
           "zerolinewidth": 2
          }
         }
        },
        "title": {
         "text": "Peak Day Comments Video"
        },
        "xaxis": {
         "anchor": "y",
         "categoryarray": [
          "Tuesday",
          "Wednesday",
          "Thursday",
          "Monday",
          "Friday",
          "Saturday",
          "Sunday"
         ],
         "categoryorder": "array",
         "domain": [
          0,
          1
         ],
         "title": {
          "text": "Day"
         }
        },
        "yaxis": {
         "anchor": "x",
         "domain": [
          0,
          1
         ],
         "title": {
          "text": "Most Comment"
         }
        }
       }
      }
     },
     "metadata": {},
     "output_type": "display_data"
    }
   ],
   "source": [
    "day_group = peak_time['Date'].value_counts().head(7)\n",
    "day_group = pd.DataFrame(data=day_group)\n",
    "day_group.reset_index(inplace=True)\n",
    "day_group = day_group.rename(columns = {'index':'Day','Date':'Most Comment'})\n",
    "day_group\n",
    "\n",
    "fig2 = px.bar(day_group, x='Day', y='Most Comment', \n",
    "              color='Day', title = 'Peak Day Comments Video', height=400)\n",
    "fig2.show()"
   ]
  },
  {
   "cell_type": "markdown",
   "metadata": {},
   "source": [
    "### Spam and Legitimate Comments Histogram"
   ]
  },
  {
   "cell_type": "code",
   "execution_count": 26,
   "metadata": {},
   "outputs": [
    {
     "data": {
      "application/vnd.plotly.v1+json": {
       "config": {
        "plotlyServerURL": "https://plot.ly"
       },
       "data": [
        {
         "alignmentgroup": "True",
         "hovertemplate": "Kind of Label=%{x}<br>Count a Spam or Legitimate=%{y}<extra></extra>",
         "legendgroup": "legitimate",
         "marker": {
          "color": "#636efa",
          "pattern": {
           "shape": ""
          }
         },
         "name": "legitimate",
         "offsetgroup": "legitimate",
         "orientation": "v",
         "showlegend": true,
         "textposition": "auto",
         "type": "bar",
         "x": [
          "legitimate"
         ],
         "xaxis": "x",
         "y": [
          1695
         ],
         "yaxis": "y"
        },
        {
         "alignmentgroup": "True",
         "hovertemplate": "Kind of Label=%{x}<br>Count a Spam or Legitimate=%{y}<extra></extra>",
         "legendgroup": "spam",
         "marker": {
          "color": "#EF553B",
          "pattern": {
           "shape": ""
          }
         },
         "name": "spam",
         "offsetgroup": "spam",
         "orientation": "v",
         "showlegend": true,
         "textposition": "auto",
         "type": "bar",
         "x": [
          "spam"
         ],
         "xaxis": "x",
         "y": [
          1306
         ],
         "yaxis": "y"
        }
       ],
       "layout": {
        "barmode": "relative",
        "height": 800,
        "legend": {
         "title": {
          "text": "Kind of Label"
         },
         "tracegroupgap": 0
        },
        "template": {
         "data": {
          "bar": [
           {
            "error_x": {
             "color": "#2a3f5f"
            },
            "error_y": {
             "color": "#2a3f5f"
            },
            "marker": {
             "line": {
              "color": "#E5ECF6",
              "width": 0.5
             },
             "pattern": {
              "fillmode": "overlay",
              "size": 10,
              "solidity": 0.2
             }
            },
            "type": "bar"
           }
          ],
          "barpolar": [
           {
            "marker": {
             "line": {
              "color": "#E5ECF6",
              "width": 0.5
             },
             "pattern": {
              "fillmode": "overlay",
              "size": 10,
              "solidity": 0.2
             }
            },
            "type": "barpolar"
           }
          ],
          "carpet": [
           {
            "aaxis": {
             "endlinecolor": "#2a3f5f",
             "gridcolor": "white",
             "linecolor": "white",
             "minorgridcolor": "white",
             "startlinecolor": "#2a3f5f"
            },
            "baxis": {
             "endlinecolor": "#2a3f5f",
             "gridcolor": "white",
             "linecolor": "white",
             "minorgridcolor": "white",
             "startlinecolor": "#2a3f5f"
            },
            "type": "carpet"
           }
          ],
          "choropleth": [
           {
            "colorbar": {
             "outlinewidth": 0,
             "ticks": ""
            },
            "type": "choropleth"
           }
          ],
          "contour": [
           {
            "colorbar": {
             "outlinewidth": 0,
             "ticks": ""
            },
            "colorscale": [
             [
              0,
              "#0d0887"
             ],
             [
              0.1111111111111111,
              "#46039f"
             ],
             [
              0.2222222222222222,
              "#7201a8"
             ],
             [
              0.3333333333333333,
              "#9c179e"
             ],
             [
              0.4444444444444444,
              "#bd3786"
             ],
             [
              0.5555555555555556,
              "#d8576b"
             ],
             [
              0.6666666666666666,
              "#ed7953"
             ],
             [
              0.7777777777777778,
              "#fb9f3a"
             ],
             [
              0.8888888888888888,
              "#fdca26"
             ],
             [
              1,
              "#f0f921"
             ]
            ],
            "type": "contour"
           }
          ],
          "contourcarpet": [
           {
            "colorbar": {
             "outlinewidth": 0,
             "ticks": ""
            },
            "type": "contourcarpet"
           }
          ],
          "heatmap": [
           {
            "colorbar": {
             "outlinewidth": 0,
             "ticks": ""
            },
            "colorscale": [
             [
              0,
              "#0d0887"
             ],
             [
              0.1111111111111111,
              "#46039f"
             ],
             [
              0.2222222222222222,
              "#7201a8"
             ],
             [
              0.3333333333333333,
              "#9c179e"
             ],
             [
              0.4444444444444444,
              "#bd3786"
             ],
             [
              0.5555555555555556,
              "#d8576b"
             ],
             [
              0.6666666666666666,
              "#ed7953"
             ],
             [
              0.7777777777777778,
              "#fb9f3a"
             ],
             [
              0.8888888888888888,
              "#fdca26"
             ],
             [
              1,
              "#f0f921"
             ]
            ],
            "type": "heatmap"
           }
          ],
          "heatmapgl": [
           {
            "colorbar": {
             "outlinewidth": 0,
             "ticks": ""
            },
            "colorscale": [
             [
              0,
              "#0d0887"
             ],
             [
              0.1111111111111111,
              "#46039f"
             ],
             [
              0.2222222222222222,
              "#7201a8"
             ],
             [
              0.3333333333333333,
              "#9c179e"
             ],
             [
              0.4444444444444444,
              "#bd3786"
             ],
             [
              0.5555555555555556,
              "#d8576b"
             ],
             [
              0.6666666666666666,
              "#ed7953"
             ],
             [
              0.7777777777777778,
              "#fb9f3a"
             ],
             [
              0.8888888888888888,
              "#fdca26"
             ],
             [
              1,
              "#f0f921"
             ]
            ],
            "type": "heatmapgl"
           }
          ],
          "histogram": [
           {
            "marker": {
             "pattern": {
              "fillmode": "overlay",
              "size": 10,
              "solidity": 0.2
             }
            },
            "type": "histogram"
           }
          ],
          "histogram2d": [
           {
            "colorbar": {
             "outlinewidth": 0,
             "ticks": ""
            },
            "colorscale": [
             [
              0,
              "#0d0887"
             ],
             [
              0.1111111111111111,
              "#46039f"
             ],
             [
              0.2222222222222222,
              "#7201a8"
             ],
             [
              0.3333333333333333,
              "#9c179e"
             ],
             [
              0.4444444444444444,
              "#bd3786"
             ],
             [
              0.5555555555555556,
              "#d8576b"
             ],
             [
              0.6666666666666666,
              "#ed7953"
             ],
             [
              0.7777777777777778,
              "#fb9f3a"
             ],
             [
              0.8888888888888888,
              "#fdca26"
             ],
             [
              1,
              "#f0f921"
             ]
            ],
            "type": "histogram2d"
           }
          ],
          "histogram2dcontour": [
           {
            "colorbar": {
             "outlinewidth": 0,
             "ticks": ""
            },
            "colorscale": [
             [
              0,
              "#0d0887"
             ],
             [
              0.1111111111111111,
              "#46039f"
             ],
             [
              0.2222222222222222,
              "#7201a8"
             ],
             [
              0.3333333333333333,
              "#9c179e"
             ],
             [
              0.4444444444444444,
              "#bd3786"
             ],
             [
              0.5555555555555556,
              "#d8576b"
             ],
             [
              0.6666666666666666,
              "#ed7953"
             ],
             [
              0.7777777777777778,
              "#fb9f3a"
             ],
             [
              0.8888888888888888,
              "#fdca26"
             ],
             [
              1,
              "#f0f921"
             ]
            ],
            "type": "histogram2dcontour"
           }
          ],
          "mesh3d": [
           {
            "colorbar": {
             "outlinewidth": 0,
             "ticks": ""
            },
            "type": "mesh3d"
           }
          ],
          "parcoords": [
           {
            "line": {
             "colorbar": {
              "outlinewidth": 0,
              "ticks": ""
             }
            },
            "type": "parcoords"
           }
          ],
          "pie": [
           {
            "automargin": true,
            "type": "pie"
           }
          ],
          "scatter": [
           {
            "fillpattern": {
             "fillmode": "overlay",
             "size": 10,
             "solidity": 0.2
            },
            "type": "scatter"
           }
          ],
          "scatter3d": [
           {
            "line": {
             "colorbar": {
              "outlinewidth": 0,
              "ticks": ""
             }
            },
            "marker": {
             "colorbar": {
              "outlinewidth": 0,
              "ticks": ""
             }
            },
            "type": "scatter3d"
           }
          ],
          "scattercarpet": [
           {
            "marker": {
             "colorbar": {
              "outlinewidth": 0,
              "ticks": ""
             }
            },
            "type": "scattercarpet"
           }
          ],
          "scattergeo": [
           {
            "marker": {
             "colorbar": {
              "outlinewidth": 0,
              "ticks": ""
             }
            },
            "type": "scattergeo"
           }
          ],
          "scattergl": [
           {
            "marker": {
             "colorbar": {
              "outlinewidth": 0,
              "ticks": ""
             }
            },
            "type": "scattergl"
           }
          ],
          "scattermapbox": [
           {
            "marker": {
             "colorbar": {
              "outlinewidth": 0,
              "ticks": ""
             }
            },
            "type": "scattermapbox"
           }
          ],
          "scatterpolar": [
           {
            "marker": {
             "colorbar": {
              "outlinewidth": 0,
              "ticks": ""
             }
            },
            "type": "scatterpolar"
           }
          ],
          "scatterpolargl": [
           {
            "marker": {
             "colorbar": {
              "outlinewidth": 0,
              "ticks": ""
             }
            },
            "type": "scatterpolargl"
           }
          ],
          "scatterternary": [
           {
            "marker": {
             "colorbar": {
              "outlinewidth": 0,
              "ticks": ""
             }
            },
            "type": "scatterternary"
           }
          ],
          "surface": [
           {
            "colorbar": {
             "outlinewidth": 0,
             "ticks": ""
            },
            "colorscale": [
             [
              0,
              "#0d0887"
             ],
             [
              0.1111111111111111,
              "#46039f"
             ],
             [
              0.2222222222222222,
              "#7201a8"
             ],
             [
              0.3333333333333333,
              "#9c179e"
             ],
             [
              0.4444444444444444,
              "#bd3786"
             ],
             [
              0.5555555555555556,
              "#d8576b"
             ],
             [
              0.6666666666666666,
              "#ed7953"
             ],
             [
              0.7777777777777778,
              "#fb9f3a"
             ],
             [
              0.8888888888888888,
              "#fdca26"
             ],
             [
              1,
              "#f0f921"
             ]
            ],
            "type": "surface"
           }
          ],
          "table": [
           {
            "cells": {
             "fill": {
              "color": "#EBF0F8"
             },
             "line": {
              "color": "white"
             }
            },
            "header": {
             "fill": {
              "color": "#C8D4E3"
             },
             "line": {
              "color": "white"
             }
            },
            "type": "table"
           }
          ]
         },
         "layout": {
          "annotationdefaults": {
           "arrowcolor": "#2a3f5f",
           "arrowhead": 0,
           "arrowwidth": 1
          },
          "autotypenumbers": "strict",
          "coloraxis": {
           "colorbar": {
            "outlinewidth": 0,
            "ticks": ""
           }
          },
          "colorscale": {
           "diverging": [
            [
             0,
             "#8e0152"
            ],
            [
             0.1,
             "#c51b7d"
            ],
            [
             0.2,
             "#de77ae"
            ],
            [
             0.3,
             "#f1b6da"
            ],
            [
             0.4,
             "#fde0ef"
            ],
            [
             0.5,
             "#f7f7f7"
            ],
            [
             0.6,
             "#e6f5d0"
            ],
            [
             0.7,
             "#b8e186"
            ],
            [
             0.8,
             "#7fbc41"
            ],
            [
             0.9,
             "#4d9221"
            ],
            [
             1,
             "#276419"
            ]
           ],
           "sequential": [
            [
             0,
             "#0d0887"
            ],
            [
             0.1111111111111111,
             "#46039f"
            ],
            [
             0.2222222222222222,
             "#7201a8"
            ],
            [
             0.3333333333333333,
             "#9c179e"
            ],
            [
             0.4444444444444444,
             "#bd3786"
            ],
            [
             0.5555555555555556,
             "#d8576b"
            ],
            [
             0.6666666666666666,
             "#ed7953"
            ],
            [
             0.7777777777777778,
             "#fb9f3a"
            ],
            [
             0.8888888888888888,
             "#fdca26"
            ],
            [
             1,
             "#f0f921"
            ]
           ],
           "sequentialminus": [
            [
             0,
             "#0d0887"
            ],
            [
             0.1111111111111111,
             "#46039f"
            ],
            [
             0.2222222222222222,
             "#7201a8"
            ],
            [
             0.3333333333333333,
             "#9c179e"
            ],
            [
             0.4444444444444444,
             "#bd3786"
            ],
            [
             0.5555555555555556,
             "#d8576b"
            ],
            [
             0.6666666666666666,
             "#ed7953"
            ],
            [
             0.7777777777777778,
             "#fb9f3a"
            ],
            [
             0.8888888888888888,
             "#fdca26"
            ],
            [
             1,
             "#f0f921"
            ]
           ]
          },
          "colorway": [
           "#636efa",
           "#EF553B",
           "#00cc96",
           "#ab63fa",
           "#FFA15A",
           "#19d3f3",
           "#FF6692",
           "#B6E880",
           "#FF97FF",
           "#FECB52"
          ],
          "font": {
           "color": "#2a3f5f"
          },
          "geo": {
           "bgcolor": "white",
           "lakecolor": "white",
           "landcolor": "#E5ECF6",
           "showlakes": true,
           "showland": true,
           "subunitcolor": "white"
          },
          "hoverlabel": {
           "align": "left"
          },
          "hovermode": "closest",
          "mapbox": {
           "style": "light"
          },
          "paper_bgcolor": "white",
          "plot_bgcolor": "#E5ECF6",
          "polar": {
           "angularaxis": {
            "gridcolor": "white",
            "linecolor": "white",
            "ticks": ""
           },
           "bgcolor": "#E5ECF6",
           "radialaxis": {
            "gridcolor": "white",
            "linecolor": "white",
            "ticks": ""
           }
          },
          "scene": {
           "xaxis": {
            "backgroundcolor": "#E5ECF6",
            "gridcolor": "white",
            "gridwidth": 2,
            "linecolor": "white",
            "showbackground": true,
            "ticks": "",
            "zerolinecolor": "white"
           },
           "yaxis": {
            "backgroundcolor": "#E5ECF6",
            "gridcolor": "white",
            "gridwidth": 2,
            "linecolor": "white",
            "showbackground": true,
            "ticks": "",
            "zerolinecolor": "white"
           },
           "zaxis": {
            "backgroundcolor": "#E5ECF6",
            "gridcolor": "white",
            "gridwidth": 2,
            "linecolor": "white",
            "showbackground": true,
            "ticks": "",
            "zerolinecolor": "white"
           }
          },
          "shapedefaults": {
           "line": {
            "color": "#2a3f5f"
           }
          },
          "ternary": {
           "aaxis": {
            "gridcolor": "white",
            "linecolor": "white",
            "ticks": ""
           },
           "baxis": {
            "gridcolor": "white",
            "linecolor": "white",
            "ticks": ""
           },
           "bgcolor": "#E5ECF6",
           "caxis": {
            "gridcolor": "white",
            "linecolor": "white",
            "ticks": ""
           }
          },
          "title": {
           "x": 0.05
          },
          "xaxis": {
           "automargin": true,
           "gridcolor": "white",
           "linecolor": "white",
           "ticks": "",
           "title": {
            "standoff": 15
           },
           "zerolinecolor": "white",
           "zerolinewidth": 2
          },
          "yaxis": {
           "automargin": true,
           "gridcolor": "white",
           "linecolor": "white",
           "ticks": "",
           "title": {
            "standoff": 15
           },
           "zerolinecolor": "white",
           "zerolinewidth": 2
          }
         }
        },
        "title": {
         "text": "Spam or Legitimate Comments"
        },
        "xaxis": {
         "anchor": "y",
         "categoryarray": [
          "legitimate",
          "spam"
         ],
         "categoryorder": "array",
         "domain": [
          0,
          1
         ],
         "title": {
          "text": "Kind of Label"
         }
        },
        "yaxis": {
         "anchor": "x",
         "domain": [
          0,
          1
         ],
         "title": {
          "text": "Count a Spam or Legitimate"
         }
        }
       }
      }
     },
     "metadata": {},
     "output_type": "display_data"
    }
   ],
   "source": [
    "label = peak_time['Label'].value_counts().head(7)\n",
    "label = pd.DataFrame(data=label)\n",
    "label.reset_index(inplace=True)\n",
    "label = label.rename(columns = {'index':'Kind of Label','Label':'Count a Spam or Legitimate'})\n",
    "label\n",
    "\n",
    "fig2 = px.bar(label, x='Kind of Label', y='Count a Spam or Legitimate', \n",
    "              color='Kind of Label', title = 'Spam or Legitimate Comments', height=800)\n",
    "fig2.show()"
   ]
  },
  {
   "cell_type": "markdown",
   "metadata": {},
   "source": [
    "## Cleaning Text"
   ]
  },
  {
   "cell_type": "code",
   "execution_count": 27,
   "metadata": {},
   "outputs": [],
   "source": [
    "try_data_cleaning = data.copy()"
   ]
  },
  {
   "cell_type": "code",
   "execution_count": 28,
   "metadata": {},
   "outputs": [
    {
     "data": {
      "text/html": [
       "<div>\n",
       "<style scoped>\n",
       "    .dataframe tbody tr th:only-of-type {\n",
       "        vertical-align: middle;\n",
       "    }\n",
       "\n",
       "    .dataframe tbody tr th {\n",
       "        vertical-align: top;\n",
       "    }\n",
       "\n",
       "    .dataframe thead th {\n",
       "        text-align: right;\n",
       "    }\n",
       "</style>\n",
       "<table border=\"1\" class=\"dataframe\">\n",
       "  <thead>\n",
       "    <tr style=\"text-align: right;\">\n",
       "      <th></th>\n",
       "      <th>Video_Id</th>\n",
       "      <th>Tittle</th>\n",
       "      <th>Name</th>\n",
       "      <th>Comment</th>\n",
       "      <th>Comment_Id</th>\n",
       "      <th>Time</th>\n",
       "      <th>Likes</th>\n",
       "      <th>Reply_Count</th>\n",
       "      <th>Label</th>\n",
       "      <th>Length_Comment</th>\n",
       "    </tr>\n",
       "  </thead>\n",
       "  <tbody>\n",
       "    <tr>\n",
       "      <th>0</th>\n",
       "      <td>0iLgiRBQzzs</td>\n",
       "      <td>Panas! Jokowi VS Prabowo Saling Serang soal Ko...</td>\n",
       "      <td>Doharman Patimura Waruwu</td>\n",
       "      <td>https://youtu.be/LBKGyxnpMCU</td>\n",
       "      <td>Ugz-zdD0s87dSDzITuh4AaABAg</td>\n",
       "      <td>2019-01-17 23:06:24</td>\n",
       "      <td>0</td>\n",
       "      <td>0</td>\n",
       "      <td>spam</td>\n",
       "      <td>28</td>\n",
       "    </tr>\n",
       "    <tr>\n",
       "      <th>1</th>\n",
       "      <td>AP0NACavjfk</td>\n",
       "      <td>SkinnyIndonesian24 | Prabowo VS Jokowi - Epic ...</td>\n",
       "      <td>Akiru Syakir</td>\n",
       "      <td>Bantu subscribe youtube gw dong</td>\n",
       "      <td>UgwQM2OHIzkVDtu0PIN4AaABAg</td>\n",
       "      <td>2019-04-10 22:40:00</td>\n",
       "      <td>0</td>\n",
       "      <td>0</td>\n",
       "      <td>spam</td>\n",
       "      <td>31</td>\n",
       "    </tr>\n",
       "    <tr>\n",
       "      <th>2</th>\n",
       "      <td>AP0NACavjfk</td>\n",
       "      <td>SkinnyIndonesian24 | Prabowo VS Jokowi - Epic ...</td>\n",
       "      <td>Teguh Wage Prakoso</td>\n",
       "      <td>hachimon tonkou, kalau buka gerbang ke 8 auto ...</td>\n",
       "      <td>Ugyh7dOOI2953Exf3cp4AaABAg.8tUY_eVh77e8tUhBosQJLg</td>\n",
       "      <td>2019-04-09 02:50:06</td>\n",
       "      <td>0</td>\n",
       "      <td>0</td>\n",
       "      <td>spam</td>\n",
       "      <td>57</td>\n",
       "    </tr>\n",
       "    <tr>\n",
       "      <th>3</th>\n",
       "      <td>AP0NACavjfk</td>\n",
       "      <td>SkinnyIndonesian24 | Prabowo VS Jokowi - Epic ...</td>\n",
       "      <td>hidayah</td>\n",
       "      <td>https://www.youtube.com/channel/UC_iQ1hcNxz1ir...</td>\n",
       "      <td>UgxA-h0VMWXoShPkFEZ4AaABAg</td>\n",
       "      <td>2019-04-10 12:25:49</td>\n",
       "      <td>0</td>\n",
       "      <td>0</td>\n",
       "      <td>spam</td>\n",
       "      <td>56</td>\n",
       "    </tr>\n",
       "    <tr>\n",
       "      <th>4</th>\n",
       "      <td>AP0NACavjfk</td>\n",
       "      <td>SkinnyIndonesian24 | Prabowo VS Jokowi - Epic ...</td>\n",
       "      <td>Derisma Ae</td>\n",
       "      <td>https://youtu.be/aS1FIPcCuh4 CH: Derisma ae, m...</td>\n",
       "      <td>UgybtnYbYjDF7YZJAdN4AaABAg</td>\n",
       "      <td>2019-04-15 16:00:05</td>\n",
       "      <td>0</td>\n",
       "      <td>0</td>\n",
       "      <td>spam</td>\n",
       "      <td>88</td>\n",
       "    </tr>\n",
       "    <tr>\n",
       "      <th>...</th>\n",
       "      <td>...</td>\n",
       "      <td>...</td>\n",
       "      <td>...</td>\n",
       "      <td>...</td>\n",
       "      <td>...</td>\n",
       "      <td>...</td>\n",
       "      <td>...</td>\n",
       "      <td>...</td>\n",
       "      <td>...</td>\n",
       "      <td>...</td>\n",
       "    </tr>\n",
       "    <tr>\n",
       "      <th>2998</th>\n",
       "      <td>AP0NACavjfk</td>\n",
       "      <td>SkinnyIndonesian24 | Prabowo VS Jokowi - Epic ...</td>\n",
       "      <td>agus muliandri</td>\n",
       "      <td>Top</td>\n",
       "      <td>UgxG_8lxSoZduOAiE-54AaABAg.8tXxFBA8lZa8tXzXBaY73i</td>\n",
       "      <td>2019-04-10 09:28:02</td>\n",
       "      <td>0</td>\n",
       "      <td>0</td>\n",
       "      <td>legitimate</td>\n",
       "      <td>3</td>\n",
       "    </tr>\n",
       "    <tr>\n",
       "      <th>2999</th>\n",
       "      <td>AP0NACavjfk</td>\n",
       "      <td>SkinnyIndonesian24 | Prabowo VS Jokowi - Epic ...</td>\n",
       "      <td>EXE HUMAN</td>\n",
       "      <td>Creator senior memang beda ya 😎</td>\n",
       "      <td>Ugx4Ep3GEADS4c_w5YF4AaABAg</td>\n",
       "      <td>2019-04-09 11:43:58</td>\n",
       "      <td>0</td>\n",
       "      <td>0</td>\n",
       "      <td>legitimate</td>\n",
       "      <td>31</td>\n",
       "    </tr>\n",
       "    <tr>\n",
       "      <th>3000</th>\n",
       "      <td>AP0NACavjfk</td>\n",
       "      <td>SkinnyIndonesian24 | Prabowo VS Jokowi - Epic ...</td>\n",
       "      <td>Ni Luh Ayu Sibang Sri Padmayanti_056</td>\n",
       "      <td>Keunggulan dan kekurangan nge buat kita semua ...</td>\n",
       "      <td>UgzltfmrOp2dr3DbCPx4AaABAg</td>\n",
       "      <td>2019-04-11 13:48:07</td>\n",
       "      <td>0</td>\n",
       "      <td>0</td>\n",
       "      <td>legitimate</td>\n",
       "      <td>64</td>\n",
       "    </tr>\n",
       "    <tr>\n",
       "      <th>3001</th>\n",
       "      <td>AP0NACavjfk</td>\n",
       "      <td>SkinnyIndonesian24 | Prabowo VS Jokowi - Epic ...</td>\n",
       "      <td>Brigita Deya 183</td>\n",
       "      <td>Keren parahhh</td>\n",
       "      <td>UgyaAGTI4x4ta4TE1cF4AaABAg</td>\n",
       "      <td>2019-04-09 10:20:06</td>\n",
       "      <td>0</td>\n",
       "      <td>0</td>\n",
       "      <td>legitimate</td>\n",
       "      <td>13</td>\n",
       "    </tr>\n",
       "    <tr>\n",
       "      <th>3002</th>\n",
       "      <td>AP0NACavjfk</td>\n",
       "      <td>SkinnyIndonesian24 | Prabowo VS Jokowi - Epic ...</td>\n",
       "      <td>Carl</td>\n",
       "      <td>MEREKA HARUS NONTON NIH</td>\n",
       "      <td>Ugz4K70s5tZHaG_LkIl4AaABAg</td>\n",
       "      <td>2019-04-08 12:59:00</td>\n",
       "      <td>0</td>\n",
       "      <td>0</td>\n",
       "      <td>legitimate</td>\n",
       "      <td>23</td>\n",
       "    </tr>\n",
       "  </tbody>\n",
       "</table>\n",
       "<p>3001 rows × 10 columns</p>\n",
       "</div>"
      ],
      "text/plain": [
       "         Video_Id                                             Tittle  \\\n",
       "0     0iLgiRBQzzs  Panas! Jokowi VS Prabowo Saling Serang soal Ko...   \n",
       "1     AP0NACavjfk  SkinnyIndonesian24 | Prabowo VS Jokowi - Epic ...   \n",
       "2     AP0NACavjfk  SkinnyIndonesian24 | Prabowo VS Jokowi - Epic ...   \n",
       "3     AP0NACavjfk  SkinnyIndonesian24 | Prabowo VS Jokowi - Epic ...   \n",
       "4     AP0NACavjfk  SkinnyIndonesian24 | Prabowo VS Jokowi - Epic ...   \n",
       "...           ...                                                ...   \n",
       "2998  AP0NACavjfk  SkinnyIndonesian24 | Prabowo VS Jokowi - Epic ...   \n",
       "2999  AP0NACavjfk  SkinnyIndonesian24 | Prabowo VS Jokowi - Epic ...   \n",
       "3000  AP0NACavjfk  SkinnyIndonesian24 | Prabowo VS Jokowi - Epic ...   \n",
       "3001  AP0NACavjfk  SkinnyIndonesian24 | Prabowo VS Jokowi - Epic ...   \n",
       "3002  AP0NACavjfk  SkinnyIndonesian24 | Prabowo VS Jokowi - Epic ...   \n",
       "\n",
       "                                      Name  \\\n",
       "0                 Doharman Patimura Waruwu   \n",
       "1                             Akiru Syakir   \n",
       "2                       Teguh Wage Prakoso   \n",
       "3                                  hidayah   \n",
       "4                               Derisma Ae   \n",
       "...                                    ...   \n",
       "2998                        agus muliandri   \n",
       "2999                             EXE HUMAN   \n",
       "3000  Ni Luh Ayu Sibang Sri Padmayanti_056   \n",
       "3001                      Brigita Deya 183   \n",
       "3002                                  Carl   \n",
       "\n",
       "                                                Comment  \\\n",
       "0                          https://youtu.be/LBKGyxnpMCU   \n",
       "1                       Bantu subscribe youtube gw dong   \n",
       "2     hachimon tonkou, kalau buka gerbang ke 8 auto ...   \n",
       "3     https://www.youtube.com/channel/UC_iQ1hcNxz1ir...   \n",
       "4     https://youtu.be/aS1FIPcCuh4 CH: Derisma ae, m...   \n",
       "...                                                 ...   \n",
       "2998                                                Top   \n",
       "2999                    Creator senior memang beda ya 😎   \n",
       "3000  Keunggulan dan kekurangan nge buat kita semua ...   \n",
       "3001                                      Keren parahhh   \n",
       "3002                            MEREKA HARUS NONTON NIH   \n",
       "\n",
       "                                             Comment_Id                Time  \\\n",
       "0                            Ugz-zdD0s87dSDzITuh4AaABAg 2019-01-17 23:06:24   \n",
       "1                            UgwQM2OHIzkVDtu0PIN4AaABAg 2019-04-10 22:40:00   \n",
       "2     Ugyh7dOOI2953Exf3cp4AaABAg.8tUY_eVh77e8tUhBosQJLg 2019-04-09 02:50:06   \n",
       "3                            UgxA-h0VMWXoShPkFEZ4AaABAg 2019-04-10 12:25:49   \n",
       "4                            UgybtnYbYjDF7YZJAdN4AaABAg 2019-04-15 16:00:05   \n",
       "...                                                 ...                 ...   \n",
       "2998  UgxG_8lxSoZduOAiE-54AaABAg.8tXxFBA8lZa8tXzXBaY73i 2019-04-10 09:28:02   \n",
       "2999                         Ugx4Ep3GEADS4c_w5YF4AaABAg 2019-04-09 11:43:58   \n",
       "3000                         UgzltfmrOp2dr3DbCPx4AaABAg 2019-04-11 13:48:07   \n",
       "3001                         UgyaAGTI4x4ta4TE1cF4AaABAg 2019-04-09 10:20:06   \n",
       "3002                         Ugz4K70s5tZHaG_LkIl4AaABAg 2019-04-08 12:59:00   \n",
       "\n",
       "      Likes  Reply_Count       Label  Length_Comment  \n",
       "0         0            0        spam              28  \n",
       "1         0            0        spam              31  \n",
       "2         0            0        spam              57  \n",
       "3         0            0        spam              56  \n",
       "4         0            0        spam              88  \n",
       "...     ...          ...         ...             ...  \n",
       "2998      0            0  legitimate               3  \n",
       "2999      0            0  legitimate              31  \n",
       "3000      0            0  legitimate              64  \n",
       "3001      0            0  legitimate              13  \n",
       "3002      0            0  legitimate              23  \n",
       "\n",
       "[3001 rows x 10 columns]"
      ]
     },
     "execution_count": 28,
     "metadata": {},
     "output_type": "execute_result"
    }
   ],
   "source": [
    "try_data_cleaning"
   ]
  },
  {
   "cell_type": "code",
   "execution_count": 85,
   "metadata": {},
   "outputs": [],
   "source": [
    "toyData = try_data_cleaning.sample(10)"
   ]
  },
  {
   "cell_type": "code",
   "execution_count": 86,
   "metadata": {},
   "outputs": [
    {
     "data": {
      "text/html": [
       "<div>\n",
       "<style scoped>\n",
       "    .dataframe tbody tr th:only-of-type {\n",
       "        vertical-align: middle;\n",
       "    }\n",
       "\n",
       "    .dataframe tbody tr th {\n",
       "        vertical-align: top;\n",
       "    }\n",
       "\n",
       "    .dataframe thead th {\n",
       "        text-align: right;\n",
       "    }\n",
       "</style>\n",
       "<table border=\"1\" class=\"dataframe\">\n",
       "  <thead>\n",
       "    <tr style=\"text-align: right;\">\n",
       "      <th></th>\n",
       "      <th>Video_Id</th>\n",
       "      <th>Tittle</th>\n",
       "      <th>Name</th>\n",
       "      <th>Comment</th>\n",
       "      <th>Comment_Id</th>\n",
       "      <th>Time</th>\n",
       "      <th>Likes</th>\n",
       "      <th>Reply_Count</th>\n",
       "      <th>Label</th>\n",
       "      <th>Length_Comment</th>\n",
       "    </tr>\n",
       "  </thead>\n",
       "  <tbody>\n",
       "    <tr>\n",
       "      <th>2251</th>\n",
       "      <td>AP0NACavjfk</td>\n",
       "      <td>SkinnyIndonesian24 | Prabowo VS Jokowi - Epic ...</td>\n",
       "      <td>rezahami</td>\n",
       "      <td>Hatta apakah perjuangan kita sia sia</td>\n",
       "      <td>UgwpS011zzqiZi9A0BF4AaABAg</td>\n",
       "      <td>2019-04-14 01:32:26</td>\n",
       "      <td>0</td>\n",
       "      <td>0</td>\n",
       "      <td>legitimate</td>\n",
       "      <td>36</td>\n",
       "    </tr>\n",
       "    <tr>\n",
       "      <th>288</th>\n",
       "      <td>AP0NACavjfk</td>\n",
       "      <td>SkinnyIndonesian24 | Prabowo VS Jokowi - Epic ...</td>\n",
       "      <td>Hideaki Official</td>\n",
       "      <td>Gua udh subscribe subscribe balik</td>\n",
       "      <td>Ugy219edTzKN3ieYLgZ4AaABAg</td>\n",
       "      <td>2019-04-28 00:46:56</td>\n",
       "      <td>0</td>\n",
       "      <td>0</td>\n",
       "      <td>spam</td>\n",
       "      <td>33</td>\n",
       "    </tr>\n",
       "    <tr>\n",
       "      <th>635</th>\n",
       "      <td>AP0NACavjfk</td>\n",
       "      <td>SkinnyIndonesian24 | Prabowo VS Jokowi - Epic ...</td>\n",
       "      <td>Angga</td>\n",
       "      <td>@Dewi Larasati edit : https://youtu.be/NWT9x1l...</td>\n",
       "      <td>Ugx1Zf0lTk9Shoi4OOx4AaABAg.8tbq-alpG788tbzqmaf5tl</td>\n",
       "      <td>2019-04-12 08:07:02</td>\n",
       "      <td>0</td>\n",
       "      <td>0</td>\n",
       "      <td>spam</td>\n",
       "      <td>50</td>\n",
       "    </tr>\n",
       "    <tr>\n",
       "      <th>612</th>\n",
       "      <td>AP0NACavjfk</td>\n",
       "      <td>SkinnyIndonesian24 | Prabowo VS Jokowi - Epic ...</td>\n",
       "      <td>Yuris Muda Indonesia</td>\n",
       "      <td>Reaksi Keluarga atas viralnya Video Adhisty Za...</td>\n",
       "      <td>UgzVxlllFfL7E9Qw2zR4AaABAg</td>\n",
       "      <td>2020-08-22 03:06:34</td>\n",
       "      <td>0</td>\n",
       "      <td>1</td>\n",
       "      <td>spam</td>\n",
       "      <td>79</td>\n",
       "    </tr>\n",
       "    <tr>\n",
       "      <th>761</th>\n",
       "      <td>AP0NACavjfk</td>\n",
       "      <td>SkinnyIndonesian24 | Prabowo VS Jokowi - Epic ...</td>\n",
       "      <td>Harun</td>\n",
       "      <td>https://youtu.be/pb3s_nRph0A</td>\n",
       "      <td>UgyhtL5zop9dDKYK_ap4AaABAg</td>\n",
       "      <td>2019-04-10 04:36:45</td>\n",
       "      <td>0</td>\n",
       "      <td>0</td>\n",
       "      <td>spam</td>\n",
       "      <td>28</td>\n",
       "    </tr>\n",
       "    <tr>\n",
       "      <th>163</th>\n",
       "      <td>AP0NACavjfk</td>\n",
       "      <td>SkinnyIndonesian24 | Prabowo VS Jokowi - Epic ...</td>\n",
       "      <td>Herry Daniel Marpaung TV</td>\n",
       "      <td>Subscribe Chanel saya ya. Baru buat hehehe. Te...</td>\n",
       "      <td>UgzoyEQ5jV2_hJV7aTN4AaABAg</td>\n",
       "      <td>2019-04-11 05:51:30</td>\n",
       "      <td>0</td>\n",
       "      <td>0</td>\n",
       "      <td>spam</td>\n",
       "      <td>56</td>\n",
       "    </tr>\n",
       "    <tr>\n",
       "      <th>1627</th>\n",
       "      <td>AP0NACavjfk</td>\n",
       "      <td>SkinnyIndonesian24 | Prabowo VS Jokowi - Epic ...</td>\n",
       "      <td>DimDimm</td>\n",
       "      <td>Asli di buka bukain kartu Jokowi 😂</td>\n",
       "      <td>UgwMxqtpZ5O3n3T-9WJ4AaABAg</td>\n",
       "      <td>2019-04-10 09:57:38</td>\n",
       "      <td>0</td>\n",
       "      <td>0</td>\n",
       "      <td>legitimate</td>\n",
       "      <td>34</td>\n",
       "    </tr>\n",
       "    <tr>\n",
       "      <th>488</th>\n",
       "      <td>AP0NACavjfk</td>\n",
       "      <td>SkinnyIndonesian24 | Prabowo VS Jokowi - Epic ...</td>\n",
       "      <td>Lia Tema</td>\n",
       "      <td>Tuhan Roh Kudus , Tuhan Ruhul Qudus akan melaw...</td>\n",
       "      <td>UgwlTTawAuZrboIAWGp4AaABAg</td>\n",
       "      <td>2019-04-10 00:17:15</td>\n",
       "      <td>1</td>\n",
       "      <td>2</td>\n",
       "      <td>spam</td>\n",
       "      <td>526</td>\n",
       "    </tr>\n",
       "    <tr>\n",
       "      <th>2309</th>\n",
       "      <td>0iLgiRBQzzs</td>\n",
       "      <td>Panas! Jokowi VS Prabowo Saling Serang soal Ko...</td>\n",
       "      <td>Apri Kurniawan</td>\n",
       "      <td>Bapak Prabowo BLUNDER Bismillah Pak Jokowi RI1</td>\n",
       "      <td>UgwPaVWA-92mpdaX8Il4AaABAg</td>\n",
       "      <td>2019-01-17 17:56:38</td>\n",
       "      <td>0</td>\n",
       "      <td>0</td>\n",
       "      <td>legitimate</td>\n",
       "      <td>46</td>\n",
       "    </tr>\n",
       "    <tr>\n",
       "      <th>1881</th>\n",
       "      <td>AP0NACavjfk</td>\n",
       "      <td>SkinnyIndonesian24 | Prabowo VS Jokowi - Epic ...</td>\n",
       "      <td>Pelukis Dendam</td>\n",
       "      <td>Mantappppp bisa gusur kpopers..</td>\n",
       "      <td>UgyFgwvnOybH98DrxGV4AaABAg</td>\n",
       "      <td>2019-04-09 13:36:40</td>\n",
       "      <td>0</td>\n",
       "      <td>0</td>\n",
       "      <td>legitimate</td>\n",
       "      <td>31</td>\n",
       "    </tr>\n",
       "  </tbody>\n",
       "</table>\n",
       "</div>"
      ],
      "text/plain": [
       "         Video_Id                                             Tittle  \\\n",
       "2251  AP0NACavjfk  SkinnyIndonesian24 | Prabowo VS Jokowi - Epic ...   \n",
       "288   AP0NACavjfk  SkinnyIndonesian24 | Prabowo VS Jokowi - Epic ...   \n",
       "635   AP0NACavjfk  SkinnyIndonesian24 | Prabowo VS Jokowi - Epic ...   \n",
       "612   AP0NACavjfk  SkinnyIndonesian24 | Prabowo VS Jokowi - Epic ...   \n",
       "761   AP0NACavjfk  SkinnyIndonesian24 | Prabowo VS Jokowi - Epic ...   \n",
       "163   AP0NACavjfk  SkinnyIndonesian24 | Prabowo VS Jokowi - Epic ...   \n",
       "1627  AP0NACavjfk  SkinnyIndonesian24 | Prabowo VS Jokowi - Epic ...   \n",
       "488   AP0NACavjfk  SkinnyIndonesian24 | Prabowo VS Jokowi - Epic ...   \n",
       "2309  0iLgiRBQzzs  Panas! Jokowi VS Prabowo Saling Serang soal Ko...   \n",
       "1881  AP0NACavjfk  SkinnyIndonesian24 | Prabowo VS Jokowi - Epic ...   \n",
       "\n",
       "                          Name  \\\n",
       "2251                  rezahami   \n",
       "288           Hideaki Official   \n",
       "635                      Angga   \n",
       "612       Yuris Muda Indonesia   \n",
       "761                      Harun   \n",
       "163   Herry Daniel Marpaung TV   \n",
       "1627                   DimDimm   \n",
       "488                   Lia Tema   \n",
       "2309            Apri Kurniawan   \n",
       "1881            Pelukis Dendam   \n",
       "\n",
       "                                                Comment  \\\n",
       "2251               Hatta apakah perjuangan kita sia sia   \n",
       "288                   Gua udh subscribe subscribe balik   \n",
       "635   @Dewi Larasati edit : https://youtu.be/NWT9x1l...   \n",
       "612   Reaksi Keluarga atas viralnya Video Adhisty Za...   \n",
       "761                        https://youtu.be/pb3s_nRph0A   \n",
       "163   Subscribe Chanel saya ya. Baru buat hehehe. Te...   \n",
       "1627                 Asli di buka bukain kartu Jokowi 😂   \n",
       "488   Tuhan Roh Kudus , Tuhan Ruhul Qudus akan melaw...   \n",
       "2309     Bapak Prabowo BLUNDER Bismillah Pak Jokowi RI1   \n",
       "1881                    Mantappppp bisa gusur kpopers..   \n",
       "\n",
       "                                             Comment_Id                Time  \\\n",
       "2251                         UgwpS011zzqiZi9A0BF4AaABAg 2019-04-14 01:32:26   \n",
       "288                          Ugy219edTzKN3ieYLgZ4AaABAg 2019-04-28 00:46:56   \n",
       "635   Ugx1Zf0lTk9Shoi4OOx4AaABAg.8tbq-alpG788tbzqmaf5tl 2019-04-12 08:07:02   \n",
       "612                          UgzVxlllFfL7E9Qw2zR4AaABAg 2020-08-22 03:06:34   \n",
       "761                          UgyhtL5zop9dDKYK_ap4AaABAg 2019-04-10 04:36:45   \n",
       "163                          UgzoyEQ5jV2_hJV7aTN4AaABAg 2019-04-11 05:51:30   \n",
       "1627                         UgwMxqtpZ5O3n3T-9WJ4AaABAg 2019-04-10 09:57:38   \n",
       "488                          UgwlTTawAuZrboIAWGp4AaABAg 2019-04-10 00:17:15   \n",
       "2309                         UgwPaVWA-92mpdaX8Il4AaABAg 2019-01-17 17:56:38   \n",
       "1881                         UgyFgwvnOybH98DrxGV4AaABAg 2019-04-09 13:36:40   \n",
       "\n",
       "      Likes  Reply_Count       Label  Length_Comment  \n",
       "2251      0            0  legitimate              36  \n",
       "288       0            0        spam              33  \n",
       "635       0            0        spam              50  \n",
       "612       0            1        spam              79  \n",
       "761       0            0        spam              28  \n",
       "163       0            0        spam              56  \n",
       "1627      0            0  legitimate              34  \n",
       "488       1            2        spam             526  \n",
       "2309      0            0  legitimate              46  \n",
       "1881      0            0  legitimate              31  "
      ]
     },
     "execution_count": 86,
     "metadata": {},
     "output_type": "execute_result"
    }
   ],
   "source": [
    "toyData"
   ]
  },
  {
   "cell_type": "code",
   "execution_count": 88,
   "metadata": {},
   "outputs": [],
   "source": [
    "toyData.to_csv(\"../Data/Comments/toyData.csv\", index=False)"
   ]
  },
  {
   "cell_type": "code",
   "execution_count": 29,
   "metadata": {},
   "outputs": [],
   "source": [
    "toyData = pd.read_csv(\"../Data/Comments/toyData.csv\")"
   ]
  },
  {
   "cell_type": "code",
   "execution_count": 30,
   "metadata": {},
   "outputs": [],
   "source": [
    "#NLTK_StopWords = stopwords.words('english')\n",
    "factory = StopWordRemoverFactory()\n",
    "Sastrawi_StopWords_id = factory.get_stop_words()"
   ]
  },
  {
   "cell_type": "code",
   "execution_count": 31,
   "metadata": {},
   "outputs": [],
   "source": [
    "Sastrawi_StopWords_id = set(Sastrawi_StopWords_id)"
   ]
  },
  {
   "cell_type": "code",
   "execution_count": 32,
   "metadata": {},
   "outputs": [],
   "source": [
    "import emoji \n",
    "\n",
    "def lower(text):\n",
    "    text = text.lower()\n",
    "    return text\n",
    "    \n",
    "def remove_numbers(text):\n",
    "    number_pattern = r'\\d+'\n",
    "    without_number = re.sub(pattern=number_pattern, repl=\" \", string=text)\n",
    "    return without_number\n",
    "\n",
    "def remove_emoji(text):\n",
    "    pattern = emoji.get_emoji_regexp()\n",
    "    without_emoji = pattern.sub('', text)\n",
    "    return without_emoji\n",
    "\n",
    "#def replace_url(text, replacement):\n",
    "    text = str(text)\n",
    "    text = re.sub('http[s]?://(?:[a-zA-Z]|[0-9]|[$-_@.&+]|[!*\\(\\),]|(?:%[0-9a-fA-F][0-9a-fA-F]))+', replacement, text)\n",
    "    text = re.sub('[/]?watch(?:[a-zA-Z]|[0-9]|[$-_@.&+]|[!*\\(\\),]|(?:%[0-9a-fA-F][0-9a-fA-F]))+', replacement, text)\n",
    "    return text\n",
    "\n",
    "'''Detect link and replace with url'''\n",
    "urlregex = re.compile(r\"\"\"(?i)\\b((?:https?:(?:/{1,3}|[a-z0-9%])|[a-z0-9.\\-]+[.](?:com|net|org|edu|gov|mil|aero|asia|biz|cat|coop|info|int|jobs|mobi|museum|name|post|pro|tel|travel|xxx|ac|ad|ae|af|ag|ai|al|am|an|ao|aq|ar|as|at|au|aw|ax|az|ba|bb|bd|be|bf|bg|bh|bi|bj|bm|bn|bo|br|bs|bt|bv|bw|by|bz|ca|cc|cd|cf|cg|ch|ci|ck|cl|cm|cn|co|cr|cs|cu|cv|cx|cy|cz|dd|de|dj|dk|dm|do|dz|ec|ee|eg|eh|er|es|et|eu|fi|fj|fk|fm|fo|fr|ga|gb|gd|ge|gf|gg|gh|gi|gl|gm|gn|gp|gq|gr|gs|gt|gu|gw|gy|hk|hm|hn|hr|ht|hu|id|ie|il|im|in|io|iq|ir|is|it|je|jm|jo|jp|ke|kg|kh|ki|km|kn|kp|kr|kw|ky|kz|la|lb|lc|li|lk|lr|ls|lt|lu|lv|ly|ma|mc|md|me|mg|mh|mk|ml|mm|mn|mo|mp|mq|mr|ms|mt|mu|mv|mw|mx|my|mz|na|nc|ne|nf|ng|ni|nl|no|np|nr|nu|nz|om|pa|pe|pf|pg|ph|pk|pl|pm|pn|pr|ps|pt|pw|py|qa|re|ro|rs|ru|rw|sa|sb|sc|sd|se|sg|sh|si|sj|Ja|sk|sl|sm|sn|so|sr|ss|st|su|sv|sx|sy|sz|tc|td|tf|tg|th|tj|tk|tl|tm|tn|to|tp|tr|tt|tv|tw|tz|ua|ug|uk|us|uy|uz|va|vc|ve|vg|vi|vn|vu|wf|ws|ye|yt|yu|za|zm|zw)/)(?:[^\\s()<>{}\\[\\]]+|\\([^\\s()]*?\\([^\\s()]+\\)[^\\s()]*?\\)|\\([^\\s]+?\\))+(?:\\([^\\s()]*?\\([^\\s()]+\\)[^\\s()]*?\\)|\\([^\\s]+?\\)|[^\\s`!()\\[\\]{};:'\".,<>?«»“”‘’])|(?:(?<!@)[a-z0-9]+(?:[.\\-][a-z0-9]+)*[.](?:com|net|org|edu|gov|mil|aero|asia|biz|cat|coop|info|int|jobs|mobi|museum|name|post|pro|tel|travel|xxx|ac|ad|ae|af|ag|ai|al|am|an|ao|aq|ar|as|at|au|aw|ax|az|ba|bb|bd|be|bf|bg|bh|bi|bj|bm|bn|bo|br|bs|bt|bv|bw|by|bz|ca|cc|cd|cf|cg|ch|ci|ck|cl|cm|cn|co|cr|cs|cu|cv|cx|cy|cz|dd|de|dj|dk|dm|do|dz|ec|ee|eg|eh|er|es|et|eu|fi|fj|fk|fm|fo|fr|ga|gb|gd|ge|gf|gg|gh|gi|gl|gm|gn|gp|gq|gr|gs|gt|gu|gw|gy|hk|hm|hn|hr|ht|hu|id|ie|il|im|in|io|iq|ir|is|it|je|jm|jo|jp|ke|kg|kh|ki|km|kn|kp|kr|kw|ky|kz|la|lb|lc|li|lk|lr|ls|lt|lu|lv|ly|ma|mc|md|me|mg|mh|mk|ml|mm|mn|mo|mp|mq|mr|ms|mt|mu|mv|mw|mx|my|mz|na|nc|ne|nf|ng|ni|nl|no|np|nr|nu|nz|om|pa|pe|pf|pg|ph|pk|pl|pm|pn|pr|ps|pt|pw|py|qa|re|ro|rs|ru|rw|sa|sb|sc|sd|se|sg|sh|si|sj|Ja|sk|sl|sm|sn|so|sr|ss|st|su|sv|sx|sy|sz|tc|td|tf|tg|th|tj|tk|tl|tm|tn|to|tp|tr|tt|tv|tw|tz|ua|ug|uk|us|uy|uz|va|vc|ve|vg|vi|vn|vu|wf|ws|ye|yt|yu|za|zm|zw)\\b/?(?!@)))\"\"\")\n",
    "\n",
    "def detecturl(text):\n",
    "    url_filtered_comment = re.sub(urlregex, ' ',text)\n",
    "    return url_filtered_comment\n",
    "\n",
    "def url(text):\n",
    "    punc_table = {ord(c): None for c in punctuation}\n",
    "    text =\"\".join(t if i % 2 else t.translate(punc_table) for (i, t) in enumerate(urlregex.split(text)))\n",
    "    return text\n",
    "\n",
    "def remove_punc_except_urls(s, punctuationRegex=r'[^a-zA-Z0-9\\s]'):\n",
    "  # arrays to keep track of indices\n",
    "  urlInds = []\n",
    "  puncInds = []\n",
    "  # find all the urls\n",
    "  for m in re.finditer(r'(https?|ftp)://[^\\s/$.?#].[^\\s]*', s):\n",
    "    urlInds.append((m.start(0), m.end(0)))\n",
    "  # find all the punctuation\n",
    "  for m in re.finditer(punctuationRegex, s):\n",
    "    puncInds.append((m.start(0), m.end(0)))\n",
    "  # start removing punctuation from end so that indices do not change\n",
    "  puncInds.reverse()\n",
    "  # go through each of the punctuation indices and remove the character if it is not inside a url\n",
    "  for puncRange in puncInds:\n",
    "    inUrl = False\n",
    "    # check each url to see if this character is in it\n",
    "    for urlRange in urlInds:\n",
    "      if puncRange[0] >= urlRange[0] and puncRange[0] <= urlRange[1]:\n",
    "        inUrl = True\n",
    "        break\n",
    "    if not inUrl:\n",
    "      # remove the punctuation from the string\n",
    "      s = s[:puncRange[0]] + s[puncRange[1]:]\n",
    "  return s\n",
    "\n",
    "#def detecturl(text, replace):\n",
    "#    url_filtered_comment = re.sub(urlregex, replace,text)\n",
    "#    return url_filtered_comment\n",
    "\n",
    "'''hastags'''\n",
    "#def fixTags(T):\n",
    "#    getHashtags = re.compile(r\"#(\\w+)\")\n",
    "#    pisahtags = re.compile(r'[A-Z][^A-Z]*')\n",
    "#    t = T\n",
    "#    tagS = re.findall(getHashtags, T)\n",
    "#    for tag in tagS:\n",
    "#        proper_words = ' '.join(re.findall(pisahtags, tagS[0]))\n",
    "#        t = t.replace('#' + tag, proper_words)\n",
    "#    return t\n",
    "\n",
    "#def getTags(T):\n",
    "#    getHashtags = re.compile(r\"#(\\w+)\")\n",
    "#    tagS = re.findall(getHashtags, T)\n",
    "    #isitag = []\n",
    "    #for tag in tagS:       \n",
    "    #    tag = '#'+tag\n",
    "    #    isitag.append(tag)\n",
    "    \n",
    "#    return ', '.join(isitag)\n",
    "\n",
    "'''remove punctuation'''\n",
    "clean_spcl = re.compile('[/(){}\\[\\]\\|!;$]')\n",
    "clean_symbol = re.compile('[^.,a-zA-Z0-9\\n\\.]')\n",
    "simbol = re.compile(r'#(^\\w)')\n",
    "\n",
    "def clean_punct(text):\n",
    "    text = clean_spcl.sub(' ', text)\n",
    "    #text = clean_symbol.sub(' ', text)\n",
    "    return text\n",
    "\n",
    "def hastag(text):   \n",
    "    text = simbol.sub('', text)\n",
    "    return text\n",
    "\n",
    "def clean_symbols(text): #this function remove the #\n",
    "    text = clean_symbol.sub(' ', text)\n",
    "    return text\n",
    "\n",
    "'''white_spaces'''\n",
    "def white_spaces(text):\n",
    "    single_char_pattern = re.compile(r'\\s+')\n",
    "    text = re.sub(pattern=single_char_pattern, repl=' ', string=text)\n",
    "    return text\n",
    "\n",
    "'''Stopwords Sastrawi'''\n",
    "stopwords = set(Sastrawi_StopWords_id)\n",
    "\n",
    "def clean_stopwords(text):\n",
    "    text = ' '.join(word for word in text.split() if word not in stopwords) # hapus stopword dari kolom deskripsi\n",
    "    return text\n",
    "\n",
    "def en_stopwords(text):\n",
    "    df=open('..\\Stopwords_eng\\stopwords_en.txt',\"r\",encoding=\"utf-8\", errors='replace')\n",
    "    en_stop = df.readlines()\n",
    "    df.close()\n",
    "    en_stop = [t.strip().lower() for t in en_stop]\n",
    "    en_stop = set(en_stop)\n",
    "    text = ' '.join(word for word in text.split() if word not in en_stop) # hapus stopword dari kolom deskripsi\n",
    "    return text\n",
    "    \n",
    "def id_stopwords(text):\n",
    "    df=open('..\\Stopwords\\stopwords.txt',\"r\",encoding=\"utf-8\", errors='replace')\n",
    "    id_stop = df.readlines()\n",
    "    df.close()\n",
    "    id_stop = [t.strip().lower() for t in id_stop]\n",
    "    id_stop = set(id_stop)\n",
    "    text = ' '.join(word for word in text.split() if word not in id_stop) # hapus stopword dari kolom deskripsi\n",
    "    return text\n",
    "\n",
    "'''Slangwords'''\n",
    "def slang(text):\n",
    "    df=open('../Slangwords/slangwords.txt',\"r\",encoding=\"utf-8\", errors='replace')\n",
    "    slangS = df.readlines()\n",
    "    slangS = [t.split(\":\") for t in slangS]\n",
    "    slangS = [[k.strip(), v.strip()] for k,v in slangS]\n",
    "    slangS = {k:v for k,v in slangS}\n",
    "\n",
    "    T = TextBlob(text).words\n",
    "    \n",
    "    for i,t in enumerate(T):\n",
    "        if t in slangS.keys():\n",
    "            T[i] = slangS[t]\n",
    "        \n",
    "    T =' '.join(T)\n",
    "\n",
    "    return T"
   ]
  },
  {
   "cell_type": "code",
   "execution_count": 31,
   "metadata": {},
   "outputs": [],
   "source": [
    "#urlregex = re.compile(r\"\"\"(?i)\\b((?:https?:(?:/{1,3}|[a-z0-9%])|[a-z0-9.\\-]+[.](?:com|net|org|edu|gov|mil|aero|asia|biz|cat|coop|info|int|jobs|mobi|museum|name|post|pro|tel|travel|xxx|ac|ad|ae|af|ag|ai|al|am|an|ao|aq|ar|as|at|au|aw|ax|az|ba|bb|bd|be|bf|bg|bh|bi|bj|bm|bn|bo|br|bs|bt|bv|bw|by|bz|ca|cc|cd|cf|cg|ch|ci|ck|cl|cm|cn|co|cr|cs|cu|cv|cx|cy|cz|dd|de|dj|dk|dm|do|dz|ec|ee|eg|eh|er|es|et|eu|fi|fj|fk|fm|fo|fr|ga|gb|gd|ge|gf|gg|gh|gi|gl|gm|gn|gp|gq|gr|gs|gt|gu|gw|gy|hk|hm|hn|hr|ht|hu|id|ie|il|im|in|io|iq|ir|is|it|je|jm|jo|jp|ke|kg|kh|ki|km|kn|kp|kr|kw|ky|kz|la|lb|lc|li|lk|lr|ls|lt|lu|lv|ly|ma|mc|md|me|mg|mh|mk|ml|mm|mn|mo|mp|mq|mr|ms|mt|mu|mv|mw|mx|my|mz|na|nc|ne|nf|ng|ni|nl|no|np|nr|nu|nz|om|pa|pe|pf|pg|ph|pk|pl|pm|pn|pr|ps|pt|pw|py|qa|re|ro|rs|ru|rw|sa|sb|sc|sd|se|sg|sh|si|sj|Ja|sk|sl|sm|sn|so|sr|ss|st|su|sv|sx|sy|sz|tc|td|tf|tg|th|tj|tk|tl|tm|tn|to|tp|tr|tt|tv|tw|tz|ua|ug|uk|us|uy|uz|va|vc|ve|vg|vi|vn|vu|wf|ws|ye|yt|yu|za|zm|zw)/)(?:[^\\s()<>{}\\[\\]]+|\\([^\\s()]*?\\([^\\s()]+\\)[^\\s()]*?\\)|\\([^\\s]+?\\))+(?:\\([^\\s()]*?\\([^\\s()]+\\)[^\\s()]*?\\)|\\([^\\s]+?\\)|[^\\s`!()\\[\\]{};:'\".,<>?«»“”‘’])|(?:(?<!@)[a-z0-9]+(?:[.\\-][a-z0-9]+)*[.](?:com|net|org|edu|gov|mil|aero|asia|biz|cat|coop|info|int|jobs|mobi|museum|name|post|pro|tel|travel|xxx|ac|ad|ae|af|ag|ai|al|am|an|ao|aq|ar|as|at|au|aw|ax|az|ba|bb|bd|be|bf|bg|bh|bi|bj|bm|bn|bo|br|bs|bt|bv|bw|by|bz|ca|cc|cd|cf|cg|ch|ci|ck|cl|cm|cn|co|cr|cs|cu|cv|cx|cy|cz|dd|de|dj|dk|dm|do|dz|ec|ee|eg|eh|er|es|et|eu|fi|fj|fk|fm|fo|fr|ga|gb|gd|ge|gf|gg|gh|gi|gl|gm|gn|gp|gq|gr|gs|gt|gu|gw|gy|hk|hm|hn|hr|ht|hu|id|ie|il|im|in|io|iq|ir|is|it|je|jm|jo|jp|ke|kg|kh|ki|km|kn|kp|kr|kw|ky|kz|la|lb|lc|li|lk|lr|ls|lt|lu|lv|ly|ma|mc|md|me|mg|mh|mk|ml|mm|mn|mo|mp|mq|mr|ms|mt|mu|mv|mw|mx|my|mz|na|nc|ne|nf|ng|ni|nl|no|np|nr|nu|nz|om|pa|pe|pf|pg|ph|pk|pl|pm|pn|pr|ps|pt|pw|py|qa|re|ro|rs|ru|rw|sa|sb|sc|sd|se|sg|sh|si|sj|Ja|sk|sl|sm|sn|so|sr|ss|st|su|sv|sx|sy|sz|tc|td|tf|tg|th|tj|tk|tl|tm|tn|to|tp|tr|tt|tv|tw|tz|ua|ug|uk|us|uy|uz|va|vc|ve|vg|vi|vn|vu|wf|ws|ye|yt|yu|za|zm|zw)\\b/?(?!@)))\"\"\")\n",
    "\n",
    "#def detecturl(comment):\n",
    "#    url_filtered_comment = re.sub(urlregex, 'url', comment)\n",
    "#    return url_filtered_comment"
   ]
  },
  {
   "cell_type": "code",
   "execution_count": 148,
   "metadata": {},
   "outputs": [],
   "source": [
    "text = 'https://youtu.be/pb3s_nRph0A'"
   ]
  },
  {
   "cell_type": "code",
   "execution_count": 149,
   "metadata": {},
   "outputs": [
    {
     "data": {
      "text/plain": [
       "'https://youtu.be/pb3s_nRph0A'"
      ]
     },
     "execution_count": 149,
     "metadata": {},
     "output_type": "execute_result"
    }
   ],
   "source": [
    "remove_punc_except_urls(text)"
   ]
  },
  {
   "cell_type": "code",
   "execution_count": 106,
   "metadata": {},
   "outputs": [
    {
     "data": {
      "text/plain": [
       "'www.facebook.com'"
      ]
     },
     "execution_count": 106,
     "metadata": {},
     "output_type": "execute_result"
    }
   ],
   "source": [
    "url(text)"
   ]
  },
  {
   "cell_type": "code",
   "execution_count": 33,
   "metadata": {},
   "outputs": [],
   "source": [
    "toyData['cleaned_title'] =toyData['Tittle'].apply(lambda x: clean_punct(x))"
   ]
  },
  {
   "cell_type": "markdown",
   "metadata": {},
   "source": [
    "**cleaned_comment_1**\n",
    "\n",
    "Pada proses cleaning comment pertama ini **tidak melakukan** beberapa hal:\n",
    "- remove emoji\n",
    "- remove simbol\n",
    "- stopwords menggunakan modul sastrawi"
   ]
  },
  {
   "cell_type": "code",
   "execution_count": 34,
   "metadata": {},
   "outputs": [],
   "source": [
    "toyData['cleaned_comment_1'] = toyData['Comment'].apply(lambda x: lower(x))\n",
    "#toyData['cleaned_comment_1'] = toyData['cleaned_comment_1'].apply(lambda x: remove_emoji(x))\n",
    "toyData[\"cleaned_comment_1\"] = toyData[\"cleaned_comment_1\"].apply(lambda x: detecturl(x))\n",
    "#toyData['cleaned_comment_1'] = toyData['cleaned_comment_1'].apply(lambda x: getTags(x))\n",
    "toyData['cleaned_comment_1'] = toyData['cleaned_comment_1'].apply(lambda x: clean_punct(x))\n",
    "toyData['cleaned_comment_1'] = toyData['cleaned_comment_1'].apply(lambda x: white_spaces(x))\n",
    "#toyData['cleaned_comment_1'] = toyData['cleaned_comment_1'].apply(lambda x: clean_stopwords(x))\n",
    "toyData['cleaned_comment_1'] = toyData['cleaned_comment_1'].apply(lambda x: en_stopwords(x))\n",
    "toyData['cleaned_comment_1'] = toyData['cleaned_comment_1'].apply(lambda x: id_stopwords(x))\n",
    "toyData['cleaned_comment_1'] = toyData['cleaned_comment_1'].apply(lambda x: slang(x))"
   ]
  },
  {
   "cell_type": "code",
   "execution_count": 35,
   "metadata": {},
   "outputs": [
    {
     "data": {
      "text/html": [
       "<div>\n",
       "<style scoped>\n",
       "    .dataframe tbody tr th:only-of-type {\n",
       "        vertical-align: middle;\n",
       "    }\n",
       "\n",
       "    .dataframe tbody tr th {\n",
       "        vertical-align: top;\n",
       "    }\n",
       "\n",
       "    .dataframe thead th {\n",
       "        text-align: right;\n",
       "    }\n",
       "</style>\n",
       "<table border=\"1\" class=\"dataframe\">\n",
       "  <thead>\n",
       "    <tr style=\"text-align: right;\">\n",
       "      <th></th>\n",
       "      <th>Video_Id</th>\n",
       "      <th>Tittle</th>\n",
       "      <th>Name</th>\n",
       "      <th>Comment</th>\n",
       "      <th>Comment_Id</th>\n",
       "      <th>Time</th>\n",
       "      <th>Likes</th>\n",
       "      <th>Reply_Count</th>\n",
       "      <th>Label</th>\n",
       "      <th>Length_Comment</th>\n",
       "      <th>cleaned_title</th>\n",
       "      <th>cleaned_comment_1</th>\n",
       "    </tr>\n",
       "  </thead>\n",
       "  <tbody>\n",
       "    <tr>\n",
       "      <th>0</th>\n",
       "      <td>AP0NACavjfk</td>\n",
       "      <td>SkinnyIndonesian24 | Prabowo VS Jokowi - Epic ...</td>\n",
       "      <td>rezahami</td>\n",
       "      <td>Hatta apakah perjuangan kita sia sia</td>\n",
       "      <td>UgwpS011zzqiZi9A0BF4AaABAg</td>\n",
       "      <td>2019-04-14 01:32:26</td>\n",
       "      <td>0</td>\n",
       "      <td>0</td>\n",
       "      <td>legitimate</td>\n",
       "      <td>36</td>\n",
       "      <td>SkinnyIndonesian24   Prabowo VS Jokowi - Epic ...</td>\n",
       "      <td>hatta apakah perjuangan kita sia sia</td>\n",
       "    </tr>\n",
       "    <tr>\n",
       "      <th>1</th>\n",
       "      <td>AP0NACavjfk</td>\n",
       "      <td>SkinnyIndonesian24 | Prabowo VS Jokowi - Epic ...</td>\n",
       "      <td>Hideaki Official</td>\n",
       "      <td>Gua udh subscribe subscribe balik</td>\n",
       "      <td>Ugy219edTzKN3ieYLgZ4AaABAg</td>\n",
       "      <td>2019-04-28 00:46:56</td>\n",
       "      <td>0</td>\n",
       "      <td>0</td>\n",
       "      <td>spam</td>\n",
       "      <td>33</td>\n",
       "      <td>SkinnyIndonesian24   Prabowo VS Jokowi - Epic ...</td>\n",
       "      <td>saya subscribe subscribe kembali</td>\n",
       "    </tr>\n",
       "    <tr>\n",
       "      <th>2</th>\n",
       "      <td>AP0NACavjfk</td>\n",
       "      <td>SkinnyIndonesian24 | Prabowo VS Jokowi - Epic ...</td>\n",
       "      <td>Angga</td>\n",
       "      <td>@Dewi Larasati edit : https://youtu.be/NWT9x1l...</td>\n",
       "      <td>Ugx1Zf0lTk9Shoi4OOx4AaABAg.8tbq-alpG788tbzqmaf5tl</td>\n",
       "      <td>2019-04-12 08:07:02</td>\n",
       "      <td>0</td>\n",
       "      <td>0</td>\n",
       "      <td>spam</td>\n",
       "      <td>50</td>\n",
       "      <td>SkinnyIndonesian24   Prabowo VS Jokowi - Epic ...</td>\n",
       "      <td>dewi larasati edit</td>\n",
       "    </tr>\n",
       "    <tr>\n",
       "      <th>3</th>\n",
       "      <td>AP0NACavjfk</td>\n",
       "      <td>SkinnyIndonesian24 | Prabowo VS Jokowi - Epic ...</td>\n",
       "      <td>Yuris Muda Indonesia</td>\n",
       "      <td>Reaksi Keluarga atas viralnya Video Adhisty Za...</td>\n",
       "      <td>UgzVxlllFfL7E9Qw2zR4AaABAg</td>\n",
       "      <td>2020-08-22 03:06:34</td>\n",
       "      <td>0</td>\n",
       "      <td>1</td>\n",
       "      <td>spam</td>\n",
       "      <td>79</td>\n",
       "      <td>SkinnyIndonesian24   Prabowo VS Jokowi - Epic ...</td>\n",
       "      <td>reaksi keluarga viralnya video adhisty zara</td>\n",
       "    </tr>\n",
       "    <tr>\n",
       "      <th>4</th>\n",
       "      <td>AP0NACavjfk</td>\n",
       "      <td>SkinnyIndonesian24 | Prabowo VS Jokowi - Epic ...</td>\n",
       "      <td>Harun</td>\n",
       "      <td>https://youtu.be/pb3s_nRph0A</td>\n",
       "      <td>UgyhtL5zop9dDKYK_ap4AaABAg</td>\n",
       "      <td>2019-04-10 04:36:45</td>\n",
       "      <td>0</td>\n",
       "      <td>0</td>\n",
       "      <td>spam</td>\n",
       "      <td>28</td>\n",
       "      <td>SkinnyIndonesian24   Prabowo VS Jokowi - Epic ...</td>\n",
       "      <td></td>\n",
       "    </tr>\n",
       "    <tr>\n",
       "      <th>5</th>\n",
       "      <td>AP0NACavjfk</td>\n",
       "      <td>SkinnyIndonesian24 | Prabowo VS Jokowi - Epic ...</td>\n",
       "      <td>Herry Daniel Marpaung TV</td>\n",
       "      <td>Subscribe Chanel saya ya. Baru buat hehehe. Te...</td>\n",
       "      <td>UgzoyEQ5jV2_hJV7aTN4AaABAg</td>\n",
       "      <td>2019-04-11 05:51:30</td>\n",
       "      <td>0</td>\n",
       "      <td>0</td>\n",
       "      <td>spam</td>\n",
       "      <td>56</td>\n",
       "      <td>SkinnyIndonesian24   Prabowo VS Jokowi - Epic ...</td>\n",
       "      <td>subscribe channel saya ya baru tertawa terima ...</td>\n",
       "    </tr>\n",
       "    <tr>\n",
       "      <th>6</th>\n",
       "      <td>AP0NACavjfk</td>\n",
       "      <td>SkinnyIndonesian24 | Prabowo VS Jokowi - Epic ...</td>\n",
       "      <td>DimDimm</td>\n",
       "      <td>Asli di buka bukain kartu Jokowi 😂</td>\n",
       "      <td>UgwMxqtpZ5O3n3T-9WJ4AaABAg</td>\n",
       "      <td>2019-04-10 09:57:38</td>\n",
       "      <td>0</td>\n",
       "      <td>0</td>\n",
       "      <td>legitimate</td>\n",
       "      <td>34</td>\n",
       "      <td>SkinnyIndonesian24   Prabowo VS Jokowi - Epic ...</td>\n",
       "      <td>asli buka bukain kartu jokowi 😂</td>\n",
       "    </tr>\n",
       "    <tr>\n",
       "      <th>7</th>\n",
       "      <td>AP0NACavjfk</td>\n",
       "      <td>SkinnyIndonesian24 | Prabowo VS Jokowi - Epic ...</td>\n",
       "      <td>Lia Tema</td>\n",
       "      <td>Tuhan Roh Kudus , Tuhan Ruhul Qudus akan melaw...</td>\n",
       "      <td>UgwlTTawAuZrboIAWGp4AaABAg</td>\n",
       "      <td>2019-04-10 00:17:15</td>\n",
       "      <td>1</td>\n",
       "      <td>2</td>\n",
       "      <td>spam</td>\n",
       "      <td>526</td>\n",
       "      <td>SkinnyIndonesian24   Prabowo VS Jokowi - Epic ...</td>\n",
       "      <td>tuhan roh kudus tuhan ruhul qudus melawat penu...</td>\n",
       "    </tr>\n",
       "    <tr>\n",
       "      <th>8</th>\n",
       "      <td>0iLgiRBQzzs</td>\n",
       "      <td>Panas! Jokowi VS Prabowo Saling Serang soal Ko...</td>\n",
       "      <td>Apri Kurniawan</td>\n",
       "      <td>Bapak Prabowo BLUNDER Bismillah Pak Jokowi RI1</td>\n",
       "      <td>UgwPaVWA-92mpdaX8Il4AaABAg</td>\n",
       "      <td>2019-01-17 17:56:38</td>\n",
       "      <td>0</td>\n",
       "      <td>0</td>\n",
       "      <td>legitimate</td>\n",
       "      <td>46</td>\n",
       "      <td>Panas  Jokowi VS Prabowo Saling Serang soal Ko...</td>\n",
       "      <td>bapak prabowo blunder bismillah bapak jokowi ri1</td>\n",
       "    </tr>\n",
       "    <tr>\n",
       "      <th>9</th>\n",
       "      <td>AP0NACavjfk</td>\n",
       "      <td>SkinnyIndonesian24 | Prabowo VS Jokowi - Epic ...</td>\n",
       "      <td>Pelukis Dendam</td>\n",
       "      <td>Mantappppp bisa gusur kpopers..</td>\n",
       "      <td>UgyFgwvnOybH98DrxGV4AaABAg</td>\n",
       "      <td>2019-04-09 13:36:40</td>\n",
       "      <td>0</td>\n",
       "      <td>0</td>\n",
       "      <td>legitimate</td>\n",
       "      <td>31</td>\n",
       "      <td>SkinnyIndonesian24   Prabowo VS Jokowi - Epic ...</td>\n",
       "      <td>mantap bisa gusur kpopers</td>\n",
       "    </tr>\n",
       "  </tbody>\n",
       "</table>\n",
       "</div>"
      ],
      "text/plain": [
       "      Video_Id                                             Tittle  \\\n",
       "0  AP0NACavjfk  SkinnyIndonesian24 | Prabowo VS Jokowi - Epic ...   \n",
       "1  AP0NACavjfk  SkinnyIndonesian24 | Prabowo VS Jokowi - Epic ...   \n",
       "2  AP0NACavjfk  SkinnyIndonesian24 | Prabowo VS Jokowi - Epic ...   \n",
       "3  AP0NACavjfk  SkinnyIndonesian24 | Prabowo VS Jokowi - Epic ...   \n",
       "4  AP0NACavjfk  SkinnyIndonesian24 | Prabowo VS Jokowi - Epic ...   \n",
       "5  AP0NACavjfk  SkinnyIndonesian24 | Prabowo VS Jokowi - Epic ...   \n",
       "6  AP0NACavjfk  SkinnyIndonesian24 | Prabowo VS Jokowi - Epic ...   \n",
       "7  AP0NACavjfk  SkinnyIndonesian24 | Prabowo VS Jokowi - Epic ...   \n",
       "8  0iLgiRBQzzs  Panas! Jokowi VS Prabowo Saling Serang soal Ko...   \n",
       "9  AP0NACavjfk  SkinnyIndonesian24 | Prabowo VS Jokowi - Epic ...   \n",
       "\n",
       "                       Name  \\\n",
       "0                  rezahami   \n",
       "1          Hideaki Official   \n",
       "2                     Angga   \n",
       "3      Yuris Muda Indonesia   \n",
       "4                     Harun   \n",
       "5  Herry Daniel Marpaung TV   \n",
       "6                   DimDimm   \n",
       "7                  Lia Tema   \n",
       "8            Apri Kurniawan   \n",
       "9            Pelukis Dendam   \n",
       "\n",
       "                                             Comment  \\\n",
       "0               Hatta apakah perjuangan kita sia sia   \n",
       "1                  Gua udh subscribe subscribe balik   \n",
       "2  @Dewi Larasati edit : https://youtu.be/NWT9x1l...   \n",
       "3  Reaksi Keluarga atas viralnya Video Adhisty Za...   \n",
       "4                       https://youtu.be/pb3s_nRph0A   \n",
       "5  Subscribe Chanel saya ya. Baru buat hehehe. Te...   \n",
       "6                 Asli di buka bukain kartu Jokowi 😂   \n",
       "7  Tuhan Roh Kudus , Tuhan Ruhul Qudus akan melaw...   \n",
       "8     Bapak Prabowo BLUNDER Bismillah Pak Jokowi RI1   \n",
       "9                    Mantappppp bisa gusur kpopers..   \n",
       "\n",
       "                                          Comment_Id                 Time  \\\n",
       "0                         UgwpS011zzqiZi9A0BF4AaABAg  2019-04-14 01:32:26   \n",
       "1                         Ugy219edTzKN3ieYLgZ4AaABAg  2019-04-28 00:46:56   \n",
       "2  Ugx1Zf0lTk9Shoi4OOx4AaABAg.8tbq-alpG788tbzqmaf5tl  2019-04-12 08:07:02   \n",
       "3                         UgzVxlllFfL7E9Qw2zR4AaABAg  2020-08-22 03:06:34   \n",
       "4                         UgyhtL5zop9dDKYK_ap4AaABAg  2019-04-10 04:36:45   \n",
       "5                         UgzoyEQ5jV2_hJV7aTN4AaABAg  2019-04-11 05:51:30   \n",
       "6                         UgwMxqtpZ5O3n3T-9WJ4AaABAg  2019-04-10 09:57:38   \n",
       "7                         UgwlTTawAuZrboIAWGp4AaABAg  2019-04-10 00:17:15   \n",
       "8                         UgwPaVWA-92mpdaX8Il4AaABAg  2019-01-17 17:56:38   \n",
       "9                         UgyFgwvnOybH98DrxGV4AaABAg  2019-04-09 13:36:40   \n",
       "\n",
       "   Likes  Reply_Count       Label  Length_Comment  \\\n",
       "0      0            0  legitimate              36   \n",
       "1      0            0        spam              33   \n",
       "2      0            0        spam              50   \n",
       "3      0            1        spam              79   \n",
       "4      0            0        spam              28   \n",
       "5      0            0        spam              56   \n",
       "6      0            0  legitimate              34   \n",
       "7      1            2        spam             526   \n",
       "8      0            0  legitimate              46   \n",
       "9      0            0  legitimate              31   \n",
       "\n",
       "                                       cleaned_title  \\\n",
       "0  SkinnyIndonesian24   Prabowo VS Jokowi - Epic ...   \n",
       "1  SkinnyIndonesian24   Prabowo VS Jokowi - Epic ...   \n",
       "2  SkinnyIndonesian24   Prabowo VS Jokowi - Epic ...   \n",
       "3  SkinnyIndonesian24   Prabowo VS Jokowi - Epic ...   \n",
       "4  SkinnyIndonesian24   Prabowo VS Jokowi - Epic ...   \n",
       "5  SkinnyIndonesian24   Prabowo VS Jokowi - Epic ...   \n",
       "6  SkinnyIndonesian24   Prabowo VS Jokowi - Epic ...   \n",
       "7  SkinnyIndonesian24   Prabowo VS Jokowi - Epic ...   \n",
       "8  Panas  Jokowi VS Prabowo Saling Serang soal Ko...   \n",
       "9  SkinnyIndonesian24   Prabowo VS Jokowi - Epic ...   \n",
       "\n",
       "                                   cleaned_comment_1  \n",
       "0               hatta apakah perjuangan kita sia sia  \n",
       "1                   saya subscribe subscribe kembali  \n",
       "2                                 dewi larasati edit  \n",
       "3        reaksi keluarga viralnya video adhisty zara  \n",
       "4                                                     \n",
       "5  subscribe channel saya ya baru tertawa terima ...  \n",
       "6                    asli buka bukain kartu jokowi 😂  \n",
       "7  tuhan roh kudus tuhan ruhul qudus melawat penu...  \n",
       "8   bapak prabowo blunder bismillah bapak jokowi ri1  \n",
       "9                          mantap bisa gusur kpopers  "
      ]
     },
     "execution_count": 35,
     "metadata": {},
     "output_type": "execute_result"
    }
   ],
   "source": [
    "toyData"
   ]
  },
  {
   "cell_type": "markdown",
   "metadata": {},
   "source": [
    "**cleaned_comment_2**\n",
    "\n",
    "Pada proses cleaning comment kedua ini **tidak melakukan** beberapa hal:\n",
    "- remove emoji\n",
    "- remove url"
   ]
  },
  {
   "cell_type": "code",
   "execution_count": 36,
   "metadata": {},
   "outputs": [],
   "source": [
    "toyData['cleaned_comment_2'] = toyData['Comment'].apply(lambda x: lower(x))\n",
    "#toyData['cleaned_comment_2'] = toyData['cleaned_comment_2'].apply(lambda x: remove_emoji(x))\n",
    "#toyData[\"cleaned_comment_2\"] = toyData[\"cleaned_comment_2\"].apply(lambda x: detecturl(x))\n",
    "toyData['cleaned_comment_2'] = toyData['cleaned_comment_2'].apply(lambda x: remove_punc_except_urls(x))\n",
    "#toyData['cleaned_comment_2'] = toyData['cleaned_comment_2'].apply(lambda x: clean_punct(x))\n",
    "#toyData['cleaned_comment_2'] = toyData['cleaned_comment_2'].apply(lambda x: hastag(x))\n",
    "toyData['cleaned_comment_2'] = toyData['cleaned_comment_2'].apply(lambda x: white_spaces(x))\n",
    "toyData['cleaned_comment_2'] = toyData['cleaned_comment_2'].apply(lambda x: clean_stopwords(x))\n",
    "toyData['cleaned_comment_2'] = toyData['cleaned_comment_2'].apply(lambda x: en_stopwords(x))\n",
    "toyData['cleaned_comment_2'] = toyData['cleaned_comment_2'].apply(lambda x: id_stopwords(x))\n",
    "toyData['cleaned_comment_2'] = toyData['cleaned_comment_2'].apply(lambda x: slang(x))"
   ]
  },
  {
   "cell_type": "code",
   "execution_count": 37,
   "metadata": {},
   "outputs": [
    {
     "data": {
      "text/html": [
       "<div>\n",
       "<style scoped>\n",
       "    .dataframe tbody tr th:only-of-type {\n",
       "        vertical-align: middle;\n",
       "    }\n",
       "\n",
       "    .dataframe tbody tr th {\n",
       "        vertical-align: top;\n",
       "    }\n",
       "\n",
       "    .dataframe thead th {\n",
       "        text-align: right;\n",
       "    }\n",
       "</style>\n",
       "<table border=\"1\" class=\"dataframe\">\n",
       "  <thead>\n",
       "    <tr style=\"text-align: right;\">\n",
       "      <th></th>\n",
       "      <th>Video_Id</th>\n",
       "      <th>Tittle</th>\n",
       "      <th>Name</th>\n",
       "      <th>Comment</th>\n",
       "      <th>Comment_Id</th>\n",
       "      <th>Time</th>\n",
       "      <th>Likes</th>\n",
       "      <th>Reply_Count</th>\n",
       "      <th>Label</th>\n",
       "      <th>Length_Comment</th>\n",
       "      <th>cleaned_title</th>\n",
       "      <th>cleaned_comment_1</th>\n",
       "      <th>cleaned_comment_2</th>\n",
       "    </tr>\n",
       "  </thead>\n",
       "  <tbody>\n",
       "    <tr>\n",
       "      <th>0</th>\n",
       "      <td>AP0NACavjfk</td>\n",
       "      <td>SkinnyIndonesian24 | Prabowo VS Jokowi - Epic ...</td>\n",
       "      <td>rezahami</td>\n",
       "      <td>Hatta apakah perjuangan kita sia sia</td>\n",
       "      <td>UgwpS011zzqiZi9A0BF4AaABAg</td>\n",
       "      <td>2019-04-14 01:32:26</td>\n",
       "      <td>0</td>\n",
       "      <td>0</td>\n",
       "      <td>legitimate</td>\n",
       "      <td>36</td>\n",
       "      <td>SkinnyIndonesian24   Prabowo VS Jokowi - Epic ...</td>\n",
       "      <td>hatta apakah perjuangan kita sia sia</td>\n",
       "      <td>hatta perjuangan sia sia</td>\n",
       "    </tr>\n",
       "    <tr>\n",
       "      <th>1</th>\n",
       "      <td>AP0NACavjfk</td>\n",
       "      <td>SkinnyIndonesian24 | Prabowo VS Jokowi - Epic ...</td>\n",
       "      <td>Hideaki Official</td>\n",
       "      <td>Gua udh subscribe subscribe balik</td>\n",
       "      <td>Ugy219edTzKN3ieYLgZ4AaABAg</td>\n",
       "      <td>2019-04-28 00:46:56</td>\n",
       "      <td>0</td>\n",
       "      <td>0</td>\n",
       "      <td>spam</td>\n",
       "      <td>33</td>\n",
       "      <td>SkinnyIndonesian24   Prabowo VS Jokowi - Epic ...</td>\n",
       "      <td>saya subscribe subscribe kembali</td>\n",
       "      <td>saya subscribe subscribe kembali</td>\n",
       "    </tr>\n",
       "    <tr>\n",
       "      <th>2</th>\n",
       "      <td>AP0NACavjfk</td>\n",
       "      <td>SkinnyIndonesian24 | Prabowo VS Jokowi - Epic ...</td>\n",
       "      <td>Angga</td>\n",
       "      <td>@Dewi Larasati edit : https://youtu.be/NWT9x1l...</td>\n",
       "      <td>Ugx1Zf0lTk9Shoi4OOx4AaABAg.8tbq-alpG788tbzqmaf5tl</td>\n",
       "      <td>2019-04-12 08:07:02</td>\n",
       "      <td>0</td>\n",
       "      <td>0</td>\n",
       "      <td>spam</td>\n",
       "      <td>50</td>\n",
       "      <td>SkinnyIndonesian24   Prabowo VS Jokowi - Epic ...</td>\n",
       "      <td>dewi larasati edit</td>\n",
       "      <td>dewi larasati edit https youtu.be/nwt9x1lqo8u</td>\n",
       "    </tr>\n",
       "    <tr>\n",
       "      <th>3</th>\n",
       "      <td>AP0NACavjfk</td>\n",
       "      <td>SkinnyIndonesian24 | Prabowo VS Jokowi - Epic ...</td>\n",
       "      <td>Yuris Muda Indonesia</td>\n",
       "      <td>Reaksi Keluarga atas viralnya Video Adhisty Za...</td>\n",
       "      <td>UgzVxlllFfL7E9Qw2zR4AaABAg</td>\n",
       "      <td>2020-08-22 03:06:34</td>\n",
       "      <td>0</td>\n",
       "      <td>1</td>\n",
       "      <td>spam</td>\n",
       "      <td>79</td>\n",
       "      <td>SkinnyIndonesian24   Prabowo VS Jokowi - Epic ...</td>\n",
       "      <td>reaksi keluarga viralnya video adhisty zara</td>\n",
       "      <td>reaksi keluarga viralnya video adhisty zara ht...</td>\n",
       "    </tr>\n",
       "    <tr>\n",
       "      <th>4</th>\n",
       "      <td>AP0NACavjfk</td>\n",
       "      <td>SkinnyIndonesian24 | Prabowo VS Jokowi - Epic ...</td>\n",
       "      <td>Harun</td>\n",
       "      <td>https://youtu.be/pb3s_nRph0A</td>\n",
       "      <td>UgyhtL5zop9dDKYK_ap4AaABAg</td>\n",
       "      <td>2019-04-10 04:36:45</td>\n",
       "      <td>0</td>\n",
       "      <td>0</td>\n",
       "      <td>spam</td>\n",
       "      <td>28</td>\n",
       "      <td>SkinnyIndonesian24   Prabowo VS Jokowi - Epic ...</td>\n",
       "      <td></td>\n",
       "      <td>https youtu.be/pb3s_nrph0a</td>\n",
       "    </tr>\n",
       "    <tr>\n",
       "      <th>5</th>\n",
       "      <td>AP0NACavjfk</td>\n",
       "      <td>SkinnyIndonesian24 | Prabowo VS Jokowi - Epic ...</td>\n",
       "      <td>Herry Daniel Marpaung TV</td>\n",
       "      <td>Subscribe Chanel saya ya. Baru buat hehehe. Te...</td>\n",
       "      <td>UgzoyEQ5jV2_hJV7aTN4AaABAg</td>\n",
       "      <td>2019-04-11 05:51:30</td>\n",
       "      <td>0</td>\n",
       "      <td>0</td>\n",
       "      <td>spam</td>\n",
       "      <td>56</td>\n",
       "      <td>SkinnyIndonesian24   Prabowo VS Jokowi - Epic ...</td>\n",
       "      <td>subscribe channel saya ya baru tertawa terima ...</td>\n",
       "      <td>subscribe channel baru tertawa terima kasih</td>\n",
       "    </tr>\n",
       "    <tr>\n",
       "      <th>6</th>\n",
       "      <td>AP0NACavjfk</td>\n",
       "      <td>SkinnyIndonesian24 | Prabowo VS Jokowi - Epic ...</td>\n",
       "      <td>DimDimm</td>\n",
       "      <td>Asli di buka bukain kartu Jokowi 😂</td>\n",
       "      <td>UgwMxqtpZ5O3n3T-9WJ4AaABAg</td>\n",
       "      <td>2019-04-10 09:57:38</td>\n",
       "      <td>0</td>\n",
       "      <td>0</td>\n",
       "      <td>legitimate</td>\n",
       "      <td>34</td>\n",
       "      <td>SkinnyIndonesian24   Prabowo VS Jokowi - Epic ...</td>\n",
       "      <td>asli buka bukain kartu jokowi 😂</td>\n",
       "      <td>asli buka bukain kartu jokowi</td>\n",
       "    </tr>\n",
       "    <tr>\n",
       "      <th>7</th>\n",
       "      <td>AP0NACavjfk</td>\n",
       "      <td>SkinnyIndonesian24 | Prabowo VS Jokowi - Epic ...</td>\n",
       "      <td>Lia Tema</td>\n",
       "      <td>Tuhan Roh Kudus , Tuhan Ruhul Qudus akan melaw...</td>\n",
       "      <td>UgwlTTawAuZrboIAWGp4AaABAg</td>\n",
       "      <td>2019-04-10 00:17:15</td>\n",
       "      <td>1</td>\n",
       "      <td>2</td>\n",
       "      <td>spam</td>\n",
       "      <td>526</td>\n",
       "      <td>SkinnyIndonesian24   Prabowo VS Jokowi - Epic ...</td>\n",
       "      <td>tuhan roh kudus tuhan ruhul qudus melawat penu...</td>\n",
       "      <td>tuhan roh kudus tuhan ruhul qudus melawat penu...</td>\n",
       "    </tr>\n",
       "    <tr>\n",
       "      <th>8</th>\n",
       "      <td>0iLgiRBQzzs</td>\n",
       "      <td>Panas! Jokowi VS Prabowo Saling Serang soal Ko...</td>\n",
       "      <td>Apri Kurniawan</td>\n",
       "      <td>Bapak Prabowo BLUNDER Bismillah Pak Jokowi RI1</td>\n",
       "      <td>UgwPaVWA-92mpdaX8Il4AaABAg</td>\n",
       "      <td>2019-01-17 17:56:38</td>\n",
       "      <td>0</td>\n",
       "      <td>0</td>\n",
       "      <td>legitimate</td>\n",
       "      <td>46</td>\n",
       "      <td>Panas  Jokowi VS Prabowo Saling Serang soal Ko...</td>\n",
       "      <td>bapak prabowo blunder bismillah bapak jokowi ri1</td>\n",
       "      <td>bapak prabowo blunder bismillah bapak jokowi ri1</td>\n",
       "    </tr>\n",
       "    <tr>\n",
       "      <th>9</th>\n",
       "      <td>AP0NACavjfk</td>\n",
       "      <td>SkinnyIndonesian24 | Prabowo VS Jokowi - Epic ...</td>\n",
       "      <td>Pelukis Dendam</td>\n",
       "      <td>Mantappppp bisa gusur kpopers..</td>\n",
       "      <td>UgyFgwvnOybH98DrxGV4AaABAg</td>\n",
       "      <td>2019-04-09 13:36:40</td>\n",
       "      <td>0</td>\n",
       "      <td>0</td>\n",
       "      <td>legitimate</td>\n",
       "      <td>31</td>\n",
       "      <td>SkinnyIndonesian24   Prabowo VS Jokowi - Epic ...</td>\n",
       "      <td>mantap bisa gusur kpopers</td>\n",
       "      <td>mantap gusur kpopers</td>\n",
       "    </tr>\n",
       "  </tbody>\n",
       "</table>\n",
       "</div>"
      ],
      "text/plain": [
       "      Video_Id                                             Tittle  \\\n",
       "0  AP0NACavjfk  SkinnyIndonesian24 | Prabowo VS Jokowi - Epic ...   \n",
       "1  AP0NACavjfk  SkinnyIndonesian24 | Prabowo VS Jokowi - Epic ...   \n",
       "2  AP0NACavjfk  SkinnyIndonesian24 | Prabowo VS Jokowi - Epic ...   \n",
       "3  AP0NACavjfk  SkinnyIndonesian24 | Prabowo VS Jokowi - Epic ...   \n",
       "4  AP0NACavjfk  SkinnyIndonesian24 | Prabowo VS Jokowi - Epic ...   \n",
       "5  AP0NACavjfk  SkinnyIndonesian24 | Prabowo VS Jokowi - Epic ...   \n",
       "6  AP0NACavjfk  SkinnyIndonesian24 | Prabowo VS Jokowi - Epic ...   \n",
       "7  AP0NACavjfk  SkinnyIndonesian24 | Prabowo VS Jokowi - Epic ...   \n",
       "8  0iLgiRBQzzs  Panas! Jokowi VS Prabowo Saling Serang soal Ko...   \n",
       "9  AP0NACavjfk  SkinnyIndonesian24 | Prabowo VS Jokowi - Epic ...   \n",
       "\n",
       "                       Name  \\\n",
       "0                  rezahami   \n",
       "1          Hideaki Official   \n",
       "2                     Angga   \n",
       "3      Yuris Muda Indonesia   \n",
       "4                     Harun   \n",
       "5  Herry Daniel Marpaung TV   \n",
       "6                   DimDimm   \n",
       "7                  Lia Tema   \n",
       "8            Apri Kurniawan   \n",
       "9            Pelukis Dendam   \n",
       "\n",
       "                                             Comment  \\\n",
       "0               Hatta apakah perjuangan kita sia sia   \n",
       "1                  Gua udh subscribe subscribe balik   \n",
       "2  @Dewi Larasati edit : https://youtu.be/NWT9x1l...   \n",
       "3  Reaksi Keluarga atas viralnya Video Adhisty Za...   \n",
       "4                       https://youtu.be/pb3s_nRph0A   \n",
       "5  Subscribe Chanel saya ya. Baru buat hehehe. Te...   \n",
       "6                 Asli di buka bukain kartu Jokowi 😂   \n",
       "7  Tuhan Roh Kudus , Tuhan Ruhul Qudus akan melaw...   \n",
       "8     Bapak Prabowo BLUNDER Bismillah Pak Jokowi RI1   \n",
       "9                    Mantappppp bisa gusur kpopers..   \n",
       "\n",
       "                                          Comment_Id                 Time  \\\n",
       "0                         UgwpS011zzqiZi9A0BF4AaABAg  2019-04-14 01:32:26   \n",
       "1                         Ugy219edTzKN3ieYLgZ4AaABAg  2019-04-28 00:46:56   \n",
       "2  Ugx1Zf0lTk9Shoi4OOx4AaABAg.8tbq-alpG788tbzqmaf5tl  2019-04-12 08:07:02   \n",
       "3                         UgzVxlllFfL7E9Qw2zR4AaABAg  2020-08-22 03:06:34   \n",
       "4                         UgyhtL5zop9dDKYK_ap4AaABAg  2019-04-10 04:36:45   \n",
       "5                         UgzoyEQ5jV2_hJV7aTN4AaABAg  2019-04-11 05:51:30   \n",
       "6                         UgwMxqtpZ5O3n3T-9WJ4AaABAg  2019-04-10 09:57:38   \n",
       "7                         UgwlTTawAuZrboIAWGp4AaABAg  2019-04-10 00:17:15   \n",
       "8                         UgwPaVWA-92mpdaX8Il4AaABAg  2019-01-17 17:56:38   \n",
       "9                         UgyFgwvnOybH98DrxGV4AaABAg  2019-04-09 13:36:40   \n",
       "\n",
       "   Likes  Reply_Count       Label  Length_Comment  \\\n",
       "0      0            0  legitimate              36   \n",
       "1      0            0        spam              33   \n",
       "2      0            0        spam              50   \n",
       "3      0            1        spam              79   \n",
       "4      0            0        spam              28   \n",
       "5      0            0        spam              56   \n",
       "6      0            0  legitimate              34   \n",
       "7      1            2        spam             526   \n",
       "8      0            0  legitimate              46   \n",
       "9      0            0  legitimate              31   \n",
       "\n",
       "                                       cleaned_title  \\\n",
       "0  SkinnyIndonesian24   Prabowo VS Jokowi - Epic ...   \n",
       "1  SkinnyIndonesian24   Prabowo VS Jokowi - Epic ...   \n",
       "2  SkinnyIndonesian24   Prabowo VS Jokowi - Epic ...   \n",
       "3  SkinnyIndonesian24   Prabowo VS Jokowi - Epic ...   \n",
       "4  SkinnyIndonesian24   Prabowo VS Jokowi - Epic ...   \n",
       "5  SkinnyIndonesian24   Prabowo VS Jokowi - Epic ...   \n",
       "6  SkinnyIndonesian24   Prabowo VS Jokowi - Epic ...   \n",
       "7  SkinnyIndonesian24   Prabowo VS Jokowi - Epic ...   \n",
       "8  Panas  Jokowi VS Prabowo Saling Serang soal Ko...   \n",
       "9  SkinnyIndonesian24   Prabowo VS Jokowi - Epic ...   \n",
       "\n",
       "                                   cleaned_comment_1  \\\n",
       "0               hatta apakah perjuangan kita sia sia   \n",
       "1                   saya subscribe subscribe kembali   \n",
       "2                                 dewi larasati edit   \n",
       "3        reaksi keluarga viralnya video adhisty zara   \n",
       "4                                                      \n",
       "5  subscribe channel saya ya baru tertawa terima ...   \n",
       "6                    asli buka bukain kartu jokowi 😂   \n",
       "7  tuhan roh kudus tuhan ruhul qudus melawat penu...   \n",
       "8   bapak prabowo blunder bismillah bapak jokowi ri1   \n",
       "9                          mantap bisa gusur kpopers   \n",
       "\n",
       "                                   cleaned_comment_2  \n",
       "0                           hatta perjuangan sia sia  \n",
       "1                   saya subscribe subscribe kembali  \n",
       "2      dewi larasati edit https youtu.be/nwt9x1lqo8u  \n",
       "3  reaksi keluarga viralnya video adhisty zara ht...  \n",
       "4                         https youtu.be/pb3s_nrph0a  \n",
       "5        subscribe channel baru tertawa terima kasih  \n",
       "6                      asli buka bukain kartu jokowi  \n",
       "7  tuhan roh kudus tuhan ruhul qudus melawat penu...  \n",
       "8   bapak prabowo blunder bismillah bapak jokowi ri1  \n",
       "9                               mantap gusur kpopers  "
      ]
     },
     "execution_count": 37,
     "metadata": {},
     "output_type": "execute_result"
    }
   ],
   "source": [
    "toyData"
   ]
  },
  {
   "cell_type": "markdown",
   "metadata": {},
   "source": [
    "**cleaned_comment_3**\n",
    "\n",
    "Pada proses cleaning comment ketiga ini **melakukan** beberapa hal:\n",
    "- remove emoji\n",
    "- remove url\n",
    "- remove punctuation\n",
    "- remove number\n",
    "- remove stopwords\n",
    "- replace slangwords"
   ]
  },
  {
   "cell_type": "code",
   "execution_count": 38,
   "metadata": {},
   "outputs": [],
   "source": [
    "toyData['cleaned_comment_3'] = toyData['Comment'].apply(lambda x: lower(x))\n",
    "toyData['cleaned_comment_3'] = toyData['cleaned_comment_3'].apply(lambda x: remove_emoji(x))\n",
    "toyData[\"cleaned_comment_3\"] = toyData[\"cleaned_comment_3\"].apply(lambda x: detecturl(x))\n",
    "toyData['cleaned_comment_3'] = toyData['cleaned_comment_3'].apply(lambda x: remove_numbers(x))\n",
    "toyData['cleaned_comment_3'] = toyData['cleaned_comment_3'].apply(lambda x: clean_punct(x))\n",
    "toyData['cleaned_comment_3'] = toyData['cleaned_comment_3'].apply(lambda x: hastag(x))\n",
    "toyData['cleaned_comment_3'] = toyData['cleaned_comment_3'].apply(lambda x: white_spaces(x))\n",
    "toyData['cleaned_comment_3'] = toyData['cleaned_comment_3'].apply(lambda x: clean_stopwords(x))\n",
    "toyData['cleaned_comment_3'] = toyData['cleaned_comment_3'].apply(lambda x: en_stopwords(x))\n",
    "toyData['cleaned_comment_3'] = toyData['cleaned_comment_3'].apply(lambda x: id_stopwords(x))\n",
    "toyData['cleaned_comment_3'] = toyData['cleaned_comment_3'].apply(lambda x: slang(x))"
   ]
  },
  {
   "cell_type": "code",
   "execution_count": 39,
   "metadata": {},
   "outputs": [
    {
     "data": {
      "text/html": [
       "<div>\n",
       "<style scoped>\n",
       "    .dataframe tbody tr th:only-of-type {\n",
       "        vertical-align: middle;\n",
       "    }\n",
       "\n",
       "    .dataframe tbody tr th {\n",
       "        vertical-align: top;\n",
       "    }\n",
       "\n",
       "    .dataframe thead th {\n",
       "        text-align: right;\n",
       "    }\n",
       "</style>\n",
       "<table border=\"1\" class=\"dataframe\">\n",
       "  <thead>\n",
       "    <tr style=\"text-align: right;\">\n",
       "      <th></th>\n",
       "      <th>Video_Id</th>\n",
       "      <th>Tittle</th>\n",
       "      <th>Name</th>\n",
       "      <th>Comment</th>\n",
       "      <th>Comment_Id</th>\n",
       "      <th>Time</th>\n",
       "      <th>Likes</th>\n",
       "      <th>Reply_Count</th>\n",
       "      <th>Label</th>\n",
       "      <th>Length_Comment</th>\n",
       "      <th>cleaned_title</th>\n",
       "      <th>cleaned_comment_1</th>\n",
       "      <th>cleaned_comment_2</th>\n",
       "      <th>cleaned_comment_3</th>\n",
       "    </tr>\n",
       "  </thead>\n",
       "  <tbody>\n",
       "    <tr>\n",
       "      <th>0</th>\n",
       "      <td>AP0NACavjfk</td>\n",
       "      <td>SkinnyIndonesian24 | Prabowo VS Jokowi - Epic ...</td>\n",
       "      <td>rezahami</td>\n",
       "      <td>Hatta apakah perjuangan kita sia sia</td>\n",
       "      <td>UgwpS011zzqiZi9A0BF4AaABAg</td>\n",
       "      <td>2019-04-14 01:32:26</td>\n",
       "      <td>0</td>\n",
       "      <td>0</td>\n",
       "      <td>legitimate</td>\n",
       "      <td>36</td>\n",
       "      <td>SkinnyIndonesian24   Prabowo VS Jokowi - Epic ...</td>\n",
       "      <td>hatta apakah perjuangan kita sia sia</td>\n",
       "      <td>hatta perjuangan sia sia</td>\n",
       "      <td>hatta perjuangan sia sia</td>\n",
       "    </tr>\n",
       "    <tr>\n",
       "      <th>1</th>\n",
       "      <td>AP0NACavjfk</td>\n",
       "      <td>SkinnyIndonesian24 | Prabowo VS Jokowi - Epic ...</td>\n",
       "      <td>Hideaki Official</td>\n",
       "      <td>Gua udh subscribe subscribe balik</td>\n",
       "      <td>Ugy219edTzKN3ieYLgZ4AaABAg</td>\n",
       "      <td>2019-04-28 00:46:56</td>\n",
       "      <td>0</td>\n",
       "      <td>0</td>\n",
       "      <td>spam</td>\n",
       "      <td>33</td>\n",
       "      <td>SkinnyIndonesian24   Prabowo VS Jokowi - Epic ...</td>\n",
       "      <td>saya subscribe subscribe kembali</td>\n",
       "      <td>saya subscribe subscribe kembali</td>\n",
       "      <td>saya subscribe subscribe kembali</td>\n",
       "    </tr>\n",
       "    <tr>\n",
       "      <th>2</th>\n",
       "      <td>AP0NACavjfk</td>\n",
       "      <td>SkinnyIndonesian24 | Prabowo VS Jokowi - Epic ...</td>\n",
       "      <td>Angga</td>\n",
       "      <td>@Dewi Larasati edit : https://youtu.be/NWT9x1l...</td>\n",
       "      <td>Ugx1Zf0lTk9Shoi4OOx4AaABAg.8tbq-alpG788tbzqmaf5tl</td>\n",
       "      <td>2019-04-12 08:07:02</td>\n",
       "      <td>0</td>\n",
       "      <td>0</td>\n",
       "      <td>spam</td>\n",
       "      <td>50</td>\n",
       "      <td>SkinnyIndonesian24   Prabowo VS Jokowi - Epic ...</td>\n",
       "      <td>dewi larasati edit</td>\n",
       "      <td>dewi larasati edit https youtu.be/nwt9x1lqo8u</td>\n",
       "      <td>dewi larasati edit</td>\n",
       "    </tr>\n",
       "    <tr>\n",
       "      <th>3</th>\n",
       "      <td>AP0NACavjfk</td>\n",
       "      <td>SkinnyIndonesian24 | Prabowo VS Jokowi - Epic ...</td>\n",
       "      <td>Yuris Muda Indonesia</td>\n",
       "      <td>Reaksi Keluarga atas viralnya Video Adhisty Za...</td>\n",
       "      <td>UgzVxlllFfL7E9Qw2zR4AaABAg</td>\n",
       "      <td>2020-08-22 03:06:34</td>\n",
       "      <td>0</td>\n",
       "      <td>1</td>\n",
       "      <td>spam</td>\n",
       "      <td>79</td>\n",
       "      <td>SkinnyIndonesian24   Prabowo VS Jokowi - Epic ...</td>\n",
       "      <td>reaksi keluarga viralnya video adhisty zara</td>\n",
       "      <td>reaksi keluarga viralnya video adhisty zara ht...</td>\n",
       "      <td>reaksi keluarga viralnya video adhisty zara</td>\n",
       "    </tr>\n",
       "    <tr>\n",
       "      <th>4</th>\n",
       "      <td>AP0NACavjfk</td>\n",
       "      <td>SkinnyIndonesian24 | Prabowo VS Jokowi - Epic ...</td>\n",
       "      <td>Harun</td>\n",
       "      <td>https://youtu.be/pb3s_nRph0A</td>\n",
       "      <td>UgyhtL5zop9dDKYK_ap4AaABAg</td>\n",
       "      <td>2019-04-10 04:36:45</td>\n",
       "      <td>0</td>\n",
       "      <td>0</td>\n",
       "      <td>spam</td>\n",
       "      <td>28</td>\n",
       "      <td>SkinnyIndonesian24   Prabowo VS Jokowi - Epic ...</td>\n",
       "      <td></td>\n",
       "      <td>https youtu.be/pb3s_nrph0a</td>\n",
       "      <td></td>\n",
       "    </tr>\n",
       "    <tr>\n",
       "      <th>5</th>\n",
       "      <td>AP0NACavjfk</td>\n",
       "      <td>SkinnyIndonesian24 | Prabowo VS Jokowi - Epic ...</td>\n",
       "      <td>Herry Daniel Marpaung TV</td>\n",
       "      <td>Subscribe Chanel saya ya. Baru buat hehehe. Te...</td>\n",
       "      <td>UgzoyEQ5jV2_hJV7aTN4AaABAg</td>\n",
       "      <td>2019-04-11 05:51:30</td>\n",
       "      <td>0</td>\n",
       "      <td>0</td>\n",
       "      <td>spam</td>\n",
       "      <td>56</td>\n",
       "      <td>SkinnyIndonesian24   Prabowo VS Jokowi - Epic ...</td>\n",
       "      <td>subscribe channel saya ya baru tertawa terima ...</td>\n",
       "      <td>subscribe channel baru tertawa terima kasih</td>\n",
       "      <td>subscribe channel ya baru tertawa terima kasih</td>\n",
       "    </tr>\n",
       "    <tr>\n",
       "      <th>6</th>\n",
       "      <td>AP0NACavjfk</td>\n",
       "      <td>SkinnyIndonesian24 | Prabowo VS Jokowi - Epic ...</td>\n",
       "      <td>DimDimm</td>\n",
       "      <td>Asli di buka bukain kartu Jokowi 😂</td>\n",
       "      <td>UgwMxqtpZ5O3n3T-9WJ4AaABAg</td>\n",
       "      <td>2019-04-10 09:57:38</td>\n",
       "      <td>0</td>\n",
       "      <td>0</td>\n",
       "      <td>legitimate</td>\n",
       "      <td>34</td>\n",
       "      <td>SkinnyIndonesian24   Prabowo VS Jokowi - Epic ...</td>\n",
       "      <td>asli buka bukain kartu jokowi 😂</td>\n",
       "      <td>asli buka bukain kartu jokowi</td>\n",
       "      <td>asli buka bukain kartu jokowi</td>\n",
       "    </tr>\n",
       "    <tr>\n",
       "      <th>7</th>\n",
       "      <td>AP0NACavjfk</td>\n",
       "      <td>SkinnyIndonesian24 | Prabowo VS Jokowi - Epic ...</td>\n",
       "      <td>Lia Tema</td>\n",
       "      <td>Tuhan Roh Kudus , Tuhan Ruhul Qudus akan melaw...</td>\n",
       "      <td>UgwlTTawAuZrboIAWGp4AaABAg</td>\n",
       "      <td>2019-04-10 00:17:15</td>\n",
       "      <td>1</td>\n",
       "      <td>2</td>\n",
       "      <td>spam</td>\n",
       "      <td>526</td>\n",
       "      <td>SkinnyIndonesian24   Prabowo VS Jokowi - Epic ...</td>\n",
       "      <td>tuhan roh kudus tuhan ruhul qudus melawat penu...</td>\n",
       "      <td>tuhan roh kudus tuhan ruhul qudus melawat penu...</td>\n",
       "      <td>tuhan roh kudus tuhan ruhul qudus melawat penu...</td>\n",
       "    </tr>\n",
       "    <tr>\n",
       "      <th>8</th>\n",
       "      <td>0iLgiRBQzzs</td>\n",
       "      <td>Panas! Jokowi VS Prabowo Saling Serang soal Ko...</td>\n",
       "      <td>Apri Kurniawan</td>\n",
       "      <td>Bapak Prabowo BLUNDER Bismillah Pak Jokowi RI1</td>\n",
       "      <td>UgwPaVWA-92mpdaX8Il4AaABAg</td>\n",
       "      <td>2019-01-17 17:56:38</td>\n",
       "      <td>0</td>\n",
       "      <td>0</td>\n",
       "      <td>legitimate</td>\n",
       "      <td>46</td>\n",
       "      <td>Panas  Jokowi VS Prabowo Saling Serang soal Ko...</td>\n",
       "      <td>bapak prabowo blunder bismillah bapak jokowi ri1</td>\n",
       "      <td>bapak prabowo blunder bismillah bapak jokowi ri1</td>\n",
       "      <td>bapak prabowo blunder bismillah bapak jokowi ri</td>\n",
       "    </tr>\n",
       "    <tr>\n",
       "      <th>9</th>\n",
       "      <td>AP0NACavjfk</td>\n",
       "      <td>SkinnyIndonesian24 | Prabowo VS Jokowi - Epic ...</td>\n",
       "      <td>Pelukis Dendam</td>\n",
       "      <td>Mantappppp bisa gusur kpopers..</td>\n",
       "      <td>UgyFgwvnOybH98DrxGV4AaABAg</td>\n",
       "      <td>2019-04-09 13:36:40</td>\n",
       "      <td>0</td>\n",
       "      <td>0</td>\n",
       "      <td>legitimate</td>\n",
       "      <td>31</td>\n",
       "      <td>SkinnyIndonesian24   Prabowo VS Jokowi - Epic ...</td>\n",
       "      <td>mantap bisa gusur kpopers</td>\n",
       "      <td>mantap gusur kpopers</td>\n",
       "      <td>mantap gusur kpopers</td>\n",
       "    </tr>\n",
       "  </tbody>\n",
       "</table>\n",
       "</div>"
      ],
      "text/plain": [
       "      Video_Id                                             Tittle  \\\n",
       "0  AP0NACavjfk  SkinnyIndonesian24 | Prabowo VS Jokowi - Epic ...   \n",
       "1  AP0NACavjfk  SkinnyIndonesian24 | Prabowo VS Jokowi - Epic ...   \n",
       "2  AP0NACavjfk  SkinnyIndonesian24 | Prabowo VS Jokowi - Epic ...   \n",
       "3  AP0NACavjfk  SkinnyIndonesian24 | Prabowo VS Jokowi - Epic ...   \n",
       "4  AP0NACavjfk  SkinnyIndonesian24 | Prabowo VS Jokowi - Epic ...   \n",
       "5  AP0NACavjfk  SkinnyIndonesian24 | Prabowo VS Jokowi - Epic ...   \n",
       "6  AP0NACavjfk  SkinnyIndonesian24 | Prabowo VS Jokowi - Epic ...   \n",
       "7  AP0NACavjfk  SkinnyIndonesian24 | Prabowo VS Jokowi - Epic ...   \n",
       "8  0iLgiRBQzzs  Panas! Jokowi VS Prabowo Saling Serang soal Ko...   \n",
       "9  AP0NACavjfk  SkinnyIndonesian24 | Prabowo VS Jokowi - Epic ...   \n",
       "\n",
       "                       Name  \\\n",
       "0                  rezahami   \n",
       "1          Hideaki Official   \n",
       "2                     Angga   \n",
       "3      Yuris Muda Indonesia   \n",
       "4                     Harun   \n",
       "5  Herry Daniel Marpaung TV   \n",
       "6                   DimDimm   \n",
       "7                  Lia Tema   \n",
       "8            Apri Kurniawan   \n",
       "9            Pelukis Dendam   \n",
       "\n",
       "                                             Comment  \\\n",
       "0               Hatta apakah perjuangan kita sia sia   \n",
       "1                  Gua udh subscribe subscribe balik   \n",
       "2  @Dewi Larasati edit : https://youtu.be/NWT9x1l...   \n",
       "3  Reaksi Keluarga atas viralnya Video Adhisty Za...   \n",
       "4                       https://youtu.be/pb3s_nRph0A   \n",
       "5  Subscribe Chanel saya ya. Baru buat hehehe. Te...   \n",
       "6                 Asli di buka bukain kartu Jokowi 😂   \n",
       "7  Tuhan Roh Kudus , Tuhan Ruhul Qudus akan melaw...   \n",
       "8     Bapak Prabowo BLUNDER Bismillah Pak Jokowi RI1   \n",
       "9                    Mantappppp bisa gusur kpopers..   \n",
       "\n",
       "                                          Comment_Id                 Time  \\\n",
       "0                         UgwpS011zzqiZi9A0BF4AaABAg  2019-04-14 01:32:26   \n",
       "1                         Ugy219edTzKN3ieYLgZ4AaABAg  2019-04-28 00:46:56   \n",
       "2  Ugx1Zf0lTk9Shoi4OOx4AaABAg.8tbq-alpG788tbzqmaf5tl  2019-04-12 08:07:02   \n",
       "3                         UgzVxlllFfL7E9Qw2zR4AaABAg  2020-08-22 03:06:34   \n",
       "4                         UgyhtL5zop9dDKYK_ap4AaABAg  2019-04-10 04:36:45   \n",
       "5                         UgzoyEQ5jV2_hJV7aTN4AaABAg  2019-04-11 05:51:30   \n",
       "6                         UgwMxqtpZ5O3n3T-9WJ4AaABAg  2019-04-10 09:57:38   \n",
       "7                         UgwlTTawAuZrboIAWGp4AaABAg  2019-04-10 00:17:15   \n",
       "8                         UgwPaVWA-92mpdaX8Il4AaABAg  2019-01-17 17:56:38   \n",
       "9                         UgyFgwvnOybH98DrxGV4AaABAg  2019-04-09 13:36:40   \n",
       "\n",
       "   Likes  Reply_Count       Label  Length_Comment  \\\n",
       "0      0            0  legitimate              36   \n",
       "1      0            0        spam              33   \n",
       "2      0            0        spam              50   \n",
       "3      0            1        spam              79   \n",
       "4      0            0        spam              28   \n",
       "5      0            0        spam              56   \n",
       "6      0            0  legitimate              34   \n",
       "7      1            2        spam             526   \n",
       "8      0            0  legitimate              46   \n",
       "9      0            0  legitimate              31   \n",
       "\n",
       "                                       cleaned_title  \\\n",
       "0  SkinnyIndonesian24   Prabowo VS Jokowi - Epic ...   \n",
       "1  SkinnyIndonesian24   Prabowo VS Jokowi - Epic ...   \n",
       "2  SkinnyIndonesian24   Prabowo VS Jokowi - Epic ...   \n",
       "3  SkinnyIndonesian24   Prabowo VS Jokowi - Epic ...   \n",
       "4  SkinnyIndonesian24   Prabowo VS Jokowi - Epic ...   \n",
       "5  SkinnyIndonesian24   Prabowo VS Jokowi - Epic ...   \n",
       "6  SkinnyIndonesian24   Prabowo VS Jokowi - Epic ...   \n",
       "7  SkinnyIndonesian24   Prabowo VS Jokowi - Epic ...   \n",
       "8  Panas  Jokowi VS Prabowo Saling Serang soal Ko...   \n",
       "9  SkinnyIndonesian24   Prabowo VS Jokowi - Epic ...   \n",
       "\n",
       "                                   cleaned_comment_1  \\\n",
       "0               hatta apakah perjuangan kita sia sia   \n",
       "1                   saya subscribe subscribe kembali   \n",
       "2                                 dewi larasati edit   \n",
       "3        reaksi keluarga viralnya video adhisty zara   \n",
       "4                                                      \n",
       "5  subscribe channel saya ya baru tertawa terima ...   \n",
       "6                    asli buka bukain kartu jokowi 😂   \n",
       "7  tuhan roh kudus tuhan ruhul qudus melawat penu...   \n",
       "8   bapak prabowo blunder bismillah bapak jokowi ri1   \n",
       "9                          mantap bisa gusur kpopers   \n",
       "\n",
       "                                   cleaned_comment_2  \\\n",
       "0                           hatta perjuangan sia sia   \n",
       "1                   saya subscribe subscribe kembali   \n",
       "2      dewi larasati edit https youtu.be/nwt9x1lqo8u   \n",
       "3  reaksi keluarga viralnya video adhisty zara ht...   \n",
       "4                         https youtu.be/pb3s_nrph0a   \n",
       "5        subscribe channel baru tertawa terima kasih   \n",
       "6                      asli buka bukain kartu jokowi   \n",
       "7  tuhan roh kudus tuhan ruhul qudus melawat penu...   \n",
       "8   bapak prabowo blunder bismillah bapak jokowi ri1   \n",
       "9                               mantap gusur kpopers   \n",
       "\n",
       "                                   cleaned_comment_3  \n",
       "0                           hatta perjuangan sia sia  \n",
       "1                   saya subscribe subscribe kembali  \n",
       "2                                 dewi larasati edit  \n",
       "3        reaksi keluarga viralnya video adhisty zara  \n",
       "4                                                     \n",
       "5     subscribe channel ya baru tertawa terima kasih  \n",
       "6                      asli buka bukain kartu jokowi  \n",
       "7  tuhan roh kudus tuhan ruhul qudus melawat penu...  \n",
       "8    bapak prabowo blunder bismillah bapak jokowi ri  \n",
       "9                               mantap gusur kpopers  "
      ]
     },
     "execution_count": 39,
     "metadata": {},
     "output_type": "execute_result"
    }
   ],
   "source": [
    "toyData"
   ]
  },
  {
   "cell_type": "code",
   "execution_count": 37,
   "metadata": {},
   "outputs": [],
   "source": [
    "#trial['cleaned'] = trial['cleaned'].apply(lambda x: remove_numbers(x))"
   ]
  },
  {
   "cell_type": "code",
   "execution_count": 38,
   "metadata": {},
   "outputs": [],
   "source": [
    "#trial.tail(20)"
   ]
  },
  {
   "cell_type": "code",
   "execution_count": 39,
   "metadata": {},
   "outputs": [],
   "source": [
    "#trial['cleaned'] = trial['cleaned'].apply(lambda x: remove_emoji(x))"
   ]
  },
  {
   "cell_type": "code",
   "execution_count": 111,
   "metadata": {},
   "outputs": [],
   "source": [
    "#trial.tail(20)"
   ]
  },
  {
   "cell_type": "code",
   "execution_count": 41,
   "metadata": {},
   "outputs": [],
   "source": [
    "#trial[\"cleaned\"] = trial[\"cleaned\"].apply(lambda x: detecturl(x))"
   ]
  },
  {
   "cell_type": "code",
   "execution_count": 112,
   "metadata": {},
   "outputs": [],
   "source": [
    "#trial.head(20)"
   ]
  },
  {
   "cell_type": "code",
   "execution_count": 43,
   "metadata": {},
   "outputs": [],
   "source": [
    "#trial[\"cleaned\"] = trial[\"cleaned\"].apply(lambda x: getTags(x))"
   ]
  },
  {
   "cell_type": "code",
   "execution_count": 59,
   "metadata": {},
   "outputs": [],
   "source": [
    "#stemmer = StemmerFactory().create_stemmer()\n",
    "\n",
    "#def stemming(text):\n",
    "#    stem_text = [stemmer.stem(word) for word in text.split()]\n",
    "#    return \" \".join(stem_text)"
   ]
  },
  {
   "cell_type": "code",
   "execution_count": 60,
   "metadata": {},
   "outputs": [],
   "source": [
    "#trial['cleaned'] = trial['cleaned'].apply(lambda x: stemming(x))"
   ]
  },
  {
   "cell_type": "code",
   "execution_count": 61,
   "metadata": {},
   "outputs": [],
   "source": [
    "#trial.sample(10)"
   ]
  },
  {
   "cell_type": "code",
   "execution_count": 64,
   "metadata": {},
   "outputs": [],
   "source": [
    "'''Cleaning function'''\n",
    "import emoji \n",
    "\n",
    "#lowering text\n",
    "def lower(text):\n",
    "    text = text.lower()\n",
    "    return text\n",
    "    \n",
    "#def remove_numbers(text):\n",
    "    number_pattern = r'\\d+'\n",
    "    without_number = re.sub(pattern=number_pattern, repl=\" \", string=text)\n",
    "    return without_number\n",
    "\n",
    "#removing emoticon\n",
    "def remove_emoji(text):\n",
    "    pattern = emoji.get_emoji_regexp()\n",
    "    without_emoji = pattern.sub('', text)\n",
    "    return without_emoji\n",
    "\n",
    "#def replace_url(text, replacement):\n",
    "    text = str(text)\n",
    "    text = re.sub('http[s]?://(?:[a-zA-Z]|[0-9]|[$-_@.&+]|[!*\\(\\),]|(?:%[0-9a-fA-F][0-9a-fA-F]))+', replacement, text)\n",
    "    text = re.sub('[/]?watch(?:[a-zA-Z]|[0-9]|[$-_@.&+]|[!*\\(\\),]|(?:%[0-9a-fA-F][0-9a-fA-F]))+', replacement, text)\n",
    "    return text\n",
    "\n",
    "#Detect link and replace with url\n",
    "urlregex = re.compile(r\"\"\"(?i)\\b((?:https?:(?:/{1,3}|[a-z0-9%])|[a-z0-9.\\-]+[.](?:com|net|org|edu|gov|mil|aero|asia|biz|cat|coop|info|int|jobs|mobi|museum|name|post|pro|tel|travel|xxx|ac|ad|ae|af|ag|ai|al|am|an|ao|aq|ar|as|at|au|aw|ax|az|ba|bb|bd|be|bf|bg|bh|bi|bj|bm|bn|bo|br|bs|bt|bv|bw|by|bz|ca|cc|cd|cf|cg|ch|ci|ck|cl|cm|cn|co|cr|cs|cu|cv|cx|cy|cz|dd|de|dj|dk|dm|do|dz|ec|ee|eg|eh|er|es|et|eu|fi|fj|fk|fm|fo|fr|ga|gb|gd|ge|gf|gg|gh|gi|gl|gm|gn|gp|gq|gr|gs|gt|gu|gw|gy|hk|hm|hn|hr|ht|hu|id|ie|il|im|in|io|iq|ir|is|it|je|jm|jo|jp|ke|kg|kh|ki|km|kn|kp|kr|kw|ky|kz|la|lb|lc|li|lk|lr|ls|lt|lu|lv|ly|ma|mc|md|me|mg|mh|mk|ml|mm|mn|mo|mp|mq|mr|ms|mt|mu|mv|mw|mx|my|mz|na|nc|ne|nf|ng|ni|nl|no|np|nr|nu|nz|om|pa|pe|pf|pg|ph|pk|pl|pm|pn|pr|ps|pt|pw|py|qa|re|ro|rs|ru|rw|sa|sb|sc|sd|se|sg|sh|si|sj|Ja|sk|sl|sm|sn|so|sr|ss|st|su|sv|sx|sy|sz|tc|td|tf|tg|th|tj|tk|tl|tm|tn|to|tp|tr|tt|tv|tw|tz|ua|ug|uk|us|uy|uz|va|vc|ve|vg|vi|vn|vu|wf|ws|ye|yt|yu|za|zm|zw)/)(?:[^\\s()<>{}\\[\\]]+|\\([^\\s()]*?\\([^\\s()]+\\)[^\\s()]*?\\)|\\([^\\s]+?\\))+(?:\\([^\\s()]*?\\([^\\s()]+\\)[^\\s()]*?\\)|\\([^\\s]+?\\)|[^\\s`!()\\[\\]{};:'\".,<>?«»“”‘’])|(?:(?<!@)[a-z0-9]+(?:[.\\-][a-z0-9]+)*[.](?:com|net|org|edu|gov|mil|aero|asia|biz|cat|coop|info|int|jobs|mobi|museum|name|post|pro|tel|travel|xxx|ac|ad|ae|af|ag|ai|al|am|an|ao|aq|ar|as|at|au|aw|ax|az|ba|bb|bd|be|bf|bg|bh|bi|bj|bm|bn|bo|br|bs|bt|bv|bw|by|bz|ca|cc|cd|cf|cg|ch|ci|ck|cl|cm|cn|co|cr|cs|cu|cv|cx|cy|cz|dd|de|dj|dk|dm|do|dz|ec|ee|eg|eh|er|es|et|eu|fi|fj|fk|fm|fo|fr|ga|gb|gd|ge|gf|gg|gh|gi|gl|gm|gn|gp|gq|gr|gs|gt|gu|gw|gy|hk|hm|hn|hr|ht|hu|id|ie|il|im|in|io|iq|ir|is|it|je|jm|jo|jp|ke|kg|kh|ki|km|kn|kp|kr|kw|ky|kz|la|lb|lc|li|lk|lr|ls|lt|lu|lv|ly|ma|mc|md|me|mg|mh|mk|ml|mm|mn|mo|mp|mq|mr|ms|mt|mu|mv|mw|mx|my|mz|na|nc|ne|nf|ng|ni|nl|no|np|nr|nu|nz|om|pa|pe|pf|pg|ph|pk|pl|pm|pn|pr|ps|pt|pw|py|qa|re|ro|rs|ru|rw|sa|sb|sc|sd|se|sg|sh|si|sj|Ja|sk|sl|sm|sn|so|sr|ss|st|su|sv|sx|sy|sz|tc|td|tf|tg|th|tj|tk|tl|tm|tn|to|tp|tr|tt|tv|tw|tz|ua|ug|uk|us|uy|uz|va|vc|ve|vg|vi|vn|vu|wf|ws|ye|yt|yu|za|zm|zw)\\b/?(?!@)))\"\"\")\n",
    "\n",
    "def detecturl(text, replace):\n",
    "    url_filtered_comment = re.sub(urlregex, replace,text)\n",
    "    return url_filtered_comment\n",
    "\n",
    "#hastgas\n",
    "def getTags(T):\n",
    "    getHashtags = re.compile(r\"#(\\w+)\")\n",
    "    tagS = re.findall(getHashtags, T)\n",
    "    isitag = []\n",
    "    for tag in tagS:       \n",
    "        tag = '#'+tag\n",
    "        isitag.append(tag)\n",
    "    \n",
    "    return ', '.join(isitag)\n",
    "\n",
    "#remove punctuation\n",
    "clean_spcl = re.compile('[/(){}\\[\\]\\|!;$]')\n",
    "#clean_symbol = re.compile('[^.,a-zA-Z0-9\\n\\.]')\n",
    "simbol = re.compile(r'#(^\\w)')\n",
    "\n",
    "def clean_punct(text):\n",
    "    text = clean_spcl.sub(' ', text)\n",
    "    #text = clean_symbol.sub(' ', text)\n",
    "    text = simbol.sub('', text)\n",
    "    return text\n",
    "\n",
    "#checking white spaces and removing\n",
    "def white_spaces(text):\n",
    "    single_char_pattern = re.compile(r'\\s+')\n",
    "    text = re.sub(pattern=single_char_pattern, repl=' ', string=text)\n",
    "    return text\n",
    "\n",
    "#Stopwords    \n",
    "stopwords = set(Sastrawi_StopWords_id)\n",
    "\n",
    "def clean_stopwords(text):\n",
    "    text = ' '.join(word for word in text.split() if word not in stopwords) # hapus stopword dari kolom deskripsi\n",
    "    return text\n",
    "\n",
    "  #english stopwords\n",
    "def en_stopwords(text):\n",
    "    df=open('..\\Stopwords_eng\\stopwords_en.txt',\"r\",encoding=\"utf-8\", errors='replace')\n",
    "    en_stop = df.readlines()\n",
    "    df.close()\n",
    "    en_stop = [t.strip().lower() for t in en_stop]\n",
    "    en_stop = set(en_stop)\n",
    "    text = ' '.join(word for word in text.split() if word not in en_stop) # hapus stopword dari kolom deskripsi\n",
    "    return text\n",
    "\n",
    "    #Indonesian Stopwords\n",
    "def id_stopwords(text):\n",
    "    df=open('..\\Stopwords\\stopwords.txt',\"r\",encoding=\"utf-8\", errors='replace')\n",
    "    id_stop = df.readlines()\n",
    "    df.close()\n",
    "    id_stop = [t.strip().lower() for t in id_stop]\n",
    "    id_stop = set(id_stop)\n",
    "    text = ' '.join(word for word in text.split() if word not in id_stop) # hapus stopword dari kolom deskripsi\n",
    "    return text\n",
    "\n",
    "#Slangwords\n",
    "def slang(text):\n",
    "    df=open('../Slangwords/slangwords.txt',\"r\",encoding=\"utf-8\", errors='replace')\n",
    "    slangS = df.readlines()\n",
    "    slangS = [t.split(\":\") for t in slangS]\n",
    "    slangS = [[k.strip(), v.strip()] for k,v in slangS]\n",
    "    slangS = {k:v for k,v in slangS}\n",
    "\n",
    "    T = TextBlob(text).words\n",
    "    \n",
    "    for i,t in enumerate(T):\n",
    "        if t in slangS.keys():\n",
    "            T[i] = slangS[t]\n",
    "        \n",
    "    T =' '.join(T)\n",
    "\n",
    "    return T\n",
    "\n",
    "#Lemmatization using indonesian language\n",
    "#def stemming(text):\n",
    "#    stem_text = [stemmer.stem(word) for word in text.split()]\n",
    "#    return \" \".join(stem_text)"
   ]
  },
  {
   "cell_type": "code",
   "execution_count": 65,
   "metadata": {},
   "outputs": [],
   "source": [
    "try_data_cleaning['cleaned_title'] = try_data_cleaning['Tittle'].apply(lambda x: clean_punct(x))"
   ]
  },
  {
   "cell_type": "code",
   "execution_count": 66,
   "metadata": {},
   "outputs": [],
   "source": [
    "try_data_cleaning['cleaned_comment'] = try_data_cleaning['Comment'].apply(lambda x: lower(x))\n",
    "try_data_cleaning['cleaned_comment'] = try_data_cleaning['cleaned_comment'].apply(lambda x: remove_emoji(x))\n",
    "try_data_cleaning[\"cleaned_comment\"] = try_data_cleaning[\"cleaned_comment\"].apply(lambda x: detecturl(x, 'url'))\n",
    "#try_data_cleaning['cleaned_comment'] = try_data_cleaning['cleaned_comment'].apply(lambda x: getTags(x))\n",
    "try_data_cleaning['cleaned_comment'] = try_data_cleaning['cleaned_comment'].apply(lambda x: clean_punct(x))\n",
    "try_data_cleaning['cleaned_comment'] = try_data_cleaning['cleaned_comment'].apply(lambda x: white_spaces(x))\n",
    "try_data_cleaning['cleaned_comment'] = try_data_cleaning['cleaned_comment'].apply(lambda x: clean_stopwords(x))\n",
    "try_data_cleaning['cleaned_comment'] = try_data_cleaning['cleaned_comment'].apply(lambda x: en_stopwords(x))\n",
    "try_data_cleaning['cleaned_comment'] = try_data_cleaning['cleaned_comment'].apply(lambda x: id_stopwords(x))\n",
    "try_data_cleaning['cleaned_comment'] = try_data_cleaning['cleaned_comment'].apply(lambda x: slang(x))\n",
    "#try_data_cleaning['cleaned_comment'] = try_data_cleaning['cleaned_comment'].apply(lambda x: stemming(x))"
   ]
  },
  {
   "cell_type": "code",
   "execution_count": 67,
   "metadata": {},
   "outputs": [
    {
     "data": {
      "text/html": [
       "<div>\n",
       "<style scoped>\n",
       "    .dataframe tbody tr th:only-of-type {\n",
       "        vertical-align: middle;\n",
       "    }\n",
       "\n",
       "    .dataframe tbody tr th {\n",
       "        vertical-align: top;\n",
       "    }\n",
       "\n",
       "    .dataframe thead th {\n",
       "        text-align: right;\n",
       "    }\n",
       "</style>\n",
       "<table border=\"1\" class=\"dataframe\">\n",
       "  <thead>\n",
       "    <tr style=\"text-align: right;\">\n",
       "      <th></th>\n",
       "      <th>Video_Id</th>\n",
       "      <th>Tittle</th>\n",
       "      <th>Name</th>\n",
       "      <th>Comment</th>\n",
       "      <th>Comment_Id</th>\n",
       "      <th>Time</th>\n",
       "      <th>Likes</th>\n",
       "      <th>Reply_Count</th>\n",
       "      <th>Label</th>\n",
       "      <th>Length_Comment</th>\n",
       "      <th>cleaned_title</th>\n",
       "      <th>cleaned_comment</th>\n",
       "    </tr>\n",
       "  </thead>\n",
       "  <tbody>\n",
       "    <tr>\n",
       "      <th>0</th>\n",
       "      <td>AP0NACavjfk</td>\n",
       "      <td>SkinnyIndonesian24 | Prabowo VS Jokowi - Epic ...</td>\n",
       "      <td>Banda vlog</td>\n",
       "      <td>Apa salah mobale lejen pak soekarno</td>\n",
       "      <td>UgwmjTHzY2zMOXBg9F94AaABAg</td>\n",
       "      <td>2019-04-11 11:27:47</td>\n",
       "      <td>0</td>\n",
       "      <td>0</td>\n",
       "      <td>spam</td>\n",
       "      <td>35</td>\n",
       "      <td>SkinnyIndonesian24   Prabowo VS Jokowi - Epic ...</td>\n",
       "      <td>salah mobile legend soekarno</td>\n",
       "    </tr>\n",
       "    <tr>\n",
       "      <th>1</th>\n",
       "      <td>AP0NACavjfk</td>\n",
       "      <td>SkinnyIndonesian24 | Prabowo VS Jokowi - Epic ...</td>\n",
       "      <td>kharisma setya kencana</td>\n",
       "      <td>👆👆👆👆👆👆</td>\n",
       "      <td>UgzbICRmksoeoGVFCzd4AaABAg</td>\n",
       "      <td>2019-04-09 04:08:18</td>\n",
       "      <td>0</td>\n",
       "      <td>0</td>\n",
       "      <td>legitimate</td>\n",
       "      <td>6</td>\n",
       "      <td>SkinnyIndonesian24   Prabowo VS Jokowi - Epic ...</td>\n",
       "      <td></td>\n",
       "    </tr>\n",
       "    <tr>\n",
       "      <th>2</th>\n",
       "      <td>AP0NACavjfk</td>\n",
       "      <td>SkinnyIndonesian24 | Prabowo VS Jokowi - Epic ...</td>\n",
       "      <td>「GratioKunz」</td>\n",
       "      <td>Dan golput itu apa</td>\n",
       "      <td>UgxROKiw4EX5LyaG0lx4AaABAg</td>\n",
       "      <td>2019-04-18 08:57:13</td>\n",
       "      <td>0</td>\n",
       "      <td>0</td>\n",
       "      <td>legitimate</td>\n",
       "      <td>18</td>\n",
       "      <td>SkinnyIndonesian24   Prabowo VS Jokowi - Epic ...</td>\n",
       "      <td>golput</td>\n",
       "    </tr>\n",
       "    <tr>\n",
       "      <th>3</th>\n",
       "      <td>AP0NACavjfk</td>\n",
       "      <td>SkinnyIndonesian24 | Prabowo VS Jokowi - Epic ...</td>\n",
       "      <td>Trestrantara WZ</td>\n",
       "      <td>Keren!!</td>\n",
       "      <td>UgymN9o3cZFXVPLKcjZ4AaABAg</td>\n",
       "      <td>2019-04-08 16:42:13</td>\n",
       "      <td>0</td>\n",
       "      <td>0</td>\n",
       "      <td>legitimate</td>\n",
       "      <td>7</td>\n",
       "      <td>SkinnyIndonesian24   Prabowo VS Jokowi - Epic ...</td>\n",
       "      <td>keren</td>\n",
       "    </tr>\n",
       "    <tr>\n",
       "      <th>4</th>\n",
       "      <td>AP0NACavjfk</td>\n",
       "      <td>SkinnyIndonesian24 | Prabowo VS Jokowi - Epic ...</td>\n",
       "      <td>Heri Kurniawan</td>\n",
       "      <td>Pilih siapa presiden aku Prabowo-Sandi</td>\n",
       "      <td>Ugw9J8lP4lOg0t5yX0l4AaABAg</td>\n",
       "      <td>2019-04-18 00:45:06</td>\n",
       "      <td>1</td>\n",
       "      <td>0</td>\n",
       "      <td>legitimate</td>\n",
       "      <td>38</td>\n",
       "      <td>SkinnyIndonesian24   Prabowo VS Jokowi - Epic ...</td>\n",
       "      <td>pilih presiden aku prabowo-sandi</td>\n",
       "    </tr>\n",
       "    <tr>\n",
       "      <th>5</th>\n",
       "      <td>0iLgiRBQzzs</td>\n",
       "      <td>Panas! Jokowi VS Prabowo Saling Serang soal Ko...</td>\n",
       "      <td>Doharman Patimura Waruwu</td>\n",
       "      <td>https://youtu.be/LBKGyxnpMCU</td>\n",
       "      <td>Ugz-zdD0s87dSDzITuh4AaABAg</td>\n",
       "      <td>2019-01-17 23:06:24</td>\n",
       "      <td>0</td>\n",
       "      <td>0</td>\n",
       "      <td>spam</td>\n",
       "      <td>28</td>\n",
       "      <td>Panas  Jokowi VS Prabowo Saling Serang soal Ko...</td>\n",
       "      <td>url</td>\n",
       "    </tr>\n",
       "    <tr>\n",
       "      <th>6</th>\n",
       "      <td>AP0NACavjfk</td>\n",
       "      <td>SkinnyIndonesian24 | Prabowo VS Jokowi - Epic ...</td>\n",
       "      <td>666ranger</td>\n",
       "      <td>Gw ikuttt koment lohhh</td>\n",
       "      <td>UgwKlaNqj0fQUpQ3Neh4AaABAg</td>\n",
       "      <td>2019-04-09 11:42:22</td>\n",
       "      <td>0</td>\n",
       "      <td>0</td>\n",
       "      <td>spam</td>\n",
       "      <td>22</td>\n",
       "      <td>SkinnyIndonesian24   Prabowo VS Jokowi - Epic ...</td>\n",
       "      <td>saya ikut komentar</td>\n",
       "    </tr>\n",
       "    <tr>\n",
       "      <th>7</th>\n",
       "      <td>AP0NACavjfk</td>\n",
       "      <td>SkinnyIndonesian24 | Prabowo VS Jokowi - Epic ...</td>\n",
       "      <td>Rizaldo Rizky Ramadhan</td>\n",
       "      <td>Bagus sih. Meskipun tiru tiru Epic Rap Battle</td>\n",
       "      <td>UgzulMMMFleZEE1lAO54AaABAg</td>\n",
       "      <td>2019-04-15 05:00:02</td>\n",
       "      <td>0</td>\n",
       "      <td>0</td>\n",
       "      <td>legitimate</td>\n",
       "      <td>45</td>\n",
       "      <td>SkinnyIndonesian24   Prabowo VS Jokowi - Epic ...</td>\n",
       "      <td>bagus sih meniru meniru epik rap battle</td>\n",
       "    </tr>\n",
       "    <tr>\n",
       "      <th>8</th>\n",
       "      <td>AP0NACavjfk</td>\n",
       "      <td>SkinnyIndonesian24 | Prabowo VS Jokowi - Epic ...</td>\n",
       "      <td>Ganis Fathoni</td>\n",
       "      <td>Gw pendukung Prabowo, tp gw tersinggungnya pas...</td>\n",
       "      <td>UgxF1r9yMnMxyFDa4HJ4AaABAg</td>\n",
       "      <td>2019-04-09 07:28:57</td>\n",
       "      <td>0</td>\n",
       "      <td>0</td>\n",
       "      <td>legitimate</td>\n",
       "      <td>63</td>\n",
       "      <td>SkinnyIndonesian24   Prabowo VS Jokowi - Epic ...</td>\n",
       "      <td>saya pendukung prabowo saya tersinggungnya men...</td>\n",
       "    </tr>\n",
       "    <tr>\n",
       "      <th>9</th>\n",
       "      <td>AP0NACavjfk</td>\n",
       "      <td>SkinnyIndonesian24 | Prabowo VS Jokowi - Epic ...</td>\n",
       "      <td>BotaksMan</td>\n",
       "      <td>Ada yang dari tahun 2025?🗿🔥</td>\n",
       "      <td>Ugx_s948xKTK9LlXF5F4AaABAg</td>\n",
       "      <td>2021-01-18 14:38:50</td>\n",
       "      <td>1</td>\n",
       "      <td>0</td>\n",
       "      <td>spam</td>\n",
       "      <td>27</td>\n",
       "      <td>SkinnyIndonesian24   Prabowo VS Jokowi - Epic ...</td>\n",
       "      <td>tahun 2025</td>\n",
       "    </tr>\n",
       "    <tr>\n",
       "      <th>10</th>\n",
       "      <td>AP0NACavjfk</td>\n",
       "      <td>SkinnyIndonesian24 | Prabowo VS Jokowi - Epic ...</td>\n",
       "      <td>Merdeka Selamanya</td>\n",
       "      <td>Menghibur</td>\n",
       "      <td>Ugxi1ucujacIS_zlagF4AaABAg</td>\n",
       "      <td>2020-05-18 08:19:30</td>\n",
       "      <td>0</td>\n",
       "      <td>0</td>\n",
       "      <td>legitimate</td>\n",
       "      <td>9</td>\n",
       "      <td>SkinnyIndonesian24   Prabowo VS Jokowi - Epic ...</td>\n",
       "      <td>menghibur</td>\n",
       "    </tr>\n",
       "    <tr>\n",
       "      <th>11</th>\n",
       "      <td>AP0NACavjfk</td>\n",
       "      <td>SkinnyIndonesian24 | Prabowo VS Jokowi - Epic ...</td>\n",
       "      <td>Ine Suwanda</td>\n",
       "      <td>wahh ak dah 3 kali nonton ada yang lebihin aku gx</td>\n",
       "      <td>Ugy2Cd4UGsInW9f3R9p4AaABAg</td>\n",
       "      <td>2019-04-13 00:43:06</td>\n",
       "      <td>0</td>\n",
       "      <td>0</td>\n",
       "      <td>spam</td>\n",
       "      <td>49</td>\n",
       "      <td>SkinnyIndonesian24   Prabowo VS Jokowi - Epic ...</td>\n",
       "      <td>aku 3 nonton lebih aku tidak</td>\n",
       "    </tr>\n",
       "    <tr>\n",
       "      <th>12</th>\n",
       "      <td>AP0NACavjfk</td>\n",
       "      <td>SkinnyIndonesian24 | Prabowo VS Jokowi - Epic ...</td>\n",
       "      <td>Maz Malik</td>\n",
       "      <td>Njir gue baru sadar kalo  gua nonton 15 kali</td>\n",
       "      <td>UgzSAC1H6Lr2obDDXD94AaABAg</td>\n",
       "      <td>2019-06-01 23:39:33</td>\n",
       "      <td>89</td>\n",
       "      <td>8</td>\n",
       "      <td>spam</td>\n",
       "      <td>44</td>\n",
       "      <td>SkinnyIndonesian24   Prabowo VS Jokowi - Epic ...</td>\n",
       "      <td>saya sadar saya nonton 15</td>\n",
       "    </tr>\n",
       "    <tr>\n",
       "      <th>13</th>\n",
       "      <td>AP0NACavjfk</td>\n",
       "      <td>SkinnyIndonesian24 | Prabowo VS Jokowi - Epic ...</td>\n",
       "      <td>Fadillah Dwi Rahayu</td>\n",
       "      <td>Gw kurang srek deh di menit 1:13 disitu ada be...</td>\n",
       "      <td>Ugw627P2XwTIxk6TEt14AaABAg</td>\n",
       "      <td>2019-04-10 02:58:56</td>\n",
       "      <td>0</td>\n",
       "      <td>0</td>\n",
       "      <td>legitimate</td>\n",
       "      <td>122</td>\n",
       "      <td>SkinnyIndonesian24   Prabowo VS Jokowi - Epic ...</td>\n",
       "      <td>saya cocok menit 1:13 disitu bendera indonesia...</td>\n",
       "    </tr>\n",
       "    <tr>\n",
       "      <th>14</th>\n",
       "      <td>AP0NACavjfk</td>\n",
       "      <td>SkinnyIndonesian24 | Prabowo VS Jokowi - Epic ...</td>\n",
       "      <td>silvia hermala sagala</td>\n",
       "      <td>BAGUSSS BANGETTT kerennnn</td>\n",
       "      <td>UgyFaC6PAcejTuvO7Sd4AaABAg</td>\n",
       "      <td>2019-04-17 04:08:17</td>\n",
       "      <td>0</td>\n",
       "      <td>0</td>\n",
       "      <td>legitimate</td>\n",
       "      <td>25</td>\n",
       "      <td>SkinnyIndonesian24   Prabowo VS Jokowi - Epic ...</td>\n",
       "      <td>bagus banget keren</td>\n",
       "    </tr>\n",
       "    <tr>\n",
       "      <th>15</th>\n",
       "      <td>AP0NACavjfk</td>\n",
       "      <td>SkinnyIndonesian24 | Prabowo VS Jokowi - Epic ...</td>\n",
       "      <td>zhenfang Vijaya</td>\n",
       "      <td>Aku gak suka karena ini untuk ku</td>\n",
       "      <td>UgxdlUsKvMTuXzdIHXh4AaABAg</td>\n",
       "      <td>2020-12-04 13:31:40</td>\n",
       "      <td>0</td>\n",
       "      <td>0</td>\n",
       "      <td>legitimate</td>\n",
       "      <td>32</td>\n",
       "      <td>SkinnyIndonesian24   Prabowo VS Jokowi - Epic ...</td>\n",
       "      <td>aku gak suka aku</td>\n",
       "    </tr>\n",
       "    <tr>\n",
       "      <th>16</th>\n",
       "      <td>AP0NACavjfk</td>\n",
       "      <td>SkinnyIndonesian24 | Prabowo VS Jokowi - Epic ...</td>\n",
       "      <td>AMINNOR</td>\n",
       "      <td>Mantul</td>\n",
       "      <td>Ugyuq0L_JAuedyIgx0d4AaABAg</td>\n",
       "      <td>2019-04-09 09:42:00</td>\n",
       "      <td>0</td>\n",
       "      <td>0</td>\n",
       "      <td>legitimate</td>\n",
       "      <td>6</td>\n",
       "      <td>SkinnyIndonesian24   Prabowo VS Jokowi - Epic ...</td>\n",
       "      <td>mantap betul</td>\n",
       "    </tr>\n",
       "    <tr>\n",
       "      <th>17</th>\n",
       "      <td>AP0NACavjfk</td>\n",
       "      <td>SkinnyIndonesian24 | Prabowo VS Jokowi - Epic ...</td>\n",
       "      <td>Soak05</td>\n",
       "      <td>Ahhaahaha mantap ada kaum kita hiyaa hiyaa hii...</td>\n",
       "      <td>Ugxa6xMh8Ybe5KeSXL54AaABAg</td>\n",
       "      <td>2019-04-08 15:38:29</td>\n",
       "      <td>0</td>\n",
       "      <td>0</td>\n",
       "      <td>legitimate</td>\n",
       "      <td>51</td>\n",
       "      <td>SkinnyIndonesian24   Prabowo VS Jokowi - Epic ...</td>\n",
       "      <td>mantap kaum</td>\n",
       "    </tr>\n",
       "    <tr>\n",
       "      <th>18</th>\n",
       "      <td>AP0NACavjfk</td>\n",
       "      <td>SkinnyIndonesian24 | Prabowo VS Jokowi - Epic ...</td>\n",
       "      <td>Sapril Wijaya</td>\n",
       "      <td>HAhahahahah mari trandingkan\\nGeser ki pop pok...</td>\n",
       "      <td>UgzyLB5DdDggBu_j2EN4AaABAg.8tVQZ5x5BgD8tVUXAzJSAE</td>\n",
       "      <td>2019-04-09 10:09:55</td>\n",
       "      <td>0</td>\n",
       "      <td>0</td>\n",
       "      <td>spam</td>\n",
       "      <td>53</td>\n",
       "      <td>SkinnyIndonesian24   Prabowo VS Jokowi - Epic ...</td>\n",
       "      <td>trandingkan geser pop pok pop</td>\n",
       "    </tr>\n",
       "    <tr>\n",
       "      <th>19</th>\n",
       "      <td>AP0NACavjfk</td>\n",
       "      <td>SkinnyIndonesian24 | Prabowo VS Jokowi - Epic ...</td>\n",
       "      <td>Dwi Prasetya Ananta</td>\n",
       "      <td>Salut. Jangan Golput !</td>\n",
       "      <td>UgznnkabhmEhWntvVdx4AaABAg</td>\n",
       "      <td>2019-04-12 04:45:22</td>\n",
       "      <td>0</td>\n",
       "      <td>0</td>\n",
       "      <td>legitimate</td>\n",
       "      <td>22</td>\n",
       "      <td>SkinnyIndonesian24   Prabowo VS Jokowi - Epic ...</td>\n",
       "      <td>bangga jangan golput</td>\n",
       "    </tr>\n",
       "    <tr>\n",
       "      <th>20</th>\n",
       "      <td>AP0NACavjfk</td>\n",
       "      <td>SkinnyIndonesian24 | Prabowo VS Jokowi - Epic ...</td>\n",
       "      <td>Najwa Almira</td>\n",
       "      <td>1:52 shiap🤣</td>\n",
       "      <td>Ugxfeeg-W02VFGXhykd4AaABAg</td>\n",
       "      <td>2019-04-08 16:26:22</td>\n",
       "      <td>0</td>\n",
       "      <td>0</td>\n",
       "      <td>legitimate</td>\n",
       "      <td>11</td>\n",
       "      <td>SkinnyIndonesian24   Prabowo VS Jokowi - Epic ...</td>\n",
       "      <td>1:52 siap</td>\n",
       "    </tr>\n",
       "    <tr>\n",
       "      <th>21</th>\n",
       "      <td>AP0NACavjfk</td>\n",
       "      <td>SkinnyIndonesian24 | Prabowo VS Jokowi - Epic ...</td>\n",
       "      <td>Sandy Birawa</td>\n",
       "      <td>Gw</td>\n",
       "      <td>UgwYuFOGfDLQd9crDHl4AaABAg.8u_QztScP328v6HQivjtli</td>\n",
       "      <td>2019-05-19 08:17:13</td>\n",
       "      <td>0</td>\n",
       "      <td>0</td>\n",
       "      <td>spam</td>\n",
       "      <td>2</td>\n",
       "      <td>SkinnyIndonesian24   Prabowo VS Jokowi - Epic ...</td>\n",
       "      <td>saya</td>\n",
       "    </tr>\n",
       "    <tr>\n",
       "      <th>22</th>\n",
       "      <td>AP0NACavjfk</td>\n",
       "      <td>SkinnyIndonesian24 | Prabowo VS Jokowi - Epic ...</td>\n",
       "      <td>Papa Soni</td>\n",
       "      <td>SAYA 7 TAHUN DALAM YOUTUBE UNTUK SKINNYINDONES...</td>\n",
       "      <td>Ugz8oLZen10iG_JRqgt4AaABAg</td>\n",
       "      <td>2019-04-13 03:37:30</td>\n",
       "      <td>1</td>\n",
       "      <td>0</td>\n",
       "      <td>legitimate</td>\n",
       "      <td>52</td>\n",
       "      <td>SkinnyIndonesian24   Prabowo VS Jokowi - Epic ...</td>\n",
       "      <td>7 tahun youtube skinnyindonesisan24</td>\n",
       "    </tr>\n",
       "    <tr>\n",
       "      <th>23</th>\n",
       "      <td>AP0NACavjfk</td>\n",
       "      <td>SkinnyIndonesian24 | Prabowo VS Jokowi - Epic ...</td>\n",
       "      <td>Mirah Wahyu Ningsih</td>\n",
       "      <td>KEREN BANGET BANG💚💚</td>\n",
       "      <td>UgycwXu9LdjrzrlZTNN4AaABAg</td>\n",
       "      <td>2019-04-09 00:30:55</td>\n",
       "      <td>0</td>\n",
       "      <td>0</td>\n",
       "      <td>legitimate</td>\n",
       "      <td>19</td>\n",
       "      <td>SkinnyIndonesian24   Prabowo VS Jokowi - Epic ...</td>\n",
       "      <td>keren banget</td>\n",
       "    </tr>\n",
       "    <tr>\n",
       "      <th>24</th>\n",
       "      <td>AP0NACavjfk</td>\n",
       "      <td>SkinnyIndonesian24 | Prabowo VS Jokowi - Epic ...</td>\n",
       "      <td>Denis Prima</td>\n",
       "      <td>Nurhadi Aldo mana ?</td>\n",
       "      <td>UgxYxZ6Mo35itVslNdp4AaABAg</td>\n",
       "      <td>2019-04-09 06:41:00</td>\n",
       "      <td>0</td>\n",
       "      <td>0</td>\n",
       "      <td>spam</td>\n",
       "      <td>19</td>\n",
       "      <td>SkinnyIndonesian24   Prabowo VS Jokowi - Epic ...</td>\n",
       "      <td>nurhadi aldo</td>\n",
       "    </tr>\n",
       "    <tr>\n",
       "      <th>25</th>\n",
       "      <td>0iLgiRBQzzs</td>\n",
       "      <td>Panas! Jokowi VS Prabowo Saling Serang soal Ko...</td>\n",
       "      <td>Riska Amalia</td>\n",
       "      <td>Ngak tahu kah kabarnya papua juga merasa diboh...</td>\n",
       "      <td>UgzStrrzMVkeANhiC414AaABAg.8qD2VVBYdUu8qWQTAlgely</td>\n",
       "      <td>2019-01-25 05:19:29</td>\n",
       "      <td>0</td>\n",
       "      <td>0</td>\n",
       "      <td>legitimate</td>\n",
       "      <td>160</td>\n",
       "      <td>Panas  Jokowi VS Prabowo Saling Serang soal Ko...</td>\n",
       "      <td>tidak kabarnya papua dibohongin bbm tunggu tan...</td>\n",
       "    </tr>\n",
       "    <tr>\n",
       "      <th>26</th>\n",
       "      <td>AP0NACavjfk</td>\n",
       "      <td>SkinnyIndonesian24 | Prabowo VS Jokowi - Epic ...</td>\n",
       "      <td>Wahyuni Budiastuti</td>\n",
       "      <td>Masih pegang posisi trendingg brayy⚡\\nThe best...</td>\n",
       "      <td>UgwZ_g9CFfLJLuytHeV4AaABAg</td>\n",
       "      <td>2019-04-18 16:28:46</td>\n",
       "      <td>0</td>\n",
       "      <td>0</td>\n",
       "      <td>legitimate</td>\n",
       "      <td>53</td>\n",
       "      <td>SkinnyIndonesian24   Prabowo VS Jokowi - Epic ...</td>\n",
       "      <td>pegang posisi trendingg brayy best skinnyindon...</td>\n",
       "    </tr>\n",
       "    <tr>\n",
       "      <th>27</th>\n",
       "      <td>AP0NACavjfk</td>\n",
       "      <td>SkinnyIndonesian24 | Prabowo VS Jokowi - Epic ...</td>\n",
       "      <td>N1ckX</td>\n",
       "      <td>gk nyangka udh 2 tahun lalu</td>\n",
       "      <td>UgxlKHcZGmoQDQcCw2l4AaABAg</td>\n",
       "      <td>2022-03-26 14:00:55</td>\n",
       "      <td>1</td>\n",
       "      <td>0</td>\n",
       "      <td>legitimate</td>\n",
       "      <td>27</td>\n",
       "      <td>SkinnyIndonesian24   Prabowo VS Jokowi - Epic ...</td>\n",
       "      <td>tidak nyangka 2 tahun</td>\n",
       "    </tr>\n",
       "    <tr>\n",
       "      <th>28</th>\n",
       "      <td>AP0NACavjfk</td>\n",
       "      <td>SkinnyIndonesian24 | Prabowo VS Jokowi - Epic ...</td>\n",
       "      <td>Marino Fahtur Rahman</td>\n",
       "      <td>Mantapppp</td>\n",
       "      <td>UgxkA2EgPkDtn-mio-h4AaABAg</td>\n",
       "      <td>2019-04-09 07:31:46</td>\n",
       "      <td>0</td>\n",
       "      <td>0</td>\n",
       "      <td>legitimate</td>\n",
       "      <td>9</td>\n",
       "      <td>SkinnyIndonesian24   Prabowo VS Jokowi - Epic ...</td>\n",
       "      <td>mantap</td>\n",
       "    </tr>\n",
       "    <tr>\n",
       "      <th>29</th>\n",
       "      <td>AP0NACavjfk</td>\n",
       "      <td>SkinnyIndonesian24 | Prabowo VS Jokowi - Epic ...</td>\n",
       "      <td>Ajeng Fajrina</td>\n",
       "      <td>Keren wooooo</td>\n",
       "      <td>UgyNXurwGyCcwMc5NYN4AaABAg</td>\n",
       "      <td>2019-04-12 08:50:42</td>\n",
       "      <td>0</td>\n",
       "      <td>0</td>\n",
       "      <td>legitimate</td>\n",
       "      <td>12</td>\n",
       "      <td>SkinnyIndonesian24   Prabowo VS Jokowi - Epic ...</td>\n",
       "      <td>keren</td>\n",
       "    </tr>\n",
       "    <tr>\n",
       "      <th>30</th>\n",
       "      <td>AP0NACavjfk</td>\n",
       "      <td>SkinnyIndonesian24 | Prabowo VS Jokowi - Epic ...</td>\n",
       "      <td>Doni Ramdan</td>\n",
       "      <td>Pas baca bacain koment saya liat dikit nya pop...</td>\n",
       "      <td>Ugyr3vG94H6yn2JPyDR4AaABAg</td>\n",
       "      <td>2019-04-09 13:13:13</td>\n",
       "      <td>5</td>\n",
       "      <td>1</td>\n",
       "      <td>legitimate</td>\n",
       "      <td>164</td>\n",
       "      <td>SkinnyIndonesian24   Prabowo VS Jokowi - Epic ...</td>\n",
       "      <td>baca bacain komentar lihat dikit populasi cebo...</td>\n",
       "    </tr>\n",
       "    <tr>\n",
       "      <th>31</th>\n",
       "      <td>AP0NACavjfk</td>\n",
       "      <td>SkinnyIndonesian24 | Prabowo VS Jokowi - Epic ...</td>\n",
       "      <td>dimetrio abelardo</td>\n",
       "      <td>Masih bingung kok ga di tangkap</td>\n",
       "      <td>UgxJkbtcW_zZXA0ue-h4AaABAg</td>\n",
       "      <td>2021-12-07 18:17:49</td>\n",
       "      <td>0</td>\n",
       "      <td>2</td>\n",
       "      <td>legitimate</td>\n",
       "      <td>31</td>\n",
       "      <td>SkinnyIndonesian24   Prabowo VS Jokowi - Epic ...</td>\n",
       "      <td>bingung tidak tangkap</td>\n",
       "    </tr>\n",
       "    <tr>\n",
       "      <th>32</th>\n",
       "      <td>AP0NACavjfk</td>\n",
       "      <td>SkinnyIndonesian24 | Prabowo VS Jokowi - Epic ...</td>\n",
       "      <td>Ilham Satria</td>\n",
       "      <td>The best content everrrrr.........</td>\n",
       "      <td>UgyGpmStmBr9KtDb_yh4AaABAg</td>\n",
       "      <td>2020-06-13 15:01:09</td>\n",
       "      <td>148</td>\n",
       "      <td>0</td>\n",
       "      <td>legitimate</td>\n",
       "      <td>34</td>\n",
       "      <td>SkinnyIndonesian24   Prabowo VS Jokowi - Epic ...</td>\n",
       "      <td>best konten ever</td>\n",
       "    </tr>\n",
       "    <tr>\n",
       "      <th>33</th>\n",
       "      <td>AP0NACavjfk</td>\n",
       "      <td>SkinnyIndonesian24 | Prabowo VS Jokowi - Epic ...</td>\n",
       "      <td>M.saomi Dzikri</td>\n",
       "      <td>Gue nonton iklanya gak gue skip biar dapet ads...</td>\n",
       "      <td>UgyV-whidLcrwt92V9l4AaABAg</td>\n",
       "      <td>2019-04-11 02:58:28</td>\n",
       "      <td>6</td>\n",
       "      <td>0</td>\n",
       "      <td>legitimate</td>\n",
       "      <td>111</td>\n",
       "      <td>SkinnyIndonesian24   Prabowo VS Jokowi - Epic ...</td>\n",
       "      <td>saya nonton iklanya gak saya lewati biar dapat...</td>\n",
       "    </tr>\n",
       "    <tr>\n",
       "      <th>34</th>\n",
       "      <td>AP0NACavjfk</td>\n",
       "      <td>SkinnyIndonesian24 | Prabowo VS Jokowi - Epic ...</td>\n",
       "      <td>yB PRODUCTION</td>\n",
       "      <td>Nice</td>\n",
       "      <td>UgwD0lmkAYFXJQqB-V14AaABAg</td>\n",
       "      <td>2019-04-10 03:55:12</td>\n",
       "      <td>0</td>\n",
       "      <td>0</td>\n",
       "      <td>legitimate</td>\n",
       "      <td>4</td>\n",
       "      <td>SkinnyIndonesian24   Prabowo VS Jokowi - Epic ...</td>\n",
       "      <td>baik</td>\n",
       "    </tr>\n",
       "    <tr>\n",
       "      <th>35</th>\n",
       "      <td>AP0NACavjfk</td>\n",
       "      <td>SkinnyIndonesian24 | Prabowo VS Jokowi - Epic ...</td>\n",
       "      <td>Neng Dim</td>\n",
       "      <td>Mantap keren asli</td>\n",
       "      <td>UgyJMUYZpWkbeUf9pl14AaABAg</td>\n",
       "      <td>2019-04-09 08:28:25</td>\n",
       "      <td>0</td>\n",
       "      <td>0</td>\n",
       "      <td>legitimate</td>\n",
       "      <td>17</td>\n",
       "      <td>SkinnyIndonesian24   Prabowo VS Jokowi - Epic ...</td>\n",
       "      <td>mantap keren asli</td>\n",
       "    </tr>\n",
       "    <tr>\n",
       "      <th>36</th>\n",
       "      <td>AP0NACavjfk</td>\n",
       "      <td>SkinnyIndonesian24 | Prabowo VS Jokowi - Epic ...</td>\n",
       "      <td>Gery Azrian</td>\n",
       "      <td>Tru min</td>\n",
       "      <td>Ugw_acFjqXDOAI4kKcB4AaABAg.9CMqsE1TCl99DJIJaaamDe</td>\n",
       "      <td>2020-09-07 15:31:36</td>\n",
       "      <td>0</td>\n",
       "      <td>0</td>\n",
       "      <td>legitimate</td>\n",
       "      <td>7</td>\n",
       "      <td>SkinnyIndonesian24   Prabowo VS Jokowi - Epic ...</td>\n",
       "      <td></td>\n",
       "    </tr>\n",
       "    <tr>\n",
       "      <th>37</th>\n",
       "      <td>AP0NACavjfk</td>\n",
       "      <td>SkinnyIndonesian24 | Prabowo VS Jokowi - Epic ...</td>\n",
       "      <td>DullPerfectforbes -Youtube roblox gaming channel.</td>\n",
       "      <td>JOKOWI</td>\n",
       "      <td>UgzpGF70BVYDAQ0wA4R4AaABAg</td>\n",
       "      <td>2019-04-20 13:59:03</td>\n",
       "      <td>0</td>\n",
       "      <td>0</td>\n",
       "      <td>legitimate</td>\n",
       "      <td>6</td>\n",
       "      <td>SkinnyIndonesian24   Prabowo VS Jokowi - Epic ...</td>\n",
       "      <td>jokowi</td>\n",
       "    </tr>\n",
       "    <tr>\n",
       "      <th>38</th>\n",
       "      <td>AP0NACavjfk</td>\n",
       "      <td>SkinnyIndonesian24 | Prabowo VS Jokowi - Epic ...</td>\n",
       "      <td>FASIYNA</td>\n",
       "      <td>Ada kah yang masih nonton?</td>\n",
       "      <td>Ugwmn0P-GpKZ6-vYr1t4AaABAg</td>\n",
       "      <td>2020-04-06 15:08:26</td>\n",
       "      <td>2</td>\n",
       "      <td>0</td>\n",
       "      <td>spam</td>\n",
       "      <td>26</td>\n",
       "      <td>SkinnyIndonesian24   Prabowo VS Jokowi - Epic ...</td>\n",
       "      <td>nonton</td>\n",
       "    </tr>\n",
       "    <tr>\n",
       "      <th>39</th>\n",
       "      <td>AP0NACavjfk</td>\n",
       "      <td>SkinnyIndonesian24 | Prabowo VS Jokowi - Epic ...</td>\n",
       "      <td>Sun Yen Suhendro</td>\n",
       "      <td>WAJIB TRENDING !!!</td>\n",
       "      <td>UgxBgReTxbuv95ex7qx4AaABAg</td>\n",
       "      <td>2019-04-09 01:54:35</td>\n",
       "      <td>0</td>\n",
       "      <td>0</td>\n",
       "      <td>spam</td>\n",
       "      <td>18</td>\n",
       "      <td>SkinnyIndonesian24   Prabowo VS Jokowi - Epic ...</td>\n",
       "      <td>wajib trending</td>\n",
       "    </tr>\n",
       "    <tr>\n",
       "      <th>40</th>\n",
       "      <td>AP0NACavjfk</td>\n",
       "      <td>SkinnyIndonesian24 | Prabowo VS Jokowi - Epic ...</td>\n",
       "      <td>Nothing here</td>\n",
       "      <td>2:25 mirip banget kek jokowi anjir wkwk, tapi ...</td>\n",
       "      <td>UgxFzjk-Kybn3lUuLNV4AaABAg</td>\n",
       "      <td>2019-04-09 16:23:35</td>\n",
       "      <td>0</td>\n",
       "      <td>0</td>\n",
       "      <td>legitimate</td>\n",
       "      <td>74</td>\n",
       "      <td>SkinnyIndonesian24   Prabowo VS Jokowi - Epic ...</td>\n",
       "      <td>2:25 banget jokowi keren tertawa gerak lebi zaman</td>\n",
       "    </tr>\n",
       "    <tr>\n",
       "      <th>41</th>\n",
       "      <td>AP0NACavjfk</td>\n",
       "      <td>SkinnyIndonesian24 | Prabowo VS Jokowi - Epic ...</td>\n",
       "      <td>A H</td>\n",
       "      <td>Salam dari 3001</td>\n",
       "      <td>Ugxb-2JpdiuilGvsoHJ4AaABAg.8tjR5mDTQz38uDeqjv8spe</td>\n",
       "      <td>2019-04-27 08:33:55</td>\n",
       "      <td>0</td>\n",
       "      <td>0</td>\n",
       "      <td>spam</td>\n",
       "      <td>15</td>\n",
       "      <td>SkinnyIndonesian24   Prabowo VS Jokowi - Epic ...</td>\n",
       "      <td>salam 3001</td>\n",
       "    </tr>\n",
       "    <tr>\n",
       "      <th>42</th>\n",
       "      <td>AP0NACavjfk</td>\n",
       "      <td>SkinnyIndonesian24 | Prabowo VS Jokowi - Epic ...</td>\n",
       "      <td>Selia K</td>\n",
       "      <td>This too funny and truee</td>\n",
       "      <td>Ugwp_gABESq4otBSzF54AaABAg</td>\n",
       "      <td>2019-04-10 06:41:27</td>\n",
       "      <td>0</td>\n",
       "      <td>0</td>\n",
       "      <td>legitimate</td>\n",
       "      <td>24</td>\n",
       "      <td>SkinnyIndonesian24   Prabowo VS Jokowi - Epic ...</td>\n",
       "      <td>lucu benar</td>\n",
       "    </tr>\n",
       "    <tr>\n",
       "      <th>43</th>\n",
       "      <td>AP0NACavjfk</td>\n",
       "      <td>SkinnyIndonesian24 | Prabowo VS Jokowi - Epic ...</td>\n",
       "      <td>Herson Trianto</td>\n",
       "      <td>Gk Capek cuy</td>\n",
       "      <td>Ugwa43KfFrATr1CFsep4AaABAg.8tr39UWflyf8ts8RXWNjaI</td>\n",
       "      <td>2019-04-18 14:38:41</td>\n",
       "      <td>0</td>\n",
       "      <td>0</td>\n",
       "      <td>legitimate</td>\n",
       "      <td>12</td>\n",
       "      <td>SkinnyIndonesian24   Prabowo VS Jokowi - Epic ...</td>\n",
       "      <td>tidak capek</td>\n",
       "    </tr>\n",
       "    <tr>\n",
       "      <th>44</th>\n",
       "      <td>AP0NACavjfk</td>\n",
       "      <td>SkinnyIndonesian24 | Prabowo VS Jokowi - Epic ...</td>\n",
       "      <td>Wahyu Tri Utami</td>\n",
       "      <td>Gila ini keren banget. Ini baru youtubers. Seg...</td>\n",
       "      <td>Ugxg0d_nDYzlyuhmoaR4AaABAg</td>\n",
       "      <td>2019-04-14 17:09:22</td>\n",
       "      <td>0</td>\n",
       "      <td>0</td>\n",
       "      <td>legitimate</td>\n",
       "      <td>84</td>\n",
       "      <td>SkinnyIndonesian24   Prabowo VS Jokowi - Epic ...</td>\n",
       "      <td>gila keren banget youtubers detiknya nilai dia...</td>\n",
       "    </tr>\n",
       "    <tr>\n",
       "      <th>45</th>\n",
       "      <td>AP0NACavjfk</td>\n",
       "      <td>SkinnyIndonesian24 | Prabowo VS Jokowi - Epic ...</td>\n",
       "      <td>Nadia Putri barata</td>\n",
       "      <td>Mantapp🔥❤</td>\n",
       "      <td>Ugw2DScgxI9I1dZNdSh4AaABAg</td>\n",
       "      <td>2019-04-09 07:05:18</td>\n",
       "      <td>1</td>\n",
       "      <td>0</td>\n",
       "      <td>legitimate</td>\n",
       "      <td>9</td>\n",
       "      <td>SkinnyIndonesian24   Prabowo VS Jokowi - Epic ...</td>\n",
       "      <td>mantap</td>\n",
       "    </tr>\n",
       "    <tr>\n",
       "      <th>46</th>\n",
       "      <td>AP0NACavjfk</td>\n",
       "      <td>SkinnyIndonesian24 | Prabowo VS Jokowi - Epic ...</td>\n",
       "      <td>Angga Fa</td>\n",
       "      <td>Itu 1 nya tretan muslim bukan</td>\n",
       "      <td>UgwDhNpM6rt4EMiNNwF4AaABAg.8tVEroxT-e28tVJ8QV0kCl</td>\n",
       "      <td>2019-04-09 08:30:25</td>\n",
       "      <td>0</td>\n",
       "      <td>0</td>\n",
       "      <td>legitimate</td>\n",
       "      <td>29</td>\n",
       "      <td>SkinnyIndonesian24   Prabowo VS Jokowi - Epic ...</td>\n",
       "      <td>1 tretan muslim bukan</td>\n",
       "    </tr>\n",
       "    <tr>\n",
       "      <th>47</th>\n",
       "      <td>AP0NACavjfk</td>\n",
       "      <td>SkinnyIndonesian24 | Prabowo VS Jokowi - Epic ...</td>\n",
       "      <td>LəL Nyt Yuniati</td>\n",
       "      <td>The real content creators!</td>\n",
       "      <td>UgzJPFWHc3ga5IrNaZF4AaABAg</td>\n",
       "      <td>2020-12-07 14:38:44</td>\n",
       "      <td>1</td>\n",
       "      <td>0</td>\n",
       "      <td>legitimate</td>\n",
       "      <td>26</td>\n",
       "      <td>SkinnyIndonesian24   Prabowo VS Jokowi - Epic ...</td>\n",
       "      <td>asli konten pencipta</td>\n",
       "    </tr>\n",
       "    <tr>\n",
       "      <th>48</th>\n",
       "      <td>AP0NACavjfk</td>\n",
       "      <td>SkinnyIndonesian24 | Prabowo VS Jokowi - Epic ...</td>\n",
       "      <td>24. M.Wildan Arya A</td>\n",
       "      <td>Best part 4:30</td>\n",
       "      <td>UgyrSPepnBZURUGZl5t4AaABAg</td>\n",
       "      <td>2019-04-11 07:08:34</td>\n",
       "      <td>0</td>\n",
       "      <td>0</td>\n",
       "      <td>legitimate</td>\n",
       "      <td>14</td>\n",
       "      <td>SkinnyIndonesian24   Prabowo VS Jokowi - Epic ...</td>\n",
       "      <td>best 4:30</td>\n",
       "    </tr>\n",
       "    <tr>\n",
       "      <th>49</th>\n",
       "      <td>AP0NACavjfk</td>\n",
       "      <td>SkinnyIndonesian24 | Prabowo VS Jokowi - Epic ...</td>\n",
       "      <td>annisa dwinda shafira</td>\n",
       "      <td>ASLIIIIIIIIIIIIIII PECTAH BENERRR!!</td>\n",
       "      <td>UgzHuA5uXyUCvI9Rk9d4AaABAg</td>\n",
       "      <td>2019-04-08 19:36:59</td>\n",
       "      <td>0</td>\n",
       "      <td>0</td>\n",
       "      <td>legitimate</td>\n",
       "      <td>35</td>\n",
       "      <td>SkinnyIndonesian24   Prabowo VS Jokowi - Epic ...</td>\n",
       "      <td>asli pecah benar</td>\n",
       "    </tr>\n",
       "  </tbody>\n",
       "</table>\n",
       "</div>"
      ],
      "text/plain": [
       "       Video_Id                                             Tittle  \\\n",
       "0   AP0NACavjfk  SkinnyIndonesian24 | Prabowo VS Jokowi - Epic ...   \n",
       "1   AP0NACavjfk  SkinnyIndonesian24 | Prabowo VS Jokowi - Epic ...   \n",
       "2   AP0NACavjfk  SkinnyIndonesian24 | Prabowo VS Jokowi - Epic ...   \n",
       "3   AP0NACavjfk  SkinnyIndonesian24 | Prabowo VS Jokowi - Epic ...   \n",
       "4   AP0NACavjfk  SkinnyIndonesian24 | Prabowo VS Jokowi - Epic ...   \n",
       "5   0iLgiRBQzzs  Panas! Jokowi VS Prabowo Saling Serang soal Ko...   \n",
       "6   AP0NACavjfk  SkinnyIndonesian24 | Prabowo VS Jokowi - Epic ...   \n",
       "7   AP0NACavjfk  SkinnyIndonesian24 | Prabowo VS Jokowi - Epic ...   \n",
       "8   AP0NACavjfk  SkinnyIndonesian24 | Prabowo VS Jokowi - Epic ...   \n",
       "9   AP0NACavjfk  SkinnyIndonesian24 | Prabowo VS Jokowi - Epic ...   \n",
       "10  AP0NACavjfk  SkinnyIndonesian24 | Prabowo VS Jokowi - Epic ...   \n",
       "11  AP0NACavjfk  SkinnyIndonesian24 | Prabowo VS Jokowi - Epic ...   \n",
       "12  AP0NACavjfk  SkinnyIndonesian24 | Prabowo VS Jokowi - Epic ...   \n",
       "13  AP0NACavjfk  SkinnyIndonesian24 | Prabowo VS Jokowi - Epic ...   \n",
       "14  AP0NACavjfk  SkinnyIndonesian24 | Prabowo VS Jokowi - Epic ...   \n",
       "15  AP0NACavjfk  SkinnyIndonesian24 | Prabowo VS Jokowi - Epic ...   \n",
       "16  AP0NACavjfk  SkinnyIndonesian24 | Prabowo VS Jokowi - Epic ...   \n",
       "17  AP0NACavjfk  SkinnyIndonesian24 | Prabowo VS Jokowi - Epic ...   \n",
       "18  AP0NACavjfk  SkinnyIndonesian24 | Prabowo VS Jokowi - Epic ...   \n",
       "19  AP0NACavjfk  SkinnyIndonesian24 | Prabowo VS Jokowi - Epic ...   \n",
       "20  AP0NACavjfk  SkinnyIndonesian24 | Prabowo VS Jokowi - Epic ...   \n",
       "21  AP0NACavjfk  SkinnyIndonesian24 | Prabowo VS Jokowi - Epic ...   \n",
       "22  AP0NACavjfk  SkinnyIndonesian24 | Prabowo VS Jokowi - Epic ...   \n",
       "23  AP0NACavjfk  SkinnyIndonesian24 | Prabowo VS Jokowi - Epic ...   \n",
       "24  AP0NACavjfk  SkinnyIndonesian24 | Prabowo VS Jokowi - Epic ...   \n",
       "25  0iLgiRBQzzs  Panas! Jokowi VS Prabowo Saling Serang soal Ko...   \n",
       "26  AP0NACavjfk  SkinnyIndonesian24 | Prabowo VS Jokowi - Epic ...   \n",
       "27  AP0NACavjfk  SkinnyIndonesian24 | Prabowo VS Jokowi - Epic ...   \n",
       "28  AP0NACavjfk  SkinnyIndonesian24 | Prabowo VS Jokowi - Epic ...   \n",
       "29  AP0NACavjfk  SkinnyIndonesian24 | Prabowo VS Jokowi - Epic ...   \n",
       "30  AP0NACavjfk  SkinnyIndonesian24 | Prabowo VS Jokowi - Epic ...   \n",
       "31  AP0NACavjfk  SkinnyIndonesian24 | Prabowo VS Jokowi - Epic ...   \n",
       "32  AP0NACavjfk  SkinnyIndonesian24 | Prabowo VS Jokowi - Epic ...   \n",
       "33  AP0NACavjfk  SkinnyIndonesian24 | Prabowo VS Jokowi - Epic ...   \n",
       "34  AP0NACavjfk  SkinnyIndonesian24 | Prabowo VS Jokowi - Epic ...   \n",
       "35  AP0NACavjfk  SkinnyIndonesian24 | Prabowo VS Jokowi - Epic ...   \n",
       "36  AP0NACavjfk  SkinnyIndonesian24 | Prabowo VS Jokowi - Epic ...   \n",
       "37  AP0NACavjfk  SkinnyIndonesian24 | Prabowo VS Jokowi - Epic ...   \n",
       "38  AP0NACavjfk  SkinnyIndonesian24 | Prabowo VS Jokowi - Epic ...   \n",
       "39  AP0NACavjfk  SkinnyIndonesian24 | Prabowo VS Jokowi - Epic ...   \n",
       "40  AP0NACavjfk  SkinnyIndonesian24 | Prabowo VS Jokowi - Epic ...   \n",
       "41  AP0NACavjfk  SkinnyIndonesian24 | Prabowo VS Jokowi - Epic ...   \n",
       "42  AP0NACavjfk  SkinnyIndonesian24 | Prabowo VS Jokowi - Epic ...   \n",
       "43  AP0NACavjfk  SkinnyIndonesian24 | Prabowo VS Jokowi - Epic ...   \n",
       "44  AP0NACavjfk  SkinnyIndonesian24 | Prabowo VS Jokowi - Epic ...   \n",
       "45  AP0NACavjfk  SkinnyIndonesian24 | Prabowo VS Jokowi - Epic ...   \n",
       "46  AP0NACavjfk  SkinnyIndonesian24 | Prabowo VS Jokowi - Epic ...   \n",
       "47  AP0NACavjfk  SkinnyIndonesian24 | Prabowo VS Jokowi - Epic ...   \n",
       "48  AP0NACavjfk  SkinnyIndonesian24 | Prabowo VS Jokowi - Epic ...   \n",
       "49  AP0NACavjfk  SkinnyIndonesian24 | Prabowo VS Jokowi - Epic ...   \n",
       "\n",
       "                                                 Name  \\\n",
       "0                                          Banda vlog   \n",
       "1                              kharisma setya kencana   \n",
       "2                                        「GratioKunz」   \n",
       "3                                     Trestrantara WZ   \n",
       "4                                      Heri Kurniawan   \n",
       "5                            Doharman Patimura Waruwu   \n",
       "6                                           666ranger   \n",
       "7                              Rizaldo Rizky Ramadhan   \n",
       "8                                       Ganis Fathoni   \n",
       "9                                           BotaksMan   \n",
       "10                                  Merdeka Selamanya   \n",
       "11                                        Ine Suwanda   \n",
       "12                                          Maz Malik   \n",
       "13                                Fadillah Dwi Rahayu   \n",
       "14                              silvia hermala sagala   \n",
       "15                                    zhenfang Vijaya   \n",
       "16                                            AMINNOR   \n",
       "17                                             Soak05   \n",
       "18                                      Sapril Wijaya   \n",
       "19                                Dwi Prasetya Ananta   \n",
       "20                                       Najwa Almira   \n",
       "21                                       Sandy Birawa   \n",
       "22                                          Papa Soni   \n",
       "23                                Mirah Wahyu Ningsih   \n",
       "24                                        Denis Prima   \n",
       "25                                       Riska Amalia   \n",
       "26                                 Wahyuni Budiastuti   \n",
       "27                                              N1ckX   \n",
       "28                               Marino Fahtur Rahman   \n",
       "29                                      Ajeng Fajrina   \n",
       "30                                        Doni Ramdan   \n",
       "31                                  dimetrio abelardo   \n",
       "32                                       Ilham Satria   \n",
       "33                                     M.saomi Dzikri   \n",
       "34                                      yB PRODUCTION   \n",
       "35                                           Neng Dim   \n",
       "36                                        Gery Azrian   \n",
       "37  DullPerfectforbes -Youtube roblox gaming channel.   \n",
       "38                                            FASIYNA   \n",
       "39                                   Sun Yen Suhendro   \n",
       "40                                       Nothing here   \n",
       "41                                                A H   \n",
       "42                                            Selia K   \n",
       "43                                     Herson Trianto   \n",
       "44                                    Wahyu Tri Utami   \n",
       "45                                 Nadia Putri barata   \n",
       "46                                           Angga Fa   \n",
       "47                                    LəL Nyt Yuniati   \n",
       "48                                24. M.Wildan Arya A   \n",
       "49                              annisa dwinda shafira   \n",
       "\n",
       "                                              Comment  \\\n",
       "0                 Apa salah mobale lejen pak soekarno   \n",
       "1                                              👆👆👆👆👆👆   \n",
       "2                                  Dan golput itu apa   \n",
       "3                                             Keren!!   \n",
       "4              Pilih siapa presiden aku Prabowo-Sandi   \n",
       "5                        https://youtu.be/LBKGyxnpMCU   \n",
       "6                              Gw ikuttt koment lohhh   \n",
       "7       Bagus sih. Meskipun tiru tiru Epic Rap Battle   \n",
       "8   Gw pendukung Prabowo, tp gw tersinggungnya pas...   \n",
       "9                         Ada yang dari tahun 2025?🗿🔥   \n",
       "10                                          Menghibur   \n",
       "11  wahh ak dah 3 kali nonton ada yang lebihin aku gx   \n",
       "12       Njir gue baru sadar kalo  gua nonton 15 kali   \n",
       "13  Gw kurang srek deh di menit 1:13 disitu ada be...   \n",
       "14                          BAGUSSS BANGETTT kerennnn   \n",
       "15                   Aku gak suka karena ini untuk ku   \n",
       "16                                             Mantul   \n",
       "17  Ahhaahaha mantap ada kaum kita hiyaa hiyaa hii...   \n",
       "18  HAhahahahah mari trandingkan\\nGeser ki pop pok...   \n",
       "19                             Salut. Jangan Golput !   \n",
       "20                                        1:52 shiap🤣   \n",
       "21                                                 Gw   \n",
       "22  SAYA 7 TAHUN DALAM YOUTUBE UNTUK SKINNYINDONES...   \n",
       "23                                KEREN BANGET BANG💚💚   \n",
       "24                                Nurhadi Aldo mana ?   \n",
       "25  Ngak tahu kah kabarnya papua juga merasa diboh...   \n",
       "26  Masih pegang posisi trendingg brayy⚡\\nThe best...   \n",
       "27                        gk nyangka udh 2 tahun lalu   \n",
       "28                                          Mantapppp   \n",
       "29                                       Keren wooooo   \n",
       "30  Pas baca bacain koment saya liat dikit nya pop...   \n",
       "31                    Masih bingung kok ga di tangkap   \n",
       "32                 The best content everrrrr.........   \n",
       "33  Gue nonton iklanya gak gue skip biar dapet ads...   \n",
       "34                                               Nice   \n",
       "35                                  Mantap keren asli   \n",
       "36                                            Tru min   \n",
       "37                                             JOKOWI   \n",
       "38                         Ada kah yang masih nonton?   \n",
       "39                                 WAJIB TRENDING !!!   \n",
       "40  2:25 mirip banget kek jokowi anjir wkwk, tapi ...   \n",
       "41                                    Salam dari 3001   \n",
       "42                           This too funny and truee   \n",
       "43                                       Gk Capek cuy   \n",
       "44  Gila ini keren banget. Ini baru youtubers. Seg...   \n",
       "45                                          Mantapp🔥❤   \n",
       "46                      Itu 1 nya tretan muslim bukan   \n",
       "47                         The real content creators!   \n",
       "48                                     Best part 4:30   \n",
       "49                ASLIIIIIIIIIIIIIII PECTAH BENERRR!!   \n",
       "\n",
       "                                           Comment_Id                Time  \\\n",
       "0                          UgwmjTHzY2zMOXBg9F94AaABAg 2019-04-11 11:27:47   \n",
       "1                          UgzbICRmksoeoGVFCzd4AaABAg 2019-04-09 04:08:18   \n",
       "2                          UgxROKiw4EX5LyaG0lx4AaABAg 2019-04-18 08:57:13   \n",
       "3                          UgymN9o3cZFXVPLKcjZ4AaABAg 2019-04-08 16:42:13   \n",
       "4                          Ugw9J8lP4lOg0t5yX0l4AaABAg 2019-04-18 00:45:06   \n",
       "5                          Ugz-zdD0s87dSDzITuh4AaABAg 2019-01-17 23:06:24   \n",
       "6                          UgwKlaNqj0fQUpQ3Neh4AaABAg 2019-04-09 11:42:22   \n",
       "7                          UgzulMMMFleZEE1lAO54AaABAg 2019-04-15 05:00:02   \n",
       "8                          UgxF1r9yMnMxyFDa4HJ4AaABAg 2019-04-09 07:28:57   \n",
       "9                          Ugx_s948xKTK9LlXF5F4AaABAg 2021-01-18 14:38:50   \n",
       "10                         Ugxi1ucujacIS_zlagF4AaABAg 2020-05-18 08:19:30   \n",
       "11                         Ugy2Cd4UGsInW9f3R9p4AaABAg 2019-04-13 00:43:06   \n",
       "12                         UgzSAC1H6Lr2obDDXD94AaABAg 2019-06-01 23:39:33   \n",
       "13                         Ugw627P2XwTIxk6TEt14AaABAg 2019-04-10 02:58:56   \n",
       "14                         UgyFaC6PAcejTuvO7Sd4AaABAg 2019-04-17 04:08:17   \n",
       "15                         UgxdlUsKvMTuXzdIHXh4AaABAg 2020-12-04 13:31:40   \n",
       "16                         Ugyuq0L_JAuedyIgx0d4AaABAg 2019-04-09 09:42:00   \n",
       "17                         Ugxa6xMh8Ybe5KeSXL54AaABAg 2019-04-08 15:38:29   \n",
       "18  UgzyLB5DdDggBu_j2EN4AaABAg.8tVQZ5x5BgD8tVUXAzJSAE 2019-04-09 10:09:55   \n",
       "19                         UgznnkabhmEhWntvVdx4AaABAg 2019-04-12 04:45:22   \n",
       "20                         Ugxfeeg-W02VFGXhykd4AaABAg 2019-04-08 16:26:22   \n",
       "21  UgwYuFOGfDLQd9crDHl4AaABAg.8u_QztScP328v6HQivjtli 2019-05-19 08:17:13   \n",
       "22                         Ugz8oLZen10iG_JRqgt4AaABAg 2019-04-13 03:37:30   \n",
       "23                         UgycwXu9LdjrzrlZTNN4AaABAg 2019-04-09 00:30:55   \n",
       "24                         UgxYxZ6Mo35itVslNdp4AaABAg 2019-04-09 06:41:00   \n",
       "25  UgzStrrzMVkeANhiC414AaABAg.8qD2VVBYdUu8qWQTAlgely 2019-01-25 05:19:29   \n",
       "26                         UgwZ_g9CFfLJLuytHeV4AaABAg 2019-04-18 16:28:46   \n",
       "27                         UgxlKHcZGmoQDQcCw2l4AaABAg 2022-03-26 14:00:55   \n",
       "28                         UgxkA2EgPkDtn-mio-h4AaABAg 2019-04-09 07:31:46   \n",
       "29                         UgyNXurwGyCcwMc5NYN4AaABAg 2019-04-12 08:50:42   \n",
       "30                         Ugyr3vG94H6yn2JPyDR4AaABAg 2019-04-09 13:13:13   \n",
       "31                         UgxJkbtcW_zZXA0ue-h4AaABAg 2021-12-07 18:17:49   \n",
       "32                         UgyGpmStmBr9KtDb_yh4AaABAg 2020-06-13 15:01:09   \n",
       "33                         UgyV-whidLcrwt92V9l4AaABAg 2019-04-11 02:58:28   \n",
       "34                         UgwD0lmkAYFXJQqB-V14AaABAg 2019-04-10 03:55:12   \n",
       "35                         UgyJMUYZpWkbeUf9pl14AaABAg 2019-04-09 08:28:25   \n",
       "36  Ugw_acFjqXDOAI4kKcB4AaABAg.9CMqsE1TCl99DJIJaaamDe 2020-09-07 15:31:36   \n",
       "37                         UgzpGF70BVYDAQ0wA4R4AaABAg 2019-04-20 13:59:03   \n",
       "38                         Ugwmn0P-GpKZ6-vYr1t4AaABAg 2020-04-06 15:08:26   \n",
       "39                         UgxBgReTxbuv95ex7qx4AaABAg 2019-04-09 01:54:35   \n",
       "40                         UgxFzjk-Kybn3lUuLNV4AaABAg 2019-04-09 16:23:35   \n",
       "41  Ugxb-2JpdiuilGvsoHJ4AaABAg.8tjR5mDTQz38uDeqjv8spe 2019-04-27 08:33:55   \n",
       "42                         Ugwp_gABESq4otBSzF54AaABAg 2019-04-10 06:41:27   \n",
       "43  Ugwa43KfFrATr1CFsep4AaABAg.8tr39UWflyf8ts8RXWNjaI 2019-04-18 14:38:41   \n",
       "44                         Ugxg0d_nDYzlyuhmoaR4AaABAg 2019-04-14 17:09:22   \n",
       "45                         Ugw2DScgxI9I1dZNdSh4AaABAg 2019-04-09 07:05:18   \n",
       "46  UgwDhNpM6rt4EMiNNwF4AaABAg.8tVEroxT-e28tVJ8QV0kCl 2019-04-09 08:30:25   \n",
       "47                         UgzJPFWHc3ga5IrNaZF4AaABAg 2020-12-07 14:38:44   \n",
       "48                         UgyrSPepnBZURUGZl5t4AaABAg 2019-04-11 07:08:34   \n",
       "49                         UgzHuA5uXyUCvI9Rk9d4AaABAg 2019-04-08 19:36:59   \n",
       "\n",
       "    Likes  Reply_Count       Label  Length_Comment  \\\n",
       "0       0            0        spam              35   \n",
       "1       0            0  legitimate               6   \n",
       "2       0            0  legitimate              18   \n",
       "3       0            0  legitimate               7   \n",
       "4       1            0  legitimate              38   \n",
       "5       0            0        spam              28   \n",
       "6       0            0        spam              22   \n",
       "7       0            0  legitimate              45   \n",
       "8       0            0  legitimate              63   \n",
       "9       1            0        spam              27   \n",
       "10      0            0  legitimate               9   \n",
       "11      0            0        spam              49   \n",
       "12     89            8        spam              44   \n",
       "13      0            0  legitimate             122   \n",
       "14      0            0  legitimate              25   \n",
       "15      0            0  legitimate              32   \n",
       "16      0            0  legitimate               6   \n",
       "17      0            0  legitimate              51   \n",
       "18      0            0        spam              53   \n",
       "19      0            0  legitimate              22   \n",
       "20      0            0  legitimate              11   \n",
       "21      0            0        spam               2   \n",
       "22      1            0  legitimate              52   \n",
       "23      0            0  legitimate              19   \n",
       "24      0            0        spam              19   \n",
       "25      0            0  legitimate             160   \n",
       "26      0            0  legitimate              53   \n",
       "27      1            0  legitimate              27   \n",
       "28      0            0  legitimate               9   \n",
       "29      0            0  legitimate              12   \n",
       "30      5            1  legitimate             164   \n",
       "31      0            2  legitimate              31   \n",
       "32    148            0  legitimate              34   \n",
       "33      6            0  legitimate             111   \n",
       "34      0            0  legitimate               4   \n",
       "35      0            0  legitimate              17   \n",
       "36      0            0  legitimate               7   \n",
       "37      0            0  legitimate               6   \n",
       "38      2            0        spam              26   \n",
       "39      0            0        spam              18   \n",
       "40      0            0  legitimate              74   \n",
       "41      0            0        spam              15   \n",
       "42      0            0  legitimate              24   \n",
       "43      0            0  legitimate              12   \n",
       "44      0            0  legitimate              84   \n",
       "45      1            0  legitimate               9   \n",
       "46      0            0  legitimate              29   \n",
       "47      1            0  legitimate              26   \n",
       "48      0            0  legitimate              14   \n",
       "49      0            0  legitimate              35   \n",
       "\n",
       "                                        cleaned_title  \\\n",
       "0   SkinnyIndonesian24   Prabowo VS Jokowi - Epic ...   \n",
       "1   SkinnyIndonesian24   Prabowo VS Jokowi - Epic ...   \n",
       "2   SkinnyIndonesian24   Prabowo VS Jokowi - Epic ...   \n",
       "3   SkinnyIndonesian24   Prabowo VS Jokowi - Epic ...   \n",
       "4   SkinnyIndonesian24   Prabowo VS Jokowi - Epic ...   \n",
       "5   Panas  Jokowi VS Prabowo Saling Serang soal Ko...   \n",
       "6   SkinnyIndonesian24   Prabowo VS Jokowi - Epic ...   \n",
       "7   SkinnyIndonesian24   Prabowo VS Jokowi - Epic ...   \n",
       "8   SkinnyIndonesian24   Prabowo VS Jokowi - Epic ...   \n",
       "9   SkinnyIndonesian24   Prabowo VS Jokowi - Epic ...   \n",
       "10  SkinnyIndonesian24   Prabowo VS Jokowi - Epic ...   \n",
       "11  SkinnyIndonesian24   Prabowo VS Jokowi - Epic ...   \n",
       "12  SkinnyIndonesian24   Prabowo VS Jokowi - Epic ...   \n",
       "13  SkinnyIndonesian24   Prabowo VS Jokowi - Epic ...   \n",
       "14  SkinnyIndonesian24   Prabowo VS Jokowi - Epic ...   \n",
       "15  SkinnyIndonesian24   Prabowo VS Jokowi - Epic ...   \n",
       "16  SkinnyIndonesian24   Prabowo VS Jokowi - Epic ...   \n",
       "17  SkinnyIndonesian24   Prabowo VS Jokowi - Epic ...   \n",
       "18  SkinnyIndonesian24   Prabowo VS Jokowi - Epic ...   \n",
       "19  SkinnyIndonesian24   Prabowo VS Jokowi - Epic ...   \n",
       "20  SkinnyIndonesian24   Prabowo VS Jokowi - Epic ...   \n",
       "21  SkinnyIndonesian24   Prabowo VS Jokowi - Epic ...   \n",
       "22  SkinnyIndonesian24   Prabowo VS Jokowi - Epic ...   \n",
       "23  SkinnyIndonesian24   Prabowo VS Jokowi - Epic ...   \n",
       "24  SkinnyIndonesian24   Prabowo VS Jokowi - Epic ...   \n",
       "25  Panas  Jokowi VS Prabowo Saling Serang soal Ko...   \n",
       "26  SkinnyIndonesian24   Prabowo VS Jokowi - Epic ...   \n",
       "27  SkinnyIndonesian24   Prabowo VS Jokowi - Epic ...   \n",
       "28  SkinnyIndonesian24   Prabowo VS Jokowi - Epic ...   \n",
       "29  SkinnyIndonesian24   Prabowo VS Jokowi - Epic ...   \n",
       "30  SkinnyIndonesian24   Prabowo VS Jokowi - Epic ...   \n",
       "31  SkinnyIndonesian24   Prabowo VS Jokowi - Epic ...   \n",
       "32  SkinnyIndonesian24   Prabowo VS Jokowi - Epic ...   \n",
       "33  SkinnyIndonesian24   Prabowo VS Jokowi - Epic ...   \n",
       "34  SkinnyIndonesian24   Prabowo VS Jokowi - Epic ...   \n",
       "35  SkinnyIndonesian24   Prabowo VS Jokowi - Epic ...   \n",
       "36  SkinnyIndonesian24   Prabowo VS Jokowi - Epic ...   \n",
       "37  SkinnyIndonesian24   Prabowo VS Jokowi - Epic ...   \n",
       "38  SkinnyIndonesian24   Prabowo VS Jokowi - Epic ...   \n",
       "39  SkinnyIndonesian24   Prabowo VS Jokowi - Epic ...   \n",
       "40  SkinnyIndonesian24   Prabowo VS Jokowi - Epic ...   \n",
       "41  SkinnyIndonesian24   Prabowo VS Jokowi - Epic ...   \n",
       "42  SkinnyIndonesian24   Prabowo VS Jokowi - Epic ...   \n",
       "43  SkinnyIndonesian24   Prabowo VS Jokowi - Epic ...   \n",
       "44  SkinnyIndonesian24   Prabowo VS Jokowi - Epic ...   \n",
       "45  SkinnyIndonesian24   Prabowo VS Jokowi - Epic ...   \n",
       "46  SkinnyIndonesian24   Prabowo VS Jokowi - Epic ...   \n",
       "47  SkinnyIndonesian24   Prabowo VS Jokowi - Epic ...   \n",
       "48  SkinnyIndonesian24   Prabowo VS Jokowi - Epic ...   \n",
       "49  SkinnyIndonesian24   Prabowo VS Jokowi - Epic ...   \n",
       "\n",
       "                                      cleaned_comment  \n",
       "0                        salah mobile legend soekarno  \n",
       "1                                                      \n",
       "2                                              golput  \n",
       "3                                               keren  \n",
       "4                    pilih presiden aku prabowo-sandi  \n",
       "5                                                 url  \n",
       "6                                  saya ikut komentar  \n",
       "7             bagus sih meniru meniru epik rap battle  \n",
       "8   saya pendukung prabowo saya tersinggungnya men...  \n",
       "9                                          tahun 2025  \n",
       "10                                          menghibur  \n",
       "11                       aku 3 nonton lebih aku tidak  \n",
       "12                          saya sadar saya nonton 15  \n",
       "13  saya cocok menit 1:13 disitu bendera indonesia...  \n",
       "14                                 bagus banget keren  \n",
       "15                                   aku gak suka aku  \n",
       "16                                       mantap betul  \n",
       "17                                        mantap kaum  \n",
       "18                      trandingkan geser pop pok pop  \n",
       "19                               bangga jangan golput  \n",
       "20                                          1:52 siap  \n",
       "21                                               saya  \n",
       "22                7 tahun youtube skinnyindonesisan24  \n",
       "23                                       keren banget  \n",
       "24                                       nurhadi aldo  \n",
       "25  tidak kabarnya papua dibohongin bbm tunggu tan...  \n",
       "26  pegang posisi trendingg brayy best skinnyindon...  \n",
       "27                              tidak nyangka 2 tahun  \n",
       "28                                             mantap  \n",
       "29                                              keren  \n",
       "30  baca bacain komentar lihat dikit populasi cebo...  \n",
       "31                              bingung tidak tangkap  \n",
       "32                                   best konten ever  \n",
       "33  saya nonton iklanya gak saya lewati biar dapat...  \n",
       "34                                               baik  \n",
       "35                                  mantap keren asli  \n",
       "36                                                     \n",
       "37                                             jokowi  \n",
       "38                                             nonton  \n",
       "39                                     wajib trending  \n",
       "40  2:25 banget jokowi keren tertawa gerak lebi zaman  \n",
       "41                                         salam 3001  \n",
       "42                                         lucu benar  \n",
       "43                                        tidak capek  \n",
       "44  gila keren banget youtubers detiknya nilai dia...  \n",
       "45                                             mantap  \n",
       "46                              1 tretan muslim bukan  \n",
       "47                               asli konten pencipta  \n",
       "48                                          best 4:30  \n",
       "49                                   asli pecah benar  "
      ]
     },
     "execution_count": 67,
     "metadata": {},
     "output_type": "execute_result"
    }
   ],
   "source": [
    "try_data_cleaning.head(50)"
   ]
  },
  {
   "cell_type": "code",
   "execution_count": 68,
   "metadata": {},
   "outputs": [],
   "source": [
    "#convert text into lower case\n",
    "#def convert_to_lower(text):\n",
    "#    return text.lower()\n",
    "\n",
    "#remove_numbers on text\n",
    "#def remove_numbers(text):\n",
    "#    number_pattern = r'\\d+'\n",
    "#    without_number = re.sub(pattern=number_pattern, repl=\" \", string=text)\n",
    "#    return without_number\n",
    "\n",
    "#def remove_punctuation(text):\n",
    "#    return text.translate(str.maketrans('', '', string.punctuation))\n",
    "\n",
    "#Komentar spam cenderung memiliki jumlah spasi yang banyak \n",
    "#sehingga komentar tersebut memberikan dampak yang jauh lebih besar \n",
    "#bagi pengguna yang membacanya\n",
    "\n",
    "#def remove_extra_white_spaces(text):\n",
    "#    single_char_pattern = re.compile(r'\\s+')\n",
    "#    without_sc = re.sub(pattern=single_char_pattern, repl=' ', string=text)\n",
    "#    return without_sc\n",
    "\n",
    "#def remove_stopwords(text):\n",
    "#    nlp = spacy.blank(\"id\")\n",
    "#    removed = []\n",
    "#    stop_words = list(STOP_WORDS)\n",
    "#    Teks = nlp(text)\n",
    "#    #tokens = token.text(Teks)\n",
    "#    for i in range(len(Teks)):\n",
    "#        if Teks [i] not in stop_words:\n",
    "#            removed.append(Teks[i])\n",
    "#    return \" \".join(removed)\n"
   ]
  },
  {
   "cell_type": "markdown",
   "metadata": {},
   "source": [
    "## Feature Extraction"
   ]
  },
  {
   "cell_type": "code",
   "execution_count": 40,
   "metadata": {},
   "outputs": [],
   "source": [
    "def url_ratio(text):\n",
    "    pattern =(r\"\"\"(?i)\\b((?:https?:(?:/{1,3}|[a-z0-9%])|[a-z0-9.\\-]+[.](?:com|net|org|edu|gov|mil|aero|asia|biz|cat|coop|info|int|jobs|mobi|museum|name|post|pro|tel|travel|xxx|ac|ad|ae|af|ag|ai|al|am|an|ao|aq|ar|as|at|au|aw|ax|az|ba|bb|bd|be|bf|bg|bh|bi|bj|bm|bn|bo|br|bs|bt|bv|bw|by|bz|ca|cc|cd|cf|cg|ch|ci|ck|cl|cm|cn|co|cr|cs|cu|cv|cx|cy|cz|dd|de|dj|dk|dm|do|dz|ec|ee|eg|eh|er|es|et|eu|fi|fj|fk|fm|fo|fr|ga|gb|gd|ge|gf|gg|gh|gi|gl|gm|gn|gp|gq|gr|gs|gt|gu|gw|gy|hk|hm|hn|hr|ht|hu|id|ie|il|im|in|io|iq|ir|is|it|je|jm|jo|jp|ke|kg|kh|ki|km|kn|kp|kr|kw|ky|kz|la|lb|lc|li|lk|lr|ls|lt|lu|lv|ly|ma|mc|md|me|mg|mh|mk|ml|mm|mn|mo|mp|mq|mr|ms|mt|mu|mv|mw|mx|my|mz|na|nc|ne|nf|ng|ni|nl|no|np|nr|nu|nz|om|pa|pe|pf|pg|ph|pk|pl|pm|pn|pr|ps|pt|pw|py|qa|re|ro|rs|ru|rw|sa|sb|sc|sd|se|sg|sh|si|sj|Ja|sk|sl|sm|sn|so|sr|ss|st|su|sv|sx|sy|sz|tc|td|tf|tg|th|tj|tk|tl|tm|tn|to|tp|tr|tt|tv|tw|tz|ua|ug|uk|us|uy|uz|va|vc|ve|vg|vi|vn|vu|wf|ws|ye|yt|yu|za|zm|zw)/)(?:[^\\s()<>{}\\[\\]]+|\\([^\\s()]*?\\([^\\s()]+\\)[^\\s()]*?\\)|\\([^\\s]+?\\))+(?:\\([^\\s()]*?\\([^\\s()]+\\)[^\\s()]*?\\)|\\([^\\s]+?\\)|[^\\s`!()\\[\\]{};:'\".,<>?«»“”‘’])|(?:(?<!@)[a-z0-9]+(?:[.\\-][a-z0-9]+)*[.](?:com|net|org|edu|gov|mil|aero|asia|biz|cat|coop|info|int|jobs|mobi|museum|name|post|pro|tel|travel|xxx|ac|ad|ae|af|ag|ai|al|am|an|ao|aq|ar|as|at|au|aw|ax|az|ba|bb|bd|be|bf|bg|bh|bi|bj|bm|bn|bo|br|bs|bt|bv|bw|by|bz|ca|cc|cd|cf|cg|ch|ci|ck|cl|cm|cn|co|cr|cs|cu|cv|cx|cy|cz|dd|de|dj|dk|dm|do|dz|ec|ee|eg|eh|er|es|et|eu|fi|fj|fk|fm|fo|fr|ga|gb|gd|ge|gf|gg|gh|gi|gl|gm|gn|gp|gq|gr|gs|gt|gu|gw|gy|hk|hm|hn|hr|ht|hu|id|ie|il|im|in|io|iq|ir|is|it|je|jm|jo|jp|ke|kg|kh|ki|km|kn|kp|kr|kw|ky|kz|la|lb|lc|li|lk|lr|ls|lt|lu|lv|ly|ma|mc|md|me|mg|mh|mk|ml|mm|mn|mo|mp|mq|mr|ms|mt|mu|mv|mw|mx|my|mz|na|nc|ne|nf|ng|ni|nl|no|np|nr|nu|nz|om|pa|pe|pf|pg|ph|pk|pl|pm|pn|pr|ps|pt|pw|py|qa|re|ro|rs|ru|rw|sa|sb|sc|sd|se|sg|sh|si|sj|Ja|sk|sl|sm|sn|so|sr|ss|st|su|sv|sx|sy|sz|tc|td|tf|tg|th|tj|tk|tl|tm|tn|to|tp|tr|tt|tv|tw|tz|ua|ug|uk|us|uy|uz|va|vc|ve|vg|vi|vn|vu|wf|ws|ye|yt|yu|za|zm|zw)\\b/?(?!@)))\"\"\")\n",
    "    #urls = re.findall(\"http[s]?://(?:[a-zA-Z]|[0-9]|[$-_@.&+]|[!*\\(\\),]|(?:%[0-9a-fA-F][0-9a-fA-F]))+\", text)\n",
    "    urls = re.findall(pattern=pattern, string=text)\n",
    "    url_char = 0\n",
    "    for url in urls:\n",
    "        url_char += len(url)\n",
    "    return url_char/len(text)\n",
    "\n",
    "def count_url(text):\n",
    "    pattern =(r\"\"\"(?i)\\b((?:https?:(?:/{1,3}|[a-z0-9%])|[a-z0-9.\\-]+[.](?:com|net|org|edu|gov|mil|aero|asia|biz|cat|coop|info|int|jobs|mobi|museum|name|post|pro|tel|travel|xxx|ac|ad|ae|af|ag|ai|al|am|an|ao|aq|ar|as|at|au|aw|ax|az|ba|bb|bd|be|bf|bg|bh|bi|bj|bm|bn|bo|br|bs|bt|bv|bw|by|bz|ca|cc|cd|cf|cg|ch|ci|ck|cl|cm|cn|co|cr|cs|cu|cv|cx|cy|cz|dd|de|dj|dk|dm|do|dz|ec|ee|eg|eh|er|es|et|eu|fi|fj|fk|fm|fo|fr|ga|gb|gd|ge|gf|gg|gh|gi|gl|gm|gn|gp|gq|gr|gs|gt|gu|gw|gy|hk|hm|hn|hr|ht|hu|id|ie|il|im|in|io|iq|ir|is|it|je|jm|jo|jp|ke|kg|kh|ki|km|kn|kp|kr|kw|ky|kz|la|lb|lc|li|lk|lr|ls|lt|lu|lv|ly|ma|mc|md|me|mg|mh|mk|ml|mm|mn|mo|mp|mq|mr|ms|mt|mu|mv|mw|mx|my|mz|na|nc|ne|nf|ng|ni|nl|no|np|nr|nu|nz|om|pa|pe|pf|pg|ph|pk|pl|pm|pn|pr|ps|pt|pw|py|qa|re|ro|rs|ru|rw|sa|sb|sc|sd|se|sg|sh|si|sj|Ja|sk|sl|sm|sn|so|sr|ss|st|su|sv|sx|sy|sz|tc|td|tf|tg|th|tj|tk|tl|tm|tn|to|tp|tr|tt|tv|tw|tz|ua|ug|uk|us|uy|uz|va|vc|ve|vg|vi|vn|vu|wf|ws|ye|yt|yu|za|zm|zw)/)(?:[^\\s()<>{}\\[\\]]+|\\([^\\s()]*?\\([^\\s()]+\\)[^\\s()]*?\\)|\\([^\\s]+?\\))+(?:\\([^\\s()]*?\\([^\\s()]+\\)[^\\s()]*?\\)|\\([^\\s]+?\\)|[^\\s`!()\\[\\]{};:'\".,<>?«»“”‘’])|(?:(?<!@)[a-z0-9]+(?:[.\\-][a-z0-9]+)*[.](?:com|net|org|edu|gov|mil|aero|asia|biz|cat|coop|info|int|jobs|mobi|museum|name|post|pro|tel|travel|xxx|ac|ad|ae|af|ag|ai|al|am|an|ao|aq|ar|as|at|au|aw|ax|az|ba|bb|bd|be|bf|bg|bh|bi|bj|bm|bn|bo|br|bs|bt|bv|bw|by|bz|ca|cc|cd|cf|cg|ch|ci|ck|cl|cm|cn|co|cr|cs|cu|cv|cx|cy|cz|dd|de|dj|dk|dm|do|dz|ec|ee|eg|eh|er|es|et|eu|fi|fj|fk|fm|fo|fr|ga|gb|gd|ge|gf|gg|gh|gi|gl|gm|gn|gp|gq|gr|gs|gt|gu|gw|gy|hk|hm|hn|hr|ht|hu|id|ie|il|im|in|io|iq|ir|is|it|je|jm|jo|jp|ke|kg|kh|ki|km|kn|kp|kr|kw|ky|kz|la|lb|lc|li|lk|lr|ls|lt|lu|lv|ly|ma|mc|md|me|mg|mh|mk|ml|mm|mn|mo|mp|mq|mr|ms|mt|mu|mv|mw|mx|my|mz|na|nc|ne|nf|ng|ni|nl|no|np|nr|nu|nz|om|pa|pe|pf|pg|ph|pk|pl|pm|pn|pr|ps|pt|pw|py|qa|re|ro|rs|ru|rw|sa|sb|sc|sd|se|sg|sh|si|sj|Ja|sk|sl|sm|sn|so|sr|ss|st|su|sv|sx|sy|sz|tc|td|tf|tg|th|tj|tk|tl|tm|tn|to|tp|tr|tt|tv|tw|tz|ua|ug|uk|us|uy|uz|va|vc|ve|vg|vi|vn|vu|wf|ws|ye|yt|yu|za|zm|zw)\\b/?(?!@)))\"\"\")\n",
    "    #urls = re.findall(\"http[s]?://(?:[a-zA-Z]|[0-9]|[$-_@.&+]|[!*\\(\\),]|(?:%[0-9a-fA-F][0-9a-fA-F]))+\", text)\n",
    "    urls = re.findall(pattern=pattern, string=text)\n",
    "    return len(urls)\n",
    "\n",
    "def count_extra_white_spaces(text):\n",
    "    single_char_pattern = r'\\s+'\n",
    "    without_sc = re.findall(pattern=single_char_pattern, string=text)\n",
    "    return len(without_sc)\n",
    "\n",
    "def word_duplicate_ratio(text):\n",
    "    try:\n",
    "        unique_words = set()\n",
    "        for d in text.split():\n",
    "\t        unique_words.add(d)\n",
    "        td =[len(d) for d in unique_words]\n",
    "        return len(unique_words)/sum(td)\n",
    "    except:\n",
    "        if sum(td) == 0:\n",
    "            return(\" \")\n",
    "\n",
    "#def count_punctuation((text),(string.punctuation)):\n",
    "#    count = lambda l1,l2: sum([1 for text in l1 if text in l2])\n",
    "#    return count\n",
    "    #df['count_punct'] = df.content.apply(lambda s: count(s, string.punctuation))\n",
    "#def stopwords_ratio()\n",
    "\n",
    "def non_ascii(text):\n",
    "    pattern = (r'[^\\x00-\\x7f]')\n",
    "    non_ascii_count = re.findall(pattern=pattern, string=text)\n",
    "    return len(non_ascii_count)\n",
    "\n",
    "def upper_letters(text):\n",
    "    sum_upper_letters = sum(map(str.isupper, text))\n",
    "    return sum_upper_letters\n",
    "\n",
    "def count_emoji(text):\n",
    "    emoji_list = []\n",
    "    data = re.findall(r'\\X', text)\n",
    "    for word in data:\n",
    "        if any(char in emoji.UNICODE_EMOJI['en'] for char in word):\n",
    "            emoji_list.append(word)\n",
    "    return len(emoji_list)"
   ]
  },
  {
   "cell_type": "code",
   "execution_count": 41,
   "metadata": {},
   "outputs": [],
   "source": [
    "text = \"🤡🤡🤡🤡🤡🤡🤡\""
   ]
  },
  {
   "cell_type": "code",
   "execution_count": 42,
   "metadata": {},
   "outputs": [
    {
     "data": {
      "text/plain": [
       "7"
      ]
     },
     "execution_count": 42,
     "metadata": {},
     "output_type": "execute_result"
    }
   ],
   "source": [
    "count_emoji(text)"
   ]
  },
  {
   "cell_type": "code",
   "execution_count": 43,
   "metadata": {},
   "outputs": [],
   "source": [
    "toyData['Count_Url'] = toyData['Comment'].apply(lambda x: count_url(x))\n",
    "toyData['Url_Ratio'] = toyData['Comment'].apply(lambda x: url_ratio(x))\n",
    "toyData['Number_White_Space'] = toyData['Comment'].apply(lambda x: count_extra_white_spaces(x))\n",
    "#toyData['Count_Punctuation'] = toyData['Comment'].apply(lambda s: count_punctuation(s, string.punctuation))\n",
    "toyData['World_Duplicate_Ratio'] = toyData['Comment'].apply(lambda x: word_duplicate_ratio(x))\n",
    "toyData['Count_Emoji'] = toyData['Comment'].apply(lambda x: count_emoji(x))\n",
    "toyData['Count_non_ascii'] = toyData['Comment'].apply(lambda x: non_ascii(x))\n",
    "toyData['Count_upper_letters'] = toyData['Comment'].apply(lambda x: upper_letters(x))"
   ]
  },
  {
   "cell_type": "code",
   "execution_count": 44,
   "metadata": {},
   "outputs": [
    {
     "data": {
      "text/html": [
       "<div>\n",
       "<style scoped>\n",
       "    .dataframe tbody tr th:only-of-type {\n",
       "        vertical-align: middle;\n",
       "    }\n",
       "\n",
       "    .dataframe tbody tr th {\n",
       "        vertical-align: top;\n",
       "    }\n",
       "\n",
       "    .dataframe thead th {\n",
       "        text-align: right;\n",
       "    }\n",
       "</style>\n",
       "<table border=\"1\" class=\"dataframe\">\n",
       "  <thead>\n",
       "    <tr style=\"text-align: right;\">\n",
       "      <th></th>\n",
       "      <th>Video_Id</th>\n",
       "      <th>Tittle</th>\n",
       "      <th>Name</th>\n",
       "      <th>Comment</th>\n",
       "      <th>Comment_Id</th>\n",
       "      <th>Time</th>\n",
       "      <th>Likes</th>\n",
       "      <th>Reply_Count</th>\n",
       "      <th>Label</th>\n",
       "      <th>Length_Comment</th>\n",
       "      <th>...</th>\n",
       "      <th>cleaned_comment_1</th>\n",
       "      <th>cleaned_comment_2</th>\n",
       "      <th>cleaned_comment_3</th>\n",
       "      <th>Count_Url</th>\n",
       "      <th>Url_Ratio</th>\n",
       "      <th>Number_White_Space</th>\n",
       "      <th>World_Duplicate_Ratio</th>\n",
       "      <th>Count_Emoji</th>\n",
       "      <th>Count_non_ascii</th>\n",
       "      <th>Count_upper_letters</th>\n",
       "    </tr>\n",
       "  </thead>\n",
       "  <tbody>\n",
       "    <tr>\n",
       "      <th>0</th>\n",
       "      <td>AP0NACavjfk</td>\n",
       "      <td>SkinnyIndonesian24 | Prabowo VS Jokowi - Epic ...</td>\n",
       "      <td>rezahami</td>\n",
       "      <td>Hatta apakah perjuangan kita sia sia</td>\n",
       "      <td>UgwpS011zzqiZi9A0BF4AaABAg</td>\n",
       "      <td>2019-04-14 01:32:26</td>\n",
       "      <td>0</td>\n",
       "      <td>0</td>\n",
       "      <td>legitimate</td>\n",
       "      <td>36</td>\n",
       "      <td>...</td>\n",
       "      <td>hatta apakah perjuangan kita sia sia</td>\n",
       "      <td>hatta perjuangan sia sia</td>\n",
       "      <td>hatta perjuangan sia sia</td>\n",
       "      <td>0</td>\n",
       "      <td>0.000000</td>\n",
       "      <td>5</td>\n",
       "      <td>0.178571</td>\n",
       "      <td>0</td>\n",
       "      <td>0</td>\n",
       "      <td>1</td>\n",
       "    </tr>\n",
       "    <tr>\n",
       "      <th>1</th>\n",
       "      <td>AP0NACavjfk</td>\n",
       "      <td>SkinnyIndonesian24 | Prabowo VS Jokowi - Epic ...</td>\n",
       "      <td>Hideaki Official</td>\n",
       "      <td>Gua udh subscribe subscribe balik</td>\n",
       "      <td>Ugy219edTzKN3ieYLgZ4AaABAg</td>\n",
       "      <td>2019-04-28 00:46:56</td>\n",
       "      <td>0</td>\n",
       "      <td>0</td>\n",
       "      <td>spam</td>\n",
       "      <td>33</td>\n",
       "      <td>...</td>\n",
       "      <td>saya subscribe subscribe kembali</td>\n",
       "      <td>saya subscribe subscribe kembali</td>\n",
       "      <td>saya subscribe subscribe kembali</td>\n",
       "      <td>0</td>\n",
       "      <td>0.000000</td>\n",
       "      <td>4</td>\n",
       "      <td>0.200000</td>\n",
       "      <td>0</td>\n",
       "      <td>0</td>\n",
       "      <td>1</td>\n",
       "    </tr>\n",
       "    <tr>\n",
       "      <th>2</th>\n",
       "      <td>AP0NACavjfk</td>\n",
       "      <td>SkinnyIndonesian24 | Prabowo VS Jokowi - Epic ...</td>\n",
       "      <td>Angga</td>\n",
       "      <td>@Dewi Larasati edit : https://youtu.be/NWT9x1l...</td>\n",
       "      <td>Ugx1Zf0lTk9Shoi4OOx4AaABAg.8tbq-alpG788tbzqmaf5tl</td>\n",
       "      <td>2019-04-12 08:07:02</td>\n",
       "      <td>0</td>\n",
       "      <td>0</td>\n",
       "      <td>spam</td>\n",
       "      <td>50</td>\n",
       "      <td>...</td>\n",
       "      <td>dewi larasati edit</td>\n",
       "      <td>dewi larasati edit https youtu.be/nwt9x1lqo8u</td>\n",
       "      <td>dewi larasati edit</td>\n",
       "      <td>1</td>\n",
       "      <td>0.560000</td>\n",
       "      <td>4</td>\n",
       "      <td>0.108696</td>\n",
       "      <td>0</td>\n",
       "      <td>0</td>\n",
       "      <td>7</td>\n",
       "    </tr>\n",
       "    <tr>\n",
       "      <th>3</th>\n",
       "      <td>AP0NACavjfk</td>\n",
       "      <td>SkinnyIndonesian24 | Prabowo VS Jokowi - Epic ...</td>\n",
       "      <td>Yuris Muda Indonesia</td>\n",
       "      <td>Reaksi Keluarga atas viralnya Video Adhisty Za...</td>\n",
       "      <td>UgzVxlllFfL7E9Qw2zR4AaABAg</td>\n",
       "      <td>2020-08-22 03:06:34</td>\n",
       "      <td>0</td>\n",
       "      <td>1</td>\n",
       "      <td>spam</td>\n",
       "      <td>79</td>\n",
       "      <td>...</td>\n",
       "      <td>reaksi keluarga viralnya video adhisty zara</td>\n",
       "      <td>reaksi keluarga viralnya video adhisty zara ht...</td>\n",
       "      <td>reaksi keluarga viralnya video adhisty zara</td>\n",
       "      <td>1</td>\n",
       "      <td>0.354430</td>\n",
       "      <td>7</td>\n",
       "      <td>0.112676</td>\n",
       "      <td>0</td>\n",
       "      <td>0</td>\n",
       "      <td>12</td>\n",
       "    </tr>\n",
       "    <tr>\n",
       "      <th>4</th>\n",
       "      <td>AP0NACavjfk</td>\n",
       "      <td>SkinnyIndonesian24 | Prabowo VS Jokowi - Epic ...</td>\n",
       "      <td>Harun</td>\n",
       "      <td>https://youtu.be/pb3s_nRph0A</td>\n",
       "      <td>UgyhtL5zop9dDKYK_ap4AaABAg</td>\n",
       "      <td>2019-04-10 04:36:45</td>\n",
       "      <td>0</td>\n",
       "      <td>0</td>\n",
       "      <td>spam</td>\n",
       "      <td>28</td>\n",
       "      <td>...</td>\n",
       "      <td></td>\n",
       "      <td>https youtu.be/pb3s_nrph0a</td>\n",
       "      <td></td>\n",
       "      <td>1</td>\n",
       "      <td>1.000000</td>\n",
       "      <td>0</td>\n",
       "      <td>0.035714</td>\n",
       "      <td>0</td>\n",
       "      <td>0</td>\n",
       "      <td>2</td>\n",
       "    </tr>\n",
       "    <tr>\n",
       "      <th>5</th>\n",
       "      <td>AP0NACavjfk</td>\n",
       "      <td>SkinnyIndonesian24 | Prabowo VS Jokowi - Epic ...</td>\n",
       "      <td>Herry Daniel Marpaung TV</td>\n",
       "      <td>Subscribe Chanel saya ya. Baru buat hehehe. Te...</td>\n",
       "      <td>UgzoyEQ5jV2_hJV7aTN4AaABAg</td>\n",
       "      <td>2019-04-11 05:51:30</td>\n",
       "      <td>0</td>\n",
       "      <td>0</td>\n",
       "      <td>spam</td>\n",
       "      <td>56</td>\n",
       "      <td>...</td>\n",
       "      <td>subscribe channel saya ya baru tertawa terima ...</td>\n",
       "      <td>subscribe channel baru tertawa terima kasih</td>\n",
       "      <td>subscribe channel ya baru tertawa terima kasih</td>\n",
       "      <td>0</td>\n",
       "      <td>0.000000</td>\n",
       "      <td>8</td>\n",
       "      <td>0.187500</td>\n",
       "      <td>0</td>\n",
       "      <td>0</td>\n",
       "      <td>4</td>\n",
       "    </tr>\n",
       "    <tr>\n",
       "      <th>6</th>\n",
       "      <td>AP0NACavjfk</td>\n",
       "      <td>SkinnyIndonesian24 | Prabowo VS Jokowi - Epic ...</td>\n",
       "      <td>DimDimm</td>\n",
       "      <td>Asli di buka bukain kartu Jokowi 😂</td>\n",
       "      <td>UgwMxqtpZ5O3n3T-9WJ4AaABAg</td>\n",
       "      <td>2019-04-10 09:57:38</td>\n",
       "      <td>0</td>\n",
       "      <td>0</td>\n",
       "      <td>legitimate</td>\n",
       "      <td>34</td>\n",
       "      <td>...</td>\n",
       "      <td>asli buka bukain kartu jokowi 😂</td>\n",
       "      <td>asli buka bukain kartu jokowi</td>\n",
       "      <td>asli buka bukain kartu jokowi</td>\n",
       "      <td>0</td>\n",
       "      <td>0.000000</td>\n",
       "      <td>6</td>\n",
       "      <td>0.250000</td>\n",
       "      <td>1</td>\n",
       "      <td>1</td>\n",
       "      <td>2</td>\n",
       "    </tr>\n",
       "    <tr>\n",
       "      <th>7</th>\n",
       "      <td>AP0NACavjfk</td>\n",
       "      <td>SkinnyIndonesian24 | Prabowo VS Jokowi - Epic ...</td>\n",
       "      <td>Lia Tema</td>\n",
       "      <td>Tuhan Roh Kudus , Tuhan Ruhul Qudus akan melaw...</td>\n",
       "      <td>UgwlTTawAuZrboIAWGp4AaABAg</td>\n",
       "      <td>2019-04-10 00:17:15</td>\n",
       "      <td>1</td>\n",
       "      <td>2</td>\n",
       "      <td>spam</td>\n",
       "      <td>526</td>\n",
       "      <td>...</td>\n",
       "      <td>tuhan roh kudus tuhan ruhul qudus melawat penu...</td>\n",
       "      <td>tuhan roh kudus tuhan ruhul qudus melawat penu...</td>\n",
       "      <td>tuhan roh kudus tuhan ruhul qudus melawat penu...</td>\n",
       "      <td>1</td>\n",
       "      <td>0.060837</td>\n",
       "      <td>74</td>\n",
       "      <td>0.157068</td>\n",
       "      <td>2</td>\n",
       "      <td>4</td>\n",
       "      <td>21</td>\n",
       "    </tr>\n",
       "    <tr>\n",
       "      <th>8</th>\n",
       "      <td>0iLgiRBQzzs</td>\n",
       "      <td>Panas! Jokowi VS Prabowo Saling Serang soal Ko...</td>\n",
       "      <td>Apri Kurniawan</td>\n",
       "      <td>Bapak Prabowo BLUNDER Bismillah Pak Jokowi RI1</td>\n",
       "      <td>UgwPaVWA-92mpdaX8Il4AaABAg</td>\n",
       "      <td>2019-01-17 17:56:38</td>\n",
       "      <td>0</td>\n",
       "      <td>0</td>\n",
       "      <td>legitimate</td>\n",
       "      <td>46</td>\n",
       "      <td>...</td>\n",
       "      <td>bapak prabowo blunder bismillah bapak jokowi ri1</td>\n",
       "      <td>bapak prabowo blunder bismillah bapak jokowi ri1</td>\n",
       "      <td>bapak prabowo blunder bismillah bapak jokowi ri</td>\n",
       "      <td>0</td>\n",
       "      <td>0.000000</td>\n",
       "      <td>6</td>\n",
       "      <td>0.175000</td>\n",
       "      <td>0</td>\n",
       "      <td>0</td>\n",
       "      <td>14</td>\n",
       "    </tr>\n",
       "    <tr>\n",
       "      <th>9</th>\n",
       "      <td>AP0NACavjfk</td>\n",
       "      <td>SkinnyIndonesian24 | Prabowo VS Jokowi - Epic ...</td>\n",
       "      <td>Pelukis Dendam</td>\n",
       "      <td>Mantappppp bisa gusur kpopers..</td>\n",
       "      <td>UgyFgwvnOybH98DrxGV4AaABAg</td>\n",
       "      <td>2019-04-09 13:36:40</td>\n",
       "      <td>0</td>\n",
       "      <td>0</td>\n",
       "      <td>legitimate</td>\n",
       "      <td>31</td>\n",
       "      <td>...</td>\n",
       "      <td>mantap bisa gusur kpopers</td>\n",
       "      <td>mantap gusur kpopers</td>\n",
       "      <td>mantap gusur kpopers</td>\n",
       "      <td>0</td>\n",
       "      <td>0.000000</td>\n",
       "      <td>3</td>\n",
       "      <td>0.142857</td>\n",
       "      <td>0</td>\n",
       "      <td>0</td>\n",
       "      <td>1</td>\n",
       "    </tr>\n",
       "  </tbody>\n",
       "</table>\n",
       "<p>10 rows × 21 columns</p>\n",
       "</div>"
      ],
      "text/plain": [
       "      Video_Id                                             Tittle  \\\n",
       "0  AP0NACavjfk  SkinnyIndonesian24 | Prabowo VS Jokowi - Epic ...   \n",
       "1  AP0NACavjfk  SkinnyIndonesian24 | Prabowo VS Jokowi - Epic ...   \n",
       "2  AP0NACavjfk  SkinnyIndonesian24 | Prabowo VS Jokowi - Epic ...   \n",
       "3  AP0NACavjfk  SkinnyIndonesian24 | Prabowo VS Jokowi - Epic ...   \n",
       "4  AP0NACavjfk  SkinnyIndonesian24 | Prabowo VS Jokowi - Epic ...   \n",
       "5  AP0NACavjfk  SkinnyIndonesian24 | Prabowo VS Jokowi - Epic ...   \n",
       "6  AP0NACavjfk  SkinnyIndonesian24 | Prabowo VS Jokowi - Epic ...   \n",
       "7  AP0NACavjfk  SkinnyIndonesian24 | Prabowo VS Jokowi - Epic ...   \n",
       "8  0iLgiRBQzzs  Panas! Jokowi VS Prabowo Saling Serang soal Ko...   \n",
       "9  AP0NACavjfk  SkinnyIndonesian24 | Prabowo VS Jokowi - Epic ...   \n",
       "\n",
       "                       Name  \\\n",
       "0                  rezahami   \n",
       "1          Hideaki Official   \n",
       "2                     Angga   \n",
       "3      Yuris Muda Indonesia   \n",
       "4                     Harun   \n",
       "5  Herry Daniel Marpaung TV   \n",
       "6                   DimDimm   \n",
       "7                  Lia Tema   \n",
       "8            Apri Kurniawan   \n",
       "9            Pelukis Dendam   \n",
       "\n",
       "                                             Comment  \\\n",
       "0               Hatta apakah perjuangan kita sia sia   \n",
       "1                  Gua udh subscribe subscribe balik   \n",
       "2  @Dewi Larasati edit : https://youtu.be/NWT9x1l...   \n",
       "3  Reaksi Keluarga atas viralnya Video Adhisty Za...   \n",
       "4                       https://youtu.be/pb3s_nRph0A   \n",
       "5  Subscribe Chanel saya ya. Baru buat hehehe. Te...   \n",
       "6                 Asli di buka bukain kartu Jokowi 😂   \n",
       "7  Tuhan Roh Kudus , Tuhan Ruhul Qudus akan melaw...   \n",
       "8     Bapak Prabowo BLUNDER Bismillah Pak Jokowi RI1   \n",
       "9                    Mantappppp bisa gusur kpopers..   \n",
       "\n",
       "                                          Comment_Id                 Time  \\\n",
       "0                         UgwpS011zzqiZi9A0BF4AaABAg  2019-04-14 01:32:26   \n",
       "1                         Ugy219edTzKN3ieYLgZ4AaABAg  2019-04-28 00:46:56   \n",
       "2  Ugx1Zf0lTk9Shoi4OOx4AaABAg.8tbq-alpG788tbzqmaf5tl  2019-04-12 08:07:02   \n",
       "3                         UgzVxlllFfL7E9Qw2zR4AaABAg  2020-08-22 03:06:34   \n",
       "4                         UgyhtL5zop9dDKYK_ap4AaABAg  2019-04-10 04:36:45   \n",
       "5                         UgzoyEQ5jV2_hJV7aTN4AaABAg  2019-04-11 05:51:30   \n",
       "6                         UgwMxqtpZ5O3n3T-9WJ4AaABAg  2019-04-10 09:57:38   \n",
       "7                         UgwlTTawAuZrboIAWGp4AaABAg  2019-04-10 00:17:15   \n",
       "8                         UgwPaVWA-92mpdaX8Il4AaABAg  2019-01-17 17:56:38   \n",
       "9                         UgyFgwvnOybH98DrxGV4AaABAg  2019-04-09 13:36:40   \n",
       "\n",
       "   Likes  Reply_Count       Label  Length_Comment  ...  \\\n",
       "0      0            0  legitimate              36  ...   \n",
       "1      0            0        spam              33  ...   \n",
       "2      0            0        spam              50  ...   \n",
       "3      0            1        spam              79  ...   \n",
       "4      0            0        spam              28  ...   \n",
       "5      0            0        spam              56  ...   \n",
       "6      0            0  legitimate              34  ...   \n",
       "7      1            2        spam             526  ...   \n",
       "8      0            0  legitimate              46  ...   \n",
       "9      0            0  legitimate              31  ...   \n",
       "\n",
       "                                   cleaned_comment_1  \\\n",
       "0               hatta apakah perjuangan kita sia sia   \n",
       "1                   saya subscribe subscribe kembali   \n",
       "2                                 dewi larasati edit   \n",
       "3        reaksi keluarga viralnya video adhisty zara   \n",
       "4                                                      \n",
       "5  subscribe channel saya ya baru tertawa terima ...   \n",
       "6                    asli buka bukain kartu jokowi 😂   \n",
       "7  tuhan roh kudus tuhan ruhul qudus melawat penu...   \n",
       "8   bapak prabowo blunder bismillah bapak jokowi ri1   \n",
       "9                          mantap bisa gusur kpopers   \n",
       "\n",
       "                                   cleaned_comment_2  \\\n",
       "0                           hatta perjuangan sia sia   \n",
       "1                   saya subscribe subscribe kembali   \n",
       "2      dewi larasati edit https youtu.be/nwt9x1lqo8u   \n",
       "3  reaksi keluarga viralnya video adhisty zara ht...   \n",
       "4                         https youtu.be/pb3s_nrph0a   \n",
       "5        subscribe channel baru tertawa terima kasih   \n",
       "6                      asli buka bukain kartu jokowi   \n",
       "7  tuhan roh kudus tuhan ruhul qudus melawat penu...   \n",
       "8   bapak prabowo blunder bismillah bapak jokowi ri1   \n",
       "9                               mantap gusur kpopers   \n",
       "\n",
       "                                   cleaned_comment_3 Count_Url  Url_Ratio  \\\n",
       "0                           hatta perjuangan sia sia         0   0.000000   \n",
       "1                   saya subscribe subscribe kembali         0   0.000000   \n",
       "2                                 dewi larasati edit         1   0.560000   \n",
       "3        reaksi keluarga viralnya video adhisty zara         1   0.354430   \n",
       "4                                                            1   1.000000   \n",
       "5     subscribe channel ya baru tertawa terima kasih         0   0.000000   \n",
       "6                      asli buka bukain kartu jokowi         0   0.000000   \n",
       "7  tuhan roh kudus tuhan ruhul qudus melawat penu...         1   0.060837   \n",
       "8    bapak prabowo blunder bismillah bapak jokowi ri         0   0.000000   \n",
       "9                               mantap gusur kpopers         0   0.000000   \n",
       "\n",
       "   Number_White_Space  World_Duplicate_Ratio  Count_Emoji  Count_non_ascii  \\\n",
       "0                   5               0.178571            0                0   \n",
       "1                   4               0.200000            0                0   \n",
       "2                   4               0.108696            0                0   \n",
       "3                   7               0.112676            0                0   \n",
       "4                   0               0.035714            0                0   \n",
       "5                   8               0.187500            0                0   \n",
       "6                   6               0.250000            1                1   \n",
       "7                  74               0.157068            2                4   \n",
       "8                   6               0.175000            0                0   \n",
       "9                   3               0.142857            0                0   \n",
       "\n",
       "   Count_upper_letters  \n",
       "0                    1  \n",
       "1                    1  \n",
       "2                    7  \n",
       "3                   12  \n",
       "4                    2  \n",
       "5                    4  \n",
       "6                    2  \n",
       "7                   21  \n",
       "8                   14  \n",
       "9                    1  \n",
       "\n",
       "[10 rows x 21 columns]"
      ]
     },
     "execution_count": 44,
     "metadata": {},
     "output_type": "execute_result"
    }
   ],
   "source": [
    "toyData"
   ]
  },
  {
   "cell_type": "code",
   "execution_count": 45,
   "metadata": {},
   "outputs": [],
   "source": [
    "toyData.to_csv(\"../Data/Comments/toyData_Cleaning.csv\", index=False)"
   ]
  },
  {
   "cell_type": "markdown",
   "metadata": {},
   "source": [
    "### All_Data for the cleaning data"
   ]
  },
  {
   "cell_type": "code",
   "execution_count": 46,
   "metadata": {},
   "outputs": [],
   "source": [
    "try_data_cleaning['cleaned_title'] =try_data_cleaning['Tittle'].apply(lambda x: clean_punct(x))"
   ]
  },
  {
   "cell_type": "markdown",
   "metadata": {},
   "source": [
    "**cleaned_comment_1**\n",
    "\n",
    "Pada proses cleaning comment pertama ini **tidak melakukan** beberapa hal:\n",
    "- remove emoji\n",
    "- remove simbol\n",
    "- stopwords menggunakan modul sastrawi"
   ]
  },
  {
   "cell_type": "code",
   "execution_count": 47,
   "metadata": {},
   "outputs": [],
   "source": [
    "try_data_cleaning['cleaned_comment_1'] = try_data_cleaning['Comment'].apply(lambda x: lower(x))\n",
    "#try_data_cleaning['cleaned_comment_1'] = try_data_cleaning['cleaned_comment_1'].apply(lambda x: remove_emoji(x))\n",
    "try_data_cleaning[\"cleaned_comment_1\"] = try_data_cleaning[\"cleaned_comment_1\"].apply(lambda x: detecturl(x))\n",
    "#try_data_cleaning['cleaned_comment_1'] = try_data_cleaning['cleaned_comment_1'].apply(lambda x: getTags(x))\n",
    "try_data_cleaning['cleaned_comment_1'] = try_data_cleaning['cleaned_comment_1'].apply(lambda x: clean_punct(x))\n",
    "try_data_cleaning['cleaned_comment_1'] = try_data_cleaning['cleaned_comment_1'].apply(lambda x: white_spaces(x))\n",
    "#try_data_cleaning['cleaned_comment_1'] = try_data_cleaning['cleaned_comment_1'].apply(lambda x: clean_stopwords(x))\n",
    "try_data_cleaning['cleaned_comment_1'] = try_data_cleaning['cleaned_comment_1'].apply(lambda x: en_stopwords(x))\n",
    "try_data_cleaning['cleaned_comment_1'] = try_data_cleaning['cleaned_comment_1'].apply(lambda x: id_stopwords(x))\n",
    "try_data_cleaning['cleaned_comment_1'] = try_data_cleaning['cleaned_comment_1'].apply(lambda x: slang(x))"
   ]
  },
  {
   "cell_type": "code",
   "execution_count": 48,
   "metadata": {},
   "outputs": [
    {
     "data": {
      "text/html": [
       "<div>\n",
       "<style scoped>\n",
       "    .dataframe tbody tr th:only-of-type {\n",
       "        vertical-align: middle;\n",
       "    }\n",
       "\n",
       "    .dataframe tbody tr th {\n",
       "        vertical-align: top;\n",
       "    }\n",
       "\n",
       "    .dataframe thead th {\n",
       "        text-align: right;\n",
       "    }\n",
       "</style>\n",
       "<table border=\"1\" class=\"dataframe\">\n",
       "  <thead>\n",
       "    <tr style=\"text-align: right;\">\n",
       "      <th></th>\n",
       "      <th>Video_Id</th>\n",
       "      <th>Tittle</th>\n",
       "      <th>Name</th>\n",
       "      <th>Comment</th>\n",
       "      <th>Comment_Id</th>\n",
       "      <th>Time</th>\n",
       "      <th>Likes</th>\n",
       "      <th>Reply_Count</th>\n",
       "      <th>Label</th>\n",
       "      <th>Length_Comment</th>\n",
       "      <th>cleaned_title</th>\n",
       "      <th>cleaned_comment_1</th>\n",
       "    </tr>\n",
       "  </thead>\n",
       "  <tbody>\n",
       "    <tr>\n",
       "      <th>0</th>\n",
       "      <td>0iLgiRBQzzs</td>\n",
       "      <td>Panas! Jokowi VS Prabowo Saling Serang soal Ko...</td>\n",
       "      <td>Doharman Patimura Waruwu</td>\n",
       "      <td>https://youtu.be/LBKGyxnpMCU</td>\n",
       "      <td>Ugz-zdD0s87dSDzITuh4AaABAg</td>\n",
       "      <td>2019-01-17 23:06:24</td>\n",
       "      <td>0</td>\n",
       "      <td>0</td>\n",
       "      <td>spam</td>\n",
       "      <td>28</td>\n",
       "      <td>Panas  Jokowi VS Prabowo Saling Serang soal Ko...</td>\n",
       "      <td></td>\n",
       "    </tr>\n",
       "    <tr>\n",
       "      <th>1</th>\n",
       "      <td>AP0NACavjfk</td>\n",
       "      <td>SkinnyIndonesian24 | Prabowo VS Jokowi - Epic ...</td>\n",
       "      <td>Akiru Syakir</td>\n",
       "      <td>Bantu subscribe youtube gw dong</td>\n",
       "      <td>UgwQM2OHIzkVDtu0PIN4AaABAg</td>\n",
       "      <td>2019-04-10 22:40:00</td>\n",
       "      <td>0</td>\n",
       "      <td>0</td>\n",
       "      <td>spam</td>\n",
       "      <td>31</td>\n",
       "      <td>SkinnyIndonesian24   Prabowo VS Jokowi - Epic ...</td>\n",
       "      <td>bantu subscribe youtube saya</td>\n",
       "    </tr>\n",
       "    <tr>\n",
       "      <th>2</th>\n",
       "      <td>AP0NACavjfk</td>\n",
       "      <td>SkinnyIndonesian24 | Prabowo VS Jokowi - Epic ...</td>\n",
       "      <td>Teguh Wage Prakoso</td>\n",
       "      <td>hachimon tonkou, kalau buka gerbang ke 8 auto ...</td>\n",
       "      <td>Ugyh7dOOI2953Exf3cp4AaABAg.8tUY_eVh77e8tUhBosQJLg</td>\n",
       "      <td>2019-04-09 02:50:06</td>\n",
       "      <td>0</td>\n",
       "      <td>0</td>\n",
       "      <td>spam</td>\n",
       "      <td>57</td>\n",
       "      <td>SkinnyIndonesian24   Prabowo VS Jokowi - Epic ...</td>\n",
       "      <td>hachimon tonkou kalau buka gerbang 8 langsung ...</td>\n",
       "    </tr>\n",
       "    <tr>\n",
       "      <th>3</th>\n",
       "      <td>AP0NACavjfk</td>\n",
       "      <td>SkinnyIndonesian24 | Prabowo VS Jokowi - Epic ...</td>\n",
       "      <td>hidayah</td>\n",
       "      <td>https://www.youtube.com/channel/UC_iQ1hcNxz1ir...</td>\n",
       "      <td>UgxA-h0VMWXoShPkFEZ4AaABAg</td>\n",
       "      <td>2019-04-10 12:25:49</td>\n",
       "      <td>0</td>\n",
       "      <td>0</td>\n",
       "      <td>spam</td>\n",
       "      <td>56</td>\n",
       "      <td>SkinnyIndonesian24   Prabowo VS Jokowi - Epic ...</td>\n",
       "      <td></td>\n",
       "    </tr>\n",
       "    <tr>\n",
       "      <th>4</th>\n",
       "      <td>AP0NACavjfk</td>\n",
       "      <td>SkinnyIndonesian24 | Prabowo VS Jokowi - Epic ...</td>\n",
       "      <td>Derisma Ae</td>\n",
       "      <td>https://youtu.be/aS1FIPcCuh4 CH: Derisma ae, m...</td>\n",
       "      <td>UgybtnYbYjDF7YZJAdN4AaABAg</td>\n",
       "      <td>2019-04-15 16:00:05</td>\n",
       "      <td>0</td>\n",
       "      <td>0</td>\n",
       "      <td>spam</td>\n",
       "      <td>88</td>\n",
       "      <td>SkinnyIndonesian24   Prabowo VS Jokowi - Epic ...</td>\n",
       "      <td>ch derisma ae minta subscribe tunggu ea terima...</td>\n",
       "    </tr>\n",
       "  </tbody>\n",
       "</table>\n",
       "</div>"
      ],
      "text/plain": [
       "      Video_Id                                             Tittle  \\\n",
       "0  0iLgiRBQzzs  Panas! Jokowi VS Prabowo Saling Serang soal Ko...   \n",
       "1  AP0NACavjfk  SkinnyIndonesian24 | Prabowo VS Jokowi - Epic ...   \n",
       "2  AP0NACavjfk  SkinnyIndonesian24 | Prabowo VS Jokowi - Epic ...   \n",
       "3  AP0NACavjfk  SkinnyIndonesian24 | Prabowo VS Jokowi - Epic ...   \n",
       "4  AP0NACavjfk  SkinnyIndonesian24 | Prabowo VS Jokowi - Epic ...   \n",
       "\n",
       "                       Name  \\\n",
       "0  Doharman Patimura Waruwu   \n",
       "1              Akiru Syakir   \n",
       "2        Teguh Wage Prakoso   \n",
       "3                   hidayah   \n",
       "4                Derisma Ae   \n",
       "\n",
       "                                             Comment  \\\n",
       "0                       https://youtu.be/LBKGyxnpMCU   \n",
       "1                    Bantu subscribe youtube gw dong   \n",
       "2  hachimon tonkou, kalau buka gerbang ke 8 auto ...   \n",
       "3  https://www.youtube.com/channel/UC_iQ1hcNxz1ir...   \n",
       "4  https://youtu.be/aS1FIPcCuh4 CH: Derisma ae, m...   \n",
       "\n",
       "                                          Comment_Id                Time  \\\n",
       "0                         Ugz-zdD0s87dSDzITuh4AaABAg 2019-01-17 23:06:24   \n",
       "1                         UgwQM2OHIzkVDtu0PIN4AaABAg 2019-04-10 22:40:00   \n",
       "2  Ugyh7dOOI2953Exf3cp4AaABAg.8tUY_eVh77e8tUhBosQJLg 2019-04-09 02:50:06   \n",
       "3                         UgxA-h0VMWXoShPkFEZ4AaABAg 2019-04-10 12:25:49   \n",
       "4                         UgybtnYbYjDF7YZJAdN4AaABAg 2019-04-15 16:00:05   \n",
       "\n",
       "   Likes  Reply_Count Label  Length_Comment  \\\n",
       "0      0            0  spam              28   \n",
       "1      0            0  spam              31   \n",
       "2      0            0  spam              57   \n",
       "3      0            0  spam              56   \n",
       "4      0            0  spam              88   \n",
       "\n",
       "                                       cleaned_title  \\\n",
       "0  Panas  Jokowi VS Prabowo Saling Serang soal Ko...   \n",
       "1  SkinnyIndonesian24   Prabowo VS Jokowi - Epic ...   \n",
       "2  SkinnyIndonesian24   Prabowo VS Jokowi - Epic ...   \n",
       "3  SkinnyIndonesian24   Prabowo VS Jokowi - Epic ...   \n",
       "4  SkinnyIndonesian24   Prabowo VS Jokowi - Epic ...   \n",
       "\n",
       "                                   cleaned_comment_1  \n",
       "0                                                     \n",
       "1                       bantu subscribe youtube saya  \n",
       "2  hachimon tonkou kalau buka gerbang 8 langsung ...  \n",
       "3                                                     \n",
       "4  ch derisma ae minta subscribe tunggu ea terima...  "
      ]
     },
     "execution_count": 48,
     "metadata": {},
     "output_type": "execute_result"
    }
   ],
   "source": [
    "try_data_cleaning.head(5)"
   ]
  },
  {
   "cell_type": "markdown",
   "metadata": {},
   "source": [
    "**cleaned_comment_2**\n",
    "\n",
    "Pada proses cleaning comment kedua ini **tidak melakukan** beberapa hal:\n",
    "- remove emoji\n",
    "- remove url"
   ]
  },
  {
   "cell_type": "code",
   "execution_count": 49,
   "metadata": {},
   "outputs": [],
   "source": [
    "try_data_cleaning['cleaned_comment_2'] = try_data_cleaning['Comment'].apply(lambda x: lower(x))\n",
    "#try_data_cleaning['cleaned_comment_2'] = try_data_cleaning['cleaned_comment_2'].apply(lambda x: remove_emoji(x))\n",
    "#try_data_cleaning[\"cleaned_comment_2\"] = try_data_cleaning[\"cleaned_comment_2\"].apply(lambda x: detecturl(x))\n",
    "try_data_cleaning['cleaned_comment_2'] = try_data_cleaning['cleaned_comment_2'].apply(lambda x: remove_punc_except_urls(x))\n",
    "#try_data_cleaning['cleaned_comment_2'] = try_data_cleaning['cleaned_comment_2'].apply(lambda x: clean_punct(x))\n",
    "#try_data_cleaning['cleaned_comment_2'] = try_data_cleaning['cleaned_comment_2'].apply(lambda x: hastag(x))\n",
    "try_data_cleaning['cleaned_comment_2'] = try_data_cleaning['cleaned_comment_2'].apply(lambda x: white_spaces(x))\n",
    "try_data_cleaning['cleaned_comment_2'] = try_data_cleaning['cleaned_comment_2'].apply(lambda x: clean_stopwords(x))\n",
    "try_data_cleaning['cleaned_comment_2'] = try_data_cleaning['cleaned_comment_2'].apply(lambda x: en_stopwords(x))\n",
    "try_data_cleaning['cleaned_comment_2'] = try_data_cleaning['cleaned_comment_2'].apply(lambda x: id_stopwords(x))\n",
    "try_data_cleaning['cleaned_comment_2'] = try_data_cleaning['cleaned_comment_2'].apply(lambda x: slang(x))"
   ]
  },
  {
   "cell_type": "code",
   "execution_count": 50,
   "metadata": {},
   "outputs": [
    {
     "data": {
      "text/html": [
       "<div>\n",
       "<style scoped>\n",
       "    .dataframe tbody tr th:only-of-type {\n",
       "        vertical-align: middle;\n",
       "    }\n",
       "\n",
       "    .dataframe tbody tr th {\n",
       "        vertical-align: top;\n",
       "    }\n",
       "\n",
       "    .dataframe thead th {\n",
       "        text-align: right;\n",
       "    }\n",
       "</style>\n",
       "<table border=\"1\" class=\"dataframe\">\n",
       "  <thead>\n",
       "    <tr style=\"text-align: right;\">\n",
       "      <th></th>\n",
       "      <th>Video_Id</th>\n",
       "      <th>Tittle</th>\n",
       "      <th>Name</th>\n",
       "      <th>Comment</th>\n",
       "      <th>Comment_Id</th>\n",
       "      <th>Time</th>\n",
       "      <th>Likes</th>\n",
       "      <th>Reply_Count</th>\n",
       "      <th>Label</th>\n",
       "      <th>Length_Comment</th>\n",
       "      <th>cleaned_title</th>\n",
       "      <th>cleaned_comment_1</th>\n",
       "      <th>cleaned_comment_2</th>\n",
       "    </tr>\n",
       "  </thead>\n",
       "  <tbody>\n",
       "    <tr>\n",
       "      <th>0</th>\n",
       "      <td>0iLgiRBQzzs</td>\n",
       "      <td>Panas! Jokowi VS Prabowo Saling Serang soal Ko...</td>\n",
       "      <td>Doharman Patimura Waruwu</td>\n",
       "      <td>https://youtu.be/LBKGyxnpMCU</td>\n",
       "      <td>Ugz-zdD0s87dSDzITuh4AaABAg</td>\n",
       "      <td>2019-01-17 23:06:24</td>\n",
       "      <td>0</td>\n",
       "      <td>0</td>\n",
       "      <td>spam</td>\n",
       "      <td>28</td>\n",
       "      <td>Panas  Jokowi VS Prabowo Saling Serang soal Ko...</td>\n",
       "      <td></td>\n",
       "      <td>https youtu.be/lbkgyxnpmcu</td>\n",
       "    </tr>\n",
       "    <tr>\n",
       "      <th>1</th>\n",
       "      <td>AP0NACavjfk</td>\n",
       "      <td>SkinnyIndonesian24 | Prabowo VS Jokowi - Epic ...</td>\n",
       "      <td>Akiru Syakir</td>\n",
       "      <td>Bantu subscribe youtube gw dong</td>\n",
       "      <td>UgwQM2OHIzkVDtu0PIN4AaABAg</td>\n",
       "      <td>2019-04-10 22:40:00</td>\n",
       "      <td>0</td>\n",
       "      <td>0</td>\n",
       "      <td>spam</td>\n",
       "      <td>31</td>\n",
       "      <td>SkinnyIndonesian24   Prabowo VS Jokowi - Epic ...</td>\n",
       "      <td>bantu subscribe youtube saya</td>\n",
       "      <td>bantu subscribe youtube saya</td>\n",
       "    </tr>\n",
       "    <tr>\n",
       "      <th>2</th>\n",
       "      <td>AP0NACavjfk</td>\n",
       "      <td>SkinnyIndonesian24 | Prabowo VS Jokowi - Epic ...</td>\n",
       "      <td>Teguh Wage Prakoso</td>\n",
       "      <td>hachimon tonkou, kalau buka gerbang ke 8 auto ...</td>\n",
       "      <td>Ugyh7dOOI2953Exf3cp4AaABAg.8tUY_eVh77e8tUhBosQJLg</td>\n",
       "      <td>2019-04-09 02:50:06</td>\n",
       "      <td>0</td>\n",
       "      <td>0</td>\n",
       "      <td>spam</td>\n",
       "      <td>57</td>\n",
       "      <td>SkinnyIndonesian24   Prabowo VS Jokowi - Epic ...</td>\n",
       "      <td>hachimon tonkou kalau buka gerbang 8 langsung ...</td>\n",
       "      <td>hachimon tonkou kalau buka gerbang 8 langsung ...</td>\n",
       "    </tr>\n",
       "    <tr>\n",
       "      <th>3</th>\n",
       "      <td>AP0NACavjfk</td>\n",
       "      <td>SkinnyIndonesian24 | Prabowo VS Jokowi - Epic ...</td>\n",
       "      <td>hidayah</td>\n",
       "      <td>https://www.youtube.com/channel/UC_iQ1hcNxz1ir...</td>\n",
       "      <td>UgxA-h0VMWXoShPkFEZ4AaABAg</td>\n",
       "      <td>2019-04-10 12:25:49</td>\n",
       "      <td>0</td>\n",
       "      <td>0</td>\n",
       "      <td>spam</td>\n",
       "      <td>56</td>\n",
       "      <td>SkinnyIndonesian24   Prabowo VS Jokowi - Epic ...</td>\n",
       "      <td></td>\n",
       "      <td>https www.youtube.com/channel/uc_iq1hcnxz1irlk...</td>\n",
       "    </tr>\n",
       "    <tr>\n",
       "      <th>4</th>\n",
       "      <td>AP0NACavjfk</td>\n",
       "      <td>SkinnyIndonesian24 | Prabowo VS Jokowi - Epic ...</td>\n",
       "      <td>Derisma Ae</td>\n",
       "      <td>https://youtu.be/aS1FIPcCuh4 CH: Derisma ae, m...</td>\n",
       "      <td>UgybtnYbYjDF7YZJAdN4AaABAg</td>\n",
       "      <td>2019-04-15 16:00:05</td>\n",
       "      <td>0</td>\n",
       "      <td>0</td>\n",
       "      <td>spam</td>\n",
       "      <td>88</td>\n",
       "      <td>SkinnyIndonesian24   Prabowo VS Jokowi - Epic ...</td>\n",
       "      <td>ch derisma ae minta subscribe tunggu ea terima...</td>\n",
       "      <td>https youtu.be/as1fipccuh4 ch derisma minta su...</td>\n",
       "    </tr>\n",
       "    <tr>\n",
       "      <th>...</th>\n",
       "      <td>...</td>\n",
       "      <td>...</td>\n",
       "      <td>...</td>\n",
       "      <td>...</td>\n",
       "      <td>...</td>\n",
       "      <td>...</td>\n",
       "      <td>...</td>\n",
       "      <td>...</td>\n",
       "      <td>...</td>\n",
       "      <td>...</td>\n",
       "      <td>...</td>\n",
       "      <td>...</td>\n",
       "      <td>...</td>\n",
       "    </tr>\n",
       "    <tr>\n",
       "      <th>2998</th>\n",
       "      <td>AP0NACavjfk</td>\n",
       "      <td>SkinnyIndonesian24 | Prabowo VS Jokowi - Epic ...</td>\n",
       "      <td>agus muliandri</td>\n",
       "      <td>Top</td>\n",
       "      <td>UgxG_8lxSoZduOAiE-54AaABAg.8tXxFBA8lZa8tXzXBaY73i</td>\n",
       "      <td>2019-04-10 09:28:02</td>\n",
       "      <td>0</td>\n",
       "      <td>0</td>\n",
       "      <td>legitimate</td>\n",
       "      <td>3</td>\n",
       "      <td>SkinnyIndonesian24   Prabowo VS Jokowi - Epic ...</td>\n",
       "      <td></td>\n",
       "      <td></td>\n",
       "    </tr>\n",
       "    <tr>\n",
       "      <th>2999</th>\n",
       "      <td>AP0NACavjfk</td>\n",
       "      <td>SkinnyIndonesian24 | Prabowo VS Jokowi - Epic ...</td>\n",
       "      <td>EXE HUMAN</td>\n",
       "      <td>Creator senior memang beda ya 😎</td>\n",
       "      <td>Ugx4Ep3GEADS4c_w5YF4AaABAg</td>\n",
       "      <td>2019-04-09 11:43:58</td>\n",
       "      <td>0</td>\n",
       "      <td>0</td>\n",
       "      <td>legitimate</td>\n",
       "      <td>31</td>\n",
       "      <td>SkinnyIndonesian24   Prabowo VS Jokowi - Epic ...</td>\n",
       "      <td>creator senior memang beda 😎</td>\n",
       "      <td>creator senior memang beda</td>\n",
       "    </tr>\n",
       "    <tr>\n",
       "      <th>3000</th>\n",
       "      <td>AP0NACavjfk</td>\n",
       "      <td>SkinnyIndonesian24 | Prabowo VS Jokowi - Epic ...</td>\n",
       "      <td>Ni Luh Ayu Sibang Sri Padmayanti_056</td>\n",
       "      <td>Keunggulan dan kekurangan nge buat kita semua ...</td>\n",
       "      <td>UgzltfmrOp2dr3DbCPx4AaABAg</td>\n",
       "      <td>2019-04-11 13:48:07</td>\n",
       "      <td>0</td>\n",
       "      <td>0</td>\n",
       "      <td>legitimate</td>\n",
       "      <td>64</td>\n",
       "      <td>SkinnyIndonesian24   Prabowo VS Jokowi - Epic ...</td>\n",
       "      <td>keunggulan kekurangan kita semua jadi bingung ...</td>\n",
       "      <td>keunggulan kekurangan semua jadi bingung milih</td>\n",
       "    </tr>\n",
       "    <tr>\n",
       "      <th>3001</th>\n",
       "      <td>AP0NACavjfk</td>\n",
       "      <td>SkinnyIndonesian24 | Prabowo VS Jokowi - Epic ...</td>\n",
       "      <td>Brigita Deya 183</td>\n",
       "      <td>Keren parahhh</td>\n",
       "      <td>UgyaAGTI4x4ta4TE1cF4AaABAg</td>\n",
       "      <td>2019-04-09 10:20:06</td>\n",
       "      <td>0</td>\n",
       "      <td>0</td>\n",
       "      <td>legitimate</td>\n",
       "      <td>13</td>\n",
       "      <td>SkinnyIndonesian24   Prabowo VS Jokowi - Epic ...</td>\n",
       "      <td>keren parah</td>\n",
       "      <td>keren parah</td>\n",
       "    </tr>\n",
       "    <tr>\n",
       "      <th>3002</th>\n",
       "      <td>AP0NACavjfk</td>\n",
       "      <td>SkinnyIndonesian24 | Prabowo VS Jokowi - Epic ...</td>\n",
       "      <td>Carl</td>\n",
       "      <td>MEREKA HARUS NONTON NIH</td>\n",
       "      <td>Ugz4K70s5tZHaG_LkIl4AaABAg</td>\n",
       "      <td>2019-04-08 12:59:00</td>\n",
       "      <td>0</td>\n",
       "      <td>0</td>\n",
       "      <td>legitimate</td>\n",
       "      <td>23</td>\n",
       "      <td>SkinnyIndonesian24   Prabowo VS Jokowi - Epic ...</td>\n",
       "      <td>mereka harus nonton</td>\n",
       "      <td>nonton</td>\n",
       "    </tr>\n",
       "  </tbody>\n",
       "</table>\n",
       "<p>3001 rows × 13 columns</p>\n",
       "</div>"
      ],
      "text/plain": [
       "         Video_Id                                             Tittle  \\\n",
       "0     0iLgiRBQzzs  Panas! Jokowi VS Prabowo Saling Serang soal Ko...   \n",
       "1     AP0NACavjfk  SkinnyIndonesian24 | Prabowo VS Jokowi - Epic ...   \n",
       "2     AP0NACavjfk  SkinnyIndonesian24 | Prabowo VS Jokowi - Epic ...   \n",
       "3     AP0NACavjfk  SkinnyIndonesian24 | Prabowo VS Jokowi - Epic ...   \n",
       "4     AP0NACavjfk  SkinnyIndonesian24 | Prabowo VS Jokowi - Epic ...   \n",
       "...           ...                                                ...   \n",
       "2998  AP0NACavjfk  SkinnyIndonesian24 | Prabowo VS Jokowi - Epic ...   \n",
       "2999  AP0NACavjfk  SkinnyIndonesian24 | Prabowo VS Jokowi - Epic ...   \n",
       "3000  AP0NACavjfk  SkinnyIndonesian24 | Prabowo VS Jokowi - Epic ...   \n",
       "3001  AP0NACavjfk  SkinnyIndonesian24 | Prabowo VS Jokowi - Epic ...   \n",
       "3002  AP0NACavjfk  SkinnyIndonesian24 | Prabowo VS Jokowi - Epic ...   \n",
       "\n",
       "                                      Name  \\\n",
       "0                 Doharman Patimura Waruwu   \n",
       "1                             Akiru Syakir   \n",
       "2                       Teguh Wage Prakoso   \n",
       "3                                  hidayah   \n",
       "4                               Derisma Ae   \n",
       "...                                    ...   \n",
       "2998                        agus muliandri   \n",
       "2999                             EXE HUMAN   \n",
       "3000  Ni Luh Ayu Sibang Sri Padmayanti_056   \n",
       "3001                      Brigita Deya 183   \n",
       "3002                                  Carl   \n",
       "\n",
       "                                                Comment  \\\n",
       "0                          https://youtu.be/LBKGyxnpMCU   \n",
       "1                       Bantu subscribe youtube gw dong   \n",
       "2     hachimon tonkou, kalau buka gerbang ke 8 auto ...   \n",
       "3     https://www.youtube.com/channel/UC_iQ1hcNxz1ir...   \n",
       "4     https://youtu.be/aS1FIPcCuh4 CH: Derisma ae, m...   \n",
       "...                                                 ...   \n",
       "2998                                                Top   \n",
       "2999                    Creator senior memang beda ya 😎   \n",
       "3000  Keunggulan dan kekurangan nge buat kita semua ...   \n",
       "3001                                      Keren parahhh   \n",
       "3002                            MEREKA HARUS NONTON NIH   \n",
       "\n",
       "                                             Comment_Id                Time  \\\n",
       "0                            Ugz-zdD0s87dSDzITuh4AaABAg 2019-01-17 23:06:24   \n",
       "1                            UgwQM2OHIzkVDtu0PIN4AaABAg 2019-04-10 22:40:00   \n",
       "2     Ugyh7dOOI2953Exf3cp4AaABAg.8tUY_eVh77e8tUhBosQJLg 2019-04-09 02:50:06   \n",
       "3                            UgxA-h0VMWXoShPkFEZ4AaABAg 2019-04-10 12:25:49   \n",
       "4                            UgybtnYbYjDF7YZJAdN4AaABAg 2019-04-15 16:00:05   \n",
       "...                                                 ...                 ...   \n",
       "2998  UgxG_8lxSoZduOAiE-54AaABAg.8tXxFBA8lZa8tXzXBaY73i 2019-04-10 09:28:02   \n",
       "2999                         Ugx4Ep3GEADS4c_w5YF4AaABAg 2019-04-09 11:43:58   \n",
       "3000                         UgzltfmrOp2dr3DbCPx4AaABAg 2019-04-11 13:48:07   \n",
       "3001                         UgyaAGTI4x4ta4TE1cF4AaABAg 2019-04-09 10:20:06   \n",
       "3002                         Ugz4K70s5tZHaG_LkIl4AaABAg 2019-04-08 12:59:00   \n",
       "\n",
       "      Likes  Reply_Count       Label  Length_Comment  \\\n",
       "0         0            0        spam              28   \n",
       "1         0            0        spam              31   \n",
       "2         0            0        spam              57   \n",
       "3         0            0        spam              56   \n",
       "4         0            0        spam              88   \n",
       "...     ...          ...         ...             ...   \n",
       "2998      0            0  legitimate               3   \n",
       "2999      0            0  legitimate              31   \n",
       "3000      0            0  legitimate              64   \n",
       "3001      0            0  legitimate              13   \n",
       "3002      0            0  legitimate              23   \n",
       "\n",
       "                                          cleaned_title  \\\n",
       "0     Panas  Jokowi VS Prabowo Saling Serang soal Ko...   \n",
       "1     SkinnyIndonesian24   Prabowo VS Jokowi - Epic ...   \n",
       "2     SkinnyIndonesian24   Prabowo VS Jokowi - Epic ...   \n",
       "3     SkinnyIndonesian24   Prabowo VS Jokowi - Epic ...   \n",
       "4     SkinnyIndonesian24   Prabowo VS Jokowi - Epic ...   \n",
       "...                                                 ...   \n",
       "2998  SkinnyIndonesian24   Prabowo VS Jokowi - Epic ...   \n",
       "2999  SkinnyIndonesian24   Prabowo VS Jokowi - Epic ...   \n",
       "3000  SkinnyIndonesian24   Prabowo VS Jokowi - Epic ...   \n",
       "3001  SkinnyIndonesian24   Prabowo VS Jokowi - Epic ...   \n",
       "3002  SkinnyIndonesian24   Prabowo VS Jokowi - Epic ...   \n",
       "\n",
       "                                      cleaned_comment_1  \\\n",
       "0                                                         \n",
       "1                          bantu subscribe youtube saya   \n",
       "2     hachimon tonkou kalau buka gerbang 8 langsung ...   \n",
       "3                                                         \n",
       "4     ch derisma ae minta subscribe tunggu ea terima...   \n",
       "...                                                 ...   \n",
       "2998                                                      \n",
       "2999                       creator senior memang beda 😎   \n",
       "3000  keunggulan kekurangan kita semua jadi bingung ...   \n",
       "3001                                        keren parah   \n",
       "3002                                mereka harus nonton   \n",
       "\n",
       "                                      cleaned_comment_2  \n",
       "0                            https youtu.be/lbkgyxnpmcu  \n",
       "1                          bantu subscribe youtube saya  \n",
       "2     hachimon tonkou kalau buka gerbang 8 langsung ...  \n",
       "3     https www.youtube.com/channel/uc_iq1hcnxz1irlk...  \n",
       "4     https youtu.be/as1fipccuh4 ch derisma minta su...  \n",
       "...                                                 ...  \n",
       "2998                                                     \n",
       "2999                         creator senior memang beda  \n",
       "3000     keunggulan kekurangan semua jadi bingung milih  \n",
       "3001                                        keren parah  \n",
       "3002                                             nonton  \n",
       "\n",
       "[3001 rows x 13 columns]"
      ]
     },
     "execution_count": 50,
     "metadata": {},
     "output_type": "execute_result"
    }
   ],
   "source": [
    "try_data_cleaning"
   ]
  },
  {
   "cell_type": "markdown",
   "metadata": {},
   "source": [
    "**cleaned_comment_3**\n",
    "\n",
    "Pada proses cleaning comment ketiga ini **melakukan** beberapa hal:\n",
    "- remove emoji\n",
    "- remove url\n",
    "- remove punctuation\n",
    "- remove number\n",
    "- remove stopwords\n",
    "- replace slangwords"
   ]
  },
  {
   "cell_type": "code",
   "execution_count": 51,
   "metadata": {},
   "outputs": [],
   "source": [
    "try_data_cleaning['cleaned_comment_3'] = try_data_cleaning['Comment'].apply(lambda x: lower(x))\n",
    "try_data_cleaning['cleaned_comment_3'] = try_data_cleaning['cleaned_comment_3'].apply(lambda x: remove_emoji(x))\n",
    "try_data_cleaning[\"cleaned_comment_3\"] = try_data_cleaning[\"cleaned_comment_3\"].apply(lambda x: detecturl(x))\n",
    "try_data_cleaning['cleaned_comment_3'] = try_data_cleaning['cleaned_comment_3'].apply(lambda x: remove_numbers(x))\n",
    "try_data_cleaning['cleaned_comment_3'] = try_data_cleaning['cleaned_comment_3'].apply(lambda x: clean_punct(x))\n",
    "try_data_cleaning['cleaned_comment_3'] = try_data_cleaning['cleaned_comment_3'].apply(lambda x: hastag(x))\n",
    "try_data_cleaning['cleaned_comment_3'] = try_data_cleaning['cleaned_comment_3'].apply(lambda x: white_spaces(x))\n",
    "try_data_cleaning['cleaned_comment_3'] = try_data_cleaning['cleaned_comment_3'].apply(lambda x: clean_stopwords(x))\n",
    "try_data_cleaning['cleaned_comment_3'] = try_data_cleaning['cleaned_comment_3'].apply(lambda x: en_stopwords(x))\n",
    "try_data_cleaning['cleaned_comment_3'] = try_data_cleaning['cleaned_comment_3'].apply(lambda x: id_stopwords(x))\n",
    "try_data_cleaning['cleaned_comment_3'] = try_data_cleaning['cleaned_comment_3'].apply(lambda x: slang(x))"
   ]
  },
  {
   "cell_type": "code",
   "execution_count": 52,
   "metadata": {},
   "outputs": [],
   "source": [
    "try_data_cleaning['Count_Url'] = try_data_cleaning['Comment'].apply(lambda x: count_url(x))\n",
    "try_data_cleaning['Url_Ratio'] = try_data_cleaning['Comment'].apply(lambda x: url_ratio(x))\n",
    "try_data_cleaning['Number_White_Space'] = try_data_cleaning['Comment'].apply(lambda x: count_extra_white_spaces(x))\n",
    "#try_data_cleaning['Count_Punctuation'] = try_data_cleaning['Comment'].apply(lambda s: count_punctuation(s, string.punctuation))\n",
    "try_data_cleaning['World_Duplicate_Ratio'] = try_data_cleaning['Comment'].apply(lambda x: word_duplicate_ratio(x))\n",
    "try_data_cleaning['Count_Emoji'] = try_data_cleaning['Comment'].apply(lambda x: count_emoji(x))\n",
    "try_data_cleaning['Count_non_ascii'] = try_data_cleaning['Comment'].apply(lambda x: non_ascii(x))\n",
    "try_data_cleaning['Count_upper_letters'] = try_data_cleaning['Comment'].apply(lambda x: upper_letters(x))"
   ]
  },
  {
   "cell_type": "code",
   "execution_count": 53,
   "metadata": {},
   "outputs": [],
   "source": [
    "try_data_cleaning.to_csv(\"../Data/Comments/Data_Cleaning_3000Label.csv\", index=False)"
   ]
  },
  {
   "cell_type": "code",
   "execution_count": null,
   "metadata": {},
   "outputs": [],
   "source": []
  }
 ],
 "metadata": {
  "kernelspec": {
   "display_name": "Python 3 (ipykernel)",
   "language": "python",
   "name": "python3"
  },
  "language_info": {
   "codemirror_mode": {
    "name": "ipython",
    "version": 3
   },
   "file_extension": ".py",
   "mimetype": "text/x-python",
   "name": "python",
   "nbconvert_exporter": "python",
   "pygments_lexer": "ipython3",
   "version": "3.7.11"
  },
  "vscode": {
   "interpreter": {
    "hash": "7e470a54d1f627e8dbc62884db0ab90c1d014850c7adde4c19b633d3b1a7b860"
   }
  }
 },
 "nbformat": 4,
 "nbformat_minor": 2
}
