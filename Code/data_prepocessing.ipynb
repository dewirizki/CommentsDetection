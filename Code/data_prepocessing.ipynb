{
 "cells": [
  {
   "cell_type": "code",
   "execution_count": 83,
   "metadata": {},
   "outputs": [],
   "source": [
    "import pandas as pd\n",
    "import glob\n",
    "import os\n",
    "import regex as re\n",
    "import string\n",
    "from CommentsDetection import TextMining as tm\n",
    "from CommentsDetection import openewfile as of\n",
    "from CommentsDetection import CleanText as ct\n",
    "from tqdm import tqdm\n",
    "import time\n",
    "import seaborn as sns\n",
    "import datetime\n",
    "import spacy\n",
    "import matplotlib.pyplot as plt\n",
    "import plotly.graph_objs as go\n",
    "import plotly.express as px\n",
    "from tqdm import tqdm\n",
    "from textblob import TextBlob\n",
    "from Sastrawi.StopWordRemover.StopWordRemoverFactory import StopWordRemoverFactory\n",
    "from spacy.lang.id import Indonesian\n",
    "#from spacy.lang.id.stop_words import STOP_WORDS\n",
    "import warnings; warnings.simplefilter('ignore')"
   ]
  },
  {
   "cell_type": "code",
   "execution_count": 4,
   "metadata": {},
   "outputs": [
    {
     "name": "stdout",
     "output_type": "stream",
     "text": [
      "<class 'pandas.core.frame.DataFrame'>\n",
      "RangeIndex: 2000 entries, 0 to 1999\n",
      "Data columns (total 9 columns):\n",
      " #   Column       Non-Null Count  Dtype  \n",
      "---  ------       --------------  -----  \n",
      " 0   Video_Id     2000 non-null   object \n",
      " 1   Tittle       2000 non-null   object \n",
      " 2   Name         2000 non-null   object \n",
      " 3   Comment      2000 non-null   object \n",
      " 4   Comment_Id   2000 non-null   object \n",
      " 5   Time         2000 non-null   object \n",
      " 6   Likes        2000 non-null   int64  \n",
      " 7   Reply_Count  1647 non-null   float64\n",
      " 8   Label        2000 non-null   object \n",
      "dtypes: float64(1), int64(1), object(7)\n",
      "memory usage: 140.8+ KB\n"
     ]
    }
   ],
   "source": [
    "df = pd.read_csv(\"..\\Data\\Data Label\\comments_Label_2000.csv\")\n",
    "df.info()"
   ]
  },
  {
   "cell_type": "code",
   "execution_count": 5,
   "metadata": {},
   "outputs": [],
   "source": [
    "df[\"Label\"] = df[\"Label\"].astype(\"category\")\n",
    "df[\"Time\"] = df[\"Time\"].astype(\"datetime64\")"
   ]
  },
  {
   "cell_type": "code",
   "execution_count": 6,
   "metadata": {},
   "outputs": [
    {
     "data": {
      "text/html": [
       "<div>\n",
       "<style scoped>\n",
       "    .dataframe tbody tr th:only-of-type {\n",
       "        vertical-align: middle;\n",
       "    }\n",
       "\n",
       "    .dataframe tbody tr th {\n",
       "        vertical-align: top;\n",
       "    }\n",
       "\n",
       "    .dataframe thead th {\n",
       "        text-align: right;\n",
       "    }\n",
       "</style>\n",
       "<table border=\"1\" class=\"dataframe\">\n",
       "  <thead>\n",
       "    <tr style=\"text-align: right;\">\n",
       "      <th></th>\n",
       "      <th>Video_Id</th>\n",
       "      <th>Tittle</th>\n",
       "      <th>Name</th>\n",
       "      <th>Comment</th>\n",
       "      <th>Comment_Id</th>\n",
       "      <th>Time</th>\n",
       "      <th>Likes</th>\n",
       "      <th>Reply_Count</th>\n",
       "      <th>Label</th>\n",
       "    </tr>\n",
       "  </thead>\n",
       "  <tbody>\n",
       "    <tr>\n",
       "      <th>0</th>\n",
       "      <td>AP0NACavjfk</td>\n",
       "      <td>SkinnyIndonesian24 | Prabowo VS Jokowi - Epic ...</td>\n",
       "      <td>Banda vlog</td>\n",
       "      <td>Apa salah mobale lejen pak soekarno</td>\n",
       "      <td>UgwmjTHzY2zMOXBg9F94AaABAg</td>\n",
       "      <td>2019-04-11 11:27:47</td>\n",
       "      <td>0</td>\n",
       "      <td>0.0</td>\n",
       "      <td>legitimate</td>\n",
       "    </tr>\n",
       "    <tr>\n",
       "      <th>1</th>\n",
       "      <td>AP0NACavjfk</td>\n",
       "      <td>SkinnyIndonesian24 | Prabowo VS Jokowi - Epic ...</td>\n",
       "      <td>kharisma setya kencana</td>\n",
       "      <td>👆👆👆👆👆👆</td>\n",
       "      <td>UgzbICRmksoeoGVFCzd4AaABAg</td>\n",
       "      <td>2019-04-09 04:08:18</td>\n",
       "      <td>0</td>\n",
       "      <td>0.0</td>\n",
       "      <td>legitimate</td>\n",
       "    </tr>\n",
       "    <tr>\n",
       "      <th>2</th>\n",
       "      <td>AP0NACavjfk</td>\n",
       "      <td>SkinnyIndonesian24 | Prabowo VS Jokowi - Epic ...</td>\n",
       "      <td>「GratioKunz」</td>\n",
       "      <td>Dan golput itu apa</td>\n",
       "      <td>UgxROKiw4EX5LyaG0lx4AaABAg</td>\n",
       "      <td>2019-04-18 08:57:13</td>\n",
       "      <td>0</td>\n",
       "      <td>0.0</td>\n",
       "      <td>legitimate</td>\n",
       "    </tr>\n",
       "    <tr>\n",
       "      <th>3</th>\n",
       "      <td>AP0NACavjfk</td>\n",
       "      <td>SkinnyIndonesian24 | Prabowo VS Jokowi - Epic ...</td>\n",
       "      <td>Trestrantara WZ</td>\n",
       "      <td>Keren!!</td>\n",
       "      <td>UgymN9o3cZFXVPLKcjZ4AaABAg</td>\n",
       "      <td>2019-04-08 16:42:13</td>\n",
       "      <td>0</td>\n",
       "      <td>0.0</td>\n",
       "      <td>legitimate</td>\n",
       "    </tr>\n",
       "    <tr>\n",
       "      <th>4</th>\n",
       "      <td>AP0NACavjfk</td>\n",
       "      <td>SkinnyIndonesian24 | Prabowo VS Jokowi - Epic ...</td>\n",
       "      <td>Heri Kurniawan</td>\n",
       "      <td>Pilih siapa presiden aku Prabowo-Sandi</td>\n",
       "      <td>Ugw9J8lP4lOg0t5yX0l4AaABAg</td>\n",
       "      <td>2019-04-18 00:45:06</td>\n",
       "      <td>1</td>\n",
       "      <td>0.0</td>\n",
       "      <td>legitimate</td>\n",
       "    </tr>\n",
       "  </tbody>\n",
       "</table>\n",
       "</div>"
      ],
      "text/plain": [
       "      Video_Id                                             Tittle  \\\n",
       "0  AP0NACavjfk  SkinnyIndonesian24 | Prabowo VS Jokowi - Epic ...   \n",
       "1  AP0NACavjfk  SkinnyIndonesian24 | Prabowo VS Jokowi - Epic ...   \n",
       "2  AP0NACavjfk  SkinnyIndonesian24 | Prabowo VS Jokowi - Epic ...   \n",
       "3  AP0NACavjfk  SkinnyIndonesian24 | Prabowo VS Jokowi - Epic ...   \n",
       "4  AP0NACavjfk  SkinnyIndonesian24 | Prabowo VS Jokowi - Epic ...   \n",
       "\n",
       "                     Name                                 Comment  \\\n",
       "0              Banda vlog     Apa salah mobale lejen pak soekarno   \n",
       "1  kharisma setya kencana                                  👆👆👆👆👆👆   \n",
       "2            「GratioKunz」                      Dan golput itu apa   \n",
       "3         Trestrantara WZ                                 Keren!!   \n",
       "4          Heri Kurniawan  Pilih siapa presiden aku Prabowo-Sandi   \n",
       "\n",
       "                   Comment_Id                Time  Likes  Reply_Count  \\\n",
       "0  UgwmjTHzY2zMOXBg9F94AaABAg 2019-04-11 11:27:47      0          0.0   \n",
       "1  UgzbICRmksoeoGVFCzd4AaABAg 2019-04-09 04:08:18      0          0.0   \n",
       "2  UgxROKiw4EX5LyaG0lx4AaABAg 2019-04-18 08:57:13      0          0.0   \n",
       "3  UgymN9o3cZFXVPLKcjZ4AaABAg 2019-04-08 16:42:13      0          0.0   \n",
       "4  Ugw9J8lP4lOg0t5yX0l4AaABAg 2019-04-18 00:45:06      1          0.0   \n",
       "\n",
       "        Label  \n",
       "0  legitimate  \n",
       "1  legitimate  \n",
       "2  legitimate  \n",
       "3  legitimate  \n",
       "4  legitimate  "
      ]
     },
     "execution_count": 6,
     "metadata": {},
     "output_type": "execute_result"
    }
   ],
   "source": [
    "df.head()"
   ]
  },
  {
   "cell_type": "code",
   "execution_count": 7,
   "metadata": {},
   "outputs": [
    {
     "data": {
      "text/plain": [
       "Video_Id         0\n",
       "Tittle           0\n",
       "Name             0\n",
       "Comment          0\n",
       "Comment_Id       0\n",
       "Time             0\n",
       "Likes            0\n",
       "Reply_Count    353\n",
       "Label            0\n",
       "dtype: int64"
      ]
     },
     "execution_count": 7,
     "metadata": {},
     "output_type": "execute_result"
    }
   ],
   "source": [
    "df.isnull().sum()"
   ]
  },
  {
   "cell_type": "code",
   "execution_count": 8,
   "metadata": {},
   "outputs": [
    {
     "data": {
      "image/png": "[encoded data removed]",
      "text/plain": [
       "<Figure size 432x288 with 1 Axes>"
      ]
     },
     "metadata": {
      "needs_background": "light"
     },
     "output_type": "display_data"
    }
   ],
   "source": [
    "p = sns.distplot(df['Reply_Count'], kde=True, rug=True)"
   ]
  },
  {
   "cell_type": "code",
   "execution_count": 9,
   "metadata": {},
   "outputs": [],
   "source": [
    "df['Reply_Count'].fillna(df['Reply_Count'].median(),inplace=True)"
   ]
  },
  {
   "cell_type": "code",
   "execution_count": 10,
   "metadata": {},
   "outputs": [
    {
     "data": {
      "text/plain": [
       "Video_Id       0\n",
       "Tittle         0\n",
       "Name           0\n",
       "Comment        0\n",
       "Comment_Id     0\n",
       "Time           0\n",
       "Likes          0\n",
       "Reply_Count    0\n",
       "Label          0\n",
       "dtype: int64"
      ]
     },
     "execution_count": 10,
     "metadata": {},
     "output_type": "execute_result"
    }
   ],
   "source": [
    "df.isnull().sum()"
   ]
  },
  {
   "cell_type": "code",
   "execution_count": 11,
   "metadata": {},
   "outputs": [],
   "source": [
    "df[\"Reply_Count\"] = df[\"Reply_Count\"].astype(\"int64\")"
   ]
  },
  {
   "cell_type": "code",
   "execution_count": 12,
   "metadata": {},
   "outputs": [
    {
     "name": "stdout",
     "output_type": "stream",
     "text": [
      "<class 'pandas.core.frame.DataFrame'>\n",
      "RangeIndex: 2000 entries, 0 to 1999\n",
      "Data columns (total 9 columns):\n",
      " #   Column       Non-Null Count  Dtype         \n",
      "---  ------       --------------  -----         \n",
      " 0   Video_Id     2000 non-null   object        \n",
      " 1   Tittle       2000 non-null   object        \n",
      " 2   Name         2000 non-null   object        \n",
      " 3   Comment      2000 non-null   object        \n",
      " 4   Comment_Id   2000 non-null   object        \n",
      " 5   Time         2000 non-null   datetime64[ns]\n",
      " 6   Likes        2000 non-null   int64         \n",
      " 7   Reply_Count  2000 non-null   int64         \n",
      " 8   Label        2000 non-null   category      \n",
      "dtypes: category(1), datetime64[ns](1), int64(2), object(5)\n",
      "memory usage: 127.2+ KB\n"
     ]
    }
   ],
   "source": [
    "df.info()"
   ]
  },
  {
   "cell_type": "code",
   "execution_count": 13,
   "metadata": {},
   "outputs": [],
   "source": [
    "#count comments words length\n",
    "def count_length(text):\n",
    "    return len(text)"
   ]
  },
  {
   "cell_type": "code",
   "execution_count": 14,
   "metadata": {},
   "outputs": [],
   "source": [
    "df['Length_Comment'] = df['Comment'].apply(lambda x: count_length(x))"
   ]
  },
  {
   "cell_type": "code",
   "execution_count": 15,
   "metadata": {},
   "outputs": [
    {
     "data": {
      "text/html": [
       "<div>\n",
       "<style scoped>\n",
       "    .dataframe tbody tr th:only-of-type {\n",
       "        vertical-align: middle;\n",
       "    }\n",
       "\n",
       "    .dataframe tbody tr th {\n",
       "        vertical-align: top;\n",
       "    }\n",
       "\n",
       "    .dataframe thead th {\n",
       "        text-align: right;\n",
       "    }\n",
       "</style>\n",
       "<table border=\"1\" class=\"dataframe\">\n",
       "  <thead>\n",
       "    <tr style=\"text-align: right;\">\n",
       "      <th></th>\n",
       "      <th>Video_Id</th>\n",
       "      <th>Tittle</th>\n",
       "      <th>Name</th>\n",
       "      <th>Comment</th>\n",
       "      <th>Comment_Id</th>\n",
       "      <th>Time</th>\n",
       "      <th>Likes</th>\n",
       "      <th>Reply_Count</th>\n",
       "      <th>Label</th>\n",
       "      <th>Length_Comment</th>\n",
       "    </tr>\n",
       "  </thead>\n",
       "  <tbody>\n",
       "    <tr>\n",
       "      <th>1846</th>\n",
       "      <td>AP0NACavjfk</td>\n",
       "      <td>SkinnyIndonesian24 | Prabowo VS Jokowi - Epic ...</td>\n",
       "      <td>Indri Dwi</td>\n",
       "      <td>Nonton berkali kali nggak waleh😂</td>\n",
       "      <td>UgypNNfIJCzkriln9YV4AaABAg</td>\n",
       "      <td>2019-04-11 13:16:57</td>\n",
       "      <td>1</td>\n",
       "      <td>0</td>\n",
       "      <td>legitimate</td>\n",
       "      <td>32</td>\n",
       "    </tr>\n",
       "    <tr>\n",
       "      <th>404</th>\n",
       "      <td>AP0NACavjfk</td>\n",
       "      <td>SkinnyIndonesian24 | Prabowo VS Jokowi - Epic ...</td>\n",
       "      <td>Moh Mardin</td>\n",
       "      <td>Akhirnya tersingkirkan juga K-Pop dari trandin...</td>\n",
       "      <td>UgwKtSC3lp8WPAXyKjZ4AaABAg</td>\n",
       "      <td>2019-04-09 19:02:15</td>\n",
       "      <td>1</td>\n",
       "      <td>0</td>\n",
       "      <td>spam</td>\n",
       "      <td>87</td>\n",
       "    </tr>\n",
       "    <tr>\n",
       "      <th>1492</th>\n",
       "      <td>AP0NACavjfk</td>\n",
       "      <td>SkinnyIndonesian24 | Prabowo VS Jokowi - Epic ...</td>\n",
       "      <td>Shaka Asyraf</td>\n",
       "      <td>Njirr nni video gue ulang ulang terus kenapa y...</td>\n",
       "      <td>UgyFu6yhOSQdtWXfCZZ4AaABAg</td>\n",
       "      <td>2019-04-10 23:11:40</td>\n",
       "      <td>0</td>\n",
       "      <td>0</td>\n",
       "      <td>legitimate</td>\n",
       "      <td>52</td>\n",
       "    </tr>\n",
       "    <tr>\n",
       "      <th>138</th>\n",
       "      <td>AP0NACavjfk</td>\n",
       "      <td>SkinnyIndonesian24 | Prabowo VS Jokowi - Epic ...</td>\n",
       "      <td>8131 Afif Nurwidianto</td>\n",
       "      <td>Wah golput ya bg</td>\n",
       "      <td>UgzJnPQiqebjRKver7p4AaABAg</td>\n",
       "      <td>2019-04-10 01:14:43</td>\n",
       "      <td>0</td>\n",
       "      <td>0</td>\n",
       "      <td>legitimate</td>\n",
       "      <td>16</td>\n",
       "    </tr>\n",
       "    <tr>\n",
       "      <th>595</th>\n",
       "      <td>0iLgiRBQzzs</td>\n",
       "      <td>Panas! Jokowi VS Prabowo Saling Serang soal Ko...</td>\n",
       "      <td>Pengembara dunia</td>\n",
       "      <td>Jokowi Atau Prabowo ??\\nhttps://youtu.be/IACJ_...</td>\n",
       "      <td>UgwwIR4D_ClJYBM2hSF4AaABAg</td>\n",
       "      <td>2019-02-02 05:18:11</td>\n",
       "      <td>0</td>\n",
       "      <td>0</td>\n",
       "      <td>spam</td>\n",
       "      <td>51</td>\n",
       "    </tr>\n",
       "  </tbody>\n",
       "</table>\n",
       "</div>"
      ],
      "text/plain": [
       "         Video_Id                                             Tittle  \\\n",
       "1846  AP0NACavjfk  SkinnyIndonesian24 | Prabowo VS Jokowi - Epic ...   \n",
       "404   AP0NACavjfk  SkinnyIndonesian24 | Prabowo VS Jokowi - Epic ...   \n",
       "1492  AP0NACavjfk  SkinnyIndonesian24 | Prabowo VS Jokowi - Epic ...   \n",
       "138   AP0NACavjfk  SkinnyIndonesian24 | Prabowo VS Jokowi - Epic ...   \n",
       "595   0iLgiRBQzzs  Panas! Jokowi VS Prabowo Saling Serang soal Ko...   \n",
       "\n",
       "                       Name  \\\n",
       "1846              Indri Dwi   \n",
       "404              Moh Mardin   \n",
       "1492           Shaka Asyraf   \n",
       "138   8131 Afif Nurwidianto   \n",
       "595        Pengembara dunia   \n",
       "\n",
       "                                                Comment  \\\n",
       "1846                   Nonton berkali kali nggak waleh😂   \n",
       "404   Akhirnya tersingkirkan juga K-Pop dari trandin...   \n",
       "1492  Njirr nni video gue ulang ulang terus kenapa y...   \n",
       "138                                    Wah golput ya bg   \n",
       "595   Jokowi Atau Prabowo ??\\nhttps://youtu.be/IACJ_...   \n",
       "\n",
       "                      Comment_Id                Time  Likes  Reply_Count  \\\n",
       "1846  UgypNNfIJCzkriln9YV4AaABAg 2019-04-11 13:16:57      1            0   \n",
       "404   UgwKtSC3lp8WPAXyKjZ4AaABAg 2019-04-09 19:02:15      1            0   \n",
       "1492  UgyFu6yhOSQdtWXfCZZ4AaABAg 2019-04-10 23:11:40      0            0   \n",
       "138   UgzJnPQiqebjRKver7p4AaABAg 2019-04-10 01:14:43      0            0   \n",
       "595   UgwwIR4D_ClJYBM2hSF4AaABAg 2019-02-02 05:18:11      0            0   \n",
       "\n",
       "           Label  Length_Comment  \n",
       "1846  legitimate              32  \n",
       "404         spam              87  \n",
       "1492  legitimate              52  \n",
       "138   legitimate              16  \n",
       "595         spam              51  "
      ]
     },
     "execution_count": 15,
     "metadata": {},
     "output_type": "execute_result"
    }
   ],
   "source": [
    "df.sample(5)"
   ]
  },
  {
   "cell_type": "markdown",
   "metadata": {},
   "source": [
    "## EDA"
   ]
  },
  {
   "cell_type": "markdown",
   "metadata": {},
   "source": [
    "### Comments that got most "
   ]
  },
  {
   "cell_type": "code",
   "execution_count": 16,
   "metadata": {},
   "outputs": [
    {
     "name": "stdout",
     "output_type": "stream",
     "text": [
      "Komentar dengan like terbanyak adalah TERIMAKASIH SUDAH MENEMANI KAMI SEMUA SELAMA SEPULUH TAHUN\n",
      "\n",
      "#thanksforskinnyindonesian24​\n"
     ]
    }
   ],
   "source": [
    "like = df[df['Likes']==df['Likes'].max()]\n",
    "print(\"Komentar dengan like terbanyak adalah {}\".format(like.iloc[0].Comment))"
   ]
  },
  {
   "cell_type": "markdown",
   "metadata": {},
   "source": [
    "### 5 YouTube Account that comments have most reply"
   ]
  },
  {
   "cell_type": "code",
   "execution_count": 17,
   "metadata": {},
   "outputs": [
    {
     "data": {
      "application/vnd.plotly.v1+json": {
       "config": {
        "plotlyServerURL": "https://plot.ly"
       },
       "data": [
        {
         "alignmentgroup": "True",
         "hovertemplate": "Youtube_Account=%{x}<br>reply_count=%{y}<extra></extra>",
         "legendgroup": "skinnyindonesian24",
         "marker": {
          "color": "#636efa",
          "pattern": {
           "shape": ""
          }
         },
         "name": "skinnyindonesian24",
         "offsetgroup": "skinnyindonesian24",
         "orientation": "v",
         "showlegend": true,
         "textposition": "auto",
         "type": "bar",
         "x": [
          "skinnyindonesian24"
         ],
         "xaxis": "x",
         "y": [
          7
         ],
         "yaxis": "y"
        },
        {
         "alignmentgroup": "True",
         "hovertemplate": "Youtube_Account=%{x}<br>reply_count=%{y}<extra></extra>",
         "legendgroup": "LAVEN S",
         "marker": {
          "color": "#EF553B",
          "pattern": {
           "shape": ""
          }
         },
         "name": "LAVEN S",
         "offsetgroup": "LAVEN S",
         "orientation": "v",
         "showlegend": true,
         "textposition": "auto",
         "type": "bar",
         "x": [
          "LAVEN S"
         ],
         "xaxis": "x",
         "y": [
          2
         ],
         "yaxis": "y"
        },
        {
         "alignmentgroup": "True",
         "hovertemplate": "Youtube_Account=%{x}<br>reply_count=%{y}<extra></extra>",
         "legendgroup": "Lois Krista",
         "marker": {
          "color": "#00cc96",
          "pattern": {
           "shape": ""
          }
         },
         "name": "Lois Krista",
         "offsetgroup": "Lois Krista",
         "orientation": "v",
         "showlegend": true,
         "textposition": "auto",
         "type": "bar",
         "x": [
          "Lois Krista"
         ],
         "xaxis": "x",
         "y": [
          2
         ],
         "yaxis": "y"
        },
        {
         "alignmentgroup": "True",
         "hovertemplate": "Youtube_Account=%{x}<br>reply_count=%{y}<extra></extra>",
         "legendgroup": "RizkyMJ 727",
         "marker": {
          "color": "#ab63fa",
          "pattern": {
           "shape": ""
          }
         },
         "name": "RizkyMJ 727",
         "offsetgroup": "RizkyMJ 727",
         "orientation": "v",
         "showlegend": true,
         "textposition": "auto",
         "type": "bar",
         "x": [
          "RizkyMJ 727"
         ],
         "xaxis": "x",
         "y": [
          2
         ],
         "yaxis": "y"
        },
        {
         "alignmentgroup": "True",
         "hovertemplate": "Youtube_Account=%{x}<br>reply_count=%{y}<extra></extra>",
         "legendgroup": "Zhara",
         "marker": {
          "color": "#FFA15A",
          "pattern": {
           "shape": ""
          }
         },
         "name": "Zhara",
         "offsetgroup": "Zhara",
         "orientation": "v",
         "showlegend": true,
         "textposition": "auto",
         "type": "bar",
         "x": [
          "Zhara"
         ],
         "xaxis": "x",
         "y": [
          2
         ],
         "yaxis": "y"
        }
       ],
       "layout": {
        "barmode": "relative",
        "legend": {
         "title": {
          "text": "Youtube_Account"
         },
         "tracegroupgap": 0
        },
        "template": {
         "data": {
          "bar": [
           {
            "error_x": {
             "color": "#2a3f5f"
            },
            "error_y": {
             "color": "#2a3f5f"
            },
            "marker": {
             "line": {
              "color": "#E5ECF6",
              "width": 0.5
             },
             "pattern": {
              "fillmode": "overlay",
              "size": 10,
              "solidity": 0.2
             }
            },
            "type": "bar"
           }
          ],
          "barpolar": [
           {
            "marker": {
             "line": {
              "color": "#E5ECF6",
              "width": 0.5
             },
             "pattern": {
              "fillmode": "overlay",
              "size": 10,
              "solidity": 0.2
             }
            },
            "type": "barpolar"
           }
          ],
          "carpet": [
           {
            "aaxis": {
             "endlinecolor": "#2a3f5f",
             "gridcolor": "white",
             "linecolor": "white",
             "minorgridcolor": "white",
             "startlinecolor": "#2a3f5f"
            },
            "baxis": {
             "endlinecolor": "#2a3f5f",
             "gridcolor": "white",
             "linecolor": "white",
             "minorgridcolor": "white",
             "startlinecolor": "#2a3f5f"
            },
            "type": "carpet"
           }
          ],
          "choropleth": [
           {
            "colorbar": {
             "outlinewidth": 0,
             "ticks": ""
            },
            "type": "choropleth"
           }
          ],
          "contour": [
           {
            "colorbar": {
             "outlinewidth": 0,
             "ticks": ""
            },
            "colorscale": [
             [
              0,
              "#0d0887"
             ],
             [
              0.1111111111111111,
              "#46039f"
             ],
             [
              0.2222222222222222,
              "#7201a8"
             ],
             [
              0.3333333333333333,
              "#9c179e"
             ],
             [
              0.4444444444444444,
              "#bd3786"
             ],
             [
              0.5555555555555556,
              "#d8576b"
             ],
             [
              0.6666666666666666,
              "#ed7953"
             ],
             [
              0.7777777777777778,
              "#fb9f3a"
             ],
             [
              0.8888888888888888,
              "#fdca26"
             ],
             [
              1,
              "#f0f921"
             ]
            ],
            "type": "contour"
           }
          ],
          "contourcarpet": [
           {
            "colorbar": {
             "outlinewidth": 0,
             "ticks": ""
            },
            "type": "contourcarpet"
           }
          ],
          "heatmap": [
           {
            "colorbar": {
             "outlinewidth": 0,
             "ticks": ""
            },
            "colorscale": [
             [
              0,
              "#0d0887"
             ],
             [
              0.1111111111111111,
              "#46039f"
             ],
             [
              0.2222222222222222,
              "#7201a8"
             ],
             [
              0.3333333333333333,
              "#9c179e"
             ],
             [
              0.4444444444444444,
              "#bd3786"
             ],
             [
              0.5555555555555556,
              "#d8576b"
             ],
             [
              0.6666666666666666,
              "#ed7953"
             ],
             [
              0.7777777777777778,
              "#fb9f3a"
             ],
             [
              0.8888888888888888,
              "#fdca26"
             ],
             [
              1,
              "#f0f921"
             ]
            ],
            "type": "heatmap"
           }
          ],
          "heatmapgl": [
           {
            "colorbar": {
             "outlinewidth": 0,
             "ticks": ""
            },
            "colorscale": [
             [
              0,
              "#0d0887"
             ],
             [
              0.1111111111111111,
              "#46039f"
             ],
             [
              0.2222222222222222,
              "#7201a8"
             ],
             [
              0.3333333333333333,
              "#9c179e"
             ],
             [
              0.4444444444444444,
              "#bd3786"
             ],
             [
              0.5555555555555556,
              "#d8576b"
             ],
             [
              0.6666666666666666,
              "#ed7953"
             ],
             [
              0.7777777777777778,
              "#fb9f3a"
             ],
             [
              0.8888888888888888,
              "#fdca26"
             ],
             [
              1,
              "#f0f921"
             ]
            ],
            "type": "heatmapgl"
           }
          ],
          "histogram": [
           {
            "marker": {
             "pattern": {
              "fillmode": "overlay",
              "size": 10,
              "solidity": 0.2
             }
            },
            "type": "histogram"
           }
          ],
          "histogram2d": [
           {
            "colorbar": {
             "outlinewidth": 0,
             "ticks": ""
            },
            "colorscale": [
             [
              0,
              "#0d0887"
             ],
             [
              0.1111111111111111,
              "#46039f"
             ],
             [
              0.2222222222222222,
              "#7201a8"
             ],
             [
              0.3333333333333333,
              "#9c179e"
             ],
             [
              0.4444444444444444,
              "#bd3786"
             ],
             [
              0.5555555555555556,
              "#d8576b"
             ],
             [
              0.6666666666666666,
              "#ed7953"
             ],
             [
              0.7777777777777778,
              "#fb9f3a"
             ],
             [
              0.8888888888888888,
              "#fdca26"
             ],
             [
              1,
              "#f0f921"
             ]
            ],
            "type": "histogram2d"
           }
          ],
          "histogram2dcontour": [
           {
            "colorbar": {
             "outlinewidth": 0,
             "ticks": ""
            },
            "colorscale": [
             [
              0,
              "#0d0887"
             ],
             [
              0.1111111111111111,
              "#46039f"
             ],
             [
              0.2222222222222222,
              "#7201a8"
             ],
             [
              0.3333333333333333,
              "#9c179e"
             ],
             [
              0.4444444444444444,
              "#bd3786"
             ],
             [
              0.5555555555555556,
              "#d8576b"
             ],
             [
              0.6666666666666666,
              "#ed7953"
             ],
             [
              0.7777777777777778,
              "#fb9f3a"
             ],
             [
              0.8888888888888888,
              "#fdca26"
             ],
             [
              1,
              "#f0f921"
             ]
            ],
            "type": "histogram2dcontour"
           }
          ],
          "mesh3d": [
           {
            "colorbar": {
             "outlinewidth": 0,
             "ticks": ""
            },
            "type": "mesh3d"
           }
          ],
          "parcoords": [
           {
            "line": {
             "colorbar": {
              "outlinewidth": 0,
              "ticks": ""
             }
            },
            "type": "parcoords"
           }
          ],
          "pie": [
           {
            "automargin": true,
            "type": "pie"
           }
          ],
          "scatter": [
           {
            "fillpattern": {
             "fillmode": "overlay",
             "size": 10,
             "solidity": 0.2
            },
            "type": "scatter"
           }
          ],
          "scatter3d": [
           {
            "line": {
             "colorbar": {
              "outlinewidth": 0,
              "ticks": ""
             }
            },
            "marker": {
             "colorbar": {
              "outlinewidth": 0,
              "ticks": ""
             }
            },
            "type": "scatter3d"
           }
          ],
          "scattercarpet": [
           {
            "marker": {
             "colorbar": {
              "outlinewidth": 0,
              "ticks": ""
             }
            },
            "type": "scattercarpet"
           }
          ],
          "scattergeo": [
           {
            "marker": {
             "colorbar": {
              "outlinewidth": 0,
              "ticks": ""
             }
            },
            "type": "scattergeo"
           }
          ],
          "scattergl": [
           {
            "marker": {
             "colorbar": {
              "outlinewidth": 0,
              "ticks": ""
             }
            },
            "type": "scattergl"
           }
          ],
          "scattermapbox": [
           {
            "marker": {
             "colorbar": {
              "outlinewidth": 0,
              "ticks": ""
             }
            },
            "type": "scattermapbox"
           }
          ],
          "scatterpolar": [
           {
            "marker": {
             "colorbar": {
              "outlinewidth": 0,
              "ticks": ""
             }
            },
            "type": "scatterpolar"
           }
          ],
          "scatterpolargl": [
           {
            "marker": {
             "colorbar": {
              "outlinewidth": 0,
              "ticks": ""
             }
            },
            "type": "scatterpolargl"
           }
          ],
          "scatterternary": [
           {
            "marker": {
             "colorbar": {
              "outlinewidth": 0,
              "ticks": ""
             }
            },
            "type": "scatterternary"
           }
          ],
          "surface": [
           {
            "colorbar": {
             "outlinewidth": 0,
             "ticks": ""
            },
            "colorscale": [
             [
              0,
              "#0d0887"
             ],
             [
              0.1111111111111111,
              "#46039f"
             ],
             [
              0.2222222222222222,
              "#7201a8"
             ],
             [
              0.3333333333333333,
              "#9c179e"
             ],
             [
              0.4444444444444444,
              "#bd3786"
             ],
             [
              0.5555555555555556,
              "#d8576b"
             ],
             [
              0.6666666666666666,
              "#ed7953"
             ],
             [
              0.7777777777777778,
              "#fb9f3a"
             ],
             [
              0.8888888888888888,
              "#fdca26"
             ],
             [
              1,
              "#f0f921"
             ]
            ],
            "type": "surface"
           }
          ],
          "table": [
           {
            "cells": {
             "fill": {
              "color": "#EBF0F8"
             },
             "line": {
              "color": "white"
             }
            },
            "header": {
             "fill": {
              "color": "#C8D4E3"
             },
             "line": {
              "color": "white"
             }
            },
            "type": "table"
           }
          ]
         },
         "layout": {
          "annotationdefaults": {
           "arrowcolor": "#2a3f5f",
           "arrowhead": 0,
           "arrowwidth": 1
          },
          "autotypenumbers": "strict",
          "coloraxis": {
           "colorbar": {
            "outlinewidth": 0,
            "ticks": ""
           }
          },
          "colorscale": {
           "diverging": [
            [
             0,
             "#8e0152"
            ],
            [
             0.1,
             "#c51b7d"
            ],
            [
             0.2,
             "#de77ae"
            ],
            [
             0.3,
             "#f1b6da"
            ],
            [
             0.4,
             "#fde0ef"
            ],
            [
             0.5,
             "#f7f7f7"
            ],
            [
             0.6,
             "#e6f5d0"
            ],
            [
             0.7,
             "#b8e186"
            ],
            [
             0.8,
             "#7fbc41"
            ],
            [
             0.9,
             "#4d9221"
            ],
            [
             1,
             "#276419"
            ]
           ],
           "sequential": [
            [
             0,
             "#0d0887"
            ],
            [
             0.1111111111111111,
             "#46039f"
            ],
            [
             0.2222222222222222,
             "#7201a8"
            ],
            [
             0.3333333333333333,
             "#9c179e"
            ],
            [
             0.4444444444444444,
             "#bd3786"
            ],
            [
             0.5555555555555556,
             "#d8576b"
            ],
            [
             0.6666666666666666,
             "#ed7953"
            ],
            [
             0.7777777777777778,
             "#fb9f3a"
            ],
            [
             0.8888888888888888,
             "#fdca26"
            ],
            [
             1,
             "#f0f921"
            ]
           ],
           "sequentialminus": [
            [
             0,
             "#0d0887"
            ],
            [
             0.1111111111111111,
             "#46039f"
            ],
            [
             0.2222222222222222,
             "#7201a8"
            ],
            [
             0.3333333333333333,
             "#9c179e"
            ],
            [
             0.4444444444444444,
             "#bd3786"
            ],
            [
             0.5555555555555556,
             "#d8576b"
            ],
            [
             0.6666666666666666,
             "#ed7953"
            ],
            [
             0.7777777777777778,
             "#fb9f3a"
            ],
            [
             0.8888888888888888,
             "#fdca26"
            ],
            [
             1,
             "#f0f921"
            ]
           ]
          },
          "colorway": [
           "#636efa",
           "#EF553B",
           "#00cc96",
           "#ab63fa",
           "#FFA15A",
           "#19d3f3",
           "#FF6692",
           "#B6E880",
           "#FF97FF",
           "#FECB52"
          ],
          "font": {
           "color": "#2a3f5f"
          },
          "geo": {
           "bgcolor": "white",
           "lakecolor": "white",
           "landcolor": "#E5ECF6",
           "showlakes": true,
           "showland": true,
           "subunitcolor": "white"
          },
          "hoverlabel": {
           "align": "left"
          },
          "hovermode": "closest",
          "mapbox": {
           "style": "light"
          },
          "paper_bgcolor": "white",
          "plot_bgcolor": "#E5ECF6",
          "polar": {
           "angularaxis": {
            "gridcolor": "white",
            "linecolor": "white",
            "ticks": ""
           },
           "bgcolor": "#E5ECF6",
           "radialaxis": {
            "gridcolor": "white",
            "linecolor": "white",
            "ticks": ""
           }
          },
          "scene": {
           "xaxis": {
            "backgroundcolor": "#E5ECF6",
            "gridcolor": "white",
            "gridwidth": 2,
            "linecolor": "white",
            "showbackground": true,
            "ticks": "",
            "zerolinecolor": "white"
           },
           "yaxis": {
            "backgroundcolor": "#E5ECF6",
            "gridcolor": "white",
            "gridwidth": 2,
            "linecolor": "white",
            "showbackground": true,
            "ticks": "",
            "zerolinecolor": "white"
           },
           "zaxis": {
            "backgroundcolor": "#E5ECF6",
            "gridcolor": "white",
            "gridwidth": 2,
            "linecolor": "white",
            "showbackground": true,
            "ticks": "",
            "zerolinecolor": "white"
           }
          },
          "shapedefaults": {
           "line": {
            "color": "#2a3f5f"
           }
          },
          "ternary": {
           "aaxis": {
            "gridcolor": "white",
            "linecolor": "white",
            "ticks": ""
           },
           "baxis": {
            "gridcolor": "white",
            "linecolor": "white",
            "ticks": ""
           },
           "bgcolor": "#E5ECF6",
           "caxis": {
            "gridcolor": "white",
            "linecolor": "white",
            "ticks": ""
           }
          },
          "title": {
           "x": 0.05
          },
          "xaxis": {
           "automargin": true,
           "gridcolor": "white",
           "linecolor": "white",
           "ticks": "",
           "title": {
            "standoff": 15
           },
           "zerolinecolor": "white",
           "zerolinewidth": 2
          },
          "yaxis": {
           "automargin": true,
           "gridcolor": "white",
           "linecolor": "white",
           "ticks": "",
           "title": {
            "standoff": 15
           },
           "zerolinecolor": "white",
           "zerolinewidth": 2
          }
         }
        },
        "title": {
         "text": "10 YouTube Account that comments have most reply"
        },
        "xaxis": {
         "anchor": "y",
         "categoryarray": [
          "skinnyindonesian24",
          "LAVEN S",
          "Lois Krista",
          "RizkyMJ 727",
          "Zhara"
         ],
         "categoryorder": "array",
         "domain": [
          0,
          1
         ],
         "title": {
          "text": "Youtube_Account"
         }
        },
        "yaxis": {
         "anchor": "x",
         "domain": [
          0,
          1
         ],
         "title": {
          "text": "reply_count"
         }
        }
       }
      }
     },
     "metadata": {},
     "output_type": "display_data"
    }
   ],
   "source": [
    "account = df['Name'].value_counts().head(5)\n",
    "account = pd.DataFrame(data=account)\n",
    "account.reset_index(inplace=True)\n",
    "account = account.rename(columns = {\"index\" : \"Youtube_Account\",\n",
    "                                    'Name': \"reply_count\"})\n",
    "fig = px.bar(account, x='Youtube_Account', y='reply_count',\n",
    "            color='Youtube_Account', title='10 YouTube Account that comments have most reply')\n",
    "fig.show()"
   ]
  },
  {
   "cell_type": "markdown",
   "metadata": {},
   "source": [
    "### Peak time to comments"
   ]
  },
  {
   "cell_type": "code",
   "execution_count": 18,
   "metadata": {},
   "outputs": [],
   "source": [
    "data = df.copy()\n",
    "times = data['Time']"
   ]
  },
  {
   "cell_type": "code",
   "execution_count": 19,
   "metadata": {},
   "outputs": [
    {
     "data": {
      "text/plain": [
       "0    11:27:47\n",
       "1    04:08:18\n",
       "2    08:57:13\n",
       "3    16:42:13\n",
       "4    00:45:06\n",
       "Name: Period, dtype: object"
      ]
     },
     "execution_count": 19,
     "metadata": {},
     "output_type": "execute_result"
    }
   ],
   "source": [
    "def time(date):\n",
    "    Time = date.time()\n",
    "    return Time\n",
    "\n",
    "data['Period'] = times.map(time)\n",
    "data['Period'].head()"
   ]
  },
  {
   "cell_type": "code",
   "execution_count": 20,
   "metadata": {},
   "outputs": [],
   "source": [
    "data1 = data.copy()\n",
    "\n",
    "def time_groups(time):\n",
    "    if time >= datetime.time(0,0) and time <= datetime.time(1,0):\n",
    "        return '12 AM - 1 AM'\n",
    "    elif time >= datetime.time(1,0) and time <= datetime.time(2,0):\n",
    "        return '1 AM - 2 AM'\n",
    "    elif time >= datetime.time(2,0) and time <= datetime.time(3,0):\n",
    "        return '2 AM - 3 AM'\n",
    "    elif time >= datetime.time(3,0) and time <= datetime.time(4,0):\n",
    "        return '3 AM - 4AM'\n",
    "    elif time >= datetime.time(4,0) and time <= datetime.time(5,0):\n",
    "        return '4 AM - 5AM'\n",
    "    elif time >= datetime.time(5,0) and time <= datetime.time(6,0):\n",
    "        return '5 AM - 6 AM'\n",
    "    elif time >= datetime.time(6,0) and time <= datetime.time(7,0):\n",
    "        return '6 AM - 7 AM'\n",
    "    elif time >= datetime.time(7,0) and time <= datetime.time(8,0):\n",
    "        return '7 AM - 8 AM'\n",
    "    elif time >= datetime.time(8,0) and time <= datetime.time(9,0):\n",
    "        return '8 AM - 9 AM'\n",
    "    elif time >= datetime.time(9,0) and time <= datetime.time(10,0):\n",
    "        return '9 AM - 10 AM'\n",
    "    elif time >= datetime.time(10,0) and time <= datetime.time(11,0):\n",
    "        return '10 AM - 11 AM'\n",
    "    elif time >= datetime.time(11,0) and time <= datetime.time(12,0):\n",
    "        return '11 AM - 12PM'\n",
    "    elif time >= datetime.time(12,0) and time <= datetime.time(13,0):\n",
    "        return '12 PM - 1PM'\n",
    "    elif time >= datetime.time(13,0) and time <= datetime.time(14,0):\n",
    "        return '1 PM - 2 PM'\n",
    "    elif time >= datetime.time(14,0) and time <= datetime.time(15,0):\n",
    "        return '2 PM - 3 PM'\n",
    "    elif time >= datetime.time(15,0) and time <= datetime.time(16,0):\n",
    "        return '3 PM - 4 PM'\n",
    "    elif time >= datetime.time(16,0) and time <= datetime.time(17,0):\n",
    "        return '4 PM - 5 PM'\n",
    "    elif time >= datetime.time(17,0) and time <= datetime.time(18,0):\n",
    "        return '5 PM - 6 PM'\n",
    "    elif time >= datetime.time(18,0) and time <= datetime.time(19,0):\n",
    "        return '6 PM - 7 PM'\n",
    "    elif time >= datetime.time(19,0) and time <= datetime.time(20,0):\n",
    "        return '7 PM - 8 PM'\n",
    "    elif time >= datetime.time(20,0) and time <= datetime.time(21,0):\n",
    "        return '8 PM - 9 PM'\n",
    "    elif time >= datetime.time(21,0) and time <= datetime.time(22,0):\n",
    "        return '9 PM - 10 PM'\n",
    "    elif time >= datetime.time(22,0) and time <= datetime.time(23,0):\n",
    "        return '10 PM - 11 PM'\n",
    "    elif time >= datetime.time(23,0) and time <= datetime.time(23,59):\n",
    "        return '11 PM - 12 AM'\n",
    "    else:\n",
    "        return 'other'"
   ]
  },
  {
   "cell_type": "code",
   "execution_count": 21,
   "metadata": {},
   "outputs": [
    {
     "data": {
      "text/html": [
       "<div>\n",
       "<style scoped>\n",
       "    .dataframe tbody tr th:only-of-type {\n",
       "        vertical-align: middle;\n",
       "    }\n",
       "\n",
       "    .dataframe tbody tr th {\n",
       "        vertical-align: top;\n",
       "    }\n",
       "\n",
       "    .dataframe thead th {\n",
       "        text-align: right;\n",
       "    }\n",
       "</style>\n",
       "<table border=\"1\" class=\"dataframe\">\n",
       "  <thead>\n",
       "    <tr style=\"text-align: right;\">\n",
       "      <th></th>\n",
       "      <th>Video_Id</th>\n",
       "      <th>Tittle</th>\n",
       "      <th>Name</th>\n",
       "      <th>Comment</th>\n",
       "      <th>Comment_Id</th>\n",
       "      <th>Time</th>\n",
       "      <th>Likes</th>\n",
       "      <th>Reply_Count</th>\n",
       "      <th>Label</th>\n",
       "      <th>Length_Comment</th>\n",
       "      <th>Period</th>\n",
       "      <th>Period_groups</th>\n",
       "    </tr>\n",
       "  </thead>\n",
       "  <tbody>\n",
       "    <tr>\n",
       "      <th>0</th>\n",
       "      <td>AP0NACavjfk</td>\n",
       "      <td>SkinnyIndonesian24 | Prabowo VS Jokowi - Epic ...</td>\n",
       "      <td>Banda vlog</td>\n",
       "      <td>Apa salah mobale lejen pak soekarno</td>\n",
       "      <td>UgwmjTHzY2zMOXBg9F94AaABAg</td>\n",
       "      <td>2019-04-11 11:27:47</td>\n",
       "      <td>0</td>\n",
       "      <td>0</td>\n",
       "      <td>legitimate</td>\n",
       "      <td>35</td>\n",
       "      <td>11:27:47</td>\n",
       "      <td>11 AM - 12PM</td>\n",
       "    </tr>\n",
       "    <tr>\n",
       "      <th>1</th>\n",
       "      <td>AP0NACavjfk</td>\n",
       "      <td>SkinnyIndonesian24 | Prabowo VS Jokowi - Epic ...</td>\n",
       "      <td>kharisma setya kencana</td>\n",
       "      <td>👆👆👆👆👆👆</td>\n",
       "      <td>UgzbICRmksoeoGVFCzd4AaABAg</td>\n",
       "      <td>2019-04-09 04:08:18</td>\n",
       "      <td>0</td>\n",
       "      <td>0</td>\n",
       "      <td>legitimate</td>\n",
       "      <td>6</td>\n",
       "      <td>04:08:18</td>\n",
       "      <td>4 AM - 5AM</td>\n",
       "    </tr>\n",
       "    <tr>\n",
       "      <th>2</th>\n",
       "      <td>AP0NACavjfk</td>\n",
       "      <td>SkinnyIndonesian24 | Prabowo VS Jokowi - Epic ...</td>\n",
       "      <td>「GratioKunz」</td>\n",
       "      <td>Dan golput itu apa</td>\n",
       "      <td>UgxROKiw4EX5LyaG0lx4AaABAg</td>\n",
       "      <td>2019-04-18 08:57:13</td>\n",
       "      <td>0</td>\n",
       "      <td>0</td>\n",
       "      <td>legitimate</td>\n",
       "      <td>18</td>\n",
       "      <td>08:57:13</td>\n",
       "      <td>8 AM - 9 AM</td>\n",
       "    </tr>\n",
       "    <tr>\n",
       "      <th>3</th>\n",
       "      <td>AP0NACavjfk</td>\n",
       "      <td>SkinnyIndonesian24 | Prabowo VS Jokowi - Epic ...</td>\n",
       "      <td>Trestrantara WZ</td>\n",
       "      <td>Keren!!</td>\n",
       "      <td>UgymN9o3cZFXVPLKcjZ4AaABAg</td>\n",
       "      <td>2019-04-08 16:42:13</td>\n",
       "      <td>0</td>\n",
       "      <td>0</td>\n",
       "      <td>legitimate</td>\n",
       "      <td>7</td>\n",
       "      <td>16:42:13</td>\n",
       "      <td>4 PM - 5 PM</td>\n",
       "    </tr>\n",
       "    <tr>\n",
       "      <th>4</th>\n",
       "      <td>AP0NACavjfk</td>\n",
       "      <td>SkinnyIndonesian24 | Prabowo VS Jokowi - Epic ...</td>\n",
       "      <td>Heri Kurniawan</td>\n",
       "      <td>Pilih siapa presiden aku Prabowo-Sandi</td>\n",
       "      <td>Ugw9J8lP4lOg0t5yX0l4AaABAg</td>\n",
       "      <td>2019-04-18 00:45:06</td>\n",
       "      <td>1</td>\n",
       "      <td>0</td>\n",
       "      <td>legitimate</td>\n",
       "      <td>38</td>\n",
       "      <td>00:45:06</td>\n",
       "      <td>12 AM - 1 AM</td>\n",
       "    </tr>\n",
       "  </tbody>\n",
       "</table>\n",
       "</div>"
      ],
      "text/plain": [
       "      Video_Id                                             Tittle  \\\n",
       "0  AP0NACavjfk  SkinnyIndonesian24 | Prabowo VS Jokowi - Epic ...   \n",
       "1  AP0NACavjfk  SkinnyIndonesian24 | Prabowo VS Jokowi - Epic ...   \n",
       "2  AP0NACavjfk  SkinnyIndonesian24 | Prabowo VS Jokowi - Epic ...   \n",
       "3  AP0NACavjfk  SkinnyIndonesian24 | Prabowo VS Jokowi - Epic ...   \n",
       "4  AP0NACavjfk  SkinnyIndonesian24 | Prabowo VS Jokowi - Epic ...   \n",
       "\n",
       "                     Name                                 Comment  \\\n",
       "0              Banda vlog     Apa salah mobale lejen pak soekarno   \n",
       "1  kharisma setya kencana                                  👆👆👆👆👆👆   \n",
       "2            「GratioKunz」                      Dan golput itu apa   \n",
       "3         Trestrantara WZ                                 Keren!!   \n",
       "4          Heri Kurniawan  Pilih siapa presiden aku Prabowo-Sandi   \n",
       "\n",
       "                   Comment_Id                Time  Likes  Reply_Count  \\\n",
       "0  UgwmjTHzY2zMOXBg9F94AaABAg 2019-04-11 11:27:47      0            0   \n",
       "1  UgzbICRmksoeoGVFCzd4AaABAg 2019-04-09 04:08:18      0            0   \n",
       "2  UgxROKiw4EX5LyaG0lx4AaABAg 2019-04-18 08:57:13      0            0   \n",
       "3  UgymN9o3cZFXVPLKcjZ4AaABAg 2019-04-08 16:42:13      0            0   \n",
       "4  Ugw9J8lP4lOg0t5yX0l4AaABAg 2019-04-18 00:45:06      1            0   \n",
       "\n",
       "        Label  Length_Comment    Period Period_groups  \n",
       "0  legitimate              35  11:27:47  11 AM - 12PM  \n",
       "1  legitimate               6  04:08:18    4 AM - 5AM  \n",
       "2  legitimate              18  08:57:13   8 AM - 9 AM  \n",
       "3  legitimate               7  16:42:13   4 PM - 5 PM  \n",
       "4  legitimate              38  00:45:06  12 AM - 1 AM  "
      ]
     },
     "execution_count": 21,
     "metadata": {},
     "output_type": "execute_result"
    }
   ],
   "source": [
    "data1[\"Period_groups\"] = data1['Period'].map(time_groups)\n",
    "data1.head()"
   ]
  },
  {
   "cell_type": "code",
   "execution_count": 22,
   "metadata": {},
   "outputs": [
    {
     "data": {
      "application/vnd.plotly.v1+json": {
       "config": {
        "plotlyServerURL": "https://plot.ly"
       },
       "data": [
        {
         "alignmentgroup": "True",
         "hovertemplate": "Time=%{x}<br>Most Comment=%{y}<extra></extra>",
         "legendgroup": "1 PM - 2 PM",
         "marker": {
          "color": "#636efa",
          "pattern": {
           "shape": ""
          }
         },
         "name": "1 PM - 2 PM",
         "offsetgroup": "1 PM - 2 PM",
         "orientation": "v",
         "showlegend": true,
         "textposition": "auto",
         "type": "bar",
         "x": [
          "1 PM - 2 PM"
         ],
         "xaxis": "x",
         "y": [
          152
         ],
         "yaxis": "y"
        },
        {
         "alignmentgroup": "True",
         "hovertemplate": "Time=%{x}<br>Most Comment=%{y}<extra></extra>",
         "legendgroup": "2 PM - 3 PM",
         "marker": {
          "color": "#EF553B",
          "pattern": {
           "shape": ""
          }
         },
         "name": "2 PM - 3 PM",
         "offsetgroup": "2 PM - 3 PM",
         "orientation": "v",
         "showlegend": true,
         "textposition": "auto",
         "type": "bar",
         "x": [
          "2 PM - 3 PM"
         ],
         "xaxis": "x",
         "y": [
          150
         ],
         "yaxis": "y"
        },
        {
         "alignmentgroup": "True",
         "hovertemplate": "Time=%{x}<br>Most Comment=%{y}<extra></extra>",
         "legendgroup": "3 PM - 4 PM",
         "marker": {
          "color": "#00cc96",
          "pattern": {
           "shape": ""
          }
         },
         "name": "3 PM - 4 PM",
         "offsetgroup": "3 PM - 4 PM",
         "orientation": "v",
         "showlegend": true,
         "textposition": "auto",
         "type": "bar",
         "x": [
          "3 PM - 4 PM"
         ],
         "xaxis": "x",
         "y": [
          125
         ],
         "yaxis": "y"
        },
        {
         "alignmentgroup": "True",
         "hovertemplate": "Time=%{x}<br>Most Comment=%{y}<extra></extra>",
         "legendgroup": "12 PM - 1PM",
         "marker": {
          "color": "#ab63fa",
          "pattern": {
           "shape": ""
          }
         },
         "name": "12 PM - 1PM",
         "offsetgroup": "12 PM - 1PM",
         "orientation": "v",
         "showlegend": true,
         "textposition": "auto",
         "type": "bar",
         "x": [
          "12 PM - 1PM"
         ],
         "xaxis": "x",
         "y": [
          118
         ],
         "yaxis": "y"
        },
        {
         "alignmentgroup": "True",
         "hovertemplate": "Time=%{x}<br>Most Comment=%{y}<extra></extra>",
         "legendgroup": "7 AM - 8 AM",
         "marker": {
          "color": "#FFA15A",
          "pattern": {
           "shape": ""
          }
         },
         "name": "7 AM - 8 AM",
         "offsetgroup": "7 AM - 8 AM",
         "orientation": "v",
         "showlegend": true,
         "textposition": "auto",
         "type": "bar",
         "x": [
          "7 AM - 8 AM"
         ],
         "xaxis": "x",
         "y": [
          108
         ],
         "yaxis": "y"
        },
        {
         "alignmentgroup": "True",
         "hovertemplate": "Time=%{x}<br>Most Comment=%{y}<extra></extra>",
         "legendgroup": "10 AM - 11 AM",
         "marker": {
          "color": "#19d3f3",
          "pattern": {
           "shape": ""
          }
         },
         "name": "10 AM - 11 AM",
         "offsetgroup": "10 AM - 11 AM",
         "orientation": "v",
         "showlegend": true,
         "textposition": "auto",
         "type": "bar",
         "x": [
          "10 AM - 11 AM"
         ],
         "xaxis": "x",
         "y": [
          108
         ],
         "yaxis": "y"
        },
        {
         "alignmentgroup": "True",
         "hovertemplate": "Time=%{x}<br>Most Comment=%{y}<extra></extra>",
         "legendgroup": "8 AM - 9 AM",
         "marker": {
          "color": "#FF6692",
          "pattern": {
           "shape": ""
          }
         },
         "name": "8 AM - 9 AM",
         "offsetgroup": "8 AM - 9 AM",
         "orientation": "v",
         "showlegend": true,
         "textposition": "auto",
         "type": "bar",
         "x": [
          "8 AM - 9 AM"
         ],
         "xaxis": "x",
         "y": [
          107
         ],
         "yaxis": "y"
        },
        {
         "alignmentgroup": "True",
         "hovertemplate": "Time=%{x}<br>Most Comment=%{y}<extra></extra>",
         "legendgroup": "9 AM - 10 AM",
         "marker": {
          "color": "#B6E880",
          "pattern": {
           "shape": ""
          }
         },
         "name": "9 AM - 10 AM",
         "offsetgroup": "9 AM - 10 AM",
         "orientation": "v",
         "showlegend": true,
         "textposition": "auto",
         "type": "bar",
         "x": [
          "9 AM - 10 AM"
         ],
         "xaxis": "x",
         "y": [
          106
         ],
         "yaxis": "y"
        },
        {
         "alignmentgroup": "True",
         "hovertemplate": "Time=%{x}<br>Most Comment=%{y}<extra></extra>",
         "legendgroup": "6 AM - 7 AM",
         "marker": {
          "color": "#FF97FF",
          "pattern": {
           "shape": ""
          }
         },
         "name": "6 AM - 7 AM",
         "offsetgroup": "6 AM - 7 AM",
         "orientation": "v",
         "showlegend": true,
         "textposition": "auto",
         "type": "bar",
         "x": [
          "6 AM - 7 AM"
         ],
         "xaxis": "x",
         "y": [
          104
         ],
         "yaxis": "y"
        },
        {
         "alignmentgroup": "True",
         "hovertemplate": "Time=%{x}<br>Most Comment=%{y}<extra></extra>",
         "legendgroup": "11 AM - 12PM",
         "marker": {
          "color": "#FECB52",
          "pattern": {
           "shape": ""
          }
         },
         "name": "11 AM - 12PM",
         "offsetgroup": "11 AM - 12PM",
         "orientation": "v",
         "showlegend": true,
         "textposition": "auto",
         "type": "bar",
         "x": [
          "11 AM - 12PM"
         ],
         "xaxis": "x",
         "y": [
          98
         ],
         "yaxis": "y"
        }
       ],
       "layout": {
        "barmode": "relative",
        "height": 400,
        "legend": {
         "title": {
          "text": "Time"
         },
         "tracegroupgap": 0
        },
        "template": {
         "data": {
          "bar": [
           {
            "error_x": {
             "color": "#2a3f5f"
            },
            "error_y": {
             "color": "#2a3f5f"
            },
            "marker": {
             "line": {
              "color": "#E5ECF6",
              "width": 0.5
             },
             "pattern": {
              "fillmode": "overlay",
              "size": 10,
              "solidity": 0.2
             }
            },
            "type": "bar"
           }
          ],
          "barpolar": [
           {
            "marker": {
             "line": {
              "color": "#E5ECF6",
              "width": 0.5
             },
             "pattern": {
              "fillmode": "overlay",
              "size": 10,
              "solidity": 0.2
             }
            },
            "type": "barpolar"
           }
          ],
          "carpet": [
           {
            "aaxis": {
             "endlinecolor": "#2a3f5f",
             "gridcolor": "white",
             "linecolor": "white",
             "minorgridcolor": "white",
             "startlinecolor": "#2a3f5f"
            },
            "baxis": {
             "endlinecolor": "#2a3f5f",
             "gridcolor": "white",
             "linecolor": "white",
             "minorgridcolor": "white",
             "startlinecolor": "#2a3f5f"
            },
            "type": "carpet"
           }
          ],
          "choropleth": [
           {
            "colorbar": {
             "outlinewidth": 0,
             "ticks": ""
            },
            "type": "choropleth"
           }
          ],
          "contour": [
           {
            "colorbar": {
             "outlinewidth": 0,
             "ticks": ""
            },
            "colorscale": [
             [
              0,
              "#0d0887"
             ],
             [
              0.1111111111111111,
              "#46039f"
             ],
             [
              0.2222222222222222,
              "#7201a8"
             ],
             [
              0.3333333333333333,
              "#9c179e"
             ],
             [
              0.4444444444444444,
              "#bd3786"
             ],
             [
              0.5555555555555556,
              "#d8576b"
             ],
             [
              0.6666666666666666,
              "#ed7953"
             ],
             [
              0.7777777777777778,
              "#fb9f3a"
             ],
             [
              0.8888888888888888,
              "#fdca26"
             ],
             [
              1,
              "#f0f921"
             ]
            ],
            "type": "contour"
           }
          ],
          "contourcarpet": [
           {
            "colorbar": {
             "outlinewidth": 0,
             "ticks": ""
            },
            "type": "contourcarpet"
           }
          ],
          "heatmap": [
           {
            "colorbar": {
             "outlinewidth": 0,
             "ticks": ""
            },
            "colorscale": [
             [
              0,
              "#0d0887"
             ],
             [
              0.1111111111111111,
              "#46039f"
             ],
             [
              0.2222222222222222,
              "#7201a8"
             ],
             [
              0.3333333333333333,
              "#9c179e"
             ],
             [
              0.4444444444444444,
              "#bd3786"
             ],
             [
              0.5555555555555556,
              "#d8576b"
             ],
             [
              0.6666666666666666,
              "#ed7953"
             ],
             [
              0.7777777777777778,
              "#fb9f3a"
             ],
             [
              0.8888888888888888,
              "#fdca26"
             ],
             [
              1,
              "#f0f921"
             ]
            ],
            "type": "heatmap"
           }
          ],
          "heatmapgl": [
           {
            "colorbar": {
             "outlinewidth": 0,
             "ticks": ""
            },
            "colorscale": [
             [
              0,
              "#0d0887"
             ],
             [
              0.1111111111111111,
              "#46039f"
             ],
             [
              0.2222222222222222,
              "#7201a8"
             ],
             [
              0.3333333333333333,
              "#9c179e"
             ],
             [
              0.4444444444444444,
              "#bd3786"
             ],
             [
              0.5555555555555556,
              "#d8576b"
             ],
             [
              0.6666666666666666,
              "#ed7953"
             ],
             [
              0.7777777777777778,
              "#fb9f3a"
             ],
             [
              0.8888888888888888,
              "#fdca26"
             ],
             [
              1,
              "#f0f921"
             ]
            ],
            "type": "heatmapgl"
           }
          ],
          "histogram": [
           {
            "marker": {
             "pattern": {
              "fillmode": "overlay",
              "size": 10,
              "solidity": 0.2
             }
            },
            "type": "histogram"
           }
          ],
          "histogram2d": [
           {
            "colorbar": {
             "outlinewidth": 0,
             "ticks": ""
            },
            "colorscale": [
             [
              0,
              "#0d0887"
             ],
             [
              0.1111111111111111,
              "#46039f"
             ],
             [
              0.2222222222222222,
              "#7201a8"
             ],
             [
              0.3333333333333333,
              "#9c179e"
             ],
             [
              0.4444444444444444,
              "#bd3786"
             ],
             [
              0.5555555555555556,
              "#d8576b"
             ],
             [
              0.6666666666666666,
              "#ed7953"
             ],
             [
              0.7777777777777778,
              "#fb9f3a"
             ],
             [
              0.8888888888888888,
              "#fdca26"
             ],
             [
              1,
              "#f0f921"
             ]
            ],
            "type": "histogram2d"
           }
          ],
          "histogram2dcontour": [
           {
            "colorbar": {
             "outlinewidth": 0,
             "ticks": ""
            },
            "colorscale": [
             [
              0,
              "#0d0887"
             ],
             [
              0.1111111111111111,
              "#46039f"
             ],
             [
              0.2222222222222222,
              "#7201a8"
             ],
             [
              0.3333333333333333,
              "#9c179e"
             ],
             [
              0.4444444444444444,
              "#bd3786"
             ],
             [
              0.5555555555555556,
              "#d8576b"
             ],
             [
              0.6666666666666666,
              "#ed7953"
             ],
             [
              0.7777777777777778,
              "#fb9f3a"
             ],
             [
              0.8888888888888888,
              "#fdca26"
             ],
             [
              1,
              "#f0f921"
             ]
            ],
            "type": "histogram2dcontour"
           }
          ],
          "mesh3d": [
           {
            "colorbar": {
             "outlinewidth": 0,
             "ticks": ""
            },
            "type": "mesh3d"
           }
          ],
          "parcoords": [
           {
            "line": {
             "colorbar": {
              "outlinewidth": 0,
              "ticks": ""
             }
            },
            "type": "parcoords"
           }
          ],
          "pie": [
           {
            "automargin": true,
            "type": "pie"
           }
          ],
          "scatter": [
           {
            "fillpattern": {
             "fillmode": "overlay",
             "size": 10,
             "solidity": 0.2
            },
            "type": "scatter"
           }
          ],
          "scatter3d": [
           {
            "line": {
             "colorbar": {
              "outlinewidth": 0,
              "ticks": ""
             }
            },
            "marker": {
             "colorbar": {
              "outlinewidth": 0,
              "ticks": ""
             }
            },
            "type": "scatter3d"
           }
          ],
          "scattercarpet": [
           {
            "marker": {
             "colorbar": {
              "outlinewidth": 0,
              "ticks": ""
             }
            },
            "type": "scattercarpet"
           }
          ],
          "scattergeo": [
           {
            "marker": {
             "colorbar": {
              "outlinewidth": 0,
              "ticks": ""
             }
            },
            "type": "scattergeo"
           }
          ],
          "scattergl": [
           {
            "marker": {
             "colorbar": {
              "outlinewidth": 0,
              "ticks": ""
             }
            },
            "type": "scattergl"
           }
          ],
          "scattermapbox": [
           {
            "marker": {
             "colorbar": {
              "outlinewidth": 0,
              "ticks": ""
             }
            },
            "type": "scattermapbox"
           }
          ],
          "scatterpolar": [
           {
            "marker": {
             "colorbar": {
              "outlinewidth": 0,
              "ticks": ""
             }
            },
            "type": "scatterpolar"
           }
          ],
          "scatterpolargl": [
           {
            "marker": {
             "colorbar": {
              "outlinewidth": 0,
              "ticks": ""
             }
            },
            "type": "scatterpolargl"
           }
          ],
          "scatterternary": [
           {
            "marker": {
             "colorbar": {
              "outlinewidth": 0,
              "ticks": ""
             }
            },
            "type": "scatterternary"
           }
          ],
          "surface": [
           {
            "colorbar": {
             "outlinewidth": 0,
             "ticks": ""
            },
            "colorscale": [
             [
              0,
              "#0d0887"
             ],
             [
              0.1111111111111111,
              "#46039f"
             ],
             [
              0.2222222222222222,
              "#7201a8"
             ],
             [
              0.3333333333333333,
              "#9c179e"
             ],
             [
              0.4444444444444444,
              "#bd3786"
             ],
             [
              0.5555555555555556,
              "#d8576b"
             ],
             [
              0.6666666666666666,
              "#ed7953"
             ],
             [
              0.7777777777777778,
              "#fb9f3a"
             ],
             [
              0.8888888888888888,
              "#fdca26"
             ],
             [
              1,
              "#f0f921"
             ]
            ],
            "type": "surface"
           }
          ],
          "table": [
           {
            "cells": {
             "fill": {
              "color": "#EBF0F8"
             },
             "line": {
              "color": "white"
             }
            },
            "header": {
             "fill": {
              "color": "#C8D4E3"
             },
             "line": {
              "color": "white"
             }
            },
            "type": "table"
           }
          ]
         },
         "layout": {
          "annotationdefaults": {
           "arrowcolor": "#2a3f5f",
           "arrowhead": 0,
           "arrowwidth": 1
          },
          "autotypenumbers": "strict",
          "coloraxis": {
           "colorbar": {
            "outlinewidth": 0,
            "ticks": ""
           }
          },
          "colorscale": {
           "diverging": [
            [
             0,
             "#8e0152"
            ],
            [
             0.1,
             "#c51b7d"
            ],
            [
             0.2,
             "#de77ae"
            ],
            [
             0.3,
             "#f1b6da"
            ],
            [
             0.4,
             "#fde0ef"
            ],
            [
             0.5,
             "#f7f7f7"
            ],
            [
             0.6,
             "#e6f5d0"
            ],
            [
             0.7,
             "#b8e186"
            ],
            [
             0.8,
             "#7fbc41"
            ],
            [
             0.9,
             "#4d9221"
            ],
            [
             1,
             "#276419"
            ]
           ],
           "sequential": [
            [
             0,
             "#0d0887"
            ],
            [
             0.1111111111111111,
             "#46039f"
            ],
            [
             0.2222222222222222,
             "#7201a8"
            ],
            [
             0.3333333333333333,
             "#9c179e"
            ],
            [
             0.4444444444444444,
             "#bd3786"
            ],
            [
             0.5555555555555556,
             "#d8576b"
            ],
            [
             0.6666666666666666,
             "#ed7953"
            ],
            [
             0.7777777777777778,
             "#fb9f3a"
            ],
            [
             0.8888888888888888,
             "#fdca26"
            ],
            [
             1,
             "#f0f921"
            ]
           ],
           "sequentialminus": [
            [
             0,
             "#0d0887"
            ],
            [
             0.1111111111111111,
             "#46039f"
            ],
            [
             0.2222222222222222,
             "#7201a8"
            ],
            [
             0.3333333333333333,
             "#9c179e"
            ],
            [
             0.4444444444444444,
             "#bd3786"
            ],
            [
             0.5555555555555556,
             "#d8576b"
            ],
            [
             0.6666666666666666,
             "#ed7953"
            ],
            [
             0.7777777777777778,
             "#fb9f3a"
            ],
            [
             0.8888888888888888,
             "#fdca26"
            ],
            [
             1,
             "#f0f921"
            ]
           ]
          },
          "colorway": [
           "#636efa",
           "#EF553B",
           "#00cc96",
           "#ab63fa",
           "#FFA15A",
           "#19d3f3",
           "#FF6692",
           "#B6E880",
           "#FF97FF",
           "#FECB52"
          ],
          "font": {
           "color": "#2a3f5f"
          },
          "geo": {
           "bgcolor": "white",
           "lakecolor": "white",
           "landcolor": "#E5ECF6",
           "showlakes": true,
           "showland": true,
           "subunitcolor": "white"
          },
          "hoverlabel": {
           "align": "left"
          },
          "hovermode": "closest",
          "mapbox": {
           "style": "light"
          },
          "paper_bgcolor": "white",
          "plot_bgcolor": "#E5ECF6",
          "polar": {
           "angularaxis": {
            "gridcolor": "white",
            "linecolor": "white",
            "ticks": ""
           },
           "bgcolor": "#E5ECF6",
           "radialaxis": {
            "gridcolor": "white",
            "linecolor": "white",
            "ticks": ""
           }
          },
          "scene": {
           "xaxis": {
            "backgroundcolor": "#E5ECF6",
            "gridcolor": "white",
            "gridwidth": 2,
            "linecolor": "white",
            "showbackground": true,
            "ticks": "",
            "zerolinecolor": "white"
           },
           "yaxis": {
            "backgroundcolor": "#E5ECF6",
            "gridcolor": "white",
            "gridwidth": 2,
            "linecolor": "white",
            "showbackground": true,
            "ticks": "",
            "zerolinecolor": "white"
           },
           "zaxis": {
            "backgroundcolor": "#E5ECF6",
            "gridcolor": "white",
            "gridwidth": 2,
            "linecolor": "white",
            "showbackground": true,
            "ticks": "",
            "zerolinecolor": "white"
           }
          },
          "shapedefaults": {
           "line": {
            "color": "#2a3f5f"
           }
          },
          "ternary": {
           "aaxis": {
            "gridcolor": "white",
            "linecolor": "white",
            "ticks": ""
           },
           "baxis": {
            "gridcolor": "white",
            "linecolor": "white",
            "ticks": ""
           },
           "bgcolor": "#E5ECF6",
           "caxis": {
            "gridcolor": "white",
            "linecolor": "white",
            "ticks": ""
           }
          },
          "title": {
           "x": 0.05
          },
          "xaxis": {
           "automargin": true,
           "gridcolor": "white",
           "linecolor": "white",
           "ticks": "",
           "title": {
            "standoff": 15
           },
           "zerolinecolor": "white",
           "zerolinewidth": 2
          },
          "yaxis": {
           "automargin": true,
           "gridcolor": "white",
           "linecolor": "white",
           "ticks": "",
           "title": {
            "standoff": 15
           },
           "zerolinecolor": "white",
           "zerolinewidth": 2
          }
         }
        },
        "title": {
         "text": "Peak Time Comments Video"
        },
        "xaxis": {
         "anchor": "y",
         "categoryarray": [
          "1 PM - 2 PM",
          "2 PM - 3 PM",
          "3 PM - 4 PM",
          "12 PM - 1PM",
          "7 AM - 8 AM",
          "10 AM - 11 AM",
          "8 AM - 9 AM",
          "9 AM - 10 AM",
          "6 AM - 7 AM",
          "11 AM - 12PM"
         ],
         "categoryorder": "array",
         "domain": [
          0,
          1
         ],
         "title": {
          "text": "Time"
         }
        },
        "yaxis": {
         "anchor": "x",
         "domain": [
          0,
          1
         ],
         "title": {
          "text": "Most Comment"
         }
        }
       }
      }
     },
     "metadata": {},
     "output_type": "display_data"
    }
   ],
   "source": [
    "time_group = data1['Period_groups'].value_counts().head(10)\n",
    "time_group = pd.DataFrame(data=time_group)\n",
    "time_group.reset_index(inplace=True)\n",
    "time_group = time_group.rename(columns = {'index':'Time','Period_groups':'Most Comment'})\n",
    "time_group\n",
    "\n",
    "fig2 = px.bar(time_group, x='Time', y='Most Comment', \n",
    "              color='Time', title = 'Peak Time Comments Video', height=400)\n",
    "fig2.show()"
   ]
  },
  {
   "cell_type": "markdown",
   "metadata": {},
   "source": [
    "## Cleaning Text"
   ]
  },
  {
   "cell_type": "code",
   "execution_count": 23,
   "metadata": {},
   "outputs": [],
   "source": [
    "try_data_cleaning = df.copy()"
   ]
  },
  {
   "cell_type": "code",
   "execution_count": 24,
   "metadata": {},
   "outputs": [
    {
     "data": {
      "text/html": [
       "<div>\n",
       "<style scoped>\n",
       "    .dataframe tbody tr th:only-of-type {\n",
       "        vertical-align: middle;\n",
       "    }\n",
       "\n",
       "    .dataframe tbody tr th {\n",
       "        vertical-align: top;\n",
       "    }\n",
       "\n",
       "    .dataframe thead th {\n",
       "        text-align: right;\n",
       "    }\n",
       "</style>\n",
       "<table border=\"1\" class=\"dataframe\">\n",
       "  <thead>\n",
       "    <tr style=\"text-align: right;\">\n",
       "      <th></th>\n",
       "      <th>Video_Id</th>\n",
       "      <th>Tittle</th>\n",
       "      <th>Name</th>\n",
       "      <th>Comment</th>\n",
       "      <th>Comment_Id</th>\n",
       "      <th>Time</th>\n",
       "      <th>Likes</th>\n",
       "      <th>Reply_Count</th>\n",
       "      <th>Label</th>\n",
       "      <th>Length_Comment</th>\n",
       "    </tr>\n",
       "  </thead>\n",
       "  <tbody>\n",
       "    <tr>\n",
       "      <th>0</th>\n",
       "      <td>AP0NACavjfk</td>\n",
       "      <td>SkinnyIndonesian24 | Prabowo VS Jokowi - Epic ...</td>\n",
       "      <td>Banda vlog</td>\n",
       "      <td>Apa salah mobale lejen pak soekarno</td>\n",
       "      <td>UgwmjTHzY2zMOXBg9F94AaABAg</td>\n",
       "      <td>2019-04-11 11:27:47</td>\n",
       "      <td>0</td>\n",
       "      <td>0</td>\n",
       "      <td>legitimate</td>\n",
       "      <td>35</td>\n",
       "    </tr>\n",
       "    <tr>\n",
       "      <th>1</th>\n",
       "      <td>AP0NACavjfk</td>\n",
       "      <td>SkinnyIndonesian24 | Prabowo VS Jokowi - Epic ...</td>\n",
       "      <td>kharisma setya kencana</td>\n",
       "      <td>👆👆👆👆👆👆</td>\n",
       "      <td>UgzbICRmksoeoGVFCzd4AaABAg</td>\n",
       "      <td>2019-04-09 04:08:18</td>\n",
       "      <td>0</td>\n",
       "      <td>0</td>\n",
       "      <td>legitimate</td>\n",
       "      <td>6</td>\n",
       "    </tr>\n",
       "    <tr>\n",
       "      <th>2</th>\n",
       "      <td>AP0NACavjfk</td>\n",
       "      <td>SkinnyIndonesian24 | Prabowo VS Jokowi - Epic ...</td>\n",
       "      <td>「GratioKunz」</td>\n",
       "      <td>Dan golput itu apa</td>\n",
       "      <td>UgxROKiw4EX5LyaG0lx4AaABAg</td>\n",
       "      <td>2019-04-18 08:57:13</td>\n",
       "      <td>0</td>\n",
       "      <td>0</td>\n",
       "      <td>legitimate</td>\n",
       "      <td>18</td>\n",
       "    </tr>\n",
       "    <tr>\n",
       "      <th>3</th>\n",
       "      <td>AP0NACavjfk</td>\n",
       "      <td>SkinnyIndonesian24 | Prabowo VS Jokowi - Epic ...</td>\n",
       "      <td>Trestrantara WZ</td>\n",
       "      <td>Keren!!</td>\n",
       "      <td>UgymN9o3cZFXVPLKcjZ4AaABAg</td>\n",
       "      <td>2019-04-08 16:42:13</td>\n",
       "      <td>0</td>\n",
       "      <td>0</td>\n",
       "      <td>legitimate</td>\n",
       "      <td>7</td>\n",
       "    </tr>\n",
       "    <tr>\n",
       "      <th>4</th>\n",
       "      <td>AP0NACavjfk</td>\n",
       "      <td>SkinnyIndonesian24 | Prabowo VS Jokowi - Epic ...</td>\n",
       "      <td>Heri Kurniawan</td>\n",
       "      <td>Pilih siapa presiden aku Prabowo-Sandi</td>\n",
       "      <td>Ugw9J8lP4lOg0t5yX0l4AaABAg</td>\n",
       "      <td>2019-04-18 00:45:06</td>\n",
       "      <td>1</td>\n",
       "      <td>0</td>\n",
       "      <td>legitimate</td>\n",
       "      <td>38</td>\n",
       "    </tr>\n",
       "    <tr>\n",
       "      <th>...</th>\n",
       "      <td>...</td>\n",
       "      <td>...</td>\n",
       "      <td>...</td>\n",
       "      <td>...</td>\n",
       "      <td>...</td>\n",
       "      <td>...</td>\n",
       "      <td>...</td>\n",
       "      <td>...</td>\n",
       "      <td>...</td>\n",
       "      <td>...</td>\n",
       "    </tr>\n",
       "    <tr>\n",
       "      <th>1995</th>\n",
       "      <td>AP0NACavjfk</td>\n",
       "      <td>SkinnyIndonesian24 | Prabowo VS Jokowi - Epic ...</td>\n",
       "      <td>Inul Rosmeydar</td>\n",
       "      <td>\"Nih BPJS, ngantri lo sana\" :v</td>\n",
       "      <td>Ugxy8JCX7KI-f5xu_8V4AaABAg</td>\n",
       "      <td>2019-04-11 04:18:52</td>\n",
       "      <td>1</td>\n",
       "      <td>0</td>\n",
       "      <td>legitimate</td>\n",
       "      <td>30</td>\n",
       "    </tr>\n",
       "    <tr>\n",
       "      <th>1996</th>\n",
       "      <td>AP0NACavjfk</td>\n",
       "      <td>SkinnyIndonesian24 | Prabowo VS Jokowi - Epic ...</td>\n",
       "      <td>FAREL AKBAR ADITYA SARAGIH</td>\n",
       "      <td>Gua masih suka lihat ini</td>\n",
       "      <td>Ugz9_8SeFNbW0XDKetZ4AaABAg</td>\n",
       "      <td>2019-08-19 02:36:19</td>\n",
       "      <td>0</td>\n",
       "      <td>0</td>\n",
       "      <td>legitimate</td>\n",
       "      <td>24</td>\n",
       "    </tr>\n",
       "    <tr>\n",
       "      <th>1997</th>\n",
       "      <td>AP0NACavjfk</td>\n",
       "      <td>SkinnyIndonesian24 | Prabowo VS Jokowi - Epic ...</td>\n",
       "      <td>Craft Lisin</td>\n",
       "      <td>Saya udah 5 kali nonton ini</td>\n",
       "      <td>Ugwc9smbDefrf_4gjSd4AaABAg</td>\n",
       "      <td>2019-04-18 06:07:50</td>\n",
       "      <td>1</td>\n",
       "      <td>0</td>\n",
       "      <td>legitimate</td>\n",
       "      <td>27</td>\n",
       "    </tr>\n",
       "    <tr>\n",
       "      <th>1998</th>\n",
       "      <td>AP0NACavjfk</td>\n",
       "      <td>SkinnyIndonesian24 | Prabowo VS Jokowi - Epic ...</td>\n",
       "      <td>dahlia triyanti</td>\n",
       "      <td>saya pilih pak prabowo. of cores👌🏻👌🏻👌🏻</td>\n",
       "      <td>Ugznk3WicUm_9xAm4Zp4AaABAg</td>\n",
       "      <td>2019-04-12 08:26:32</td>\n",
       "      <td>0</td>\n",
       "      <td>0</td>\n",
       "      <td>legitimate</td>\n",
       "      <td>38</td>\n",
       "    </tr>\n",
       "    <tr>\n",
       "      <th>1999</th>\n",
       "      <td>AP0NACavjfk</td>\n",
       "      <td>SkinnyIndonesian24 | Prabowo VS Jokowi - Epic ...</td>\n",
       "      <td>muh ihsan fs</td>\n",
       "      <td>DASAR BONEKA PDI!!</td>\n",
       "      <td>Ugz4Kb670qDeWP4FfBl4AaABAg</td>\n",
       "      <td>2019-04-11 19:39:31</td>\n",
       "      <td>0</td>\n",
       "      <td>0</td>\n",
       "      <td>legitimate</td>\n",
       "      <td>18</td>\n",
       "    </tr>\n",
       "  </tbody>\n",
       "</table>\n",
       "<p>2000 rows × 10 columns</p>\n",
       "</div>"
      ],
      "text/plain": [
       "         Video_Id                                             Tittle  \\\n",
       "0     AP0NACavjfk  SkinnyIndonesian24 | Prabowo VS Jokowi - Epic ...   \n",
       "1     AP0NACavjfk  SkinnyIndonesian24 | Prabowo VS Jokowi - Epic ...   \n",
       "2     AP0NACavjfk  SkinnyIndonesian24 | Prabowo VS Jokowi - Epic ...   \n",
       "3     AP0NACavjfk  SkinnyIndonesian24 | Prabowo VS Jokowi - Epic ...   \n",
       "4     AP0NACavjfk  SkinnyIndonesian24 | Prabowo VS Jokowi - Epic ...   \n",
       "...           ...                                                ...   \n",
       "1995  AP0NACavjfk  SkinnyIndonesian24 | Prabowo VS Jokowi - Epic ...   \n",
       "1996  AP0NACavjfk  SkinnyIndonesian24 | Prabowo VS Jokowi - Epic ...   \n",
       "1997  AP0NACavjfk  SkinnyIndonesian24 | Prabowo VS Jokowi - Epic ...   \n",
       "1998  AP0NACavjfk  SkinnyIndonesian24 | Prabowo VS Jokowi - Epic ...   \n",
       "1999  AP0NACavjfk  SkinnyIndonesian24 | Prabowo VS Jokowi - Epic ...   \n",
       "\n",
       "                            Name                                 Comment  \\\n",
       "0                     Banda vlog     Apa salah mobale lejen pak soekarno   \n",
       "1         kharisma setya kencana                                  👆👆👆👆👆👆   \n",
       "2                   「GratioKunz」                      Dan golput itu apa   \n",
       "3                Trestrantara WZ                                 Keren!!   \n",
       "4                 Heri Kurniawan  Pilih siapa presiden aku Prabowo-Sandi   \n",
       "...                          ...                                     ...   \n",
       "1995              Inul Rosmeydar          \"Nih BPJS, ngantri lo sana\" :v   \n",
       "1996  FAREL AKBAR ADITYA SARAGIH                Gua masih suka lihat ini   \n",
       "1997                 Craft Lisin             Saya udah 5 kali nonton ini   \n",
       "1998             dahlia triyanti  saya pilih pak prabowo. of cores👌🏻👌🏻👌🏻   \n",
       "1999                muh ihsan fs                      DASAR BONEKA PDI!!   \n",
       "\n",
       "                      Comment_Id                Time  Likes  Reply_Count  \\\n",
       "0     UgwmjTHzY2zMOXBg9F94AaABAg 2019-04-11 11:27:47      0            0   \n",
       "1     UgzbICRmksoeoGVFCzd4AaABAg 2019-04-09 04:08:18      0            0   \n",
       "2     UgxROKiw4EX5LyaG0lx4AaABAg 2019-04-18 08:57:13      0            0   \n",
       "3     UgymN9o3cZFXVPLKcjZ4AaABAg 2019-04-08 16:42:13      0            0   \n",
       "4     Ugw9J8lP4lOg0t5yX0l4AaABAg 2019-04-18 00:45:06      1            0   \n",
       "...                          ...                 ...    ...          ...   \n",
       "1995  Ugxy8JCX7KI-f5xu_8V4AaABAg 2019-04-11 04:18:52      1            0   \n",
       "1996  Ugz9_8SeFNbW0XDKetZ4AaABAg 2019-08-19 02:36:19      0            0   \n",
       "1997  Ugwc9smbDefrf_4gjSd4AaABAg 2019-04-18 06:07:50      1            0   \n",
       "1998  Ugznk3WicUm_9xAm4Zp4AaABAg 2019-04-12 08:26:32      0            0   \n",
       "1999  Ugz4Kb670qDeWP4FfBl4AaABAg 2019-04-11 19:39:31      0            0   \n",
       "\n",
       "           Label  Length_Comment  \n",
       "0     legitimate              35  \n",
       "1     legitimate               6  \n",
       "2     legitimate              18  \n",
       "3     legitimate               7  \n",
       "4     legitimate              38  \n",
       "...          ...             ...  \n",
       "1995  legitimate              30  \n",
       "1996  legitimate              24  \n",
       "1997  legitimate              27  \n",
       "1998  legitimate              38  \n",
       "1999  legitimate              18  \n",
       "\n",
       "[2000 rows x 10 columns]"
      ]
     },
     "execution_count": 24,
     "metadata": {},
     "output_type": "execute_result"
    }
   ],
   "source": [
    "try_data_cleaning"
   ]
  },
  {
   "cell_type": "code",
   "execution_count": 27,
   "metadata": {},
   "outputs": [],
   "source": [
    "#NLTK_StopWords = stopwords.words('english')\n",
    "factory = StopWordRemoverFactory()\n",
    "Sastrawi_StopWords_id = factory.get_stop_words()"
   ]
  },
  {
   "cell_type": "code",
   "execution_count": 28,
   "metadata": {},
   "outputs": [
    {
     "name": "stdout",
     "output_type": "stream",
     "text": [
      "['yang', 'untuk', 'pada', 'ke', 'para', 'namun', 'menurut', 'antara', 'dia', 'dua', 'ia', 'seperti', 'jika', 'jika', 'sehingga', 'kembali', 'dan', 'tidak', 'ini', 'karena', 'kepada', 'oleh', 'saat', 'harus', 'sementara', 'setelah', 'belum', 'kami', 'sekitar', 'bagi', 'serta', 'di', 'dari', 'telah', 'sebagai', 'masih', 'hal', 'ketika', 'adalah', 'itu', 'dalam', 'bisa', 'bahwa', 'atau', 'hanya', 'kita', 'dengan', 'akan', 'juga', 'ada', 'mereka', 'sudah', 'saya', 'terhadap', 'secara', 'agar', 'lain', 'anda', 'begitu', 'mengapa', 'kenapa', 'yaitu', 'yakni', 'daripada', 'itulah', 'lagi', 'maka', 'tentang', 'demi', 'dimana', 'kemana', 'pula', 'sambil', 'sebelum', 'sesudah', 'supaya', 'guna', 'kah', 'pun', 'sampai', 'sedangkan', 'selagi', 'sementara', 'tetapi', 'apakah', 'kecuali', 'sebab', 'selain', 'seolah', 'seraya', 'seterusnya', 'tanpa', 'agak', 'boleh', 'dapat', 'dsb', 'dst', 'dll', 'dahulu', 'dulunya', 'anu', 'demikian', 'tapi', 'ingin', 'juga', 'nggak', 'mari', 'nanti', 'melainkan', 'oh', 'ok', 'seharusnya', 'sebetulnya', 'setiap', 'setidaknya', 'sesuatu', 'pasti', 'saja', 'toh', 'ya', 'walau', 'tolong', 'tentu', 'amat', 'apalagi', 'bagaimanapun']\n"
     ]
    }
   ],
   "source": [
    "print(Sastrawi_StopWords_id)"
   ]
  },
  {
   "cell_type": "code",
   "execution_count": 29,
   "metadata": {},
   "outputs": [],
   "source": [
    "Sastrawi_StopWords_id = set(Sastrawi_StopWords_id)"
   ]
  },
  {
   "cell_type": "code",
   "execution_count": null,
   "metadata": {},
   "outputs": [],
   "source": [
    "T = \"Saya suka makan nasi goreng\""
   ]
  },
  {
   "cell_type": "code",
   "execution_count": 94,
   "metadata": {},
   "outputs": [
    {
     "name": "stdout",
     "output_type": "stream",
     "text": [
      "Cleaning Text\n"
     ]
    },
    {
     "ename": "FileNotFoundError",
     "evalue": "[WinError 3] The system cannot find the path specified: './Stopwords'",
     "output_type": "error",
     "traceback": [
      "\u001b[1;31m---------------------------------------------------------------------------\u001b[0m",
      "\u001b[1;31mFileNotFoundError\u001b[0m                         Traceback (most recent call last)",
      "\u001b[1;32mC:\\Users\\ASUS~1.LAP\\AppData\\Local\\Temp/ipykernel_18188/3652986928.py\u001b[0m in \u001b[0;36m<module>\u001b[1;34m\u001b[0m\n\u001b[1;32m----> 1\u001b[1;33m \u001b[0mtry_data_cleaning\u001b[0m \u001b[1;33m=\u001b[0m \u001b[0mct\u001b[0m\u001b[1;33m.\u001b[0m\u001b[0mcleanningtext\u001b[0m\u001b[1;33m(\u001b[0m\u001b[0mdata\u001b[0m\u001b[1;33m=\u001b[0m\u001b[0mtry_data_cleaning\u001b[0m\u001b[1;33m,\u001b[0m \u001b[0mboth\u001b[0m \u001b[1;33m=\u001b[0m \u001b[1;32mTrue\u001b[0m\u001b[1;33m,\u001b[0m \u001b[0monlyclean\u001b[0m \u001b[1;33m=\u001b[0m \u001b[1;32mFalse\u001b[0m\u001b[1;33m,\u001b[0m \u001b[0msentiment\u001b[0m \u001b[1;33m=\u001b[0m \u001b[1;32mFalse\u001b[0m\u001b[1;33m)\u001b[0m\u001b[1;33m\u001b[0m\u001b[1;33m\u001b[0m\u001b[0m\n\u001b[0m",
      "\u001b[1;32mc:\\Users\\asus.LAPTOP-EVKQ06QK\\UIN\\Kuliah\\Skripsi\\CommentsDetection\\Code\\CleanText.py\u001b[0m in \u001b[0;36mcleanningtext\u001b[1;34m(data, both, onlyclean, sentiment)\u001b[0m\n\u001b[0;32m     10\u001b[0m     \u001b[0mfSlang\u001b[0m \u001b[1;33m=\u001b[0m \u001b[0mof\u001b[0m\u001b[1;33m.\u001b[0m\u001b[0mopenfile\u001b[0m\u001b[1;33m(\u001b[0m\u001b[0mpath\u001b[0m \u001b[1;33m=\u001b[0m \u001b[1;34m'../Slangwords'\u001b[0m\u001b[1;33m)\u001b[0m\u001b[1;33m\u001b[0m\u001b[1;33m\u001b[0m\u001b[0m\n\u001b[0;32m     11\u001b[0m     \u001b[0mbahasa\u001b[0m \u001b[1;33m=\u001b[0m \u001b[1;34m'id'\u001b[0m\u001b[1;33m\u001b[0m\u001b[1;33m\u001b[0m\u001b[0m\n\u001b[1;32m---> 12\u001b[1;33m     \u001b[0mstops\u001b[0m\u001b[1;33m,\u001b[0m \u001b[0mlemmatizer\u001b[0m \u001b[1;33m=\u001b[0m \u001b[0mtm\u001b[0m\u001b[1;33m.\u001b[0m\u001b[0mLoadStopWords\u001b[0m\u001b[1;33m(\u001b[0m\u001b[0mbahasa\u001b[0m\u001b[1;33m,\u001b[0m \u001b[0msentiment\u001b[0m \u001b[1;33m=\u001b[0m \u001b[0msentiment\u001b[0m\u001b[1;33m)\u001b[0m\u001b[1;33m\u001b[0m\u001b[1;33m\u001b[0m\u001b[0m\n\u001b[0m\u001b[0;32m     13\u001b[0m     \u001b[0msw\u001b[0m\u001b[1;33m=\u001b[0m\u001b[0mopen\u001b[0m\u001b[1;33m(\u001b[0m\u001b[0mfSlang\u001b[0m\u001b[1;33m,\u001b[0m\u001b[0mencoding\u001b[0m\u001b[1;33m=\u001b[0m\u001b[1;34m'utf-8'\u001b[0m\u001b[1;33m,\u001b[0m \u001b[0merrors\u001b[0m \u001b[1;33m=\u001b[0m\u001b[1;34m'ignore'\u001b[0m\u001b[1;33m,\u001b[0m \u001b[0mmode\u001b[0m\u001b[1;33m=\u001b[0m\u001b[1;34m'r'\u001b[0m\u001b[1;33m)\u001b[0m\u001b[1;33m;\u001b[0m\u001b[0mSlangS\u001b[0m\u001b[1;33m=\u001b[0m\u001b[0msw\u001b[0m\u001b[1;33m.\u001b[0m\u001b[0mreadlines\u001b[0m\u001b[1;33m(\u001b[0m\u001b[1;33m)\u001b[0m\u001b[1;33m;\u001b[0m\u001b[0msw\u001b[0m\u001b[1;33m.\u001b[0m\u001b[0mclose\u001b[0m\u001b[1;33m(\u001b[0m\u001b[1;33m)\u001b[0m\u001b[1;33m\u001b[0m\u001b[1;33m\u001b[0m\u001b[0m\n\u001b[0;32m     14\u001b[0m     \u001b[0mSlangS\u001b[0m \u001b[1;33m=\u001b[0m \u001b[1;33m{\u001b[0m\u001b[0mslang\u001b[0m\u001b[1;33m.\u001b[0m\u001b[0mstrip\u001b[0m\u001b[1;33m(\u001b[0m\u001b[1;33m)\u001b[0m\u001b[1;33m.\u001b[0m\u001b[0msplit\u001b[0m\u001b[1;33m(\u001b[0m\u001b[1;34m':'\u001b[0m\u001b[1;33m)\u001b[0m\u001b[1;33m[\u001b[0m\u001b[1;36m0\u001b[0m\u001b[1;33m]\u001b[0m\u001b[1;33m:\u001b[0m\u001b[0mslang\u001b[0m\u001b[1;33m.\u001b[0m\u001b[0mstrip\u001b[0m\u001b[1;33m(\u001b[0m\u001b[1;33m)\u001b[0m\u001b[1;33m.\u001b[0m\u001b[0msplit\u001b[0m\u001b[1;33m(\u001b[0m\u001b[1;34m':'\u001b[0m\u001b[1;33m)\u001b[0m\u001b[1;33m[\u001b[0m\u001b[1;36m1\u001b[0m\u001b[1;33m]\u001b[0m \u001b[1;32mfor\u001b[0m \u001b[0mslang\u001b[0m \u001b[1;32min\u001b[0m \u001b[0mSlangS\u001b[0m\u001b[1;33m}\u001b[0m\u001b[1;33m\u001b[0m\u001b[1;33m\u001b[0m\u001b[0m\n",
      "\u001b[1;32mc:\\Users\\asus.LAPTOP-EVKQ06QK\\UIN\\Kuliah\\Skripsi\\CommentsDetection\\Code\\TextMining.py\u001b[0m in \u001b[0;36mLoadStopWords\u001b[1;34m(lang, sentiment)\u001b[0m\n\u001b[0;32m     97\u001b[0m         \u001b[1;32melif\u001b[0m \u001b[0mL\u001b[0m \u001b[1;33m==\u001b[0m \u001b[1;34m'id'\u001b[0m \u001b[1;32mor\u001b[0m \u001b[0mL\u001b[0m \u001b[1;33m==\u001b[0m \u001b[1;34m'indonesia'\u001b[0m \u001b[1;32mor\u001b[0m \u001b[0mL\u001b[0m \u001b[1;33m==\u001b[0m \u001b[1;34m'indonesian'\u001b[0m\u001b[1;33m:\u001b[0m\u001b[1;33m\u001b[0m\u001b[1;33m\u001b[0m\u001b[0m\n\u001b[0;32m     98\u001b[0m             \u001b[0mlemmatizer\u001b[0m \u001b[1;33m=\u001b[0m \u001b[0mIndonesian\u001b[0m\u001b[1;33m(\u001b[0m\u001b[1;33m)\u001b[0m\u001b[1;33m\u001b[0m\u001b[1;33m\u001b[0m\u001b[0m\n\u001b[1;32m---> 99\u001b[1;33m             \u001b[0mstops\u001b[0m \u001b[1;33m=\u001b[0m \u001b[0mset\u001b[0m\u001b[1;33m(\u001b[0m\u001b[1;33m[\u001b[0m\u001b[0mt\u001b[0m\u001b[1;33m.\u001b[0m\u001b[0mstrip\u001b[0m\u001b[1;33m(\u001b[0m\u001b[1;33m)\u001b[0m \u001b[1;32mfor\u001b[0m \u001b[0mt\u001b[0m \u001b[1;32min\u001b[0m \u001b[0mLoadDocuments\u001b[0m\u001b[1;33m(\u001b[0m\u001b[0mfile\u001b[0m \u001b[1;33m=\u001b[0m \u001b[0mof\u001b[0m\u001b[1;33m.\u001b[0m\u001b[0mopenfile\u001b[0m\u001b[1;33m(\u001b[0m\u001b[0mpath\u001b[0m \u001b[1;33m=\u001b[0m \u001b[1;34m'./Stopwords'\u001b[0m\u001b[1;33m)\u001b[0m\u001b[1;33m)\u001b[0m\u001b[1;33m[\u001b[0m\u001b[1;36m0\u001b[0m\u001b[1;33m]\u001b[0m\u001b[1;33m]\u001b[0m\u001b[1;33m)\u001b[0m\u001b[1;33m\u001b[0m\u001b[1;33m\u001b[0m\u001b[0m\n\u001b[0m\u001b[0;32m    100\u001b[0m         \u001b[1;32melse\u001b[0m\u001b[1;33m:\u001b[0m\u001b[1;33m\u001b[0m\u001b[1;33m\u001b[0m\u001b[0m\n\u001b[0;32m    101\u001b[0m             \u001b[0mprint\u001b[0m\u001b[1;33m(\u001b[0m\u001b[1;34m'Warning! Languange not recognized. Empty stopword given'\u001b[0m\u001b[1;33m)\u001b[0m\u001b[1;33m\u001b[0m\u001b[1;33m\u001b[0m\u001b[0m\n",
      "\u001b[1;32mc:\\Users\\asus.LAPTOP-EVKQ06QK\\UIN\\Kuliah\\Skripsi\\CommentsDetection\\Code\\openewfile.py\u001b[0m in \u001b[0;36mopenfile\u001b[1;34m(path)\u001b[0m\n\u001b[0;32m      4\u001b[0m \u001b[1;32mdef\u001b[0m \u001b[0mopenfile\u001b[0m\u001b[1;33m(\u001b[0m\u001b[0mpath\u001b[0m\u001b[1;33m)\u001b[0m\u001b[1;33m:\u001b[0m\u001b[1;33m\u001b[0m\u001b[1;33m\u001b[0m\u001b[0m\n\u001b[0;32m      5\u001b[0m     \u001b[0mresult\u001b[0m \u001b[1;33m=\u001b[0m \u001b[1;33m[\u001b[0m\u001b[1;33m]\u001b[0m\u001b[1;33m\u001b[0m\u001b[1;33m\u001b[0m\u001b[0m\n\u001b[1;32m----> 6\u001b[1;33m     \u001b[0mfiles\u001b[0m \u001b[1;33m=\u001b[0m \u001b[0mos\u001b[0m\u001b[1;33m.\u001b[0m\u001b[0mlistdir\u001b[0m\u001b[1;33m(\u001b[0m\u001b[0mpath\u001b[0m\u001b[1;33m)\u001b[0m\u001b[1;33m\u001b[0m\u001b[1;33m\u001b[0m\u001b[0m\n\u001b[0m\u001b[0;32m      7\u001b[0m     \u001b[1;32mfor\u001b[0m \u001b[0mname\u001b[0m \u001b[1;32min\u001b[0m \u001b[0mfiles\u001b[0m\u001b[1;33m:\u001b[0m\u001b[1;33m\u001b[0m\u001b[1;33m\u001b[0m\u001b[0m\n\u001b[0;32m      8\u001b[0m         \u001b[0mresult\u001b[0m\u001b[1;33m.\u001b[0m\u001b[0mappend\u001b[0m\u001b[1;33m(\u001b[0m\u001b[0mname\u001b[0m\u001b[1;33m)\u001b[0m\u001b[1;33m\u001b[0m\u001b[1;33m\u001b[0m\u001b[0m\n",
      "\u001b[1;31mFileNotFoundError\u001b[0m: [WinError 3] The system cannot find the path specified: './Stopwords'"
     ]
    }
   ],
   "source": [
    "def cleaning(text):\n",
    "    text = str(text)\n",
    "    print(f\"Text Original : {text}\")\n",
    "\n",
    "    print(\"\\n\\n\")\n",
    "\n",
    "    #getHastags\n",
    "    getHashtags = re.compile(r\"#(\\w+)\")\n",
    "    pisahtags = re.compile(r'[A-Z][^A-Z]*')\n",
    "    t = text\n",
    "    tagS = re.findall(getHashtags, text)\n",
    "    for tag in tagS:\n",
    "        proper_words = ' '.join(re.findall(pisahtags, tagS[0]))\n",
    "        t = t.replace('#'+tag, proper_words)\n",
    "    \n",
    "\n",
    "    "
   ]
  },
  {
   "cell_type": "code",
   "execution_count": null,
   "metadata": {},
   "outputs": [],
   "source": []
  },
  {
   "cell_type": "code",
   "execution_count": null,
   "metadata": {},
   "outputs": [],
   "source": [
    "#convert text into lower case\n",
    "def convert_to_lower(text):\n",
    "    return text.lower()\n",
    "\n",
    "#remove_numbers on text\n",
    "def remove_numbers(text):\n",
    "    number_pattern = r'\\d+'\n",
    "    without_number = re.sub(pattern=number_pattern, repl=\" \", string=text)\n",
    "    return without_number\n",
    "\n",
    "def remove_punctuation(text):\n",
    "    return text.translate(str.maketrans('', '', string.punctuation))\n",
    "\n",
    "'''Komentar spam cenderung memiliki jumlah spasi yang banyak \n",
    "sehingga komentar tersebut memberikan dampak yang jauh lebih besar \n",
    "bagi pengguna yang membacanya'''\n",
    "def remove_extra_white_spaces(text):\n",
    "    single_char_pattern = re.compile(r'\\s+')\n",
    "    without_sc = re.sub(pattern=single_char_pattern, repl=' ', string=text)\n",
    "    return without_sc\n",
    "\n",
    "def remove_stopwords(text):\n",
    "    nlp = spacy.blank(\"id\")\n",
    "    removed = []\n",
    "    stop_words = list(STOP_WORDS)\n",
    "    Teks = nlp(text)\n",
    "    #tokens = token.text(Teks)\n",
    "    for i in range(len(Teks)):\n",
    "        if Teks [i] not in stop_words:\n",
    "            removed.append(Teks[i])\n",
    "    return \" \".join(removed)\n"
   ]
  },
  {
   "cell_type": "markdown",
   "metadata": {},
   "source": [
    "## Feature Extraction"
   ]
  },
  {
   "cell_type": "code",
   "execution_count": null,
   "metadata": {},
   "outputs": [],
   "source": [
    "def url_ratio(text):\n",
    "    urls = re.findall(\"http[s]?://(?:[a-zA-Z]|[0-9]|[$-_@.&+]|[!*\\(\\),]|(?:%[0-9a-fA-F][0-9a-fA-F]))+\", text)\n",
    "    url_char = 0\n",
    "    for url in urls:\n",
    "        url_char += len(url)\n",
    "    return url_char/len(text)\n",
    "\n",
    "def count_url(text):\n",
    "    urls = re.findall(\"http[s]?://(?:[a-zA-Z]|[0-9]|[$-_@.&+]|[!*\\(\\),]|(?:%[0-9a-fA-F][0-9a-fA-F]))+\", text)\n",
    "    return len(urls)\n",
    "\n",
    "def count_extra_white_spaces(text):\n",
    "    single_char_pattern = r'\\s+'\n",
    "    without_sc = re.findall(pattern=single_char_pattern, string=text)\n",
    "    return len(without_sc)"
   ]
  },
  {
   "cell_type": "code",
   "execution_count": null,
   "metadata": {},
   "outputs": [],
   "source": [
    "z = df['Comment'].apply(lambda x: count_extra_white_spaces(x))"
   ]
  },
  {
   "cell_type": "code",
   "execution_count": null,
   "metadata": {},
   "outputs": [],
   "source": [
    "z[402]"
   ]
  },
  {
   "cell_type": "code",
   "execution_count": null,
   "metadata": {},
   "outputs": [],
   "source": [
    "df.Comment[402]"
   ]
  },
  {
   "cell_type": "code",
   "execution_count": null,
   "metadata": {},
   "outputs": [],
   "source": [
    "df['Label'].value_counts()"
   ]
  },
  {
   "cell_type": "code",
   "execution_count": null,
   "metadata": {},
   "outputs": [],
   "source": [
    "ax = sns.countplot(df.Label)\n",
    "plt.xlabel('Label')"
   ]
  },
  {
   "cell_type": "code",
   "execution_count": null,
   "metadata": {},
   "outputs": [],
   "source": []
  }
 ],
 "metadata": {
  "kernelspec": {
   "display_name": "Python 3.7.11 ('base')",
   "language": "python",
   "name": "python3"
  },
  "language_info": {
   "codemirror_mode": {
    "name": "ipython",
    "version": 3
   },
   "file_extension": ".py",
   "mimetype": "text/x-python",
   "name": "python",
   "nbconvert_exporter": "python",
   "pygments_lexer": "ipython3",
   "version": "3.7.11"
  },
  "orig_nbformat": 4,
  "vscode": {
   "interpreter": {
    "hash": "7e470a54d1f627e8dbc62884db0ab90c1d014850c7adde4c19b633d3b1a7b860"
   }
  }
 },
 "nbformat": 4,
 "nbformat_minor": 2
}
