{
 "cells": [
  {
   "cell_type": "code",
   "execution_count": 1,
   "metadata": {},
   "outputs": [],
   "source": [
    "import pandas as pd\n",
    "import glob\n",
    "import os\n",
    "import regex as re\n",
    "import emoji\n",
    "#import string\n",
    "#import itertools\n",
    "#import docx2txt\n",
    "#from nltk.stem import WordNetLemmatizer\n",
    "#from nltk import sent_tokenize, word_tokenize\n",
    "#from spacy.lang.id import Indonesian\n",
    "#from html import unescape\n",
    "#from unidecode import unidecode\n",
    "import pandas as pd\n",
    "#from string import punctuation\n",
    "#from bz2 import BZ2File as bz2\n",
    "import numpy as np\n",
    "import time\n",
    "import seaborn as sns\n",
    "import datetime\n",
    "import spacy\n",
    "import matplotlib.pyplot as plt\n",
    "import plotly.graph_objs as go\n",
    "import plotly.express as px\n",
    "from tqdm import tqdm\n",
    "from textblob import TextBlob\n",
    "from Sastrawi.StopWordRemover.StopWordRemoverFactory import StopWordRemoverFactory\n",
    "#from spacy.lang.id import Indonesian\n",
    "#from spacy.lang.id.stop_words import STOP_WORDS\n",
    "import warnings; warnings.simplefilter('ignore')"
   ]
  },
  {
   "cell_type": "code",
   "execution_count": 2,
   "metadata": {},
   "outputs": [
    {
     "name": "stdout",
     "output_type": "stream",
     "text": [
      "<class 'pandas.core.frame.DataFrame'>\n",
      "RangeIndex: 2000 entries, 0 to 1999\n",
      "Data columns (total 9 columns):\n",
      " #   Column       Non-Null Count  Dtype  \n",
      "---  ------       --------------  -----  \n",
      " 0   Video_Id     2000 non-null   object \n",
      " 1   Tittle       2000 non-null   object \n",
      " 2   Name         2000 non-null   object \n",
      " 3   Comment      2000 non-null   object \n",
      " 4   Comment_Id   2000 non-null   object \n",
      " 5   Time         2000 non-null   object \n",
      " 6   Likes        2000 non-null   int64  \n",
      " 7   Reply_Count  1647 non-null   float64\n",
      " 8   Label        2000 non-null   object \n",
      "dtypes: float64(1), int64(1), object(7)\n",
      "memory usage: 140.8+ KB\n"
     ]
    }
   ],
   "source": [
    "df = pd.read_csv(\"..\\Data\\Data Label\\comments_Label_2000.csv\")\n",
    "df.info()"
   ]
  },
  {
   "cell_type": "code",
   "execution_count": 3,
   "metadata": {},
   "outputs": [],
   "source": [
    "df[\"Label\"] = df[\"Label\"].astype(\"category\")\n",
    "df[\"Time\"] = df[\"Time\"].astype(\"datetime64\")"
   ]
  },
  {
   "cell_type": "code",
   "execution_count": 4,
   "metadata": {},
   "outputs": [
    {
     "data": {
      "text/html": [
       "<div>\n",
       "<style scoped>\n",
       "    .dataframe tbody tr th:only-of-type {\n",
       "        vertical-align: middle;\n",
       "    }\n",
       "\n",
       "    .dataframe tbody tr th {\n",
       "        vertical-align: top;\n",
       "    }\n",
       "\n",
       "    .dataframe thead th {\n",
       "        text-align: right;\n",
       "    }\n",
       "</style>\n",
       "<table border=\"1\" class=\"dataframe\">\n",
       "  <thead>\n",
       "    <tr style=\"text-align: right;\">\n",
       "      <th></th>\n",
       "      <th>Video_Id</th>\n",
       "      <th>Tittle</th>\n",
       "      <th>Name</th>\n",
       "      <th>Comment</th>\n",
       "      <th>Comment_Id</th>\n",
       "      <th>Time</th>\n",
       "      <th>Likes</th>\n",
       "      <th>Reply_Count</th>\n",
       "      <th>Label</th>\n",
       "    </tr>\n",
       "  </thead>\n",
       "  <tbody>\n",
       "    <tr>\n",
       "      <th>0</th>\n",
       "      <td>AP0NACavjfk</td>\n",
       "      <td>SkinnyIndonesian24 | Prabowo VS Jokowi - Epic ...</td>\n",
       "      <td>Banda vlog</td>\n",
       "      <td>Apa salah mobale lejen pak soekarno</td>\n",
       "      <td>UgwmjTHzY2zMOXBg9F94AaABAg</td>\n",
       "      <td>2019-04-11 11:27:47</td>\n",
       "      <td>0</td>\n",
       "      <td>0.0</td>\n",
       "      <td>spam</td>\n",
       "    </tr>\n",
       "    <tr>\n",
       "      <th>1</th>\n",
       "      <td>AP0NACavjfk</td>\n",
       "      <td>SkinnyIndonesian24 | Prabowo VS Jokowi - Epic ...</td>\n",
       "      <td>kharisma setya kencana</td>\n",
       "      <td>👆👆👆👆👆👆</td>\n",
       "      <td>UgzbICRmksoeoGVFCzd4AaABAg</td>\n",
       "      <td>2019-04-09 04:08:18</td>\n",
       "      <td>0</td>\n",
       "      <td>0.0</td>\n",
       "      <td>legitimate</td>\n",
       "    </tr>\n",
       "    <tr>\n",
       "      <th>2</th>\n",
       "      <td>AP0NACavjfk</td>\n",
       "      <td>SkinnyIndonesian24 | Prabowo VS Jokowi - Epic ...</td>\n",
       "      <td>「GratioKunz」</td>\n",
       "      <td>Dan golput itu apa</td>\n",
       "      <td>UgxROKiw4EX5LyaG0lx4AaABAg</td>\n",
       "      <td>2019-04-18 08:57:13</td>\n",
       "      <td>0</td>\n",
       "      <td>0.0</td>\n",
       "      <td>legitimate</td>\n",
       "    </tr>\n",
       "    <tr>\n",
       "      <th>3</th>\n",
       "      <td>AP0NACavjfk</td>\n",
       "      <td>SkinnyIndonesian24 | Prabowo VS Jokowi - Epic ...</td>\n",
       "      <td>Trestrantara WZ</td>\n",
       "      <td>Keren!!</td>\n",
       "      <td>UgymN9o3cZFXVPLKcjZ4AaABAg</td>\n",
       "      <td>2019-04-08 16:42:13</td>\n",
       "      <td>0</td>\n",
       "      <td>0.0</td>\n",
       "      <td>legitimate</td>\n",
       "    </tr>\n",
       "    <tr>\n",
       "      <th>4</th>\n",
       "      <td>AP0NACavjfk</td>\n",
       "      <td>SkinnyIndonesian24 | Prabowo VS Jokowi - Epic ...</td>\n",
       "      <td>Heri Kurniawan</td>\n",
       "      <td>Pilih siapa presiden aku Prabowo-Sandi</td>\n",
       "      <td>Ugw9J8lP4lOg0t5yX0l4AaABAg</td>\n",
       "      <td>2019-04-18 00:45:06</td>\n",
       "      <td>1</td>\n",
       "      <td>0.0</td>\n",
       "      <td>legitimate</td>\n",
       "    </tr>\n",
       "  </tbody>\n",
       "</table>\n",
       "</div>"
      ],
      "text/plain": [
       "      Video_Id                                             Tittle  \\\n",
       "0  AP0NACavjfk  SkinnyIndonesian24 | Prabowo VS Jokowi - Epic ...   \n",
       "1  AP0NACavjfk  SkinnyIndonesian24 | Prabowo VS Jokowi - Epic ...   \n",
       "2  AP0NACavjfk  SkinnyIndonesian24 | Prabowo VS Jokowi - Epic ...   \n",
       "3  AP0NACavjfk  SkinnyIndonesian24 | Prabowo VS Jokowi - Epic ...   \n",
       "4  AP0NACavjfk  SkinnyIndonesian24 | Prabowo VS Jokowi - Epic ...   \n",
       "\n",
       "                     Name                                 Comment  \\\n",
       "0              Banda vlog     Apa salah mobale lejen pak soekarno   \n",
       "1  kharisma setya kencana                                  👆👆👆👆👆👆   \n",
       "2            「GratioKunz」                      Dan golput itu apa   \n",
       "3         Trestrantara WZ                                 Keren!!   \n",
       "4          Heri Kurniawan  Pilih siapa presiden aku Prabowo-Sandi   \n",
       "\n",
       "                   Comment_Id                Time  Likes  Reply_Count  \\\n",
       "0  UgwmjTHzY2zMOXBg9F94AaABAg 2019-04-11 11:27:47      0          0.0   \n",
       "1  UgzbICRmksoeoGVFCzd4AaABAg 2019-04-09 04:08:18      0          0.0   \n",
       "2  UgxROKiw4EX5LyaG0lx4AaABAg 2019-04-18 08:57:13      0          0.0   \n",
       "3  UgymN9o3cZFXVPLKcjZ4AaABAg 2019-04-08 16:42:13      0          0.0   \n",
       "4  Ugw9J8lP4lOg0t5yX0l4AaABAg 2019-04-18 00:45:06      1          0.0   \n",
       "\n",
       "        Label  \n",
       "0        spam  \n",
       "1  legitimate  \n",
       "2  legitimate  \n",
       "3  legitimate  \n",
       "4  legitimate  "
      ]
     },
     "execution_count": 4,
     "metadata": {},
     "output_type": "execute_result"
    }
   ],
   "source": [
    "df.head()"
   ]
  },
  {
   "cell_type": "code",
   "execution_count": 5,
   "metadata": {},
   "outputs": [
    {
     "data": {
      "text/plain": [
       "Video_Id         0\n",
       "Tittle           0\n",
       "Name             0\n",
       "Comment          0\n",
       "Comment_Id       0\n",
       "Time             0\n",
       "Likes            0\n",
       "Reply_Count    353\n",
       "Label            0\n",
       "dtype: int64"
      ]
     },
     "execution_count": 5,
     "metadata": {},
     "output_type": "execute_result"
    }
   ],
   "source": [
    "df.isnull().sum()"
   ]
  },
  {
   "cell_type": "code",
   "execution_count": 6,
   "metadata": {},
   "outputs": [
    {
     "data": {
      "image/png": "[encoded data removed]",
      "text/plain": [
       "<Figure size 432x288 with 1 Axes>"
      ]
     },
     "metadata": {
      "needs_background": "light"
     },
     "output_type": "display_data"
    }
   ],
   "source": [
    "p = sns.distplot(df['Reply_Count'], kde=True, rug=True)"
   ]
  },
  {
   "cell_type": "code",
   "execution_count": 7,
   "metadata": {},
   "outputs": [],
   "source": [
    "df['Reply_Count'].fillna(df['Reply_Count'].median(),inplace=True)"
   ]
  },
  {
   "cell_type": "code",
   "execution_count": 8,
   "metadata": {},
   "outputs": [
    {
     "data": {
      "text/plain": [
       "Video_Id       0\n",
       "Tittle         0\n",
       "Name           0\n",
       "Comment        0\n",
       "Comment_Id     0\n",
       "Time           0\n",
       "Likes          0\n",
       "Reply_Count    0\n",
       "Label          0\n",
       "dtype: int64"
      ]
     },
     "execution_count": 8,
     "metadata": {},
     "output_type": "execute_result"
    }
   ],
   "source": [
    "df.isnull().sum()"
   ]
  },
  {
   "cell_type": "code",
   "execution_count": 9,
   "metadata": {},
   "outputs": [],
   "source": [
    "df[\"Reply_Count\"] = df[\"Reply_Count\"].astype(\"int64\")"
   ]
  },
  {
   "cell_type": "code",
   "execution_count": 10,
   "metadata": {},
   "outputs": [
    {
     "name": "stdout",
     "output_type": "stream",
     "text": [
      "<class 'pandas.core.frame.DataFrame'>\n",
      "RangeIndex: 2000 entries, 0 to 1999\n",
      "Data columns (total 9 columns):\n",
      " #   Column       Non-Null Count  Dtype         \n",
      "---  ------       --------------  -----         \n",
      " 0   Video_Id     2000 non-null   object        \n",
      " 1   Tittle       2000 non-null   object        \n",
      " 2   Name         2000 non-null   object        \n",
      " 3   Comment      2000 non-null   object        \n",
      " 4   Comment_Id   2000 non-null   object        \n",
      " 5   Time         2000 non-null   datetime64[ns]\n",
      " 6   Likes        2000 non-null   int64         \n",
      " 7   Reply_Count  2000 non-null   int64         \n",
      " 8   Label        2000 non-null   category      \n",
      "dtypes: category(1), datetime64[ns](1), int64(2), object(5)\n",
      "memory usage: 127.2+ KB\n"
     ]
    }
   ],
   "source": [
    "df.info()"
   ]
  },
  {
   "cell_type": "code",
   "execution_count": 11,
   "metadata": {},
   "outputs": [],
   "source": [
    "#count comments words length\n",
    "def count_length(text):\n",
    "    return len(text)"
   ]
  },
  {
   "cell_type": "code",
   "execution_count": 12,
   "metadata": {},
   "outputs": [],
   "source": [
    "df['Length_Comment'] = df['Comment'].apply(lambda x: count_length(x))"
   ]
  },
  {
   "cell_type": "code",
   "execution_count": 13,
   "metadata": {},
   "outputs": [
    {
     "data": {
      "text/html": [
       "<div>\n",
       "<style scoped>\n",
       "    .dataframe tbody tr th:only-of-type {\n",
       "        vertical-align: middle;\n",
       "    }\n",
       "\n",
       "    .dataframe tbody tr th {\n",
       "        vertical-align: top;\n",
       "    }\n",
       "\n",
       "    .dataframe thead th {\n",
       "        text-align: right;\n",
       "    }\n",
       "</style>\n",
       "<table border=\"1\" class=\"dataframe\">\n",
       "  <thead>\n",
       "    <tr style=\"text-align: right;\">\n",
       "      <th></th>\n",
       "      <th>Video_Id</th>\n",
       "      <th>Tittle</th>\n",
       "      <th>Name</th>\n",
       "      <th>Comment</th>\n",
       "      <th>Comment_Id</th>\n",
       "      <th>Time</th>\n",
       "      <th>Likes</th>\n",
       "      <th>Reply_Count</th>\n",
       "      <th>Label</th>\n",
       "      <th>Length_Comment</th>\n",
       "    </tr>\n",
       "  </thead>\n",
       "  <tbody>\n",
       "    <tr>\n",
       "      <th>420</th>\n",
       "      <td>AP0NACavjfk</td>\n",
       "      <td>SkinnyIndonesian24 | Prabowo VS Jokowi - Epic ...</td>\n",
       "      <td>Muhammad Arief Zaky</td>\n",
       "      <td>Konten ini lebih menghibur dan berbobot daripa...</td>\n",
       "      <td>UgyZ_t26GTtI649SpKR4AaABAg</td>\n",
       "      <td>2019-04-10 03:54:04</td>\n",
       "      <td>44</td>\n",
       "      <td>0</td>\n",
       "      <td>legitimate</td>\n",
       "      <td>87</td>\n",
       "    </tr>\n",
       "    <tr>\n",
       "      <th>32</th>\n",
       "      <td>AP0NACavjfk</td>\n",
       "      <td>SkinnyIndonesian24 | Prabowo VS Jokowi - Epic ...</td>\n",
       "      <td>Ilham Satria</td>\n",
       "      <td>The best content everrrrr.........</td>\n",
       "      <td>UgyGpmStmBr9KtDb_yh4AaABAg</td>\n",
       "      <td>2020-06-13 15:01:09</td>\n",
       "      <td>148</td>\n",
       "      <td>0</td>\n",
       "      <td>legitimate</td>\n",
       "      <td>34</td>\n",
       "    </tr>\n",
       "    <tr>\n",
       "      <th>630</th>\n",
       "      <td>AP0NACavjfk</td>\n",
       "      <td>SkinnyIndonesian24 | Prabowo VS Jokowi - Epic ...</td>\n",
       "      <td>BORAX GAMING</td>\n",
       "      <td>Bapak Tau Apa Soal Ngantri</td>\n",
       "      <td>UgxfmxtD_0CUjTcxuih4AaABAg</td>\n",
       "      <td>2019-05-07 15:46:51</td>\n",
       "      <td>1</td>\n",
       "      <td>0</td>\n",
       "      <td>legitimate</td>\n",
       "      <td>26</td>\n",
       "    </tr>\n",
       "    <tr>\n",
       "      <th>1617</th>\n",
       "      <td>AP0NACavjfk</td>\n",
       "      <td>SkinnyIndonesian24 | Prabowo VS Jokowi - Epic ...</td>\n",
       "      <td>Geoofanii FP</td>\n",
       "      <td>Saya datang dari masa lampau</td>\n",
       "      <td>UgxmFhJ5zp6mu2pk0eR4AaABAg</td>\n",
       "      <td>2019-04-13 11:57:34</td>\n",
       "      <td>1</td>\n",
       "      <td>0</td>\n",
       "      <td>legitimate</td>\n",
       "      <td>28</td>\n",
       "    </tr>\n",
       "    <tr>\n",
       "      <th>542</th>\n",
       "      <td>AP0NACavjfk</td>\n",
       "      <td>SkinnyIndonesian24 | Prabowo VS Jokowi - Epic ...</td>\n",
       "      <td>MASBOY 128</td>\n",
       "      <td>Pecah bngt</td>\n",
       "      <td>Ugz1KayX6uy63ak_8RR4AaABAg</td>\n",
       "      <td>2019-04-09 10:02:50</td>\n",
       "      <td>0</td>\n",
       "      <td>0</td>\n",
       "      <td>legitimate</td>\n",
       "      <td>10</td>\n",
       "    </tr>\n",
       "  </tbody>\n",
       "</table>\n",
       "</div>"
      ],
      "text/plain": [
       "         Video_Id                                             Tittle  \\\n",
       "420   AP0NACavjfk  SkinnyIndonesian24 | Prabowo VS Jokowi - Epic ...   \n",
       "32    AP0NACavjfk  SkinnyIndonesian24 | Prabowo VS Jokowi - Epic ...   \n",
       "630   AP0NACavjfk  SkinnyIndonesian24 | Prabowo VS Jokowi - Epic ...   \n",
       "1617  AP0NACavjfk  SkinnyIndonesian24 | Prabowo VS Jokowi - Epic ...   \n",
       "542   AP0NACavjfk  SkinnyIndonesian24 | Prabowo VS Jokowi - Epic ...   \n",
       "\n",
       "                     Name                                            Comment  \\\n",
       "420   Muhammad Arief Zaky  Konten ini lebih menghibur dan berbobot daripa...   \n",
       "32           Ilham Satria                 The best content everrrrr.........   \n",
       "630          BORAX GAMING                         Bapak Tau Apa Soal Ngantri   \n",
       "1617         Geoofanii FP                       Saya datang dari masa lampau   \n",
       "542            MASBOY 128                                         Pecah bngt   \n",
       "\n",
       "                      Comment_Id                Time  Likes  Reply_Count  \\\n",
       "420   UgyZ_t26GTtI649SpKR4AaABAg 2019-04-10 03:54:04     44            0   \n",
       "32    UgyGpmStmBr9KtDb_yh4AaABAg 2020-06-13 15:01:09    148            0   \n",
       "630   UgxfmxtD_0CUjTcxuih4AaABAg 2019-05-07 15:46:51      1            0   \n",
       "1617  UgxmFhJ5zp6mu2pk0eR4AaABAg 2019-04-13 11:57:34      1            0   \n",
       "542   Ugz1KayX6uy63ak_8RR4AaABAg 2019-04-09 10:02:50      0            0   \n",
       "\n",
       "           Label  Length_Comment  \n",
       "420   legitimate              87  \n",
       "32    legitimate              34  \n",
       "630   legitimate              26  \n",
       "1617  legitimate              28  \n",
       "542   legitimate              10  "
      ]
     },
     "execution_count": 13,
     "metadata": {},
     "output_type": "execute_result"
    }
   ],
   "source": [
    "df.sample(5)"
   ]
  },
  {
   "cell_type": "markdown",
   "metadata": {},
   "source": [
    "## EDA"
   ]
  },
  {
   "cell_type": "markdown",
   "metadata": {},
   "source": [
    "### Comments that got most "
   ]
  },
  {
   "cell_type": "code",
   "execution_count": 10,
   "metadata": {},
   "outputs": [
    {
     "name": "stdout",
     "output_type": "stream",
     "text": [
      "Komentar dengan like terbanyak adalah TERIMAKASIH SUDAH MENEMANI KAMI SEMUA SELAMA SEPULUH TAHUN\n",
      "\n",
      "#thanksforskinnyindonesian24​\n"
     ]
    }
   ],
   "source": [
    "like = df[df['Likes']==df['Likes'].max()]\n",
    "print(\"Komentar dengan like terbanyak adalah {}\".format(like.iloc[0].Comment))"
   ]
  },
  {
   "cell_type": "markdown",
   "metadata": {},
   "source": [
    "### 10 YouTube Account that comments have most reply"
   ]
  },
  {
   "cell_type": "code",
   "execution_count": 11,
   "metadata": {},
   "outputs": [
    {
     "data": {
      "application/vnd.plotly.v1+json": {
       "config": {
        "plotlyServerURL": "https://plot.ly"
       },
       "data": [
        {
         "alignmentgroup": "True",
         "hovertemplate": "Youtube_Account=%{x}<br>reply_count=%{y}<extra></extra>",
         "legendgroup": "skinnyindonesian24",
         "marker": {
          "color": "#636efa",
          "pattern": {
           "shape": ""
          }
         },
         "name": "skinnyindonesian24",
         "offsetgroup": "skinnyindonesian24",
         "orientation": "v",
         "showlegend": true,
         "textposition": "auto",
         "type": "bar",
         "x": [
          "skinnyindonesian24"
         ],
         "xaxis": "x",
         "y": [
          7
         ],
         "yaxis": "y"
        },
        {
         "alignmentgroup": "True",
         "hovertemplate": "Youtube_Account=%{x}<br>reply_count=%{y}<extra></extra>",
         "legendgroup": "leon_ putra",
         "marker": {
          "color": "#EF553B",
          "pattern": {
           "shape": ""
          }
         },
         "name": "leon_ putra",
         "offsetgroup": "leon_ putra",
         "orientation": "v",
         "showlegend": true,
         "textposition": "auto",
         "type": "bar",
         "x": [
          "leon_ putra"
         ],
         "xaxis": "x",
         "y": [
          2
         ],
         "yaxis": "y"
        },
        {
         "alignmentgroup": "True",
         "hovertemplate": "Youtube_Account=%{x}<br>reply_count=%{y}<extra></extra>",
         "legendgroup": "IzkvD",
         "marker": {
          "color": "#00cc96",
          "pattern": {
           "shape": ""
          }
         },
         "name": "IzkvD",
         "offsetgroup": "IzkvD",
         "orientation": "v",
         "showlegend": true,
         "textposition": "auto",
         "type": "bar",
         "x": [
          "IzkvD"
         ],
         "xaxis": "x",
         "y": [
          2
         ],
         "yaxis": "y"
        },
        {
         "alignmentgroup": "True",
         "hovertemplate": "Youtube_Account=%{x}<br>reply_count=%{y}<extra></extra>",
         "legendgroup": "Dewi Lestari",
         "marker": {
          "color": "#ab63fa",
          "pattern": {
           "shape": ""
          }
         },
         "name": "Dewi Lestari",
         "offsetgroup": "Dewi Lestari",
         "orientation": "v",
         "showlegend": true,
         "textposition": "auto",
         "type": "bar",
         "x": [
          "Dewi Lestari"
         ],
         "xaxis": "x",
         "y": [
          2
         ],
         "yaxis": "y"
        },
        {
         "alignmentgroup": "True",
         "hovertemplate": "Youtube_Account=%{x}<br>reply_count=%{y}<extra></extra>",
         "legendgroup": "RizkyMJ 727",
         "marker": {
          "color": "#FFA15A",
          "pattern": {
           "shape": ""
          }
         },
         "name": "RizkyMJ 727",
         "offsetgroup": "RizkyMJ 727",
         "orientation": "v",
         "showlegend": true,
         "textposition": "auto",
         "type": "bar",
         "x": [
          "RizkyMJ 727"
         ],
         "xaxis": "x",
         "y": [
          2
         ],
         "yaxis": "y"
        },
        {
         "alignmentgroup": "True",
         "hovertemplate": "Youtube_Account=%{x}<br>reply_count=%{y}<extra></extra>",
         "legendgroup": "LAVEN S",
         "marker": {
          "color": "#19d3f3",
          "pattern": {
           "shape": ""
          }
         },
         "name": "LAVEN S",
         "offsetgroup": "LAVEN S",
         "orientation": "v",
         "showlegend": true,
         "textposition": "auto",
         "type": "bar",
         "x": [
          "LAVEN S"
         ],
         "xaxis": "x",
         "y": [
          2
         ],
         "yaxis": "y"
        },
        {
         "alignmentgroup": "True",
         "hovertemplate": "Youtube_Account=%{x}<br>reply_count=%{y}<extra></extra>",
         "legendgroup": "Abu Wan-Khanubi",
         "marker": {
          "color": "#FF6692",
          "pattern": {
           "shape": ""
          }
         },
         "name": "Abu Wan-Khanubi",
         "offsetgroup": "Abu Wan-Khanubi",
         "orientation": "v",
         "showlegend": true,
         "textposition": "auto",
         "type": "bar",
         "x": [
          "Abu Wan-Khanubi"
         ],
         "xaxis": "x",
         "y": [
          2
         ],
         "yaxis": "y"
        },
        {
         "alignmentgroup": "True",
         "hovertemplate": "Youtube_Account=%{x}<br>reply_count=%{y}<extra></extra>",
         "legendgroup": "Annette Sormin",
         "marker": {
          "color": "#B6E880",
          "pattern": {
           "shape": ""
          }
         },
         "name": "Annette Sormin",
         "offsetgroup": "Annette Sormin",
         "orientation": "v",
         "showlegend": true,
         "textposition": "auto",
         "type": "bar",
         "x": [
          "Annette Sormin"
         ],
         "xaxis": "x",
         "y": [
          2
         ],
         "yaxis": "y"
        },
        {
         "alignmentgroup": "True",
         "hovertemplate": "Youtube_Account=%{x}<br>reply_count=%{y}<extra></extra>",
         "legendgroup": "YT POLOSAN",
         "marker": {
          "color": "#FF97FF",
          "pattern": {
           "shape": ""
          }
         },
         "name": "YT POLOSAN",
         "offsetgroup": "YT POLOSAN",
         "orientation": "v",
         "showlegend": true,
         "textposition": "auto",
         "type": "bar",
         "x": [
          "YT POLOSAN"
         ],
         "xaxis": "x",
         "y": [
          2
         ],
         "yaxis": "y"
        },
        {
         "alignmentgroup": "True",
         "hovertemplate": "Youtube_Account=%{x}<br>reply_count=%{y}<extra></extra>",
         "legendgroup": "Yasa Taqiyudin",
         "marker": {
          "color": "#FECB52",
          "pattern": {
           "shape": ""
          }
         },
         "name": "Yasa Taqiyudin",
         "offsetgroup": "Yasa Taqiyudin",
         "orientation": "v",
         "showlegend": true,
         "textposition": "auto",
         "type": "bar",
         "x": [
          "Yasa Taqiyudin"
         ],
         "xaxis": "x",
         "y": [
          2
         ],
         "yaxis": "y"
        }
       ],
       "layout": {
        "barmode": "relative",
        "legend": {
         "title": {
          "text": "Youtube_Account"
         },
         "tracegroupgap": 0
        },
        "template": {
         "data": {
          "bar": [
           {
            "error_x": {
             "color": "#2a3f5f"
            },
            "error_y": {
             "color": "#2a3f5f"
            },
            "marker": {
             "line": {
              "color": "#E5ECF6",
              "width": 0.5
             },
             "pattern": {
              "fillmode": "overlay",
              "size": 10,
              "solidity": 0.2
             }
            },
            "type": "bar"
           }
          ],
          "barpolar": [
           {
            "marker": {
             "line": {
              "color": "#E5ECF6",
              "width": 0.5
             },
             "pattern": {
              "fillmode": "overlay",
              "size": 10,
              "solidity": 0.2
             }
            },
            "type": "barpolar"
           }
          ],
          "carpet": [
           {
            "aaxis": {
             "endlinecolor": "#2a3f5f",
             "gridcolor": "white",
             "linecolor": "white",
             "minorgridcolor": "white",
             "startlinecolor": "#2a3f5f"
            },
            "baxis": {
             "endlinecolor": "#2a3f5f",
             "gridcolor": "white",
             "linecolor": "white",
             "minorgridcolor": "white",
             "startlinecolor": "#2a3f5f"
            },
            "type": "carpet"
           }
          ],
          "choropleth": [
           {
            "colorbar": {
             "outlinewidth": 0,
             "ticks": ""
            },
            "type": "choropleth"
           }
          ],
          "contour": [
           {
            "colorbar": {
             "outlinewidth": 0,
             "ticks": ""
            },
            "colorscale": [
             [
              0,
              "#0d0887"
             ],
             [
              0.1111111111111111,
              "#46039f"
             ],
             [
              0.2222222222222222,
              "#7201a8"
             ],
             [
              0.3333333333333333,
              "#9c179e"
             ],
             [
              0.4444444444444444,
              "#bd3786"
             ],
             [
              0.5555555555555556,
              "#d8576b"
             ],
             [
              0.6666666666666666,
              "#ed7953"
             ],
             [
              0.7777777777777778,
              "#fb9f3a"
             ],
             [
              0.8888888888888888,
              "#fdca26"
             ],
             [
              1,
              "#f0f921"
             ]
            ],
            "type": "contour"
           }
          ],
          "contourcarpet": [
           {
            "colorbar": {
             "outlinewidth": 0,
             "ticks": ""
            },
            "type": "contourcarpet"
           }
          ],
          "heatmap": [
           {
            "colorbar": {
             "outlinewidth": 0,
             "ticks": ""
            },
            "colorscale": [
             [
              0,
              "#0d0887"
             ],
             [
              0.1111111111111111,
              "#46039f"
             ],
             [
              0.2222222222222222,
              "#7201a8"
             ],
             [
              0.3333333333333333,
              "#9c179e"
             ],
             [
              0.4444444444444444,
              "#bd3786"
             ],
             [
              0.5555555555555556,
              "#d8576b"
             ],
             [
              0.6666666666666666,
              "#ed7953"
             ],
             [
              0.7777777777777778,
              "#fb9f3a"
             ],
             [
              0.8888888888888888,
              "#fdca26"
             ],
             [
              1,
              "#f0f921"
             ]
            ],
            "type": "heatmap"
           }
          ],
          "heatmapgl": [
           {
            "colorbar": {
             "outlinewidth": 0,
             "ticks": ""
            },
            "colorscale": [
             [
              0,
              "#0d0887"
             ],
             [
              0.1111111111111111,
              "#46039f"
             ],
             [
              0.2222222222222222,
              "#7201a8"
             ],
             [
              0.3333333333333333,
              "#9c179e"
             ],
             [
              0.4444444444444444,
              "#bd3786"
             ],
             [
              0.5555555555555556,
              "#d8576b"
             ],
             [
              0.6666666666666666,
              "#ed7953"
             ],
             [
              0.7777777777777778,
              "#fb9f3a"
             ],
             [
              0.8888888888888888,
              "#fdca26"
             ],
             [
              1,
              "#f0f921"
             ]
            ],
            "type": "heatmapgl"
           }
          ],
          "histogram": [
           {
            "marker": {
             "pattern": {
              "fillmode": "overlay",
              "size": 10,
              "solidity": 0.2
             }
            },
            "type": "histogram"
           }
          ],
          "histogram2d": [
           {
            "colorbar": {
             "outlinewidth": 0,
             "ticks": ""
            },
            "colorscale": [
             [
              0,
              "#0d0887"
             ],
             [
              0.1111111111111111,
              "#46039f"
             ],
             [
              0.2222222222222222,
              "#7201a8"
             ],
             [
              0.3333333333333333,
              "#9c179e"
             ],
             [
              0.4444444444444444,
              "#bd3786"
             ],
             [
              0.5555555555555556,
              "#d8576b"
             ],
             [
              0.6666666666666666,
              "#ed7953"
             ],
             [
              0.7777777777777778,
              "#fb9f3a"
             ],
             [
              0.8888888888888888,
              "#fdca26"
             ],
             [
              1,
              "#f0f921"
             ]
            ],
            "type": "histogram2d"
           }
          ],
          "histogram2dcontour": [
           {
            "colorbar": {
             "outlinewidth": 0,
             "ticks": ""
            },
            "colorscale": [
             [
              0,
              "#0d0887"
             ],
             [
              0.1111111111111111,
              "#46039f"
             ],
             [
              0.2222222222222222,
              "#7201a8"
             ],
             [
              0.3333333333333333,
              "#9c179e"
             ],
             [
              0.4444444444444444,
              "#bd3786"
             ],
             [
              0.5555555555555556,
              "#d8576b"
             ],
             [
              0.6666666666666666,
              "#ed7953"
             ],
             [
              0.7777777777777778,
              "#fb9f3a"
             ],
             [
              0.8888888888888888,
              "#fdca26"
             ],
             [
              1,
              "#f0f921"
             ]
            ],
            "type": "histogram2dcontour"
           }
          ],
          "mesh3d": [
           {
            "colorbar": {
             "outlinewidth": 0,
             "ticks": ""
            },
            "type": "mesh3d"
           }
          ],
          "parcoords": [
           {
            "line": {
             "colorbar": {
              "outlinewidth": 0,
              "ticks": ""
             }
            },
            "type": "parcoords"
           }
          ],
          "pie": [
           {
            "automargin": true,
            "type": "pie"
           }
          ],
          "scatter": [
           {
            "fillpattern": {
             "fillmode": "overlay",
             "size": 10,
             "solidity": 0.2
            },
            "type": "scatter"
           }
          ],
          "scatter3d": [
           {
            "line": {
             "colorbar": {
              "outlinewidth": 0,
              "ticks": ""
             }
            },
            "marker": {
             "colorbar": {
              "outlinewidth": 0,
              "ticks": ""
             }
            },
            "type": "scatter3d"
           }
          ],
          "scattercarpet": [
           {
            "marker": {
             "colorbar": {
              "outlinewidth": 0,
              "ticks": ""
             }
            },
            "type": "scattercarpet"
           }
          ],
          "scattergeo": [
           {
            "marker": {
             "colorbar": {
              "outlinewidth": 0,
              "ticks": ""
             }
            },
            "type": "scattergeo"
           }
          ],
          "scattergl": [
           {
            "marker": {
             "colorbar": {
              "outlinewidth": 0,
              "ticks": ""
             }
            },
            "type": "scattergl"
           }
          ],
          "scattermapbox": [
           {
            "marker": {
             "colorbar": {
              "outlinewidth": 0,
              "ticks": ""
             }
            },
            "type": "scattermapbox"
           }
          ],
          "scatterpolar": [
           {
            "marker": {
             "colorbar": {
              "outlinewidth": 0,
              "ticks": ""
             }
            },
            "type": "scatterpolar"
           }
          ],
          "scatterpolargl": [
           {
            "marker": {
             "colorbar": {
              "outlinewidth": 0,
              "ticks": ""
             }
            },
            "type": "scatterpolargl"
           }
          ],
          "scatterternary": [
           {
            "marker": {
             "colorbar": {
              "outlinewidth": 0,
              "ticks": ""
             }
            },
            "type": "scatterternary"
           }
          ],
          "surface": [
           {
            "colorbar": {
             "outlinewidth": 0,
             "ticks": ""
            },
            "colorscale": [
             [
              0,
              "#0d0887"
             ],
             [
              0.1111111111111111,
              "#46039f"
             ],
             [
              0.2222222222222222,
              "#7201a8"
             ],
             [
              0.3333333333333333,
              "#9c179e"
             ],
             [
              0.4444444444444444,
              "#bd3786"
             ],
             [
              0.5555555555555556,
              "#d8576b"
             ],
             [
              0.6666666666666666,
              "#ed7953"
             ],
             [
              0.7777777777777778,
              "#fb9f3a"
             ],
             [
              0.8888888888888888,
              "#fdca26"
             ],
             [
              1,
              "#f0f921"
             ]
            ],
            "type": "surface"
           }
          ],
          "table": [
           {
            "cells": {
             "fill": {
              "color": "#EBF0F8"
             },
             "line": {
              "color": "white"
             }
            },
            "header": {
             "fill": {
              "color": "#C8D4E3"
             },
             "line": {
              "color": "white"
             }
            },
            "type": "table"
           }
          ]
         },
         "layout": {
          "annotationdefaults": {
           "arrowcolor": "#2a3f5f",
           "arrowhead": 0,
           "arrowwidth": 1
          },
          "autotypenumbers": "strict",
          "coloraxis": {
           "colorbar": {
            "outlinewidth": 0,
            "ticks": ""
           }
          },
          "colorscale": {
           "diverging": [
            [
             0,
             "#8e0152"
            ],
            [
             0.1,
             "#c51b7d"
            ],
            [
             0.2,
             "#de77ae"
            ],
            [
             0.3,
             "#f1b6da"
            ],
            [
             0.4,
             "#fde0ef"
            ],
            [
             0.5,
             "#f7f7f7"
            ],
            [
             0.6,
             "#e6f5d0"
            ],
            [
             0.7,
             "#b8e186"
            ],
            [
             0.8,
             "#7fbc41"
            ],
            [
             0.9,
             "#4d9221"
            ],
            [
             1,
             "#276419"
            ]
           ],
           "sequential": [
            [
             0,
             "#0d0887"
            ],
            [
             0.1111111111111111,
             "#46039f"
            ],
            [
             0.2222222222222222,
             "#7201a8"
            ],
            [
             0.3333333333333333,
             "#9c179e"
            ],
            [
             0.4444444444444444,
             "#bd3786"
            ],
            [
             0.5555555555555556,
             "#d8576b"
            ],
            [
             0.6666666666666666,
             "#ed7953"
            ],
            [
             0.7777777777777778,
             "#fb9f3a"
            ],
            [
             0.8888888888888888,
             "#fdca26"
            ],
            [
             1,
             "#f0f921"
            ]
           ],
           "sequentialminus": [
            [
             0,
             "#0d0887"
            ],
            [
             0.1111111111111111,
             "#46039f"
            ],
            [
             0.2222222222222222,
             "#7201a8"
            ],
            [
             0.3333333333333333,
             "#9c179e"
            ],
            [
             0.4444444444444444,
             "#bd3786"
            ],
            [
             0.5555555555555556,
             "#d8576b"
            ],
            [
             0.6666666666666666,
             "#ed7953"
            ],
            [
             0.7777777777777778,
             "#fb9f3a"
            ],
            [
             0.8888888888888888,
             "#fdca26"
            ],
            [
             1,
             "#f0f921"
            ]
           ]
          },
          "colorway": [
           "#636efa",
           "#EF553B",
           "#00cc96",
           "#ab63fa",
           "#FFA15A",
           "#19d3f3",
           "#FF6692",
           "#B6E880",
           "#FF97FF",
           "#FECB52"
          ],
          "font": {
           "color": "#2a3f5f"
          },
          "geo": {
           "bgcolor": "white",
           "lakecolor": "white",
           "landcolor": "#E5ECF6",
           "showlakes": true,
           "showland": true,
           "subunitcolor": "white"
          },
          "hoverlabel": {
           "align": "left"
          },
          "hovermode": "closest",
          "mapbox": {
           "style": "light"
          },
          "paper_bgcolor": "white",
          "plot_bgcolor": "#E5ECF6",
          "polar": {
           "angularaxis": {
            "gridcolor": "white",
            "linecolor": "white",
            "ticks": ""
           },
           "bgcolor": "#E5ECF6",
           "radialaxis": {
            "gridcolor": "white",
            "linecolor": "white",
            "ticks": ""
           }
          },
          "scene": {
           "xaxis": {
            "backgroundcolor": "#E5ECF6",
            "gridcolor": "white",
            "gridwidth": 2,
            "linecolor": "white",
            "showbackground": true,
            "ticks": "",
            "zerolinecolor": "white"
           },
           "yaxis": {
            "backgroundcolor": "#E5ECF6",
            "gridcolor": "white",
            "gridwidth": 2,
            "linecolor": "white",
            "showbackground": true,
            "ticks": "",
            "zerolinecolor": "white"
           },
           "zaxis": {
            "backgroundcolor": "#E5ECF6",
            "gridcolor": "white",
            "gridwidth": 2,
            "linecolor": "white",
            "showbackground": true,
            "ticks": "",
            "zerolinecolor": "white"
           }
          },
          "shapedefaults": {
           "line": {
            "color": "#2a3f5f"
           }
          },
          "ternary": {
           "aaxis": {
            "gridcolor": "white",
            "linecolor": "white",
            "ticks": ""
           },
           "baxis": {
            "gridcolor": "white",
            "linecolor": "white",
            "ticks": ""
           },
           "bgcolor": "#E5ECF6",
           "caxis": {
            "gridcolor": "white",
            "linecolor": "white",
            "ticks": ""
           }
          },
          "title": {
           "x": 0.05
          },
          "xaxis": {
           "automargin": true,
           "gridcolor": "white",
           "linecolor": "white",
           "ticks": "",
           "title": {
            "standoff": 15
           },
           "zerolinecolor": "white",
           "zerolinewidth": 2
          },
          "yaxis": {
           "automargin": true,
           "gridcolor": "white",
           "linecolor": "white",
           "ticks": "",
           "title": {
            "standoff": 15
           },
           "zerolinecolor": "white",
           "zerolinewidth": 2
          }
         }
        },
        "title": {
         "text": "10 YouTube Account that comments have most reply"
        },
        "xaxis": {
         "anchor": "y",
         "categoryarray": [
          "skinnyindonesian24",
          "leon_ putra",
          "IzkvD",
          "Dewi Lestari",
          "RizkyMJ 727",
          "LAVEN S",
          "Abu Wan-Khanubi",
          "Annette Sormin",
          "YT POLOSAN",
          "Yasa Taqiyudin"
         ],
         "categoryorder": "array",
         "domain": [
          0,
          1
         ],
         "title": {
          "text": "Youtube_Account"
         }
        },
        "yaxis": {
         "anchor": "x",
         "domain": [
          0,
          1
         ],
         "title": {
          "text": "reply_count"
         }
        }
       }
      }
     },
     "metadata": {},
     "output_type": "display_data"
    }
   ],
   "source": [
    "account = df['Name'].value_counts().head(10)\n",
    "account = pd.DataFrame(data=account)\n",
    "account.reset_index(inplace=True)\n",
    "account = account.rename(columns = {\"index\" : \"Youtube_Account\",\n",
    "                                    'Name': \"reply_count\"})\n",
    "fig = px.bar(account, x='Youtube_Account', y='reply_count',\n",
    "            color='Youtube_Account', title='10 YouTube Account that comments have most reply')\n",
    "fig.show()"
   ]
  },
  {
   "cell_type": "markdown",
   "metadata": {},
   "source": [
    "### Peak time to comments"
   ]
  },
  {
   "cell_type": "code",
   "execution_count": 12,
   "metadata": {},
   "outputs": [],
   "source": [
    "data = df.copy()\n",
    "times = data['Time']"
   ]
  },
  {
   "cell_type": "code",
   "execution_count": 13,
   "metadata": {},
   "outputs": [
    {
     "data": {
      "text/plain": [
       "0    11:27:47\n",
       "1    04:08:18\n",
       "2    08:57:13\n",
       "3    16:42:13\n",
       "4    00:45:06\n",
       "Name: Period, dtype: object"
      ]
     },
     "execution_count": 13,
     "metadata": {},
     "output_type": "execute_result"
    }
   ],
   "source": [
    "def time(date):\n",
    "    Time = date.time()\n",
    "    return Time\n",
    "\n",
    "data['Period'] = times.map(time)\n",
    "data['Period'].head()"
   ]
  },
  {
   "cell_type": "code",
   "execution_count": 14,
   "metadata": {},
   "outputs": [],
   "source": [
    "data1 = data.copy()\n",
    "\n",
    "def time_groups(time):\n",
    "    if time >= datetime.time(0,0) and time <= datetime.time(1,0):\n",
    "        return '12 AM - 1 AM'\n",
    "    elif time >= datetime.time(1,0) and time <= datetime.time(2,0):\n",
    "        return '1 AM - 2 AM'\n",
    "    elif time >= datetime.time(2,0) and time <= datetime.time(3,0):\n",
    "        return '2 AM - 3 AM'\n",
    "    elif time >= datetime.time(3,0) and time <= datetime.time(4,0):\n",
    "        return '3 AM - 4AM'\n",
    "    elif time >= datetime.time(4,0) and time <= datetime.time(5,0):\n",
    "        return '4 AM - 5AM'\n",
    "    elif time >= datetime.time(5,0) and time <= datetime.time(6,0):\n",
    "        return '5 AM - 6 AM'\n",
    "    elif time >= datetime.time(6,0) and time <= datetime.time(7,0):\n",
    "        return '6 AM - 7 AM'\n",
    "    elif time >= datetime.time(7,0) and time <= datetime.time(8,0):\n",
    "        return '7 AM - 8 AM'\n",
    "    elif time >= datetime.time(8,0) and time <= datetime.time(9,0):\n",
    "        return '8 AM - 9 AM'\n",
    "    elif time >= datetime.time(9,0) and time <= datetime.time(10,0):\n",
    "        return '9 AM - 10 AM'\n",
    "    elif time >= datetime.time(10,0) and time <= datetime.time(11,0):\n",
    "        return '10 AM - 11 AM'\n",
    "    elif time >= datetime.time(11,0) and time <= datetime.time(12,0):\n",
    "        return '11 AM - 12PM'\n",
    "    elif time >= datetime.time(12,0) and time <= datetime.time(13,0):\n",
    "        return '12 PM - 1PM'\n",
    "    elif time >= datetime.time(13,0) and time <= datetime.time(14,0):\n",
    "        return '1 PM - 2 PM'\n",
    "    elif time >= datetime.time(14,0) and time <= datetime.time(15,0):\n",
    "        return '2 PM - 3 PM'\n",
    "    elif time >= datetime.time(15,0) and time <= datetime.time(16,0):\n",
    "        return '3 PM - 4 PM'\n",
    "    elif time >= datetime.time(16,0) and time <= datetime.time(17,0):\n",
    "        return '4 PM - 5 PM'\n",
    "    elif time >= datetime.time(17,0) and time <= datetime.time(18,0):\n",
    "        return '5 PM - 6 PM'\n",
    "    elif time >= datetime.time(18,0) and time <= datetime.time(19,0):\n",
    "        return '6 PM - 7 PM'\n",
    "    elif time >= datetime.time(19,0) and time <= datetime.time(20,0):\n",
    "        return '7 PM - 8 PM'\n",
    "    elif time >= datetime.time(20,0) and time <= datetime.time(21,0):\n",
    "        return '8 PM - 9 PM'\n",
    "    elif time >= datetime.time(21,0) and time <= datetime.time(22,0):\n",
    "        return '9 PM - 10 PM'\n",
    "    elif time >= datetime.time(22,0) and time <= datetime.time(23,0):\n",
    "        return '10 PM - 11 PM'\n",
    "    elif time >= datetime.time(23,0) and time <= datetime.time(23,59):\n",
    "        return '11 PM - 12 AM'\n",
    "    else:\n",
    "        return 'other'"
   ]
  },
  {
   "cell_type": "code",
   "execution_count": 15,
   "metadata": {},
   "outputs": [
    {
     "data": {
      "text/html": [
       "<div>\n",
       "<style scoped>\n",
       "    .dataframe tbody tr th:only-of-type {\n",
       "        vertical-align: middle;\n",
       "    }\n",
       "\n",
       "    .dataframe tbody tr th {\n",
       "        vertical-align: top;\n",
       "    }\n",
       "\n",
       "    .dataframe thead th {\n",
       "        text-align: right;\n",
       "    }\n",
       "</style>\n",
       "<table border=\"1\" class=\"dataframe\">\n",
       "  <thead>\n",
       "    <tr style=\"text-align: right;\">\n",
       "      <th></th>\n",
       "      <th>Video_Id</th>\n",
       "      <th>Tittle</th>\n",
       "      <th>Name</th>\n",
       "      <th>Comment</th>\n",
       "      <th>Comment_Id</th>\n",
       "      <th>Time</th>\n",
       "      <th>Likes</th>\n",
       "      <th>Reply_Count</th>\n",
       "      <th>Label</th>\n",
       "      <th>Period</th>\n",
       "      <th>Period_groups</th>\n",
       "    </tr>\n",
       "  </thead>\n",
       "  <tbody>\n",
       "    <tr>\n",
       "      <th>0</th>\n",
       "      <td>AP0NACavjfk</td>\n",
       "      <td>SkinnyIndonesian24 | Prabowo VS Jokowi - Epic ...</td>\n",
       "      <td>Banda vlog</td>\n",
       "      <td>Apa salah mobale lejen pak soekarno</td>\n",
       "      <td>UgwmjTHzY2zMOXBg9F94AaABAg</td>\n",
       "      <td>2019-04-11 11:27:47</td>\n",
       "      <td>0</td>\n",
       "      <td>0</td>\n",
       "      <td>spam</td>\n",
       "      <td>11:27:47</td>\n",
       "      <td>11 AM - 12PM</td>\n",
       "    </tr>\n",
       "    <tr>\n",
       "      <th>1</th>\n",
       "      <td>AP0NACavjfk</td>\n",
       "      <td>SkinnyIndonesian24 | Prabowo VS Jokowi - Epic ...</td>\n",
       "      <td>kharisma setya kencana</td>\n",
       "      <td>👆👆👆👆👆👆</td>\n",
       "      <td>UgzbICRmksoeoGVFCzd4AaABAg</td>\n",
       "      <td>2019-04-09 04:08:18</td>\n",
       "      <td>0</td>\n",
       "      <td>0</td>\n",
       "      <td>legitimate</td>\n",
       "      <td>04:08:18</td>\n",
       "      <td>4 AM - 5AM</td>\n",
       "    </tr>\n",
       "    <tr>\n",
       "      <th>2</th>\n",
       "      <td>AP0NACavjfk</td>\n",
       "      <td>SkinnyIndonesian24 | Prabowo VS Jokowi - Epic ...</td>\n",
       "      <td>「GratioKunz」</td>\n",
       "      <td>Dan golput itu apa</td>\n",
       "      <td>UgxROKiw4EX5LyaG0lx4AaABAg</td>\n",
       "      <td>2019-04-18 08:57:13</td>\n",
       "      <td>0</td>\n",
       "      <td>0</td>\n",
       "      <td>legitimate</td>\n",
       "      <td>08:57:13</td>\n",
       "      <td>8 AM - 9 AM</td>\n",
       "    </tr>\n",
       "    <tr>\n",
       "      <th>3</th>\n",
       "      <td>AP0NACavjfk</td>\n",
       "      <td>SkinnyIndonesian24 | Prabowo VS Jokowi - Epic ...</td>\n",
       "      <td>Trestrantara WZ</td>\n",
       "      <td>Keren!!</td>\n",
       "      <td>UgymN9o3cZFXVPLKcjZ4AaABAg</td>\n",
       "      <td>2019-04-08 16:42:13</td>\n",
       "      <td>0</td>\n",
       "      <td>0</td>\n",
       "      <td>legitimate</td>\n",
       "      <td>16:42:13</td>\n",
       "      <td>4 PM - 5 PM</td>\n",
       "    </tr>\n",
       "    <tr>\n",
       "      <th>4</th>\n",
       "      <td>AP0NACavjfk</td>\n",
       "      <td>SkinnyIndonesian24 | Prabowo VS Jokowi - Epic ...</td>\n",
       "      <td>Heri Kurniawan</td>\n",
       "      <td>Pilih siapa presiden aku Prabowo-Sandi</td>\n",
       "      <td>Ugw9J8lP4lOg0t5yX0l4AaABAg</td>\n",
       "      <td>2019-04-18 00:45:06</td>\n",
       "      <td>1</td>\n",
       "      <td>0</td>\n",
       "      <td>legitimate</td>\n",
       "      <td>00:45:06</td>\n",
       "      <td>12 AM - 1 AM</td>\n",
       "    </tr>\n",
       "  </tbody>\n",
       "</table>\n",
       "</div>"
      ],
      "text/plain": [
       "      Video_Id                                             Tittle  \\\n",
       "0  AP0NACavjfk  SkinnyIndonesian24 | Prabowo VS Jokowi - Epic ...   \n",
       "1  AP0NACavjfk  SkinnyIndonesian24 | Prabowo VS Jokowi - Epic ...   \n",
       "2  AP0NACavjfk  SkinnyIndonesian24 | Prabowo VS Jokowi - Epic ...   \n",
       "3  AP0NACavjfk  SkinnyIndonesian24 | Prabowo VS Jokowi - Epic ...   \n",
       "4  AP0NACavjfk  SkinnyIndonesian24 | Prabowo VS Jokowi - Epic ...   \n",
       "\n",
       "                     Name                                 Comment  \\\n",
       "0              Banda vlog     Apa salah mobale lejen pak soekarno   \n",
       "1  kharisma setya kencana                                  👆👆👆👆👆👆   \n",
       "2            「GratioKunz」                      Dan golput itu apa   \n",
       "3         Trestrantara WZ                                 Keren!!   \n",
       "4          Heri Kurniawan  Pilih siapa presiden aku Prabowo-Sandi   \n",
       "\n",
       "                   Comment_Id                Time  Likes  Reply_Count  \\\n",
       "0  UgwmjTHzY2zMOXBg9F94AaABAg 2019-04-11 11:27:47      0            0   \n",
       "1  UgzbICRmksoeoGVFCzd4AaABAg 2019-04-09 04:08:18      0            0   \n",
       "2  UgxROKiw4EX5LyaG0lx4AaABAg 2019-04-18 08:57:13      0            0   \n",
       "3  UgymN9o3cZFXVPLKcjZ4AaABAg 2019-04-08 16:42:13      0            0   \n",
       "4  Ugw9J8lP4lOg0t5yX0l4AaABAg 2019-04-18 00:45:06      1            0   \n",
       "\n",
       "        Label    Period Period_groups  \n",
       "0        spam  11:27:47  11 AM - 12PM  \n",
       "1  legitimate  04:08:18    4 AM - 5AM  \n",
       "2  legitimate  08:57:13   8 AM - 9 AM  \n",
       "3  legitimate  16:42:13   4 PM - 5 PM  \n",
       "4  legitimate  00:45:06  12 AM - 1 AM  "
      ]
     },
     "execution_count": 15,
     "metadata": {},
     "output_type": "execute_result"
    }
   ],
   "source": [
    "data1[\"Period_groups\"] = data1['Period'].map(time_groups)\n",
    "data1.head()"
   ]
  },
  {
   "cell_type": "code",
   "execution_count": 16,
   "metadata": {},
   "outputs": [
    {
     "data": {
      "application/vnd.plotly.v1+json": {
       "config": {
        "plotlyServerURL": "https://plot.ly"
       },
       "data": [
        {
         "alignmentgroup": "True",
         "hovertemplate": "Time=%{x}<br>Most Comment=%{y}<extra></extra>",
         "legendgroup": "1 PM - 2 PM",
         "marker": {
          "color": "#636efa",
          "pattern": {
           "shape": ""
          }
         },
         "name": "1 PM - 2 PM",
         "offsetgroup": "1 PM - 2 PM",
         "orientation": "v",
         "showlegend": true,
         "textposition": "auto",
         "type": "bar",
         "x": [
          "1 PM - 2 PM"
         ],
         "xaxis": "x",
         "y": [
          152
         ],
         "yaxis": "y"
        },
        {
         "alignmentgroup": "True",
         "hovertemplate": "Time=%{x}<br>Most Comment=%{y}<extra></extra>",
         "legendgroup": "2 PM - 3 PM",
         "marker": {
          "color": "#EF553B",
          "pattern": {
           "shape": ""
          }
         },
         "name": "2 PM - 3 PM",
         "offsetgroup": "2 PM - 3 PM",
         "orientation": "v",
         "showlegend": true,
         "textposition": "auto",
         "type": "bar",
         "x": [
          "2 PM - 3 PM"
         ],
         "xaxis": "x",
         "y": [
          150
         ],
         "yaxis": "y"
        },
        {
         "alignmentgroup": "True",
         "hovertemplate": "Time=%{x}<br>Most Comment=%{y}<extra></extra>",
         "legendgroup": "3 PM - 4 PM",
         "marker": {
          "color": "#00cc96",
          "pattern": {
           "shape": ""
          }
         },
         "name": "3 PM - 4 PM",
         "offsetgroup": "3 PM - 4 PM",
         "orientation": "v",
         "showlegend": true,
         "textposition": "auto",
         "type": "bar",
         "x": [
          "3 PM - 4 PM"
         ],
         "xaxis": "x",
         "y": [
          125
         ],
         "yaxis": "y"
        },
        {
         "alignmentgroup": "True",
         "hovertemplate": "Time=%{x}<br>Most Comment=%{y}<extra></extra>",
         "legendgroup": "12 PM - 1PM",
         "marker": {
          "color": "#ab63fa",
          "pattern": {
           "shape": ""
          }
         },
         "name": "12 PM - 1PM",
         "offsetgroup": "12 PM - 1PM",
         "orientation": "v",
         "showlegend": true,
         "textposition": "auto",
         "type": "bar",
         "x": [
          "12 PM - 1PM"
         ],
         "xaxis": "x",
         "y": [
          118
         ],
         "yaxis": "y"
        },
        {
         "alignmentgroup": "True",
         "hovertemplate": "Time=%{x}<br>Most Comment=%{y}<extra></extra>",
         "legendgroup": "10 AM - 11 AM",
         "marker": {
          "color": "#FFA15A",
          "pattern": {
           "shape": ""
          }
         },
         "name": "10 AM - 11 AM",
         "offsetgroup": "10 AM - 11 AM",
         "orientation": "v",
         "showlegend": true,
         "textposition": "auto",
         "type": "bar",
         "x": [
          "10 AM - 11 AM"
         ],
         "xaxis": "x",
         "y": [
          108
         ],
         "yaxis": "y"
        },
        {
         "alignmentgroup": "True",
         "hovertemplate": "Time=%{x}<br>Most Comment=%{y}<extra></extra>",
         "legendgroup": "7 AM - 8 AM",
         "marker": {
          "color": "#19d3f3",
          "pattern": {
           "shape": ""
          }
         },
         "name": "7 AM - 8 AM",
         "offsetgroup": "7 AM - 8 AM",
         "orientation": "v",
         "showlegend": true,
         "textposition": "auto",
         "type": "bar",
         "x": [
          "7 AM - 8 AM"
         ],
         "xaxis": "x",
         "y": [
          108
         ],
         "yaxis": "y"
        },
        {
         "alignmentgroup": "True",
         "hovertemplate": "Time=%{x}<br>Most Comment=%{y}<extra></extra>",
         "legendgroup": "8 AM - 9 AM",
         "marker": {
          "color": "#FF6692",
          "pattern": {
           "shape": ""
          }
         },
         "name": "8 AM - 9 AM",
         "offsetgroup": "8 AM - 9 AM",
         "orientation": "v",
         "showlegend": true,
         "textposition": "auto",
         "type": "bar",
         "x": [
          "8 AM - 9 AM"
         ],
         "xaxis": "x",
         "y": [
          107
         ],
         "yaxis": "y"
        },
        {
         "alignmentgroup": "True",
         "hovertemplate": "Time=%{x}<br>Most Comment=%{y}<extra></extra>",
         "legendgroup": "9 AM - 10 AM",
         "marker": {
          "color": "#B6E880",
          "pattern": {
           "shape": ""
          }
         },
         "name": "9 AM - 10 AM",
         "offsetgroup": "9 AM - 10 AM",
         "orientation": "v",
         "showlegend": true,
         "textposition": "auto",
         "type": "bar",
         "x": [
          "9 AM - 10 AM"
         ],
         "xaxis": "x",
         "y": [
          106
         ],
         "yaxis": "y"
        },
        {
         "alignmentgroup": "True",
         "hovertemplate": "Time=%{x}<br>Most Comment=%{y}<extra></extra>",
         "legendgroup": "6 AM - 7 AM",
         "marker": {
          "color": "#FF97FF",
          "pattern": {
           "shape": ""
          }
         },
         "name": "6 AM - 7 AM",
         "offsetgroup": "6 AM - 7 AM",
         "orientation": "v",
         "showlegend": true,
         "textposition": "auto",
         "type": "bar",
         "x": [
          "6 AM - 7 AM"
         ],
         "xaxis": "x",
         "y": [
          104
         ],
         "yaxis": "y"
        },
        {
         "alignmentgroup": "True",
         "hovertemplate": "Time=%{x}<br>Most Comment=%{y}<extra></extra>",
         "legendgroup": "11 AM - 12PM",
         "marker": {
          "color": "#FECB52",
          "pattern": {
           "shape": ""
          }
         },
         "name": "11 AM - 12PM",
         "offsetgroup": "11 AM - 12PM",
         "orientation": "v",
         "showlegend": true,
         "textposition": "auto",
         "type": "bar",
         "x": [
          "11 AM - 12PM"
         ],
         "xaxis": "x",
         "y": [
          98
         ],
         "yaxis": "y"
        }
       ],
       "layout": {
        "barmode": "relative",
        "height": 400,
        "legend": {
         "title": {
          "text": "Time"
         },
         "tracegroupgap": 0
        },
        "template": {
         "data": {
          "bar": [
           {
            "error_x": {
             "color": "#2a3f5f"
            },
            "error_y": {
             "color": "#2a3f5f"
            },
            "marker": {
             "line": {
              "color": "#E5ECF6",
              "width": 0.5
             },
             "pattern": {
              "fillmode": "overlay",
              "size": 10,
              "solidity": 0.2
             }
            },
            "type": "bar"
           }
          ],
          "barpolar": [
           {
            "marker": {
             "line": {
              "color": "#E5ECF6",
              "width": 0.5
             },
             "pattern": {
              "fillmode": "overlay",
              "size": 10,
              "solidity": 0.2
             }
            },
            "type": "barpolar"
           }
          ],
          "carpet": [
           {
            "aaxis": {
             "endlinecolor": "#2a3f5f",
             "gridcolor": "white",
             "linecolor": "white",
             "minorgridcolor": "white",
             "startlinecolor": "#2a3f5f"
            },
            "baxis": {
             "endlinecolor": "#2a3f5f",
             "gridcolor": "white",
             "linecolor": "white",
             "minorgridcolor": "white",
             "startlinecolor": "#2a3f5f"
            },
            "type": "carpet"
           }
          ],
          "choropleth": [
           {
            "colorbar": {
             "outlinewidth": 0,
             "ticks": ""
            },
            "type": "choropleth"
           }
          ],
          "contour": [
           {
            "colorbar": {
             "outlinewidth": 0,
             "ticks": ""
            },
            "colorscale": [
             [
              0,
              "#0d0887"
             ],
             [
              0.1111111111111111,
              "#46039f"
             ],
             [
              0.2222222222222222,
              "#7201a8"
             ],
             [
              0.3333333333333333,
              "#9c179e"
             ],
             [
              0.4444444444444444,
              "#bd3786"
             ],
             [
              0.5555555555555556,
              "#d8576b"
             ],
             [
              0.6666666666666666,
              "#ed7953"
             ],
             [
              0.7777777777777778,
              "#fb9f3a"
             ],
             [
              0.8888888888888888,
              "#fdca26"
             ],
             [
              1,
              "#f0f921"
             ]
            ],
            "type": "contour"
           }
          ],
          "contourcarpet": [
           {
            "colorbar": {
             "outlinewidth": 0,
             "ticks": ""
            },
            "type": "contourcarpet"
           }
          ],
          "heatmap": [
           {
            "colorbar": {
             "outlinewidth": 0,
             "ticks": ""
            },
            "colorscale": [
             [
              0,
              "#0d0887"
             ],
             [
              0.1111111111111111,
              "#46039f"
             ],
             [
              0.2222222222222222,
              "#7201a8"
             ],
             [
              0.3333333333333333,
              "#9c179e"
             ],
             [
              0.4444444444444444,
              "#bd3786"
             ],
             [
              0.5555555555555556,
              "#d8576b"
             ],
             [
              0.6666666666666666,
              "#ed7953"
             ],
             [
              0.7777777777777778,
              "#fb9f3a"
             ],
             [
              0.8888888888888888,
              "#fdca26"
             ],
             [
              1,
              "#f0f921"
             ]
            ],
            "type": "heatmap"
           }
          ],
          "heatmapgl": [
           {
            "colorbar": {
             "outlinewidth": 0,
             "ticks": ""
            },
            "colorscale": [
             [
              0,
              "#0d0887"
             ],
             [
              0.1111111111111111,
              "#46039f"
             ],
             [
              0.2222222222222222,
              "#7201a8"
             ],
             [
              0.3333333333333333,
              "#9c179e"
             ],
             [
              0.4444444444444444,
              "#bd3786"
             ],
             [
              0.5555555555555556,
              "#d8576b"
             ],
             [
              0.6666666666666666,
              "#ed7953"
             ],
             [
              0.7777777777777778,
              "#fb9f3a"
             ],
             [
              0.8888888888888888,
              "#fdca26"
             ],
             [
              1,
              "#f0f921"
             ]
            ],
            "type": "heatmapgl"
           }
          ],
          "histogram": [
           {
            "marker": {
             "pattern": {
              "fillmode": "overlay",
              "size": 10,
              "solidity": 0.2
             }
            },
            "type": "histogram"
           }
          ],
          "histogram2d": [
           {
            "colorbar": {
             "outlinewidth": 0,
             "ticks": ""
            },
            "colorscale": [
             [
              0,
              "#0d0887"
             ],
             [
              0.1111111111111111,
              "#46039f"
             ],
             [
              0.2222222222222222,
              "#7201a8"
             ],
             [
              0.3333333333333333,
              "#9c179e"
             ],
             [
              0.4444444444444444,
              "#bd3786"
             ],
             [
              0.5555555555555556,
              "#d8576b"
             ],
             [
              0.6666666666666666,
              "#ed7953"
             ],
             [
              0.7777777777777778,
              "#fb9f3a"
             ],
             [
              0.8888888888888888,
              "#fdca26"
             ],
             [
              1,
              "#f0f921"
             ]
            ],
            "type": "histogram2d"
           }
          ],
          "histogram2dcontour": [
           {
            "colorbar": {
             "outlinewidth": 0,
             "ticks": ""
            },
            "colorscale": [
             [
              0,
              "#0d0887"
             ],
             [
              0.1111111111111111,
              "#46039f"
             ],
             [
              0.2222222222222222,
              "#7201a8"
             ],
             [
              0.3333333333333333,
              "#9c179e"
             ],
             [
              0.4444444444444444,
              "#bd3786"
             ],
             [
              0.5555555555555556,
              "#d8576b"
             ],
             [
              0.6666666666666666,
              "#ed7953"
             ],
             [
              0.7777777777777778,
              "#fb9f3a"
             ],
             [
              0.8888888888888888,
              "#fdca26"
             ],
             [
              1,
              "#f0f921"
             ]
            ],
            "type": "histogram2dcontour"
           }
          ],
          "mesh3d": [
           {
            "colorbar": {
             "outlinewidth": 0,
             "ticks": ""
            },
            "type": "mesh3d"
           }
          ],
          "parcoords": [
           {
            "line": {
             "colorbar": {
              "outlinewidth": 0,
              "ticks": ""
             }
            },
            "type": "parcoords"
           }
          ],
          "pie": [
           {
            "automargin": true,
            "type": "pie"
           }
          ],
          "scatter": [
           {
            "fillpattern": {
             "fillmode": "overlay",
             "size": 10,
             "solidity": 0.2
            },
            "type": "scatter"
           }
          ],
          "scatter3d": [
           {
            "line": {
             "colorbar": {
              "outlinewidth": 0,
              "ticks": ""
             }
            },
            "marker": {
             "colorbar": {
              "outlinewidth": 0,
              "ticks": ""
             }
            },
            "type": "scatter3d"
           }
          ],
          "scattercarpet": [
           {
            "marker": {
             "colorbar": {
              "outlinewidth": 0,
              "ticks": ""
             }
            },
            "type": "scattercarpet"
           }
          ],
          "scattergeo": [
           {
            "marker": {
             "colorbar": {
              "outlinewidth": 0,
              "ticks": ""
             }
            },
            "type": "scattergeo"
           }
          ],
          "scattergl": [
           {
            "marker": {
             "colorbar": {
              "outlinewidth": 0,
              "ticks": ""
             }
            },
            "type": "scattergl"
           }
          ],
          "scattermapbox": [
           {
            "marker": {
             "colorbar": {
              "outlinewidth": 0,
              "ticks": ""
             }
            },
            "type": "scattermapbox"
           }
          ],
          "scatterpolar": [
           {
            "marker": {
             "colorbar": {
              "outlinewidth": 0,
              "ticks": ""
             }
            },
            "type": "scatterpolar"
           }
          ],
          "scatterpolargl": [
           {
            "marker": {
             "colorbar": {
              "outlinewidth": 0,
              "ticks": ""
             }
            },
            "type": "scatterpolargl"
           }
          ],
          "scatterternary": [
           {
            "marker": {
             "colorbar": {
              "outlinewidth": 0,
              "ticks": ""
             }
            },
            "type": "scatterternary"
           }
          ],
          "surface": [
           {
            "colorbar": {
             "outlinewidth": 0,
             "ticks": ""
            },
            "colorscale": [
             [
              0,
              "#0d0887"
             ],
             [
              0.1111111111111111,
              "#46039f"
             ],
             [
              0.2222222222222222,
              "#7201a8"
             ],
             [
              0.3333333333333333,
              "#9c179e"
             ],
             [
              0.4444444444444444,
              "#bd3786"
             ],
             [
              0.5555555555555556,
              "#d8576b"
             ],
             [
              0.6666666666666666,
              "#ed7953"
             ],
             [
              0.7777777777777778,
              "#fb9f3a"
             ],
             [
              0.8888888888888888,
              "#fdca26"
             ],
             [
              1,
              "#f0f921"
             ]
            ],
            "type": "surface"
           }
          ],
          "table": [
           {
            "cells": {
             "fill": {
              "color": "#EBF0F8"
             },
             "line": {
              "color": "white"
             }
            },
            "header": {
             "fill": {
              "color": "#C8D4E3"
             },
             "line": {
              "color": "white"
             }
            },
            "type": "table"
           }
          ]
         },
         "layout": {
          "annotationdefaults": {
           "arrowcolor": "#2a3f5f",
           "arrowhead": 0,
           "arrowwidth": 1
          },
          "autotypenumbers": "strict",
          "coloraxis": {
           "colorbar": {
            "outlinewidth": 0,
            "ticks": ""
           }
          },
          "colorscale": {
           "diverging": [
            [
             0,
             "#8e0152"
            ],
            [
             0.1,
             "#c51b7d"
            ],
            [
             0.2,
             "#de77ae"
            ],
            [
             0.3,
             "#f1b6da"
            ],
            [
             0.4,
             "#fde0ef"
            ],
            [
             0.5,
             "#f7f7f7"
            ],
            [
             0.6,
             "#e6f5d0"
            ],
            [
             0.7,
             "#b8e186"
            ],
            [
             0.8,
             "#7fbc41"
            ],
            [
             0.9,
             "#4d9221"
            ],
            [
             1,
             "#276419"
            ]
           ],
           "sequential": [
            [
             0,
             "#0d0887"
            ],
            [
             0.1111111111111111,
             "#46039f"
            ],
            [
             0.2222222222222222,
             "#7201a8"
            ],
            [
             0.3333333333333333,
             "#9c179e"
            ],
            [
             0.4444444444444444,
             "#bd3786"
            ],
            [
             0.5555555555555556,
             "#d8576b"
            ],
            [
             0.6666666666666666,
             "#ed7953"
            ],
            [
             0.7777777777777778,
             "#fb9f3a"
            ],
            [
             0.8888888888888888,
             "#fdca26"
            ],
            [
             1,
             "#f0f921"
            ]
           ],
           "sequentialminus": [
            [
             0,
             "#0d0887"
            ],
            [
             0.1111111111111111,
             "#46039f"
            ],
            [
             0.2222222222222222,
             "#7201a8"
            ],
            [
             0.3333333333333333,
             "#9c179e"
            ],
            [
             0.4444444444444444,
             "#bd3786"
            ],
            [
             0.5555555555555556,
             "#d8576b"
            ],
            [
             0.6666666666666666,
             "#ed7953"
            ],
            [
             0.7777777777777778,
             "#fb9f3a"
            ],
            [
             0.8888888888888888,
             "#fdca26"
            ],
            [
             1,
             "#f0f921"
            ]
           ]
          },
          "colorway": [
           "#636efa",
           "#EF553B",
           "#00cc96",
           "#ab63fa",
           "#FFA15A",
           "#19d3f3",
           "#FF6692",
           "#B6E880",
           "#FF97FF",
           "#FECB52"
          ],
          "font": {
           "color": "#2a3f5f"
          },
          "geo": {
           "bgcolor": "white",
           "lakecolor": "white",
           "landcolor": "#E5ECF6",
           "showlakes": true,
           "showland": true,
           "subunitcolor": "white"
          },
          "hoverlabel": {
           "align": "left"
          },
          "hovermode": "closest",
          "mapbox": {
           "style": "light"
          },
          "paper_bgcolor": "white",
          "plot_bgcolor": "#E5ECF6",
          "polar": {
           "angularaxis": {
            "gridcolor": "white",
            "linecolor": "white",
            "ticks": ""
           },
           "bgcolor": "#E5ECF6",
           "radialaxis": {
            "gridcolor": "white",
            "linecolor": "white",
            "ticks": ""
           }
          },
          "scene": {
           "xaxis": {
            "backgroundcolor": "#E5ECF6",
            "gridcolor": "white",
            "gridwidth": 2,
            "linecolor": "white",
            "showbackground": true,
            "ticks": "",
            "zerolinecolor": "white"
           },
           "yaxis": {
            "backgroundcolor": "#E5ECF6",
            "gridcolor": "white",
            "gridwidth": 2,
            "linecolor": "white",
            "showbackground": true,
            "ticks": "",
            "zerolinecolor": "white"
           },
           "zaxis": {
            "backgroundcolor": "#E5ECF6",
            "gridcolor": "white",
            "gridwidth": 2,
            "linecolor": "white",
            "showbackground": true,
            "ticks": "",
            "zerolinecolor": "white"
           }
          },
          "shapedefaults": {
           "line": {
            "color": "#2a3f5f"
           }
          },
          "ternary": {
           "aaxis": {
            "gridcolor": "white",
            "linecolor": "white",
            "ticks": ""
           },
           "baxis": {
            "gridcolor": "white",
            "linecolor": "white",
            "ticks": ""
           },
           "bgcolor": "#E5ECF6",
           "caxis": {
            "gridcolor": "white",
            "linecolor": "white",
            "ticks": ""
           }
          },
          "title": {
           "x": 0.05
          },
          "xaxis": {
           "automargin": true,
           "gridcolor": "white",
           "linecolor": "white",
           "ticks": "",
           "title": {
            "standoff": 15
           },
           "zerolinecolor": "white",
           "zerolinewidth": 2
          },
          "yaxis": {
           "automargin": true,
           "gridcolor": "white",
           "linecolor": "white",
           "ticks": "",
           "title": {
            "standoff": 15
           },
           "zerolinecolor": "white",
           "zerolinewidth": 2
          }
         }
        },
        "title": {
         "text": "Peak Time Comments Video"
        },
        "xaxis": {
         "anchor": "y",
         "categoryarray": [
          "1 PM - 2 PM",
          "2 PM - 3 PM",
          "3 PM - 4 PM",
          "12 PM - 1PM",
          "10 AM - 11 AM",
          "7 AM - 8 AM",
          "8 AM - 9 AM",
          "9 AM - 10 AM",
          "6 AM - 7 AM",
          "11 AM - 12PM"
         ],
         "categoryorder": "array",
         "domain": [
          0,
          1
         ],
         "title": {
          "text": "Time"
         }
        },
        "yaxis": {
         "anchor": "x",
         "domain": [
          0,
          1
         ],
         "title": {
          "text": "Most Comment"
         }
        }
       }
      }
     },
     "metadata": {},
     "output_type": "display_data"
    }
   ],
   "source": [
    "time_group = data1['Period_groups'].value_counts().head(10)\n",
    "time_group = pd.DataFrame(data=time_group)\n",
    "time_group.reset_index(inplace=True)\n",
    "time_group = time_group.rename(columns = {'index':'Time','Period_groups':'Most Comment'})\n",
    "time_group\n",
    "\n",
    "fig2 = px.bar(time_group, x='Time', y='Most Comment', \n",
    "              color='Time', title = 'Peak Time Comments Video', height=400)\n",
    "fig2.show()"
   ]
  },
  {
   "cell_type": "markdown",
   "metadata": {},
   "source": [
    "## Cleaning Text"
   ]
  },
  {
   "cell_type": "code",
   "execution_count": 17,
   "metadata": {},
   "outputs": [],
   "source": [
    "try_data_cleaning = df.copy()"
   ]
  },
  {
   "cell_type": "code",
   "execution_count": 18,
   "metadata": {},
   "outputs": [
    {
     "data": {
      "text/html": [
       "<div>\n",
       "<style scoped>\n",
       "    .dataframe tbody tr th:only-of-type {\n",
       "        vertical-align: middle;\n",
       "    }\n",
       "\n",
       "    .dataframe tbody tr th {\n",
       "        vertical-align: top;\n",
       "    }\n",
       "\n",
       "    .dataframe thead th {\n",
       "        text-align: right;\n",
       "    }\n",
       "</style>\n",
       "<table border=\"1\" class=\"dataframe\">\n",
       "  <thead>\n",
       "    <tr style=\"text-align: right;\">\n",
       "      <th></th>\n",
       "      <th>Video_Id</th>\n",
       "      <th>Tittle</th>\n",
       "      <th>Name</th>\n",
       "      <th>Comment</th>\n",
       "      <th>Comment_Id</th>\n",
       "      <th>Time</th>\n",
       "      <th>Likes</th>\n",
       "      <th>Reply_Count</th>\n",
       "      <th>Label</th>\n",
       "    </tr>\n",
       "  </thead>\n",
       "  <tbody>\n",
       "    <tr>\n",
       "      <th>0</th>\n",
       "      <td>AP0NACavjfk</td>\n",
       "      <td>SkinnyIndonesian24 | Prabowo VS Jokowi - Epic ...</td>\n",
       "      <td>Banda vlog</td>\n",
       "      <td>Apa salah mobale lejen pak soekarno</td>\n",
       "      <td>UgwmjTHzY2zMOXBg9F94AaABAg</td>\n",
       "      <td>2019-04-11 11:27:47</td>\n",
       "      <td>0</td>\n",
       "      <td>0</td>\n",
       "      <td>spam</td>\n",
       "    </tr>\n",
       "    <tr>\n",
       "      <th>1</th>\n",
       "      <td>AP0NACavjfk</td>\n",
       "      <td>SkinnyIndonesian24 | Prabowo VS Jokowi - Epic ...</td>\n",
       "      <td>kharisma setya kencana</td>\n",
       "      <td>👆👆👆👆👆👆</td>\n",
       "      <td>UgzbICRmksoeoGVFCzd4AaABAg</td>\n",
       "      <td>2019-04-09 04:08:18</td>\n",
       "      <td>0</td>\n",
       "      <td>0</td>\n",
       "      <td>legitimate</td>\n",
       "    </tr>\n",
       "    <tr>\n",
       "      <th>2</th>\n",
       "      <td>AP0NACavjfk</td>\n",
       "      <td>SkinnyIndonesian24 | Prabowo VS Jokowi - Epic ...</td>\n",
       "      <td>「GratioKunz」</td>\n",
       "      <td>Dan golput itu apa</td>\n",
       "      <td>UgxROKiw4EX5LyaG0lx4AaABAg</td>\n",
       "      <td>2019-04-18 08:57:13</td>\n",
       "      <td>0</td>\n",
       "      <td>0</td>\n",
       "      <td>legitimate</td>\n",
       "    </tr>\n",
       "    <tr>\n",
       "      <th>3</th>\n",
       "      <td>AP0NACavjfk</td>\n",
       "      <td>SkinnyIndonesian24 | Prabowo VS Jokowi - Epic ...</td>\n",
       "      <td>Trestrantara WZ</td>\n",
       "      <td>Keren!!</td>\n",
       "      <td>UgymN9o3cZFXVPLKcjZ4AaABAg</td>\n",
       "      <td>2019-04-08 16:42:13</td>\n",
       "      <td>0</td>\n",
       "      <td>0</td>\n",
       "      <td>legitimate</td>\n",
       "    </tr>\n",
       "    <tr>\n",
       "      <th>4</th>\n",
       "      <td>AP0NACavjfk</td>\n",
       "      <td>SkinnyIndonesian24 | Prabowo VS Jokowi - Epic ...</td>\n",
       "      <td>Heri Kurniawan</td>\n",
       "      <td>Pilih siapa presiden aku Prabowo-Sandi</td>\n",
       "      <td>Ugw9J8lP4lOg0t5yX0l4AaABAg</td>\n",
       "      <td>2019-04-18 00:45:06</td>\n",
       "      <td>1</td>\n",
       "      <td>0</td>\n",
       "      <td>legitimate</td>\n",
       "    </tr>\n",
       "    <tr>\n",
       "      <th>...</th>\n",
       "      <td>...</td>\n",
       "      <td>...</td>\n",
       "      <td>...</td>\n",
       "      <td>...</td>\n",
       "      <td>...</td>\n",
       "      <td>...</td>\n",
       "      <td>...</td>\n",
       "      <td>...</td>\n",
       "      <td>...</td>\n",
       "    </tr>\n",
       "    <tr>\n",
       "      <th>1995</th>\n",
       "      <td>AP0NACavjfk</td>\n",
       "      <td>SkinnyIndonesian24 | Prabowo VS Jokowi - Epic ...</td>\n",
       "      <td>Inul Rosmeydar</td>\n",
       "      <td>\"Nih BPJS, ngantri lo sana\" :v</td>\n",
       "      <td>Ugxy8JCX7KI-f5xu_8V4AaABAg</td>\n",
       "      <td>2019-04-11 04:18:52</td>\n",
       "      <td>1</td>\n",
       "      <td>0</td>\n",
       "      <td>legitimate</td>\n",
       "    </tr>\n",
       "    <tr>\n",
       "      <th>1996</th>\n",
       "      <td>AP0NACavjfk</td>\n",
       "      <td>SkinnyIndonesian24 | Prabowo VS Jokowi - Epic ...</td>\n",
       "      <td>FAREL AKBAR ADITYA SARAGIH</td>\n",
       "      <td>Gua masih suka lihat ini</td>\n",
       "      <td>Ugz9_8SeFNbW0XDKetZ4AaABAg</td>\n",
       "      <td>2019-08-19 02:36:19</td>\n",
       "      <td>0</td>\n",
       "      <td>0</td>\n",
       "      <td>legitimate</td>\n",
       "    </tr>\n",
       "    <tr>\n",
       "      <th>1997</th>\n",
       "      <td>AP0NACavjfk</td>\n",
       "      <td>SkinnyIndonesian24 | Prabowo VS Jokowi - Epic ...</td>\n",
       "      <td>Craft Lisin</td>\n",
       "      <td>Saya udah 5 kali nonton ini</td>\n",
       "      <td>Ugwc9smbDefrf_4gjSd4AaABAg</td>\n",
       "      <td>2019-04-18 06:07:50</td>\n",
       "      <td>1</td>\n",
       "      <td>0</td>\n",
       "      <td>legitimate</td>\n",
       "    </tr>\n",
       "    <tr>\n",
       "      <th>1998</th>\n",
       "      <td>AP0NACavjfk</td>\n",
       "      <td>SkinnyIndonesian24 | Prabowo VS Jokowi - Epic ...</td>\n",
       "      <td>dahlia triyanti</td>\n",
       "      <td>saya pilih pak prabowo. of cores👌🏻👌🏻👌🏻</td>\n",
       "      <td>Ugznk3WicUm_9xAm4Zp4AaABAg</td>\n",
       "      <td>2019-04-12 08:26:32</td>\n",
       "      <td>0</td>\n",
       "      <td>0</td>\n",
       "      <td>legitimate</td>\n",
       "    </tr>\n",
       "    <tr>\n",
       "      <th>1999</th>\n",
       "      <td>AP0NACavjfk</td>\n",
       "      <td>SkinnyIndonesian24 | Prabowo VS Jokowi - Epic ...</td>\n",
       "      <td>muh ihsan fs</td>\n",
       "      <td>DASAR BONEKA PDI!!</td>\n",
       "      <td>Ugz4Kb670qDeWP4FfBl4AaABAg</td>\n",
       "      <td>2019-04-11 19:39:31</td>\n",
       "      <td>0</td>\n",
       "      <td>0</td>\n",
       "      <td>legitimate</td>\n",
       "    </tr>\n",
       "  </tbody>\n",
       "</table>\n",
       "<p>2000 rows × 9 columns</p>\n",
       "</div>"
      ],
      "text/plain": [
       "         Video_Id                                             Tittle  \\\n",
       "0     AP0NACavjfk  SkinnyIndonesian24 | Prabowo VS Jokowi - Epic ...   \n",
       "1     AP0NACavjfk  SkinnyIndonesian24 | Prabowo VS Jokowi - Epic ...   \n",
       "2     AP0NACavjfk  SkinnyIndonesian24 | Prabowo VS Jokowi - Epic ...   \n",
       "3     AP0NACavjfk  SkinnyIndonesian24 | Prabowo VS Jokowi - Epic ...   \n",
       "4     AP0NACavjfk  SkinnyIndonesian24 | Prabowo VS Jokowi - Epic ...   \n",
       "...           ...                                                ...   \n",
       "1995  AP0NACavjfk  SkinnyIndonesian24 | Prabowo VS Jokowi - Epic ...   \n",
       "1996  AP0NACavjfk  SkinnyIndonesian24 | Prabowo VS Jokowi - Epic ...   \n",
       "1997  AP0NACavjfk  SkinnyIndonesian24 | Prabowo VS Jokowi - Epic ...   \n",
       "1998  AP0NACavjfk  SkinnyIndonesian24 | Prabowo VS Jokowi - Epic ...   \n",
       "1999  AP0NACavjfk  SkinnyIndonesian24 | Prabowo VS Jokowi - Epic ...   \n",
       "\n",
       "                            Name                                 Comment  \\\n",
       "0                     Banda vlog     Apa salah mobale lejen pak soekarno   \n",
       "1         kharisma setya kencana                                  👆👆👆👆👆👆   \n",
       "2                   「GratioKunz」                      Dan golput itu apa   \n",
       "3                Trestrantara WZ                                 Keren!!   \n",
       "4                 Heri Kurniawan  Pilih siapa presiden aku Prabowo-Sandi   \n",
       "...                          ...                                     ...   \n",
       "1995              Inul Rosmeydar          \"Nih BPJS, ngantri lo sana\" :v   \n",
       "1996  FAREL AKBAR ADITYA SARAGIH                Gua masih suka lihat ini   \n",
       "1997                 Craft Lisin             Saya udah 5 kali nonton ini   \n",
       "1998             dahlia triyanti  saya pilih pak prabowo. of cores👌🏻👌🏻👌🏻   \n",
       "1999                muh ihsan fs                      DASAR BONEKA PDI!!   \n",
       "\n",
       "                      Comment_Id                Time  Likes  Reply_Count  \\\n",
       "0     UgwmjTHzY2zMOXBg9F94AaABAg 2019-04-11 11:27:47      0            0   \n",
       "1     UgzbICRmksoeoGVFCzd4AaABAg 2019-04-09 04:08:18      0            0   \n",
       "2     UgxROKiw4EX5LyaG0lx4AaABAg 2019-04-18 08:57:13      0            0   \n",
       "3     UgymN9o3cZFXVPLKcjZ4AaABAg 2019-04-08 16:42:13      0            0   \n",
       "4     Ugw9J8lP4lOg0t5yX0l4AaABAg 2019-04-18 00:45:06      1            0   \n",
       "...                          ...                 ...    ...          ...   \n",
       "1995  Ugxy8JCX7KI-f5xu_8V4AaABAg 2019-04-11 04:18:52      1            0   \n",
       "1996  Ugz9_8SeFNbW0XDKetZ4AaABAg 2019-08-19 02:36:19      0            0   \n",
       "1997  Ugwc9smbDefrf_4gjSd4AaABAg 2019-04-18 06:07:50      1            0   \n",
       "1998  Ugznk3WicUm_9xAm4Zp4AaABAg 2019-04-12 08:26:32      0            0   \n",
       "1999  Ugz4Kb670qDeWP4FfBl4AaABAg 2019-04-11 19:39:31      0            0   \n",
       "\n",
       "           Label  \n",
       "0           spam  \n",
       "1     legitimate  \n",
       "2     legitimate  \n",
       "3     legitimate  \n",
       "4     legitimate  \n",
       "...          ...  \n",
       "1995  legitimate  \n",
       "1996  legitimate  \n",
       "1997  legitimate  \n",
       "1998  legitimate  \n",
       "1999  legitimate  \n",
       "\n",
       "[2000 rows x 9 columns]"
      ]
     },
     "execution_count": 18,
     "metadata": {},
     "output_type": "execute_result"
    }
   ],
   "source": [
    "try_data_cleaning"
   ]
  },
  {
   "cell_type": "code",
   "execution_count": 19,
   "metadata": {},
   "outputs": [],
   "source": [
    "trial = try_data_cleaning[[\"Comment\", \"Label\"]]"
   ]
  },
  {
   "cell_type": "code",
   "execution_count": 20,
   "metadata": {},
   "outputs": [],
   "source": [
    "#NLTK_StopWords = stopwords.words('english')\n",
    "factory = StopWordRemoverFactory()\n",
    "Sastrawi_StopWords_id = factory.get_stop_words()"
   ]
  },
  {
   "cell_type": "code",
   "execution_count": 21,
   "metadata": {},
   "outputs": [],
   "source": [
    "Sastrawi_StopWords_id = set(Sastrawi_StopWords_id)"
   ]
  },
  {
   "cell_type": "code",
   "execution_count": 26,
   "metadata": {},
   "outputs": [],
   "source": [
    "#def openfile(path):\n",
    "#    results = [] \n",
    "#    files = os.listdir(path)\n",
    "#    for name in files:\n",
    "#        results.append(name)\n",
    "#    results.sort(reverse = True)\n",
    "\n",
    "#    return(path+'/'+results[0])"
   ]
  },
  {
   "cell_type": "code",
   "execution_count": 27,
   "metadata": {},
   "outputs": [],
   "source": [
    "#def crawlFiles(dPath, types = None):\n",
    "    #dPath = 'C:/Temp', types ='pdf'\n",
    "#    if types:\n",
    "#        return [dPath+'/'+f for f in os.listdir(dPath) if f.endswith('.'+types)]\n",
    "#    else:\n",
    "#        return [dPath+'/'+f for f in os.listdir(dPath)]\n",
    "\n",
    "#def readBz2(file):\n",
    "#    with bz2(file, \"r\") as bzData:\n",
    "#        txt = []\n",
    "#        for line in bzData:\n",
    "#            try:\n",
    "#                txt.append(line.strip().decode('utf-8','replace'))\n",
    "#            except:\n",
    "#                pass\n",
    "#    return ' '.join(txt)\n",
    "\n",
    "#def LoadDocuments(dPath=None,types=None, file = None): # types = ['pdf','doc','docx','txt','bz2']\n",
    "#    Files, Docs = [], []\n",
    "#    if types:\n",
    "#        for tipe in types:\n",
    "#            Files += crawlFiles(dPath,tipe)\n",
    "#    if file:\n",
    "#        Files = [file]\n",
    "#    if not types and not file: # get all files regardless of their extensions\n",
    "#        Files += crawlFiles(dPath)\n",
    "#    for f in Files:\n",
    "#        if f[-3:].lower()=='pdf':\n",
    "#            try:\n",
    "#                Docs.append(PDF(f).string)\n",
    "#            except:\n",
    "#                print('error reading{0}'.format(f))\n",
    "#       if f[-3:].lower()=='txt':\n",
    "#            try:\n",
    "#                df=open(f,\"r\",encoding=\"utf-8\", errors='replace')\n",
    "#                Docs.append(df.readlines());df.close()\n",
    "#            except:\n",
    "#                print('error reading{0}'.format(f))\n",
    "#        elif f[-3:].lower()=='bz2':\n",
    "#            try:\n",
    "#                Docs.append(readBz2(f))\n",
    "#            except:\n",
    "#                print('error reading{0}'.format(f))\n",
    "#        elif f[-4:].lower()=='docx':\n",
    "#            try:\n",
    "#                Docs.append(docx2txt.process(f))\n",
    "#            except:\n",
    "#                print('error reading{0}'.format(f))\n",
    "#        elif f[-3:].lower()=='csv':\n",
    "#            Docs.append(pd.read_csv(f))\n",
    "#        else:\n",
    "#            print('Unsupported format {0}'.format(f))\n",
    "#    if file:\n",
    "#        Docs = Docs[0]\n",
    "#    return Docs, Files\n",
    "\n",
    "\n",
    "#def LoadStopWords(lang, sentiment = True):\n",
    "#    L = lang.lower().strip()\n",
    "#    if sentiment:\n",
    "#        if L == 'en' or L == 'english' or L == 'inggris':\n",
    "#            lemmatizer = WordNetLemmatizer()\n",
    "#            stops = set([t.strip() for t in LoadDocuments(file = openfile(path = './CommentsDetection/Stopwords'))[0]])\n",
    "#        elif L == 'id' or L == 'indonesia' or L == 'indonesian':\n",
    "#            lemmatizer = Indonesian()\n",
    "#            stops = set([t.strip() for t in LoadDocuments(file = openfile(path = './CommentsDetection/Stopwords'))[0]])\n",
    "#        else:\n",
    "#            print('Warning! Languange not recognized. Empty stopword given')\n",
    "#            stops = set(); lemmatizer = None\n",
    "#    else:\n",
    "#        if L == 'en' or L == 'english' or L == 'inggris':\n",
    "#            lemmatizer = WordNetLemmatizer()\n",
    "#            stops = set([t.strip() for t in LoadDocuments(file = openfile(path = './CommentsDetection/Stopwords_eng'))[0]])\n",
    "#        elif L == 'id' or L == 'indonesia' or L == 'indonesian':\n",
    "#            lemmatizer = Indonesian()\n",
    "#            stops = set([t.strip() for t in LoadDocuments(file = openfile(path = './CommentsDetection/Stopwords'))[0]])\n",
    "#        else:\n",
    "#            print('Warning! Languange not recognized. Empty stopword given')\n",
    "#           stops = set(); lemmatizer = None\n",
    "#    return stops, lemmatizer\n",
    "\n",
    "#def fixTags(T):\n",
    "#    getHashtags = re.compile(r\"#(\\w+)\")\n",
    "#    pisahtags = re.compile(r'[A-Z][^A-Z]*')\n",
    "#    t = T\n",
    "#    tagS = re.findall(getHashtags, T)\n",
    "#    for tag in tagS:\n",
    "#        proper_words = ' '.join(re.findall(pisahtags, tagS[0]))\n",
    "#       t = t.replace('#'+tag, proper_words)\n",
    "#    return t\n",
    "\n",
    "#def getTags(T):\n",
    "#    getHashtags = re.compile(r\"#(\\w+)\")\n",
    "#    tagS = re.findall(getHashtags, T)\n",
    "#    isitag = []\n",
    "#    for tag in tagS:       \n",
    "#        tag = '#'+tag\n",
    "#        isitag.append(tag)\n",
    "    \n",
    "#    return ', '.join(isitag)\n",
    "\n",
    "#def cleanText(T, fix={}, lang = 'id', lemma=None, stops = set(), symbols_remove = False, numbers_remove = False, hashtag_remove = False, min_charLen = 0):\n",
    "    # lang & stopS only 2 options : 'en' atau 'id'\n",
    "    # symbols ASCII atau alnum\n",
    "#    pattern = re.compile(r'http[s]?://(?:[a-zA-Z]|[0-9]|[$-_@.&+]|[!*\\(\\),]|(?:%[0-9a-fA-F][0-9a-fA-F]))+')\n",
    "#    t = T\n",
    "#    t = re.sub(pattern,' ',t) #remove urls if any\n",
    "#    t = unescape(t) # html entities fix\n",
    "#    if hashtag_remove:\n",
    "#        t = getTags(t) # fix abcDef\n",
    "#    else:\n",
    "#        t = t\n",
    "#   t = t.lower().strip() # lowercase\n",
    "#    t = unidecode(t)\n",
    "#    t = ''.join(''.join(s)[:2] for _, s in itertools.groupby(t)) # remove repetition\n",
    "#    t = sent_tokenize(t) # sentence segmentation. String to list\n",
    "#    for i, K in enumerate(t):\n",
    "#        if symbols_remove:\n",
    "#            K = re.sub(r'[^.,a-zA-Z0-9 \\n\\.]',' ',K)\n",
    "#            K = K.replace(',',' ').replace('.',' ')\n",
    "#            K = ''.join(c for c in K if c not in punctuation)\n",
    "#            K = re.sub('\\s+',' ',K).strip()\n",
    "        \n",
    "#        if numbers_remove:\n",
    "#            K = re.sub(r'[0-9]',' ',K)\n",
    "#           K = re.sub('\\s+',' ',K)\n",
    "            \n",
    "#        cleanList = []\n",
    "#        if lang =='en':\n",
    "#            listKata = word_tokenize(K) # word tokenize\n",
    "#            for token in listKata:\n",
    "#                if token in fix.keys():\n",
    "#                    token = fix[token]\n",
    "#                if lemma:\n",
    "#                    token = lemma.lemmatize(token)\n",
    "#                if stops:\n",
    "#                    if len(token)>=min_charLen and token not in stops:\n",
    "#                        cleanList.append(token)\n",
    "#                else:\n",
    "#                    if len(token)>=min_charLen:\n",
    "#                        cleanList.append(token)\n",
    "#            t[i] = ' '.join(cleanList)\n",
    "#        else:\n",
    "#            if lemma:\n",
    "#               K = lemma(K)\n",
    "#                listKata = [token.text for token in K]\n",
    "#            else:\n",
    "#               listKata = TextBlob(K).words\n",
    "#                \n",
    "#            for token in listKata:\n",
    "#                if token in fix.keys():\n",
    "#                    token = fix[token]\n",
    "                \n",
    "#                if lemma:\n",
    "#                    token = lemma(token)[0].lemma_\n",
    "                    #token = stemmer.stem(token)\n",
    "#                if stops:    \n",
    "#                    if len(token)>=min_charLen and token not in stops:\n",
    "#                        cleanList.append(token)\n",
    "#                else:\n",
    "#                    if len(token)>=min_charLen:\n",
    "#                        cleanList.append(token)\n",
    "#            t[i] = ' '.join(cleanList).lstrip()\n",
    "#    return ' '.join(t) # Return kalimat lagi\n",
    "\n",
    "#def cleanText_(T, fix={}, min_charLen = 0):\n",
    "#    t = T\n",
    "#    t = t.lower().strip() # lowercase\n",
    "#    t = unidecode(t)\n",
    "#    t = ''.join(''.join(s)[:2] for _, s in itertools.groupby(t)) # remove repetition\n",
    "#    t = sent_tokenize(t) # sentence segmentation. String to list\n",
    "#    for i, K in enumerate(t):\n",
    "#        cleanList = []\n",
    "#        listKata = TextBlob(K).words\n",
    "#        for token in listKata:\n",
    "#            if token in fix.keys():\n",
    "#                token = fix[token]\n",
    "#                cleanList.append(token)\n",
    "#            else:\n",
    "#                if len(token)>=min_charLen:\n",
    "#                    cleanList.append(token)\n",
    "#        t[i] = ' '.join(cleanList).lstrip()\n",
    "#    return ' '.join(t) # Return kalimat lagi\n",
    "\n",
    "\n",
    "#def handlingnegation (text):\n",
    "#    match = re.compile(r'(tidak|kurang|bukan|jangan|tapi|tetapi) (\\w+)').findall(text)\n",
    "#    match = list(set(match))\n",
    "#    for i,word in enumerate(match): \n",
    "#        if ' '.join(match[i]) in text:\n",
    "#            kata = text.replace(' '.join(match[i]), str(match[i][0])+' '+'negx'+str(match[i][1]))\n",
    "#            text = kata\n",
    "#    return text\n",
    "\n",
    "#def handlingporn (text):\n",
    "#    match = re.compile(r'(video|foto|photo) (\\w+)').findall(text)\n",
    "#    match = list(set(match))\n",
    "#    for i,word in enumerate(match): \n",
    "#        if ' '.join(match[i]) in text:\n",
    "#            kata = text.replace(' '.join(match[i]), str(match[i][0])+' '+'pornx'+str(match[i][1]))\n",
    "#            text = kata\n",
    "#    return text\n"
   ]
  },
  {
   "cell_type": "code",
   "execution_count": 28,
   "metadata": {},
   "outputs": [],
   "source": [
    "#def cleanningtext(data, both = True, onlyclean = False, sentiment = False):\n",
    "#    print('Cleaning Text')\n",
    "#    fSlang = openfile(path = 'Slangwords')\n",
    "#    bahasa = 'id'\n",
    "#    stops, lemmatizer = LoadStopWords(bahasa, sentiment = sentiment)\n",
    "#    sw=open(fSlang,encoding='utf-8', errors ='ignore', mode='r');SlangS=sw.readlines();sw.close()\n",
    "#    SlangS = {slang.strip().split(':')[0]:slang.strip().split(':')[1] for slang in SlangS}\n",
    "  \n",
    "#    start_time = time.time()\n",
    "#    tqdm.pandas()\n",
    "    \n",
    "#    if both:\n",
    "#        data['Comment'] = data['Comment'].astype('str')\n",
    "#        data['Comment'] = data['Comment'].str.lower()\n",
    "#        data = data[~data.Comment.str.contains('unavailable')]\n",
    "#        data['cleaned_text'] = data['Comment'].progress_apply(lambda x : cleanText(x,fix=SlangS, lang = bahasa, lemma=lemmatizer, stops = stops, symbols_remove = False, numbers_remove = False, hashtag_remove=False, min_charLen = 2))\n",
    "#        data['cleaned_text'] = data['Comment'].progress_apply(lambda x : handlingnegation(x))\n",
    "        #data['cleaned_text'] = data['cleaned_text'].progress_apply(lambda x : tm.handlingporn(x))\n",
    "#    elif onlyclean: \n",
    "#        data['cleaned_text'] = data['Comment'].progress_apply(lambda x : cleanText(x, fix=SlangS, lang = bahasa, \n",
    "#                               lemma=lemmatizer, stops = stops, symbols_remove = True, numbers_remove = True, hashtag_remove=False, min_charLen = 3))\n",
    "#    else:\n",
    "#        data['cleaned_text'] = data['Comment'].progress_apply(lambda x : handlingnegation(x))\n",
    "    \n",
    "#    data = data[data['cleaned_text'].notna()]\n",
    "#    print(\"%s seconds\" %(time.time()-start_time))\n",
    "    \n",
    "#    return data"
   ]
  },
  {
   "cell_type": "code",
   "execution_count": 29,
   "metadata": {},
   "outputs": [],
   "source": [
    "#def cleaning(text):\n",
    "#    text = str(text)\n",
    "#    print(f\"Text Original : {text}\")\n",
    "\n",
    "#    print(\"\\n\\n\")\n",
    "\n",
    "    #getHastags\n",
    "#    getHashtags = re.compile(r\"#(\\w+)\")\n",
    "#    pisahtags = re.compile(r'[A-Z][^A-Z]*')\n",
    "#    t = text\n",
    "#    tagS = re.findall(getHashtags, text)\n",
    "#    for tag in tagS:\n",
    "#        proper_words = ' '.join(re.findall(pisahtags, tagS[0]))\n",
    "#        t = t.replace('#'+tag, proper_words)"
   ]
  },
  {
   "cell_type": "code",
   "execution_count": 22,
   "metadata": {},
   "outputs": [],
   "source": [
    "import emoji \n",
    "\n",
    "def lower(text):\n",
    "    text = text.lower()\n",
    "    return text\n",
    "    \n",
    "#def remove_numbers(text):\n",
    "    number_pattern = r'\\d+'\n",
    "    without_number = re.sub(pattern=number_pattern, repl=\" \", string=text)\n",
    "    return without_number\n",
    "\n",
    "def remove_emoji(text):\n",
    "    pattern = emoji.get_emoji_regexp()\n",
    "    without_emoji = pattern.sub('', text)\n",
    "    return without_emoji\n",
    "\n",
    "#def replace_url(text, replacement):\n",
    "    text = str(text)\n",
    "    text = re.sub('http[s]?://(?:[a-zA-Z]|[0-9]|[$-_@.&+]|[!*\\(\\),]|(?:%[0-9a-fA-F][0-9a-fA-F]))+', replacement, text)\n",
    "    text = re.sub('[/]?watch(?:[a-zA-Z]|[0-9]|[$-_@.&+]|[!*\\(\\),]|(?:%[0-9a-fA-F][0-9a-fA-F]))+', replacement, text)\n",
    "    return text\n",
    "\n",
    "#Detect link and replace with url\n",
    "urlregex = re.compile(r\"\"\"(?i)\\b((?:https?:(?:/{1,3}|[a-z0-9%])|[a-z0-9.\\-]+[.](?:com|net|org|edu|gov|mil|aero|asia|biz|cat|coop|info|int|jobs|mobi|museum|name|post|pro|tel|travel|xxx|ac|ad|ae|af|ag|ai|al|am|an|ao|aq|ar|as|at|au|aw|ax|az|ba|bb|bd|be|bf|bg|bh|bi|bj|bm|bn|bo|br|bs|bt|bv|bw|by|bz|ca|cc|cd|cf|cg|ch|ci|ck|cl|cm|cn|co|cr|cs|cu|cv|cx|cy|cz|dd|de|dj|dk|dm|do|dz|ec|ee|eg|eh|er|es|et|eu|fi|fj|fk|fm|fo|fr|ga|gb|gd|ge|gf|gg|gh|gi|gl|gm|gn|gp|gq|gr|gs|gt|gu|gw|gy|hk|hm|hn|hr|ht|hu|id|ie|il|im|in|io|iq|ir|is|it|je|jm|jo|jp|ke|kg|kh|ki|km|kn|kp|kr|kw|ky|kz|la|lb|lc|li|lk|lr|ls|lt|lu|lv|ly|ma|mc|md|me|mg|mh|mk|ml|mm|mn|mo|mp|mq|mr|ms|mt|mu|mv|mw|mx|my|mz|na|nc|ne|nf|ng|ni|nl|no|np|nr|nu|nz|om|pa|pe|pf|pg|ph|pk|pl|pm|pn|pr|ps|pt|pw|py|qa|re|ro|rs|ru|rw|sa|sb|sc|sd|se|sg|sh|si|sj|Ja|sk|sl|sm|sn|so|sr|ss|st|su|sv|sx|sy|sz|tc|td|tf|tg|th|tj|tk|tl|tm|tn|to|tp|tr|tt|tv|tw|tz|ua|ug|uk|us|uy|uz|va|vc|ve|vg|vi|vn|vu|wf|ws|ye|yt|yu|za|zm|zw)/)(?:[^\\s()<>{}\\[\\]]+|\\([^\\s()]*?\\([^\\s()]+\\)[^\\s()]*?\\)|\\([^\\s]+?\\))+(?:\\([^\\s()]*?\\([^\\s()]+\\)[^\\s()]*?\\)|\\([^\\s]+?\\)|[^\\s`!()\\[\\]{};:'\".,<>?«»“”‘’])|(?:(?<!@)[a-z0-9]+(?:[.\\-][a-z0-9]+)*[.](?:com|net|org|edu|gov|mil|aero|asia|biz|cat|coop|info|int|jobs|mobi|museum|name|post|pro|tel|travel|xxx|ac|ad|ae|af|ag|ai|al|am|an|ao|aq|ar|as|at|au|aw|ax|az|ba|bb|bd|be|bf|bg|bh|bi|bj|bm|bn|bo|br|bs|bt|bv|bw|by|bz|ca|cc|cd|cf|cg|ch|ci|ck|cl|cm|cn|co|cr|cs|cu|cv|cx|cy|cz|dd|de|dj|dk|dm|do|dz|ec|ee|eg|eh|er|es|et|eu|fi|fj|fk|fm|fo|fr|ga|gb|gd|ge|gf|gg|gh|gi|gl|gm|gn|gp|gq|gr|gs|gt|gu|gw|gy|hk|hm|hn|hr|ht|hu|id|ie|il|im|in|io|iq|ir|is|it|je|jm|jo|jp|ke|kg|kh|ki|km|kn|kp|kr|kw|ky|kz|la|lb|lc|li|lk|lr|ls|lt|lu|lv|ly|ma|mc|md|me|mg|mh|mk|ml|mm|mn|mo|mp|mq|mr|ms|mt|mu|mv|mw|mx|my|mz|na|nc|ne|nf|ng|ni|nl|no|np|nr|nu|nz|om|pa|pe|pf|pg|ph|pk|pl|pm|pn|pr|ps|pt|pw|py|qa|re|ro|rs|ru|rw|sa|sb|sc|sd|se|sg|sh|si|sj|Ja|sk|sl|sm|sn|so|sr|ss|st|su|sv|sx|sy|sz|tc|td|tf|tg|th|tj|tk|tl|tm|tn|to|tp|tr|tt|tv|tw|tz|ua|ug|uk|us|uy|uz|va|vc|ve|vg|vi|vn|vu|wf|ws|ye|yt|yu|za|zm|zw)\\b/?(?!@)))\"\"\")\n",
    "\n",
    "def detecturl(text, replace):\n",
    "    url_filtered_comment = re.sub(urlregex, replace,text)\n",
    "    return url_filtered_comment\n",
    "\n",
    "#remove punctuation\n",
    "clean_spcl = re.compile('[/(){}\\[\\]\\|!;]')\n",
    "clean_symbol = re.compile('[^.,a-zA-Z0-9 \\n\\.]')\n",
    "\n",
    "def clean_punct(text):\n",
    "    text = clean_spcl.sub('', text)\n",
    "    text = clean_symbol.sub('', text)\n",
    "    return text\n",
    "\n",
    "def white_spaces(text):\n",
    "    single_char_pattern = re.compile(r'\\s+')\n",
    "    text = re.sub(pattern=single_char_pattern, repl=' ', string=text)\n",
    "    return text"
   ]
  },
  {
   "cell_type": "code",
   "execution_count": 31,
   "metadata": {},
   "outputs": [],
   "source": [
    "#urlregex = re.compile(r\"\"\"(?i)\\b((?:https?:(?:/{1,3}|[a-z0-9%])|[a-z0-9.\\-]+[.](?:com|net|org|edu|gov|mil|aero|asia|biz|cat|coop|info|int|jobs|mobi|museum|name|post|pro|tel|travel|xxx|ac|ad|ae|af|ag|ai|al|am|an|ao|aq|ar|as|at|au|aw|ax|az|ba|bb|bd|be|bf|bg|bh|bi|bj|bm|bn|bo|br|bs|bt|bv|bw|by|bz|ca|cc|cd|cf|cg|ch|ci|ck|cl|cm|cn|co|cr|cs|cu|cv|cx|cy|cz|dd|de|dj|dk|dm|do|dz|ec|ee|eg|eh|er|es|et|eu|fi|fj|fk|fm|fo|fr|ga|gb|gd|ge|gf|gg|gh|gi|gl|gm|gn|gp|gq|gr|gs|gt|gu|gw|gy|hk|hm|hn|hr|ht|hu|id|ie|il|im|in|io|iq|ir|is|it|je|jm|jo|jp|ke|kg|kh|ki|km|kn|kp|kr|kw|ky|kz|la|lb|lc|li|lk|lr|ls|lt|lu|lv|ly|ma|mc|md|me|mg|mh|mk|ml|mm|mn|mo|mp|mq|mr|ms|mt|mu|mv|mw|mx|my|mz|na|nc|ne|nf|ng|ni|nl|no|np|nr|nu|nz|om|pa|pe|pf|pg|ph|pk|pl|pm|pn|pr|ps|pt|pw|py|qa|re|ro|rs|ru|rw|sa|sb|sc|sd|se|sg|sh|si|sj|Ja|sk|sl|sm|sn|so|sr|ss|st|su|sv|sx|sy|sz|tc|td|tf|tg|th|tj|tk|tl|tm|tn|to|tp|tr|tt|tv|tw|tz|ua|ug|uk|us|uy|uz|va|vc|ve|vg|vi|vn|vu|wf|ws|ye|yt|yu|za|zm|zw)/)(?:[^\\s()<>{}\\[\\]]+|\\([^\\s()]*?\\([^\\s()]+\\)[^\\s()]*?\\)|\\([^\\s]+?\\))+(?:\\([^\\s()]*?\\([^\\s()]+\\)[^\\s()]*?\\)|\\([^\\s]+?\\)|[^\\s`!()\\[\\]{};:'\".,<>?«»“”‘’])|(?:(?<!@)[a-z0-9]+(?:[.\\-][a-z0-9]+)*[.](?:com|net|org|edu|gov|mil|aero|asia|biz|cat|coop|info|int|jobs|mobi|museum|name|post|pro|tel|travel|xxx|ac|ad|ae|af|ag|ai|al|am|an|ao|aq|ar|as|at|au|aw|ax|az|ba|bb|bd|be|bf|bg|bh|bi|bj|bm|bn|bo|br|bs|bt|bv|bw|by|bz|ca|cc|cd|cf|cg|ch|ci|ck|cl|cm|cn|co|cr|cs|cu|cv|cx|cy|cz|dd|de|dj|dk|dm|do|dz|ec|ee|eg|eh|er|es|et|eu|fi|fj|fk|fm|fo|fr|ga|gb|gd|ge|gf|gg|gh|gi|gl|gm|gn|gp|gq|gr|gs|gt|gu|gw|gy|hk|hm|hn|hr|ht|hu|id|ie|il|im|in|io|iq|ir|is|it|je|jm|jo|jp|ke|kg|kh|ki|km|kn|kp|kr|kw|ky|kz|la|lb|lc|li|lk|lr|ls|lt|lu|lv|ly|ma|mc|md|me|mg|mh|mk|ml|mm|mn|mo|mp|mq|mr|ms|mt|mu|mv|mw|mx|my|mz|na|nc|ne|nf|ng|ni|nl|no|np|nr|nu|nz|om|pa|pe|pf|pg|ph|pk|pl|pm|pn|pr|ps|pt|pw|py|qa|re|ro|rs|ru|rw|sa|sb|sc|sd|se|sg|sh|si|sj|Ja|sk|sl|sm|sn|so|sr|ss|st|su|sv|sx|sy|sz|tc|td|tf|tg|th|tj|tk|tl|tm|tn|to|tp|tr|tt|tv|tw|tz|ua|ug|uk|us|uy|uz|va|vc|ve|vg|vi|vn|vu|wf|ws|ye|yt|yu|za|zm|zw)\\b/?(?!@)))\"\"\")\n",
    "\n",
    "#def detecturl(comment):\n",
    "#    url_filtered_comment = re.sub(urlregex, 'url', comment)\n",
    "#    return url_filtered_comment"
   ]
  },
  {
   "cell_type": "code",
   "execution_count": 32,
   "metadata": {},
   "outputs": [],
   "source": [
    "text = \"http://Youtube.com\""
   ]
  },
  {
   "cell_type": "code",
   "execution_count": 33,
   "metadata": {},
   "outputs": [
    {
     "data": {
      "text/plain": [
       "'httpYoutube.com'"
      ]
     },
     "execution_count": 33,
     "metadata": {},
     "output_type": "execute_result"
    }
   ],
   "source": [
    "clean_punct(text)"
   ]
  },
  {
   "cell_type": "code",
   "execution_count": 34,
   "metadata": {},
   "outputs": [
    {
     "data": {
      "text/plain": [
       "'url'"
      ]
     },
     "execution_count": 34,
     "metadata": {},
     "output_type": "execute_result"
    }
   ],
   "source": [
    "detecturl(text,'url')"
   ]
  },
  {
   "cell_type": "code",
   "execution_count": 23,
   "metadata": {},
   "outputs": [],
   "source": [
    "trial['cleaned'] = trial['Comment'].apply(lambda x: lower(x))"
   ]
  },
  {
   "cell_type": "code",
   "execution_count": 24,
   "metadata": {},
   "outputs": [
    {
     "data": {
      "text/html": [
       "<div>\n",
       "<style scoped>\n",
       "    .dataframe tbody tr th:only-of-type {\n",
       "        vertical-align: middle;\n",
       "    }\n",
       "\n",
       "    .dataframe tbody tr th {\n",
       "        vertical-align: top;\n",
       "    }\n",
       "\n",
       "    .dataframe thead th {\n",
       "        text-align: right;\n",
       "    }\n",
       "</style>\n",
       "<table border=\"1\" class=\"dataframe\">\n",
       "  <thead>\n",
       "    <tr style=\"text-align: right;\">\n",
       "      <th></th>\n",
       "      <th>Comment</th>\n",
       "      <th>Label</th>\n",
       "      <th>cleaned</th>\n",
       "    </tr>\n",
       "  </thead>\n",
       "  <tbody>\n",
       "    <tr>\n",
       "      <th>1980</th>\n",
       "      <td>Merindingggg, mantaaap #trending</td>\n",
       "      <td>legitimate</td>\n",
       "      <td>merindingggg, mantaaap #trending</td>\n",
       "    </tr>\n",
       "    <tr>\n",
       "      <th>1981</th>\n",
       "      <td>jokowi atau prabowo ,silahkan di pilih yang pe...</td>\n",
       "      <td>legitimate</td>\n",
       "      <td>jokowi atau prabowo ,silahkan di pilih yang pe...</td>\n",
       "    </tr>\n",
       "    <tr>\n",
       "      <th>1982</th>\n",
       "      <td>Ngakak jangan wkwk</td>\n",
       "      <td>legitimate</td>\n",
       "      <td>ngakak jangan wkwk</td>\n",
       "    </tr>\n",
       "    <tr>\n",
       "      <th>1983</th>\n",
       "      <td>Kerennn nihhhh</td>\n",
       "      <td>legitimate</td>\n",
       "      <td>kerennn nihhhh</td>\n",
       "    </tr>\n",
       "    <tr>\n",
       "      <th>1984</th>\n",
       "      <td>@Muhammad Alfan Dimas Abdillah lah emang nggak...</td>\n",
       "      <td>legitimate</td>\n",
       "      <td>@muhammad alfan dimas abdillah lah emang nggak...</td>\n",
       "    </tr>\n",
       "    <tr>\n",
       "      <th>1985</th>\n",
       "      <td>Berawal dari sebuah kotak kardus yang pke gembok</td>\n",
       "      <td>legitimate</td>\n",
       "      <td>berawal dari sebuah kotak kardus yang pke gembok</td>\n",
       "    </tr>\n",
       "    <tr>\n",
       "      <th>1986</th>\n",
       "      <td>Yg sampe skrg masi nonton video ini siapa? Pro...</td>\n",
       "      <td>spam</td>\n",
       "      <td>yg sampe skrg masi nonton video ini siapa? pro...</td>\n",
       "    </tr>\n",
       "    <tr>\n",
       "      <th>1987</th>\n",
       "      <td>Lu bisa apa?😃</td>\n",
       "      <td>legitimate</td>\n",
       "      <td>lu bisa apa?😃</td>\n",
       "    </tr>\n",
       "    <tr>\n",
       "      <th>1988</th>\n",
       "      <td>TERIMAKASIH SUDAH MENEMANI KAMI SEMUA SELAMA S...</td>\n",
       "      <td>legitimate</td>\n",
       "      <td>terimakasih sudah menemani kami semua selama s...</td>\n",
       "    </tr>\n",
       "    <tr>\n",
       "      <th>1989</th>\n",
       "      <td>2:26paling enak</td>\n",
       "      <td>legitimate</td>\n",
       "      <td>2:26paling enak</td>\n",
       "    </tr>\n",
       "    <tr>\n",
       "      <th>1990</th>\n",
       "      <td>KELAS!!!!!!</td>\n",
       "      <td>legitimate</td>\n",
       "      <td>kelas!!!!!!</td>\n",
       "    </tr>\n",
       "    <tr>\n",
       "      <th>1991</th>\n",
       "      <td>Tapi  arahny  udah jelas  01  banyak  PR yg  b...</td>\n",
       "      <td>legitimate</td>\n",
       "      <td>tapi  arahny  udah jelas  01  banyak  pr yg  b...</td>\n",
       "    </tr>\n",
       "    <tr>\n",
       "      <th>1992</th>\n",
       "      <td>Keren🔥🔥🔥</td>\n",
       "      <td>legitimate</td>\n",
       "      <td>keren🔥🔥🔥</td>\n",
       "    </tr>\n",
       "    <tr>\n",
       "      <th>1993</th>\n",
       "      <td>Epic bro, ikut share ya</td>\n",
       "      <td>spam</td>\n",
       "      <td>epic bro, ikut share ya</td>\n",
       "    </tr>\n",
       "    <tr>\n",
       "      <th>1994</th>\n",
       "      <td>Iya... Tiba2 keinget rap battle ini :'v</td>\n",
       "      <td>legitimate</td>\n",
       "      <td>iya... tiba2 keinget rap battle ini :'v</td>\n",
       "    </tr>\n",
       "    <tr>\n",
       "      <th>1995</th>\n",
       "      <td>\"Nih BPJS, ngantri lo sana\" :v</td>\n",
       "      <td>legitimate</td>\n",
       "      <td>\"nih bpjs, ngantri lo sana\" :v</td>\n",
       "    </tr>\n",
       "    <tr>\n",
       "      <th>1996</th>\n",
       "      <td>Gua masih suka lihat ini</td>\n",
       "      <td>legitimate</td>\n",
       "      <td>gua masih suka lihat ini</td>\n",
       "    </tr>\n",
       "    <tr>\n",
       "      <th>1997</th>\n",
       "      <td>Saya udah 5 kali nonton ini</td>\n",
       "      <td>legitimate</td>\n",
       "      <td>saya udah 5 kali nonton ini</td>\n",
       "    </tr>\n",
       "    <tr>\n",
       "      <th>1998</th>\n",
       "      <td>saya pilih pak prabowo. of cores👌🏻👌🏻👌🏻</td>\n",
       "      <td>legitimate</td>\n",
       "      <td>saya pilih pak prabowo. of cores👌🏻👌🏻👌🏻</td>\n",
       "    </tr>\n",
       "    <tr>\n",
       "      <th>1999</th>\n",
       "      <td>DASAR BONEKA PDI!!</td>\n",
       "      <td>legitimate</td>\n",
       "      <td>dasar boneka pdi!!</td>\n",
       "    </tr>\n",
       "  </tbody>\n",
       "</table>\n",
       "</div>"
      ],
      "text/plain": [
       "                                                Comment       Label  \\\n",
       "1980                   Merindingggg, mantaaap #trending  legitimate   \n",
       "1981  jokowi atau prabowo ,silahkan di pilih yang pe...  legitimate   \n",
       "1982                                 Ngakak jangan wkwk  legitimate   \n",
       "1983                                     Kerennn nihhhh  legitimate   \n",
       "1984  @Muhammad Alfan Dimas Abdillah lah emang nggak...  legitimate   \n",
       "1985   Berawal dari sebuah kotak kardus yang pke gembok  legitimate   \n",
       "1986  Yg sampe skrg masi nonton video ini siapa? Pro...        spam   \n",
       "1987                                      Lu bisa apa?😃  legitimate   \n",
       "1988  TERIMAKASIH SUDAH MENEMANI KAMI SEMUA SELAMA S...  legitimate   \n",
       "1989                                    2:26paling enak  legitimate   \n",
       "1990                                        KELAS!!!!!!  legitimate   \n",
       "1991  Tapi  arahny  udah jelas  01  banyak  PR yg  b...  legitimate   \n",
       "1992                                           Keren🔥🔥🔥  legitimate   \n",
       "1993                            Epic bro, ikut share ya        spam   \n",
       "1994            Iya... Tiba2 keinget rap battle ini :'v  legitimate   \n",
       "1995                     \"Nih BPJS, ngantri lo sana\" :v  legitimate   \n",
       "1996                           Gua masih suka lihat ini  legitimate   \n",
       "1997                        Saya udah 5 kali nonton ini  legitimate   \n",
       "1998             saya pilih pak prabowo. of cores👌🏻👌🏻👌🏻  legitimate   \n",
       "1999                                 DASAR BONEKA PDI!!  legitimate   \n",
       "\n",
       "                                                cleaned  \n",
       "1980                   merindingggg, mantaaap #trending  \n",
       "1981  jokowi atau prabowo ,silahkan di pilih yang pe...  \n",
       "1982                                 ngakak jangan wkwk  \n",
       "1983                                     kerennn nihhhh  \n",
       "1984  @muhammad alfan dimas abdillah lah emang nggak...  \n",
       "1985   berawal dari sebuah kotak kardus yang pke gembok  \n",
       "1986  yg sampe skrg masi nonton video ini siapa? pro...  \n",
       "1987                                      lu bisa apa?😃  \n",
       "1988  terimakasih sudah menemani kami semua selama s...  \n",
       "1989                                    2:26paling enak  \n",
       "1990                                        kelas!!!!!!  \n",
       "1991  tapi  arahny  udah jelas  01  banyak  pr yg  b...  \n",
       "1992                                           keren🔥🔥🔥  \n",
       "1993                            epic bro, ikut share ya  \n",
       "1994            iya... tiba2 keinget rap battle ini :'v  \n",
       "1995                     \"nih bpjs, ngantri lo sana\" :v  \n",
       "1996                           gua masih suka lihat ini  \n",
       "1997                        saya udah 5 kali nonton ini  \n",
       "1998             saya pilih pak prabowo. of cores👌🏻👌🏻👌🏻  \n",
       "1999                                 dasar boneka pdi!!  "
      ]
     },
     "execution_count": 24,
     "metadata": {},
     "output_type": "execute_result"
    }
   ],
   "source": [
    "trial.tail(20)"
   ]
  },
  {
   "cell_type": "code",
   "execution_count": 37,
   "metadata": {},
   "outputs": [],
   "source": [
    "#trial['cleaned'] = trial['cleaned'].apply(lambda x: remove_numbers(x))"
   ]
  },
  {
   "cell_type": "code",
   "execution_count": 38,
   "metadata": {},
   "outputs": [],
   "source": [
    "#trial.tail(20)"
   ]
  },
  {
   "cell_type": "code",
   "execution_count": 25,
   "metadata": {},
   "outputs": [],
   "source": [
    "trial['cleaned'] = trial['cleaned'].apply(lambda x: remove_emoji(x))"
   ]
  },
  {
   "cell_type": "code",
   "execution_count": 26,
   "metadata": {},
   "outputs": [
    {
     "data": {
      "text/html": [
       "<div>\n",
       "<style scoped>\n",
       "    .dataframe tbody tr th:only-of-type {\n",
       "        vertical-align: middle;\n",
       "    }\n",
       "\n",
       "    .dataframe tbody tr th {\n",
       "        vertical-align: top;\n",
       "    }\n",
       "\n",
       "    .dataframe thead th {\n",
       "        text-align: right;\n",
       "    }\n",
       "</style>\n",
       "<table border=\"1\" class=\"dataframe\">\n",
       "  <thead>\n",
       "    <tr style=\"text-align: right;\">\n",
       "      <th></th>\n",
       "      <th>Comment</th>\n",
       "      <th>Label</th>\n",
       "      <th>cleaned</th>\n",
       "    </tr>\n",
       "  </thead>\n",
       "  <tbody>\n",
       "    <tr>\n",
       "      <th>1980</th>\n",
       "      <td>Merindingggg, mantaaap #trending</td>\n",
       "      <td>legitimate</td>\n",
       "      <td>merindingggg, mantaaap #trending</td>\n",
       "    </tr>\n",
       "    <tr>\n",
       "      <th>1981</th>\n",
       "      <td>jokowi atau prabowo ,silahkan di pilih yang pe...</td>\n",
       "      <td>legitimate</td>\n",
       "      <td>jokowi atau prabowo ,silahkan di pilih yang pe...</td>\n",
       "    </tr>\n",
       "    <tr>\n",
       "      <th>1982</th>\n",
       "      <td>Ngakak jangan wkwk</td>\n",
       "      <td>legitimate</td>\n",
       "      <td>ngakak jangan wkwk</td>\n",
       "    </tr>\n",
       "    <tr>\n",
       "      <th>1983</th>\n",
       "      <td>Kerennn nihhhh</td>\n",
       "      <td>legitimate</td>\n",
       "      <td>kerennn nihhhh</td>\n",
       "    </tr>\n",
       "    <tr>\n",
       "      <th>1984</th>\n",
       "      <td>@Muhammad Alfan Dimas Abdillah lah emang nggak...</td>\n",
       "      <td>legitimate</td>\n",
       "      <td>@muhammad alfan dimas abdillah lah emang nggak...</td>\n",
       "    </tr>\n",
       "    <tr>\n",
       "      <th>1985</th>\n",
       "      <td>Berawal dari sebuah kotak kardus yang pke gembok</td>\n",
       "      <td>legitimate</td>\n",
       "      <td>berawal dari sebuah kotak kardus yang pke gembok</td>\n",
       "    </tr>\n",
       "    <tr>\n",
       "      <th>1986</th>\n",
       "      <td>Yg sampe skrg masi nonton video ini siapa? Pro...</td>\n",
       "      <td>spam</td>\n",
       "      <td>yg sampe skrg masi nonton video ini siapa? pro...</td>\n",
       "    </tr>\n",
       "    <tr>\n",
       "      <th>1987</th>\n",
       "      <td>Lu bisa apa?😃</td>\n",
       "      <td>legitimate</td>\n",
       "      <td>lu bisa apa?</td>\n",
       "    </tr>\n",
       "    <tr>\n",
       "      <th>1988</th>\n",
       "      <td>TERIMAKASIH SUDAH MENEMANI KAMI SEMUA SELAMA S...</td>\n",
       "      <td>legitimate</td>\n",
       "      <td>terimakasih sudah menemani kami semua selama s...</td>\n",
       "    </tr>\n",
       "    <tr>\n",
       "      <th>1989</th>\n",
       "      <td>2:26paling enak</td>\n",
       "      <td>legitimate</td>\n",
       "      <td>2:26paling enak</td>\n",
       "    </tr>\n",
       "    <tr>\n",
       "      <th>1990</th>\n",
       "      <td>KELAS!!!!!!</td>\n",
       "      <td>legitimate</td>\n",
       "      <td>kelas!!!!!!</td>\n",
       "    </tr>\n",
       "    <tr>\n",
       "      <th>1991</th>\n",
       "      <td>Tapi  arahny  udah jelas  01  banyak  PR yg  b...</td>\n",
       "      <td>legitimate</td>\n",
       "      <td>tapi  arahny  udah jelas  01  banyak  pr yg  b...</td>\n",
       "    </tr>\n",
       "    <tr>\n",
       "      <th>1992</th>\n",
       "      <td>Keren🔥🔥🔥</td>\n",
       "      <td>legitimate</td>\n",
       "      <td>keren</td>\n",
       "    </tr>\n",
       "    <tr>\n",
       "      <th>1993</th>\n",
       "      <td>Epic bro, ikut share ya</td>\n",
       "      <td>spam</td>\n",
       "      <td>epic bro, ikut share ya</td>\n",
       "    </tr>\n",
       "    <tr>\n",
       "      <th>1994</th>\n",
       "      <td>Iya... Tiba2 keinget rap battle ini :'v</td>\n",
       "      <td>legitimate</td>\n",
       "      <td>iya... tiba2 keinget rap battle ini :'v</td>\n",
       "    </tr>\n",
       "    <tr>\n",
       "      <th>1995</th>\n",
       "      <td>\"Nih BPJS, ngantri lo sana\" :v</td>\n",
       "      <td>legitimate</td>\n",
       "      <td>\"nih bpjs, ngantri lo sana\" :v</td>\n",
       "    </tr>\n",
       "    <tr>\n",
       "      <th>1996</th>\n",
       "      <td>Gua masih suka lihat ini</td>\n",
       "      <td>legitimate</td>\n",
       "      <td>gua masih suka lihat ini</td>\n",
       "    </tr>\n",
       "    <tr>\n",
       "      <th>1997</th>\n",
       "      <td>Saya udah 5 kali nonton ini</td>\n",
       "      <td>legitimate</td>\n",
       "      <td>saya udah 5 kali nonton ini</td>\n",
       "    </tr>\n",
       "    <tr>\n",
       "      <th>1998</th>\n",
       "      <td>saya pilih pak prabowo. of cores👌🏻👌🏻👌🏻</td>\n",
       "      <td>legitimate</td>\n",
       "      <td>saya pilih pak prabowo. of cores</td>\n",
       "    </tr>\n",
       "    <tr>\n",
       "      <th>1999</th>\n",
       "      <td>DASAR BONEKA PDI!!</td>\n",
       "      <td>legitimate</td>\n",
       "      <td>dasar boneka pdi!!</td>\n",
       "    </tr>\n",
       "  </tbody>\n",
       "</table>\n",
       "</div>"
      ],
      "text/plain": [
       "                                                Comment       Label  \\\n",
       "1980                   Merindingggg, mantaaap #trending  legitimate   \n",
       "1981  jokowi atau prabowo ,silahkan di pilih yang pe...  legitimate   \n",
       "1982                                 Ngakak jangan wkwk  legitimate   \n",
       "1983                                     Kerennn nihhhh  legitimate   \n",
       "1984  @Muhammad Alfan Dimas Abdillah lah emang nggak...  legitimate   \n",
       "1985   Berawal dari sebuah kotak kardus yang pke gembok  legitimate   \n",
       "1986  Yg sampe skrg masi nonton video ini siapa? Pro...        spam   \n",
       "1987                                      Lu bisa apa?😃  legitimate   \n",
       "1988  TERIMAKASIH SUDAH MENEMANI KAMI SEMUA SELAMA S...  legitimate   \n",
       "1989                                    2:26paling enak  legitimate   \n",
       "1990                                        KELAS!!!!!!  legitimate   \n",
       "1991  Tapi  arahny  udah jelas  01  banyak  PR yg  b...  legitimate   \n",
       "1992                                           Keren🔥🔥🔥  legitimate   \n",
       "1993                            Epic bro, ikut share ya        spam   \n",
       "1994            Iya... Tiba2 keinget rap battle ini :'v  legitimate   \n",
       "1995                     \"Nih BPJS, ngantri lo sana\" :v  legitimate   \n",
       "1996                           Gua masih suka lihat ini  legitimate   \n",
       "1997                        Saya udah 5 kali nonton ini  legitimate   \n",
       "1998             saya pilih pak prabowo. of cores👌🏻👌🏻👌🏻  legitimate   \n",
       "1999                                 DASAR BONEKA PDI!!  legitimate   \n",
       "\n",
       "                                                cleaned  \n",
       "1980                   merindingggg, mantaaap #trending  \n",
       "1981  jokowi atau prabowo ,silahkan di pilih yang pe...  \n",
       "1982                                 ngakak jangan wkwk  \n",
       "1983                                     kerennn nihhhh  \n",
       "1984  @muhammad alfan dimas abdillah lah emang nggak...  \n",
       "1985   berawal dari sebuah kotak kardus yang pke gembok  \n",
       "1986  yg sampe skrg masi nonton video ini siapa? pro...  \n",
       "1987                                       lu bisa apa?  \n",
       "1988  terimakasih sudah menemani kami semua selama s...  \n",
       "1989                                    2:26paling enak  \n",
       "1990                                        kelas!!!!!!  \n",
       "1991  tapi  arahny  udah jelas  01  banyak  pr yg  b...  \n",
       "1992                                              keren  \n",
       "1993                            epic bro, ikut share ya  \n",
       "1994            iya... tiba2 keinget rap battle ini :'v  \n",
       "1995                     \"nih bpjs, ngantri lo sana\" :v  \n",
       "1996                           gua masih suka lihat ini  \n",
       "1997                        saya udah 5 kali nonton ini  \n",
       "1998                   saya pilih pak prabowo. of cores  \n",
       "1999                                 dasar boneka pdi!!  "
      ]
     },
     "execution_count": 26,
     "metadata": {},
     "output_type": "execute_result"
    }
   ],
   "source": [
    "trial.tail(20)"
   ]
  },
  {
   "cell_type": "code",
   "execution_count": 27,
   "metadata": {},
   "outputs": [],
   "source": [
    "trial[\"cleaned\"] = trial[\"cleaned\"].apply(lambda x: detecturl(x, 'url'))"
   ]
  },
  {
   "cell_type": "code",
   "execution_count": 28,
   "metadata": {},
   "outputs": [
    {
     "data": {
      "text/html": [
       "<div>\n",
       "<style scoped>\n",
       "    .dataframe tbody tr th:only-of-type {\n",
       "        vertical-align: middle;\n",
       "    }\n",
       "\n",
       "    .dataframe tbody tr th {\n",
       "        vertical-align: top;\n",
       "    }\n",
       "\n",
       "    .dataframe thead th {\n",
       "        text-align: right;\n",
       "    }\n",
       "</style>\n",
       "<table border=\"1\" class=\"dataframe\">\n",
       "  <thead>\n",
       "    <tr style=\"text-align: right;\">\n",
       "      <th></th>\n",
       "      <th>Comment</th>\n",
       "      <th>Label</th>\n",
       "      <th>cleaned</th>\n",
       "    </tr>\n",
       "  </thead>\n",
       "  <tbody>\n",
       "    <tr>\n",
       "      <th>0</th>\n",
       "      <td>Apa salah mobale lejen pak soekarno</td>\n",
       "      <td>spam</td>\n",
       "      <td>apa salah mobale lejen pak soekarno</td>\n",
       "    </tr>\n",
       "    <tr>\n",
       "      <th>1</th>\n",
       "      <td>👆👆👆👆👆👆</td>\n",
       "      <td>legitimate</td>\n",
       "      <td></td>\n",
       "    </tr>\n",
       "    <tr>\n",
       "      <th>2</th>\n",
       "      <td>Dan golput itu apa</td>\n",
       "      <td>legitimate</td>\n",
       "      <td>dan golput itu apa</td>\n",
       "    </tr>\n",
       "    <tr>\n",
       "      <th>3</th>\n",
       "      <td>Keren!!</td>\n",
       "      <td>legitimate</td>\n",
       "      <td>keren!!</td>\n",
       "    </tr>\n",
       "    <tr>\n",
       "      <th>4</th>\n",
       "      <td>Pilih siapa presiden aku Prabowo-Sandi</td>\n",
       "      <td>legitimate</td>\n",
       "      <td>pilih siapa presiden aku prabowo-sandi</td>\n",
       "    </tr>\n",
       "    <tr>\n",
       "      <th>5</th>\n",
       "      <td>https://youtu.be/LBKGyxnpMCU</td>\n",
       "      <td>spam</td>\n",
       "      <td>url</td>\n",
       "    </tr>\n",
       "    <tr>\n",
       "      <th>6</th>\n",
       "      <td>Gw ikuttt koment lohhh</td>\n",
       "      <td>spam</td>\n",
       "      <td>gw ikuttt koment lohhh</td>\n",
       "    </tr>\n",
       "    <tr>\n",
       "      <th>7</th>\n",
       "      <td>Bagus sih. Meskipun tiru tiru Epic Rap Battle</td>\n",
       "      <td>legitimate</td>\n",
       "      <td>bagus sih. meskipun tiru tiru epic rap battle</td>\n",
       "    </tr>\n",
       "    <tr>\n",
       "      <th>8</th>\n",
       "      <td>Gw pendukung Prabowo, tp gw tersinggungnya pas...</td>\n",
       "      <td>legitimate</td>\n",
       "      <td>gw pendukung prabowo, tp gw tersinggungnya pas...</td>\n",
       "    </tr>\n",
       "    <tr>\n",
       "      <th>9</th>\n",
       "      <td>Ada yang dari tahun 2025?🗿🔥</td>\n",
       "      <td>spam</td>\n",
       "      <td>ada yang dari tahun 2025?</td>\n",
       "    </tr>\n",
       "    <tr>\n",
       "      <th>10</th>\n",
       "      <td>Menghibur</td>\n",
       "      <td>legitimate</td>\n",
       "      <td>menghibur</td>\n",
       "    </tr>\n",
       "    <tr>\n",
       "      <th>11</th>\n",
       "      <td>wahh ak dah 3 kali nonton ada yang lebihin aku gx</td>\n",
       "      <td>spam</td>\n",
       "      <td>wahh ak dah 3 kali nonton ada yang lebihin aku gx</td>\n",
       "    </tr>\n",
       "    <tr>\n",
       "      <th>12</th>\n",
       "      <td>Njir gue baru sadar kalo  gua nonton 15 kali</td>\n",
       "      <td>spam</td>\n",
       "      <td>njir gue baru sadar kalo  gua nonton 15 kali</td>\n",
       "    </tr>\n",
       "    <tr>\n",
       "      <th>13</th>\n",
       "      <td>Gw kurang srek deh di menit 1:13 disitu ada be...</td>\n",
       "      <td>legitimate</td>\n",
       "      <td>gw kurang srek deh di menit 1:13 disitu ada be...</td>\n",
       "    </tr>\n",
       "    <tr>\n",
       "      <th>14</th>\n",
       "      <td>BAGUSSS BANGETTT kerennnn</td>\n",
       "      <td>legitimate</td>\n",
       "      <td>bagusss bangettt kerennnn</td>\n",
       "    </tr>\n",
       "    <tr>\n",
       "      <th>15</th>\n",
       "      <td>Aku gak suka karena ini untuk ku</td>\n",
       "      <td>legitimate</td>\n",
       "      <td>aku gak suka karena ini untuk ku</td>\n",
       "    </tr>\n",
       "    <tr>\n",
       "      <th>16</th>\n",
       "      <td>Mantul</td>\n",
       "      <td>legitimate</td>\n",
       "      <td>mantul</td>\n",
       "    </tr>\n",
       "    <tr>\n",
       "      <th>17</th>\n",
       "      <td>Ahhaahaha mantap ada kaum kita hiyaa hiyaa hii...</td>\n",
       "      <td>legitimate</td>\n",
       "      <td>ahhaahaha mantap ada kaum kita hiyaa hiyaa hii...</td>\n",
       "    </tr>\n",
       "    <tr>\n",
       "      <th>18</th>\n",
       "      <td>HAhahahahah mari trandingkan\\nGeser ki pop pok...</td>\n",
       "      <td>spam</td>\n",
       "      <td>hahahahahah mari trandingkan\\ngeser ki pop pok...</td>\n",
       "    </tr>\n",
       "    <tr>\n",
       "      <th>19</th>\n",
       "      <td>Salut. Jangan Golput !</td>\n",
       "      <td>legitimate</td>\n",
       "      <td>salut. jangan golput !</td>\n",
       "    </tr>\n",
       "  </tbody>\n",
       "</table>\n",
       "</div>"
      ],
      "text/plain": [
       "                                              Comment       Label  \\\n",
       "0                 Apa salah mobale lejen pak soekarno        spam   \n",
       "1                                              👆👆👆👆👆👆  legitimate   \n",
       "2                                  Dan golput itu apa  legitimate   \n",
       "3                                             Keren!!  legitimate   \n",
       "4              Pilih siapa presiden aku Prabowo-Sandi  legitimate   \n",
       "5                        https://youtu.be/LBKGyxnpMCU        spam   \n",
       "6                              Gw ikuttt koment lohhh        spam   \n",
       "7       Bagus sih. Meskipun tiru tiru Epic Rap Battle  legitimate   \n",
       "8   Gw pendukung Prabowo, tp gw tersinggungnya pas...  legitimate   \n",
       "9                         Ada yang dari tahun 2025?🗿🔥        spam   \n",
       "10                                          Menghibur  legitimate   \n",
       "11  wahh ak dah 3 kali nonton ada yang lebihin aku gx        spam   \n",
       "12       Njir gue baru sadar kalo  gua nonton 15 kali        spam   \n",
       "13  Gw kurang srek deh di menit 1:13 disitu ada be...  legitimate   \n",
       "14                          BAGUSSS BANGETTT kerennnn  legitimate   \n",
       "15                   Aku gak suka karena ini untuk ku  legitimate   \n",
       "16                                             Mantul  legitimate   \n",
       "17  Ahhaahaha mantap ada kaum kita hiyaa hiyaa hii...  legitimate   \n",
       "18  HAhahahahah mari trandingkan\\nGeser ki pop pok...        spam   \n",
       "19                             Salut. Jangan Golput !  legitimate   \n",
       "\n",
       "                                              cleaned  \n",
       "0                 apa salah mobale lejen pak soekarno  \n",
       "1                                                      \n",
       "2                                  dan golput itu apa  \n",
       "3                                             keren!!  \n",
       "4              pilih siapa presiden aku prabowo-sandi  \n",
       "5                                                 url  \n",
       "6                              gw ikuttt koment lohhh  \n",
       "7       bagus sih. meskipun tiru tiru epic rap battle  \n",
       "8   gw pendukung prabowo, tp gw tersinggungnya pas...  \n",
       "9                           ada yang dari tahun 2025?  \n",
       "10                                          menghibur  \n",
       "11  wahh ak dah 3 kali nonton ada yang lebihin aku gx  \n",
       "12       njir gue baru sadar kalo  gua nonton 15 kali  \n",
       "13  gw kurang srek deh di menit 1:13 disitu ada be...  \n",
       "14                          bagusss bangettt kerennnn  \n",
       "15                   aku gak suka karena ini untuk ku  \n",
       "16                                             mantul  \n",
       "17  ahhaahaha mantap ada kaum kita hiyaa hiyaa hii...  \n",
       "18  hahahahahah mari trandingkan\\ngeser ki pop pok...  \n",
       "19                             salut. jangan golput !  "
      ]
     },
     "execution_count": 28,
     "metadata": {},
     "output_type": "execute_result"
    }
   ],
   "source": [
    "trial.head(20)"
   ]
  },
  {
   "cell_type": "code",
   "execution_count": 29,
   "metadata": {},
   "outputs": [],
   "source": [
    "trial['cleaned'] = trial['cleaned'].apply(lambda x: clean_punct(x))"
   ]
  },
  {
   "cell_type": "code",
   "execution_count": 30,
   "metadata": {},
   "outputs": [
    {
     "data": {
      "text/html": [
       "<div>\n",
       "<style scoped>\n",
       "    .dataframe tbody tr th:only-of-type {\n",
       "        vertical-align: middle;\n",
       "    }\n",
       "\n",
       "    .dataframe tbody tr th {\n",
       "        vertical-align: top;\n",
       "    }\n",
       "\n",
       "    .dataframe thead th {\n",
       "        text-align: right;\n",
       "    }\n",
       "</style>\n",
       "<table border=\"1\" class=\"dataframe\">\n",
       "  <thead>\n",
       "    <tr style=\"text-align: right;\">\n",
       "      <th></th>\n",
       "      <th>Comment</th>\n",
       "      <th>Label</th>\n",
       "      <th>cleaned</th>\n",
       "    </tr>\n",
       "  </thead>\n",
       "  <tbody>\n",
       "    <tr>\n",
       "      <th>0</th>\n",
       "      <td>Apa salah mobale lejen pak soekarno</td>\n",
       "      <td>spam</td>\n",
       "      <td>apa salah mobale lejen pak soekarno</td>\n",
       "    </tr>\n",
       "    <tr>\n",
       "      <th>1</th>\n",
       "      <td>👆👆👆👆👆👆</td>\n",
       "      <td>legitimate</td>\n",
       "      <td></td>\n",
       "    </tr>\n",
       "    <tr>\n",
       "      <th>2</th>\n",
       "      <td>Dan golput itu apa</td>\n",
       "      <td>legitimate</td>\n",
       "      <td>dan golput itu apa</td>\n",
       "    </tr>\n",
       "    <tr>\n",
       "      <th>3</th>\n",
       "      <td>Keren!!</td>\n",
       "      <td>legitimate</td>\n",
       "      <td>keren</td>\n",
       "    </tr>\n",
       "    <tr>\n",
       "      <th>4</th>\n",
       "      <td>Pilih siapa presiden aku Prabowo-Sandi</td>\n",
       "      <td>legitimate</td>\n",
       "      <td>pilih siapa presiden aku prabowosandi</td>\n",
       "    </tr>\n",
       "    <tr>\n",
       "      <th>5</th>\n",
       "      <td>https://youtu.be/LBKGyxnpMCU</td>\n",
       "      <td>spam</td>\n",
       "      <td>url</td>\n",
       "    </tr>\n",
       "    <tr>\n",
       "      <th>6</th>\n",
       "      <td>Gw ikuttt koment lohhh</td>\n",
       "      <td>spam</td>\n",
       "      <td>gw ikuttt koment lohhh</td>\n",
       "    </tr>\n",
       "    <tr>\n",
       "      <th>7</th>\n",
       "      <td>Bagus sih. Meskipun tiru tiru Epic Rap Battle</td>\n",
       "      <td>legitimate</td>\n",
       "      <td>bagus sih. meskipun tiru tiru epic rap battle</td>\n",
       "    </tr>\n",
       "    <tr>\n",
       "      <th>8</th>\n",
       "      <td>Gw pendukung Prabowo, tp gw tersinggungnya pas...</td>\n",
       "      <td>legitimate</td>\n",
       "      <td>gw pendukung prabowo, tp gw tersinggungnya pas...</td>\n",
       "    </tr>\n",
       "    <tr>\n",
       "      <th>9</th>\n",
       "      <td>Ada yang dari tahun 2025?🗿🔥</td>\n",
       "      <td>spam</td>\n",
       "      <td>ada yang dari tahun 2025</td>\n",
       "    </tr>\n",
       "  </tbody>\n",
       "</table>\n",
       "</div>"
      ],
      "text/plain": [
       "                                             Comment       Label  \\\n",
       "0                Apa salah mobale lejen pak soekarno        spam   \n",
       "1                                             👆👆👆👆👆👆  legitimate   \n",
       "2                                 Dan golput itu apa  legitimate   \n",
       "3                                            Keren!!  legitimate   \n",
       "4             Pilih siapa presiden aku Prabowo-Sandi  legitimate   \n",
       "5                       https://youtu.be/LBKGyxnpMCU        spam   \n",
       "6                             Gw ikuttt koment lohhh        spam   \n",
       "7      Bagus sih. Meskipun tiru tiru Epic Rap Battle  legitimate   \n",
       "8  Gw pendukung Prabowo, tp gw tersinggungnya pas...  legitimate   \n",
       "9                        Ada yang dari tahun 2025?🗿🔥        spam   \n",
       "\n",
       "                                             cleaned  \n",
       "0                apa salah mobale lejen pak soekarno  \n",
       "1                                                     \n",
       "2                                 dan golput itu apa  \n",
       "3                                              keren  \n",
       "4              pilih siapa presiden aku prabowosandi  \n",
       "5                                                url  \n",
       "6                             gw ikuttt koment lohhh  \n",
       "7      bagus sih. meskipun tiru tiru epic rap battle  \n",
       "8  gw pendukung prabowo, tp gw tersinggungnya pas...  \n",
       "9                           ada yang dari tahun 2025  "
      ]
     },
     "execution_count": 30,
     "metadata": {},
     "output_type": "execute_result"
    }
   ],
   "source": [
    "trial.head(10)"
   ]
  },
  {
   "cell_type": "code",
   "execution_count": 31,
   "metadata": {},
   "outputs": [],
   "source": [
    "trial['cleaned'] = trial['cleaned'].apply(lambda x: white_spaces(x))"
   ]
  },
  {
   "cell_type": "code",
   "execution_count": 32,
   "metadata": {},
   "outputs": [
    {
     "data": {
      "text/html": [
       "<div>\n",
       "<style scoped>\n",
       "    .dataframe tbody tr th:only-of-type {\n",
       "        vertical-align: middle;\n",
       "    }\n",
       "\n",
       "    .dataframe tbody tr th {\n",
       "        vertical-align: top;\n",
       "    }\n",
       "\n",
       "    .dataframe thead th {\n",
       "        text-align: right;\n",
       "    }\n",
       "</style>\n",
       "<table border=\"1\" class=\"dataframe\">\n",
       "  <thead>\n",
       "    <tr style=\"text-align: right;\">\n",
       "      <th></th>\n",
       "      <th>Comment</th>\n",
       "      <th>Label</th>\n",
       "      <th>cleaned</th>\n",
       "    </tr>\n",
       "  </thead>\n",
       "  <tbody>\n",
       "    <tr>\n",
       "      <th>0</th>\n",
       "      <td>Apa salah mobale lejen pak soekarno</td>\n",
       "      <td>spam</td>\n",
       "      <td>apa salah mobale lejen pak soekarno</td>\n",
       "    </tr>\n",
       "    <tr>\n",
       "      <th>1</th>\n",
       "      <td>👆👆👆👆👆👆</td>\n",
       "      <td>legitimate</td>\n",
       "      <td></td>\n",
       "    </tr>\n",
       "    <tr>\n",
       "      <th>2</th>\n",
       "      <td>Dan golput itu apa</td>\n",
       "      <td>legitimate</td>\n",
       "      <td>dan golput itu apa</td>\n",
       "    </tr>\n",
       "    <tr>\n",
       "      <th>3</th>\n",
       "      <td>Keren!!</td>\n",
       "      <td>legitimate</td>\n",
       "      <td>keren</td>\n",
       "    </tr>\n",
       "    <tr>\n",
       "      <th>4</th>\n",
       "      <td>Pilih siapa presiden aku Prabowo-Sandi</td>\n",
       "      <td>legitimate</td>\n",
       "      <td>pilih siapa presiden aku prabowosandi</td>\n",
       "    </tr>\n",
       "    <tr>\n",
       "      <th>5</th>\n",
       "      <td>https://youtu.be/LBKGyxnpMCU</td>\n",
       "      <td>spam</td>\n",
       "      <td>url</td>\n",
       "    </tr>\n",
       "    <tr>\n",
       "      <th>6</th>\n",
       "      <td>Gw ikuttt koment lohhh</td>\n",
       "      <td>spam</td>\n",
       "      <td>gw ikuttt koment lohhh</td>\n",
       "    </tr>\n",
       "    <tr>\n",
       "      <th>7</th>\n",
       "      <td>Bagus sih. Meskipun tiru tiru Epic Rap Battle</td>\n",
       "      <td>legitimate</td>\n",
       "      <td>bagus sih. meskipun tiru tiru epic rap battle</td>\n",
       "    </tr>\n",
       "    <tr>\n",
       "      <th>8</th>\n",
       "      <td>Gw pendukung Prabowo, tp gw tersinggungnya pas...</td>\n",
       "      <td>legitimate</td>\n",
       "      <td>gw pendukung prabowo, tp gw tersinggungnya pas...</td>\n",
       "    </tr>\n",
       "    <tr>\n",
       "      <th>9</th>\n",
       "      <td>Ada yang dari tahun 2025?🗿🔥</td>\n",
       "      <td>spam</td>\n",
       "      <td>ada yang dari tahun 2025</td>\n",
       "    </tr>\n",
       "  </tbody>\n",
       "</table>\n",
       "</div>"
      ],
      "text/plain": [
       "                                             Comment       Label  \\\n",
       "0                Apa salah mobale lejen pak soekarno        spam   \n",
       "1                                             👆👆👆👆👆👆  legitimate   \n",
       "2                                 Dan golput itu apa  legitimate   \n",
       "3                                            Keren!!  legitimate   \n",
       "4             Pilih siapa presiden aku Prabowo-Sandi  legitimate   \n",
       "5                       https://youtu.be/LBKGyxnpMCU        spam   \n",
       "6                             Gw ikuttt koment lohhh        spam   \n",
       "7      Bagus sih. Meskipun tiru tiru Epic Rap Battle  legitimate   \n",
       "8  Gw pendukung Prabowo, tp gw tersinggungnya pas...  legitimate   \n",
       "9                        Ada yang dari tahun 2025?🗿🔥        spam   \n",
       "\n",
       "                                             cleaned  \n",
       "0                apa salah mobale lejen pak soekarno  \n",
       "1                                                     \n",
       "2                                 dan golput itu apa  \n",
       "3                                              keren  \n",
       "4              pilih siapa presiden aku prabowosandi  \n",
       "5                                                url  \n",
       "6                             gw ikuttt koment lohhh  \n",
       "7      bagus sih. meskipun tiru tiru epic rap battle  \n",
       "8  gw pendukung prabowo, tp gw tersinggungnya pas...  \n",
       "9                           ada yang dari tahun 2025  "
      ]
     },
     "execution_count": 32,
     "metadata": {},
     "output_type": "execute_result"
    }
   ],
   "source": [
    "trial.head(10)"
   ]
  },
  {
   "cell_type": "code",
   "execution_count": 33,
   "metadata": {},
   "outputs": [
    {
     "data": {
      "text/plain": [
       "0                  apa salah mobale lejen pak soekarno\n",
       "1                                                     \n",
       "2                                   dan golput itu apa\n",
       "3                                                keren\n",
       "4                pilih siapa presiden aku prabowosandi\n",
       "5                                                  url\n",
       "6                               gw ikuttt koment lohhh\n",
       "7        bagus sih. meskipun tiru tiru epic rap battle\n",
       "8    gw pendukung prabowo, tp gw tersinggungnya pas...\n",
       "9                             ada yang dari tahun 2025\n",
       "Name: cleaned, dtype: object"
      ]
     },
     "execution_count": 33,
     "metadata": {},
     "output_type": "execute_result"
    }
   ],
   "source": [
    "trial['cleaned'].head(10)"
   ]
  },
  {
   "cell_type": "code",
   "execution_count": 34,
   "metadata": {},
   "outputs": [],
   "source": [
    "stopwords = set(Sastrawi_StopWords_id)\n",
    "\n",
    "def clean_stopwords(text):\n",
    "    text = ' '.join(word for word in text.split() if word not in stopwords) # hapus stopword dari kolom deskripsi\n",
    "    return text"
   ]
  },
  {
   "cell_type": "code",
   "execution_count": 35,
   "metadata": {},
   "outputs": [],
   "source": [
    "trial['cleaned'] = trial['cleaned'].apply(lambda x: clean_stopwords(x))"
   ]
  },
  {
   "cell_type": "code",
   "execution_count": 36,
   "metadata": {},
   "outputs": [
    {
     "data": {
      "text/html": [
       "<div>\n",
       "<style scoped>\n",
       "    .dataframe tbody tr th:only-of-type {\n",
       "        vertical-align: middle;\n",
       "    }\n",
       "\n",
       "    .dataframe tbody tr th {\n",
       "        vertical-align: top;\n",
       "    }\n",
       "\n",
       "    .dataframe thead th {\n",
       "        text-align: right;\n",
       "    }\n",
       "</style>\n",
       "<table border=\"1\" class=\"dataframe\">\n",
       "  <thead>\n",
       "    <tr style=\"text-align: right;\">\n",
       "      <th></th>\n",
       "      <th>Comment</th>\n",
       "      <th>Label</th>\n",
       "      <th>cleaned</th>\n",
       "    </tr>\n",
       "  </thead>\n",
       "  <tbody>\n",
       "    <tr>\n",
       "      <th>0</th>\n",
       "      <td>Apa salah mobale lejen pak soekarno</td>\n",
       "      <td>spam</td>\n",
       "      <td>apa salah mobale lejen pak soekarno</td>\n",
       "    </tr>\n",
       "    <tr>\n",
       "      <th>1</th>\n",
       "      <td>👆👆👆👆👆👆</td>\n",
       "      <td>legitimate</td>\n",
       "      <td></td>\n",
       "    </tr>\n",
       "    <tr>\n",
       "      <th>2</th>\n",
       "      <td>Dan golput itu apa</td>\n",
       "      <td>legitimate</td>\n",
       "      <td>golput apa</td>\n",
       "    </tr>\n",
       "    <tr>\n",
       "      <th>3</th>\n",
       "      <td>Keren!!</td>\n",
       "      <td>legitimate</td>\n",
       "      <td>keren</td>\n",
       "    </tr>\n",
       "    <tr>\n",
       "      <th>4</th>\n",
       "      <td>Pilih siapa presiden aku Prabowo-Sandi</td>\n",
       "      <td>legitimate</td>\n",
       "      <td>pilih siapa presiden aku prabowosandi</td>\n",
       "    </tr>\n",
       "    <tr>\n",
       "      <th>5</th>\n",
       "      <td>https://youtu.be/LBKGyxnpMCU</td>\n",
       "      <td>spam</td>\n",
       "      <td>url</td>\n",
       "    </tr>\n",
       "    <tr>\n",
       "      <th>6</th>\n",
       "      <td>Gw ikuttt koment lohhh</td>\n",
       "      <td>spam</td>\n",
       "      <td>gw ikuttt koment lohhh</td>\n",
       "    </tr>\n",
       "    <tr>\n",
       "      <th>7</th>\n",
       "      <td>Bagus sih. Meskipun tiru tiru Epic Rap Battle</td>\n",
       "      <td>legitimate</td>\n",
       "      <td>bagus sih. meskipun tiru tiru epic rap battle</td>\n",
       "    </tr>\n",
       "    <tr>\n",
       "      <th>8</th>\n",
       "      <td>Gw pendukung Prabowo, tp gw tersinggungnya pas...</td>\n",
       "      <td>legitimate</td>\n",
       "      <td>gw pendukung prabowo, tp gw tersinggungnya pas...</td>\n",
       "    </tr>\n",
       "    <tr>\n",
       "      <th>9</th>\n",
       "      <td>Ada yang dari tahun 2025?🗿🔥</td>\n",
       "      <td>spam</td>\n",
       "      <td>tahun 2025</td>\n",
       "    </tr>\n",
       "  </tbody>\n",
       "</table>\n",
       "</div>"
      ],
      "text/plain": [
       "                                             Comment       Label  \\\n",
       "0                Apa salah mobale lejen pak soekarno        spam   \n",
       "1                                             👆👆👆👆👆👆  legitimate   \n",
       "2                                 Dan golput itu apa  legitimate   \n",
       "3                                            Keren!!  legitimate   \n",
       "4             Pilih siapa presiden aku Prabowo-Sandi  legitimate   \n",
       "5                       https://youtu.be/LBKGyxnpMCU        spam   \n",
       "6                             Gw ikuttt koment lohhh        spam   \n",
       "7      Bagus sih. Meskipun tiru tiru Epic Rap Battle  legitimate   \n",
       "8  Gw pendukung Prabowo, tp gw tersinggungnya pas...  legitimate   \n",
       "9                        Ada yang dari tahun 2025?🗿🔥        spam   \n",
       "\n",
       "                                             cleaned  \n",
       "0                apa salah mobale lejen pak soekarno  \n",
       "1                                                     \n",
       "2                                         golput apa  \n",
       "3                                              keren  \n",
       "4              pilih siapa presiden aku prabowosandi  \n",
       "5                                                url  \n",
       "6                             gw ikuttt koment lohhh  \n",
       "7      bagus sih. meskipun tiru tiru epic rap battle  \n",
       "8  gw pendukung prabowo, tp gw tersinggungnya pas...  \n",
       "9                                         tahun 2025  "
      ]
     },
     "execution_count": 36,
     "metadata": {},
     "output_type": "execute_result"
    }
   ],
   "source": [
    "trial.head(10)"
   ]
  },
  {
   "cell_type": "code",
   "execution_count": 38,
   "metadata": {},
   "outputs": [],
   "source": [
    "text = \"mobale lejen adalah seorang kapiten, I really like tomat\""
   ]
  },
  {
   "cell_type": "code",
   "execution_count": 39,
   "metadata": {},
   "outputs": [],
   "source": [
    "def en_stopwords(text):\n",
    "    df=open('..\\Stopwords_eng\\stopwords_en.txt',\"r\",encoding=\"utf-8\", errors='replace')\n",
    "    en_stop = df.readlines()\n",
    "    df.close()\n",
    "    en_stop = [t.strip().lower() for t in en_stop]\n",
    "    en_stop = set(en_stop)\n",
    "    text = ' '.join(word for word in text.split() if word not in en_stop) # hapus stopword dari kolom deskripsi\n",
    "    return text\n",
    "    \n",
    "def id_stopwords(text):\n",
    "    df=open('..\\Stopwords\\stopwords.txt',\"r\",encoding=\"utf-8\", errors='replace')\n",
    "    id_stop = df.readlines()\n",
    "    df.close()\n",
    "    id_stop = [t.strip().lower() for t in id_stop]\n",
    "    id_stop = set(id_stop)\n",
    "    text = ' '.join(word for word in text.split() if word not in id_stop) # hapus stopword dari kolom deskripsi\n",
    "    return text"
   ]
  },
  {
   "cell_type": "code",
   "execution_count": 40,
   "metadata": {},
   "outputs": [],
   "source": [
    "trial['cleaned'] = trial['cleaned'].apply(lambda x: en_stopwords(x))\n",
    "trial['cleaned'] = trial['cleaned'].apply(lambda x: id_stopwords(x))"
   ]
  },
  {
   "cell_type": "code",
   "execution_count": 42,
   "metadata": {},
   "outputs": [
    {
     "data": {
      "text/html": [
       "<div>\n",
       "<style scoped>\n",
       "    .dataframe tbody tr th:only-of-type {\n",
       "        vertical-align: middle;\n",
       "    }\n",
       "\n",
       "    .dataframe tbody tr th {\n",
       "        vertical-align: top;\n",
       "    }\n",
       "\n",
       "    .dataframe thead th {\n",
       "        text-align: right;\n",
       "    }\n",
       "</style>\n",
       "<table border=\"1\" class=\"dataframe\">\n",
       "  <thead>\n",
       "    <tr style=\"text-align: right;\">\n",
       "      <th></th>\n",
       "      <th>Comment</th>\n",
       "      <th>Label</th>\n",
       "      <th>cleaned</th>\n",
       "    </tr>\n",
       "  </thead>\n",
       "  <tbody>\n",
       "    <tr>\n",
       "      <th>0</th>\n",
       "      <td>Apa salah mobale lejen pak soekarno</td>\n",
       "      <td>spam</td>\n",
       "      <td>salah mobale lejen soekarno</td>\n",
       "    </tr>\n",
       "    <tr>\n",
       "      <th>1</th>\n",
       "      <td>👆👆👆👆👆👆</td>\n",
       "      <td>legitimate</td>\n",
       "      <td></td>\n",
       "    </tr>\n",
       "    <tr>\n",
       "      <th>2</th>\n",
       "      <td>Dan golput itu apa</td>\n",
       "      <td>legitimate</td>\n",
       "      <td>golput</td>\n",
       "    </tr>\n",
       "    <tr>\n",
       "      <th>3</th>\n",
       "      <td>Keren!!</td>\n",
       "      <td>legitimate</td>\n",
       "      <td>keren</td>\n",
       "    </tr>\n",
       "    <tr>\n",
       "      <th>4</th>\n",
       "      <td>Pilih siapa presiden aku Prabowo-Sandi</td>\n",
       "      <td>legitimate</td>\n",
       "      <td>pilih presiden aku prabowosandi</td>\n",
       "    </tr>\n",
       "    <tr>\n",
       "      <th>5</th>\n",
       "      <td>https://youtu.be/LBKGyxnpMCU</td>\n",
       "      <td>spam</td>\n",
       "      <td>url</td>\n",
       "    </tr>\n",
       "    <tr>\n",
       "      <th>6</th>\n",
       "      <td>Gw ikuttt koment lohhh</td>\n",
       "      <td>spam</td>\n",
       "      <td>gw ikuttt koment</td>\n",
       "    </tr>\n",
       "    <tr>\n",
       "      <th>7</th>\n",
       "      <td>Bagus sih. Meskipun tiru tiru Epic Rap Battle</td>\n",
       "      <td>legitimate</td>\n",
       "      <td>bagus sih. tiru tiru epic rap battle</td>\n",
       "    </tr>\n",
       "    <tr>\n",
       "      <th>8</th>\n",
       "      <td>Gw pendukung Prabowo, tp gw tersinggungnya pas...</td>\n",
       "      <td>legitimate</td>\n",
       "      <td>gw pendukung prabowo, gw tersinggungnya flow j...</td>\n",
       "    </tr>\n",
       "    <tr>\n",
       "      <th>9</th>\n",
       "      <td>Ada yang dari tahun 2025?🗿🔥</td>\n",
       "      <td>spam</td>\n",
       "      <td>tahun 2025</td>\n",
       "    </tr>\n",
       "  </tbody>\n",
       "</table>\n",
       "</div>"
      ],
      "text/plain": [
       "                                             Comment       Label  \\\n",
       "0                Apa salah mobale lejen pak soekarno        spam   \n",
       "1                                             👆👆👆👆👆👆  legitimate   \n",
       "2                                 Dan golput itu apa  legitimate   \n",
       "3                                            Keren!!  legitimate   \n",
       "4             Pilih siapa presiden aku Prabowo-Sandi  legitimate   \n",
       "5                       https://youtu.be/LBKGyxnpMCU        spam   \n",
       "6                             Gw ikuttt koment lohhh        spam   \n",
       "7      Bagus sih. Meskipun tiru tiru Epic Rap Battle  legitimate   \n",
       "8  Gw pendukung Prabowo, tp gw tersinggungnya pas...  legitimate   \n",
       "9                        Ada yang dari tahun 2025?🗿🔥        spam   \n",
       "\n",
       "                                             cleaned  \n",
       "0                        salah mobale lejen soekarno  \n",
       "1                                                     \n",
       "2                                             golput  \n",
       "3                                              keren  \n",
       "4                    pilih presiden aku prabowosandi  \n",
       "5                                                url  \n",
       "6                                   gw ikuttt koment  \n",
       "7               bagus sih. tiru tiru epic rap battle  \n",
       "8  gw pendukung prabowo, gw tersinggungnya flow j...  \n",
       "9                                         tahun 2025  "
      ]
     },
     "execution_count": 42,
     "metadata": {},
     "output_type": "execute_result"
    }
   ],
   "source": [
    "trial.head(10)"
   ]
  },
  {
   "cell_type": "code",
   "execution_count": 43,
   "metadata": {},
   "outputs": [],
   "source": [
    "def slang(text):\n",
    "    df=open('../Slangwords/slangwords.txt',\"r\",encoding=\"utf-8\", errors='replace')\n",
    "    slangS = df.readlines()\n",
    "    slangS = [t.split(\":\") for t in slangS]\n",
    "    slangS = [[k.strip(), v.strip()] for k,v in slangS]\n",
    "    slangS = {k:v for k,v in slangS}\n",
    "\n",
    "    T = TextBlob(text).words\n",
    "    \n",
    "    for i,t in enumerate(T):\n",
    "        if t in slangS.keys():\n",
    "            T[i] = slangS[t]\n",
    "        \n",
    "    T =' '.join(T)\n",
    "\n",
    "    return T"
   ]
  },
  {
   "cell_type": "code",
   "execution_count": 44,
   "metadata": {},
   "outputs": [],
   "source": [
    "trial['cleaned'] = trial['cleaned'].apply(lambda x: slang(x))"
   ]
  },
  {
   "cell_type": "code",
   "execution_count": 58,
   "metadata": {},
   "outputs": [
    {
     "data": {
      "text/html": [
       "<div>\n",
       "<style scoped>\n",
       "    .dataframe tbody tr th:only-of-type {\n",
       "        vertical-align: middle;\n",
       "    }\n",
       "\n",
       "    .dataframe tbody tr th {\n",
       "        vertical-align: top;\n",
       "    }\n",
       "\n",
       "    .dataframe thead th {\n",
       "        text-align: right;\n",
       "    }\n",
       "</style>\n",
       "<table border=\"1\" class=\"dataframe\">\n",
       "  <thead>\n",
       "    <tr style=\"text-align: right;\">\n",
       "      <th></th>\n",
       "      <th>Comment</th>\n",
       "      <th>Label</th>\n",
       "      <th>cleaned</th>\n",
       "    </tr>\n",
       "  </thead>\n",
       "  <tbody>\n",
       "    <tr>\n",
       "      <th>0</th>\n",
       "      <td>Apa salah mobale lejen pak soekarno</td>\n",
       "      <td>legitimate</td>\n",
       "      <td>salah mobile legend soekarno</td>\n",
       "    </tr>\n",
       "    <tr>\n",
       "      <th>1</th>\n",
       "      <td>👆👆👆👆👆👆</td>\n",
       "      <td>legitimate</td>\n",
       "      <td></td>\n",
       "    </tr>\n",
       "    <tr>\n",
       "      <th>2</th>\n",
       "      <td>Dan golput itu apa</td>\n",
       "      <td>legitimate</td>\n",
       "      <td>golput</td>\n",
       "    </tr>\n",
       "    <tr>\n",
       "      <th>3</th>\n",
       "      <td>Keren!!</td>\n",
       "      <td>legitimate</td>\n",
       "      <td>keren</td>\n",
       "    </tr>\n",
       "    <tr>\n",
       "      <th>4</th>\n",
       "      <td>Pilih siapa presiden aku Prabowo-Sandi</td>\n",
       "      <td>legitimate</td>\n",
       "      <td>pilih presiden prabowo sandi</td>\n",
       "    </tr>\n",
       "    <tr>\n",
       "      <th>5</th>\n",
       "      <td>https://youtu.be/LBKGyxnpMCU</td>\n",
       "      <td>spam</td>\n",
       "      <td>url</td>\n",
       "    </tr>\n",
       "    <tr>\n",
       "      <th>6</th>\n",
       "      <td>Gw ikuttt koment lohhh</td>\n",
       "      <td>spam</td>\n",
       "      <td>saya ikut komentar</td>\n",
       "    </tr>\n",
       "    <tr>\n",
       "      <th>7</th>\n",
       "      <td>Bagus sih. Meskipun tiru tiru Epic Rap Battle</td>\n",
       "      <td>legitimate</td>\n",
       "      <td>bagus sih meniru meniru epik rap battle</td>\n",
       "    </tr>\n",
       "    <tr>\n",
       "      <th>8</th>\n",
       "      <td>Gw pendukung Prabowo, tp gw tersinggungnya pas...</td>\n",
       "      <td>legitimate</td>\n",
       "      <td>saya pendukung prabowo saya tersinggungnya men...</td>\n",
       "    </tr>\n",
       "    <tr>\n",
       "      <th>9</th>\n",
       "      <td>Ada yang dari tahun 2025?🗿🔥</td>\n",
       "      <td>spam</td>\n",
       "      <td>tahun 2025</td>\n",
       "    </tr>\n",
       "    <tr>\n",
       "      <th>10</th>\n",
       "      <td>Menghibur</td>\n",
       "      <td>legitimate</td>\n",
       "      <td>menghibur</td>\n",
       "    </tr>\n",
       "    <tr>\n",
       "      <th>11</th>\n",
       "      <td>wahh ak dah 3 kali nonton ada yang lebihin aku gx</td>\n",
       "      <td>spam</td>\n",
       "      <td>aku 3 kali nonton lebih tidak</td>\n",
       "    </tr>\n",
       "    <tr>\n",
       "      <th>12</th>\n",
       "      <td>Njir gue baru sadar kalo  gua nonton 15 kali</td>\n",
       "      <td>legitimate</td>\n",
       "      <td>saya sadar saya nonton 15 kali</td>\n",
       "    </tr>\n",
       "    <tr>\n",
       "      <th>13</th>\n",
       "      <td>Gw kurang srek deh di menit 1:13 disitu ada be...</td>\n",
       "      <td>legitimate</td>\n",
       "      <td>saya cocok menit 113 disitu bendera indonesia ...</td>\n",
       "    </tr>\n",
       "    <tr>\n",
       "      <th>14</th>\n",
       "      <td>BAGUSSS BANGETTT kerennnn</td>\n",
       "      <td>legitimate</td>\n",
       "      <td>bagus banget keren</td>\n",
       "    </tr>\n",
       "    <tr>\n",
       "      <th>15</th>\n",
       "      <td>Aku gak suka karena ini untuk ku</td>\n",
       "      <td>legitimate</td>\n",
       "      <td>gak suka aku</td>\n",
       "    </tr>\n",
       "    <tr>\n",
       "      <th>16</th>\n",
       "      <td>Mantul</td>\n",
       "      <td>legitimate</td>\n",
       "      <td>mantap betul</td>\n",
       "    </tr>\n",
       "    <tr>\n",
       "      <th>17</th>\n",
       "      <td>Ahhaahaha mantap ada kaum kita hiyaa hiyaa hii...</td>\n",
       "      <td>legitimate</td>\n",
       "      <td>mantap kaum</td>\n",
       "    </tr>\n",
       "    <tr>\n",
       "      <th>18</th>\n",
       "      <td>HAhahahahah mari trandingkan\\nGeser ki pop pok...</td>\n",
       "      <td>legitimate</td>\n",
       "      <td>trandingkan geser pop pok pop</td>\n",
       "    </tr>\n",
       "    <tr>\n",
       "      <th>19</th>\n",
       "      <td>Salut. Jangan Golput !</td>\n",
       "      <td>legitimate</td>\n",
       "      <td>bangga jangan golput</td>\n",
       "    </tr>\n",
       "  </tbody>\n",
       "</table>\n",
       "</div>"
      ],
      "text/plain": [
       "                                              Comment       Label  \\\n",
       "0                 Apa salah mobale lejen pak soekarno  legitimate   \n",
       "1                                              👆👆👆👆👆👆  legitimate   \n",
       "2                                  Dan golput itu apa  legitimate   \n",
       "3                                             Keren!!  legitimate   \n",
       "4              Pilih siapa presiden aku Prabowo-Sandi  legitimate   \n",
       "5                        https://youtu.be/LBKGyxnpMCU        spam   \n",
       "6                              Gw ikuttt koment lohhh        spam   \n",
       "7       Bagus sih. Meskipun tiru tiru Epic Rap Battle  legitimate   \n",
       "8   Gw pendukung Prabowo, tp gw tersinggungnya pas...  legitimate   \n",
       "9                         Ada yang dari tahun 2025?🗿🔥        spam   \n",
       "10                                          Menghibur  legitimate   \n",
       "11  wahh ak dah 3 kali nonton ada yang lebihin aku gx        spam   \n",
       "12       Njir gue baru sadar kalo  gua nonton 15 kali  legitimate   \n",
       "13  Gw kurang srek deh di menit 1:13 disitu ada be...  legitimate   \n",
       "14                          BAGUSSS BANGETTT kerennnn  legitimate   \n",
       "15                   Aku gak suka karena ini untuk ku  legitimate   \n",
       "16                                             Mantul  legitimate   \n",
       "17  Ahhaahaha mantap ada kaum kita hiyaa hiyaa hii...  legitimate   \n",
       "18  HAhahahahah mari trandingkan\\nGeser ki pop pok...  legitimate   \n",
       "19                             Salut. Jangan Golput !  legitimate   \n",
       "\n",
       "                                              cleaned  \n",
       "0                        salah mobile legend soekarno  \n",
       "1                                                      \n",
       "2                                              golput  \n",
       "3                                               keren  \n",
       "4                        pilih presiden prabowo sandi  \n",
       "5                                                 url  \n",
       "6                                  saya ikut komentar  \n",
       "7             bagus sih meniru meniru epik rap battle  \n",
       "8   saya pendukung prabowo saya tersinggungnya men...  \n",
       "9                                          tahun 2025  \n",
       "10                                          menghibur  \n",
       "11                      aku 3 kali nonton lebih tidak  \n",
       "12                     saya sadar saya nonton 15 kali  \n",
       "13  saya cocok menit 113 disitu bendera indonesia ...  \n",
       "14                                 bagus banget keren  \n",
       "15                                       gak suka aku  \n",
       "16                                       mantap betul  \n",
       "17                                        mantap kaum  \n",
       "18                      trandingkan geser pop pok pop  \n",
       "19                               bangga jangan golput  "
      ]
     },
     "execution_count": 58,
     "metadata": {},
     "output_type": "execute_result"
    }
   ],
   "source": [
    "trial.head(20)"
   ]
  },
  {
   "cell_type": "code",
   "execution_count": 45,
   "metadata": {},
   "outputs": [],
   "source": [
    "a = list(trial.cleaned)"
   ]
  },
  {
   "cell_type": "code",
   "execution_count": 46,
   "metadata": {},
   "outputs": [
    {
     "data": {
      "text/plain": [
       "['salah mobile legend soekarno',\n",
       " '',\n",
       " 'golput',\n",
       " 'keren',\n",
       " 'pilih presiden aku prabowo sandi',\n",
       " 'url',\n",
       " 'saya ikut komentar',\n",
       " 'bagus sih meniru meniru epik rap battle',\n",
       " 'saya pendukung prabowo saya tersinggungnya mengalir jokowi',\n",
       " 'tahun 2025',\n",
       " 'menghibur',\n",
       " 'aku 3 kali nonton lebih aku tidak',\n",
       " 'saya sadar saya nonton 15 kali',\n",
       " 'saya cocok menit 113 disitu bendera indonesia kaya setara dudukin selebihnya matap',\n",
       " 'bagus banget keren',\n",
       " 'aku gak suka aku',\n",
       " 'mantap betul',\n",
       " 'mantap kaum',\n",
       " 'trandingkan geser pop pok pop',\n",
       " 'bangga jangan golput',\n",
       " '152 siap',\n",
       " 'saya',\n",
       " '7 tahun youtube skinnyindonesisan24',\n",
       " 'keren banget',\n",
       " 'nurhadi aldo',\n",
       " 'tidak kabarnya papua dibohongin bbm tunggu tanggal mainnya menang rakyat hasil pencitraan',\n",
       " 'pegang posisi trendingg brayy terbaik skinny',\n",
       " 'tidak nyangka 2 tahun',\n",
       " 'mantap',\n",
       " 'keren',\n",
       " 'baca bacain komentar lihat dikit populasi cebong gatau kenapa sadar 4,5th dibohongin janji janji salam akal sehat pas02',\n",
       " 'bingung tidak tangkap',\n",
       " 'terbaik konten pernah',\n",
       " 'saya nonton iklanya gak saya lewati biar dapat adsensenya maksimal video kreatif apresiasi',\n",
       " 'baik',\n",
       " 'mantap keren asli',\n",
       " '',\n",
       " 'jokowi',\n",
       " 'nonton',\n",
       " 'wajib trending',\n",
       " '225 banget jokowi anjir tertawa gerak lebi zaman',\n",
       " 'salam 3001',\n",
       " 'lucu benar',\n",
       " 'tidak capek',\n",
       " 'gila keren banget youtubers detiknya nilai diambil',\n",
       " 'mantap',\n",
       " '1 tretan muslim bukan',\n",
       " 'asli konten pencipta',\n",
       " 'terbaik 430',\n",
       " 'asli pecah benerrr',\n",
       " '02 bapak nonton jangan bapak biar mengena gituh',\n",
       " 'berkelas',\n",
       " 'jangan golput',\n",
       " 'tamparan keras bentuk politik identitas negeri',\n",
       " 'rap battle sangat menarik kalau buatin cawapresnya',\n",
       " 'tertawa',\n",
       " 'keren',\n",
       " 'menit 112 mantap',\n",
       " '2021 saya nonton',\n",
       " 'jokowi',\n",
       " 'apresiasi tim keren lirik sampai visual',\n",
       " 'mencela pendukung',\n",
       " 'kamu melaporkan mv bts melaporkan vlog youtubers indonesia wkwkwk beda skala tidak berguna subscribersnya 2xnya atta total viewersnya video2 indonesia digabungin',\n",
       " 'sebutin aku sebutin aku pemain',\n",
       " 'mantap dah tidak bosan nonton nya',\n",
       " 'kolom komentar bukan kalender bajingan norak',\n",
       " 'kakak dovi kakak jangan trending',\n",
       " 'mudah konten mudah uang',\n",
       " 'keren banget warga indonesia nonton',\n",
       " 'noton coki muslim',\n",
       " 'wow keren',\n",
       " 'sumpah keren banget',\n",
       " 'nonton beranda terus nonton broo sama',\n",
       " '',\n",
       " 'ulama sesuai musyawarah nasioanal.aja.trimakasih',\n",
       " 'yaahh ketikung kpop gapapa bung hebat video saya tidak bosan nonton ini',\n",
       " 'jokowi menang',\n",
       " 'dijadikan tranding 1 jangan kalah plastik',\n",
       " 'trending',\n",
       " 'baubau napking',\n",
       " 'bantu subscribe youtube saya',\n",
       " 'jokowi sudah menjabat jadi presiden jadi dinilai baikburuknya kinerja beliau prabowo belum menjabat jadi presiden tidak dinilai kinerjanya jadi menyerang pribadi beliau jadi gak bisa bandingin apel apel opini',\n",
       " 'ahahah saya tim kpopers',\n",
       " 'keren banget sumpah',\n",
       " '200 sumpah enak banget musiknya',\n",
       " 'mantap',\n",
       " 'iya',\n",
       " '31.05.2021',\n",
       " 'hak',\n",
       " '',\n",
       " 'keren tidak membosankan',\n",
       " 'keren gila',\n",
       " '446 pemain mobile legends',\n",
       " 'mantap',\n",
       " 'presiden indonesia',\n",
       " '',\n",
       " 'berkelas netizen indonesia seneng nonton ashiap ratu squishy',\n",
       " 'respect lopez terbaik musik myst deisanto maju rap indonesia jangan golput',\n",
       " 'keren gak berhenti nonton',\n",
       " '434 bener',\n",
       " 'keren banget gila',\n",
       " 'kemampuan youtube awas cover halilintar bgst',\n",
       " 'mantap itu hahahahahha',\n",
       " 'hachimon tonkou buka gerbang 8 langsung mati wkwkkw',\n",
       " 'epik',\n",
       " 'gak rekam suaranya menyatu gak serak gak habis suaranya',\n",
       " 'buset 2 juta',\n",
       " 'berkelas',\n",
       " 'prabowo kalah',\n",
       " 'legend karyakarya bagus luck',\n",
       " 'kritik kelas',\n",
       " 'makan itu sepeda',\n",
       " 'kpopers',\n",
       " 'namanya karya tik tok sampah',\n",
       " 'jokowi jokowi jokowi yaaaahhhhhhh',\n",
       " 'galaksi duh ngatain tidak sampai ahli atuh benerin rakyat jelata berbicara berdasarkan rasain tidak nerus mending jangan bales dri bapak cape',\n",
       " 'merinding',\n",
       " 'video tai',\n",
       " 'urusin itu cebong',\n",
       " 'berapa kali saya kesini',\n",
       " '',\n",
       " 'keren kalah comeo project',\n",
       " 'jokowi',\n",
       " 'mantap betul',\n",
       " 'mantap sukses',\n",
       " 'bozan gea iya kebanyakan anak kecil main youtube',\n",
       " 'kaget banget coki muslim',\n",
       " 'menit 200 asik dengar sampai menyebut ikan',\n",
       " 'karnocoki perjuangan susah melawan bangsa sendiri salah satunya kpopers lihat trending plastik kresek menari menari trending',\n",
       " 'merinding',\n",
       " 'prabowo pasti menang',\n",
       " 'mantap gila kreatif',\n",
       " 'ikan paus ikan teri ikan kontol',\n",
       " 'merinding',\n",
       " 'anak aktingnya',\n",
       " 'keren',\n",
       " 'tau semalam mata najwa',\n",
       " 'cepetin 1.5 rap',\n",
       " 'golput',\n",
       " 'gilaaaaaaa',\n",
       " 'pokok lihat videonya jadi lihat',\n",
       " 'besok',\n",
       " 'judul bukan sekedar judul emang epik beneran',\n",
       " 'keren keren banget karya gila bagus banget tingkatkan sukses chanelnya',\n",
       " 'gini jokowi prabowo komentar',\n",
       " 'gila epiccc',\n",
       " 'hubungan international perang itiu meningkatkan perdagangan negara perdamaian toooo prabowo owh',\n",
       " 'trending 1',\n",
       " 'trending cokk',\n",
       " 'mantap',\n",
       " 'venven kalahin itu reposter sama channel berita palsu',\n",
       " 'ngulang kali akutu',\n",
       " '109 favorit saya',\n",
       " 'prabowo',\n",
       " 'kaku gaming abror silahkan cubit',\n",
       " 'saya tidak sadar coki muslim',\n",
       " 'kamu indonesia pulau suruh beraliansi clan kozuki',\n",
       " 'trendingkan keren',\n",
       " 'mantap betul senior youtubers lupa kali kesini',\n",
       " 'korupsi dikit permisi wtfuck',\n",
       " 'apa coba',\n",
       " 'hebat',\n",
       " 'orang sunda',\n",
       " 'wajahnya prabowo galak wajahnya marah gitu jokowi galak',\n",
       " 'keren banget bangsat',\n",
       " 'masukin video youtube rewind 2019',\n",
       " 'pemimpin rakyat penguasa',\n",
       " 'untung saya pemain pubg',\n",
       " 'url',\n",
       " 'minta minta',\n",
       " 'mantap trending 1',\n",
       " '2020',\n",
       " 'terbaik',\n",
       " 'wadepakk tiba tiba itu 2 manusia hahahahaha suka',\n",
       " 'rdun',\n",
       " 'tidak kebalik',\n",
       " 'menit keberapa',\n",
       " 'bodoh keren gila anjing',\n",
       " 'penggemar atta umur',\n",
       " 'epik',\n",
       " 'sedap',\n",
       " 'nonton lihat komentar',\n",
       " 'nonton oktober nih absen dulu masuk november',\n",
       " 'rusuh rusuh indonesiaku emang tanah kamu kwkwwk santai canda kov',\n",
       " 'karena suit melawan kpopers',\n",
       " 'puas video mengalahkan blackpink',\n",
       " 'pemain mobile legends tertawa',\n",
       " 'intelektual',\n",
       " 'sebentar 100m',\n",
       " 'permainan bagus',\n",
       " 'mantap pakdhe lanjtkan 2 periode',\n",
       " 'lagu cebong kampret teman url',\n",
       " 'keren gila',\n",
       " '0113 maknanya mengena banget prabowo awalny muak karena kecurangan sebagainya pengen istirahatditampakkan video dengan posisi duduk lihat antusiasme dukungan masyarakat luluh memperjuangkan aspirasi masyarakat',\n",
       " '',\n",
       " 'mantap',\n",
       " '339 coba pake terjemah inggris',\n",
       " 'ayok',\n",
       " '45 juta menonton wkwkwkw',\n",
       " 'kereeeennn bagus bgt',\n",
       " 'jangan lupa hak suara',\n",
       " 'makan tuhhh sepeda kejam',\n",
       " 'waaahhhhhh',\n",
       " '',\n",
       " 'kamu salah pandang',\n",
       " 'dasar boneka pdi.utang membengkak.tka asing.bpjs ngantri',\n",
       " 'keren videonya banyak pesan masyarakat',\n",
       " '212',\n",
       " 'bapak jokowi bapak prabowo hobi burung',\n",
       " 'dua2ny jdin presiden lebih adil',\n",
       " 'mantap',\n",
       " 'bpjs ngantri 02',\n",
       " 'mantap',\n",
       " 'gak santai',\n",
       " 'mantap',\n",
       " 'shuvi iya',\n",
       " 'lewati norak',\n",
       " 'niat banget',\n",
       " 'ditunggu tunggu epik syekaliiiiiii',\n",
       " 'gila keren habis',\n",
       " 'keren bang keren',\n",
       " 'orang bodoh tidak suka ni',\n",
       " 'mantap betul vidionya wajib',\n",
       " 'mantap',\n",
       " 'haha nonton berulang jdi hafal katanya',\n",
       " 'url ch derisma ae subscribe tunggu ea terima kasih',\n",
       " '',\n",
       " 'ys',\n",
       " 'mantap kreatif bgt sangat menghibur suka',\n",
       " 'gillaa mantap',\n",
       " 'krik krik',\n",
       " 'trending 1 gila saya nonton unggah sampai trending 1 gak bosan saya ulang jangan golput',\n",
       " 'keren',\n",
       " 'rian yan',\n",
       " 'iya saya kemarin nungguin trending 1',\n",
       " 'prabowo',\n",
       " 'matahari',\n",
       " 'oof',\n",
       " 'siapaun pemimpin kedepannya harap membawa negara indonesia maju sejahtera lagi amin',\n",
       " '1 indonesia malaysia',\n",
       " 'nonton oktober ayo absen',\n",
       " 'suara banget sama prabowo',\n",
       " 'keren',\n",
       " 'keren banget',\n",
       " 'keren indonesia presiden hebat jangan langsung pilih',\n",
       " '1 juta',\n",
       " '',\n",
       " 'ngulang video ini sampai sampai download sampai hafal jg lagunya wkwlwk',\n",
       " '',\n",
       " 'gila gila keren banget cocok judulnya epik',\n",
       " 'keren keren',\n",
       " 'jokowi suaranya',\n",
       " 'putar kecepatan 1,25x mantap betul',\n",
       " 'hidup nurhadi aldo',\n",
       " 'tidak suka videonya bukan orang indonesia lahir indonesia',\n",
       " 'belasan kali',\n",
       " 'trending',\n",
       " 'gila mantap',\n",
       " 'gillaaa nontomm gila standar negeri karya musik',\n",
       " 'saya nomor 2 bukan 1 prabowo sandi',\n",
       " 'mantap betul',\n",
       " 'bagus youtube rewind indonesia 2018',\n",
       " 'kerennnnnn mantap pokoknya',\n",
       " 'gila 1 trending coy',\n",
       " 'ayo',\n",
       " 'berkali nonton tidak bosan nya kurang lama durasinya',\n",
       " 'gaming fast iya',\n",
       " 'bukan main',\n",
       " 'asli buka bukain kartu jokowi',\n",
       " 'komentar',\n",
       " 'abad ke22 suaranya',\n",
       " 'mantap kreatif kalian remaja bangga youtuber indonesia',\n",
       " 'aku suka kakak andovi menari',\n",
       " 'iq jongkok',\n",
       " 'jokowi prabowo nonton tidak iya',\n",
       " 'ngegass hmm santai tidak panik turun bawah terjun langsung masyarakat gimana tanggapannya',\n",
       " 'keren ayo jangan golput hak suara 5 tahun',\n",
       " 'prabowo',\n",
       " 'anjir tranding 1 3',\n",
       " '',\n",
       " 'keren keren parah',\n",
       " 'uh',\n",
       " 'memanfaatkan',\n",
       " 'pokok jokowi 2 periode prabowo presiden tidak negara jaga istri tidak bisa jaga negara',\n",
       " 'kelas mah yuk dewasa berdemokrasi',\n",
       " 'mantap',\n",
       " 'projects',\n",
       " 'enak bgt lagunya',\n",
       " 'keren',\n",
       " 'gilaaaaaaa pantun otomatis berbicara bagus keren banget video ini idenya cemerlang sangat berbobot',\n",
       " 'pilih no.2 orba jual freeport pelanggaran korupsi diperbanyak 32 tahun depan',\n",
       " 'keren',\n",
       " 'prabowo',\n",
       " 'enak puter ulang ulang',\n",
       " 'asli keren parah',\n",
       " 'probowo menang',\n",
       " 'tertawa ikan teri ikan paus ikan silahkan lanjutkan',\n",
       " 'awesome',\n",
       " 'hati timses kubu sebelah sensitif jijik',\n",
       " 'swastyastu kartini memperingati kartini kelas mipa 1 short movie mohon ulasan teman teman short movie kami teman teman sangat membantu berkarya lagi url terima kasih',\n",
       " 'berselancar kamu',\n",
       " 'permainan bagus rap battle',\n",
       " 'asli parah keren',\n",
       " 'saya komentar normal bukan kalender omong-omong siapa yang nonton 2021',\n",
       " 'bpjs ngantri',\n",
       " 'keren',\n",
       " 'keren parah',\n",
       " 'mantap keren banget',\n",
       " 'kaya gini dirindukan pendudukpenduduk youtube berkualitas semangat berkarya kajo kakak andovi',\n",
       " 'emang kalah',\n",
       " 'anjing grup whatsapp keluarga',\n",
       " 'justiceforaudrey semoga pelaku hukuman setimpal perundungan',\n",
       " '',\n",
       " 'oligarki menang rakyat dibutuhkan suaranya meraih kekuasaan',\n",
       " 'keren',\n",
       " 'salam 01 2 periode',\n",
       " 'jangangolput',\n",
       " 'ide pemilihan pemain-pemain tretan coki',\n",
       " 'suara jovi prabowo',\n",
       " 'gila segila gilanya gila merinding dri az sekian',\n",
       " 'nonton rap battle',\n",
       " '3 periode golput menghina lain nonton video tau sangat suara negara',\n",
       " 'nonton 17 agustus 2020',\n",
       " 'keren banget',\n",
       " 'mantap',\n",
       " 'bedanya 2019',\n",
       " 'kaya gini tranding topik',\n",
       " 'saya nonton videonya kaya orang makan gak minum kesedak gak nonton kaya gak asik',\n",
       " 'keren banget',\n",
       " 'kecepatan 1,5 the asli rap',\n",
       " 'keren',\n",
       " 'trending',\n",
       " '02 dibahas rocky gerung bilang prabowo dikritikdibahas tidak ada belum jadi presiden',\n",
       " 'grup whatsapp keluarga teman gurun tertawa keras soekarno mudah menang salam cebi',\n",
       " '',\n",
       " 'goa',\n",
       " 'pecah ini',\n",
       " 'mantap banget asli wkwkkw epic rap battle donald trump hilary clinton wkwkwkw',\n",
       " 'mrizky waluya26 gimana prabowo hak guna-usah untuk lahan seluas pemerintahan pastinya hasil dari pengelohan lahan tersebut bukan lantas hasilnya dibawa begitu gimana dengan pajak pendapatan bukti laporan pajak pendapatan dari pengolahan lahan tersebut nasionalis patriot bukan kaum serakah',\n",
       " 'suruh pasang calon lihat',\n",
       " 'oke terima kasih skinnyindonesian24 saya gajadi golput',\n",
       " 'aku',\n",
       " 'mantap banget dibalik video butuh usaha hebat job teman-teman youtuber legend subscribernya tetap ayo teman-teman subscribe jangan nonton',\n",
       " 'road trending',\n",
       " 'semangat pantang menyerah tau kalah jdi calon presiden abadi tertawa',\n",
       " 'harry harry geser kaga trending 1 owokowok',\n",
       " 'nama maruf amin gak dengar',\n",
       " 'lagu lirik membuat merinding',\n",
       " 'kejam emang bahasa rapper gak kejamnya',\n",
       " 'keren banget bangke',\n",
       " 'jokowi menang prabowo aja',\n",
       " 'golput golput club',\n",
       " 'mantap betul',\n",
       " 'bangga kalian',\n",
       " 'harimas21 iya saudara besok golput pilih siapa tetap saudara',\n",
       " '15 juta membuat konten trending 1',\n",
       " 'nonton 2021 komentar',\n",
       " 'penonton 44jt subscriber2 juta',\n",
       " 'mantap',\n",
       " 'coba ganti kecepatan 1,25 keren',\n",
       " 'lucu banget video nonton 26 kali',\n",
       " '',\n",
       " 'keren keren',\n",
       " 'cieee masuk berita cnn adsene haha',\n",
       " 'jokowi menang',\n",
       " 'mantap',\n",
       " 'ikan kontol',\n",
       " 'indonesia damai presiden kita kita rakyat nurut gak nurut harus nurut setuju suka oke',\n",
       " '2 menang',\n",
       " 'nonton april 2020 ayo',\n",
       " 'tuhan ucapkan syukur alhamdulillah karuniamu menghadirkan tokoh tokoh hebat orang orang hebat hati ikhlas umat bangsa indonesia negaraku tercinta kau hadirkan tauladan negeri indonesia ini tuhan aku permintaan denganya engkau menjabah berikanlah pemimpin mencintai keadilan nampak ujung timur barat negeri kami jadikanlah hadirkanlah 17 april pemimpin ikhlas bangsa negara indonesia amin',\n",
       " 'mengalahkan black pink',\n",
       " 'mantap habis',\n",
       " 'kakak adik kompak sumpah',\n",
       " '215 gilak rap',\n",
       " 'jokowi jokowi jokowi kerja',\n",
       " 'kerja nyata',\n",
       " 'channel epik konten berkualitas drama prank settingan',\n",
       " 'baik job sumpah keren bangsat ekwkakwkkwkakwkakwkk',\n",
       " '',\n",
       " 'kpopers',\n",
       " 'kpopersv',\n",
       " 'wow',\n",
       " 'tidak kalah chandraliow',\n",
       " 'saya coblos 1nya jokowi 0nya prabowo hitung tidak dihitung urusan dildo presiden 2069',\n",
       " 'jokowi2periode',\n",
       " 'ayo trendingkan 1 pemilihan umum selesai',\n",
       " 'milih 01 02 mending 03 saya bercanda tetap saya dukung jokowi',\n",
       " 'cakep keren suka suka suka',\n",
       " 'keren banget pesannya bagus presidennnya semoga membawa indonesia baik',\n",
       " 'konten untuk support channel tidak kak mampir klik subscribe',\n",
       " 'merinding trending 1 menandakan semangat pemilihan presiden 2019 109 merinding',\n",
       " 'omong-omong coki',\n",
       " 'anas firdaus soalnya adegan mesum porno edit',\n",
       " 'muslim teretan terbaik',\n",
       " 'ulang ulang tidak bosan pecah banget sumpah',\n",
       " 'lucu banget',\n",
       " 'saya nonton sampai 20kali',\n",
       " 'semangat demokrasi 46',\n",
       " '1',\n",
       " 'keren',\n",
       " 'keren bgt parah',\n",
       " 'beda pilihan pendapat sewajarnya sbb namanya jg negara demokrasi warga indonesia dewasa berpolitik jangan adu domba politik tujuan untuk kemajuan indonesia juga damai tertib aman sejahtera dll 5 tahun pemilihan umum lagi seterusnya jadi harap rakyat indonesia dewasalah berpolitik bersaudara.tujuan untuk kemajuan indonesia juga rela pemilihan umum berganti pemimpin pemilihan umum berkelahi mau terusan seperti 5 tahun lagi pemilihan umum lagi kelahi lagi menghabiskan tenaga situ situ saja bagus berpikir bersatu memajukan indonesia sejahteranya rakyat indonesia negeri damai tertib',\n",
       " '226 2',\n",
       " 'tersingkirkan kpop tranding 1 hahhah siapa senang kpop tersingkir',\n",
       " 'trending 1 youtube',\n",
       " 'suka musiknya tidak mengerti skenarionya tidak mengena',\n",
       " 'siap bagus banget',\n",
       " 'video 01',\n",
       " 'aku setuju prabowo jokowi tarung ring tinju pasti seru',\n",
       " 'keren',\n",
       " 'samsung bagus berbicara',\n",
       " 'semangat uploadnya skinny indonesian24',\n",
       " 'niat banget',\n",
       " '1 trending liittt brohh',\n",
       " 'umur percaya berita palsu',\n",
       " 'presiden itu 2 1 allah',\n",
       " 'pecah',\n",
       " 'erbnya tertawa',\n",
       " 'boss',\n",
       " 'konten menghibur berbobot daripada grebek rumah trending topik',\n",
       " 'mantap',\n",
       " 'nonton ulang ulang ayo',\n",
       " 'semoga presiden memperbaiki pendidikan indonesia',\n",
       " 'andovi andovi andovi sukses kajovi kajovi kajovi bisah',\n",
       " 'hadir',\n",
       " 'enak bgt ritme nyaa itu mudah mendengarkan cuyyv',\n",
       " 'mantap skinnyindonesia andovi kakak jovi mantap',\n",
       " 'prabowo bes',\n",
       " 'berkelas',\n",
       " 'gila',\n",
       " 'setuju prabowo presiden setuju',\n",
       " 'keputusan tergantung suara rakyat indonesia suara tercipta negara pemerintahannya',\n",
       " 'merinding',\n",
       " 'kabarin keluarkan',\n",
       " 'mantap betul',\n",
       " '18082020',\n",
       " 'kevin naufal army nonton',\n",
       " 'cuma saya mengulang-ngulang video gara-gara whatsapp instagram sama facebook tiba tiba error',\n",
       " '2020 saya masih nonton emang karena suka',\n",
       " 'ayo viral 2024',\n",
       " 'kecepatan 2 mantap banget',\n",
       " 'gila keren banget',\n",
       " 'epik coki muslim',\n",
       " 'versi karaokenya url',\n",
       " 'dirasa komentar gak mengapresiasi karya kak terbaik',\n",
       " 'bangga saya liatnya',\n",
       " 'prabowo sialan',\n",
       " 'army gitu omong-omong blink karena membantu',\n",
       " 'saya',\n",
       " 'maaf saya lihat mukanya probowo mukanya sombong angkuh keras apa saya merasakanya',\n",
       " 'coki muslim keren cok',\n",
       " 'enak bgt lagu',\n",
       " 'mending nonton ginian 100x nonton pamer harta 1x',\n",
       " 'tertawa terpingkal-pingkal',\n",
       " 'lamhot',\n",
       " 'soekarno',\n",
       " 'keren banget',\n",
       " 'keren parah',\n",
       " 'epik waktu karena bilang perjuangan mudah melawan penjajah sulit melawan bangsa sendiri true banget',\n",
       " 'bangsat video kalah video kpop bangsat',\n",
       " 'asli keren',\n",
       " 'gila',\n",
       " 'keren banget mantap betul',\n",
       " '31 detik',\n",
       " 'jokowi',\n",
       " '2004 2009 2014 kayak tidak kelas',\n",
       " 'youtuber legend epik bangets',\n",
       " 'natsume hide',\n",
       " 'ngurusin itu kuda tertawa bnget dengar',\n",
       " 'arva elit banget',\n",
       " 'sumpah epik',\n",
       " 'jarang-jarang loh kasih suka komentar subscribe penikmat youtube tidak heran video tranding 1',\n",
       " 'tau tau edo tensei gitu',\n",
       " 'gantipresiden',\n",
       " 'bangga cebong',\n",
       " 'keren videonya',\n",
       " 'video terepik',\n",
       " 'saya inget saya 5 nonton 2 tahun',\n",
       " 'wow',\n",
       " 'epik sangat',\n",
       " 'ayo lagi',\n",
       " 'indonesia darurat membaca',\n",
       " 'keren',\n",
       " 'keren banget',\n",
       " 'url',\n",
       " 'uhh',\n",
       " 'jokowiamin',\n",
       " 'unggah instrumentalnya dong mantap enak',\n",
       " 'saya sadar coki muslim',\n",
       " 'mantap betul',\n",
       " 'keran',\n",
       " 'menarik banget ngulangi videonya beberapa kali',\n",
       " 'gila wajib trending',\n",
       " 'suka suka',\n",
       " 'kerennnnn',\n",
       " 'wow persaingan mantap',\n",
       " 'mantap',\n",
       " 'kpopers',\n",
       " 'menyebarkan laki-laki biar treding 1',\n",
       " 'aku 10 pemuda aku guncang dunia soekarno bukan org wakila nilai gimana',\n",
       " 'prabowo mang saswi',\n",
       " 'beneran kalah ikhlas menteri ikhlas indonesia bersatu',\n",
       " 'epik bosqqq keren',\n",
       " 'trending 1 dongss omong-omong tertawa keinget film munafik',\n",
       " 'saya nonton ini video perpisahan',\n",
       " 'prabowo 222222222',\n",
       " 'kejam membagikan bagus things',\n",
       " 'keren habis',\n",
       " 'trending bisa ketemu kakak jovial lopez diceritain latar dari pembuatan video ini mantap jadi benar benar termotivasi untuk bisa jadi warga negara indonesia pintar menyikapi pemilihan presiden ini video terbaik',\n",
       " '1,5x wow',\n",
       " 'wow trending 1',\n",
       " '2',\n",
       " 'bosan lihat video',\n",
       " 'charina aprilia apa sihgak nyambung bat',\n",
       " '510 sangat dibenci cebong kampret kurangi golput setuju',\n",
       " 'kesini lihat rewind indonesia 2020',\n",
       " 'mumpung anget yuk mampir youtube aku film belok kanan barcelona',\n",
       " 'hasil karya anak bangsa',\n",
       " 'keren parah',\n",
       " 'nurhadi komentar jokowi komentar prabowo',\n",
       " 'jelasin teman gurun maksudnya apa maaf kudet',\n",
       " '5 tahun saya komentar iya',\n",
       " 'bagus job',\n",
       " 'nonton berulang2 ampe hafal liriknya tetap tidak bosen2',\n",
       " 'keren editannya tertawa dinamakan konten bermutu',\n",
       " 'baik',\n",
       " 'gara gara konten kenal skiny',\n",
       " 'epik beneran epik woi',\n",
       " 'skinnyindonesian24',\n",
       " 'saya ngulang nonton mantap',\n",
       " 'keren',\n",
       " 'planet kosong bumi golput seumur hidup',\n",
       " 'epik rap battle historyy jokowaiii versus prabowoooooooooooooo dimulai',\n",
       " 'tanggapan masyarakat papua barat jokowi url',\n",
       " 'jangan golput',\n",
       " '',\n",
       " 'konten berkualitas',\n",
       " 'aku kesini cm pengen lihat komentar',\n",
       " 'today day',\n",
       " 'mantap gusur kpopers',\n",
       " 'mantap',\n",
       " 'pecah bngt',\n",
       " 'mengurus itu kuda',\n",
       " 'pejov',\n",
       " 'golput',\n",
       " 'lawan grup whatsap keluarga kpoper pemain moba the',\n",
       " 'woww',\n",
       " 'permainan bagus rap',\n",
       " '344 lewati langsung',\n",
       " 'lalisa lalisa lalisa lalisa jokowi jokowi jokowi jokowi kerja',\n",
       " 'keren banget',\n",
       " 'keren bgtt coyy',\n",
       " 'sama saya gak rela',\n",
       " '1952',\n",
       " '8x nonton',\n",
       " '2020 vcanda',\n",
       " 'boom',\n",
       " 'huhu iyaa',\n",
       " '',\n",
       " 'zoom videos',\n",
       " 'jangan bawa perasaan keresahan pribadi 125 135 andovi jovi lupa ngelakuin serupa ngelakuin berbeda contohin juga link url berlomba menarik perhatian publik figure pasangan calon calon presiden timses lupa menarik perhatian masyarakat langsung ingaat politik jangan campurkan infotaiment campurkan politaiment kabar artis caleg semoga sesuai visi misi bukan populeritas masyarkat cerdas memilih caleg depan',\n",
       " 'hatta ngedab',\n",
       " 'nonton tahun 2020 tidak minta minta loh',\n",
       " 'gak kelas',\n",
       " 'membuat video kayak gini habis brapa duit',\n",
       " '5 kali tonton tidak bosan',\n",
       " 'matap',\n",
       " 'terkeren',\n",
       " 'suka soeharto hatta',\n",
       " '3.1k tidak suka teman gurun pemain mobile legend admin grup keluarga',\n",
       " 'subcriber langsung drastis mantapsss skinyy',\n",
       " 'awet video trending 1 mantaplah',\n",
       " '2022',\n",
       " 'tepuk tangan berdiri',\n",
       " 'ayo saya tidak sambar calon presiden prabowo jokowi nonton video terbaik video',\n",
       " 'terbaik terpilih',\n",
       " 'berkelas',\n",
       " 'saya bingung kenapa andovi sekarang gapernah kolaborasi raditya dikapadahal 1 acara tv malam minggu miko bertengkar yak',\n",
       " 'merinding broooo',\n",
       " 'saya',\n",
       " 'tidak suka 50 pemain 49 teman gurun 1 anggota grup whatsapp keluarga',\n",
       " 'jokowi besar besarkan utang negara makan itu sepeda',\n",
       " 'pro prabowo gaess bpjs ngantri boooommmmmm',\n",
       " 'anjir psywar penggemar ricis atta hati-hati ganas2 omong-omong 2014 rap battle tidak sekeren haha',\n",
       " '214',\n",
       " 'trending cerdas berkualitas prank pamer harta gak',\n",
       " 'boneka pdi jelasin',\n",
       " 'wiiiih rame nih gak mutualan',\n",
       " 'gila seehhhh keren seehhh ampun saya seehhh',\n",
       " 'jafas tv basi',\n",
       " 'keren',\n",
       " '',\n",
       " 'buang air besar',\n",
       " 'aku milih update kecepatan drifters s3 tanggal 17 april 2019 yeaaayyy',\n",
       " 'jokowi prabowo url',\n",
       " '',\n",
       " 'menang',\n",
       " 'mantap',\n",
       " 'kejam',\n",
       " 'macam epik rap battle sejarah dasar meniru',\n",
       " 'classs',\n",
       " '214',\n",
       " '211303 rap terkeren',\n",
       " 'saya heran komentar bagusbagus',\n",
       " 'youtuber bersih',\n",
       " 'coki muslim',\n",
       " 'csame menyebarkan view',\n",
       " 'jokowi prabowo naruto sasuke',\n",
       " 'tahan 1 teman-teman',\n",
       " 'jangan golput',\n",
       " 'asli konten creator',\n",
       " '',\n",
       " 'habis nonton video klip yonglek terbaru saya video ini konten creator rapper abal abal',\n",
       " 'nonton april 2020',\n",
       " 'biasaa',\n",
       " 'saya ulang ulang bagus banget',\n",
       " 'iya kakak',\n",
       " 'spesifikasi tidak gampang panas',\n",
       " 'nonton liatin komentar',\n",
       " 'gak',\n",
       " 'keren isi mengkritisi bukan menjelekkan',\n",
       " 'viral masanya',\n",
       " 'nonton lgi setelah nonton video pamit skinnyindonesian24',\n",
       " 'kali nonton diulang',\n",
       " 'waaww',\n",
       " 'sial saya hikimorori mobile legend sindir saya saya pensi bang',\n",
       " '056 lalisa lalisa lalisa lalisa kerja',\n",
       " 'mantap betul',\n",
       " 'saya 10x lihat ini merinding tidak bosan gila ampe apal keren habis',\n",
       " 'tau ngantri',\n",
       " 'ujaran kebencian hahahahahahaha',\n",
       " 'videony bagus epik maaf setuju calon presiden digambarkan itu para calon presiden tidak membenci mengolok-ngolok sma lain apalagi menyebut kita cebong kapret sma tidak berucap itu bapak jokowi selalu santun sedang prabowo jg bicarany sdikit keras tegas itu sdh karakter sebatas kritik wajar sebagai lawan jadi berpolitiklah jangan mencela sma salam negara kesatuan ri',\n",
       " 'konsepnya meningkat tahun tahun keren perang rap',\n",
       " 'balapan ayo trending bts wkwkwkwkwkwk',\n",
       " 'jangangolput andovicapres2034',\n",
       " 'gimana jokowi prabowo asli berperan',\n",
       " 'suka mobile legends',\n",
       " 'terbaik statement cukup menambah mendukung pernyataan jokowi',\n",
       " 'coba membuat versi wakilnya wkwkwk setuju',\n",
       " '344 355 lagu ya penasaran enak bgt',\n",
       " 'abri 70 negeri umur belum 70 tahun',\n",
       " 'keren bgt parah',\n",
       " 'epik battle rap',\n",
       " '',\n",
       " 'keren parah',\n",
       " 'keren banget',\n",
       " 'fokus baca komentarnya netizen',\n",
       " 'saya nonton tanggal 1 mei aku tau aku menonton ini',\n",
       " 'trending nih',\n",
       " 'terima kasih ngulang',\n",
       " 'muslim',\n",
       " 'tidak suka cebong',\n",
       " 'gila tranding 1',\n",
       " 'mandala putra ciduk ngatain fisik',\n",
       " 'hidup enak anak menteri',\n",
       " 'tidak lain mau jokowi salam periode',\n",
       " 'umat lucu golongan hiyahiyahiyaaa',\n",
       " 'saya suka',\n",
       " '',\n",
       " 'sumpah keren ide keren sangat tuhan menyertai',\n",
       " 'nonton tiduran yaaa bangsat',\n",
       " 'nansn',\n",
       " 'profokator',\n",
       " 'waaaa',\n",
       " 'mantap',\n",
       " 'mantap keren banget',\n",
       " 'coki muslim gila',\n",
       " 'omongan jokowi prabowo kenyataan',\n",
       " 'mantap banggg',\n",
       " 'akal imajinasi',\n",
       " 'menit 226 ter terbaik mantap betul',\n",
       " 'reaksi kali',\n",
       " 'mantap tau coki muslim ngerap',\n",
       " '205 terbaik momen',\n",
       " 'membuat lagi sidang mahkamah konstitusi biar cair',\n",
       " 'coblosnya teh botol sosro',\n",
       " 'berantem berimbang',\n",
       " 'hidup susah payah bpk mengerti',\n",
       " 'nonton',\n",
       " 'jokowi udah kasih prabowo jabat kasihan pakai jas dasi',\n",
       " 'lagu ngantri bpjs judulnya',\n",
       " 'soundtracknya mantap',\n",
       " 'golput',\n",
       " 'jarinya nunjuk tidak suka',\n",
       " 'jokowi aja jokowi waeee jokowi aja jokowi aja jokowi waee',\n",
       " 'gausah kesindir pelerai',\n",
       " 'nyesel nonton keren',\n",
       " 'kreatif',\n",
       " 'terngiang ngiang',\n",
       " 'nyimak aja',\n",
       " 'prabowo subianto',\n",
       " '',\n",
       " 'sakit mengalir',\n",
       " 'mantap trending 1',\n",
       " '05 desember 2019',\n",
       " 'jangan geser',\n",
       " 'merinding andovi terkeren',\n",
       " 'pinter prabowo palsu',\n",
       " 'ngulangsiapa ni keren banget gila epik',\n",
       " 'gloriaa jelas jelas bilang jangan salahin bts saya bts gak salah penggemar indonesia nontonin sampai trending idolnya disalahin penggemarnya gak terima udala emg ingin streaming bts streaming saya cuma mengajak streaming',\n",
       " 'rap battle negeri mendingan pantun',\n",
       " 'keren anjir',\n",
       " '',\n",
       " 'nonton 2020',\n",
       " 'nonton 2020',\n",
       " 'wajib trending',\n",
       " 'dukung nurhadi aldo salto',\n",
       " 'ulang wkwkkwk mantap anjing',\n",
       " 'ikan teri ikan paus ikan kontl wkwkwkw',\n",
       " 'keren bgt bagus job',\n",
       " 'keren hehehe tidak seru tidak young lex',\n",
       " '02',\n",
       " 'ikan kontol',\n",
       " 'keren',\n",
       " 'nonton 2021',\n",
       " 'prabowo',\n",
       " 'presiden coba2',\n",
       " 'good game well played',\n",
       " 'males anak anjir',\n",
       " 'ahh tetap epik kalipun putar',\n",
       " '2',\n",
       " '305 megang krim corneto wkkwkw',\n",
       " 'pantun battle',\n",
       " 'saya nonton tahun 2021',\n",
       " 'keren asli mantap betul pantes trending nomor 1 video kaya gini',\n",
       " 'belajar ngerap aku kasih saran 214 kecepatan 0,5x',\n",
       " '226 mantap rapnya',\n",
       " '446 pemain mobile legend',\n",
       " 'prabowo menang allah indonesia adil makmur aamiin',\n",
       " 'hatta perjuangan',\n",
       " 'coba kamu cepetin 1.5 dijamin enak',\n",
       " '',\n",
       " 'siapa nonton 10 kali ayok',\n",
       " 'jangan bicara buktikan jangan percaya berita palsu',\n",
       " '200',\n",
       " 'nonton karena coki muslim emangg berkelas',\n",
       " 'url',\n",
       " 'muhammad ridho aldino iya',\n",
       " 'epik banget',\n",
       " 'grup whatsapp keluarga bener bgt hahahaha',\n",
       " 'keren',\n",
       " '17x diulang merinding mantap saudara dalopes',\n",
       " 'tidak ngehina kpoppers',\n",
       " 'ida harianti pakai munafik telepromter',\n",
       " 'nama instrumental',\n",
       " 'bnget disini hrus pilih insya allah 170419',\n",
       " 'mantulllll',\n",
       " 'karya',\n",
       " 'mantap betul lucu',\n",
       " '2 juli 2020 nonton',\n",
       " 'presidennya bersatu merdeka',\n",
       " 'wkkwwk sipp',\n",
       " 'komentar keren banget',\n",
       " 'mantap betul',\n",
       " 'dewasalah berdemokrasi merdeka',\n",
       " 'untung trending bukan keluargaa halilintar',\n",
       " 'kewren',\n",
       " 'seneng banget lihat',\n",
       " 'merinding kereeeenn bangeeettt',\n",
       " 'lost trek',\n",
       " 'jokowi prabowo komentar',\n",
       " '5 kali nonton tidak bosan wkwkkw keren sumpah',\n",
       " 'uh',\n",
       " 'keren habis',\n",
       " 'boom',\n",
       " 'cuma muternya pake kecepatan 1,5xv mantap',\n",
       " 'keren',\n",
       " 'jangan golput',\n",
       " 'keren',\n",
       " 'mantap',\n",
       " 'jarang unggah sekalinya unggah bagus bgt nilai positifnya',\n",
       " 'awas mengambil',\n",
       " '2020',\n",
       " 'jokowi 2periode amen',\n",
       " '342 momen merinding',\n",
       " 'terima kasih nis',\n",
       " 'keren',\n",
       " 'nonton berkali kali ayo milenial jangan kasih turun trending 1 pemilihan umum usai',\n",
       " '01',\n",
       " 'mantap betul trending 1',\n",
       " '',\n",
       " 'riskimaulana situ toxic lakuin indonesia',\n",
       " 'jasmine karlita hahahaha lihat live tv potong tidak malu berbicara kaya gitu yaaa',\n",
       " 'congrats kak trending 1 nya komentar jangan golput dampak golput kehidupan 5 tahun mendatang pilih sesuai hati nurani luber jurdil',\n",
       " 'keren makjang',\n",
       " '213',\n",
       " 'kaya hiyahiyahiya',\n",
       " 'trending',\n",
       " 'pilih 02 prabowoo sandii',\n",
       " 'tau judul lagu beats mirip2 kayak gini',\n",
       " 'gila tidak bosan bosan saya 15gw ulang2 semangat broo',\n",
       " 'momen indonesia hancur',\n",
       " 'judul backsound apa',\n",
       " 'trending ter00ss omong-omong baik',\n",
       " 'itu trending 4',\n",
       " '',\n",
       " 'boneka pdi',\n",
       " 'soekarno',\n",
       " 'kpopers bawa bawa politik omong-omong saya blink army',\n",
       " 'kak jovi kalem orangnya',\n",
       " '',\n",
       " 'atta lumaya itu promo ahha atta',\n",
       " 'kamu emang dukung jokowi',\n",
       " 'mantap',\n",
       " 'nonton puasa',\n",
       " '2021',\n",
       " 'keren banget sumpah',\n",
       " 'presidennya teh botol sosro minumanya',\n",
       " 'keren super kreatif serba kena semuanya salam jangan golput',\n",
       " 'coki muslim',\n",
       " 'damai indah embel-embel sisi buruk masing jlastdaknya kabar buruknya semoga indonesia bersatu nkri',\n",
       " '5 anime fighting scene',\n",
       " 'konten berkelas kayak gini trending 1',\n",
       " 'nonton desember',\n",
       " 'keren',\n",
       " 'setuju ganti presiden',\n",
       " 'benci bat saya sma bener setuju',\n",
       " 'menjatuhkan terang terangan',\n",
       " 'kpopers terpanggil',\n",
       " 'keren banget',\n",
       " 'aku tetap nyimak netral bro 2019 tetap mencari rumput untuk kambing ingat ingat netral',\n",
       " '2020 masih nonton',\n",
       " 'coki muslim',\n",
       " 'lucu',\n",
       " 'ikan',\n",
       " 'gillaaa keren nonton berkali tidak bosan',\n",
       " 'anjayyy',\n",
       " 'likeee bgtt video ini',\n",
       " 'wahgelasehh',\n",
       " 'terima kasih',\n",
       " 'keren',\n",
       " 'tertawa terpingkal-pingkal',\n",
       " 'memilih dengan hati nurani dibri kebebasan dicoblos tidak memfitnah alias berita berita palsu membangun negari cintai ini saya memilih jokowi',\n",
       " 'mantap berkarya',\n",
       " 'bpjs ngantri fact',\n",
       " 'epik',\n",
       " 'sangat kreatif',\n",
       " 'soekarno hatta edo tensei',\n",
       " 'permainan bagus oi parah terbaik',\n",
       " 'keren',\n",
       " 'menang ir soekarno',\n",
       " 'isi konten youtubers',\n",
       " 'izin numpang iklan malioboro pariwisata kota jogjakarta jogjakarta menawarkan keindahan pariwisatanya andalan kota jogja karta bangi memiliki hunian jogjakarta menawarkan green tasneem bangunjiwo terletak ringroad selatan kampus umy 20 menit malioboro klik url tertarik url hubungi 085640570773',\n",
       " 'here mata kangen lihat konten konten wow hahhaaa',\n",
       " 'mantap',\n",
       " 'epik bagus',\n",
       " 'terakhirnya rapnya ganas-ganas awalny santai belum apanya',\n",
       " '',\n",
       " 'gila gila gila aku pikir video layak batasan umur aku video kasar mencolok menyatukan menampilkan perselisihan perpecagan musik mencengangkan video maksud video keren',\n",
       " 'epicc',\n",
       " 'merindingg karena hatta hidup patungg gila rap battlenya',\n",
       " 'rap coba',\n",
       " 'iya loh bener sentilan mengena banget wkwkwkwkwk',\n",
       " 'qimak',\n",
       " 'nama',\n",
       " 'ripenglish',\n",
       " 'pengumuman indonesia negara demokrasi jangan negara terpecah belah memilih capres.mau presidennya jokowi seperti prabowo aja.tergantung orangnya masingmasing.mereka kelebihan kekurangannya sendiri.tapi prabowo sih.wkwkwk',\n",
       " '02',\n",
       " 'bintang guci rigen marah marah muslim',\n",
       " 'semenjak jokowi opn tidak lgi cm jokowi masuk desa terpencil cm jokowi opn bubar dri',\n",
       " 'hidup jokowi turun langsung lapangan hutan papua jalan kaki hidup ramah jokowi',\n",
       " 'mudah-mudahan polisi memdalami isi konten memperuncing suasana politik',\n",
       " '33jt lihat',\n",
       " 'nonton 3x sadar coki muslim itupun lihat komentar ditamatin',\n",
       " 'epik',\n",
       " 'indonesia prabowo',\n",
       " '',\n",
       " 'gila gila hacep banget parah coba gini indonesia berani berbicara politik umum gausah lapor polisi apalah',\n",
       " 'keren cuuwkk mantap jiwa bang menggugah jiwa ini',\n",
       " '',\n",
       " 'rock guyss',\n",
       " '1 trending',\n",
       " 'rhymenya gilee mantap',\n",
       " 'coblos andovidalopez',\n",
       " 'pilih jangan membenci nogolpot',\n",
       " 'lagu lalisa anj',\n",
       " 'bantu nambahin penonton sampai 50jt mengalahkan diwan beli cupang boneka voodoo',\n",
       " 'badas',\n",
       " 'video bagus tpi komentar berlebihan semua najis ahh penjilat terlalu',\n",
       " 'jogetan jokowi dijadikan jokowijogetchalenge aja ekwkwk setuju',\n",
       " 'berkelas jangan golput',\n",
       " 'berkelas',\n",
       " 'litttttt',\n",
       " 'nonton mana',\n",
       " 'keren',\n",
       " 'jokowi',\n",
       " 'urusin cebong.ktawa gue.kkkk',\n",
       " 'alhamdulillah trending epik total lirik tidak disangka-sangka nonton sampai degdegan sangking panasnya videonya rap battle nyantol bgt jokowi jokowi 2019 ganti presiden omong-omong andovi sekurus jokowi',\n",
       " 'gila keren keren',\n",
       " 'epik',\n",
       " '',\n",
       " 'bangsat keren habis',\n",
       " 'keren 1 juta',\n",
       " 'bagus',\n",
       " 'siap',\n",
       " 'prabowo 70 tahun dlm abri lahir tahun shskrng umur berapa lahir langsung jadi abri gituapa gimana',\n",
       " 'sialan mantap',\n",
       " 'mantap',\n",
       " '213 mantap pakdeh',\n",
       " 'keren loh',\n",
       " 'untung wibu kagak dihina',\n",
       " 'wagelasehhhh',\n",
       " 'epiccccccc semangat dukung nurhadi aldo tronjal tronjol maha asyik wkwkwkw',\n",
       " 'ardner wkwkwkwk tertawa',\n",
       " 'ketemu',\n",
       " 'andovi tretan kaga ngaruh suara rakyat mendukung 02 2019gantipresiden',\n",
       " 'jangan lupa subscribe channel biar tergeser tidak faedah nya',\n",
       " 'viral di biar lihat',\n",
       " 'prabowo',\n",
       " 'mantap terbaik pointnya yah inget milih bangsa jangan ngeliat sebelah sisi ntah nomor 01 02 lihat visi misi keseriusan memimpin',\n",
       " 'ryan fadhila bener tidak darimananya',\n",
       " 'keren banget',\n",
       " 'trending 1 sampai tgl 17',\n",
       " 'aminn',\n",
       " '02',\n",
       " 'goblok sumpah keren',\n",
       " 'siluman lembing cuk',\n",
       " 'kualitas trending',\n",
       " 'plot twis terbaik 2019 coki muslim divideo',\n",
       " 'korupsi gak papa jangan hadeh koruptor taubat mengembalikan duit negara disisihkan persen uang pensiun koruptor hadeh bocor',\n",
       " 'kereeeen banget',\n",
       " 'parahhhhh duaarr meledakkk keren parahh sihh terharuuu uwuuv',\n",
       " 'sumpah tidak mengerti saya meresapi liriknya mikir keras iyaiya bener iya',\n",
       " 'edotensei karena hatta',\n",
       " 'mantap betul',\n",
       " 'jokowi baik',\n",
       " 'keren tema sensitif saat saat ini cm kemasan kontennya cakep',\n",
       " 'lomba menari',\n",
       " 'berkelas',\n",
       " 'keren',\n",
       " 'jokowi nomer 1',\n",
       " 'tidak suka cebongkampret militan',\n",
       " 'kali hidup 15thn pemilihannya ketat banget',\n",
       " 'keren banget youtuber pro',\n",
       " 'amazing wakilin video',\n",
       " 'hatta perjuangan',\n",
       " 'pa jokowi byk dicaci suka',\n",
       " 'diambil fanatik',\n",
       " 'keren kontennya cover side sayang revolusi mental gak disinggung sekali isu seksi dimasukin hehe',\n",
       " 'trending 2 mantap betul',\n",
       " 'wow wow bnyk ketimbang cawapres eloo bicara berbobot marah itu pake realita kamu lihat tamat gak kamu lihat ini tayangan',\n",
       " 'keren banget',\n",
       " 'mantap 1,2jt',\n",
       " 'orang tepilih',\n",
       " 'basi',\n",
       " 'uninstal 01',\n",
       " 'terbaik rap oo',\n",
       " 'sumpah wajib trending ini',\n",
       " 'gila',\n",
       " 'doni darmawan iya kayak gitu',\n",
       " '',\n",
       " 'saya perhatiin tangan loh nunjukin prabowo',\n",
       " 'prabowo sandi',\n",
       " 'mantaaaap',\n",
       " 'korupsi tidak',\n",
       " 'abelzaky rahman bocah',\n",
       " 'soundnya sokarno hatta',\n",
       " 'jokowi memimpin negara dengan benar buktinya negara hutang',\n",
       " 'jokowi terbaik',\n",
       " 'presidenya veteran tinggal kambing',\n",
       " 'namanya konten creator mengena banget',\n",
       " 'ashoee coki muslim',\n",
       " 'respect pemeranan watak sangat tokoh aslinya saya tidak ngurus jadi presiden indonesia maju indonesia maju',\n",
       " 'ngantri bpjs',\n",
       " '',\n",
       " '442 wibu',\n",
       " 'ngeri ngeri lihat tretan muslim gak jijik hiyahiya',\n",
       " '',\n",
       " 'bangsat napa coki muslim',\n",
       " 'lihat gak viedo gak sadar mohammad hatta ngedab',\n",
       " 'mantap kajooo kandoov',\n",
       " 'boom tranding 1',\n",
       " 'sorry tapi alay dialami orang nih tidak cuma suka korea.all trough time tho mungkin tidak tau alaynya kaya gimana karena atur kok',\n",
       " '',\n",
       " 'cepet bgt trendingnya yoho',\n",
       " 'mantap djiwa',\n",
       " 'pecah',\n",
       " 'keren',\n",
       " 'keren',\n",
       " 'edotensi jutsu',\n",
       " 'wow keren bat sumpah',\n",
       " 'keren parah',\n",
       " 'salam2periodejokowiamiin',\n",
       " 'bener karena plastik tidak layak trnding',\n",
       " 'trending',\n",
       " 'mantap blackpink ampe kegeser',\n",
       " 'keren bangetttt',\n",
       " 'gunanya',\n",
       " 'keren keren',\n",
       " 'youtube berubah ini trending konten membaca view suka bukan subscribe suka ketimbang konten grebek rumah bangga',\n",
       " 'hasdi alam asli ditambah keturunan sultan tumenggung pahlawan2',\n",
       " 'mantap betul sangaddd',\n",
       " 'sukses bos',\n",
       " 'wow keren',\n",
       " 'salah fokus upnya gitu tidak persis',\n",
       " 'proundddd prouunnddddd',\n",
       " 'pretty keren',\n",
       " 'epik banget keren',\n",
       " 'mantap betul',\n",
       " ...]"
      ]
     },
     "execution_count": 46,
     "metadata": {},
     "output_type": "execute_result"
    }
   ],
   "source": [
    "a"
   ]
  },
  {
   "cell_type": "code",
   "execution_count": 47,
   "metadata": {},
   "outputs": [],
   "source": [
    "'''Cleaning function'''\n",
    "import emoji \n",
    "\n",
    "#lowering text\n",
    "def lower(text):\n",
    "    text = text.lower()\n",
    "    return text\n",
    "    \n",
    "#def remove_numbers(text):\n",
    "    number_pattern = r'\\d+'\n",
    "    without_number = re.sub(pattern=number_pattern, repl=\" \", string=text)\n",
    "    return without_number\n",
    "\n",
    "#removing emoticon\n",
    "def remove_emoji(text):\n",
    "    pattern = emoji.get_emoji_regexp()\n",
    "    without_emoji = pattern.sub('', text)\n",
    "    return without_emoji\n",
    "\n",
    "#def replace_url(text, replacement):\n",
    "    text = str(text)\n",
    "    text = re.sub('http[s]?://(?:[a-zA-Z]|[0-9]|[$-_@.&+]|[!*\\(\\),]|(?:%[0-9a-fA-F][0-9a-fA-F]))+', replacement, text)\n",
    "    text = re.sub('[/]?watch(?:[a-zA-Z]|[0-9]|[$-_@.&+]|[!*\\(\\),]|(?:%[0-9a-fA-F][0-9a-fA-F]))+', replacement, text)\n",
    "    return text\n",
    "\n",
    "#Detect link and replace with url\n",
    "urlregex = re.compile(r\"\"\"(?i)\\b((?:https?:(?:/{1,3}|[a-z0-9%])|[a-z0-9.\\-]+[.](?:com|net|org|edu|gov|mil|aero|asia|biz|cat|coop|info|int|jobs|mobi|museum|name|post|pro|tel|travel|xxx|ac|ad|ae|af|ag|ai|al|am|an|ao|aq|ar|as|at|au|aw|ax|az|ba|bb|bd|be|bf|bg|bh|bi|bj|bm|bn|bo|br|bs|bt|bv|bw|by|bz|ca|cc|cd|cf|cg|ch|ci|ck|cl|cm|cn|co|cr|cs|cu|cv|cx|cy|cz|dd|de|dj|dk|dm|do|dz|ec|ee|eg|eh|er|es|et|eu|fi|fj|fk|fm|fo|fr|ga|gb|gd|ge|gf|gg|gh|gi|gl|gm|gn|gp|gq|gr|gs|gt|gu|gw|gy|hk|hm|hn|hr|ht|hu|id|ie|il|im|in|io|iq|ir|is|it|je|jm|jo|jp|ke|kg|kh|ki|km|kn|kp|kr|kw|ky|kz|la|lb|lc|li|lk|lr|ls|lt|lu|lv|ly|ma|mc|md|me|mg|mh|mk|ml|mm|mn|mo|mp|mq|mr|ms|mt|mu|mv|mw|mx|my|mz|na|nc|ne|nf|ng|ni|nl|no|np|nr|nu|nz|om|pa|pe|pf|pg|ph|pk|pl|pm|pn|pr|ps|pt|pw|py|qa|re|ro|rs|ru|rw|sa|sb|sc|sd|se|sg|sh|si|sj|Ja|sk|sl|sm|sn|so|sr|ss|st|su|sv|sx|sy|sz|tc|td|tf|tg|th|tj|tk|tl|tm|tn|to|tp|tr|tt|tv|tw|tz|ua|ug|uk|us|uy|uz|va|vc|ve|vg|vi|vn|vu|wf|ws|ye|yt|yu|za|zm|zw)/)(?:[^\\s()<>{}\\[\\]]+|\\([^\\s()]*?\\([^\\s()]+\\)[^\\s()]*?\\)|\\([^\\s]+?\\))+(?:\\([^\\s()]*?\\([^\\s()]+\\)[^\\s()]*?\\)|\\([^\\s]+?\\)|[^\\s`!()\\[\\]{};:'\".,<>?«»“”‘’])|(?:(?<!@)[a-z0-9]+(?:[.\\-][a-z0-9]+)*[.](?:com|net|org|edu|gov|mil|aero|asia|biz|cat|coop|info|int|jobs|mobi|museum|name|post|pro|tel|travel|xxx|ac|ad|ae|af|ag|ai|al|am|an|ao|aq|ar|as|at|au|aw|ax|az|ba|bb|bd|be|bf|bg|bh|bi|bj|bm|bn|bo|br|bs|bt|bv|bw|by|bz|ca|cc|cd|cf|cg|ch|ci|ck|cl|cm|cn|co|cr|cs|cu|cv|cx|cy|cz|dd|de|dj|dk|dm|do|dz|ec|ee|eg|eh|er|es|et|eu|fi|fj|fk|fm|fo|fr|ga|gb|gd|ge|gf|gg|gh|gi|gl|gm|gn|gp|gq|gr|gs|gt|gu|gw|gy|hk|hm|hn|hr|ht|hu|id|ie|il|im|in|io|iq|ir|is|it|je|jm|jo|jp|ke|kg|kh|ki|km|kn|kp|kr|kw|ky|kz|la|lb|lc|li|lk|lr|ls|lt|lu|lv|ly|ma|mc|md|me|mg|mh|mk|ml|mm|mn|mo|mp|mq|mr|ms|mt|mu|mv|mw|mx|my|mz|na|nc|ne|nf|ng|ni|nl|no|np|nr|nu|nz|om|pa|pe|pf|pg|ph|pk|pl|pm|pn|pr|ps|pt|pw|py|qa|re|ro|rs|ru|rw|sa|sb|sc|sd|se|sg|sh|si|sj|Ja|sk|sl|sm|sn|so|sr|ss|st|su|sv|sx|sy|sz|tc|td|tf|tg|th|tj|tk|tl|tm|tn|to|tp|tr|tt|tv|tw|tz|ua|ug|uk|us|uy|uz|va|vc|ve|vg|vi|vn|vu|wf|ws|ye|yt|yu|za|zm|zw)\\b/?(?!@)))\"\"\")\n",
    "\n",
    "def detecturl(text, replace):\n",
    "    url_filtered_comment = re.sub(urlregex, replace,text)\n",
    "    return url_filtered_comment\n",
    "\n",
    "#remove punctuation\n",
    "clean_spcl = re.compile('[/(){}\\[\\]\\|!;]')\n",
    "clean_symbol = re.compile('[^.,a-zA-Z0-9 \\n\\.]')\n",
    "\n",
    "def clean_punct(text):\n",
    "    text = clean_spcl.sub('', text)\n",
    "    text = clean_symbol.sub('', text)\n",
    "    return text\n",
    "\n",
    "#checking white spaces and removing\n",
    "def white_spaces(text):\n",
    "    single_char_pattern = re.compile(r'\\s+')\n",
    "    text = re.sub(pattern=single_char_pattern, repl=' ', string=text)\n",
    "    return text\n",
    "\n",
    "#Stopwords    \n",
    "stopwords = set(Sastrawi_StopWords_id)\n",
    "\n",
    "def clean_stopwords(text):\n",
    "    text = ' '.join(word for word in text.split() if word not in stopwords) # hapus stopword dari kolom deskripsi\n",
    "    return text\n",
    "\n",
    "  #english stopwords\n",
    "def en_stopwords(text):\n",
    "    df=open('..\\Stopwords_eng\\stopwords_en.txt',\"r\",encoding=\"utf-8\", errors='replace')\n",
    "    en_stop = df.readlines()\n",
    "    df.close()\n",
    "    en_stop = [t.strip().lower() for t in en_stop]\n",
    "    en_stop = set(en_stop)\n",
    "    text = ' '.join(word for word in text.split() if word not in en_stop) # hapus stopword dari kolom deskripsi\n",
    "    return text\n",
    "\n",
    "    #Indonesian Stopwords\n",
    "def id_stopwords(text):\n",
    "    df=open('..\\Stopwords\\stopwords.txt',\"r\",encoding=\"utf-8\", errors='replace')\n",
    "    id_stop = df.readlines()\n",
    "    df.close()\n",
    "    id_stop = [t.strip().lower() for t in id_stop]\n",
    "    id_stop = set(id_stop)\n",
    "    text = ' '.join(word for word in text.split() if word not in id_stop) # hapus stopword dari kolom deskripsi\n",
    "    return text\n",
    "\n",
    "#Slangwords\n",
    "def slang(text):\n",
    "    df=open('../Slangwords/slangwords.txt',\"r\",encoding=\"utf-8\", errors='replace')\n",
    "    slangS = df.readlines()\n",
    "    slangS = [t.split(\":\") for t in slangS]\n",
    "    slangS = [[k.strip(), v.strip()] for k,v in slangS]\n",
    "    slangS = {k:v for k,v in slangS}\n",
    "\n",
    "    T = TextBlob(text).words\n",
    "    \n",
    "    for i,t in enumerate(T):\n",
    "        if t in slangS.keys():\n",
    "            T[i] = slangS[t]\n",
    "        \n",
    "    T =' '.join(T)\n",
    "\n",
    "    return T"
   ]
  },
  {
   "cell_type": "code",
   "execution_count": 50,
   "metadata": {},
   "outputs": [],
   "source": [
    "try_data_cleaning['cleaned_comment'] = try_data_cleaning['Comment'].apply(lambda x: lower(x))\n",
    "try_data_cleaning['cleaned_comment'] = try_data_cleaning['cleaned_comment'].apply(lambda x: remove_emoji(x))\n",
    "try_data_cleaning[\"cleaned_comment\"] = try_data_cleaning[\"cleaned_comment\"].apply(lambda x: detecturl(x, 'url'))\n",
    "try_data_cleaning['cleaned_comment'] = try_data_cleaning['cleaned_comment'].apply(lambda x: clean_punct(x))\n",
    "try_data_cleaning['cleaned_comment'] = try_data_cleaning['cleaned_comment'].apply(lambda x: white_spaces(x))\n",
    "try_data_cleaning['cleaned_comment'] = try_data_cleaning['cleaned_comment'].apply(lambda x: clean_stopwords(x))\n",
    "try_data_cleaning['cleaned_comment'] = try_data_cleaning['cleaned_comment'].apply(lambda x: en_stopwords(x))\n",
    "try_data_cleaning['cleaned_comment'] = try_data_cleaning['cleaned_comment'].apply(lambda x: id_stopwords(x))\n",
    "try_data_cleaning['cleaned_comment'] = try_data_cleaning['cleaned_comment'].apply(lambda x: slang(x))"
   ]
  },
  {
   "cell_type": "code",
   "execution_count": 57,
   "metadata": {},
   "outputs": [
    {
     "data": {
      "text/html": [
       "<div>\n",
       "<style scoped>\n",
       "    .dataframe tbody tr th:only-of-type {\n",
       "        vertical-align: middle;\n",
       "    }\n",
       "\n",
       "    .dataframe tbody tr th {\n",
       "        vertical-align: top;\n",
       "    }\n",
       "\n",
       "    .dataframe thead th {\n",
       "        text-align: right;\n",
       "    }\n",
       "</style>\n",
       "<table border=\"1\" class=\"dataframe\">\n",
       "  <thead>\n",
       "    <tr style=\"text-align: right;\">\n",
       "      <th></th>\n",
       "      <th>Video_Id</th>\n",
       "      <th>Tittle</th>\n",
       "      <th>Name</th>\n",
       "      <th>Comment</th>\n",
       "      <th>Comment_Id</th>\n",
       "      <th>Time</th>\n",
       "      <th>Likes</th>\n",
       "      <th>Reply_Count</th>\n",
       "      <th>Label</th>\n",
       "      <th>cleaned</th>\n",
       "    </tr>\n",
       "  </thead>\n",
       "  <tbody>\n",
       "    <tr>\n",
       "      <th>0</th>\n",
       "      <td>AP0NACavjfk</td>\n",
       "      <td>SkinnyIndonesian24 | Prabowo VS Jokowi - Epic ...</td>\n",
       "      <td>Banda vlog</td>\n",
       "      <td>Apa salah mobale lejen pak soekarno</td>\n",
       "      <td>UgwmjTHzY2zMOXBg9F94AaABAg</td>\n",
       "      <td>2019-04-11 11:27:47</td>\n",
       "      <td>0</td>\n",
       "      <td>0</td>\n",
       "      <td>spam</td>\n",
       "      <td>salah mobile legend soekarno</td>\n",
       "    </tr>\n",
       "    <tr>\n",
       "      <th>1</th>\n",
       "      <td>AP0NACavjfk</td>\n",
       "      <td>SkinnyIndonesian24 | Prabowo VS Jokowi - Epic ...</td>\n",
       "      <td>kharisma setya kencana</td>\n",
       "      <td>👆👆👆👆👆👆</td>\n",
       "      <td>UgzbICRmksoeoGVFCzd4AaABAg</td>\n",
       "      <td>2019-04-09 04:08:18</td>\n",
       "      <td>0</td>\n",
       "      <td>0</td>\n",
       "      <td>legitimate</td>\n",
       "      <td></td>\n",
       "    </tr>\n",
       "    <tr>\n",
       "      <th>2</th>\n",
       "      <td>AP0NACavjfk</td>\n",
       "      <td>SkinnyIndonesian24 | Prabowo VS Jokowi - Epic ...</td>\n",
       "      <td>「GratioKunz」</td>\n",
       "      <td>Dan golput itu apa</td>\n",
       "      <td>UgxROKiw4EX5LyaG0lx4AaABAg</td>\n",
       "      <td>2019-04-18 08:57:13</td>\n",
       "      <td>0</td>\n",
       "      <td>0</td>\n",
       "      <td>legitimate</td>\n",
       "      <td>golput</td>\n",
       "    </tr>\n",
       "    <tr>\n",
       "      <th>3</th>\n",
       "      <td>AP0NACavjfk</td>\n",
       "      <td>SkinnyIndonesian24 | Prabowo VS Jokowi - Epic ...</td>\n",
       "      <td>Trestrantara WZ</td>\n",
       "      <td>Keren!!</td>\n",
       "      <td>UgymN9o3cZFXVPLKcjZ4AaABAg</td>\n",
       "      <td>2019-04-08 16:42:13</td>\n",
       "      <td>0</td>\n",
       "      <td>0</td>\n",
       "      <td>legitimate</td>\n",
       "      <td>keren</td>\n",
       "    </tr>\n",
       "    <tr>\n",
       "      <th>4</th>\n",
       "      <td>AP0NACavjfk</td>\n",
       "      <td>SkinnyIndonesian24 | Prabowo VS Jokowi - Epic ...</td>\n",
       "      <td>Heri Kurniawan</td>\n",
       "      <td>Pilih siapa presiden aku Prabowo-Sandi</td>\n",
       "      <td>Ugw9J8lP4lOg0t5yX0l4AaABAg</td>\n",
       "      <td>2019-04-18 00:45:06</td>\n",
       "      <td>1</td>\n",
       "      <td>0</td>\n",
       "      <td>legitimate</td>\n",
       "      <td>pilih presiden aku prabowo sandi</td>\n",
       "    </tr>\n",
       "    <tr>\n",
       "      <th>5</th>\n",
       "      <td>0iLgiRBQzzs</td>\n",
       "      <td>Panas! Jokowi VS Prabowo Saling Serang soal Ko...</td>\n",
       "      <td>Doharman Patimura Waruwu</td>\n",
       "      <td>https://youtu.be/LBKGyxnpMCU</td>\n",
       "      <td>Ugz-zdD0s87dSDzITuh4AaABAg</td>\n",
       "      <td>2019-01-17 23:06:24</td>\n",
       "      <td>0</td>\n",
       "      <td>0</td>\n",
       "      <td>spam</td>\n",
       "      <td>url</td>\n",
       "    </tr>\n",
       "    <tr>\n",
       "      <th>6</th>\n",
       "      <td>AP0NACavjfk</td>\n",
       "      <td>SkinnyIndonesian24 | Prabowo VS Jokowi - Epic ...</td>\n",
       "      <td>666ranger</td>\n",
       "      <td>Gw ikuttt koment lohhh</td>\n",
       "      <td>UgwKlaNqj0fQUpQ3Neh4AaABAg</td>\n",
       "      <td>2019-04-09 11:42:22</td>\n",
       "      <td>0</td>\n",
       "      <td>0</td>\n",
       "      <td>spam</td>\n",
       "      <td>saya ikut komentar</td>\n",
       "    </tr>\n",
       "    <tr>\n",
       "      <th>7</th>\n",
       "      <td>AP0NACavjfk</td>\n",
       "      <td>SkinnyIndonesian24 | Prabowo VS Jokowi - Epic ...</td>\n",
       "      <td>Rizaldo Rizky Ramadhan</td>\n",
       "      <td>Bagus sih. Meskipun tiru tiru Epic Rap Battle</td>\n",
       "      <td>UgzulMMMFleZEE1lAO54AaABAg</td>\n",
       "      <td>2019-04-15 05:00:02</td>\n",
       "      <td>0</td>\n",
       "      <td>0</td>\n",
       "      <td>legitimate</td>\n",
       "      <td>bagus sih meniru meniru epik rap battle</td>\n",
       "    </tr>\n",
       "    <tr>\n",
       "      <th>8</th>\n",
       "      <td>AP0NACavjfk</td>\n",
       "      <td>SkinnyIndonesian24 | Prabowo VS Jokowi - Epic ...</td>\n",
       "      <td>Ganis Fathoni</td>\n",
       "      <td>Gw pendukung Prabowo, tp gw tersinggungnya pas...</td>\n",
       "      <td>UgxF1r9yMnMxyFDa4HJ4AaABAg</td>\n",
       "      <td>2019-04-09 07:28:57</td>\n",
       "      <td>0</td>\n",
       "      <td>0</td>\n",
       "      <td>legitimate</td>\n",
       "      <td>saya pendukung prabowo saya tersinggungnya men...</td>\n",
       "    </tr>\n",
       "    <tr>\n",
       "      <th>9</th>\n",
       "      <td>AP0NACavjfk</td>\n",
       "      <td>SkinnyIndonesian24 | Prabowo VS Jokowi - Epic ...</td>\n",
       "      <td>BotaksMan</td>\n",
       "      <td>Ada yang dari tahun 2025?🗿🔥</td>\n",
       "      <td>Ugx_s948xKTK9LlXF5F4AaABAg</td>\n",
       "      <td>2021-01-18 14:38:50</td>\n",
       "      <td>1</td>\n",
       "      <td>0</td>\n",
       "      <td>spam</td>\n",
       "      <td>tahun 2025</td>\n",
       "    </tr>\n",
       "    <tr>\n",
       "      <th>10</th>\n",
       "      <td>AP0NACavjfk</td>\n",
       "      <td>SkinnyIndonesian24 | Prabowo VS Jokowi - Epic ...</td>\n",
       "      <td>Merdeka Selamanya</td>\n",
       "      <td>Menghibur</td>\n",
       "      <td>Ugxi1ucujacIS_zlagF4AaABAg</td>\n",
       "      <td>2020-05-18 08:19:30</td>\n",
       "      <td>0</td>\n",
       "      <td>0</td>\n",
       "      <td>legitimate</td>\n",
       "      <td>menghibur</td>\n",
       "    </tr>\n",
       "    <tr>\n",
       "      <th>11</th>\n",
       "      <td>AP0NACavjfk</td>\n",
       "      <td>SkinnyIndonesian24 | Prabowo VS Jokowi - Epic ...</td>\n",
       "      <td>Ine Suwanda</td>\n",
       "      <td>wahh ak dah 3 kali nonton ada yang lebihin aku gx</td>\n",
       "      <td>Ugy2Cd4UGsInW9f3R9p4AaABAg</td>\n",
       "      <td>2019-04-13 00:43:06</td>\n",
       "      <td>0</td>\n",
       "      <td>0</td>\n",
       "      <td>spam</td>\n",
       "      <td>aku 3 kali nonton lebih aku tidak</td>\n",
       "    </tr>\n",
       "    <tr>\n",
       "      <th>12</th>\n",
       "      <td>AP0NACavjfk</td>\n",
       "      <td>SkinnyIndonesian24 | Prabowo VS Jokowi - Epic ...</td>\n",
       "      <td>Maz Malik</td>\n",
       "      <td>Njir gue baru sadar kalo  gua nonton 15 kali</td>\n",
       "      <td>UgzSAC1H6Lr2obDDXD94AaABAg</td>\n",
       "      <td>2019-06-01 23:39:33</td>\n",
       "      <td>89</td>\n",
       "      <td>8</td>\n",
       "      <td>spam</td>\n",
       "      <td>saya sadar saya nonton 15 kali</td>\n",
       "    </tr>\n",
       "    <tr>\n",
       "      <th>13</th>\n",
       "      <td>AP0NACavjfk</td>\n",
       "      <td>SkinnyIndonesian24 | Prabowo VS Jokowi - Epic ...</td>\n",
       "      <td>Fadillah Dwi Rahayu</td>\n",
       "      <td>Gw kurang srek deh di menit 1:13 disitu ada be...</td>\n",
       "      <td>Ugw627P2XwTIxk6TEt14AaABAg</td>\n",
       "      <td>2019-04-10 02:58:56</td>\n",
       "      <td>0</td>\n",
       "      <td>0</td>\n",
       "      <td>legitimate</td>\n",
       "      <td>saya cocok menit 113 disitu bendera indonesia ...</td>\n",
       "    </tr>\n",
       "    <tr>\n",
       "      <th>14</th>\n",
       "      <td>AP0NACavjfk</td>\n",
       "      <td>SkinnyIndonesian24 | Prabowo VS Jokowi - Epic ...</td>\n",
       "      <td>silvia hermala sagala</td>\n",
       "      <td>BAGUSSS BANGETTT kerennnn</td>\n",
       "      <td>UgyFaC6PAcejTuvO7Sd4AaABAg</td>\n",
       "      <td>2019-04-17 04:08:17</td>\n",
       "      <td>0</td>\n",
       "      <td>0</td>\n",
       "      <td>legitimate</td>\n",
       "      <td>bagus banget keren</td>\n",
       "    </tr>\n",
       "    <tr>\n",
       "      <th>15</th>\n",
       "      <td>AP0NACavjfk</td>\n",
       "      <td>SkinnyIndonesian24 | Prabowo VS Jokowi - Epic ...</td>\n",
       "      <td>zhenfang Vijaya</td>\n",
       "      <td>Aku gak suka karena ini untuk ku</td>\n",
       "      <td>UgxdlUsKvMTuXzdIHXh4AaABAg</td>\n",
       "      <td>2020-12-04 13:31:40</td>\n",
       "      <td>0</td>\n",
       "      <td>0</td>\n",
       "      <td>legitimate</td>\n",
       "      <td>aku gak suka aku</td>\n",
       "    </tr>\n",
       "    <tr>\n",
       "      <th>16</th>\n",
       "      <td>AP0NACavjfk</td>\n",
       "      <td>SkinnyIndonesian24 | Prabowo VS Jokowi - Epic ...</td>\n",
       "      <td>AMINNOR</td>\n",
       "      <td>Mantul</td>\n",
       "      <td>Ugyuq0L_JAuedyIgx0d4AaABAg</td>\n",
       "      <td>2019-04-09 09:42:00</td>\n",
       "      <td>0</td>\n",
       "      <td>0</td>\n",
       "      <td>legitimate</td>\n",
       "      <td>mantap betul</td>\n",
       "    </tr>\n",
       "    <tr>\n",
       "      <th>17</th>\n",
       "      <td>AP0NACavjfk</td>\n",
       "      <td>SkinnyIndonesian24 | Prabowo VS Jokowi - Epic ...</td>\n",
       "      <td>Soak05</td>\n",
       "      <td>Ahhaahaha mantap ada kaum kita hiyaa hiyaa hii...</td>\n",
       "      <td>Ugxa6xMh8Ybe5KeSXL54AaABAg</td>\n",
       "      <td>2019-04-08 15:38:29</td>\n",
       "      <td>0</td>\n",
       "      <td>0</td>\n",
       "      <td>legitimate</td>\n",
       "      <td>mantap kaum</td>\n",
       "    </tr>\n",
       "    <tr>\n",
       "      <th>18</th>\n",
       "      <td>AP0NACavjfk</td>\n",
       "      <td>SkinnyIndonesian24 | Prabowo VS Jokowi - Epic ...</td>\n",
       "      <td>Sapril Wijaya</td>\n",
       "      <td>HAhahahahah mari trandingkan\\nGeser ki pop pok...</td>\n",
       "      <td>UgzyLB5DdDggBu_j2EN4AaABAg.8tVQZ5x5BgD8tVUXAzJSAE</td>\n",
       "      <td>2019-04-09 10:09:55</td>\n",
       "      <td>0</td>\n",
       "      <td>0</td>\n",
       "      <td>spam</td>\n",
       "      <td>trandingkan geser pop pok pop</td>\n",
       "    </tr>\n",
       "    <tr>\n",
       "      <th>19</th>\n",
       "      <td>AP0NACavjfk</td>\n",
       "      <td>SkinnyIndonesian24 | Prabowo VS Jokowi - Epic ...</td>\n",
       "      <td>Dwi Prasetya Ananta</td>\n",
       "      <td>Salut. Jangan Golput !</td>\n",
       "      <td>UgznnkabhmEhWntvVdx4AaABAg</td>\n",
       "      <td>2019-04-12 04:45:22</td>\n",
       "      <td>0</td>\n",
       "      <td>0</td>\n",
       "      <td>legitimate</td>\n",
       "      <td>bangga jangan golput</td>\n",
       "    </tr>\n",
       "    <tr>\n",
       "      <th>20</th>\n",
       "      <td>AP0NACavjfk</td>\n",
       "      <td>SkinnyIndonesian24 | Prabowo VS Jokowi - Epic ...</td>\n",
       "      <td>Najwa Almira</td>\n",
       "      <td>1:52 shiap🤣</td>\n",
       "      <td>Ugxfeeg-W02VFGXhykd4AaABAg</td>\n",
       "      <td>2019-04-08 16:26:22</td>\n",
       "      <td>0</td>\n",
       "      <td>0</td>\n",
       "      <td>legitimate</td>\n",
       "      <td>152 siap</td>\n",
       "    </tr>\n",
       "    <tr>\n",
       "      <th>21</th>\n",
       "      <td>AP0NACavjfk</td>\n",
       "      <td>SkinnyIndonesian24 | Prabowo VS Jokowi - Epic ...</td>\n",
       "      <td>Sandy Birawa</td>\n",
       "      <td>Gw</td>\n",
       "      <td>UgwYuFOGfDLQd9crDHl4AaABAg.8u_QztScP328v6HQivjtli</td>\n",
       "      <td>2019-05-19 08:17:13</td>\n",
       "      <td>0</td>\n",
       "      <td>0</td>\n",
       "      <td>spam</td>\n",
       "      <td>saya</td>\n",
       "    </tr>\n",
       "    <tr>\n",
       "      <th>22</th>\n",
       "      <td>AP0NACavjfk</td>\n",
       "      <td>SkinnyIndonesian24 | Prabowo VS Jokowi - Epic ...</td>\n",
       "      <td>Papa Soni</td>\n",
       "      <td>SAYA 7 TAHUN DALAM YOUTUBE UNTUK SKINNYINDONES...</td>\n",
       "      <td>Ugz8oLZen10iG_JRqgt4AaABAg</td>\n",
       "      <td>2019-04-13 03:37:30</td>\n",
       "      <td>1</td>\n",
       "      <td>0</td>\n",
       "      <td>legitimate</td>\n",
       "      <td>7 tahun youtube skinnyindonesisan24</td>\n",
       "    </tr>\n",
       "    <tr>\n",
       "      <th>23</th>\n",
       "      <td>AP0NACavjfk</td>\n",
       "      <td>SkinnyIndonesian24 | Prabowo VS Jokowi - Epic ...</td>\n",
       "      <td>Mirah Wahyu Ningsih</td>\n",
       "      <td>KEREN BANGET BANG💚💚</td>\n",
       "      <td>UgycwXu9LdjrzrlZTNN4AaABAg</td>\n",
       "      <td>2019-04-09 00:30:55</td>\n",
       "      <td>0</td>\n",
       "      <td>0</td>\n",
       "      <td>legitimate</td>\n",
       "      <td>keren banget</td>\n",
       "    </tr>\n",
       "    <tr>\n",
       "      <th>24</th>\n",
       "      <td>AP0NACavjfk</td>\n",
       "      <td>SkinnyIndonesian24 | Prabowo VS Jokowi - Epic ...</td>\n",
       "      <td>Denis Prima</td>\n",
       "      <td>Nurhadi Aldo mana ?</td>\n",
       "      <td>UgxYxZ6Mo35itVslNdp4AaABAg</td>\n",
       "      <td>2019-04-09 06:41:00</td>\n",
       "      <td>0</td>\n",
       "      <td>0</td>\n",
       "      <td>spam</td>\n",
       "      <td>nurhadi aldo</td>\n",
       "    </tr>\n",
       "    <tr>\n",
       "      <th>25</th>\n",
       "      <td>0iLgiRBQzzs</td>\n",
       "      <td>Panas! Jokowi VS Prabowo Saling Serang soal Ko...</td>\n",
       "      <td>Riska Amalia</td>\n",
       "      <td>Ngak tahu kah kabarnya papua juga merasa diboh...</td>\n",
       "      <td>UgzStrrzMVkeANhiC414AaABAg.8qD2VVBYdUu8qWQTAlgely</td>\n",
       "      <td>2019-01-25 05:19:29</td>\n",
       "      <td>0</td>\n",
       "      <td>0</td>\n",
       "      <td>legitimate</td>\n",
       "      <td>tidak kabarnya papua dibohongin bbm tunggu tan...</td>\n",
       "    </tr>\n",
       "    <tr>\n",
       "      <th>26</th>\n",
       "      <td>AP0NACavjfk</td>\n",
       "      <td>SkinnyIndonesian24 | Prabowo VS Jokowi - Epic ...</td>\n",
       "      <td>Wahyuni Budiastuti</td>\n",
       "      <td>Masih pegang posisi trendingg brayy⚡\\nThe best...</td>\n",
       "      <td>UgwZ_g9CFfLJLuytHeV4AaABAg</td>\n",
       "      <td>2019-04-18 16:28:46</td>\n",
       "      <td>0</td>\n",
       "      <td>0</td>\n",
       "      <td>legitimate</td>\n",
       "      <td>pegang posisi trendingg brayy terbaik skinny</td>\n",
       "    </tr>\n",
       "    <tr>\n",
       "      <th>27</th>\n",
       "      <td>AP0NACavjfk</td>\n",
       "      <td>SkinnyIndonesian24 | Prabowo VS Jokowi - Epic ...</td>\n",
       "      <td>N1ckX</td>\n",
       "      <td>gk nyangka udh 2 tahun lalu</td>\n",
       "      <td>UgxlKHcZGmoQDQcCw2l4AaABAg</td>\n",
       "      <td>2022-03-26 14:00:55</td>\n",
       "      <td>1</td>\n",
       "      <td>0</td>\n",
       "      <td>legitimate</td>\n",
       "      <td>tidak nyangka 2 tahun</td>\n",
       "    </tr>\n",
       "    <tr>\n",
       "      <th>28</th>\n",
       "      <td>AP0NACavjfk</td>\n",
       "      <td>SkinnyIndonesian24 | Prabowo VS Jokowi - Epic ...</td>\n",
       "      <td>Marino Fahtur Rahman</td>\n",
       "      <td>Mantapppp</td>\n",
       "      <td>UgxkA2EgPkDtn-mio-h4AaABAg</td>\n",
       "      <td>2019-04-09 07:31:46</td>\n",
       "      <td>0</td>\n",
       "      <td>0</td>\n",
       "      <td>legitimate</td>\n",
       "      <td>mantap</td>\n",
       "    </tr>\n",
       "    <tr>\n",
       "      <th>29</th>\n",
       "      <td>AP0NACavjfk</td>\n",
       "      <td>SkinnyIndonesian24 | Prabowo VS Jokowi - Epic ...</td>\n",
       "      <td>Ajeng Fajrina</td>\n",
       "      <td>Keren wooooo</td>\n",
       "      <td>UgyNXurwGyCcwMc5NYN4AaABAg</td>\n",
       "      <td>2019-04-12 08:50:42</td>\n",
       "      <td>0</td>\n",
       "      <td>0</td>\n",
       "      <td>legitimate</td>\n",
       "      <td>keren</td>\n",
       "    </tr>\n",
       "    <tr>\n",
       "      <th>30</th>\n",
       "      <td>AP0NACavjfk</td>\n",
       "      <td>SkinnyIndonesian24 | Prabowo VS Jokowi - Epic ...</td>\n",
       "      <td>Doni Ramdan</td>\n",
       "      <td>Pas baca bacain koment saya liat dikit nya pop...</td>\n",
       "      <td>Ugyr3vG94H6yn2JPyDR4AaABAg</td>\n",
       "      <td>2019-04-09 13:13:13</td>\n",
       "      <td>5</td>\n",
       "      <td>1</td>\n",
       "      <td>legitimate</td>\n",
       "      <td>baca bacain komentar lihat dikit populasi cebo...</td>\n",
       "    </tr>\n",
       "    <tr>\n",
       "      <th>31</th>\n",
       "      <td>AP0NACavjfk</td>\n",
       "      <td>SkinnyIndonesian24 | Prabowo VS Jokowi - Epic ...</td>\n",
       "      <td>dimetrio abelardo</td>\n",
       "      <td>Masih bingung kok ga di tangkap</td>\n",
       "      <td>UgxJkbtcW_zZXA0ue-h4AaABAg</td>\n",
       "      <td>2021-12-07 18:17:49</td>\n",
       "      <td>0</td>\n",
       "      <td>2</td>\n",
       "      <td>legitimate</td>\n",
       "      <td>bingung tidak tangkap</td>\n",
       "    </tr>\n",
       "    <tr>\n",
       "      <th>32</th>\n",
       "      <td>AP0NACavjfk</td>\n",
       "      <td>SkinnyIndonesian24 | Prabowo VS Jokowi - Epic ...</td>\n",
       "      <td>Ilham Satria</td>\n",
       "      <td>The best content everrrrr.........</td>\n",
       "      <td>UgyGpmStmBr9KtDb_yh4AaABAg</td>\n",
       "      <td>2020-06-13 15:01:09</td>\n",
       "      <td>148</td>\n",
       "      <td>0</td>\n",
       "      <td>legitimate</td>\n",
       "      <td>terbaik konten pernah</td>\n",
       "    </tr>\n",
       "    <tr>\n",
       "      <th>33</th>\n",
       "      <td>AP0NACavjfk</td>\n",
       "      <td>SkinnyIndonesian24 | Prabowo VS Jokowi - Epic ...</td>\n",
       "      <td>M.saomi Dzikri</td>\n",
       "      <td>Gue nonton iklanya gak gue skip biar dapet ads...</td>\n",
       "      <td>UgyV-whidLcrwt92V9l4AaABAg</td>\n",
       "      <td>2019-04-11 02:58:28</td>\n",
       "      <td>6</td>\n",
       "      <td>0</td>\n",
       "      <td>legitimate</td>\n",
       "      <td>saya nonton iklanya gak saya lewati biar dapat...</td>\n",
       "    </tr>\n",
       "    <tr>\n",
       "      <th>34</th>\n",
       "      <td>AP0NACavjfk</td>\n",
       "      <td>SkinnyIndonesian24 | Prabowo VS Jokowi - Epic ...</td>\n",
       "      <td>yB PRODUCTION</td>\n",
       "      <td>Nice</td>\n",
       "      <td>UgwD0lmkAYFXJQqB-V14AaABAg</td>\n",
       "      <td>2019-04-10 03:55:12</td>\n",
       "      <td>0</td>\n",
       "      <td>0</td>\n",
       "      <td>legitimate</td>\n",
       "      <td>baik</td>\n",
       "    </tr>\n",
       "    <tr>\n",
       "      <th>35</th>\n",
       "      <td>AP0NACavjfk</td>\n",
       "      <td>SkinnyIndonesian24 | Prabowo VS Jokowi - Epic ...</td>\n",
       "      <td>Neng Dim</td>\n",
       "      <td>Mantap keren asli</td>\n",
       "      <td>UgyJMUYZpWkbeUf9pl14AaABAg</td>\n",
       "      <td>2019-04-09 08:28:25</td>\n",
       "      <td>0</td>\n",
       "      <td>0</td>\n",
       "      <td>legitimate</td>\n",
       "      <td>mantap keren asli</td>\n",
       "    </tr>\n",
       "    <tr>\n",
       "      <th>36</th>\n",
       "      <td>AP0NACavjfk</td>\n",
       "      <td>SkinnyIndonesian24 | Prabowo VS Jokowi - Epic ...</td>\n",
       "      <td>Gery Azrian</td>\n",
       "      <td>Tru min</td>\n",
       "      <td>Ugw_acFjqXDOAI4kKcB4AaABAg.9CMqsE1TCl99DJIJaaamDe</td>\n",
       "      <td>2020-09-07 15:31:36</td>\n",
       "      <td>0</td>\n",
       "      <td>0</td>\n",
       "      <td>legitimate</td>\n",
       "      <td></td>\n",
       "    </tr>\n",
       "    <tr>\n",
       "      <th>37</th>\n",
       "      <td>AP0NACavjfk</td>\n",
       "      <td>SkinnyIndonesian24 | Prabowo VS Jokowi - Epic ...</td>\n",
       "      <td>DullPerfectforbes -Youtube roblox gaming channel.</td>\n",
       "      <td>JOKOWI</td>\n",
       "      <td>UgzpGF70BVYDAQ0wA4R4AaABAg</td>\n",
       "      <td>2019-04-20 13:59:03</td>\n",
       "      <td>0</td>\n",
       "      <td>0</td>\n",
       "      <td>legitimate</td>\n",
       "      <td>jokowi</td>\n",
       "    </tr>\n",
       "    <tr>\n",
       "      <th>38</th>\n",
       "      <td>AP0NACavjfk</td>\n",
       "      <td>SkinnyIndonesian24 | Prabowo VS Jokowi - Epic ...</td>\n",
       "      <td>FASIYNA</td>\n",
       "      <td>Ada kah yang masih nonton?</td>\n",
       "      <td>Ugwmn0P-GpKZ6-vYr1t4AaABAg</td>\n",
       "      <td>2020-04-06 15:08:26</td>\n",
       "      <td>2</td>\n",
       "      <td>0</td>\n",
       "      <td>spam</td>\n",
       "      <td>nonton</td>\n",
       "    </tr>\n",
       "    <tr>\n",
       "      <th>39</th>\n",
       "      <td>AP0NACavjfk</td>\n",
       "      <td>SkinnyIndonesian24 | Prabowo VS Jokowi - Epic ...</td>\n",
       "      <td>Sun Yen Suhendro</td>\n",
       "      <td>WAJIB TRENDING !!!</td>\n",
       "      <td>UgxBgReTxbuv95ex7qx4AaABAg</td>\n",
       "      <td>2019-04-09 01:54:35</td>\n",
       "      <td>0</td>\n",
       "      <td>0</td>\n",
       "      <td>spam</td>\n",
       "      <td>wajib trending</td>\n",
       "    </tr>\n",
       "    <tr>\n",
       "      <th>40</th>\n",
       "      <td>AP0NACavjfk</td>\n",
       "      <td>SkinnyIndonesian24 | Prabowo VS Jokowi - Epic ...</td>\n",
       "      <td>Nothing here</td>\n",
       "      <td>2:25 mirip banget kek jokowi anjir wkwk, tapi ...</td>\n",
       "      <td>UgxFzjk-Kybn3lUuLNV4AaABAg</td>\n",
       "      <td>2019-04-09 16:23:35</td>\n",
       "      <td>0</td>\n",
       "      <td>0</td>\n",
       "      <td>legitimate</td>\n",
       "      <td>225 banget jokowi anjir tertawa gerak lebi zaman</td>\n",
       "    </tr>\n",
       "    <tr>\n",
       "      <th>41</th>\n",
       "      <td>AP0NACavjfk</td>\n",
       "      <td>SkinnyIndonesian24 | Prabowo VS Jokowi - Epic ...</td>\n",
       "      <td>A H</td>\n",
       "      <td>Salam dari 3001</td>\n",
       "      <td>Ugxb-2JpdiuilGvsoHJ4AaABAg.8tjR5mDTQz38uDeqjv8spe</td>\n",
       "      <td>2019-04-27 08:33:55</td>\n",
       "      <td>0</td>\n",
       "      <td>0</td>\n",
       "      <td>spam</td>\n",
       "      <td>salam 3001</td>\n",
       "    </tr>\n",
       "    <tr>\n",
       "      <th>42</th>\n",
       "      <td>AP0NACavjfk</td>\n",
       "      <td>SkinnyIndonesian24 | Prabowo VS Jokowi - Epic ...</td>\n",
       "      <td>Selia K</td>\n",
       "      <td>This too funny and truee</td>\n",
       "      <td>Ugwp_gABESq4otBSzF54AaABAg</td>\n",
       "      <td>2019-04-10 06:41:27</td>\n",
       "      <td>0</td>\n",
       "      <td>0</td>\n",
       "      <td>legitimate</td>\n",
       "      <td>lucu benar</td>\n",
       "    </tr>\n",
       "    <tr>\n",
       "      <th>43</th>\n",
       "      <td>AP0NACavjfk</td>\n",
       "      <td>SkinnyIndonesian24 | Prabowo VS Jokowi - Epic ...</td>\n",
       "      <td>Herson Trianto</td>\n",
       "      <td>Gk Capek cuy</td>\n",
       "      <td>Ugwa43KfFrATr1CFsep4AaABAg.8tr39UWflyf8ts8RXWNjaI</td>\n",
       "      <td>2019-04-18 14:38:41</td>\n",
       "      <td>0</td>\n",
       "      <td>0</td>\n",
       "      <td>legitimate</td>\n",
       "      <td>tidak capek</td>\n",
       "    </tr>\n",
       "    <tr>\n",
       "      <th>44</th>\n",
       "      <td>AP0NACavjfk</td>\n",
       "      <td>SkinnyIndonesian24 | Prabowo VS Jokowi - Epic ...</td>\n",
       "      <td>Wahyu Tri Utami</td>\n",
       "      <td>Gila ini keren banget. Ini baru youtubers. Seg...</td>\n",
       "      <td>Ugxg0d_nDYzlyuhmoaR4AaABAg</td>\n",
       "      <td>2019-04-14 17:09:22</td>\n",
       "      <td>0</td>\n",
       "      <td>0</td>\n",
       "      <td>legitimate</td>\n",
       "      <td>gila keren banget youtubers detiknya nilai dia...</td>\n",
       "    </tr>\n",
       "    <tr>\n",
       "      <th>45</th>\n",
       "      <td>AP0NACavjfk</td>\n",
       "      <td>SkinnyIndonesian24 | Prabowo VS Jokowi - Epic ...</td>\n",
       "      <td>Nadia Putri barata</td>\n",
       "      <td>Mantapp🔥❤</td>\n",
       "      <td>Ugw2DScgxI9I1dZNdSh4AaABAg</td>\n",
       "      <td>2019-04-09 07:05:18</td>\n",
       "      <td>1</td>\n",
       "      <td>0</td>\n",
       "      <td>legitimate</td>\n",
       "      <td>mantap</td>\n",
       "    </tr>\n",
       "    <tr>\n",
       "      <th>46</th>\n",
       "      <td>AP0NACavjfk</td>\n",
       "      <td>SkinnyIndonesian24 | Prabowo VS Jokowi - Epic ...</td>\n",
       "      <td>Angga Fa</td>\n",
       "      <td>Itu 1 nya tretan muslim bukan</td>\n",
       "      <td>UgwDhNpM6rt4EMiNNwF4AaABAg.8tVEroxT-e28tVJ8QV0kCl</td>\n",
       "      <td>2019-04-09 08:30:25</td>\n",
       "      <td>0</td>\n",
       "      <td>0</td>\n",
       "      <td>legitimate</td>\n",
       "      <td>1 tretan muslim bukan</td>\n",
       "    </tr>\n",
       "    <tr>\n",
       "      <th>47</th>\n",
       "      <td>AP0NACavjfk</td>\n",
       "      <td>SkinnyIndonesian24 | Prabowo VS Jokowi - Epic ...</td>\n",
       "      <td>LəL Nyt Yuniati</td>\n",
       "      <td>The real content creators!</td>\n",
       "      <td>UgzJPFWHc3ga5IrNaZF4AaABAg</td>\n",
       "      <td>2020-12-07 14:38:44</td>\n",
       "      <td>1</td>\n",
       "      <td>0</td>\n",
       "      <td>legitimate</td>\n",
       "      <td>asli konten pencipta</td>\n",
       "    </tr>\n",
       "    <tr>\n",
       "      <th>48</th>\n",
       "      <td>AP0NACavjfk</td>\n",
       "      <td>SkinnyIndonesian24 | Prabowo VS Jokowi - Epic ...</td>\n",
       "      <td>24. M.Wildan Arya A</td>\n",
       "      <td>Best part 4:30</td>\n",
       "      <td>UgyrSPepnBZURUGZl5t4AaABAg</td>\n",
       "      <td>2019-04-11 07:08:34</td>\n",
       "      <td>0</td>\n",
       "      <td>0</td>\n",
       "      <td>legitimate</td>\n",
       "      <td>terbaik 430</td>\n",
       "    </tr>\n",
       "    <tr>\n",
       "      <th>49</th>\n",
       "      <td>AP0NACavjfk</td>\n",
       "      <td>SkinnyIndonesian24 | Prabowo VS Jokowi - Epic ...</td>\n",
       "      <td>annisa dwinda shafira</td>\n",
       "      <td>ASLIIIIIIIIIIIIIII PECTAH BENERRR!!</td>\n",
       "      <td>UgzHuA5uXyUCvI9Rk9d4AaABAg</td>\n",
       "      <td>2019-04-08 19:36:59</td>\n",
       "      <td>0</td>\n",
       "      <td>0</td>\n",
       "      <td>legitimate</td>\n",
       "      <td>asli pecah benerrr</td>\n",
       "    </tr>\n",
       "  </tbody>\n",
       "</table>\n",
       "</div>"
      ],
      "text/plain": [
       "       Video_Id                                             Tittle  \\\n",
       "0   AP0NACavjfk  SkinnyIndonesian24 | Prabowo VS Jokowi - Epic ...   \n",
       "1   AP0NACavjfk  SkinnyIndonesian24 | Prabowo VS Jokowi - Epic ...   \n",
       "2   AP0NACavjfk  SkinnyIndonesian24 | Prabowo VS Jokowi - Epic ...   \n",
       "3   AP0NACavjfk  SkinnyIndonesian24 | Prabowo VS Jokowi - Epic ...   \n",
       "4   AP0NACavjfk  SkinnyIndonesian24 | Prabowo VS Jokowi - Epic ...   \n",
       "5   0iLgiRBQzzs  Panas! Jokowi VS Prabowo Saling Serang soal Ko...   \n",
       "6   AP0NACavjfk  SkinnyIndonesian24 | Prabowo VS Jokowi - Epic ...   \n",
       "7   AP0NACavjfk  SkinnyIndonesian24 | Prabowo VS Jokowi - Epic ...   \n",
       "8   AP0NACavjfk  SkinnyIndonesian24 | Prabowo VS Jokowi - Epic ...   \n",
       "9   AP0NACavjfk  SkinnyIndonesian24 | Prabowo VS Jokowi - Epic ...   \n",
       "10  AP0NACavjfk  SkinnyIndonesian24 | Prabowo VS Jokowi - Epic ...   \n",
       "11  AP0NACavjfk  SkinnyIndonesian24 | Prabowo VS Jokowi - Epic ...   \n",
       "12  AP0NACavjfk  SkinnyIndonesian24 | Prabowo VS Jokowi - Epic ...   \n",
       "13  AP0NACavjfk  SkinnyIndonesian24 | Prabowo VS Jokowi - Epic ...   \n",
       "14  AP0NACavjfk  SkinnyIndonesian24 | Prabowo VS Jokowi - Epic ...   \n",
       "15  AP0NACavjfk  SkinnyIndonesian24 | Prabowo VS Jokowi - Epic ...   \n",
       "16  AP0NACavjfk  SkinnyIndonesian24 | Prabowo VS Jokowi - Epic ...   \n",
       "17  AP0NACavjfk  SkinnyIndonesian24 | Prabowo VS Jokowi - Epic ...   \n",
       "18  AP0NACavjfk  SkinnyIndonesian24 | Prabowo VS Jokowi - Epic ...   \n",
       "19  AP0NACavjfk  SkinnyIndonesian24 | Prabowo VS Jokowi - Epic ...   \n",
       "20  AP0NACavjfk  SkinnyIndonesian24 | Prabowo VS Jokowi - Epic ...   \n",
       "21  AP0NACavjfk  SkinnyIndonesian24 | Prabowo VS Jokowi - Epic ...   \n",
       "22  AP0NACavjfk  SkinnyIndonesian24 | Prabowo VS Jokowi - Epic ...   \n",
       "23  AP0NACavjfk  SkinnyIndonesian24 | Prabowo VS Jokowi - Epic ...   \n",
       "24  AP0NACavjfk  SkinnyIndonesian24 | Prabowo VS Jokowi - Epic ...   \n",
       "25  0iLgiRBQzzs  Panas! Jokowi VS Prabowo Saling Serang soal Ko...   \n",
       "26  AP0NACavjfk  SkinnyIndonesian24 | Prabowo VS Jokowi - Epic ...   \n",
       "27  AP0NACavjfk  SkinnyIndonesian24 | Prabowo VS Jokowi - Epic ...   \n",
       "28  AP0NACavjfk  SkinnyIndonesian24 | Prabowo VS Jokowi - Epic ...   \n",
       "29  AP0NACavjfk  SkinnyIndonesian24 | Prabowo VS Jokowi - Epic ...   \n",
       "30  AP0NACavjfk  SkinnyIndonesian24 | Prabowo VS Jokowi - Epic ...   \n",
       "31  AP0NACavjfk  SkinnyIndonesian24 | Prabowo VS Jokowi - Epic ...   \n",
       "32  AP0NACavjfk  SkinnyIndonesian24 | Prabowo VS Jokowi - Epic ...   \n",
       "33  AP0NACavjfk  SkinnyIndonesian24 | Prabowo VS Jokowi - Epic ...   \n",
       "34  AP0NACavjfk  SkinnyIndonesian24 | Prabowo VS Jokowi - Epic ...   \n",
       "35  AP0NACavjfk  SkinnyIndonesian24 | Prabowo VS Jokowi - Epic ...   \n",
       "36  AP0NACavjfk  SkinnyIndonesian24 | Prabowo VS Jokowi - Epic ...   \n",
       "37  AP0NACavjfk  SkinnyIndonesian24 | Prabowo VS Jokowi - Epic ...   \n",
       "38  AP0NACavjfk  SkinnyIndonesian24 | Prabowo VS Jokowi - Epic ...   \n",
       "39  AP0NACavjfk  SkinnyIndonesian24 | Prabowo VS Jokowi - Epic ...   \n",
       "40  AP0NACavjfk  SkinnyIndonesian24 | Prabowo VS Jokowi - Epic ...   \n",
       "41  AP0NACavjfk  SkinnyIndonesian24 | Prabowo VS Jokowi - Epic ...   \n",
       "42  AP0NACavjfk  SkinnyIndonesian24 | Prabowo VS Jokowi - Epic ...   \n",
       "43  AP0NACavjfk  SkinnyIndonesian24 | Prabowo VS Jokowi - Epic ...   \n",
       "44  AP0NACavjfk  SkinnyIndonesian24 | Prabowo VS Jokowi - Epic ...   \n",
       "45  AP0NACavjfk  SkinnyIndonesian24 | Prabowo VS Jokowi - Epic ...   \n",
       "46  AP0NACavjfk  SkinnyIndonesian24 | Prabowo VS Jokowi - Epic ...   \n",
       "47  AP0NACavjfk  SkinnyIndonesian24 | Prabowo VS Jokowi - Epic ...   \n",
       "48  AP0NACavjfk  SkinnyIndonesian24 | Prabowo VS Jokowi - Epic ...   \n",
       "49  AP0NACavjfk  SkinnyIndonesian24 | Prabowo VS Jokowi - Epic ...   \n",
       "\n",
       "                                                 Name  \\\n",
       "0                                          Banda vlog   \n",
       "1                              kharisma setya kencana   \n",
       "2                                        「GratioKunz」   \n",
       "3                                     Trestrantara WZ   \n",
       "4                                      Heri Kurniawan   \n",
       "5                            Doharman Patimura Waruwu   \n",
       "6                                           666ranger   \n",
       "7                              Rizaldo Rizky Ramadhan   \n",
       "8                                       Ganis Fathoni   \n",
       "9                                           BotaksMan   \n",
       "10                                  Merdeka Selamanya   \n",
       "11                                        Ine Suwanda   \n",
       "12                                          Maz Malik   \n",
       "13                                Fadillah Dwi Rahayu   \n",
       "14                              silvia hermala sagala   \n",
       "15                                    zhenfang Vijaya   \n",
       "16                                            AMINNOR   \n",
       "17                                             Soak05   \n",
       "18                                      Sapril Wijaya   \n",
       "19                                Dwi Prasetya Ananta   \n",
       "20                                       Najwa Almira   \n",
       "21                                       Sandy Birawa   \n",
       "22                                          Papa Soni   \n",
       "23                                Mirah Wahyu Ningsih   \n",
       "24                                        Denis Prima   \n",
       "25                                       Riska Amalia   \n",
       "26                                 Wahyuni Budiastuti   \n",
       "27                                              N1ckX   \n",
       "28                               Marino Fahtur Rahman   \n",
       "29                                      Ajeng Fajrina   \n",
       "30                                        Doni Ramdan   \n",
       "31                                  dimetrio abelardo   \n",
       "32                                       Ilham Satria   \n",
       "33                                     M.saomi Dzikri   \n",
       "34                                      yB PRODUCTION   \n",
       "35                                           Neng Dim   \n",
       "36                                        Gery Azrian   \n",
       "37  DullPerfectforbes -Youtube roblox gaming channel.   \n",
       "38                                            FASIYNA   \n",
       "39                                   Sun Yen Suhendro   \n",
       "40                                       Nothing here   \n",
       "41                                                A H   \n",
       "42                                            Selia K   \n",
       "43                                     Herson Trianto   \n",
       "44                                    Wahyu Tri Utami   \n",
       "45                                 Nadia Putri barata   \n",
       "46                                           Angga Fa   \n",
       "47                                    LəL Nyt Yuniati   \n",
       "48                                24. M.Wildan Arya A   \n",
       "49                              annisa dwinda shafira   \n",
       "\n",
       "                                              Comment  \\\n",
       "0                 Apa salah mobale lejen pak soekarno   \n",
       "1                                              👆👆👆👆👆👆   \n",
       "2                                  Dan golput itu apa   \n",
       "3                                             Keren!!   \n",
       "4              Pilih siapa presiden aku Prabowo-Sandi   \n",
       "5                        https://youtu.be/LBKGyxnpMCU   \n",
       "6                              Gw ikuttt koment lohhh   \n",
       "7       Bagus sih. Meskipun tiru tiru Epic Rap Battle   \n",
       "8   Gw pendukung Prabowo, tp gw tersinggungnya pas...   \n",
       "9                         Ada yang dari tahun 2025?🗿🔥   \n",
       "10                                          Menghibur   \n",
       "11  wahh ak dah 3 kali nonton ada yang lebihin aku gx   \n",
       "12       Njir gue baru sadar kalo  gua nonton 15 kali   \n",
       "13  Gw kurang srek deh di menit 1:13 disitu ada be...   \n",
       "14                          BAGUSSS BANGETTT kerennnn   \n",
       "15                   Aku gak suka karena ini untuk ku   \n",
       "16                                             Mantul   \n",
       "17  Ahhaahaha mantap ada kaum kita hiyaa hiyaa hii...   \n",
       "18  HAhahahahah mari trandingkan\\nGeser ki pop pok...   \n",
       "19                             Salut. Jangan Golput !   \n",
       "20                                        1:52 shiap🤣   \n",
       "21                                                 Gw   \n",
       "22  SAYA 7 TAHUN DALAM YOUTUBE UNTUK SKINNYINDONES...   \n",
       "23                                KEREN BANGET BANG💚💚   \n",
       "24                                Nurhadi Aldo mana ?   \n",
       "25  Ngak tahu kah kabarnya papua juga merasa diboh...   \n",
       "26  Masih pegang posisi trendingg brayy⚡\\nThe best...   \n",
       "27                        gk nyangka udh 2 tahun lalu   \n",
       "28                                          Mantapppp   \n",
       "29                                       Keren wooooo   \n",
       "30  Pas baca bacain koment saya liat dikit nya pop...   \n",
       "31                    Masih bingung kok ga di tangkap   \n",
       "32                 The best content everrrrr.........   \n",
       "33  Gue nonton iklanya gak gue skip biar dapet ads...   \n",
       "34                                               Nice   \n",
       "35                                  Mantap keren asli   \n",
       "36                                            Tru min   \n",
       "37                                             JOKOWI   \n",
       "38                         Ada kah yang masih nonton?   \n",
       "39                                 WAJIB TRENDING !!!   \n",
       "40  2:25 mirip banget kek jokowi anjir wkwk, tapi ...   \n",
       "41                                    Salam dari 3001   \n",
       "42                           This too funny and truee   \n",
       "43                                       Gk Capek cuy   \n",
       "44  Gila ini keren banget. Ini baru youtubers. Seg...   \n",
       "45                                          Mantapp🔥❤   \n",
       "46                      Itu 1 nya tretan muslim bukan   \n",
       "47                         The real content creators!   \n",
       "48                                     Best part 4:30   \n",
       "49                ASLIIIIIIIIIIIIIII PECTAH BENERRR!!   \n",
       "\n",
       "                                           Comment_Id                Time  \\\n",
       "0                          UgwmjTHzY2zMOXBg9F94AaABAg 2019-04-11 11:27:47   \n",
       "1                          UgzbICRmksoeoGVFCzd4AaABAg 2019-04-09 04:08:18   \n",
       "2                          UgxROKiw4EX5LyaG0lx4AaABAg 2019-04-18 08:57:13   \n",
       "3                          UgymN9o3cZFXVPLKcjZ4AaABAg 2019-04-08 16:42:13   \n",
       "4                          Ugw9J8lP4lOg0t5yX0l4AaABAg 2019-04-18 00:45:06   \n",
       "5                          Ugz-zdD0s87dSDzITuh4AaABAg 2019-01-17 23:06:24   \n",
       "6                          UgwKlaNqj0fQUpQ3Neh4AaABAg 2019-04-09 11:42:22   \n",
       "7                          UgzulMMMFleZEE1lAO54AaABAg 2019-04-15 05:00:02   \n",
       "8                          UgxF1r9yMnMxyFDa4HJ4AaABAg 2019-04-09 07:28:57   \n",
       "9                          Ugx_s948xKTK9LlXF5F4AaABAg 2021-01-18 14:38:50   \n",
       "10                         Ugxi1ucujacIS_zlagF4AaABAg 2020-05-18 08:19:30   \n",
       "11                         Ugy2Cd4UGsInW9f3R9p4AaABAg 2019-04-13 00:43:06   \n",
       "12                         UgzSAC1H6Lr2obDDXD94AaABAg 2019-06-01 23:39:33   \n",
       "13                         Ugw627P2XwTIxk6TEt14AaABAg 2019-04-10 02:58:56   \n",
       "14                         UgyFaC6PAcejTuvO7Sd4AaABAg 2019-04-17 04:08:17   \n",
       "15                         UgxdlUsKvMTuXzdIHXh4AaABAg 2020-12-04 13:31:40   \n",
       "16                         Ugyuq0L_JAuedyIgx0d4AaABAg 2019-04-09 09:42:00   \n",
       "17                         Ugxa6xMh8Ybe5KeSXL54AaABAg 2019-04-08 15:38:29   \n",
       "18  UgzyLB5DdDggBu_j2EN4AaABAg.8tVQZ5x5BgD8tVUXAzJSAE 2019-04-09 10:09:55   \n",
       "19                         UgznnkabhmEhWntvVdx4AaABAg 2019-04-12 04:45:22   \n",
       "20                         Ugxfeeg-W02VFGXhykd4AaABAg 2019-04-08 16:26:22   \n",
       "21  UgwYuFOGfDLQd9crDHl4AaABAg.8u_QztScP328v6HQivjtli 2019-05-19 08:17:13   \n",
       "22                         Ugz8oLZen10iG_JRqgt4AaABAg 2019-04-13 03:37:30   \n",
       "23                         UgycwXu9LdjrzrlZTNN4AaABAg 2019-04-09 00:30:55   \n",
       "24                         UgxYxZ6Mo35itVslNdp4AaABAg 2019-04-09 06:41:00   \n",
       "25  UgzStrrzMVkeANhiC414AaABAg.8qD2VVBYdUu8qWQTAlgely 2019-01-25 05:19:29   \n",
       "26                         UgwZ_g9CFfLJLuytHeV4AaABAg 2019-04-18 16:28:46   \n",
       "27                         UgxlKHcZGmoQDQcCw2l4AaABAg 2022-03-26 14:00:55   \n",
       "28                         UgxkA2EgPkDtn-mio-h4AaABAg 2019-04-09 07:31:46   \n",
       "29                         UgyNXurwGyCcwMc5NYN4AaABAg 2019-04-12 08:50:42   \n",
       "30                         Ugyr3vG94H6yn2JPyDR4AaABAg 2019-04-09 13:13:13   \n",
       "31                         UgxJkbtcW_zZXA0ue-h4AaABAg 2021-12-07 18:17:49   \n",
       "32                         UgyGpmStmBr9KtDb_yh4AaABAg 2020-06-13 15:01:09   \n",
       "33                         UgyV-whidLcrwt92V9l4AaABAg 2019-04-11 02:58:28   \n",
       "34                         UgwD0lmkAYFXJQqB-V14AaABAg 2019-04-10 03:55:12   \n",
       "35                         UgyJMUYZpWkbeUf9pl14AaABAg 2019-04-09 08:28:25   \n",
       "36  Ugw_acFjqXDOAI4kKcB4AaABAg.9CMqsE1TCl99DJIJaaamDe 2020-09-07 15:31:36   \n",
       "37                         UgzpGF70BVYDAQ0wA4R4AaABAg 2019-04-20 13:59:03   \n",
       "38                         Ugwmn0P-GpKZ6-vYr1t4AaABAg 2020-04-06 15:08:26   \n",
       "39                         UgxBgReTxbuv95ex7qx4AaABAg 2019-04-09 01:54:35   \n",
       "40                         UgxFzjk-Kybn3lUuLNV4AaABAg 2019-04-09 16:23:35   \n",
       "41  Ugxb-2JpdiuilGvsoHJ4AaABAg.8tjR5mDTQz38uDeqjv8spe 2019-04-27 08:33:55   \n",
       "42                         Ugwp_gABESq4otBSzF54AaABAg 2019-04-10 06:41:27   \n",
       "43  Ugwa43KfFrATr1CFsep4AaABAg.8tr39UWflyf8ts8RXWNjaI 2019-04-18 14:38:41   \n",
       "44                         Ugxg0d_nDYzlyuhmoaR4AaABAg 2019-04-14 17:09:22   \n",
       "45                         Ugw2DScgxI9I1dZNdSh4AaABAg 2019-04-09 07:05:18   \n",
       "46  UgwDhNpM6rt4EMiNNwF4AaABAg.8tVEroxT-e28tVJ8QV0kCl 2019-04-09 08:30:25   \n",
       "47                         UgzJPFWHc3ga5IrNaZF4AaABAg 2020-12-07 14:38:44   \n",
       "48                         UgyrSPepnBZURUGZl5t4AaABAg 2019-04-11 07:08:34   \n",
       "49                         UgzHuA5uXyUCvI9Rk9d4AaABAg 2019-04-08 19:36:59   \n",
       "\n",
       "    Likes  Reply_Count       Label  \\\n",
       "0       0            0        spam   \n",
       "1       0            0  legitimate   \n",
       "2       0            0  legitimate   \n",
       "3       0            0  legitimate   \n",
       "4       1            0  legitimate   \n",
       "5       0            0        spam   \n",
       "6       0            0        spam   \n",
       "7       0            0  legitimate   \n",
       "8       0            0  legitimate   \n",
       "9       1            0        spam   \n",
       "10      0            0  legitimate   \n",
       "11      0            0        spam   \n",
       "12     89            8        spam   \n",
       "13      0            0  legitimate   \n",
       "14      0            0  legitimate   \n",
       "15      0            0  legitimate   \n",
       "16      0            0  legitimate   \n",
       "17      0            0  legitimate   \n",
       "18      0            0        spam   \n",
       "19      0            0  legitimate   \n",
       "20      0            0  legitimate   \n",
       "21      0            0        spam   \n",
       "22      1            0  legitimate   \n",
       "23      0            0  legitimate   \n",
       "24      0            0        spam   \n",
       "25      0            0  legitimate   \n",
       "26      0            0  legitimate   \n",
       "27      1            0  legitimate   \n",
       "28      0            0  legitimate   \n",
       "29      0            0  legitimate   \n",
       "30      5            1  legitimate   \n",
       "31      0            2  legitimate   \n",
       "32    148            0  legitimate   \n",
       "33      6            0  legitimate   \n",
       "34      0            0  legitimate   \n",
       "35      0            0  legitimate   \n",
       "36      0            0  legitimate   \n",
       "37      0            0  legitimate   \n",
       "38      2            0        spam   \n",
       "39      0            0        spam   \n",
       "40      0            0  legitimate   \n",
       "41      0            0        spam   \n",
       "42      0            0  legitimate   \n",
       "43      0            0  legitimate   \n",
       "44      0            0  legitimate   \n",
       "45      1            0  legitimate   \n",
       "46      0            0  legitimate   \n",
       "47      1            0  legitimate   \n",
       "48      0            0  legitimate   \n",
       "49      0            0  legitimate   \n",
       "\n",
       "                                              cleaned  \n",
       "0                        salah mobile legend soekarno  \n",
       "1                                                      \n",
       "2                                              golput  \n",
       "3                                               keren  \n",
       "4                    pilih presiden aku prabowo sandi  \n",
       "5                                                 url  \n",
       "6                                  saya ikut komentar  \n",
       "7             bagus sih meniru meniru epik rap battle  \n",
       "8   saya pendukung prabowo saya tersinggungnya men...  \n",
       "9                                          tahun 2025  \n",
       "10                                          menghibur  \n",
       "11                  aku 3 kali nonton lebih aku tidak  \n",
       "12                     saya sadar saya nonton 15 kali  \n",
       "13  saya cocok menit 113 disitu bendera indonesia ...  \n",
       "14                                 bagus banget keren  \n",
       "15                                   aku gak suka aku  \n",
       "16                                       mantap betul  \n",
       "17                                        mantap kaum  \n",
       "18                      trandingkan geser pop pok pop  \n",
       "19                               bangga jangan golput  \n",
       "20                                           152 siap  \n",
       "21                                               saya  \n",
       "22                7 tahun youtube skinnyindonesisan24  \n",
       "23                                       keren banget  \n",
       "24                                       nurhadi aldo  \n",
       "25  tidak kabarnya papua dibohongin bbm tunggu tan...  \n",
       "26       pegang posisi trendingg brayy terbaik skinny  \n",
       "27                              tidak nyangka 2 tahun  \n",
       "28                                             mantap  \n",
       "29                                              keren  \n",
       "30  baca bacain komentar lihat dikit populasi cebo...  \n",
       "31                              bingung tidak tangkap  \n",
       "32                              terbaik konten pernah  \n",
       "33  saya nonton iklanya gak saya lewati biar dapat...  \n",
       "34                                               baik  \n",
       "35                                  mantap keren asli  \n",
       "36                                                     \n",
       "37                                             jokowi  \n",
       "38                                             nonton  \n",
       "39                                     wajib trending  \n",
       "40   225 banget jokowi anjir tertawa gerak lebi zaman  \n",
       "41                                         salam 3001  \n",
       "42                                         lucu benar  \n",
       "43                                        tidak capek  \n",
       "44  gila keren banget youtubers detiknya nilai dia...  \n",
       "45                                             mantap  \n",
       "46                              1 tretan muslim bukan  \n",
       "47                               asli konten pencipta  \n",
       "48                                        terbaik 430  \n",
       "49                                 asli pecah benerrr  "
      ]
     },
     "execution_count": 57,
     "metadata": {},
     "output_type": "execute_result"
    }
   ],
   "source": [
    "try_data_cleaning.head(50)"
   ]
  },
  {
   "cell_type": "code",
   "execution_count": 61,
   "metadata": {},
   "outputs": [],
   "source": [
    "#convert text into lower case\n",
    "#def convert_to_lower(text):\n",
    "#    return text.lower()\n",
    "\n",
    "#remove_numbers on text\n",
    "#def remove_numbers(text):\n",
    "#    number_pattern = r'\\d+'\n",
    "#    without_number = re.sub(pattern=number_pattern, repl=\" \", string=text)\n",
    "#    return without_number\n",
    "\n",
    "#def remove_punctuation(text):\n",
    "#    return text.translate(str.maketrans('', '', string.punctuation))\n",
    "\n",
    "#Komentar spam cenderung memiliki jumlah spasi yang banyak \n",
    "#sehingga komentar tersebut memberikan dampak yang jauh lebih besar \n",
    "#bagi pengguna yang membacanya\n",
    "\n",
    "#def remove_extra_white_spaces(text):\n",
    "#    single_char_pattern = re.compile(r'\\s+')\n",
    "#    without_sc = re.sub(pattern=single_char_pattern, repl=' ', string=text)\n",
    "#    return without_sc\n",
    "\n",
    "#def remove_stopwords(text):\n",
    "#    nlp = spacy.blank(\"id\")\n",
    "#    removed = []\n",
    "#    stop_words = list(STOP_WORDS)\n",
    "#    Teks = nlp(text)\n",
    "#    #tokens = token.text(Teks)\n",
    "#    for i in range(len(Teks)):\n",
    "#        if Teks [i] not in stop_words:\n",
    "#            removed.append(Teks[i])\n",
    "#    return \" \".join(removed)\n"
   ]
  },
  {
   "cell_type": "markdown",
   "metadata": {},
   "source": [
    "## Feature Extraction"
   ]
  },
  {
   "cell_type": "code",
   "execution_count": 83,
   "metadata": {},
   "outputs": [],
   "source": [
    "def url_ratio(text):\n",
    "    pattern =(r\"\"\"(?i)\\b((?:https?:(?:/{1,3}|[a-z0-9%])|[a-z0-9.\\-]+[.](?:com|net|org|edu|gov|mil|aero|asia|biz|cat|coop|info|int|jobs|mobi|museum|name|post|pro|tel|travel|xxx|ac|ad|ae|af|ag|ai|al|am|an|ao|aq|ar|as|at|au|aw|ax|az|ba|bb|bd|be|bf|bg|bh|bi|bj|bm|bn|bo|br|bs|bt|bv|bw|by|bz|ca|cc|cd|cf|cg|ch|ci|ck|cl|cm|cn|co|cr|cs|cu|cv|cx|cy|cz|dd|de|dj|dk|dm|do|dz|ec|ee|eg|eh|er|es|et|eu|fi|fj|fk|fm|fo|fr|ga|gb|gd|ge|gf|gg|gh|gi|gl|gm|gn|gp|gq|gr|gs|gt|gu|gw|gy|hk|hm|hn|hr|ht|hu|id|ie|il|im|in|io|iq|ir|is|it|je|jm|jo|jp|ke|kg|kh|ki|km|kn|kp|kr|kw|ky|kz|la|lb|lc|li|lk|lr|ls|lt|lu|lv|ly|ma|mc|md|me|mg|mh|mk|ml|mm|mn|mo|mp|mq|mr|ms|mt|mu|mv|mw|mx|my|mz|na|nc|ne|nf|ng|ni|nl|no|np|nr|nu|nz|om|pa|pe|pf|pg|ph|pk|pl|pm|pn|pr|ps|pt|pw|py|qa|re|ro|rs|ru|rw|sa|sb|sc|sd|se|sg|sh|si|sj|Ja|sk|sl|sm|sn|so|sr|ss|st|su|sv|sx|sy|sz|tc|td|tf|tg|th|tj|tk|tl|tm|tn|to|tp|tr|tt|tv|tw|tz|ua|ug|uk|us|uy|uz|va|vc|ve|vg|vi|vn|vu|wf|ws|ye|yt|yu|za|zm|zw)/)(?:[^\\s()<>{}\\[\\]]+|\\([^\\s()]*?\\([^\\s()]+\\)[^\\s()]*?\\)|\\([^\\s]+?\\))+(?:\\([^\\s()]*?\\([^\\s()]+\\)[^\\s()]*?\\)|\\([^\\s]+?\\)|[^\\s`!()\\[\\]{};:'\".,<>?«»“”‘’])|(?:(?<!@)[a-z0-9]+(?:[.\\-][a-z0-9]+)*[.](?:com|net|org|edu|gov|mil|aero|asia|biz|cat|coop|info|int|jobs|mobi|museum|name|post|pro|tel|travel|xxx|ac|ad|ae|af|ag|ai|al|am|an|ao|aq|ar|as|at|au|aw|ax|az|ba|bb|bd|be|bf|bg|bh|bi|bj|bm|bn|bo|br|bs|bt|bv|bw|by|bz|ca|cc|cd|cf|cg|ch|ci|ck|cl|cm|cn|co|cr|cs|cu|cv|cx|cy|cz|dd|de|dj|dk|dm|do|dz|ec|ee|eg|eh|er|es|et|eu|fi|fj|fk|fm|fo|fr|ga|gb|gd|ge|gf|gg|gh|gi|gl|gm|gn|gp|gq|gr|gs|gt|gu|gw|gy|hk|hm|hn|hr|ht|hu|id|ie|il|im|in|io|iq|ir|is|it|je|jm|jo|jp|ke|kg|kh|ki|km|kn|kp|kr|kw|ky|kz|la|lb|lc|li|lk|lr|ls|lt|lu|lv|ly|ma|mc|md|me|mg|mh|mk|ml|mm|mn|mo|mp|mq|mr|ms|mt|mu|mv|mw|mx|my|mz|na|nc|ne|nf|ng|ni|nl|no|np|nr|nu|nz|om|pa|pe|pf|pg|ph|pk|pl|pm|pn|pr|ps|pt|pw|py|qa|re|ro|rs|ru|rw|sa|sb|sc|sd|se|sg|sh|si|sj|Ja|sk|sl|sm|sn|so|sr|ss|st|su|sv|sx|sy|sz|tc|td|tf|tg|th|tj|tk|tl|tm|tn|to|tp|tr|tt|tv|tw|tz|ua|ug|uk|us|uy|uz|va|vc|ve|vg|vi|vn|vu|wf|ws|ye|yt|yu|za|zm|zw)\\b/?(?!@)))\"\"\")\n",
    "    #urls = re.findall(\"http[s]?://(?:[a-zA-Z]|[0-9]|[$-_@.&+]|[!*\\(\\),]|(?:%[0-9a-fA-F][0-9a-fA-F]))+\", text)\n",
    "    urls = re.findall(pattern=pattern, string=text)\n",
    "    url_char = 0\n",
    "    for url in urls:\n",
    "        url_char += len(url)\n",
    "    return url_char/len(text)\n",
    "\n",
    "def count_url(text):\n",
    "    pattern =(r\"\"\"(?i)\\b((?:https?:(?:/{1,3}|[a-z0-9%])|[a-z0-9.\\-]+[.](?:com|net|org|edu|gov|mil|aero|asia|biz|cat|coop|info|int|jobs|mobi|museum|name|post|pro|tel|travel|xxx|ac|ad|ae|af|ag|ai|al|am|an|ao|aq|ar|as|at|au|aw|ax|az|ba|bb|bd|be|bf|bg|bh|bi|bj|bm|bn|bo|br|bs|bt|bv|bw|by|bz|ca|cc|cd|cf|cg|ch|ci|ck|cl|cm|cn|co|cr|cs|cu|cv|cx|cy|cz|dd|de|dj|dk|dm|do|dz|ec|ee|eg|eh|er|es|et|eu|fi|fj|fk|fm|fo|fr|ga|gb|gd|ge|gf|gg|gh|gi|gl|gm|gn|gp|gq|gr|gs|gt|gu|gw|gy|hk|hm|hn|hr|ht|hu|id|ie|il|im|in|io|iq|ir|is|it|je|jm|jo|jp|ke|kg|kh|ki|km|kn|kp|kr|kw|ky|kz|la|lb|lc|li|lk|lr|ls|lt|lu|lv|ly|ma|mc|md|me|mg|mh|mk|ml|mm|mn|mo|mp|mq|mr|ms|mt|mu|mv|mw|mx|my|mz|na|nc|ne|nf|ng|ni|nl|no|np|nr|nu|nz|om|pa|pe|pf|pg|ph|pk|pl|pm|pn|pr|ps|pt|pw|py|qa|re|ro|rs|ru|rw|sa|sb|sc|sd|se|sg|sh|si|sj|Ja|sk|sl|sm|sn|so|sr|ss|st|su|sv|sx|sy|sz|tc|td|tf|tg|th|tj|tk|tl|tm|tn|to|tp|tr|tt|tv|tw|tz|ua|ug|uk|us|uy|uz|va|vc|ve|vg|vi|vn|vu|wf|ws|ye|yt|yu|za|zm|zw)/)(?:[^\\s()<>{}\\[\\]]+|\\([^\\s()]*?\\([^\\s()]+\\)[^\\s()]*?\\)|\\([^\\s]+?\\))+(?:\\([^\\s()]*?\\([^\\s()]+\\)[^\\s()]*?\\)|\\([^\\s]+?\\)|[^\\s`!()\\[\\]{};:'\".,<>?«»“”‘’])|(?:(?<!@)[a-z0-9]+(?:[.\\-][a-z0-9]+)*[.](?:com|net|org|edu|gov|mil|aero|asia|biz|cat|coop|info|int|jobs|mobi|museum|name|post|pro|tel|travel|xxx|ac|ad|ae|af|ag|ai|al|am|an|ao|aq|ar|as|at|au|aw|ax|az|ba|bb|bd|be|bf|bg|bh|bi|bj|bm|bn|bo|br|bs|bt|bv|bw|by|bz|ca|cc|cd|cf|cg|ch|ci|ck|cl|cm|cn|co|cr|cs|cu|cv|cx|cy|cz|dd|de|dj|dk|dm|do|dz|ec|ee|eg|eh|er|es|et|eu|fi|fj|fk|fm|fo|fr|ga|gb|gd|ge|gf|gg|gh|gi|gl|gm|gn|gp|gq|gr|gs|gt|gu|gw|gy|hk|hm|hn|hr|ht|hu|id|ie|il|im|in|io|iq|ir|is|it|je|jm|jo|jp|ke|kg|kh|ki|km|kn|kp|kr|kw|ky|kz|la|lb|lc|li|lk|lr|ls|lt|lu|lv|ly|ma|mc|md|me|mg|mh|mk|ml|mm|mn|mo|mp|mq|mr|ms|mt|mu|mv|mw|mx|my|mz|na|nc|ne|nf|ng|ni|nl|no|np|nr|nu|nz|om|pa|pe|pf|pg|ph|pk|pl|pm|pn|pr|ps|pt|pw|py|qa|re|ro|rs|ru|rw|sa|sb|sc|sd|se|sg|sh|si|sj|Ja|sk|sl|sm|sn|so|sr|ss|st|su|sv|sx|sy|sz|tc|td|tf|tg|th|tj|tk|tl|tm|tn|to|tp|tr|tt|tv|tw|tz|ua|ug|uk|us|uy|uz|va|vc|ve|vg|vi|vn|vu|wf|ws|ye|yt|yu|za|zm|zw)\\b/?(?!@)))\"\"\")\n",
    "    #urls = re.findall(\"http[s]?://(?:[a-zA-Z]|[0-9]|[$-_@.&+]|[!*\\(\\),]|(?:%[0-9a-fA-F][0-9a-fA-F]))+\", text)\n",
    "    urls = re.findall(pattern=pattern, string=text)\n",
    "    return len(urls)\n",
    "\n",
    "def count_extra_white_spaces(text):\n",
    "    single_char_pattern = r'\\s+'\n",
    "    without_sc = re.findall(pattern=single_char_pattern, string=text)\n",
    "    return len(without_sc)\n",
    "\n",
    "def word_duplicate_ratio(text):\n",
    "    try:\n",
    "        unique_words = set()\n",
    "        for d in text.split():\n",
    "\t        unique_words.add(d)\n",
    "        td =[len(d) for d in unique_words]\n",
    "        return len(unique_words)/sum(td)\n",
    "    except:\n",
    "        if sum(td) == 0:\n",
    "            return(\" \")\n",
    "\n",
    "#def stopwords_ratio()"
   ]
  },
  {
   "cell_type": "code",
   "execution_count": 80,
   "metadata": {},
   "outputs": [],
   "source": [
    "try_data_cleaning['cleaned_title'] = try_data_cleaning['Tittle'].apply(lambda x: clean_punct(x))"
   ]
  },
  {
   "cell_type": "code",
   "execution_count": 84,
   "metadata": {},
   "outputs": [],
   "source": [
    "try_data_cleaning['Url_Ratio'] = try_data_cleaning['Comment'].apply(lambda x: url_ratio(x))\n",
    "try_data_cleaning['Number_White_Space'] = try_data_cleaning['cleaned'].apply(lambda x: count_extra_white_spaces(x))\n",
    "try_data_cleaning['World_Duplicate_Ratio'] = try_data_cleaning['cleaned'].apply(lambda x: word_duplicate_ratio(x))"
   ]
  },
  {
   "cell_type": "code",
   "execution_count": 85,
   "metadata": {},
   "outputs": [
    {
     "data": {
      "text/html": [
       "<div>\n",
       "<style scoped>\n",
       "    .dataframe tbody tr th:only-of-type {\n",
       "        vertical-align: middle;\n",
       "    }\n",
       "\n",
       "    .dataframe tbody tr th {\n",
       "        vertical-align: top;\n",
       "    }\n",
       "\n",
       "    .dataframe thead th {\n",
       "        text-align: right;\n",
       "    }\n",
       "</style>\n",
       "<table border=\"1\" class=\"dataframe\">\n",
       "  <thead>\n",
       "    <tr style=\"text-align: right;\">\n",
       "      <th></th>\n",
       "      <th>Video_Id</th>\n",
       "      <th>Tittle</th>\n",
       "      <th>Name</th>\n",
       "      <th>Comment</th>\n",
       "      <th>Comment_Id</th>\n",
       "      <th>Time</th>\n",
       "      <th>Likes</th>\n",
       "      <th>Reply_Count</th>\n",
       "      <th>Label</th>\n",
       "      <th>cleaned</th>\n",
       "      <th>cleaned_title</th>\n",
       "      <th>Url_Ratio</th>\n",
       "      <th>Number_White_Space</th>\n",
       "      <th>World_Duplicate_Ratio</th>\n",
       "    </tr>\n",
       "  </thead>\n",
       "  <tbody>\n",
       "    <tr>\n",
       "      <th>0</th>\n",
       "      <td>AP0NACavjfk</td>\n",
       "      <td>SkinnyIndonesian24 | Prabowo VS Jokowi - Epic ...</td>\n",
       "      <td>Banda vlog</td>\n",
       "      <td>Apa salah mobale lejen pak soekarno</td>\n",
       "      <td>UgwmjTHzY2zMOXBg9F94AaABAg</td>\n",
       "      <td>2019-04-11 11:27:47</td>\n",
       "      <td>0</td>\n",
       "      <td>0</td>\n",
       "      <td>spam</td>\n",
       "      <td>salah mobile legend soekarno</td>\n",
       "      <td>SkinnyIndonesian24  Prabowo VS Jokowi  Epic Ra...</td>\n",
       "      <td>0.0</td>\n",
       "      <td>3</td>\n",
       "      <td>0.16</td>\n",
       "    </tr>\n",
       "    <tr>\n",
       "      <th>1</th>\n",
       "      <td>AP0NACavjfk</td>\n",
       "      <td>SkinnyIndonesian24 | Prabowo VS Jokowi - Epic ...</td>\n",
       "      <td>kharisma setya kencana</td>\n",
       "      <td>👆👆👆👆👆👆</td>\n",
       "      <td>UgzbICRmksoeoGVFCzd4AaABAg</td>\n",
       "      <td>2019-04-09 04:08:18</td>\n",
       "      <td>0</td>\n",
       "      <td>0</td>\n",
       "      <td>legitimate</td>\n",
       "      <td></td>\n",
       "      <td>SkinnyIndonesian24  Prabowo VS Jokowi  Epic Ra...</td>\n",
       "      <td>0.0</td>\n",
       "      <td>0</td>\n",
       "      <td></td>\n",
       "    </tr>\n",
       "    <tr>\n",
       "      <th>2</th>\n",
       "      <td>AP0NACavjfk</td>\n",
       "      <td>SkinnyIndonesian24 | Prabowo VS Jokowi - Epic ...</td>\n",
       "      <td>「GratioKunz」</td>\n",
       "      <td>Dan golput itu apa</td>\n",
       "      <td>UgxROKiw4EX5LyaG0lx4AaABAg</td>\n",
       "      <td>2019-04-18 08:57:13</td>\n",
       "      <td>0</td>\n",
       "      <td>0</td>\n",
       "      <td>legitimate</td>\n",
       "      <td>golput</td>\n",
       "      <td>SkinnyIndonesian24  Prabowo VS Jokowi  Epic Ra...</td>\n",
       "      <td>0.0</td>\n",
       "      <td>0</td>\n",
       "      <td>0.166667</td>\n",
       "    </tr>\n",
       "    <tr>\n",
       "      <th>3</th>\n",
       "      <td>AP0NACavjfk</td>\n",
       "      <td>SkinnyIndonesian24 | Prabowo VS Jokowi - Epic ...</td>\n",
       "      <td>Trestrantara WZ</td>\n",
       "      <td>Keren!!</td>\n",
       "      <td>UgymN9o3cZFXVPLKcjZ4AaABAg</td>\n",
       "      <td>2019-04-08 16:42:13</td>\n",
       "      <td>0</td>\n",
       "      <td>0</td>\n",
       "      <td>legitimate</td>\n",
       "      <td>keren</td>\n",
       "      <td>SkinnyIndonesian24  Prabowo VS Jokowi  Epic Ra...</td>\n",
       "      <td>0.0</td>\n",
       "      <td>0</td>\n",
       "      <td>0.2</td>\n",
       "    </tr>\n",
       "    <tr>\n",
       "      <th>4</th>\n",
       "      <td>AP0NACavjfk</td>\n",
       "      <td>SkinnyIndonesian24 | Prabowo VS Jokowi - Epic ...</td>\n",
       "      <td>Heri Kurniawan</td>\n",
       "      <td>Pilih siapa presiden aku Prabowo-Sandi</td>\n",
       "      <td>Ugw9J8lP4lOg0t5yX0l4AaABAg</td>\n",
       "      <td>2019-04-18 00:45:06</td>\n",
       "      <td>1</td>\n",
       "      <td>0</td>\n",
       "      <td>legitimate</td>\n",
       "      <td>pilih presiden aku prabowo sandi</td>\n",
       "      <td>SkinnyIndonesian24  Prabowo VS Jokowi  Epic Ra...</td>\n",
       "      <td>0.0</td>\n",
       "      <td>4</td>\n",
       "      <td>0.178571</td>\n",
       "    </tr>\n",
       "    <tr>\n",
       "      <th>...</th>\n",
       "      <td>...</td>\n",
       "      <td>...</td>\n",
       "      <td>...</td>\n",
       "      <td>...</td>\n",
       "      <td>...</td>\n",
       "      <td>...</td>\n",
       "      <td>...</td>\n",
       "      <td>...</td>\n",
       "      <td>...</td>\n",
       "      <td>...</td>\n",
       "      <td>...</td>\n",
       "      <td>...</td>\n",
       "      <td>...</td>\n",
       "      <td>...</td>\n",
       "    </tr>\n",
       "    <tr>\n",
       "      <th>1995</th>\n",
       "      <td>AP0NACavjfk</td>\n",
       "      <td>SkinnyIndonesian24 | Prabowo VS Jokowi - Epic ...</td>\n",
       "      <td>Inul Rosmeydar</td>\n",
       "      <td>\"Nih BPJS, ngantri lo sana\" :v</td>\n",
       "      <td>Ugxy8JCX7KI-f5xu_8V4AaABAg</td>\n",
       "      <td>2019-04-11 04:18:52</td>\n",
       "      <td>1</td>\n",
       "      <td>0</td>\n",
       "      <td>legitimate</td>\n",
       "      <td>bpjs ngantri</td>\n",
       "      <td>SkinnyIndonesian24  Prabowo VS Jokowi  Epic Ra...</td>\n",
       "      <td>0.0</td>\n",
       "      <td>1</td>\n",
       "      <td>0.181818</td>\n",
       "    </tr>\n",
       "    <tr>\n",
       "      <th>1996</th>\n",
       "      <td>AP0NACavjfk</td>\n",
       "      <td>SkinnyIndonesian24 | Prabowo VS Jokowi - Epic ...</td>\n",
       "      <td>FAREL AKBAR ADITYA SARAGIH</td>\n",
       "      <td>Gua masih suka lihat ini</td>\n",
       "      <td>Ugz9_8SeFNbW0XDKetZ4AaABAg</td>\n",
       "      <td>2019-08-19 02:36:19</td>\n",
       "      <td>0</td>\n",
       "      <td>0</td>\n",
       "      <td>legitimate</td>\n",
       "      <td>saya suka lihat</td>\n",
       "      <td>SkinnyIndonesian24  Prabowo VS Jokowi  Epic Ra...</td>\n",
       "      <td>0.0</td>\n",
       "      <td>2</td>\n",
       "      <td>0.230769</td>\n",
       "    </tr>\n",
       "    <tr>\n",
       "      <th>1997</th>\n",
       "      <td>AP0NACavjfk</td>\n",
       "      <td>SkinnyIndonesian24 | Prabowo VS Jokowi - Epic ...</td>\n",
       "      <td>Craft Lisin</td>\n",
       "      <td>Saya udah 5 kali nonton ini</td>\n",
       "      <td>Ugwc9smbDefrf_4gjSd4AaABAg</td>\n",
       "      <td>2019-04-18 06:07:50</td>\n",
       "      <td>1</td>\n",
       "      <td>0</td>\n",
       "      <td>legitimate</td>\n",
       "      <td>5 kali nonton</td>\n",
       "      <td>SkinnyIndonesian24  Prabowo VS Jokowi  Epic Ra...</td>\n",
       "      <td>0.0</td>\n",
       "      <td>2</td>\n",
       "      <td>0.272727</td>\n",
       "    </tr>\n",
       "    <tr>\n",
       "      <th>1998</th>\n",
       "      <td>AP0NACavjfk</td>\n",
       "      <td>SkinnyIndonesian24 | Prabowo VS Jokowi - Epic ...</td>\n",
       "      <td>dahlia triyanti</td>\n",
       "      <td>saya pilih pak prabowo. of cores👌🏻👌🏻👌🏻</td>\n",
       "      <td>Ugznk3WicUm_9xAm4Zp4AaABAg</td>\n",
       "      <td>2019-04-12 08:26:32</td>\n",
       "      <td>0</td>\n",
       "      <td>0</td>\n",
       "      <td>legitimate</td>\n",
       "      <td>pilih prabowo cores</td>\n",
       "      <td>SkinnyIndonesian24  Prabowo VS Jokowi  Epic Ra...</td>\n",
       "      <td>0.0</td>\n",
       "      <td>2</td>\n",
       "      <td>0.176471</td>\n",
       "    </tr>\n",
       "    <tr>\n",
       "      <th>1999</th>\n",
       "      <td>AP0NACavjfk</td>\n",
       "      <td>SkinnyIndonesian24 | Prabowo VS Jokowi - Epic ...</td>\n",
       "      <td>muh ihsan fs</td>\n",
       "      <td>DASAR BONEKA PDI!!</td>\n",
       "      <td>Ugz4Kb670qDeWP4FfBl4AaABAg</td>\n",
       "      <td>2019-04-11 19:39:31</td>\n",
       "      <td>0</td>\n",
       "      <td>0</td>\n",
       "      <td>legitimate</td>\n",
       "      <td>dasar boneka pdi</td>\n",
       "      <td>SkinnyIndonesian24  Prabowo VS Jokowi  Epic Ra...</td>\n",
       "      <td>0.0</td>\n",
       "      <td>2</td>\n",
       "      <td>0.214286</td>\n",
       "    </tr>\n",
       "  </tbody>\n",
       "</table>\n",
       "<p>2000 rows × 14 columns</p>\n",
       "</div>"
      ],
      "text/plain": [
       "         Video_Id                                             Tittle  \\\n",
       "0     AP0NACavjfk  SkinnyIndonesian24 | Prabowo VS Jokowi - Epic ...   \n",
       "1     AP0NACavjfk  SkinnyIndonesian24 | Prabowo VS Jokowi - Epic ...   \n",
       "2     AP0NACavjfk  SkinnyIndonesian24 | Prabowo VS Jokowi - Epic ...   \n",
       "3     AP0NACavjfk  SkinnyIndonesian24 | Prabowo VS Jokowi - Epic ...   \n",
       "4     AP0NACavjfk  SkinnyIndonesian24 | Prabowo VS Jokowi - Epic ...   \n",
       "...           ...                                                ...   \n",
       "1995  AP0NACavjfk  SkinnyIndonesian24 | Prabowo VS Jokowi - Epic ...   \n",
       "1996  AP0NACavjfk  SkinnyIndonesian24 | Prabowo VS Jokowi - Epic ...   \n",
       "1997  AP0NACavjfk  SkinnyIndonesian24 | Prabowo VS Jokowi - Epic ...   \n",
       "1998  AP0NACavjfk  SkinnyIndonesian24 | Prabowo VS Jokowi - Epic ...   \n",
       "1999  AP0NACavjfk  SkinnyIndonesian24 | Prabowo VS Jokowi - Epic ...   \n",
       "\n",
       "                            Name                                 Comment  \\\n",
       "0                     Banda vlog     Apa salah mobale lejen pak soekarno   \n",
       "1         kharisma setya kencana                                  👆👆👆👆👆👆   \n",
       "2                   「GratioKunz」                      Dan golput itu apa   \n",
       "3                Trestrantara WZ                                 Keren!!   \n",
       "4                 Heri Kurniawan  Pilih siapa presiden aku Prabowo-Sandi   \n",
       "...                          ...                                     ...   \n",
       "1995              Inul Rosmeydar          \"Nih BPJS, ngantri lo sana\" :v   \n",
       "1996  FAREL AKBAR ADITYA SARAGIH                Gua masih suka lihat ini   \n",
       "1997                 Craft Lisin             Saya udah 5 kali nonton ini   \n",
       "1998             dahlia triyanti  saya pilih pak prabowo. of cores👌🏻👌🏻👌🏻   \n",
       "1999                muh ihsan fs                      DASAR BONEKA PDI!!   \n",
       "\n",
       "                      Comment_Id                Time  Likes  Reply_Count  \\\n",
       "0     UgwmjTHzY2zMOXBg9F94AaABAg 2019-04-11 11:27:47      0            0   \n",
       "1     UgzbICRmksoeoGVFCzd4AaABAg 2019-04-09 04:08:18      0            0   \n",
       "2     UgxROKiw4EX5LyaG0lx4AaABAg 2019-04-18 08:57:13      0            0   \n",
       "3     UgymN9o3cZFXVPLKcjZ4AaABAg 2019-04-08 16:42:13      0            0   \n",
       "4     Ugw9J8lP4lOg0t5yX0l4AaABAg 2019-04-18 00:45:06      1            0   \n",
       "...                          ...                 ...    ...          ...   \n",
       "1995  Ugxy8JCX7KI-f5xu_8V4AaABAg 2019-04-11 04:18:52      1            0   \n",
       "1996  Ugz9_8SeFNbW0XDKetZ4AaABAg 2019-08-19 02:36:19      0            0   \n",
       "1997  Ugwc9smbDefrf_4gjSd4AaABAg 2019-04-18 06:07:50      1            0   \n",
       "1998  Ugznk3WicUm_9xAm4Zp4AaABAg 2019-04-12 08:26:32      0            0   \n",
       "1999  Ugz4Kb670qDeWP4FfBl4AaABAg 2019-04-11 19:39:31      0            0   \n",
       "\n",
       "           Label                           cleaned  \\\n",
       "0           spam      salah mobile legend soekarno   \n",
       "1     legitimate                                     \n",
       "2     legitimate                            golput   \n",
       "3     legitimate                             keren   \n",
       "4     legitimate  pilih presiden aku prabowo sandi   \n",
       "...          ...                               ...   \n",
       "1995  legitimate                      bpjs ngantri   \n",
       "1996  legitimate                   saya suka lihat   \n",
       "1997  legitimate                     5 kali nonton   \n",
       "1998  legitimate               pilih prabowo cores   \n",
       "1999  legitimate                  dasar boneka pdi   \n",
       "\n",
       "                                          cleaned_title  Url_Ratio  \\\n",
       "0     SkinnyIndonesian24  Prabowo VS Jokowi  Epic Ra...        0.0   \n",
       "1     SkinnyIndonesian24  Prabowo VS Jokowi  Epic Ra...        0.0   \n",
       "2     SkinnyIndonesian24  Prabowo VS Jokowi  Epic Ra...        0.0   \n",
       "3     SkinnyIndonesian24  Prabowo VS Jokowi  Epic Ra...        0.0   \n",
       "4     SkinnyIndonesian24  Prabowo VS Jokowi  Epic Ra...        0.0   \n",
       "...                                                 ...        ...   \n",
       "1995  SkinnyIndonesian24  Prabowo VS Jokowi  Epic Ra...        0.0   \n",
       "1996  SkinnyIndonesian24  Prabowo VS Jokowi  Epic Ra...        0.0   \n",
       "1997  SkinnyIndonesian24  Prabowo VS Jokowi  Epic Ra...        0.0   \n",
       "1998  SkinnyIndonesian24  Prabowo VS Jokowi  Epic Ra...        0.0   \n",
       "1999  SkinnyIndonesian24  Prabowo VS Jokowi  Epic Ra...        0.0   \n",
       "\n",
       "      Number_White_Space World_Duplicate_Ratio  \n",
       "0                      3                  0.16  \n",
       "1                      0                        \n",
       "2                      0              0.166667  \n",
       "3                      0                   0.2  \n",
       "4                      4              0.178571  \n",
       "...                  ...                   ...  \n",
       "1995                   1              0.181818  \n",
       "1996                   2              0.230769  \n",
       "1997                   2              0.272727  \n",
       "1998                   2              0.176471  \n",
       "1999                   2              0.214286  \n",
       "\n",
       "[2000 rows x 14 columns]"
      ]
     },
     "execution_count": 85,
     "metadata": {},
     "output_type": "execute_result"
    }
   ],
   "source": [
    "try_data_cleaning"
   ]
  },
  {
   "cell_type": "code",
   "execution_count": null,
   "metadata": {},
   "outputs": [],
   "source": []
  }
 ],
 "metadata": {
  "kernelspec": {
   "display_name": "Python 3 (ipykernel)",
   "language": "python",
   "name": "python3"
  },
  "language_info": {
   "codemirror_mode": {
    "name": "ipython",
    "version": 3
   },
   "file_extension": ".py",
   "mimetype": "text/x-python",
   "name": "python",
   "nbconvert_exporter": "python",
   "pygments_lexer": "ipython3",
   "version": "3.7.11"
  },
  "vscode": {
   "interpreter": {
    "hash": "7e470a54d1f627e8dbc62884db0ab90c1d014850c7adde4c19b633d3b1a7b860"
   }
  }
 },
 "nbformat": 4,
 "nbformat_minor": 2
}
