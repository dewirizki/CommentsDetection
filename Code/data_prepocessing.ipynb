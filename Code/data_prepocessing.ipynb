{
 "cells": [
  {
   "cell_type": "markdown",
   "metadata": {},
   "source": [
    "# Spam Comments Detection"
   ]
  },
  {
   "cell_type": "markdown",
   "metadata": {},
   "source": [
    "## Tahap 1: Data Preparation and Data Cleaning\n",
    "------------------------------------------------"
   ]
  },
  {
   "cell_type": "markdown",
   "metadata": {},
   "source": [
    "##### **Daftar Isi pada Notebook**\n",
    "1. Background - Latar belakang pembuatan projek dan sumber data yang digunakan hingga tujuan penelitian\n",
    "2. Notebook Setup - mengimport package dan data\n",
    "3. Overview data\n",
    "5. Data Cleaning\n",
    "   - remove duplicate comments\n",
    "   - replace slangwords\n",
    "   - remove stopwords\n",
    "   - remove white spaces\n",
    "6. Feature Extraction\n",
    "    - url_ratio\n",
    "    - word_duplicate\n",
    "7. Export data yang telah dilakukan prepocessing kedalam format .csv\n",
    "\n",
    "------------------------------------------------------"
   ]
  },
  {
   "cell_type": "markdown",
   "metadata": {},
   "source": [
    "**1. Background**\n",
    "\n",
    "**Latar Belakang Project**\n",
    "\n",
    "\n",
    "\n",
    "**Tujuan Project**\n",
    "Pada project kali ini pendeteksian komentar spam dilakukan untuk menemukan komentar yang tidak relevan berisikan \"promosi\" sehingga hasilnya dapat digunakan untuk mengetahui sebuah komentar yang relevan dengan konten videonya. \n",
    "\n",
    "\n",
    "---------------------------------------------------"
   ]
  },
  {
   "cell_type": "markdown",
   "metadata": {},
   "source": [
    "**Sumber Data**\n",
    "\n",
    "Data yang digunakan berasal dari YouTube dengan melakukan crawling data menggunakan YouTube Data API. Mengekstrak dataset berdasarkan query yang telah dipilih, kemudian untuk memperoleh komentar dengan videoId menggunakan videoId.\n",
    "\n",
    "Metadata yang dipilih anatara lain:\n",
    "- videoId\n",
    "- Tittle Video\n",
    "- Name (username)\n",
    "- Commment\n",
    "- CommentId\n",
    "- Time\n",
    "- Like\n",
    "- Reply Count\n",
    "- Label\n",
    "\n",
    "---------------------------------------------------"
   ]
  },
  {
   "cell_type": "markdown",
   "metadata": {},
   "source": [
    "**Notebook Setup**"
   ]
  },
  {
   "cell_type": "code",
   "execution_count": 1,
   "metadata": {},
   "outputs": [],
   "source": [
    "import pandas as pd\n",
    "import glob\n",
    "import os\n",
    "import regex as re\n",
    "import emoji\n",
    "import pandas as pd\n",
    "import numpy as np\n",
    "import time\n",
    "import string\n",
    "from string import punctuation\n",
    "import seaborn as sns\n",
    "import emoji\n",
    "from unidecode import unidecode \n",
    "import datetime\n",
    "import collections\n",
    "import spacy\n",
    "import matplotlib.pyplot as plt\n",
    "import plotly.graph_objs as go\n",
    "import plotly.express as px\n",
    "from tqdm import tqdm\n",
    "from textblob import TextBlob\n",
    "from Sastrawi.Stemmer.StemmerFactory import StemmerFactory\n",
    "from Sastrawi.StopWordRemover.StopWordRemoverFactory import StopWordRemoverFactory\n",
    "#from spacy.lang.id import Indonesian\n",
    "#from spacy.lang.id.stop_words import STOP_WORDS\n",
    "import warnings; warnings.simplefilter('ignore')"
   ]
  },
  {
   "cell_type": "code",
   "execution_count": 9,
   "metadata": {},
   "outputs": [
    {
     "name": "stdout",
     "output_type": "stream",
     "text": [
      "<class 'pandas.core.frame.DataFrame'>\n",
      "RangeIndex: 3003 entries, 0 to 3002\n",
      "Data columns (total 10 columns):\n",
      " #   Column       Non-Null Count  Dtype  \n",
      "---  ------       --------------  -----  \n",
      " 0   Video_Id     3003 non-null   object \n",
      " 1   Tittle       3003 non-null   object \n",
      " 2   Description  3003 non-null   object \n",
      " 3   Name         3003 non-null   object \n",
      " 4   Comment      3003 non-null   object \n",
      " 5   Comment_Id   3003 non-null   object \n",
      " 6   Time         3003 non-null   object \n",
      " 7   Likes        3003 non-null   int64  \n",
      " 8   Reply_Count  2624 non-null   float64\n",
      " 9   Label        3003 non-null   object \n",
      "dtypes: float64(1), int64(1), object(8)\n",
      "memory usage: 234.7+ KB\n"
     ]
    }
   ],
   "source": [
    "df = pd.read_csv(\"..\\Data\\Data Label\\Data_3003_Label.csv\")\n",
    "df.info()"
   ]
  },
  {
   "cell_type": "code",
   "execution_count": 10,
   "metadata": {},
   "outputs": [],
   "source": [
    "df[\"Label\"] = df[\"Label\"].astype(\"category\")\n",
    "df[\"Time\"] = df[\"Time\"].astype(\"datetime64\")"
   ]
  },
  {
   "cell_type": "code",
   "execution_count": 11,
   "metadata": {},
   "outputs": [
    {
     "data": {
      "text/html": [
       "<div>\n",
       "<style scoped>\n",
       "    .dataframe tbody tr th:only-of-type {\n",
       "        vertical-align: middle;\n",
       "    }\n",
       "\n",
       "    .dataframe tbody tr th {\n",
       "        vertical-align: top;\n",
       "    }\n",
       "\n",
       "    .dataframe thead th {\n",
       "        text-align: right;\n",
       "    }\n",
       "</style>\n",
       "<table border=\"1\" class=\"dataframe\">\n",
       "  <thead>\n",
       "    <tr style=\"text-align: right;\">\n",
       "      <th></th>\n",
       "      <th>Video_Id</th>\n",
       "      <th>Tittle</th>\n",
       "      <th>Description</th>\n",
       "      <th>Name</th>\n",
       "      <th>Comment</th>\n",
       "      <th>Comment_Id</th>\n",
       "      <th>Time</th>\n",
       "      <th>Likes</th>\n",
       "      <th>Reply_Count</th>\n",
       "      <th>Label</th>\n",
       "    </tr>\n",
       "  </thead>\n",
       "  <tbody>\n",
       "    <tr>\n",
       "      <th>0</th>\n",
       "      <td>0iLgiRBQzzs</td>\n",
       "      <td>Panas! Jokowi VS Prabowo Saling Serang soal Ko...</td>\n",
       "      <td>Debat panas antara kedua pasangan calon presid...</td>\n",
       "      <td>Doharman Patimura Waruwu</td>\n",
       "      <td>https://youtu.be/LBKGyxnpMCU</td>\n",
       "      <td>Ugz-zdD0s87dSDzITuh4AaABAg</td>\n",
       "      <td>2019-01-17 23:06:24</td>\n",
       "      <td>0</td>\n",
       "      <td>0.0</td>\n",
       "      <td>spam</td>\n",
       "    </tr>\n",
       "    <tr>\n",
       "      <th>1</th>\n",
       "      <td>AP0NACavjfk</td>\n",
       "      <td>SkinnyIndonesian24 | Prabowo VS Jokowi - Epic ...</td>\n",
       "      <td>SkinnyIndonesian24 ( Andovi da Lopez sebagai J...</td>\n",
       "      <td>Akiru Syakir</td>\n",
       "      <td>Bantu subscribe youtube gw dong</td>\n",
       "      <td>UgwQM2OHIzkVDtu0PIN4AaABAg</td>\n",
       "      <td>2019-04-10 22:40:00</td>\n",
       "      <td>0</td>\n",
       "      <td>0.0</td>\n",
       "      <td>spam</td>\n",
       "    </tr>\n",
       "    <tr>\n",
       "      <th>2</th>\n",
       "      <td>AP0NACavjfk</td>\n",
       "      <td>SkinnyIndonesian24 | Prabowo VS Jokowi - Epic ...</td>\n",
       "      <td>SkinnyIndonesian24 ( Andovi da Lopez sebagai J...</td>\n",
       "      <td>Teguh Wage Prakoso</td>\n",
       "      <td>hachimon tonkou, kalau buka gerbang ke 8 auto ...</td>\n",
       "      <td>Ugyh7dOOI2953Exf3cp4AaABAg.8tUY_eVh77e8tUhBosQJLg</td>\n",
       "      <td>2019-04-09 02:50:06</td>\n",
       "      <td>0</td>\n",
       "      <td>NaN</td>\n",
       "      <td>spam</td>\n",
       "    </tr>\n",
       "    <tr>\n",
       "      <th>3</th>\n",
       "      <td>AP0NACavjfk</td>\n",
       "      <td>SkinnyIndonesian24 | Prabowo VS Jokowi - Epic ...</td>\n",
       "      <td>SkinnyIndonesian24 ( Andovi da Lopez sebagai J...</td>\n",
       "      <td>hidayah</td>\n",
       "      <td>https://www.youtube.com/channel/UC_iQ1hcNxz1ir...</td>\n",
       "      <td>UgxA-h0VMWXoShPkFEZ4AaABAg</td>\n",
       "      <td>2019-04-10 12:25:49</td>\n",
       "      <td>0</td>\n",
       "      <td>0.0</td>\n",
       "      <td>spam</td>\n",
       "    </tr>\n",
       "    <tr>\n",
       "      <th>4</th>\n",
       "      <td>AP0NACavjfk</td>\n",
       "      <td>SkinnyIndonesian24 | Prabowo VS Jokowi - Epic ...</td>\n",
       "      <td>SkinnyIndonesian24 ( Andovi da Lopez sebagai J...</td>\n",
       "      <td>Derisma Ae</td>\n",
       "      <td>https://youtu.be/aS1FIPcCuh4 CH: Derisma ae, m...</td>\n",
       "      <td>UgybtnYbYjDF7YZJAdN4AaABAg</td>\n",
       "      <td>2019-04-15 16:00:05</td>\n",
       "      <td>0</td>\n",
       "      <td>0.0</td>\n",
       "      <td>spam</td>\n",
       "    </tr>\n",
       "  </tbody>\n",
       "</table>\n",
       "</div>"
      ],
      "text/plain": [
       "      Video_Id                                             Tittle  \\\n",
       "0  0iLgiRBQzzs  Panas! Jokowi VS Prabowo Saling Serang soal Ko...   \n",
       "1  AP0NACavjfk  SkinnyIndonesian24 | Prabowo VS Jokowi - Epic ...   \n",
       "2  AP0NACavjfk  SkinnyIndonesian24 | Prabowo VS Jokowi - Epic ...   \n",
       "3  AP0NACavjfk  SkinnyIndonesian24 | Prabowo VS Jokowi - Epic ...   \n",
       "4  AP0NACavjfk  SkinnyIndonesian24 | Prabowo VS Jokowi - Epic ...   \n",
       "\n",
       "                                         Description  \\\n",
       "0  Debat panas antara kedua pasangan calon presid...   \n",
       "1  SkinnyIndonesian24 ( Andovi da Lopez sebagai J...   \n",
       "2  SkinnyIndonesian24 ( Andovi da Lopez sebagai J...   \n",
       "3  SkinnyIndonesian24 ( Andovi da Lopez sebagai J...   \n",
       "4  SkinnyIndonesian24 ( Andovi da Lopez sebagai J...   \n",
       "\n",
       "                       Name  \\\n",
       "0  Doharman Patimura Waruwu   \n",
       "1              Akiru Syakir   \n",
       "2        Teguh Wage Prakoso   \n",
       "3                   hidayah   \n",
       "4                Derisma Ae   \n",
       "\n",
       "                                             Comment  \\\n",
       "0                       https://youtu.be/LBKGyxnpMCU   \n",
       "1                    Bantu subscribe youtube gw dong   \n",
       "2  hachimon tonkou, kalau buka gerbang ke 8 auto ...   \n",
       "3  https://www.youtube.com/channel/UC_iQ1hcNxz1ir...   \n",
       "4  https://youtu.be/aS1FIPcCuh4 CH: Derisma ae, m...   \n",
       "\n",
       "                                          Comment_Id                Time  \\\n",
       "0                         Ugz-zdD0s87dSDzITuh4AaABAg 2019-01-17 23:06:24   \n",
       "1                         UgwQM2OHIzkVDtu0PIN4AaABAg 2019-04-10 22:40:00   \n",
       "2  Ugyh7dOOI2953Exf3cp4AaABAg.8tUY_eVh77e8tUhBosQJLg 2019-04-09 02:50:06   \n",
       "3                         UgxA-h0VMWXoShPkFEZ4AaABAg 2019-04-10 12:25:49   \n",
       "4                         UgybtnYbYjDF7YZJAdN4AaABAg 2019-04-15 16:00:05   \n",
       "\n",
       "   Likes  Reply_Count Label  \n",
       "0      0          0.0  spam  \n",
       "1      0          0.0  spam  \n",
       "2      0          NaN  spam  \n",
       "3      0          0.0  spam  \n",
       "4      0          0.0  spam  "
      ]
     },
     "execution_count": 11,
     "metadata": {},
     "output_type": "execute_result"
    }
   ],
   "source": [
    "df.head()"
   ]
  },
  {
   "cell_type": "code",
   "execution_count": 12,
   "metadata": {},
   "outputs": [],
   "source": [
    "data = df.drop_duplicates(subset=[\"Comment\"], keep=False)"
   ]
  },
  {
   "cell_type": "code",
   "execution_count": 13,
   "metadata": {},
   "outputs": [
    {
     "name": "stdout",
     "output_type": "stream",
     "text": [
      "Banyaknya Saat ini adalah Baris: 2847 dan Kolom: 10\n"
     ]
    }
   ],
   "source": [
    "B, K = data.shape\n",
    "print(f\"Banyaknya Saat ini adalah Baris: {B} dan Kolom: {K}\")"
   ]
  },
  {
   "cell_type": "code",
   "execution_count": 14,
   "metadata": {},
   "outputs": [
    {
     "data": {
      "text/plain": [
       "Video_Id         0\n",
       "Tittle           0\n",
       "Description      0\n",
       "Name             0\n",
       "Comment          0\n",
       "Comment_Id       0\n",
       "Time             0\n",
       "Likes            0\n",
       "Reply_Count    350\n",
       "Label            0\n",
       "dtype: int64"
      ]
     },
     "execution_count": 14,
     "metadata": {},
     "output_type": "execute_result"
    }
   ],
   "source": [
    "data.isnull().sum()"
   ]
  },
  {
   "cell_type": "code",
   "execution_count": 15,
   "metadata": {},
   "outputs": [
    {
     "data": {
      "image/png": "[encoded data removed]",
      "text/plain": [
       "<Figure size 432x288 with 1 Axes>"
      ]
     },
     "metadata": {
      "needs_background": "light"
     },
     "output_type": "display_data"
    }
   ],
   "source": [
    "p = sns.distplot(data['Reply_Count'], kde=True, rug=True)"
   ]
  },
  {
   "cell_type": "code",
   "execution_count": 16,
   "metadata": {},
   "outputs": [],
   "source": [
    "data['Reply_Count'].fillna(data['Reply_Count'].median(),inplace=True)"
   ]
  },
  {
   "cell_type": "code",
   "execution_count": 17,
   "metadata": {},
   "outputs": [
    {
     "data": {
      "text/plain": [
       "Video_Id       0\n",
       "Tittle         0\n",
       "Description    0\n",
       "Name           0\n",
       "Comment        0\n",
       "Comment_Id     0\n",
       "Time           0\n",
       "Likes          0\n",
       "Reply_Count    0\n",
       "Label          0\n",
       "dtype: int64"
      ]
     },
     "execution_count": 17,
     "metadata": {},
     "output_type": "execute_result"
    }
   ],
   "source": [
    "data.isnull().sum()"
   ]
  },
  {
   "cell_type": "code",
   "execution_count": 18,
   "metadata": {},
   "outputs": [],
   "source": [
    "data[\"Reply_Count\"] = data[\"Reply_Count\"].astype(\"int64\")"
   ]
  },
  {
   "cell_type": "code",
   "execution_count": 19,
   "metadata": {},
   "outputs": [
    {
     "name": "stdout",
     "output_type": "stream",
     "text": [
      "<class 'pandas.core.frame.DataFrame'>\n",
      "Int64Index: 2847 entries, 0 to 3002\n",
      "Data columns (total 10 columns):\n",
      " #   Column       Non-Null Count  Dtype         \n",
      "---  ------       --------------  -----         \n",
      " 0   Video_Id     2847 non-null   object        \n",
      " 1   Tittle       2847 non-null   object        \n",
      " 2   Description  2847 non-null   object        \n",
      " 3   Name         2847 non-null   object        \n",
      " 4   Comment      2847 non-null   object        \n",
      " 5   Comment_Id   2847 non-null   object        \n",
      " 6   Time         2847 non-null   datetime64[ns]\n",
      " 7   Likes        2847 non-null   int64         \n",
      " 8   Reply_Count  2847 non-null   int64         \n",
      " 9   Label        2847 non-null   category      \n",
      "dtypes: category(1), datetime64[ns](1), int64(2), object(6)\n",
      "memory usage: 225.3+ KB\n"
     ]
    }
   ],
   "source": [
    "data.info()"
   ]
  },
  {
   "cell_type": "code",
   "execution_count": 20,
   "metadata": {},
   "outputs": [],
   "source": [
    "#count comments words length\n",
    "def count_length(text):\n",
    "    return len(text)"
   ]
  },
  {
   "cell_type": "code",
   "execution_count": 21,
   "metadata": {},
   "outputs": [],
   "source": [
    "data['Length_Comment'] = data['Comment'].apply(lambda x: count_length(x))"
   ]
  },
  {
   "cell_type": "code",
   "execution_count": 22,
   "metadata": {},
   "outputs": [
    {
     "data": {
      "text/html": [
       "<div>\n",
       "<style scoped>\n",
       "    .dataframe tbody tr th:only-of-type {\n",
       "        vertical-align: middle;\n",
       "    }\n",
       "\n",
       "    .dataframe tbody tr th {\n",
       "        vertical-align: top;\n",
       "    }\n",
       "\n",
       "    .dataframe thead th {\n",
       "        text-align: right;\n",
       "    }\n",
       "</style>\n",
       "<table border=\"1\" class=\"dataframe\">\n",
       "  <thead>\n",
       "    <tr style=\"text-align: right;\">\n",
       "      <th></th>\n",
       "      <th>Video_Id</th>\n",
       "      <th>Tittle</th>\n",
       "      <th>Description</th>\n",
       "      <th>Name</th>\n",
       "      <th>Comment</th>\n",
       "      <th>Comment_Id</th>\n",
       "      <th>Time</th>\n",
       "      <th>Likes</th>\n",
       "      <th>Reply_Count</th>\n",
       "      <th>Label</th>\n",
       "      <th>Length_Comment</th>\n",
       "    </tr>\n",
       "  </thead>\n",
       "  <tbody>\n",
       "    <tr>\n",
       "      <th>1768</th>\n",
       "      <td>AP0NACavjfk</td>\n",
       "      <td>SkinnyIndonesian24 | Prabowo VS Jokowi - Epic ...</td>\n",
       "      <td>SkinnyIndonesian24 ( Andovi da Lopez sebagai J...</td>\n",
       "      <td>Muhammad Arief Zaky</td>\n",
       "      <td>Konten ini lebih menghibur dan berbobot daripa...</td>\n",
       "      <td>UgyZ_t26GTtI649SpKR4AaABAg</td>\n",
       "      <td>2019-04-10 03:54:04</td>\n",
       "      <td>44</td>\n",
       "      <td>0</td>\n",
       "      <td>legitimate</td>\n",
       "      <td>87</td>\n",
       "    </tr>\n",
       "    <tr>\n",
       "      <th>339</th>\n",
       "      <td>AP0NACavjfk</td>\n",
       "      <td>SkinnyIndonesian24 | Prabowo VS Jokowi - Epic ...</td>\n",
       "      <td>SkinnyIndonesian24 ( Andovi da Lopez sebagai J...</td>\n",
       "      <td>Twilight ZS</td>\n",
       "      <td>Jgn lupa mampir ke channel gua🤫🤫</td>\n",
       "      <td>UgyHd10phpOlkxHdIYp4AaABAg.9HoRZYPjUKn9I7T3hEJFE7</td>\n",
       "      <td>2021-01-05 07:51:38</td>\n",
       "      <td>0</td>\n",
       "      <td>0</td>\n",
       "      <td>spam</td>\n",
       "      <td>32</td>\n",
       "    </tr>\n",
       "    <tr>\n",
       "      <th>1958</th>\n",
       "      <td>AP0NACavjfk</td>\n",
       "      <td>SkinnyIndonesian24 | Prabowo VS Jokowi - Epic ...</td>\n",
       "      <td>SkinnyIndonesian24 ( Andovi da Lopez sebagai J...</td>\n",
       "      <td>Jeon Kookie</td>\n",
       "      <td>Anda yg gak jelas</td>\n",
       "      <td>Ugxl4UGFZ0EyKIz9UuR4AaABAg.8tg_7O5qzeL8tg_YtY-HAR</td>\n",
       "      <td>2019-04-14 02:53:28</td>\n",
       "      <td>0</td>\n",
       "      <td>0</td>\n",
       "      <td>legitimate</td>\n",
       "      <td>17</td>\n",
       "    </tr>\n",
       "    <tr>\n",
       "      <th>2844</th>\n",
       "      <td>AP0NACavjfk</td>\n",
       "      <td>SkinnyIndonesian24 | Prabowo VS Jokowi - Epic ...</td>\n",
       "      <td>SkinnyIndonesian24 ( Andovi da Lopez sebagai J...</td>\n",
       "      <td>Ti Ga</td>\n",
       "      <td>WAJIB TRENDING!</td>\n",
       "      <td>UgwWcgRpzcCBf3y10zN4AaABAg</td>\n",
       "      <td>2019-04-08 14:47:57</td>\n",
       "      <td>0</td>\n",
       "      <td>0</td>\n",
       "      <td>legitimate</td>\n",
       "      <td>15</td>\n",
       "    </tr>\n",
       "    <tr>\n",
       "      <th>2458</th>\n",
       "      <td>AP0NACavjfk</td>\n",
       "      <td>SkinnyIndonesian24 | Prabowo VS Jokowi - Epic ...</td>\n",
       "      <td>SkinnyIndonesian24 ( Andovi da Lopez sebagai J...</td>\n",
       "      <td>Yogi RY</td>\n",
       "      <td>Merinding gw dengerinnya asli :')</td>\n",
       "      <td>UgwOhL03gz0XssKnDAd4AaABAg</td>\n",
       "      <td>2019-04-13 05:24:00</td>\n",
       "      <td>0</td>\n",
       "      <td>0</td>\n",
       "      <td>legitimate</td>\n",
       "      <td>33</td>\n",
       "    </tr>\n",
       "    <tr>\n",
       "      <th>0</th>\n",
       "      <td>0iLgiRBQzzs</td>\n",
       "      <td>Panas! Jokowi VS Prabowo Saling Serang soal Ko...</td>\n",
       "      <td>Debat panas antara kedua pasangan calon presid...</td>\n",
       "      <td>Doharman Patimura Waruwu</td>\n",
       "      <td>https://youtu.be/LBKGyxnpMCU</td>\n",
       "      <td>Ugz-zdD0s87dSDzITuh4AaABAg</td>\n",
       "      <td>2019-01-17 23:06:24</td>\n",
       "      <td>0</td>\n",
       "      <td>0</td>\n",
       "      <td>spam</td>\n",
       "      <td>28</td>\n",
       "    </tr>\n",
       "    <tr>\n",
       "      <th>207</th>\n",
       "      <td>AP0NACavjfk</td>\n",
       "      <td>SkinnyIndonesian24 | Prabowo VS Jokowi - Epic ...</td>\n",
       "      <td>SkinnyIndonesian24 ( Andovi da Lopez sebagai J...</td>\n",
       "      <td>Pacok Creator</td>\n",
       "      <td>Otw 2 Juta Subscriber Nih ? Punya Janji Apa Ba...</td>\n",
       "      <td>Ugz4-iZKjzMpNfZzm6B4AaABAg</td>\n",
       "      <td>2019-04-12 12:10:30</td>\n",
       "      <td>4</td>\n",
       "      <td>0</td>\n",
       "      <td>spam</td>\n",
       "      <td>195</td>\n",
       "    </tr>\n",
       "    <tr>\n",
       "      <th>691</th>\n",
       "      <td>AP0NACavjfk</td>\n",
       "      <td>SkinnyIndonesian24 | Prabowo VS Jokowi - Epic ...</td>\n",
       "      <td>SkinnyIndonesian24 ( Andovi da Lopez sebagai J...</td>\n",
       "      <td>Suwandi Kurniawan</td>\n",
       "      <td>https://youtu.be/7gOEHlNuAok ayo nntn gais...</td>\n",
       "      <td>Ugxlk3i5phHVrjYlwVp4AaABAg</td>\n",
       "      <td>2019-04-11 06:19:50</td>\n",
       "      <td>0</td>\n",
       "      <td>0</td>\n",
       "      <td>spam</td>\n",
       "      <td>45</td>\n",
       "    </tr>\n",
       "    <tr>\n",
       "      <th>1503</th>\n",
       "      <td>AP0NACavjfk</td>\n",
       "      <td>SkinnyIndonesian24 | Prabowo VS Jokowi - Epic ...</td>\n",
       "      <td>SkinnyIndonesian24 ( Andovi da Lopez sebagai J...</td>\n",
       "      <td>Ahmad Rifandi</td>\n",
       "      <td>Seperti yang disampaikan bung karno(coki), per...</td>\n",
       "      <td>Ugyjg2SVlEF3wFQKl3d4AaABAg</td>\n",
       "      <td>2019-04-13 16:33:32</td>\n",
       "      <td>6</td>\n",
       "      <td>0</td>\n",
       "      <td>legitimate</td>\n",
       "      <td>207</td>\n",
       "    </tr>\n",
       "    <tr>\n",
       "      <th>2342</th>\n",
       "      <td>LU2p56QVUWA</td>\n",
       "      <td>Debat Jokowi Vs Prabowo Soal Ideologi &amp;amp; Pe...</td>\n",
       "      <td>DebatCapres #DebatJokowiPrabowo #DebatKeempatC...</td>\n",
       "      <td>Tralala Trilili</td>\n",
       "      <td>Utang jokowi gak bikin dirinya kaya raya sihhh...</td>\n",
       "      <td>UgxChhfSrmw7Yf_Fct54AaABAg</td>\n",
       "      <td>2019-04-01 23:49:47</td>\n",
       "      <td>90</td>\n",
       "      <td>6</td>\n",
       "      <td>legitimate</td>\n",
       "      <td>433</td>\n",
       "    </tr>\n",
       "  </tbody>\n",
       "</table>\n",
       "</div>"
      ],
      "text/plain": [
       "         Video_Id                                             Tittle  \\\n",
       "1768  AP0NACavjfk  SkinnyIndonesian24 | Prabowo VS Jokowi - Epic ...   \n",
       "339   AP0NACavjfk  SkinnyIndonesian24 | Prabowo VS Jokowi - Epic ...   \n",
       "1958  AP0NACavjfk  SkinnyIndonesian24 | Prabowo VS Jokowi - Epic ...   \n",
       "2844  AP0NACavjfk  SkinnyIndonesian24 | Prabowo VS Jokowi - Epic ...   \n",
       "2458  AP0NACavjfk  SkinnyIndonesian24 | Prabowo VS Jokowi - Epic ...   \n",
       "0     0iLgiRBQzzs  Panas! Jokowi VS Prabowo Saling Serang soal Ko...   \n",
       "207   AP0NACavjfk  SkinnyIndonesian24 | Prabowo VS Jokowi - Epic ...   \n",
       "691   AP0NACavjfk  SkinnyIndonesian24 | Prabowo VS Jokowi - Epic ...   \n",
       "1503  AP0NACavjfk  SkinnyIndonesian24 | Prabowo VS Jokowi - Epic ...   \n",
       "2342  LU2p56QVUWA  Debat Jokowi Vs Prabowo Soal Ideologi &amp; Pe...   \n",
       "\n",
       "                                            Description  \\\n",
       "1768  SkinnyIndonesian24 ( Andovi da Lopez sebagai J...   \n",
       "339   SkinnyIndonesian24 ( Andovi da Lopez sebagai J...   \n",
       "1958  SkinnyIndonesian24 ( Andovi da Lopez sebagai J...   \n",
       "2844  SkinnyIndonesian24 ( Andovi da Lopez sebagai J...   \n",
       "2458  SkinnyIndonesian24 ( Andovi da Lopez sebagai J...   \n",
       "0     Debat panas antara kedua pasangan calon presid...   \n",
       "207   SkinnyIndonesian24 ( Andovi da Lopez sebagai J...   \n",
       "691   SkinnyIndonesian24 ( Andovi da Lopez sebagai J...   \n",
       "1503  SkinnyIndonesian24 ( Andovi da Lopez sebagai J...   \n",
       "2342  DebatCapres #DebatJokowiPrabowo #DebatKeempatC...   \n",
       "\n",
       "                          Name  \\\n",
       "1768       Muhammad Arief Zaky   \n",
       "339                Twilight ZS   \n",
       "1958               Jeon Kookie   \n",
       "2844                     Ti Ga   \n",
       "2458                   Yogi RY   \n",
       "0     Doharman Patimura Waruwu   \n",
       "207              Pacok Creator   \n",
       "691          Suwandi Kurniawan   \n",
       "1503             Ahmad Rifandi   \n",
       "2342           Tralala Trilili   \n",
       "\n",
       "                                                Comment  \\\n",
       "1768  Konten ini lebih menghibur dan berbobot daripa...   \n",
       "339                    Jgn lupa mampir ke channel gua🤫🤫   \n",
       "1958                                  Anda yg gak jelas   \n",
       "2844                                    WAJIB TRENDING!   \n",
       "2458                  Merinding gw dengerinnya asli :')   \n",
       "0                          https://youtu.be/LBKGyxnpMCU   \n",
       "207   Otw 2 Juta Subscriber Nih ? Punya Janji Apa Ba...   \n",
       "691       https://youtu.be/7gOEHlNuAok ayo nntn gais...   \n",
       "1503  Seperti yang disampaikan bung karno(coki), per...   \n",
       "2342  Utang jokowi gak bikin dirinya kaya raya sihhh...   \n",
       "\n",
       "                                             Comment_Id                Time  \\\n",
       "1768                         UgyZ_t26GTtI649SpKR4AaABAg 2019-04-10 03:54:04   \n",
       "339   UgyHd10phpOlkxHdIYp4AaABAg.9HoRZYPjUKn9I7T3hEJFE7 2021-01-05 07:51:38   \n",
       "1958  Ugxl4UGFZ0EyKIz9UuR4AaABAg.8tg_7O5qzeL8tg_YtY-HAR 2019-04-14 02:53:28   \n",
       "2844                         UgwWcgRpzcCBf3y10zN4AaABAg 2019-04-08 14:47:57   \n",
       "2458                         UgwOhL03gz0XssKnDAd4AaABAg 2019-04-13 05:24:00   \n",
       "0                            Ugz-zdD0s87dSDzITuh4AaABAg 2019-01-17 23:06:24   \n",
       "207                          Ugz4-iZKjzMpNfZzm6B4AaABAg 2019-04-12 12:10:30   \n",
       "691                          Ugxlk3i5phHVrjYlwVp4AaABAg 2019-04-11 06:19:50   \n",
       "1503                         Ugyjg2SVlEF3wFQKl3d4AaABAg 2019-04-13 16:33:32   \n",
       "2342                         UgxChhfSrmw7Yf_Fct54AaABAg 2019-04-01 23:49:47   \n",
       "\n",
       "      Likes  Reply_Count       Label  Length_Comment  \n",
       "1768     44            0  legitimate              87  \n",
       "339       0            0        spam              32  \n",
       "1958      0            0  legitimate              17  \n",
       "2844      0            0  legitimate              15  \n",
       "2458      0            0  legitimate              33  \n",
       "0         0            0        spam              28  \n",
       "207       4            0        spam             195  \n",
       "691       0            0        spam              45  \n",
       "1503      6            0  legitimate             207  \n",
       "2342     90            6  legitimate             433  "
      ]
     },
     "execution_count": 22,
     "metadata": {},
     "output_type": "execute_result"
    }
   ],
   "source": [
    "data.sample(10)"
   ]
  },
  {
   "cell_type": "markdown",
   "metadata": {},
   "source": [
    "## EDA"
   ]
  },
  {
   "cell_type": "markdown",
   "metadata": {},
   "source": [
    "### Comments that got most "
   ]
  },
  {
   "cell_type": "code",
   "execution_count": 23,
   "metadata": {},
   "outputs": [
    {
     "name": "stdout",
     "output_type": "stream",
     "text": [
      "Komentar dengan like terbanyak adalah \n",
      " Official Teaser Trailer Film Bucin. Tayang Maret 2020. https://www.youtube.com/watch?v=rdLn2rcJjk0\n",
      "Update terbaru: Video paling populer no 1 di Indonesia tahun 2019. Terima kasih semuanya!\n",
      "Prabowo Vs Jokowi - Behind The Scenes Epic Rap Battles Of Presidency\n",
      " https://www.youtube.com/watch?v=N1X4WmVMRMg\n",
      "Prabowo VS Jokowi - Epic Rap Battles Of Presidency - Bedah Lirik - Jenius (Genius Parody) https://youtu.be/AYK71Exj0M0\n",
      "Prabowo Vs Jokowi - Bedah Lirik Part 2 https://youtu.be/prSN3P5fb0o\n",
      "Prabowo VS Jokowi - Epic Rap Battles Of Presidency (Green Screen Cut) https://youtu.be/1Ofs0y0ZeTg\n"
     ]
    }
   ],
   "source": [
    "like = data[data['Likes']== data['Likes'].max()]\n",
    "print(\"Komentar dengan like terbanyak adalah \\n {}\".format(like.iloc[0].Comment))"
   ]
  },
  {
   "cell_type": "markdown",
   "metadata": {},
   "source": [
    "### 10 YouTube Account that comments have most reply"
   ]
  },
  {
   "cell_type": "code",
   "execution_count": 24,
   "metadata": {},
   "outputs": [
    {
     "data": {
      "application/vnd.plotly.v1+json": {
       "config": {
        "plotlyServerURL": "https://plot.ly"
       },
       "data": [
        {
         "alignmentgroup": "True",
         "hovertemplate": "Youtube_Account=%{x}<br>reply_count=%{y}<extra></extra>",
         "legendgroup": "skinnyindonesian24",
         "marker": {
          "color": "#636efa",
          "pattern": {
           "shape": ""
          }
         },
         "name": "skinnyindonesian24",
         "offsetgroup": "skinnyindonesian24",
         "orientation": "v",
         "showlegend": true,
         "textposition": "auto",
         "type": "bar",
         "x": [
          "skinnyindonesian24"
         ],
         "xaxis": "x",
         "y": [
          8
         ],
         "yaxis": "y"
        },
        {
         "alignmentgroup": "True",
         "hovertemplate": "Youtube_Account=%{x}<br>reply_count=%{y}<extra></extra>",
         "legendgroup": "ZUHUDIL ASHAR",
         "marker": {
          "color": "#EF553B",
          "pattern": {
           "shape": ""
          }
         },
         "name": "ZUHUDIL ASHAR",
         "offsetgroup": "ZUHUDIL ASHAR",
         "orientation": "v",
         "showlegend": true,
         "textposition": "auto",
         "type": "bar",
         "x": [
          "ZUHUDIL ASHAR"
         ],
         "xaxis": "x",
         "y": [
          4
         ],
         "yaxis": "y"
        },
        {
         "alignmentgroup": "True",
         "hovertemplate": "Youtube_Account=%{x}<br>reply_count=%{y}<extra></extra>",
         "legendgroup": "Zhara",
         "marker": {
          "color": "#00cc96",
          "pattern": {
           "shape": ""
          }
         },
         "name": "Zhara",
         "offsetgroup": "Zhara",
         "orientation": "v",
         "showlegend": true,
         "textposition": "auto",
         "type": "bar",
         "x": [
          "Zhara"
         ],
         "xaxis": "x",
         "y": [
          3
         ],
         "yaxis": "y"
        },
        {
         "alignmentgroup": "True",
         "hovertemplate": "Youtube_Account=%{x}<br>reply_count=%{y}<extra></extra>",
         "legendgroup": "HEN DRI",
         "marker": {
          "color": "#ab63fa",
          "pattern": {
           "shape": ""
          }
         },
         "name": "HEN DRI",
         "offsetgroup": "HEN DRI",
         "orientation": "v",
         "showlegend": true,
         "textposition": "auto",
         "type": "bar",
         "x": [
          "HEN DRI"
         ],
         "xaxis": "x",
         "y": [
          3
         ],
         "yaxis": "y"
        },
        {
         "alignmentgroup": "True",
         "hovertemplate": "Youtube_Account=%{x}<br>reply_count=%{y}<extra></extra>",
         "legendgroup": "Ikyszz Official",
         "marker": {
          "color": "#FFA15A",
          "pattern": {
           "shape": ""
          }
         },
         "name": "Ikyszz Official",
         "offsetgroup": "Ikyszz Official",
         "orientation": "v",
         "showlegend": true,
         "textposition": "auto",
         "type": "bar",
         "x": [
          "Ikyszz Official"
         ],
         "xaxis": "x",
         "y": [
          3
         ],
         "yaxis": "y"
        },
        {
         "alignmentgroup": "True",
         "hovertemplate": "Youtube_Account=%{x}<br>reply_count=%{y}<extra></extra>",
         "legendgroup": "Leslar Entertainment IG",
         "marker": {
          "color": "#19d3f3",
          "pattern": {
           "shape": ""
          }
         },
         "name": "Leslar Entertainment IG",
         "offsetgroup": "Leslar Entertainment IG",
         "orientation": "v",
         "showlegend": true,
         "textposition": "auto",
         "type": "bar",
         "x": [
          "Leslar Entertainment IG"
         ],
         "xaxis": "x",
         "y": [
          3
         ],
         "yaxis": "y"
        },
        {
         "alignmentgroup": "True",
         "hovertemplate": "Youtube_Account=%{x}<br>reply_count=%{y}<extra></extra>",
         "legendgroup": "DICROSZ Easy",
         "marker": {
          "color": "#FF6692",
          "pattern": {
           "shape": ""
          }
         },
         "name": "DICROSZ Easy",
         "offsetgroup": "DICROSZ Easy",
         "orientation": "v",
         "showlegend": true,
         "textposition": "auto",
         "type": "bar",
         "x": [
          "DICROSZ Easy"
         ],
         "xaxis": "x",
         "y": [
          2
         ],
         "yaxis": "y"
        },
        {
         "alignmentgroup": "True",
         "hovertemplate": "Youtube_Account=%{x}<br>reply_count=%{y}<extra></extra>",
         "legendgroup": "anne katreena",
         "marker": {
          "color": "#B6E880",
          "pattern": {
           "shape": ""
          }
         },
         "name": "anne katreena",
         "offsetgroup": "anne katreena",
         "orientation": "v",
         "showlegend": true,
         "textposition": "auto",
         "type": "bar",
         "x": [
          "anne katreena"
         ],
         "xaxis": "x",
         "y": [
          2
         ],
         "yaxis": "y"
        },
        {
         "alignmentgroup": "True",
         "hovertemplate": "Youtube_Account=%{x}<br>reply_count=%{y}<extra></extra>",
         "legendgroup": "Mojang Priangan",
         "marker": {
          "color": "#FF97FF",
          "pattern": {
           "shape": ""
          }
         },
         "name": "Mojang Priangan",
         "offsetgroup": "Mojang Priangan",
         "orientation": "v",
         "showlegend": true,
         "textposition": "auto",
         "type": "bar",
         "x": [
          "Mojang Priangan"
         ],
         "xaxis": "x",
         "y": [
          2
         ],
         "yaxis": "y"
        },
        {
         "alignmentgroup": "True",
         "hovertemplate": "Youtube_Account=%{x}<br>reply_count=%{y}<extra></extra>",
         "legendgroup": "IzkvD",
         "marker": {
          "color": "#FECB52",
          "pattern": {
           "shape": ""
          }
         },
         "name": "IzkvD",
         "offsetgroup": "IzkvD",
         "orientation": "v",
         "showlegend": true,
         "textposition": "auto",
         "type": "bar",
         "x": [
          "IzkvD"
         ],
         "xaxis": "x",
         "y": [
          2
         ],
         "yaxis": "y"
        }
       ],
       "layout": {
        "barmode": "relative",
        "legend": {
         "title": {
          "text": "Youtube_Account"
         },
         "tracegroupgap": 0
        },
        "template": {
         "data": {
          "bar": [
           {
            "error_x": {
             "color": "#2a3f5f"
            },
            "error_y": {
             "color": "#2a3f5f"
            },
            "marker": {
             "line": {
              "color": "#E5ECF6",
              "width": 0.5
             },
             "pattern": {
              "fillmode": "overlay",
              "size": 10,
              "solidity": 0.2
             }
            },
            "type": "bar"
           }
          ],
          "barpolar": [
           {
            "marker": {
             "line": {
              "color": "#E5ECF6",
              "width": 0.5
             },
             "pattern": {
              "fillmode": "overlay",
              "size": 10,
              "solidity": 0.2
             }
            },
            "type": "barpolar"
           }
          ],
          "carpet": [
           {
            "aaxis": {
             "endlinecolor": "#2a3f5f",
             "gridcolor": "white",
             "linecolor": "white",
             "minorgridcolor": "white",
             "startlinecolor": "#2a3f5f"
            },
            "baxis": {
             "endlinecolor": "#2a3f5f",
             "gridcolor": "white",
             "linecolor": "white",
             "minorgridcolor": "white",
             "startlinecolor": "#2a3f5f"
            },
            "type": "carpet"
           }
          ],
          "choropleth": [
           {
            "colorbar": {
             "outlinewidth": 0,
             "ticks": ""
            },
            "type": "choropleth"
           }
          ],
          "contour": [
           {
            "colorbar": {
             "outlinewidth": 0,
             "ticks": ""
            },
            "colorscale": [
             [
              0,
              "#0d0887"
             ],
             [
              0.1111111111111111,
              "#46039f"
             ],
             [
              0.2222222222222222,
              "#7201a8"
             ],
             [
              0.3333333333333333,
              "#9c179e"
             ],
             [
              0.4444444444444444,
              "#bd3786"
             ],
             [
              0.5555555555555556,
              "#d8576b"
             ],
             [
              0.6666666666666666,
              "#ed7953"
             ],
             [
              0.7777777777777778,
              "#fb9f3a"
             ],
             [
              0.8888888888888888,
              "#fdca26"
             ],
             [
              1,
              "#f0f921"
             ]
            ],
            "type": "contour"
           }
          ],
          "contourcarpet": [
           {
            "colorbar": {
             "outlinewidth": 0,
             "ticks": ""
            },
            "type": "contourcarpet"
           }
          ],
          "heatmap": [
           {
            "colorbar": {
             "outlinewidth": 0,
             "ticks": ""
            },
            "colorscale": [
             [
              0,
              "#0d0887"
             ],
             [
              0.1111111111111111,
              "#46039f"
             ],
             [
              0.2222222222222222,
              "#7201a8"
             ],
             [
              0.3333333333333333,
              "#9c179e"
             ],
             [
              0.4444444444444444,
              "#bd3786"
             ],
             [
              0.5555555555555556,
              "#d8576b"
             ],
             [
              0.6666666666666666,
              "#ed7953"
             ],
             [
              0.7777777777777778,
              "#fb9f3a"
             ],
             [
              0.8888888888888888,
              "#fdca26"
             ],
             [
              1,
              "#f0f921"
             ]
            ],
            "type": "heatmap"
           }
          ],
          "heatmapgl": [
           {
            "colorbar": {
             "outlinewidth": 0,
             "ticks": ""
            },
            "colorscale": [
             [
              0,
              "#0d0887"
             ],
             [
              0.1111111111111111,
              "#46039f"
             ],
             [
              0.2222222222222222,
              "#7201a8"
             ],
             [
              0.3333333333333333,
              "#9c179e"
             ],
             [
              0.4444444444444444,
              "#bd3786"
             ],
             [
              0.5555555555555556,
              "#d8576b"
             ],
             [
              0.6666666666666666,
              "#ed7953"
             ],
             [
              0.7777777777777778,
              "#fb9f3a"
             ],
             [
              0.8888888888888888,
              "#fdca26"
             ],
             [
              1,
              "#f0f921"
             ]
            ],
            "type": "heatmapgl"
           }
          ],
          "histogram": [
           {
            "marker": {
             "pattern": {
              "fillmode": "overlay",
              "size": 10,
              "solidity": 0.2
             }
            },
            "type": "histogram"
           }
          ],
          "histogram2d": [
           {
            "colorbar": {
             "outlinewidth": 0,
             "ticks": ""
            },
            "colorscale": [
             [
              0,
              "#0d0887"
             ],
             [
              0.1111111111111111,
              "#46039f"
             ],
             [
              0.2222222222222222,
              "#7201a8"
             ],
             [
              0.3333333333333333,
              "#9c179e"
             ],
             [
              0.4444444444444444,
              "#bd3786"
             ],
             [
              0.5555555555555556,
              "#d8576b"
             ],
             [
              0.6666666666666666,
              "#ed7953"
             ],
             [
              0.7777777777777778,
              "#fb9f3a"
             ],
             [
              0.8888888888888888,
              "#fdca26"
             ],
             [
              1,
              "#f0f921"
             ]
            ],
            "type": "histogram2d"
           }
          ],
          "histogram2dcontour": [
           {
            "colorbar": {
             "outlinewidth": 0,
             "ticks": ""
            },
            "colorscale": [
             [
              0,
              "#0d0887"
             ],
             [
              0.1111111111111111,
              "#46039f"
             ],
             [
              0.2222222222222222,
              "#7201a8"
             ],
             [
              0.3333333333333333,
              "#9c179e"
             ],
             [
              0.4444444444444444,
              "#bd3786"
             ],
             [
              0.5555555555555556,
              "#d8576b"
             ],
             [
              0.6666666666666666,
              "#ed7953"
             ],
             [
              0.7777777777777778,
              "#fb9f3a"
             ],
             [
              0.8888888888888888,
              "#fdca26"
             ],
             [
              1,
              "#f0f921"
             ]
            ],
            "type": "histogram2dcontour"
           }
          ],
          "mesh3d": [
           {
            "colorbar": {
             "outlinewidth": 0,
             "ticks": ""
            },
            "type": "mesh3d"
           }
          ],
          "parcoords": [
           {
            "line": {
             "colorbar": {
              "outlinewidth": 0,
              "ticks": ""
             }
            },
            "type": "parcoords"
           }
          ],
          "pie": [
           {
            "automargin": true,
            "type": "pie"
           }
          ],
          "scatter": [
           {
            "fillpattern": {
             "fillmode": "overlay",
             "size": 10,
             "solidity": 0.2
            },
            "type": "scatter"
           }
          ],
          "scatter3d": [
           {
            "line": {
             "colorbar": {
              "outlinewidth": 0,
              "ticks": ""
             }
            },
            "marker": {
             "colorbar": {
              "outlinewidth": 0,
              "ticks": ""
             }
            },
            "type": "scatter3d"
           }
          ],
          "scattercarpet": [
           {
            "marker": {
             "colorbar": {
              "outlinewidth": 0,
              "ticks": ""
             }
            },
            "type": "scattercarpet"
           }
          ],
          "scattergeo": [
           {
            "marker": {
             "colorbar": {
              "outlinewidth": 0,
              "ticks": ""
             }
            },
            "type": "scattergeo"
           }
          ],
          "scattergl": [
           {
            "marker": {
             "colorbar": {
              "outlinewidth": 0,
              "ticks": ""
             }
            },
            "type": "scattergl"
           }
          ],
          "scattermapbox": [
           {
            "marker": {
             "colorbar": {
              "outlinewidth": 0,
              "ticks": ""
             }
            },
            "type": "scattermapbox"
           }
          ],
          "scatterpolar": [
           {
            "marker": {
             "colorbar": {
              "outlinewidth": 0,
              "ticks": ""
             }
            },
            "type": "scatterpolar"
           }
          ],
          "scatterpolargl": [
           {
            "marker": {
             "colorbar": {
              "outlinewidth": 0,
              "ticks": ""
             }
            },
            "type": "scatterpolargl"
           }
          ],
          "scatterternary": [
           {
            "marker": {
             "colorbar": {
              "outlinewidth": 0,
              "ticks": ""
             }
            },
            "type": "scatterternary"
           }
          ],
          "surface": [
           {
            "colorbar": {
             "outlinewidth": 0,
             "ticks": ""
            },
            "colorscale": [
             [
              0,
              "#0d0887"
             ],
             [
              0.1111111111111111,
              "#46039f"
             ],
             [
              0.2222222222222222,
              "#7201a8"
             ],
             [
              0.3333333333333333,
              "#9c179e"
             ],
             [
              0.4444444444444444,
              "#bd3786"
             ],
             [
              0.5555555555555556,
              "#d8576b"
             ],
             [
              0.6666666666666666,
              "#ed7953"
             ],
             [
              0.7777777777777778,
              "#fb9f3a"
             ],
             [
              0.8888888888888888,
              "#fdca26"
             ],
             [
              1,
              "#f0f921"
             ]
            ],
            "type": "surface"
           }
          ],
          "table": [
           {
            "cells": {
             "fill": {
              "color": "#EBF0F8"
             },
             "line": {
              "color": "white"
             }
            },
            "header": {
             "fill": {
              "color": "#C8D4E3"
             },
             "line": {
              "color": "white"
             }
            },
            "type": "table"
           }
          ]
         },
         "layout": {
          "annotationdefaults": {
           "arrowcolor": "#2a3f5f",
           "arrowhead": 0,
           "arrowwidth": 1
          },
          "autotypenumbers": "strict",
          "coloraxis": {
           "colorbar": {
            "outlinewidth": 0,
            "ticks": ""
           }
          },
          "colorscale": {
           "diverging": [
            [
             0,
             "#8e0152"
            ],
            [
             0.1,
             "#c51b7d"
            ],
            [
             0.2,
             "#de77ae"
            ],
            [
             0.3,
             "#f1b6da"
            ],
            [
             0.4,
             "#fde0ef"
            ],
            [
             0.5,
             "#f7f7f7"
            ],
            [
             0.6,
             "#e6f5d0"
            ],
            [
             0.7,
             "#b8e186"
            ],
            [
             0.8,
             "#7fbc41"
            ],
            [
             0.9,
             "#4d9221"
            ],
            [
             1,
             "#276419"
            ]
           ],
           "sequential": [
            [
             0,
             "#0d0887"
            ],
            [
             0.1111111111111111,
             "#46039f"
            ],
            [
             0.2222222222222222,
             "#7201a8"
            ],
            [
             0.3333333333333333,
             "#9c179e"
            ],
            [
             0.4444444444444444,
             "#bd3786"
            ],
            [
             0.5555555555555556,
             "#d8576b"
            ],
            [
             0.6666666666666666,
             "#ed7953"
            ],
            [
             0.7777777777777778,
             "#fb9f3a"
            ],
            [
             0.8888888888888888,
             "#fdca26"
            ],
            [
             1,
             "#f0f921"
            ]
           ],
           "sequentialminus": [
            [
             0,
             "#0d0887"
            ],
            [
             0.1111111111111111,
             "#46039f"
            ],
            [
             0.2222222222222222,
             "#7201a8"
            ],
            [
             0.3333333333333333,
             "#9c179e"
            ],
            [
             0.4444444444444444,
             "#bd3786"
            ],
            [
             0.5555555555555556,
             "#d8576b"
            ],
            [
             0.6666666666666666,
             "#ed7953"
            ],
            [
             0.7777777777777778,
             "#fb9f3a"
            ],
            [
             0.8888888888888888,
             "#fdca26"
            ],
            [
             1,
             "#f0f921"
            ]
           ]
          },
          "colorway": [
           "#636efa",
           "#EF553B",
           "#00cc96",
           "#ab63fa",
           "#FFA15A",
           "#19d3f3",
           "#FF6692",
           "#B6E880",
           "#FF97FF",
           "#FECB52"
          ],
          "font": {
           "color": "#2a3f5f"
          },
          "geo": {
           "bgcolor": "white",
           "lakecolor": "white",
           "landcolor": "#E5ECF6",
           "showlakes": true,
           "showland": true,
           "subunitcolor": "white"
          },
          "hoverlabel": {
           "align": "left"
          },
          "hovermode": "closest",
          "mapbox": {
           "style": "light"
          },
          "paper_bgcolor": "white",
          "plot_bgcolor": "#E5ECF6",
          "polar": {
           "angularaxis": {
            "gridcolor": "white",
            "linecolor": "white",
            "ticks": ""
           },
           "bgcolor": "#E5ECF6",
           "radialaxis": {
            "gridcolor": "white",
            "linecolor": "white",
            "ticks": ""
           }
          },
          "scene": {
           "xaxis": {
            "backgroundcolor": "#E5ECF6",
            "gridcolor": "white",
            "gridwidth": 2,
            "linecolor": "white",
            "showbackground": true,
            "ticks": "",
            "zerolinecolor": "white"
           },
           "yaxis": {
            "backgroundcolor": "#E5ECF6",
            "gridcolor": "white",
            "gridwidth": 2,
            "linecolor": "white",
            "showbackground": true,
            "ticks": "",
            "zerolinecolor": "white"
           },
           "zaxis": {
            "backgroundcolor": "#E5ECF6",
            "gridcolor": "white",
            "gridwidth": 2,
            "linecolor": "white",
            "showbackground": true,
            "ticks": "",
            "zerolinecolor": "white"
           }
          },
          "shapedefaults": {
           "line": {
            "color": "#2a3f5f"
           }
          },
          "ternary": {
           "aaxis": {
            "gridcolor": "white",
            "linecolor": "white",
            "ticks": ""
           },
           "baxis": {
            "gridcolor": "white",
            "linecolor": "white",
            "ticks": ""
           },
           "bgcolor": "#E5ECF6",
           "caxis": {
            "gridcolor": "white",
            "linecolor": "white",
            "ticks": ""
           }
          },
          "title": {
           "x": 0.05
          },
          "xaxis": {
           "automargin": true,
           "gridcolor": "white",
           "linecolor": "white",
           "ticks": "",
           "title": {
            "standoff": 15
           },
           "zerolinecolor": "white",
           "zerolinewidth": 2
          },
          "yaxis": {
           "automargin": true,
           "gridcolor": "white",
           "linecolor": "white",
           "ticks": "",
           "title": {
            "standoff": 15
           },
           "zerolinecolor": "white",
           "zerolinewidth": 2
          }
         }
        },
        "title": {
         "text": "10 YouTube Account that comments have most reply"
        },
        "xaxis": {
         "anchor": "y",
         "categoryarray": [
          "skinnyindonesian24",
          "ZUHUDIL ASHAR",
          "Zhara",
          "HEN DRI",
          "Ikyszz Official",
          "Leslar Entertainment IG",
          "DICROSZ Easy",
          "anne katreena",
          "Mojang Priangan",
          "IzkvD"
         ],
         "categoryorder": "array",
         "domain": [
          0,
          1
         ],
         "title": {
          "text": "Youtube_Account"
         }
        },
        "yaxis": {
         "anchor": "x",
         "domain": [
          0,
          1
         ],
         "title": {
          "text": "reply_count"
         }
        }
       }
      }
     },
     "metadata": {},
     "output_type": "display_data"
    }
   ],
   "source": [
    "account = data['Name'].value_counts().head(10)\n",
    "account = pd.DataFrame(data=account)\n",
    "account.reset_index(inplace=True)\n",
    "account = account.rename(columns = {\"index\" : \"Youtube_Account\",\n",
    "                                    'Name': \"reply_count\"})\n",
    "fig = px.bar(account, x='Youtube_Account', y='reply_count',\n",
    "            color='Youtube_Account', title='10 YouTube Account that comments have most reply')\n",
    "fig.show()"
   ]
  },
  {
   "cell_type": "markdown",
   "metadata": {},
   "source": [
    "### Peak time to comments"
   ]
  },
  {
   "cell_type": "code",
   "execution_count": 25,
   "metadata": {},
   "outputs": [],
   "source": [
    "peak_time = data.copy()\n",
    "times = peak_time['Time']"
   ]
  },
  {
   "cell_type": "code",
   "execution_count": 26,
   "metadata": {},
   "outputs": [
    {
     "data": {
      "text/html": [
       "<div>\n",
       "<style scoped>\n",
       "    .dataframe tbody tr th:only-of-type {\n",
       "        vertical-align: middle;\n",
       "    }\n",
       "\n",
       "    .dataframe tbody tr th {\n",
       "        vertical-align: top;\n",
       "    }\n",
       "\n",
       "    .dataframe thead th {\n",
       "        text-align: right;\n",
       "    }\n",
       "</style>\n",
       "<table border=\"1\" class=\"dataframe\">\n",
       "  <thead>\n",
       "    <tr style=\"text-align: right;\">\n",
       "      <th></th>\n",
       "      <th>Video_Id</th>\n",
       "      <th>Tittle</th>\n",
       "      <th>Description</th>\n",
       "      <th>Name</th>\n",
       "      <th>Comment</th>\n",
       "      <th>Comment_Id</th>\n",
       "      <th>Time</th>\n",
       "      <th>Likes</th>\n",
       "      <th>Reply_Count</th>\n",
       "      <th>Label</th>\n",
       "      <th>Length_Comment</th>\n",
       "      <th>Date</th>\n",
       "    </tr>\n",
       "  </thead>\n",
       "  <tbody>\n",
       "    <tr>\n",
       "      <th>0</th>\n",
       "      <td>0iLgiRBQzzs</td>\n",
       "      <td>Panas! Jokowi VS Prabowo Saling Serang soal Ko...</td>\n",
       "      <td>Debat panas antara kedua pasangan calon presid...</td>\n",
       "      <td>Doharman Patimura Waruwu</td>\n",
       "      <td>https://youtu.be/LBKGyxnpMCU</td>\n",
       "      <td>Ugz-zdD0s87dSDzITuh4AaABAg</td>\n",
       "      <td>2019-01-17 23:06:24</td>\n",
       "      <td>0</td>\n",
       "      <td>0</td>\n",
       "      <td>spam</td>\n",
       "      <td>28</td>\n",
       "      <td>Thursday</td>\n",
       "    </tr>\n",
       "    <tr>\n",
       "      <th>1</th>\n",
       "      <td>AP0NACavjfk</td>\n",
       "      <td>SkinnyIndonesian24 | Prabowo VS Jokowi - Epic ...</td>\n",
       "      <td>SkinnyIndonesian24 ( Andovi da Lopez sebagai J...</td>\n",
       "      <td>Akiru Syakir</td>\n",
       "      <td>Bantu subscribe youtube gw dong</td>\n",
       "      <td>UgwQM2OHIzkVDtu0PIN4AaABAg</td>\n",
       "      <td>2019-04-10 22:40:00</td>\n",
       "      <td>0</td>\n",
       "      <td>0</td>\n",
       "      <td>spam</td>\n",
       "      <td>31</td>\n",
       "      <td>Wednesday</td>\n",
       "    </tr>\n",
       "    <tr>\n",
       "      <th>2</th>\n",
       "      <td>AP0NACavjfk</td>\n",
       "      <td>SkinnyIndonesian24 | Prabowo VS Jokowi - Epic ...</td>\n",
       "      <td>SkinnyIndonesian24 ( Andovi da Lopez sebagai J...</td>\n",
       "      <td>Teguh Wage Prakoso</td>\n",
       "      <td>hachimon tonkou, kalau buka gerbang ke 8 auto ...</td>\n",
       "      <td>Ugyh7dOOI2953Exf3cp4AaABAg.8tUY_eVh77e8tUhBosQJLg</td>\n",
       "      <td>2019-04-09 02:50:06</td>\n",
       "      <td>0</td>\n",
       "      <td>0</td>\n",
       "      <td>spam</td>\n",
       "      <td>57</td>\n",
       "      <td>Tuesday</td>\n",
       "    </tr>\n",
       "    <tr>\n",
       "      <th>3</th>\n",
       "      <td>AP0NACavjfk</td>\n",
       "      <td>SkinnyIndonesian24 | Prabowo VS Jokowi - Epic ...</td>\n",
       "      <td>SkinnyIndonesian24 ( Andovi da Lopez sebagai J...</td>\n",
       "      <td>hidayah</td>\n",
       "      <td>https://www.youtube.com/channel/UC_iQ1hcNxz1ir...</td>\n",
       "      <td>UgxA-h0VMWXoShPkFEZ4AaABAg</td>\n",
       "      <td>2019-04-10 12:25:49</td>\n",
       "      <td>0</td>\n",
       "      <td>0</td>\n",
       "      <td>spam</td>\n",
       "      <td>56</td>\n",
       "      <td>Wednesday</td>\n",
       "    </tr>\n",
       "    <tr>\n",
       "      <th>4</th>\n",
       "      <td>AP0NACavjfk</td>\n",
       "      <td>SkinnyIndonesian24 | Prabowo VS Jokowi - Epic ...</td>\n",
       "      <td>SkinnyIndonesian24 ( Andovi da Lopez sebagai J...</td>\n",
       "      <td>Derisma Ae</td>\n",
       "      <td>https://youtu.be/aS1FIPcCuh4 CH: Derisma ae, m...</td>\n",
       "      <td>UgybtnYbYjDF7YZJAdN4AaABAg</td>\n",
       "      <td>2019-04-15 16:00:05</td>\n",
       "      <td>0</td>\n",
       "      <td>0</td>\n",
       "      <td>spam</td>\n",
       "      <td>88</td>\n",
       "      <td>Monday</td>\n",
       "    </tr>\n",
       "  </tbody>\n",
       "</table>\n",
       "</div>"
      ],
      "text/plain": [
       "      Video_Id                                             Tittle  \\\n",
       "0  0iLgiRBQzzs  Panas! Jokowi VS Prabowo Saling Serang soal Ko...   \n",
       "1  AP0NACavjfk  SkinnyIndonesian24 | Prabowo VS Jokowi - Epic ...   \n",
       "2  AP0NACavjfk  SkinnyIndonesian24 | Prabowo VS Jokowi - Epic ...   \n",
       "3  AP0NACavjfk  SkinnyIndonesian24 | Prabowo VS Jokowi - Epic ...   \n",
       "4  AP0NACavjfk  SkinnyIndonesian24 | Prabowo VS Jokowi - Epic ...   \n",
       "\n",
       "                                         Description  \\\n",
       "0  Debat panas antara kedua pasangan calon presid...   \n",
       "1  SkinnyIndonesian24 ( Andovi da Lopez sebagai J...   \n",
       "2  SkinnyIndonesian24 ( Andovi da Lopez sebagai J...   \n",
       "3  SkinnyIndonesian24 ( Andovi da Lopez sebagai J...   \n",
       "4  SkinnyIndonesian24 ( Andovi da Lopez sebagai J...   \n",
       "\n",
       "                       Name  \\\n",
       "0  Doharman Patimura Waruwu   \n",
       "1              Akiru Syakir   \n",
       "2        Teguh Wage Prakoso   \n",
       "3                   hidayah   \n",
       "4                Derisma Ae   \n",
       "\n",
       "                                             Comment  \\\n",
       "0                       https://youtu.be/LBKGyxnpMCU   \n",
       "1                    Bantu subscribe youtube gw dong   \n",
       "2  hachimon tonkou, kalau buka gerbang ke 8 auto ...   \n",
       "3  https://www.youtube.com/channel/UC_iQ1hcNxz1ir...   \n",
       "4  https://youtu.be/aS1FIPcCuh4 CH: Derisma ae, m...   \n",
       "\n",
       "                                          Comment_Id                Time  \\\n",
       "0                         Ugz-zdD0s87dSDzITuh4AaABAg 2019-01-17 23:06:24   \n",
       "1                         UgwQM2OHIzkVDtu0PIN4AaABAg 2019-04-10 22:40:00   \n",
       "2  Ugyh7dOOI2953Exf3cp4AaABAg.8tUY_eVh77e8tUhBosQJLg 2019-04-09 02:50:06   \n",
       "3                         UgxA-h0VMWXoShPkFEZ4AaABAg 2019-04-10 12:25:49   \n",
       "4                         UgybtnYbYjDF7YZJAdN4AaABAg 2019-04-15 16:00:05   \n",
       "\n",
       "   Likes  Reply_Count Label  Length_Comment       Date  \n",
       "0      0            0  spam              28   Thursday  \n",
       "1      0            0  spam              31  Wednesday  \n",
       "2      0            0  spam              57    Tuesday  \n",
       "3      0            0  spam              56  Wednesday  \n",
       "4      0            0  spam              88     Monday  "
      ]
     },
     "execution_count": 26,
     "metadata": {},
     "output_type": "execute_result"
    }
   ],
   "source": [
    "peak_time[\"Date\"] = peak_time[\"Time\"].dt.day_name()\n",
    "peak_time.head(5)"
   ]
  },
  {
   "cell_type": "code",
   "execution_count": 27,
   "metadata": {},
   "outputs": [
    {
     "data": {
      "text/plain": [
       "0    23:06:24\n",
       "1    22:40:00\n",
       "2    02:50:06\n",
       "3    12:25:49\n",
       "4    16:00:05\n",
       "Name: Period, dtype: object"
      ]
     },
     "execution_count": 27,
     "metadata": {},
     "output_type": "execute_result"
    }
   ],
   "source": [
    "def time(date):\n",
    "    Time = date.time()\n",
    "    return Time\n",
    "\n",
    "peak_time['Period'] = times.map(time)\n",
    "peak_time['Period'].head()"
   ]
  },
  {
   "cell_type": "code",
   "execution_count": 28,
   "metadata": {},
   "outputs": [],
   "source": [
    "def time_groups(time):\n",
    "    if time >= datetime.time(0,0) and time <= datetime.time(1,0):\n",
    "        return '24:00 - 01:00'\n",
    "    elif time >= datetime.time(1,0) and time <= datetime.time(2,0):\n",
    "        return '01:00 - 02:00 '\n",
    "    elif time >= datetime.time(2,0) and time <= datetime.time(3,0):\n",
    "        return '02:00 - 03:00 '\n",
    "    elif time >= datetime.time(3,0) and time <= datetime.time(4,0):\n",
    "        return '03:00 - 04:00'\n",
    "    elif time >= datetime.time(4,0) and time <= datetime.time(5,0):\n",
    "        return '04:00 - 05:00'\n",
    "    elif time >= datetime.time(5,0) and time <= datetime.time(6,0):\n",
    "        return '05:00 - 06:00 '\n",
    "    elif time >= datetime.time(6,0) and time <= datetime.time(7,0):\n",
    "        return '06:00 - 07:00 '\n",
    "    elif time >= datetime.time(7,0) and time <= datetime.time(8,0):\n",
    "        return '07:00 - 08:00 '\n",
    "    elif time >= datetime.time(8,0) and time <= datetime.time(9,0):\n",
    "        return '08:00 - 09:00 '\n",
    "    elif time >= datetime.time(9,0) and time <= datetime.time(10,0):\n",
    "        return '09:00 - 10:00 '\n",
    "    elif time >= datetime.time(10,0) and time <= datetime.time(11,0):\n",
    "        return '10:00 - 11:00 '\n",
    "    elif time >= datetime.time(11,0) and time <= datetime.time(12,0):\n",
    "        return '11:00 - 12:00'\n",
    "    elif time >= datetime.time(12,0) and time <= datetime.time(13,0):\n",
    "        return '12:00 - 13:00'\n",
    "    elif time >= datetime.time(13,0) and time <= datetime.time(14,0):\n",
    "        return '13:00 - 14:00'\n",
    "    elif time >= datetime.time(14,0) and time <= datetime.time(15,0):\n",
    "        return '14:00 - 15:00'\n",
    "    elif time >= datetime.time(15,0) and time <= datetime.time(16,0):\n",
    "        return '15:00 - 16:00'\n",
    "    elif time >= datetime.time(16,0) and time <= datetime.time(17,0):\n",
    "        return '16:00 - 17:00'\n",
    "    elif time >= datetime.time(17,0) and time <= datetime.time(18,0):\n",
    "        return '17:00 - 18:00'\n",
    "    elif time >= datetime.time(18,0) and time <= datetime.time(19,0):\n",
    "        return '18:00 - 19:00'\n",
    "    elif time >= datetime.time(19,0) and time <= datetime.time(20,0):\n",
    "        return '19:00 - 20:00'\n",
    "    elif time >= datetime.time(20,0) and time <= datetime.time(21,0):\n",
    "        return '20:00 - 21:00'\n",
    "    elif time >= datetime.time(21,0) and time <= datetime.time(22,0):\n",
    "        return '21:00 - 22:00'\n",
    "    elif time >= datetime.time(22,0) and time <= datetime.time(23,0):\n",
    "        return '22:00 - 23:00'\n",
    "    else:\n",
    "        return '23:00 - 24:00'"
   ]
  },
  {
   "cell_type": "code",
   "execution_count": 29,
   "metadata": {},
   "outputs": [
    {
     "data": {
      "text/html": [
       "<div>\n",
       "<style scoped>\n",
       "    .dataframe tbody tr th:only-of-type {\n",
       "        vertical-align: middle;\n",
       "    }\n",
       "\n",
       "    .dataframe tbody tr th {\n",
       "        vertical-align: top;\n",
       "    }\n",
       "\n",
       "    .dataframe thead th {\n",
       "        text-align: right;\n",
       "    }\n",
       "</style>\n",
       "<table border=\"1\" class=\"dataframe\">\n",
       "  <thead>\n",
       "    <tr style=\"text-align: right;\">\n",
       "      <th></th>\n",
       "      <th>Video_Id</th>\n",
       "      <th>Tittle</th>\n",
       "      <th>Description</th>\n",
       "      <th>Name</th>\n",
       "      <th>Comment</th>\n",
       "      <th>Comment_Id</th>\n",
       "      <th>Time</th>\n",
       "      <th>Likes</th>\n",
       "      <th>Reply_Count</th>\n",
       "      <th>Label</th>\n",
       "      <th>Length_Comment</th>\n",
       "      <th>Date</th>\n",
       "      <th>Period</th>\n",
       "      <th>Period_groups</th>\n",
       "    </tr>\n",
       "  </thead>\n",
       "  <tbody>\n",
       "    <tr>\n",
       "      <th>0</th>\n",
       "      <td>0iLgiRBQzzs</td>\n",
       "      <td>Panas! Jokowi VS Prabowo Saling Serang soal Ko...</td>\n",
       "      <td>Debat panas antara kedua pasangan calon presid...</td>\n",
       "      <td>Doharman Patimura Waruwu</td>\n",
       "      <td>https://youtu.be/LBKGyxnpMCU</td>\n",
       "      <td>Ugz-zdD0s87dSDzITuh4AaABAg</td>\n",
       "      <td>2019-01-17 23:06:24</td>\n",
       "      <td>0</td>\n",
       "      <td>0</td>\n",
       "      <td>spam</td>\n",
       "      <td>28</td>\n",
       "      <td>Thursday</td>\n",
       "      <td>23:06:24</td>\n",
       "      <td>23:00 - 24:00</td>\n",
       "    </tr>\n",
       "    <tr>\n",
       "      <th>1</th>\n",
       "      <td>AP0NACavjfk</td>\n",
       "      <td>SkinnyIndonesian24 | Prabowo VS Jokowi - Epic ...</td>\n",
       "      <td>SkinnyIndonesian24 ( Andovi da Lopez sebagai J...</td>\n",
       "      <td>Akiru Syakir</td>\n",
       "      <td>Bantu subscribe youtube gw dong</td>\n",
       "      <td>UgwQM2OHIzkVDtu0PIN4AaABAg</td>\n",
       "      <td>2019-04-10 22:40:00</td>\n",
       "      <td>0</td>\n",
       "      <td>0</td>\n",
       "      <td>spam</td>\n",
       "      <td>31</td>\n",
       "      <td>Wednesday</td>\n",
       "      <td>22:40:00</td>\n",
       "      <td>22:00 - 23:00</td>\n",
       "    </tr>\n",
       "    <tr>\n",
       "      <th>2</th>\n",
       "      <td>AP0NACavjfk</td>\n",
       "      <td>SkinnyIndonesian24 | Prabowo VS Jokowi - Epic ...</td>\n",
       "      <td>SkinnyIndonesian24 ( Andovi da Lopez sebagai J...</td>\n",
       "      <td>Teguh Wage Prakoso</td>\n",
       "      <td>hachimon tonkou, kalau buka gerbang ke 8 auto ...</td>\n",
       "      <td>Ugyh7dOOI2953Exf3cp4AaABAg.8tUY_eVh77e8tUhBosQJLg</td>\n",
       "      <td>2019-04-09 02:50:06</td>\n",
       "      <td>0</td>\n",
       "      <td>0</td>\n",
       "      <td>spam</td>\n",
       "      <td>57</td>\n",
       "      <td>Tuesday</td>\n",
       "      <td>02:50:06</td>\n",
       "      <td>02:00 - 03:00</td>\n",
       "    </tr>\n",
       "    <tr>\n",
       "      <th>3</th>\n",
       "      <td>AP0NACavjfk</td>\n",
       "      <td>SkinnyIndonesian24 | Prabowo VS Jokowi - Epic ...</td>\n",
       "      <td>SkinnyIndonesian24 ( Andovi da Lopez sebagai J...</td>\n",
       "      <td>hidayah</td>\n",
       "      <td>https://www.youtube.com/channel/UC_iQ1hcNxz1ir...</td>\n",
       "      <td>UgxA-h0VMWXoShPkFEZ4AaABAg</td>\n",
       "      <td>2019-04-10 12:25:49</td>\n",
       "      <td>0</td>\n",
       "      <td>0</td>\n",
       "      <td>spam</td>\n",
       "      <td>56</td>\n",
       "      <td>Wednesday</td>\n",
       "      <td>12:25:49</td>\n",
       "      <td>12:00 - 13:00</td>\n",
       "    </tr>\n",
       "    <tr>\n",
       "      <th>4</th>\n",
       "      <td>AP0NACavjfk</td>\n",
       "      <td>SkinnyIndonesian24 | Prabowo VS Jokowi - Epic ...</td>\n",
       "      <td>SkinnyIndonesian24 ( Andovi da Lopez sebagai J...</td>\n",
       "      <td>Derisma Ae</td>\n",
       "      <td>https://youtu.be/aS1FIPcCuh4 CH: Derisma ae, m...</td>\n",
       "      <td>UgybtnYbYjDF7YZJAdN4AaABAg</td>\n",
       "      <td>2019-04-15 16:00:05</td>\n",
       "      <td>0</td>\n",
       "      <td>0</td>\n",
       "      <td>spam</td>\n",
       "      <td>88</td>\n",
       "      <td>Monday</td>\n",
       "      <td>16:00:05</td>\n",
       "      <td>16:00 - 17:00</td>\n",
       "    </tr>\n",
       "  </tbody>\n",
       "</table>\n",
       "</div>"
      ],
      "text/plain": [
       "      Video_Id                                             Tittle  \\\n",
       "0  0iLgiRBQzzs  Panas! Jokowi VS Prabowo Saling Serang soal Ko...   \n",
       "1  AP0NACavjfk  SkinnyIndonesian24 | Prabowo VS Jokowi - Epic ...   \n",
       "2  AP0NACavjfk  SkinnyIndonesian24 | Prabowo VS Jokowi - Epic ...   \n",
       "3  AP0NACavjfk  SkinnyIndonesian24 | Prabowo VS Jokowi - Epic ...   \n",
       "4  AP0NACavjfk  SkinnyIndonesian24 | Prabowo VS Jokowi - Epic ...   \n",
       "\n",
       "                                         Description  \\\n",
       "0  Debat panas antara kedua pasangan calon presid...   \n",
       "1  SkinnyIndonesian24 ( Andovi da Lopez sebagai J...   \n",
       "2  SkinnyIndonesian24 ( Andovi da Lopez sebagai J...   \n",
       "3  SkinnyIndonesian24 ( Andovi da Lopez sebagai J...   \n",
       "4  SkinnyIndonesian24 ( Andovi da Lopez sebagai J...   \n",
       "\n",
       "                       Name  \\\n",
       "0  Doharman Patimura Waruwu   \n",
       "1              Akiru Syakir   \n",
       "2        Teguh Wage Prakoso   \n",
       "3                   hidayah   \n",
       "4                Derisma Ae   \n",
       "\n",
       "                                             Comment  \\\n",
       "0                       https://youtu.be/LBKGyxnpMCU   \n",
       "1                    Bantu subscribe youtube gw dong   \n",
       "2  hachimon tonkou, kalau buka gerbang ke 8 auto ...   \n",
       "3  https://www.youtube.com/channel/UC_iQ1hcNxz1ir...   \n",
       "4  https://youtu.be/aS1FIPcCuh4 CH: Derisma ae, m...   \n",
       "\n",
       "                                          Comment_Id                Time  \\\n",
       "0                         Ugz-zdD0s87dSDzITuh4AaABAg 2019-01-17 23:06:24   \n",
       "1                         UgwQM2OHIzkVDtu0PIN4AaABAg 2019-04-10 22:40:00   \n",
       "2  Ugyh7dOOI2953Exf3cp4AaABAg.8tUY_eVh77e8tUhBosQJLg 2019-04-09 02:50:06   \n",
       "3                         UgxA-h0VMWXoShPkFEZ4AaABAg 2019-04-10 12:25:49   \n",
       "4                         UgybtnYbYjDF7YZJAdN4AaABAg 2019-04-15 16:00:05   \n",
       "\n",
       "   Likes  Reply_Count Label  Length_Comment       Date    Period  \\\n",
       "0      0            0  spam              28   Thursday  23:06:24   \n",
       "1      0            0  spam              31  Wednesday  22:40:00   \n",
       "2      0            0  spam              57    Tuesday  02:50:06   \n",
       "3      0            0  spam              56  Wednesday  12:25:49   \n",
       "4      0            0  spam              88     Monday  16:00:05   \n",
       "\n",
       "    Period_groups  \n",
       "0   23:00 - 24:00  \n",
       "1   22:00 - 23:00  \n",
       "2  02:00 - 03:00   \n",
       "3   12:00 - 13:00  \n",
       "4   16:00 - 17:00  "
      ]
     },
     "execution_count": 29,
     "metadata": {},
     "output_type": "execute_result"
    }
   ],
   "source": [
    "peak_time[\"Period_groups\"] = peak_time['Period'].map(time_groups)\n",
    "peak_time.head()"
   ]
  },
  {
   "cell_type": "code",
   "execution_count": 30,
   "metadata": {},
   "outputs": [
    {
     "data": {
      "application/vnd.plotly.v1+json": {
       "config": {
        "plotlyServerURL": "https://plot.ly"
       },
       "data": [
        {
         "alignmentgroup": "True",
         "hovertemplate": "Time=%{x}<br>Most Comment=%{y}<extra></extra>",
         "legendgroup": "13:00 - 14:00",
         "marker": {
          "color": "#636efa",
          "pattern": {
           "shape": ""
          }
         },
         "name": "13:00 - 14:00",
         "offsetgroup": "13:00 - 14:00",
         "orientation": "v",
         "showlegend": true,
         "textposition": "auto",
         "type": "bar",
         "x": [
          "13:00 - 14:00"
         ],
         "xaxis": "x",
         "y": [
          198
         ],
         "yaxis": "y"
        },
        {
         "alignmentgroup": "True",
         "hovertemplate": "Time=%{x}<br>Most Comment=%{y}<extra></extra>",
         "legendgroup": "14:00 - 15:00",
         "marker": {
          "color": "#EF553B",
          "pattern": {
           "shape": ""
          }
         },
         "name": "14:00 - 15:00",
         "offsetgroup": "14:00 - 15:00",
         "orientation": "v",
         "showlegend": true,
         "textposition": "auto",
         "type": "bar",
         "x": [
          "14:00 - 15:00"
         ],
         "xaxis": "x",
         "y": [
          195
         ],
         "yaxis": "y"
        },
        {
         "alignmentgroup": "True",
         "hovertemplate": "Time=%{x}<br>Most Comment=%{y}<extra></extra>",
         "legendgroup": "15:00 - 16:00",
         "marker": {
          "color": "#00cc96",
          "pattern": {
           "shape": ""
          }
         },
         "name": "15:00 - 16:00",
         "offsetgroup": "15:00 - 16:00",
         "orientation": "v",
         "showlegend": true,
         "textposition": "auto",
         "type": "bar",
         "x": [
          "15:00 - 16:00"
         ],
         "xaxis": "x",
         "y": [
          168
         ],
         "yaxis": "y"
        },
        {
         "alignmentgroup": "True",
         "hovertemplate": "Time=%{x}<br>Most Comment=%{y}<extra></extra>",
         "legendgroup": "12:00 - 13:00",
         "marker": {
          "color": "#ab63fa",
          "pattern": {
           "shape": ""
          }
         },
         "name": "12:00 - 13:00",
         "offsetgroup": "12:00 - 13:00",
         "orientation": "v",
         "showlegend": true,
         "textposition": "auto",
         "type": "bar",
         "x": [
          "12:00 - 13:00"
         ],
         "xaxis": "x",
         "y": [
          163
         ],
         "yaxis": "y"
        },
        {
         "alignmentgroup": "True",
         "hovertemplate": "Time=%{x}<br>Most Comment=%{y}<extra></extra>",
         "legendgroup": "09:00 - 10:00 ",
         "marker": {
          "color": "#FFA15A",
          "pattern": {
           "shape": ""
          }
         },
         "name": "09:00 - 10:00 ",
         "offsetgroup": "09:00 - 10:00 ",
         "orientation": "v",
         "showlegend": true,
         "textposition": "auto",
         "type": "bar",
         "x": [
          "09:00 - 10:00 "
         ],
         "xaxis": "x",
         "y": [
          158
         ],
         "yaxis": "y"
        },
        {
         "alignmentgroup": "True",
         "hovertemplate": "Time=%{x}<br>Most Comment=%{y}<extra></extra>",
         "legendgroup": "11:00 - 12:00",
         "marker": {
          "color": "#19d3f3",
          "pattern": {
           "shape": ""
          }
         },
         "name": "11:00 - 12:00",
         "offsetgroup": "11:00 - 12:00",
         "orientation": "v",
         "showlegend": true,
         "textposition": "auto",
         "type": "bar",
         "x": [
          "11:00 - 12:00"
         ],
         "xaxis": "x",
         "y": [
          151
         ],
         "yaxis": "y"
        },
        {
         "alignmentgroup": "True",
         "hovertemplate": "Time=%{x}<br>Most Comment=%{y}<extra></extra>",
         "legendgroup": "08:00 - 09:00 ",
         "marker": {
          "color": "#FF6692",
          "pattern": {
           "shape": ""
          }
         },
         "name": "08:00 - 09:00 ",
         "offsetgroup": "08:00 - 09:00 ",
         "orientation": "v",
         "showlegend": true,
         "textposition": "auto",
         "type": "bar",
         "x": [
          "08:00 - 09:00 "
         ],
         "xaxis": "x",
         "y": [
          145
         ],
         "yaxis": "y"
        },
        {
         "alignmentgroup": "True",
         "hovertemplate": "Time=%{x}<br>Most Comment=%{y}<extra></extra>",
         "legendgroup": "07:00 - 08:00 ",
         "marker": {
          "color": "#B6E880",
          "pattern": {
           "shape": ""
          }
         },
         "name": "07:00 - 08:00 ",
         "offsetgroup": "07:00 - 08:00 ",
         "orientation": "v",
         "showlegend": true,
         "textposition": "auto",
         "type": "bar",
         "x": [
          "07:00 - 08:00 "
         ],
         "xaxis": "x",
         "y": [
          143
         ],
         "yaxis": "y"
        },
        {
         "alignmentgroup": "True",
         "hovertemplate": "Time=%{x}<br>Most Comment=%{y}<extra></extra>",
         "legendgroup": "10:00 - 11:00 ",
         "marker": {
          "color": "#FF97FF",
          "pattern": {
           "shape": ""
          }
         },
         "name": "10:00 - 11:00 ",
         "offsetgroup": "10:00 - 11:00 ",
         "orientation": "v",
         "showlegend": true,
         "textposition": "auto",
         "type": "bar",
         "x": [
          "10:00 - 11:00 "
         ],
         "xaxis": "x",
         "y": [
          142
         ],
         "yaxis": "y"
        },
        {
         "alignmentgroup": "True",
         "hovertemplate": "Time=%{x}<br>Most Comment=%{y}<extra></extra>",
         "legendgroup": "05:00 - 06:00 ",
         "marker": {
          "color": "#FECB52",
          "pattern": {
           "shape": ""
          }
         },
         "name": "05:00 - 06:00 ",
         "offsetgroup": "05:00 - 06:00 ",
         "orientation": "v",
         "showlegend": true,
         "textposition": "auto",
         "type": "bar",
         "x": [
          "05:00 - 06:00 "
         ],
         "xaxis": "x",
         "y": [
          139
         ],
         "yaxis": "y"
        }
       ],
       "layout": {
        "barmode": "relative",
        "height": 400,
        "legend": {
         "title": {
          "text": "Time"
         },
         "tracegroupgap": 0
        },
        "template": {
         "data": {
          "bar": [
           {
            "error_x": {
             "color": "#2a3f5f"
            },
            "error_y": {
             "color": "#2a3f5f"
            },
            "marker": {
             "line": {
              "color": "#E5ECF6",
              "width": 0.5
             },
             "pattern": {
              "fillmode": "overlay",
              "size": 10,
              "solidity": 0.2
             }
            },
            "type": "bar"
           }
          ],
          "barpolar": [
           {
            "marker": {
             "line": {
              "color": "#E5ECF6",
              "width": 0.5
             },
             "pattern": {
              "fillmode": "overlay",
              "size": 10,
              "solidity": 0.2
             }
            },
            "type": "barpolar"
           }
          ],
          "carpet": [
           {
            "aaxis": {
             "endlinecolor": "#2a3f5f",
             "gridcolor": "white",
             "linecolor": "white",
             "minorgridcolor": "white",
             "startlinecolor": "#2a3f5f"
            },
            "baxis": {
             "endlinecolor": "#2a3f5f",
             "gridcolor": "white",
             "linecolor": "white",
             "minorgridcolor": "white",
             "startlinecolor": "#2a3f5f"
            },
            "type": "carpet"
           }
          ],
          "choropleth": [
           {
            "colorbar": {
             "outlinewidth": 0,
             "ticks": ""
            },
            "type": "choropleth"
           }
          ],
          "contour": [
           {
            "colorbar": {
             "outlinewidth": 0,
             "ticks": ""
            },
            "colorscale": [
             [
              0,
              "#0d0887"
             ],
             [
              0.1111111111111111,
              "#46039f"
             ],
             [
              0.2222222222222222,
              "#7201a8"
             ],
             [
              0.3333333333333333,
              "#9c179e"
             ],
             [
              0.4444444444444444,
              "#bd3786"
             ],
             [
              0.5555555555555556,
              "#d8576b"
             ],
             [
              0.6666666666666666,
              "#ed7953"
             ],
             [
              0.7777777777777778,
              "#fb9f3a"
             ],
             [
              0.8888888888888888,
              "#fdca26"
             ],
             [
              1,
              "#f0f921"
             ]
            ],
            "type": "contour"
           }
          ],
          "contourcarpet": [
           {
            "colorbar": {
             "outlinewidth": 0,
             "ticks": ""
            },
            "type": "contourcarpet"
           }
          ],
          "heatmap": [
           {
            "colorbar": {
             "outlinewidth": 0,
             "ticks": ""
            },
            "colorscale": [
             [
              0,
              "#0d0887"
             ],
             [
              0.1111111111111111,
              "#46039f"
             ],
             [
              0.2222222222222222,
              "#7201a8"
             ],
             [
              0.3333333333333333,
              "#9c179e"
             ],
             [
              0.4444444444444444,
              "#bd3786"
             ],
             [
              0.5555555555555556,
              "#d8576b"
             ],
             [
              0.6666666666666666,
              "#ed7953"
             ],
             [
              0.7777777777777778,
              "#fb9f3a"
             ],
             [
              0.8888888888888888,
              "#fdca26"
             ],
             [
              1,
              "#f0f921"
             ]
            ],
            "type": "heatmap"
           }
          ],
          "heatmapgl": [
           {
            "colorbar": {
             "outlinewidth": 0,
             "ticks": ""
            },
            "colorscale": [
             [
              0,
              "#0d0887"
             ],
             [
              0.1111111111111111,
              "#46039f"
             ],
             [
              0.2222222222222222,
              "#7201a8"
             ],
             [
              0.3333333333333333,
              "#9c179e"
             ],
             [
              0.4444444444444444,
              "#bd3786"
             ],
             [
              0.5555555555555556,
              "#d8576b"
             ],
             [
              0.6666666666666666,
              "#ed7953"
             ],
             [
              0.7777777777777778,
              "#fb9f3a"
             ],
             [
              0.8888888888888888,
              "#fdca26"
             ],
             [
              1,
              "#f0f921"
             ]
            ],
            "type": "heatmapgl"
           }
          ],
          "histogram": [
           {
            "marker": {
             "pattern": {
              "fillmode": "overlay",
              "size": 10,
              "solidity": 0.2
             }
            },
            "type": "histogram"
           }
          ],
          "histogram2d": [
           {
            "colorbar": {
             "outlinewidth": 0,
             "ticks": ""
            },
            "colorscale": [
             [
              0,
              "#0d0887"
             ],
             [
              0.1111111111111111,
              "#46039f"
             ],
             [
              0.2222222222222222,
              "#7201a8"
             ],
             [
              0.3333333333333333,
              "#9c179e"
             ],
             [
              0.4444444444444444,
              "#bd3786"
             ],
             [
              0.5555555555555556,
              "#d8576b"
             ],
             [
              0.6666666666666666,
              "#ed7953"
             ],
             [
              0.7777777777777778,
              "#fb9f3a"
             ],
             [
              0.8888888888888888,
              "#fdca26"
             ],
             [
              1,
              "#f0f921"
             ]
            ],
            "type": "histogram2d"
           }
          ],
          "histogram2dcontour": [
           {
            "colorbar": {
             "outlinewidth": 0,
             "ticks": ""
            },
            "colorscale": [
             [
              0,
              "#0d0887"
             ],
             [
              0.1111111111111111,
              "#46039f"
             ],
             [
              0.2222222222222222,
              "#7201a8"
             ],
             [
              0.3333333333333333,
              "#9c179e"
             ],
             [
              0.4444444444444444,
              "#bd3786"
             ],
             [
              0.5555555555555556,
              "#d8576b"
             ],
             [
              0.6666666666666666,
              "#ed7953"
             ],
             [
              0.7777777777777778,
              "#fb9f3a"
             ],
             [
              0.8888888888888888,
              "#fdca26"
             ],
             [
              1,
              "#f0f921"
             ]
            ],
            "type": "histogram2dcontour"
           }
          ],
          "mesh3d": [
           {
            "colorbar": {
             "outlinewidth": 0,
             "ticks": ""
            },
            "type": "mesh3d"
           }
          ],
          "parcoords": [
           {
            "line": {
             "colorbar": {
              "outlinewidth": 0,
              "ticks": ""
             }
            },
            "type": "parcoords"
           }
          ],
          "pie": [
           {
            "automargin": true,
            "type": "pie"
           }
          ],
          "scatter": [
           {
            "fillpattern": {
             "fillmode": "overlay",
             "size": 10,
             "solidity": 0.2
            },
            "type": "scatter"
           }
          ],
          "scatter3d": [
           {
            "line": {
             "colorbar": {
              "outlinewidth": 0,
              "ticks": ""
             }
            },
            "marker": {
             "colorbar": {
              "outlinewidth": 0,
              "ticks": ""
             }
            },
            "type": "scatter3d"
           }
          ],
          "scattercarpet": [
           {
            "marker": {
             "colorbar": {
              "outlinewidth": 0,
              "ticks": ""
             }
            },
            "type": "scattercarpet"
           }
          ],
          "scattergeo": [
           {
            "marker": {
             "colorbar": {
              "outlinewidth": 0,
              "ticks": ""
             }
            },
            "type": "scattergeo"
           }
          ],
          "scattergl": [
           {
            "marker": {
             "colorbar": {
              "outlinewidth": 0,
              "ticks": ""
             }
            },
            "type": "scattergl"
           }
          ],
          "scattermapbox": [
           {
            "marker": {
             "colorbar": {
              "outlinewidth": 0,
              "ticks": ""
             }
            },
            "type": "scattermapbox"
           }
          ],
          "scatterpolar": [
           {
            "marker": {
             "colorbar": {
              "outlinewidth": 0,
              "ticks": ""
             }
            },
            "type": "scatterpolar"
           }
          ],
          "scatterpolargl": [
           {
            "marker": {
             "colorbar": {
              "outlinewidth": 0,
              "ticks": ""
             }
            },
            "type": "scatterpolargl"
           }
          ],
          "scatterternary": [
           {
            "marker": {
             "colorbar": {
              "outlinewidth": 0,
              "ticks": ""
             }
            },
            "type": "scatterternary"
           }
          ],
          "surface": [
           {
            "colorbar": {
             "outlinewidth": 0,
             "ticks": ""
            },
            "colorscale": [
             [
              0,
              "#0d0887"
             ],
             [
              0.1111111111111111,
              "#46039f"
             ],
             [
              0.2222222222222222,
              "#7201a8"
             ],
             [
              0.3333333333333333,
              "#9c179e"
             ],
             [
              0.4444444444444444,
              "#bd3786"
             ],
             [
              0.5555555555555556,
              "#d8576b"
             ],
             [
              0.6666666666666666,
              "#ed7953"
             ],
             [
              0.7777777777777778,
              "#fb9f3a"
             ],
             [
              0.8888888888888888,
              "#fdca26"
             ],
             [
              1,
              "#f0f921"
             ]
            ],
            "type": "surface"
           }
          ],
          "table": [
           {
            "cells": {
             "fill": {
              "color": "#EBF0F8"
             },
             "line": {
              "color": "white"
             }
            },
            "header": {
             "fill": {
              "color": "#C8D4E3"
             },
             "line": {
              "color": "white"
             }
            },
            "type": "table"
           }
          ]
         },
         "layout": {
          "annotationdefaults": {
           "arrowcolor": "#2a3f5f",
           "arrowhead": 0,
           "arrowwidth": 1
          },
          "autotypenumbers": "strict",
          "coloraxis": {
           "colorbar": {
            "outlinewidth": 0,
            "ticks": ""
           }
          },
          "colorscale": {
           "diverging": [
            [
             0,
             "#8e0152"
            ],
            [
             0.1,
             "#c51b7d"
            ],
            [
             0.2,
             "#de77ae"
            ],
            [
             0.3,
             "#f1b6da"
            ],
            [
             0.4,
             "#fde0ef"
            ],
            [
             0.5,
             "#f7f7f7"
            ],
            [
             0.6,
             "#e6f5d0"
            ],
            [
             0.7,
             "#b8e186"
            ],
            [
             0.8,
             "#7fbc41"
            ],
            [
             0.9,
             "#4d9221"
            ],
            [
             1,
             "#276419"
            ]
           ],
           "sequential": [
            [
             0,
             "#0d0887"
            ],
            [
             0.1111111111111111,
             "#46039f"
            ],
            [
             0.2222222222222222,
             "#7201a8"
            ],
            [
             0.3333333333333333,
             "#9c179e"
            ],
            [
             0.4444444444444444,
             "#bd3786"
            ],
            [
             0.5555555555555556,
             "#d8576b"
            ],
            [
             0.6666666666666666,
             "#ed7953"
            ],
            [
             0.7777777777777778,
             "#fb9f3a"
            ],
            [
             0.8888888888888888,
             "#fdca26"
            ],
            [
             1,
             "#f0f921"
            ]
           ],
           "sequentialminus": [
            [
             0,
             "#0d0887"
            ],
            [
             0.1111111111111111,
             "#46039f"
            ],
            [
             0.2222222222222222,
             "#7201a8"
            ],
            [
             0.3333333333333333,
             "#9c179e"
            ],
            [
             0.4444444444444444,
             "#bd3786"
            ],
            [
             0.5555555555555556,
             "#d8576b"
            ],
            [
             0.6666666666666666,
             "#ed7953"
            ],
            [
             0.7777777777777778,
             "#fb9f3a"
            ],
            [
             0.8888888888888888,
             "#fdca26"
            ],
            [
             1,
             "#f0f921"
            ]
           ]
          },
          "colorway": [
           "#636efa",
           "#EF553B",
           "#00cc96",
           "#ab63fa",
           "#FFA15A",
           "#19d3f3",
           "#FF6692",
           "#B6E880",
           "#FF97FF",
           "#FECB52"
          ],
          "font": {
           "color": "#2a3f5f"
          },
          "geo": {
           "bgcolor": "white",
           "lakecolor": "white",
           "landcolor": "#E5ECF6",
           "showlakes": true,
           "showland": true,
           "subunitcolor": "white"
          },
          "hoverlabel": {
           "align": "left"
          },
          "hovermode": "closest",
          "mapbox": {
           "style": "light"
          },
          "paper_bgcolor": "white",
          "plot_bgcolor": "#E5ECF6",
          "polar": {
           "angularaxis": {
            "gridcolor": "white",
            "linecolor": "white",
            "ticks": ""
           },
           "bgcolor": "#E5ECF6",
           "radialaxis": {
            "gridcolor": "white",
            "linecolor": "white",
            "ticks": ""
           }
          },
          "scene": {
           "xaxis": {
            "backgroundcolor": "#E5ECF6",
            "gridcolor": "white",
            "gridwidth": 2,
            "linecolor": "white",
            "showbackground": true,
            "ticks": "",
            "zerolinecolor": "white"
           },
           "yaxis": {
            "backgroundcolor": "#E5ECF6",
            "gridcolor": "white",
            "gridwidth": 2,
            "linecolor": "white",
            "showbackground": true,
            "ticks": "",
            "zerolinecolor": "white"
           },
           "zaxis": {
            "backgroundcolor": "#E5ECF6",
            "gridcolor": "white",
            "gridwidth": 2,
            "linecolor": "white",
            "showbackground": true,
            "ticks": "",
            "zerolinecolor": "white"
           }
          },
          "shapedefaults": {
           "line": {
            "color": "#2a3f5f"
           }
          },
          "ternary": {
           "aaxis": {
            "gridcolor": "white",
            "linecolor": "white",
            "ticks": ""
           },
           "baxis": {
            "gridcolor": "white",
            "linecolor": "white",
            "ticks": ""
           },
           "bgcolor": "#E5ECF6",
           "caxis": {
            "gridcolor": "white",
            "linecolor": "white",
            "ticks": ""
           }
          },
          "title": {
           "x": 0.05
          },
          "xaxis": {
           "automargin": true,
           "gridcolor": "white",
           "linecolor": "white",
           "ticks": "",
           "title": {
            "standoff": 15
           },
           "zerolinecolor": "white",
           "zerolinewidth": 2
          },
          "yaxis": {
           "automargin": true,
           "gridcolor": "white",
           "linecolor": "white",
           "ticks": "",
           "title": {
            "standoff": 15
           },
           "zerolinecolor": "white",
           "zerolinewidth": 2
          }
         }
        },
        "title": {
         "text": "Peak Time Comments Video"
        },
        "xaxis": {
         "anchor": "y",
         "categoryarray": [
          "13:00 - 14:00",
          "14:00 - 15:00",
          "15:00 - 16:00",
          "12:00 - 13:00",
          "09:00 - 10:00 ",
          "11:00 - 12:00",
          "08:00 - 09:00 ",
          "07:00 - 08:00 ",
          "10:00 - 11:00 ",
          "05:00 - 06:00 "
         ],
         "categoryorder": "array",
         "domain": [
          0,
          1
         ],
         "title": {
          "text": "Time"
         }
        },
        "yaxis": {
         "anchor": "x",
         "domain": [
          0,
          1
         ],
         "title": {
          "text": "Most Comment"
         }
        }
       }
      }
     },
     "metadata": {},
     "output_type": "display_data"
    }
   ],
   "source": [
    "time_group = peak_time['Period_groups'].value_counts().head(10)\n",
    "time_group = pd.DataFrame(data=time_group)\n",
    "time_group.reset_index(inplace=True)\n",
    "time_group = time_group.rename(columns = {'index':'Time','Period_groups':'Most Comment'})\n",
    "time_group\n",
    "\n",
    "fig2 = px.bar(time_group, x='Time', y='Most Comment', \n",
    "              color='Time', title = 'Peak Time Comments Video', height=400)\n",
    "fig2.show()"
   ]
  },
  {
   "cell_type": "code",
   "execution_count": 31,
   "metadata": {},
   "outputs": [],
   "source": [
    "label_time_group = peak_time.groupby(['Period_groups', 'Label']).size().reset_index(name='counts')\\\n",
    "                            .sort_values(['counts'], ascending=False)"
   ]
  },
  {
   "cell_type": "code",
   "execution_count": 32,
   "metadata": {},
   "outputs": [
    {
     "data": {
      "text/html": [
       "<div>\n",
       "<style scoped>\n",
       "    .dataframe tbody tr th:only-of-type {\n",
       "        vertical-align: middle;\n",
       "    }\n",
       "\n",
       "    .dataframe tbody tr th {\n",
       "        vertical-align: top;\n",
       "    }\n",
       "\n",
       "    .dataframe thead th {\n",
       "        text-align: right;\n",
       "    }\n",
       "</style>\n",
       "<table border=\"1\" class=\"dataframe\">\n",
       "  <thead>\n",
       "    <tr style=\"text-align: right;\">\n",
       "      <th></th>\n",
       "      <th>Period_groups</th>\n",
       "      <th>Label</th>\n",
       "      <th>counts</th>\n",
       "    </tr>\n",
       "  </thead>\n",
       "  <tbody>\n",
       "    <tr>\n",
       "      <th>24</th>\n",
       "      <td>13:00 - 14:00</td>\n",
       "      <td>legitimate</td>\n",
       "      <td>124</td>\n",
       "    </tr>\n",
       "    <tr>\n",
       "      <th>26</th>\n",
       "      <td>14:00 - 15:00</td>\n",
       "      <td>legitimate</td>\n",
       "      <td>119</td>\n",
       "    </tr>\n",
       "    <tr>\n",
       "      <th>28</th>\n",
       "      <td>15:00 - 16:00</td>\n",
       "      <td>legitimate</td>\n",
       "      <td>103</td>\n",
       "    </tr>\n",
       "    <tr>\n",
       "      <th>16</th>\n",
       "      <td>09:00 - 10:00</td>\n",
       "      <td>legitimate</td>\n",
       "      <td>90</td>\n",
       "    </tr>\n",
       "    <tr>\n",
       "      <th>18</th>\n",
       "      <td>10:00 - 11:00</td>\n",
       "      <td>legitimate</td>\n",
       "      <td>89</td>\n",
       "    </tr>\n",
       "    <tr>\n",
       "      <th>14</th>\n",
       "      <td>08:00 - 09:00</td>\n",
       "      <td>legitimate</td>\n",
       "      <td>87</td>\n",
       "    </tr>\n",
       "    <tr>\n",
       "      <th>20</th>\n",
       "      <td>11:00 - 12:00</td>\n",
       "      <td>legitimate</td>\n",
       "      <td>86</td>\n",
       "    </tr>\n",
       "    <tr>\n",
       "      <th>22</th>\n",
       "      <td>12:00 - 13:00</td>\n",
       "      <td>legitimate</td>\n",
       "      <td>85</td>\n",
       "    </tr>\n",
       "    <tr>\n",
       "      <th>8</th>\n",
       "      <td>05:00 - 06:00</td>\n",
       "      <td>legitimate</td>\n",
       "      <td>82</td>\n",
       "    </tr>\n",
       "    <tr>\n",
       "      <th>10</th>\n",
       "      <td>06:00 - 07:00</td>\n",
       "      <td>legitimate</td>\n",
       "      <td>82</td>\n",
       "    </tr>\n",
       "    <tr>\n",
       "      <th>12</th>\n",
       "      <td>07:00 - 08:00</td>\n",
       "      <td>legitimate</td>\n",
       "      <td>81</td>\n",
       "    </tr>\n",
       "    <tr>\n",
       "      <th>23</th>\n",
       "      <td>12:00 - 13:00</td>\n",
       "      <td>spam</td>\n",
       "      <td>78</td>\n",
       "    </tr>\n",
       "    <tr>\n",
       "      <th>6</th>\n",
       "      <td>04:00 - 05:00</td>\n",
       "      <td>legitimate</td>\n",
       "      <td>77</td>\n",
       "    </tr>\n",
       "    <tr>\n",
       "      <th>27</th>\n",
       "      <td>14:00 - 15:00</td>\n",
       "      <td>spam</td>\n",
       "      <td>76</td>\n",
       "    </tr>\n",
       "    <tr>\n",
       "      <th>4</th>\n",
       "      <td>03:00 - 04:00</td>\n",
       "      <td>legitimate</td>\n",
       "      <td>75</td>\n",
       "    </tr>\n",
       "    <tr>\n",
       "      <th>25</th>\n",
       "      <td>13:00 - 14:00</td>\n",
       "      <td>spam</td>\n",
       "      <td>74</td>\n",
       "    </tr>\n",
       "    <tr>\n",
       "      <th>17</th>\n",
       "      <td>09:00 - 10:00</td>\n",
       "      <td>spam</td>\n",
       "      <td>68</td>\n",
       "    </tr>\n",
       "    <tr>\n",
       "      <th>29</th>\n",
       "      <td>15:00 - 16:00</td>\n",
       "      <td>spam</td>\n",
       "      <td>65</td>\n",
       "    </tr>\n",
       "    <tr>\n",
       "      <th>21</th>\n",
       "      <td>11:00 - 12:00</td>\n",
       "      <td>spam</td>\n",
       "      <td>65</td>\n",
       "    </tr>\n",
       "    <tr>\n",
       "      <th>31</th>\n",
       "      <td>16:00 - 17:00</td>\n",
       "      <td>spam</td>\n",
       "      <td>64</td>\n",
       "    </tr>\n",
       "    <tr>\n",
       "      <th>13</th>\n",
       "      <td>07:00 - 08:00</td>\n",
       "      <td>spam</td>\n",
       "      <td>62</td>\n",
       "    </tr>\n",
       "    <tr>\n",
       "      <th>30</th>\n",
       "      <td>16:00 - 17:00</td>\n",
       "      <td>legitimate</td>\n",
       "      <td>62</td>\n",
       "    </tr>\n",
       "    <tr>\n",
       "      <th>2</th>\n",
       "      <td>02:00 - 03:00</td>\n",
       "      <td>legitimate</td>\n",
       "      <td>59</td>\n",
       "    </tr>\n",
       "    <tr>\n",
       "      <th>0</th>\n",
       "      <td>01:00 - 02:00</td>\n",
       "      <td>legitimate</td>\n",
       "      <td>58</td>\n",
       "    </tr>\n",
       "    <tr>\n",
       "      <th>15</th>\n",
       "      <td>08:00 - 09:00</td>\n",
       "      <td>spam</td>\n",
       "      <td>58</td>\n",
       "    </tr>\n",
       "    <tr>\n",
       "      <th>9</th>\n",
       "      <td>05:00 - 06:00</td>\n",
       "      <td>spam</td>\n",
       "      <td>57</td>\n",
       "    </tr>\n",
       "    <tr>\n",
       "      <th>5</th>\n",
       "      <td>03:00 - 04:00</td>\n",
       "      <td>spam</td>\n",
       "      <td>57</td>\n",
       "    </tr>\n",
       "    <tr>\n",
       "      <th>32</th>\n",
       "      <td>17:00 - 18:00</td>\n",
       "      <td>legitimate</td>\n",
       "      <td>55</td>\n",
       "    </tr>\n",
       "    <tr>\n",
       "      <th>19</th>\n",
       "      <td>10:00 - 11:00</td>\n",
       "      <td>spam</td>\n",
       "      <td>53</td>\n",
       "    </tr>\n",
       "    <tr>\n",
       "      <th>11</th>\n",
       "      <td>06:00 - 07:00</td>\n",
       "      <td>spam</td>\n",
       "      <td>50</td>\n",
       "    </tr>\n",
       "    <tr>\n",
       "      <th>33</th>\n",
       "      <td>17:00 - 18:00</td>\n",
       "      <td>spam</td>\n",
       "      <td>49</td>\n",
       "    </tr>\n",
       "    <tr>\n",
       "      <th>34</th>\n",
       "      <td>18:00 - 19:00</td>\n",
       "      <td>legitimate</td>\n",
       "      <td>49</td>\n",
       "    </tr>\n",
       "    <tr>\n",
       "      <th>46</th>\n",
       "      <td>24:00 - 01:00</td>\n",
       "      <td>legitimate</td>\n",
       "      <td>48</td>\n",
       "    </tr>\n",
       "    <tr>\n",
       "      <th>1</th>\n",
       "      <td>01:00 - 02:00</td>\n",
       "      <td>spam</td>\n",
       "      <td>46</td>\n",
       "    </tr>\n",
       "    <tr>\n",
       "      <th>3</th>\n",
       "      <td>02:00 - 03:00</td>\n",
       "      <td>spam</td>\n",
       "      <td>43</td>\n",
       "    </tr>\n",
       "    <tr>\n",
       "      <th>7</th>\n",
       "      <td>04:00 - 05:00</td>\n",
       "      <td>spam</td>\n",
       "      <td>42</td>\n",
       "    </tr>\n",
       "    <tr>\n",
       "      <th>45</th>\n",
       "      <td>23:00 - 24:00</td>\n",
       "      <td>spam</td>\n",
       "      <td>40</td>\n",
       "    </tr>\n",
       "    <tr>\n",
       "      <th>44</th>\n",
       "      <td>23:00 - 24:00</td>\n",
       "      <td>legitimate</td>\n",
       "      <td>37</td>\n",
       "    </tr>\n",
       "    <tr>\n",
       "      <th>47</th>\n",
       "      <td>24:00 - 01:00</td>\n",
       "      <td>spam</td>\n",
       "      <td>37</td>\n",
       "    </tr>\n",
       "    <tr>\n",
       "      <th>35</th>\n",
       "      <td>18:00 - 19:00</td>\n",
       "      <td>spam</td>\n",
       "      <td>35</td>\n",
       "    </tr>\n",
       "    <tr>\n",
       "      <th>37</th>\n",
       "      <td>19:00 - 20:00</td>\n",
       "      <td>spam</td>\n",
       "      <td>30</td>\n",
       "    </tr>\n",
       "    <tr>\n",
       "      <th>39</th>\n",
       "      <td>20:00 - 21:00</td>\n",
       "      <td>spam</td>\n",
       "      <td>29</td>\n",
       "    </tr>\n",
       "    <tr>\n",
       "      <th>42</th>\n",
       "      <td>22:00 - 23:00</td>\n",
       "      <td>legitimate</td>\n",
       "      <td>25</td>\n",
       "    </tr>\n",
       "    <tr>\n",
       "      <th>36</th>\n",
       "      <td>19:00 - 20:00</td>\n",
       "      <td>legitimate</td>\n",
       "      <td>24</td>\n",
       "    </tr>\n",
       "    <tr>\n",
       "      <th>40</th>\n",
       "      <td>21:00 - 22:00</td>\n",
       "      <td>legitimate</td>\n",
       "      <td>20</td>\n",
       "    </tr>\n",
       "    <tr>\n",
       "      <th>38</th>\n",
       "      <td>20:00 - 21:00</td>\n",
       "      <td>legitimate</td>\n",
       "      <td>20</td>\n",
       "    </tr>\n",
       "    <tr>\n",
       "      <th>43</th>\n",
       "      <td>22:00 - 23:00</td>\n",
       "      <td>spam</td>\n",
       "      <td>19</td>\n",
       "    </tr>\n",
       "    <tr>\n",
       "      <th>41</th>\n",
       "      <td>21:00 - 22:00</td>\n",
       "      <td>spam</td>\n",
       "      <td>13</td>\n",
       "    </tr>\n",
       "  </tbody>\n",
       "</table>\n",
       "</div>"
      ],
      "text/plain": [
       "     Period_groups       Label  counts\n",
       "24   13:00 - 14:00  legitimate     124\n",
       "26   14:00 - 15:00  legitimate     119\n",
       "28   15:00 - 16:00  legitimate     103\n",
       "16  09:00 - 10:00   legitimate      90\n",
       "18  10:00 - 11:00   legitimate      89\n",
       "14  08:00 - 09:00   legitimate      87\n",
       "20   11:00 - 12:00  legitimate      86\n",
       "22   12:00 - 13:00  legitimate      85\n",
       "8   05:00 - 06:00   legitimate      82\n",
       "10  06:00 - 07:00   legitimate      82\n",
       "12  07:00 - 08:00   legitimate      81\n",
       "23   12:00 - 13:00        spam      78\n",
       "6    04:00 - 05:00  legitimate      77\n",
       "27   14:00 - 15:00        spam      76\n",
       "4    03:00 - 04:00  legitimate      75\n",
       "25   13:00 - 14:00        spam      74\n",
       "17  09:00 - 10:00         spam      68\n",
       "29   15:00 - 16:00        spam      65\n",
       "21   11:00 - 12:00        spam      65\n",
       "31   16:00 - 17:00        spam      64\n",
       "13  07:00 - 08:00         spam      62\n",
       "30   16:00 - 17:00  legitimate      62\n",
       "2   02:00 - 03:00   legitimate      59\n",
       "0   01:00 - 02:00   legitimate      58\n",
       "15  08:00 - 09:00         spam      58\n",
       "9   05:00 - 06:00         spam      57\n",
       "5    03:00 - 04:00        spam      57\n",
       "32   17:00 - 18:00  legitimate      55\n",
       "19  10:00 - 11:00         spam      53\n",
       "11  06:00 - 07:00         spam      50\n",
       "33   17:00 - 18:00        spam      49\n",
       "34   18:00 - 19:00  legitimate      49\n",
       "46   24:00 - 01:00  legitimate      48\n",
       "1   01:00 - 02:00         spam      46\n",
       "3   02:00 - 03:00         spam      43\n",
       "7    04:00 - 05:00        spam      42\n",
       "45   23:00 - 24:00        spam      40\n",
       "44   23:00 - 24:00  legitimate      37\n",
       "47   24:00 - 01:00        spam      37\n",
       "35   18:00 - 19:00        spam      35\n",
       "37   19:00 - 20:00        spam      30\n",
       "39   20:00 - 21:00        spam      29\n",
       "42   22:00 - 23:00  legitimate      25\n",
       "36   19:00 - 20:00  legitimate      24\n",
       "40   21:00 - 22:00  legitimate      20\n",
       "38   20:00 - 21:00  legitimate      20\n",
       "43   22:00 - 23:00        spam      19\n",
       "41   21:00 - 22:00        spam      13"
      ]
     },
     "execution_count": 32,
     "metadata": {},
     "output_type": "execute_result"
    }
   ],
   "source": [
    "label_time_group"
   ]
  },
  {
   "cell_type": "code",
   "execution_count": 33,
   "metadata": {},
   "outputs": [
    {
     "data": {
      "application/vnd.plotly.v1+json": {
       "config": {
        "plotlyServerURL": "https://plot.ly"
       },
       "data": [
        {
         "alignmentgroup": "True",
         "bingroup": "x",
         "histfunc": "sum",
         "hovertemplate": "Label=legitimate<br>Period_groups=%{x}<br>sum of Total=%{y}<extra></extra>",
         "legendgroup": "legitimate",
         "marker": {
          "color": "#636efa",
          "pattern": {
           "shape": ""
          }
         },
         "name": "legitimate",
         "offsetgroup": "legitimate",
         "orientation": "v",
         "showlegend": true,
         "type": "histogram",
         "x": [
          "13:00 - 14:00",
          "14:00 - 15:00",
          "15:00 - 16:00",
          "09:00 - 10:00 ",
          "10:00 - 11:00 ",
          "08:00 - 09:00 ",
          "11:00 - 12:00",
          "12:00 - 13:00",
          "05:00 - 06:00 ",
          "06:00 - 07:00 ",
          "07:00 - 08:00 ",
          "04:00 - 05:00",
          "03:00 - 04:00",
          "16:00 - 17:00",
          "02:00 - 03:00 ",
          "01:00 - 02:00 ",
          "17:00 - 18:00",
          "18:00 - 19:00",
          "24:00 - 01:00",
          "23:00 - 24:00",
          "22:00 - 23:00",
          "19:00 - 20:00",
          "21:00 - 22:00",
          "20:00 - 21:00"
         ],
         "xaxis": "x",
         "y": [
          124,
          119,
          103,
          90,
          89,
          87,
          86,
          85,
          82,
          82,
          81,
          77,
          75,
          62,
          59,
          58,
          55,
          49,
          48,
          37,
          25,
          24,
          20,
          20
         ],
         "yaxis": "y"
        },
        {
         "alignmentgroup": "True",
         "bingroup": "x",
         "histfunc": "sum",
         "hovertemplate": "Label=spam<br>Period_groups=%{x}<br>sum of Total=%{y}<extra></extra>",
         "legendgroup": "spam",
         "marker": {
          "color": "#EF553B",
          "pattern": {
           "shape": ""
          }
         },
         "name": "spam",
         "offsetgroup": "spam",
         "orientation": "v",
         "showlegend": true,
         "type": "histogram",
         "x": [
          "12:00 - 13:00",
          "14:00 - 15:00",
          "13:00 - 14:00",
          "09:00 - 10:00 ",
          "15:00 - 16:00",
          "11:00 - 12:00",
          "16:00 - 17:00",
          "07:00 - 08:00 ",
          "08:00 - 09:00 ",
          "05:00 - 06:00 ",
          "03:00 - 04:00",
          "10:00 - 11:00 ",
          "06:00 - 07:00 ",
          "17:00 - 18:00",
          "01:00 - 02:00 ",
          "02:00 - 03:00 ",
          "04:00 - 05:00",
          "23:00 - 24:00",
          "24:00 - 01:00",
          "18:00 - 19:00",
          "19:00 - 20:00",
          "20:00 - 21:00",
          "22:00 - 23:00",
          "21:00 - 22:00"
         ],
         "xaxis": "x",
         "y": [
          78,
          76,
          74,
          68,
          65,
          65,
          64,
          62,
          58,
          57,
          57,
          53,
          50,
          49,
          46,
          43,
          42,
          40,
          37,
          35,
          30,
          29,
          19,
          13
         ],
         "yaxis": "y"
        }
       ],
       "layout": {
        "barmode": "group",
        "height": 600,
        "legend": {
         "title": {
          "text": "Label"
         },
         "tracegroupgap": 0
        },
        "template": {
         "data": {
          "bar": [
           {
            "error_x": {
             "color": "#2a3f5f"
            },
            "error_y": {
             "color": "#2a3f5f"
            },
            "marker": {
             "line": {
              "color": "#E5ECF6",
              "width": 0.5
             },
             "pattern": {
              "fillmode": "overlay",
              "size": 10,
              "solidity": 0.2
             }
            },
            "type": "bar"
           }
          ],
          "barpolar": [
           {
            "marker": {
             "line": {
              "color": "#E5ECF6",
              "width": 0.5
             },
             "pattern": {
              "fillmode": "overlay",
              "size": 10,
              "solidity": 0.2
             }
            },
            "type": "barpolar"
           }
          ],
          "carpet": [
           {
            "aaxis": {
             "endlinecolor": "#2a3f5f",
             "gridcolor": "white",
             "linecolor": "white",
             "minorgridcolor": "white",
             "startlinecolor": "#2a3f5f"
            },
            "baxis": {
             "endlinecolor": "#2a3f5f",
             "gridcolor": "white",
             "linecolor": "white",
             "minorgridcolor": "white",
             "startlinecolor": "#2a3f5f"
            },
            "type": "carpet"
           }
          ],
          "choropleth": [
           {
            "colorbar": {
             "outlinewidth": 0,
             "ticks": ""
            },
            "type": "choropleth"
           }
          ],
          "contour": [
           {
            "colorbar": {
             "outlinewidth": 0,
             "ticks": ""
            },
            "colorscale": [
             [
              0,
              "#0d0887"
             ],
             [
              0.1111111111111111,
              "#46039f"
             ],
             [
              0.2222222222222222,
              "#7201a8"
             ],
             [
              0.3333333333333333,
              "#9c179e"
             ],
             [
              0.4444444444444444,
              "#bd3786"
             ],
             [
              0.5555555555555556,
              "#d8576b"
             ],
             [
              0.6666666666666666,
              "#ed7953"
             ],
             [
              0.7777777777777778,
              "#fb9f3a"
             ],
             [
              0.8888888888888888,
              "#fdca26"
             ],
             [
              1,
              "#f0f921"
             ]
            ],
            "type": "contour"
           }
          ],
          "contourcarpet": [
           {
            "colorbar": {
             "outlinewidth": 0,
             "ticks": ""
            },
            "type": "contourcarpet"
           }
          ],
          "heatmap": [
           {
            "colorbar": {
             "outlinewidth": 0,
             "ticks": ""
            },
            "colorscale": [
             [
              0,
              "#0d0887"
             ],
             [
              0.1111111111111111,
              "#46039f"
             ],
             [
              0.2222222222222222,
              "#7201a8"
             ],
             [
              0.3333333333333333,
              "#9c179e"
             ],
             [
              0.4444444444444444,
              "#bd3786"
             ],
             [
              0.5555555555555556,
              "#d8576b"
             ],
             [
              0.6666666666666666,
              "#ed7953"
             ],
             [
              0.7777777777777778,
              "#fb9f3a"
             ],
             [
              0.8888888888888888,
              "#fdca26"
             ],
             [
              1,
              "#f0f921"
             ]
            ],
            "type": "heatmap"
           }
          ],
          "heatmapgl": [
           {
            "colorbar": {
             "outlinewidth": 0,
             "ticks": ""
            },
            "colorscale": [
             [
              0,
              "#0d0887"
             ],
             [
              0.1111111111111111,
              "#46039f"
             ],
             [
              0.2222222222222222,
              "#7201a8"
             ],
             [
              0.3333333333333333,
              "#9c179e"
             ],
             [
              0.4444444444444444,
              "#bd3786"
             ],
             [
              0.5555555555555556,
              "#d8576b"
             ],
             [
              0.6666666666666666,
              "#ed7953"
             ],
             [
              0.7777777777777778,
              "#fb9f3a"
             ],
             [
              0.8888888888888888,
              "#fdca26"
             ],
             [
              1,
              "#f0f921"
             ]
            ],
            "type": "heatmapgl"
           }
          ],
          "histogram": [
           {
            "marker": {
             "pattern": {
              "fillmode": "overlay",
              "size": 10,
              "solidity": 0.2
             }
            },
            "type": "histogram"
           }
          ],
          "histogram2d": [
           {
            "colorbar": {
             "outlinewidth": 0,
             "ticks": ""
            },
            "colorscale": [
             [
              0,
              "#0d0887"
             ],
             [
              0.1111111111111111,
              "#46039f"
             ],
             [
              0.2222222222222222,
              "#7201a8"
             ],
             [
              0.3333333333333333,
              "#9c179e"
             ],
             [
              0.4444444444444444,
              "#bd3786"
             ],
             [
              0.5555555555555556,
              "#d8576b"
             ],
             [
              0.6666666666666666,
              "#ed7953"
             ],
             [
              0.7777777777777778,
              "#fb9f3a"
             ],
             [
              0.8888888888888888,
              "#fdca26"
             ],
             [
              1,
              "#f0f921"
             ]
            ],
            "type": "histogram2d"
           }
          ],
          "histogram2dcontour": [
           {
            "colorbar": {
             "outlinewidth": 0,
             "ticks": ""
            },
            "colorscale": [
             [
              0,
              "#0d0887"
             ],
             [
              0.1111111111111111,
              "#46039f"
             ],
             [
              0.2222222222222222,
              "#7201a8"
             ],
             [
              0.3333333333333333,
              "#9c179e"
             ],
             [
              0.4444444444444444,
              "#bd3786"
             ],
             [
              0.5555555555555556,
              "#d8576b"
             ],
             [
              0.6666666666666666,
              "#ed7953"
             ],
             [
              0.7777777777777778,
              "#fb9f3a"
             ],
             [
              0.8888888888888888,
              "#fdca26"
             ],
             [
              1,
              "#f0f921"
             ]
            ],
            "type": "histogram2dcontour"
           }
          ],
          "mesh3d": [
           {
            "colorbar": {
             "outlinewidth": 0,
             "ticks": ""
            },
            "type": "mesh3d"
           }
          ],
          "parcoords": [
           {
            "line": {
             "colorbar": {
              "outlinewidth": 0,
              "ticks": ""
             }
            },
            "type": "parcoords"
           }
          ],
          "pie": [
           {
            "automargin": true,
            "type": "pie"
           }
          ],
          "scatter": [
           {
            "fillpattern": {
             "fillmode": "overlay",
             "size": 10,
             "solidity": 0.2
            },
            "type": "scatter"
           }
          ],
          "scatter3d": [
           {
            "line": {
             "colorbar": {
              "outlinewidth": 0,
              "ticks": ""
             }
            },
            "marker": {
             "colorbar": {
              "outlinewidth": 0,
              "ticks": ""
             }
            },
            "type": "scatter3d"
           }
          ],
          "scattercarpet": [
           {
            "marker": {
             "colorbar": {
              "outlinewidth": 0,
              "ticks": ""
             }
            },
            "type": "scattercarpet"
           }
          ],
          "scattergeo": [
           {
            "marker": {
             "colorbar": {
              "outlinewidth": 0,
              "ticks": ""
             }
            },
            "type": "scattergeo"
           }
          ],
          "scattergl": [
           {
            "marker": {
             "colorbar": {
              "outlinewidth": 0,
              "ticks": ""
             }
            },
            "type": "scattergl"
           }
          ],
          "scattermapbox": [
           {
            "marker": {
             "colorbar": {
              "outlinewidth": 0,
              "ticks": ""
             }
            },
            "type": "scattermapbox"
           }
          ],
          "scatterpolar": [
           {
            "marker": {
             "colorbar": {
              "outlinewidth": 0,
              "ticks": ""
             }
            },
            "type": "scatterpolar"
           }
          ],
          "scatterpolargl": [
           {
            "marker": {
             "colorbar": {
              "outlinewidth": 0,
              "ticks": ""
             }
            },
            "type": "scatterpolargl"
           }
          ],
          "scatterternary": [
           {
            "marker": {
             "colorbar": {
              "outlinewidth": 0,
              "ticks": ""
             }
            },
            "type": "scatterternary"
           }
          ],
          "surface": [
           {
            "colorbar": {
             "outlinewidth": 0,
             "ticks": ""
            },
            "colorscale": [
             [
              0,
              "#0d0887"
             ],
             [
              0.1111111111111111,
              "#46039f"
             ],
             [
              0.2222222222222222,
              "#7201a8"
             ],
             [
              0.3333333333333333,
              "#9c179e"
             ],
             [
              0.4444444444444444,
              "#bd3786"
             ],
             [
              0.5555555555555556,
              "#d8576b"
             ],
             [
              0.6666666666666666,
              "#ed7953"
             ],
             [
              0.7777777777777778,
              "#fb9f3a"
             ],
             [
              0.8888888888888888,
              "#fdca26"
             ],
             [
              1,
              "#f0f921"
             ]
            ],
            "type": "surface"
           }
          ],
          "table": [
           {
            "cells": {
             "fill": {
              "color": "#EBF0F8"
             },
             "line": {
              "color": "white"
             }
            },
            "header": {
             "fill": {
              "color": "#C8D4E3"
             },
             "line": {
              "color": "white"
             }
            },
            "type": "table"
           }
          ]
         },
         "layout": {
          "annotationdefaults": {
           "arrowcolor": "#2a3f5f",
           "arrowhead": 0,
           "arrowwidth": 1
          },
          "autotypenumbers": "strict",
          "coloraxis": {
           "colorbar": {
            "outlinewidth": 0,
            "ticks": ""
           }
          },
          "colorscale": {
           "diverging": [
            [
             0,
             "#8e0152"
            ],
            [
             0.1,
             "#c51b7d"
            ],
            [
             0.2,
             "#de77ae"
            ],
            [
             0.3,
             "#f1b6da"
            ],
            [
             0.4,
             "#fde0ef"
            ],
            [
             0.5,
             "#f7f7f7"
            ],
            [
             0.6,
             "#e6f5d0"
            ],
            [
             0.7,
             "#b8e186"
            ],
            [
             0.8,
             "#7fbc41"
            ],
            [
             0.9,
             "#4d9221"
            ],
            [
             1,
             "#276419"
            ]
           ],
           "sequential": [
            [
             0,
             "#0d0887"
            ],
            [
             0.1111111111111111,
             "#46039f"
            ],
            [
             0.2222222222222222,
             "#7201a8"
            ],
            [
             0.3333333333333333,
             "#9c179e"
            ],
            [
             0.4444444444444444,
             "#bd3786"
            ],
            [
             0.5555555555555556,
             "#d8576b"
            ],
            [
             0.6666666666666666,
             "#ed7953"
            ],
            [
             0.7777777777777778,
             "#fb9f3a"
            ],
            [
             0.8888888888888888,
             "#fdca26"
            ],
            [
             1,
             "#f0f921"
            ]
           ],
           "sequentialminus": [
            [
             0,
             "#0d0887"
            ],
            [
             0.1111111111111111,
             "#46039f"
            ],
            [
             0.2222222222222222,
             "#7201a8"
            ],
            [
             0.3333333333333333,
             "#9c179e"
            ],
            [
             0.4444444444444444,
             "#bd3786"
            ],
            [
             0.5555555555555556,
             "#d8576b"
            ],
            [
             0.6666666666666666,
             "#ed7953"
            ],
            [
             0.7777777777777778,
             "#fb9f3a"
            ],
            [
             0.8888888888888888,
             "#fdca26"
            ],
            [
             1,
             "#f0f921"
            ]
           ]
          },
          "colorway": [
           "#636efa",
           "#EF553B",
           "#00cc96",
           "#ab63fa",
           "#FFA15A",
           "#19d3f3",
           "#FF6692",
           "#B6E880",
           "#FF97FF",
           "#FECB52"
          ],
          "font": {
           "color": "#2a3f5f"
          },
          "geo": {
           "bgcolor": "white",
           "lakecolor": "white",
           "landcolor": "#E5ECF6",
           "showlakes": true,
           "showland": true,
           "subunitcolor": "white"
          },
          "hoverlabel": {
           "align": "left"
          },
          "hovermode": "closest",
          "mapbox": {
           "style": "light"
          },
          "paper_bgcolor": "white",
          "plot_bgcolor": "#E5ECF6",
          "polar": {
           "angularaxis": {
            "gridcolor": "white",
            "linecolor": "white",
            "ticks": ""
           },
           "bgcolor": "#E5ECF6",
           "radialaxis": {
            "gridcolor": "white",
            "linecolor": "white",
            "ticks": ""
           }
          },
          "scene": {
           "xaxis": {
            "backgroundcolor": "#E5ECF6",
            "gridcolor": "white",
            "gridwidth": 2,
            "linecolor": "white",
            "showbackground": true,
            "ticks": "",
            "zerolinecolor": "white"
           },
           "yaxis": {
            "backgroundcolor": "#E5ECF6",
            "gridcolor": "white",
            "gridwidth": 2,
            "linecolor": "white",
            "showbackground": true,
            "ticks": "",
            "zerolinecolor": "white"
           },
           "zaxis": {
            "backgroundcolor": "#E5ECF6",
            "gridcolor": "white",
            "gridwidth": 2,
            "linecolor": "white",
            "showbackground": true,
            "ticks": "",
            "zerolinecolor": "white"
           }
          },
          "shapedefaults": {
           "line": {
            "color": "#2a3f5f"
           }
          },
          "ternary": {
           "aaxis": {
            "gridcolor": "white",
            "linecolor": "white",
            "ticks": ""
           },
           "baxis": {
            "gridcolor": "white",
            "linecolor": "white",
            "ticks": ""
           },
           "bgcolor": "#E5ECF6",
           "caxis": {
            "gridcolor": "white",
            "linecolor": "white",
            "ticks": ""
           }
          },
          "title": {
           "x": 0.05
          },
          "xaxis": {
           "automargin": true,
           "gridcolor": "white",
           "linecolor": "white",
           "ticks": "",
           "title": {
            "standoff": 15
           },
           "zerolinecolor": "white",
           "zerolinewidth": 2
          },
          "yaxis": {
           "automargin": true,
           "gridcolor": "white",
           "linecolor": "white",
           "ticks": "",
           "title": {
            "standoff": 15
           },
           "zerolinecolor": "white",
           "zerolinewidth": 2
          }
         }
        },
        "title": {
         "text": "Peak Time Comments Based on Label"
        },
        "width": 1200,
        "xaxis": {
         "anchor": "y",
         "domain": [
          0,
          1
         ],
         "title": {
          "text": "Period_groups"
         }
        },
        "yaxis": {
         "anchor": "x",
         "domain": [
          0,
          1
         ],
         "title": {
          "text": "sum of Total"
         }
        }
       }
      }
     },
     "metadata": {},
     "output_type": "display_data"
    }
   ],
   "source": [
    "from tokenize import group\n",
    "\n",
    "label_time_group = label_time_group.rename(columns={'counts':'Total'})\n",
    "fig2 = px.histogram(label_time_group, x='Period_groups', y='Total', \n",
    "              color='Label', title = 'Peak Time Comments Based on Label', barmode=\"group\", width=1200, height=600)\n",
    "fig2.show()"
   ]
  },
  {
   "cell_type": "code",
   "execution_count": 34,
   "metadata": {},
   "outputs": [
    {
     "data": {
      "application/vnd.plotly.v1+json": {
       "config": {
        "plotlyServerURL": "https://plot.ly"
       },
       "data": [
        {
         "alignmentgroup": "True",
         "hovertemplate": "Day=%{x}<br>Most Comment=%{y}<extra></extra>",
         "legendgroup": "Tuesday",
         "marker": {
          "color": "#636efa",
          "pattern": {
           "shape": ""
          }
         },
         "name": "Tuesday",
         "offsetgroup": "Tuesday",
         "orientation": "v",
         "showlegend": true,
         "textposition": "auto",
         "type": "bar",
         "x": [
          "Tuesday"
         ],
         "xaxis": "x",
         "y": [
          650
         ],
         "yaxis": "y"
        },
        {
         "alignmentgroup": "True",
         "hovertemplate": "Day=%{x}<br>Most Comment=%{y}<extra></extra>",
         "legendgroup": "Wednesday",
         "marker": {
          "color": "#EF553B",
          "pattern": {
           "shape": ""
          }
         },
         "name": "Wednesday",
         "offsetgroup": "Wednesday",
         "orientation": "v",
         "showlegend": true,
         "textposition": "auto",
         "type": "bar",
         "x": [
          "Wednesday"
         ],
         "xaxis": "x",
         "y": [
          506
         ],
         "yaxis": "y"
        },
        {
         "alignmentgroup": "True",
         "hovertemplate": "Day=%{x}<br>Most Comment=%{y}<extra></extra>",
         "legendgroup": "Monday",
         "marker": {
          "color": "#00cc96",
          "pattern": {
           "shape": ""
          }
         },
         "name": "Monday",
         "offsetgroup": "Monday",
         "orientation": "v",
         "showlegend": true,
         "textposition": "auto",
         "type": "bar",
         "x": [
          "Monday"
         ],
         "xaxis": "x",
         "y": [
          399
         ],
         "yaxis": "y"
        },
        {
         "alignmentgroup": "True",
         "hovertemplate": "Day=%{x}<br>Most Comment=%{y}<extra></extra>",
         "legendgroup": "Thursday",
         "marker": {
          "color": "#ab63fa",
          "pattern": {
           "shape": ""
          }
         },
         "name": "Thursday",
         "offsetgroup": "Thursday",
         "orientation": "v",
         "showlegend": true,
         "textposition": "auto",
         "type": "bar",
         "x": [
          "Thursday"
         ],
         "xaxis": "x",
         "y": [
          396
         ],
         "yaxis": "y"
        },
        {
         "alignmentgroup": "True",
         "hovertemplate": "Day=%{x}<br>Most Comment=%{y}<extra></extra>",
         "legendgroup": "Friday",
         "marker": {
          "color": "#FFA15A",
          "pattern": {
           "shape": ""
          }
         },
         "name": "Friday",
         "offsetgroup": "Friday",
         "orientation": "v",
         "showlegend": true,
         "textposition": "auto",
         "type": "bar",
         "x": [
          "Friday"
         ],
         "xaxis": "x",
         "y": [
          336
         ],
         "yaxis": "y"
        },
        {
         "alignmentgroup": "True",
         "hovertemplate": "Day=%{x}<br>Most Comment=%{y}<extra></extra>",
         "legendgroup": "Saturday",
         "marker": {
          "color": "#19d3f3",
          "pattern": {
           "shape": ""
          }
         },
         "name": "Saturday",
         "offsetgroup": "Saturday",
         "orientation": "v",
         "showlegend": true,
         "textposition": "auto",
         "type": "bar",
         "x": [
          "Saturday"
         ],
         "xaxis": "x",
         "y": [
          307
         ],
         "yaxis": "y"
        },
        {
         "alignmentgroup": "True",
         "hovertemplate": "Day=%{x}<br>Most Comment=%{y}<extra></extra>",
         "legendgroup": "Sunday",
         "marker": {
          "color": "#FF6692",
          "pattern": {
           "shape": ""
          }
         },
         "name": "Sunday",
         "offsetgroup": "Sunday",
         "orientation": "v",
         "showlegend": true,
         "textposition": "auto",
         "type": "bar",
         "x": [
          "Sunday"
         ],
         "xaxis": "x",
         "y": [
          253
         ],
         "yaxis": "y"
        }
       ],
       "layout": {
        "barmode": "relative",
        "height": 400,
        "legend": {
         "title": {
          "text": "Day"
         },
         "tracegroupgap": 0
        },
        "template": {
         "data": {
          "bar": [
           {
            "error_x": {
             "color": "#2a3f5f"
            },
            "error_y": {
             "color": "#2a3f5f"
            },
            "marker": {
             "line": {
              "color": "#E5ECF6",
              "width": 0.5
             },
             "pattern": {
              "fillmode": "overlay",
              "size": 10,
              "solidity": 0.2
             }
            },
            "type": "bar"
           }
          ],
          "barpolar": [
           {
            "marker": {
             "line": {
              "color": "#E5ECF6",
              "width": 0.5
             },
             "pattern": {
              "fillmode": "overlay",
              "size": 10,
              "solidity": 0.2
             }
            },
            "type": "barpolar"
           }
          ],
          "carpet": [
           {
            "aaxis": {
             "endlinecolor": "#2a3f5f",
             "gridcolor": "white",
             "linecolor": "white",
             "minorgridcolor": "white",
             "startlinecolor": "#2a3f5f"
            },
            "baxis": {
             "endlinecolor": "#2a3f5f",
             "gridcolor": "white",
             "linecolor": "white",
             "minorgridcolor": "white",
             "startlinecolor": "#2a3f5f"
            },
            "type": "carpet"
           }
          ],
          "choropleth": [
           {
            "colorbar": {
             "outlinewidth": 0,
             "ticks": ""
            },
            "type": "choropleth"
           }
          ],
          "contour": [
           {
            "colorbar": {
             "outlinewidth": 0,
             "ticks": ""
            },
            "colorscale": [
             [
              0,
              "#0d0887"
             ],
             [
              0.1111111111111111,
              "#46039f"
             ],
             [
              0.2222222222222222,
              "#7201a8"
             ],
             [
              0.3333333333333333,
              "#9c179e"
             ],
             [
              0.4444444444444444,
              "#bd3786"
             ],
             [
              0.5555555555555556,
              "#d8576b"
             ],
             [
              0.6666666666666666,
              "#ed7953"
             ],
             [
              0.7777777777777778,
              "#fb9f3a"
             ],
             [
              0.8888888888888888,
              "#fdca26"
             ],
             [
              1,
              "#f0f921"
             ]
            ],
            "type": "contour"
           }
          ],
          "contourcarpet": [
           {
            "colorbar": {
             "outlinewidth": 0,
             "ticks": ""
            },
            "type": "contourcarpet"
           }
          ],
          "heatmap": [
           {
            "colorbar": {
             "outlinewidth": 0,
             "ticks": ""
            },
            "colorscale": [
             [
              0,
              "#0d0887"
             ],
             [
              0.1111111111111111,
              "#46039f"
             ],
             [
              0.2222222222222222,
              "#7201a8"
             ],
             [
              0.3333333333333333,
              "#9c179e"
             ],
             [
              0.4444444444444444,
              "#bd3786"
             ],
             [
              0.5555555555555556,
              "#d8576b"
             ],
             [
              0.6666666666666666,
              "#ed7953"
             ],
             [
              0.7777777777777778,
              "#fb9f3a"
             ],
             [
              0.8888888888888888,
              "#fdca26"
             ],
             [
              1,
              "#f0f921"
             ]
            ],
            "type": "heatmap"
           }
          ],
          "heatmapgl": [
           {
            "colorbar": {
             "outlinewidth": 0,
             "ticks": ""
            },
            "colorscale": [
             [
              0,
              "#0d0887"
             ],
             [
              0.1111111111111111,
              "#46039f"
             ],
             [
              0.2222222222222222,
              "#7201a8"
             ],
             [
              0.3333333333333333,
              "#9c179e"
             ],
             [
              0.4444444444444444,
              "#bd3786"
             ],
             [
              0.5555555555555556,
              "#d8576b"
             ],
             [
              0.6666666666666666,
              "#ed7953"
             ],
             [
              0.7777777777777778,
              "#fb9f3a"
             ],
             [
              0.8888888888888888,
              "#fdca26"
             ],
             [
              1,
              "#f0f921"
             ]
            ],
            "type": "heatmapgl"
           }
          ],
          "histogram": [
           {
            "marker": {
             "pattern": {
              "fillmode": "overlay",
              "size": 10,
              "solidity": 0.2
             }
            },
            "type": "histogram"
           }
          ],
          "histogram2d": [
           {
            "colorbar": {
             "outlinewidth": 0,
             "ticks": ""
            },
            "colorscale": [
             [
              0,
              "#0d0887"
             ],
             [
              0.1111111111111111,
              "#46039f"
             ],
             [
              0.2222222222222222,
              "#7201a8"
             ],
             [
              0.3333333333333333,
              "#9c179e"
             ],
             [
              0.4444444444444444,
              "#bd3786"
             ],
             [
              0.5555555555555556,
              "#d8576b"
             ],
             [
              0.6666666666666666,
              "#ed7953"
             ],
             [
              0.7777777777777778,
              "#fb9f3a"
             ],
             [
              0.8888888888888888,
              "#fdca26"
             ],
             [
              1,
              "#f0f921"
             ]
            ],
            "type": "histogram2d"
           }
          ],
          "histogram2dcontour": [
           {
            "colorbar": {
             "outlinewidth": 0,
             "ticks": ""
            },
            "colorscale": [
             [
              0,
              "#0d0887"
             ],
             [
              0.1111111111111111,
              "#46039f"
             ],
             [
              0.2222222222222222,
              "#7201a8"
             ],
             [
              0.3333333333333333,
              "#9c179e"
             ],
             [
              0.4444444444444444,
              "#bd3786"
             ],
             [
              0.5555555555555556,
              "#d8576b"
             ],
             [
              0.6666666666666666,
              "#ed7953"
             ],
             [
              0.7777777777777778,
              "#fb9f3a"
             ],
             [
              0.8888888888888888,
              "#fdca26"
             ],
             [
              1,
              "#f0f921"
             ]
            ],
            "type": "histogram2dcontour"
           }
          ],
          "mesh3d": [
           {
            "colorbar": {
             "outlinewidth": 0,
             "ticks": ""
            },
            "type": "mesh3d"
           }
          ],
          "parcoords": [
           {
            "line": {
             "colorbar": {
              "outlinewidth": 0,
              "ticks": ""
             }
            },
            "type": "parcoords"
           }
          ],
          "pie": [
           {
            "automargin": true,
            "type": "pie"
           }
          ],
          "scatter": [
           {
            "fillpattern": {
             "fillmode": "overlay",
             "size": 10,
             "solidity": 0.2
            },
            "type": "scatter"
           }
          ],
          "scatter3d": [
           {
            "line": {
             "colorbar": {
              "outlinewidth": 0,
              "ticks": ""
             }
            },
            "marker": {
             "colorbar": {
              "outlinewidth": 0,
              "ticks": ""
             }
            },
            "type": "scatter3d"
           }
          ],
          "scattercarpet": [
           {
            "marker": {
             "colorbar": {
              "outlinewidth": 0,
              "ticks": ""
             }
            },
            "type": "scattercarpet"
           }
          ],
          "scattergeo": [
           {
            "marker": {
             "colorbar": {
              "outlinewidth": 0,
              "ticks": ""
             }
            },
            "type": "scattergeo"
           }
          ],
          "scattergl": [
           {
            "marker": {
             "colorbar": {
              "outlinewidth": 0,
              "ticks": ""
             }
            },
            "type": "scattergl"
           }
          ],
          "scattermapbox": [
           {
            "marker": {
             "colorbar": {
              "outlinewidth": 0,
              "ticks": ""
             }
            },
            "type": "scattermapbox"
           }
          ],
          "scatterpolar": [
           {
            "marker": {
             "colorbar": {
              "outlinewidth": 0,
              "ticks": ""
             }
            },
            "type": "scatterpolar"
           }
          ],
          "scatterpolargl": [
           {
            "marker": {
             "colorbar": {
              "outlinewidth": 0,
              "ticks": ""
             }
            },
            "type": "scatterpolargl"
           }
          ],
          "scatterternary": [
           {
            "marker": {
             "colorbar": {
              "outlinewidth": 0,
              "ticks": ""
             }
            },
            "type": "scatterternary"
           }
          ],
          "surface": [
           {
            "colorbar": {
             "outlinewidth": 0,
             "ticks": ""
            },
            "colorscale": [
             [
              0,
              "#0d0887"
             ],
             [
              0.1111111111111111,
              "#46039f"
             ],
             [
              0.2222222222222222,
              "#7201a8"
             ],
             [
              0.3333333333333333,
              "#9c179e"
             ],
             [
              0.4444444444444444,
              "#bd3786"
             ],
             [
              0.5555555555555556,
              "#d8576b"
             ],
             [
              0.6666666666666666,
              "#ed7953"
             ],
             [
              0.7777777777777778,
              "#fb9f3a"
             ],
             [
              0.8888888888888888,
              "#fdca26"
             ],
             [
              1,
              "#f0f921"
             ]
            ],
            "type": "surface"
           }
          ],
          "table": [
           {
            "cells": {
             "fill": {
              "color": "#EBF0F8"
             },
             "line": {
              "color": "white"
             }
            },
            "header": {
             "fill": {
              "color": "#C8D4E3"
             },
             "line": {
              "color": "white"
             }
            },
            "type": "table"
           }
          ]
         },
         "layout": {
          "annotationdefaults": {
           "arrowcolor": "#2a3f5f",
           "arrowhead": 0,
           "arrowwidth": 1
          },
          "autotypenumbers": "strict",
          "coloraxis": {
           "colorbar": {
            "outlinewidth": 0,
            "ticks": ""
           }
          },
          "colorscale": {
           "diverging": [
            [
             0,
             "#8e0152"
            ],
            [
             0.1,
             "#c51b7d"
            ],
            [
             0.2,
             "#de77ae"
            ],
            [
             0.3,
             "#f1b6da"
            ],
            [
             0.4,
             "#fde0ef"
            ],
            [
             0.5,
             "#f7f7f7"
            ],
            [
             0.6,
             "#e6f5d0"
            ],
            [
             0.7,
             "#b8e186"
            ],
            [
             0.8,
             "#7fbc41"
            ],
            [
             0.9,
             "#4d9221"
            ],
            [
             1,
             "#276419"
            ]
           ],
           "sequential": [
            [
             0,
             "#0d0887"
            ],
            [
             0.1111111111111111,
             "#46039f"
            ],
            [
             0.2222222222222222,
             "#7201a8"
            ],
            [
             0.3333333333333333,
             "#9c179e"
            ],
            [
             0.4444444444444444,
             "#bd3786"
            ],
            [
             0.5555555555555556,
             "#d8576b"
            ],
            [
             0.6666666666666666,
             "#ed7953"
            ],
            [
             0.7777777777777778,
             "#fb9f3a"
            ],
            [
             0.8888888888888888,
             "#fdca26"
            ],
            [
             1,
             "#f0f921"
            ]
           ],
           "sequentialminus": [
            [
             0,
             "#0d0887"
            ],
            [
             0.1111111111111111,
             "#46039f"
            ],
            [
             0.2222222222222222,
             "#7201a8"
            ],
            [
             0.3333333333333333,
             "#9c179e"
            ],
            [
             0.4444444444444444,
             "#bd3786"
            ],
            [
             0.5555555555555556,
             "#d8576b"
            ],
            [
             0.6666666666666666,
             "#ed7953"
            ],
            [
             0.7777777777777778,
             "#fb9f3a"
            ],
            [
             0.8888888888888888,
             "#fdca26"
            ],
            [
             1,
             "#f0f921"
            ]
           ]
          },
          "colorway": [
           "#636efa",
           "#EF553B",
           "#00cc96",
           "#ab63fa",
           "#FFA15A",
           "#19d3f3",
           "#FF6692",
           "#B6E880",
           "#FF97FF",
           "#FECB52"
          ],
          "font": {
           "color": "#2a3f5f"
          },
          "geo": {
           "bgcolor": "white",
           "lakecolor": "white",
           "landcolor": "#E5ECF6",
           "showlakes": true,
           "showland": true,
           "subunitcolor": "white"
          },
          "hoverlabel": {
           "align": "left"
          },
          "hovermode": "closest",
          "mapbox": {
           "style": "light"
          },
          "paper_bgcolor": "white",
          "plot_bgcolor": "#E5ECF6",
          "polar": {
           "angularaxis": {
            "gridcolor": "white",
            "linecolor": "white",
            "ticks": ""
           },
           "bgcolor": "#E5ECF6",
           "radialaxis": {
            "gridcolor": "white",
            "linecolor": "white",
            "ticks": ""
           }
          },
          "scene": {
           "xaxis": {
            "backgroundcolor": "#E5ECF6",
            "gridcolor": "white",
            "gridwidth": 2,
            "linecolor": "white",
            "showbackground": true,
            "ticks": "",
            "zerolinecolor": "white"
           },
           "yaxis": {
            "backgroundcolor": "#E5ECF6",
            "gridcolor": "white",
            "gridwidth": 2,
            "linecolor": "white",
            "showbackground": true,
            "ticks": "",
            "zerolinecolor": "white"
           },
           "zaxis": {
            "backgroundcolor": "#E5ECF6",
            "gridcolor": "white",
            "gridwidth": 2,
            "linecolor": "white",
            "showbackground": true,
            "ticks": "",
            "zerolinecolor": "white"
           }
          },
          "shapedefaults": {
           "line": {
            "color": "#2a3f5f"
           }
          },
          "ternary": {
           "aaxis": {
            "gridcolor": "white",
            "linecolor": "white",
            "ticks": ""
           },
           "baxis": {
            "gridcolor": "white",
            "linecolor": "white",
            "ticks": ""
           },
           "bgcolor": "#E5ECF6",
           "caxis": {
            "gridcolor": "white",
            "linecolor": "white",
            "ticks": ""
           }
          },
          "title": {
           "x": 0.05
          },
          "xaxis": {
           "automargin": true,
           "gridcolor": "white",
           "linecolor": "white",
           "ticks": "",
           "title": {
            "standoff": 15
           },
           "zerolinecolor": "white",
           "zerolinewidth": 2
          },
          "yaxis": {
           "automargin": true,
           "gridcolor": "white",
           "linecolor": "white",
           "ticks": "",
           "title": {
            "standoff": 15
           },
           "zerolinecolor": "white",
           "zerolinewidth": 2
          }
         }
        },
        "title": {
         "text": "Peak Day Comments Video"
        },
        "xaxis": {
         "anchor": "y",
         "categoryarray": [
          "Tuesday",
          "Wednesday",
          "Monday",
          "Thursday",
          "Friday",
          "Saturday",
          "Sunday"
         ],
         "categoryorder": "array",
         "domain": [
          0,
          1
         ],
         "title": {
          "text": "Day"
         }
        },
        "yaxis": {
         "anchor": "x",
         "domain": [
          0,
          1
         ],
         "title": {
          "text": "Most Comment"
         }
        }
       }
      }
     },
     "metadata": {},
     "output_type": "display_data"
    }
   ],
   "source": [
    "day_group = peak_time['Date'].value_counts().head(7)\n",
    "day_group = pd.DataFrame(data=day_group)\n",
    "day_group.reset_index(inplace=True)\n",
    "day_group = day_group.rename(columns = {'index':'Day','Date':'Most Comment'})\n",
    "day_group\n",
    "\n",
    "fig2 = px.bar(day_group, x='Day', y='Most Comment', \n",
    "              color='Day', title = 'Peak Day Comments Video', height=400)\n",
    "fig2.show()"
   ]
  },
  {
   "cell_type": "code",
   "execution_count": 35,
   "metadata": {},
   "outputs": [],
   "source": [
    "label_day_group = peak_time.groupby(['Date', 'Label']).size().reset_index(name='counts')\\\n",
    "                            .sort_values(['counts'], ascending=False)"
   ]
  },
  {
   "cell_type": "code",
   "execution_count": 36,
   "metadata": {},
   "outputs": [
    {
     "data": {
      "text/html": [
       "<div>\n",
       "<style scoped>\n",
       "    .dataframe tbody tr th:only-of-type {\n",
       "        vertical-align: middle;\n",
       "    }\n",
       "\n",
       "    .dataframe tbody tr th {\n",
       "        vertical-align: top;\n",
       "    }\n",
       "\n",
       "    .dataframe thead th {\n",
       "        text-align: right;\n",
       "    }\n",
       "</style>\n",
       "<table border=\"1\" class=\"dataframe\">\n",
       "  <thead>\n",
       "    <tr style=\"text-align: right;\">\n",
       "      <th></th>\n",
       "      <th>Date</th>\n",
       "      <th>Label</th>\n",
       "      <th>counts</th>\n",
       "    </tr>\n",
       "  </thead>\n",
       "  <tbody>\n",
       "    <tr>\n",
       "      <th>10</th>\n",
       "      <td>Tuesday</td>\n",
       "      <td>legitimate</td>\n",
       "      <td>410</td>\n",
       "    </tr>\n",
       "    <tr>\n",
       "      <th>12</th>\n",
       "      <td>Wednesday</td>\n",
       "      <td>legitimate</td>\n",
       "      <td>282</td>\n",
       "    </tr>\n",
       "    <tr>\n",
       "      <th>2</th>\n",
       "      <td>Monday</td>\n",
       "      <td>legitimate</td>\n",
       "      <td>247</td>\n",
       "    </tr>\n",
       "    <tr>\n",
       "      <th>11</th>\n",
       "      <td>Tuesday</td>\n",
       "      <td>spam</td>\n",
       "      <td>240</td>\n",
       "    </tr>\n",
       "    <tr>\n",
       "      <th>13</th>\n",
       "      <td>Wednesday</td>\n",
       "      <td>spam</td>\n",
       "      <td>224</td>\n",
       "    </tr>\n",
       "    <tr>\n",
       "      <th>8</th>\n",
       "      <td>Thursday</td>\n",
       "      <td>legitimate</td>\n",
       "      <td>206</td>\n",
       "    </tr>\n",
       "    <tr>\n",
       "      <th>9</th>\n",
       "      <td>Thursday</td>\n",
       "      <td>spam</td>\n",
       "      <td>190</td>\n",
       "    </tr>\n",
       "    <tr>\n",
       "      <th>0</th>\n",
       "      <td>Friday</td>\n",
       "      <td>legitimate</td>\n",
       "      <td>188</td>\n",
       "    </tr>\n",
       "    <tr>\n",
       "      <th>4</th>\n",
       "      <td>Saturday</td>\n",
       "      <td>legitimate</td>\n",
       "      <td>166</td>\n",
       "    </tr>\n",
       "    <tr>\n",
       "      <th>3</th>\n",
       "      <td>Monday</td>\n",
       "      <td>spam</td>\n",
       "      <td>152</td>\n",
       "    </tr>\n",
       "    <tr>\n",
       "      <th>1</th>\n",
       "      <td>Friday</td>\n",
       "      <td>spam</td>\n",
       "      <td>148</td>\n",
       "    </tr>\n",
       "    <tr>\n",
       "      <th>5</th>\n",
       "      <td>Saturday</td>\n",
       "      <td>spam</td>\n",
       "      <td>141</td>\n",
       "    </tr>\n",
       "    <tr>\n",
       "      <th>6</th>\n",
       "      <td>Sunday</td>\n",
       "      <td>legitimate</td>\n",
       "      <td>138</td>\n",
       "    </tr>\n",
       "    <tr>\n",
       "      <th>7</th>\n",
       "      <td>Sunday</td>\n",
       "      <td>spam</td>\n",
       "      <td>115</td>\n",
       "    </tr>\n",
       "  </tbody>\n",
       "</table>\n",
       "</div>"
      ],
      "text/plain": [
       "         Date       Label  counts\n",
       "10    Tuesday  legitimate     410\n",
       "12  Wednesday  legitimate     282\n",
       "2      Monday  legitimate     247\n",
       "11    Tuesday        spam     240\n",
       "13  Wednesday        spam     224\n",
       "8    Thursday  legitimate     206\n",
       "9    Thursday        spam     190\n",
       "0      Friday  legitimate     188\n",
       "4    Saturday  legitimate     166\n",
       "3      Monday        spam     152\n",
       "1      Friday        spam     148\n",
       "5    Saturday        spam     141\n",
       "6      Sunday  legitimate     138\n",
       "7      Sunday        spam     115"
      ]
     },
     "execution_count": 36,
     "metadata": {},
     "output_type": "execute_result"
    }
   ],
   "source": [
    "label_day_group"
   ]
  },
  {
   "cell_type": "code",
   "execution_count": 37,
   "metadata": {},
   "outputs": [
    {
     "data": {
      "application/vnd.plotly.v1+json": {
       "config": {
        "plotlyServerURL": "https://plot.ly"
       },
       "data": [
        {
         "alignmentgroup": "True",
         "bingroup": "x",
         "histfunc": "sum",
         "hovertemplate": "Label=legitimate<br>Date=%{x}<br>sum of Total=%{y}<extra></extra>",
         "legendgroup": "legitimate",
         "marker": {
          "color": "#636efa",
          "pattern": {
           "shape": ""
          }
         },
         "name": "legitimate",
         "offsetgroup": "legitimate",
         "orientation": "v",
         "showlegend": true,
         "type": "histogram",
         "x": [
          "Tuesday",
          "Wednesday",
          "Monday",
          "Thursday",
          "Friday",
          "Saturday",
          "Sunday"
         ],
         "xaxis": "x",
         "y": [
          410,
          282,
          247,
          206,
          188,
          166,
          138
         ],
         "yaxis": "y"
        },
        {
         "alignmentgroup": "True",
         "bingroup": "x",
         "histfunc": "sum",
         "hovertemplate": "Label=spam<br>Date=%{x}<br>sum of Total=%{y}<extra></extra>",
         "legendgroup": "spam",
         "marker": {
          "color": "#EF553B",
          "pattern": {
           "shape": ""
          }
         },
         "name": "spam",
         "offsetgroup": "spam",
         "orientation": "v",
         "showlegend": true,
         "type": "histogram",
         "x": [
          "Tuesday",
          "Wednesday",
          "Thursday",
          "Monday",
          "Friday",
          "Saturday",
          "Sunday"
         ],
         "xaxis": "x",
         "y": [
          240,
          224,
          190,
          152,
          148,
          141,
          115
         ],
         "yaxis": "y"
        }
       ],
       "layout": {
        "barmode": "group",
        "height": 600,
        "legend": {
         "title": {
          "text": "Label"
         },
         "tracegroupgap": 0
        },
        "template": {
         "data": {
          "bar": [
           {
            "error_x": {
             "color": "#2a3f5f"
            },
            "error_y": {
             "color": "#2a3f5f"
            },
            "marker": {
             "line": {
              "color": "#E5ECF6",
              "width": 0.5
             },
             "pattern": {
              "fillmode": "overlay",
              "size": 10,
              "solidity": 0.2
             }
            },
            "type": "bar"
           }
          ],
          "barpolar": [
           {
            "marker": {
             "line": {
              "color": "#E5ECF6",
              "width": 0.5
             },
             "pattern": {
              "fillmode": "overlay",
              "size": 10,
              "solidity": 0.2
             }
            },
            "type": "barpolar"
           }
          ],
          "carpet": [
           {
            "aaxis": {
             "endlinecolor": "#2a3f5f",
             "gridcolor": "white",
             "linecolor": "white",
             "minorgridcolor": "white",
             "startlinecolor": "#2a3f5f"
            },
            "baxis": {
             "endlinecolor": "#2a3f5f",
             "gridcolor": "white",
             "linecolor": "white",
             "minorgridcolor": "white",
             "startlinecolor": "#2a3f5f"
            },
            "type": "carpet"
           }
          ],
          "choropleth": [
           {
            "colorbar": {
             "outlinewidth": 0,
             "ticks": ""
            },
            "type": "choropleth"
           }
          ],
          "contour": [
           {
            "colorbar": {
             "outlinewidth": 0,
             "ticks": ""
            },
            "colorscale": [
             [
              0,
              "#0d0887"
             ],
             [
              0.1111111111111111,
              "#46039f"
             ],
             [
              0.2222222222222222,
              "#7201a8"
             ],
             [
              0.3333333333333333,
              "#9c179e"
             ],
             [
              0.4444444444444444,
              "#bd3786"
             ],
             [
              0.5555555555555556,
              "#d8576b"
             ],
             [
              0.6666666666666666,
              "#ed7953"
             ],
             [
              0.7777777777777778,
              "#fb9f3a"
             ],
             [
              0.8888888888888888,
              "#fdca26"
             ],
             [
              1,
              "#f0f921"
             ]
            ],
            "type": "contour"
           }
          ],
          "contourcarpet": [
           {
            "colorbar": {
             "outlinewidth": 0,
             "ticks": ""
            },
            "type": "contourcarpet"
           }
          ],
          "heatmap": [
           {
            "colorbar": {
             "outlinewidth": 0,
             "ticks": ""
            },
            "colorscale": [
             [
              0,
              "#0d0887"
             ],
             [
              0.1111111111111111,
              "#46039f"
             ],
             [
              0.2222222222222222,
              "#7201a8"
             ],
             [
              0.3333333333333333,
              "#9c179e"
             ],
             [
              0.4444444444444444,
              "#bd3786"
             ],
             [
              0.5555555555555556,
              "#d8576b"
             ],
             [
              0.6666666666666666,
              "#ed7953"
             ],
             [
              0.7777777777777778,
              "#fb9f3a"
             ],
             [
              0.8888888888888888,
              "#fdca26"
             ],
             [
              1,
              "#f0f921"
             ]
            ],
            "type": "heatmap"
           }
          ],
          "heatmapgl": [
           {
            "colorbar": {
             "outlinewidth": 0,
             "ticks": ""
            },
            "colorscale": [
             [
              0,
              "#0d0887"
             ],
             [
              0.1111111111111111,
              "#46039f"
             ],
             [
              0.2222222222222222,
              "#7201a8"
             ],
             [
              0.3333333333333333,
              "#9c179e"
             ],
             [
              0.4444444444444444,
              "#bd3786"
             ],
             [
              0.5555555555555556,
              "#d8576b"
             ],
             [
              0.6666666666666666,
              "#ed7953"
             ],
             [
              0.7777777777777778,
              "#fb9f3a"
             ],
             [
              0.8888888888888888,
              "#fdca26"
             ],
             [
              1,
              "#f0f921"
             ]
            ],
            "type": "heatmapgl"
           }
          ],
          "histogram": [
           {
            "marker": {
             "pattern": {
              "fillmode": "overlay",
              "size": 10,
              "solidity": 0.2
             }
            },
            "type": "histogram"
           }
          ],
          "histogram2d": [
           {
            "colorbar": {
             "outlinewidth": 0,
             "ticks": ""
            },
            "colorscale": [
             [
              0,
              "#0d0887"
             ],
             [
              0.1111111111111111,
              "#46039f"
             ],
             [
              0.2222222222222222,
              "#7201a8"
             ],
             [
              0.3333333333333333,
              "#9c179e"
             ],
             [
              0.4444444444444444,
              "#bd3786"
             ],
             [
              0.5555555555555556,
              "#d8576b"
             ],
             [
              0.6666666666666666,
              "#ed7953"
             ],
             [
              0.7777777777777778,
              "#fb9f3a"
             ],
             [
              0.8888888888888888,
              "#fdca26"
             ],
             [
              1,
              "#f0f921"
             ]
            ],
            "type": "histogram2d"
           }
          ],
          "histogram2dcontour": [
           {
            "colorbar": {
             "outlinewidth": 0,
             "ticks": ""
            },
            "colorscale": [
             [
              0,
              "#0d0887"
             ],
             [
              0.1111111111111111,
              "#46039f"
             ],
             [
              0.2222222222222222,
              "#7201a8"
             ],
             [
              0.3333333333333333,
              "#9c179e"
             ],
             [
              0.4444444444444444,
              "#bd3786"
             ],
             [
              0.5555555555555556,
              "#d8576b"
             ],
             [
              0.6666666666666666,
              "#ed7953"
             ],
             [
              0.7777777777777778,
              "#fb9f3a"
             ],
             [
              0.8888888888888888,
              "#fdca26"
             ],
             [
              1,
              "#f0f921"
             ]
            ],
            "type": "histogram2dcontour"
           }
          ],
          "mesh3d": [
           {
            "colorbar": {
             "outlinewidth": 0,
             "ticks": ""
            },
            "type": "mesh3d"
           }
          ],
          "parcoords": [
           {
            "line": {
             "colorbar": {
              "outlinewidth": 0,
              "ticks": ""
             }
            },
            "type": "parcoords"
           }
          ],
          "pie": [
           {
            "automargin": true,
            "type": "pie"
           }
          ],
          "scatter": [
           {
            "fillpattern": {
             "fillmode": "overlay",
             "size": 10,
             "solidity": 0.2
            },
            "type": "scatter"
           }
          ],
          "scatter3d": [
           {
            "line": {
             "colorbar": {
              "outlinewidth": 0,
              "ticks": ""
             }
            },
            "marker": {
             "colorbar": {
              "outlinewidth": 0,
              "ticks": ""
             }
            },
            "type": "scatter3d"
           }
          ],
          "scattercarpet": [
           {
            "marker": {
             "colorbar": {
              "outlinewidth": 0,
              "ticks": ""
             }
            },
            "type": "scattercarpet"
           }
          ],
          "scattergeo": [
           {
            "marker": {
             "colorbar": {
              "outlinewidth": 0,
              "ticks": ""
             }
            },
            "type": "scattergeo"
           }
          ],
          "scattergl": [
           {
            "marker": {
             "colorbar": {
              "outlinewidth": 0,
              "ticks": ""
             }
            },
            "type": "scattergl"
           }
          ],
          "scattermapbox": [
           {
            "marker": {
             "colorbar": {
              "outlinewidth": 0,
              "ticks": ""
             }
            },
            "type": "scattermapbox"
           }
          ],
          "scatterpolar": [
           {
            "marker": {
             "colorbar": {
              "outlinewidth": 0,
              "ticks": ""
             }
            },
            "type": "scatterpolar"
           }
          ],
          "scatterpolargl": [
           {
            "marker": {
             "colorbar": {
              "outlinewidth": 0,
              "ticks": ""
             }
            },
            "type": "scatterpolargl"
           }
          ],
          "scatterternary": [
           {
            "marker": {
             "colorbar": {
              "outlinewidth": 0,
              "ticks": ""
             }
            },
            "type": "scatterternary"
           }
          ],
          "surface": [
           {
            "colorbar": {
             "outlinewidth": 0,
             "ticks": ""
            },
            "colorscale": [
             [
              0,
              "#0d0887"
             ],
             [
              0.1111111111111111,
              "#46039f"
             ],
             [
              0.2222222222222222,
              "#7201a8"
             ],
             [
              0.3333333333333333,
              "#9c179e"
             ],
             [
              0.4444444444444444,
              "#bd3786"
             ],
             [
              0.5555555555555556,
              "#d8576b"
             ],
             [
              0.6666666666666666,
              "#ed7953"
             ],
             [
              0.7777777777777778,
              "#fb9f3a"
             ],
             [
              0.8888888888888888,
              "#fdca26"
             ],
             [
              1,
              "#f0f921"
             ]
            ],
            "type": "surface"
           }
          ],
          "table": [
           {
            "cells": {
             "fill": {
              "color": "#EBF0F8"
             },
             "line": {
              "color": "white"
             }
            },
            "header": {
             "fill": {
              "color": "#C8D4E3"
             },
             "line": {
              "color": "white"
             }
            },
            "type": "table"
           }
          ]
         },
         "layout": {
          "annotationdefaults": {
           "arrowcolor": "#2a3f5f",
           "arrowhead": 0,
           "arrowwidth": 1
          },
          "autotypenumbers": "strict",
          "coloraxis": {
           "colorbar": {
            "outlinewidth": 0,
            "ticks": ""
           }
          },
          "colorscale": {
           "diverging": [
            [
             0,
             "#8e0152"
            ],
            [
             0.1,
             "#c51b7d"
            ],
            [
             0.2,
             "#de77ae"
            ],
            [
             0.3,
             "#f1b6da"
            ],
            [
             0.4,
             "#fde0ef"
            ],
            [
             0.5,
             "#f7f7f7"
            ],
            [
             0.6,
             "#e6f5d0"
            ],
            [
             0.7,
             "#b8e186"
            ],
            [
             0.8,
             "#7fbc41"
            ],
            [
             0.9,
             "#4d9221"
            ],
            [
             1,
             "#276419"
            ]
           ],
           "sequential": [
            [
             0,
             "#0d0887"
            ],
            [
             0.1111111111111111,
             "#46039f"
            ],
            [
             0.2222222222222222,
             "#7201a8"
            ],
            [
             0.3333333333333333,
             "#9c179e"
            ],
            [
             0.4444444444444444,
             "#bd3786"
            ],
            [
             0.5555555555555556,
             "#d8576b"
            ],
            [
             0.6666666666666666,
             "#ed7953"
            ],
            [
             0.7777777777777778,
             "#fb9f3a"
            ],
            [
             0.8888888888888888,
             "#fdca26"
            ],
            [
             1,
             "#f0f921"
            ]
           ],
           "sequentialminus": [
            [
             0,
             "#0d0887"
            ],
            [
             0.1111111111111111,
             "#46039f"
            ],
            [
             0.2222222222222222,
             "#7201a8"
            ],
            [
             0.3333333333333333,
             "#9c179e"
            ],
            [
             0.4444444444444444,
             "#bd3786"
            ],
            [
             0.5555555555555556,
             "#d8576b"
            ],
            [
             0.6666666666666666,
             "#ed7953"
            ],
            [
             0.7777777777777778,
             "#fb9f3a"
            ],
            [
             0.8888888888888888,
             "#fdca26"
            ],
            [
             1,
             "#f0f921"
            ]
           ]
          },
          "colorway": [
           "#636efa",
           "#EF553B",
           "#00cc96",
           "#ab63fa",
           "#FFA15A",
           "#19d3f3",
           "#FF6692",
           "#B6E880",
           "#FF97FF",
           "#FECB52"
          ],
          "font": {
           "color": "#2a3f5f"
          },
          "geo": {
           "bgcolor": "white",
           "lakecolor": "white",
           "landcolor": "#E5ECF6",
           "showlakes": true,
           "showland": true,
           "subunitcolor": "white"
          },
          "hoverlabel": {
           "align": "left"
          },
          "hovermode": "closest",
          "mapbox": {
           "style": "light"
          },
          "paper_bgcolor": "white",
          "plot_bgcolor": "#E5ECF6",
          "polar": {
           "angularaxis": {
            "gridcolor": "white",
            "linecolor": "white",
            "ticks": ""
           },
           "bgcolor": "#E5ECF6",
           "radialaxis": {
            "gridcolor": "white",
            "linecolor": "white",
            "ticks": ""
           }
          },
          "scene": {
           "xaxis": {
            "backgroundcolor": "#E5ECF6",
            "gridcolor": "white",
            "gridwidth": 2,
            "linecolor": "white",
            "showbackground": true,
            "ticks": "",
            "zerolinecolor": "white"
           },
           "yaxis": {
            "backgroundcolor": "#E5ECF6",
            "gridcolor": "white",
            "gridwidth": 2,
            "linecolor": "white",
            "showbackground": true,
            "ticks": "",
            "zerolinecolor": "white"
           },
           "zaxis": {
            "backgroundcolor": "#E5ECF6",
            "gridcolor": "white",
            "gridwidth": 2,
            "linecolor": "white",
            "showbackground": true,
            "ticks": "",
            "zerolinecolor": "white"
           }
          },
          "shapedefaults": {
           "line": {
            "color": "#2a3f5f"
           }
          },
          "ternary": {
           "aaxis": {
            "gridcolor": "white",
            "linecolor": "white",
            "ticks": ""
           },
           "baxis": {
            "gridcolor": "white",
            "linecolor": "white",
            "ticks": ""
           },
           "bgcolor": "#E5ECF6",
           "caxis": {
            "gridcolor": "white",
            "linecolor": "white",
            "ticks": ""
           }
          },
          "title": {
           "x": 0.05
          },
          "xaxis": {
           "automargin": true,
           "gridcolor": "white",
           "linecolor": "white",
           "ticks": "",
           "title": {
            "standoff": 15
           },
           "zerolinecolor": "white",
           "zerolinewidth": 2
          },
          "yaxis": {
           "automargin": true,
           "gridcolor": "white",
           "linecolor": "white",
           "ticks": "",
           "title": {
            "standoff": 15
           },
           "zerolinecolor": "white",
           "zerolinewidth": 2
          }
         }
        },
        "title": {
         "text": "Peak Day Comments Based on Label"
        },
        "width": 1200,
        "xaxis": {
         "anchor": "y",
         "domain": [
          0,
          1
         ],
         "title": {
          "text": "Date"
         }
        },
        "yaxis": {
         "anchor": "x",
         "domain": [
          0,
          1
         ],
         "title": {
          "text": "sum of Total"
         }
        }
       }
      }
     },
     "metadata": {},
     "output_type": "display_data"
    }
   ],
   "source": [
    "label_day_group = label_day_group.rename(columns={'counts':'Total'})\n",
    "fig2 = px.histogram(label_day_group, x='Date', y='Total', \n",
    "              color='Label', title = 'Peak Day Comments Based on Label', barmode=\"group\", width=1200, height=600)\n",
    "fig2.show()"
   ]
  },
  {
   "cell_type": "markdown",
   "metadata": {},
   "source": [
    "### Spam and Legitimate Comments Histogram"
   ]
  },
  {
   "cell_type": "code",
   "execution_count": 39,
   "metadata": {},
   "outputs": [
    {
     "data": {
      "application/vnd.plotly.v1+json": {
       "config": {
        "plotlyServerURL": "https://plot.ly"
       },
       "data": [
        {
         "alignmentgroup": "True",
         "hovertemplate": "Kind of Label=%{x}<br>Count a Spam or Legitimate=%{y}<extra></extra>",
         "legendgroup": "legitimate",
         "marker": {
          "color": "#636efa",
          "pattern": {
           "shape": ""
          }
         },
         "name": "legitimate",
         "offsetgroup": "legitimate",
         "orientation": "v",
         "showlegend": true,
         "textposition": "auto",
         "type": "bar",
         "x": [
          "legitimate"
         ],
         "xaxis": "x",
         "y": [
          1637
         ],
         "yaxis": "y"
        },
        {
         "alignmentgroup": "True",
         "hovertemplate": "Kind of Label=%{x}<br>Count a Spam or Legitimate=%{y}<extra></extra>",
         "legendgroup": "spam",
         "marker": {
          "color": "#EF553B",
          "pattern": {
           "shape": ""
          }
         },
         "name": "spam",
         "offsetgroup": "spam",
         "orientation": "v",
         "showlegend": true,
         "textposition": "auto",
         "type": "bar",
         "x": [
          "spam"
         ],
         "xaxis": "x",
         "y": [
          1210
         ],
         "yaxis": "y"
        }
       ],
       "layout": {
        "barmode": "relative",
        "height": 600,
        "legend": {
         "title": {
          "text": "Kind of Label"
         },
         "tracegroupgap": 0
        },
        "template": {
         "data": {
          "bar": [
           {
            "error_x": {
             "color": "#2a3f5f"
            },
            "error_y": {
             "color": "#2a3f5f"
            },
            "marker": {
             "line": {
              "color": "#E5ECF6",
              "width": 0.5
             },
             "pattern": {
              "fillmode": "overlay",
              "size": 10,
              "solidity": 0.2
             }
            },
            "type": "bar"
           }
          ],
          "barpolar": [
           {
            "marker": {
             "line": {
              "color": "#E5ECF6",
              "width": 0.5
             },
             "pattern": {
              "fillmode": "overlay",
              "size": 10,
              "solidity": 0.2
             }
            },
            "type": "barpolar"
           }
          ],
          "carpet": [
           {
            "aaxis": {
             "endlinecolor": "#2a3f5f",
             "gridcolor": "white",
             "linecolor": "white",
             "minorgridcolor": "white",
             "startlinecolor": "#2a3f5f"
            },
            "baxis": {
             "endlinecolor": "#2a3f5f",
             "gridcolor": "white",
             "linecolor": "white",
             "minorgridcolor": "white",
             "startlinecolor": "#2a3f5f"
            },
            "type": "carpet"
           }
          ],
          "choropleth": [
           {
            "colorbar": {
             "outlinewidth": 0,
             "ticks": ""
            },
            "type": "choropleth"
           }
          ],
          "contour": [
           {
            "colorbar": {
             "outlinewidth": 0,
             "ticks": ""
            },
            "colorscale": [
             [
              0,
              "#0d0887"
             ],
             [
              0.1111111111111111,
              "#46039f"
             ],
             [
              0.2222222222222222,
              "#7201a8"
             ],
             [
              0.3333333333333333,
              "#9c179e"
             ],
             [
              0.4444444444444444,
              "#bd3786"
             ],
             [
              0.5555555555555556,
              "#d8576b"
             ],
             [
              0.6666666666666666,
              "#ed7953"
             ],
             [
              0.7777777777777778,
              "#fb9f3a"
             ],
             [
              0.8888888888888888,
              "#fdca26"
             ],
             [
              1,
              "#f0f921"
             ]
            ],
            "type": "contour"
           }
          ],
          "contourcarpet": [
           {
            "colorbar": {
             "outlinewidth": 0,
             "ticks": ""
            },
            "type": "contourcarpet"
           }
          ],
          "heatmap": [
           {
            "colorbar": {
             "outlinewidth": 0,
             "ticks": ""
            },
            "colorscale": [
             [
              0,
              "#0d0887"
             ],
             [
              0.1111111111111111,
              "#46039f"
             ],
             [
              0.2222222222222222,
              "#7201a8"
             ],
             [
              0.3333333333333333,
              "#9c179e"
             ],
             [
              0.4444444444444444,
              "#bd3786"
             ],
             [
              0.5555555555555556,
              "#d8576b"
             ],
             [
              0.6666666666666666,
              "#ed7953"
             ],
             [
              0.7777777777777778,
              "#fb9f3a"
             ],
             [
              0.8888888888888888,
              "#fdca26"
             ],
             [
              1,
              "#f0f921"
             ]
            ],
            "type": "heatmap"
           }
          ],
          "heatmapgl": [
           {
            "colorbar": {
             "outlinewidth": 0,
             "ticks": ""
            },
            "colorscale": [
             [
              0,
              "#0d0887"
             ],
             [
              0.1111111111111111,
              "#46039f"
             ],
             [
              0.2222222222222222,
              "#7201a8"
             ],
             [
              0.3333333333333333,
              "#9c179e"
             ],
             [
              0.4444444444444444,
              "#bd3786"
             ],
             [
              0.5555555555555556,
              "#d8576b"
             ],
             [
              0.6666666666666666,
              "#ed7953"
             ],
             [
              0.7777777777777778,
              "#fb9f3a"
             ],
             [
              0.8888888888888888,
              "#fdca26"
             ],
             [
              1,
              "#f0f921"
             ]
            ],
            "type": "heatmapgl"
           }
          ],
          "histogram": [
           {
            "marker": {
             "pattern": {
              "fillmode": "overlay",
              "size": 10,
              "solidity": 0.2
             }
            },
            "type": "histogram"
           }
          ],
          "histogram2d": [
           {
            "colorbar": {
             "outlinewidth": 0,
             "ticks": ""
            },
            "colorscale": [
             [
              0,
              "#0d0887"
             ],
             [
              0.1111111111111111,
              "#46039f"
             ],
             [
              0.2222222222222222,
              "#7201a8"
             ],
             [
              0.3333333333333333,
              "#9c179e"
             ],
             [
              0.4444444444444444,
              "#bd3786"
             ],
             [
              0.5555555555555556,
              "#d8576b"
             ],
             [
              0.6666666666666666,
              "#ed7953"
             ],
             [
              0.7777777777777778,
              "#fb9f3a"
             ],
             [
              0.8888888888888888,
              "#fdca26"
             ],
             [
              1,
              "#f0f921"
             ]
            ],
            "type": "histogram2d"
           }
          ],
          "histogram2dcontour": [
           {
            "colorbar": {
             "outlinewidth": 0,
             "ticks": ""
            },
            "colorscale": [
             [
              0,
              "#0d0887"
             ],
             [
              0.1111111111111111,
              "#46039f"
             ],
             [
              0.2222222222222222,
              "#7201a8"
             ],
             [
              0.3333333333333333,
              "#9c179e"
             ],
             [
              0.4444444444444444,
              "#bd3786"
             ],
             [
              0.5555555555555556,
              "#d8576b"
             ],
             [
              0.6666666666666666,
              "#ed7953"
             ],
             [
              0.7777777777777778,
              "#fb9f3a"
             ],
             [
              0.8888888888888888,
              "#fdca26"
             ],
             [
              1,
              "#f0f921"
             ]
            ],
            "type": "histogram2dcontour"
           }
          ],
          "mesh3d": [
           {
            "colorbar": {
             "outlinewidth": 0,
             "ticks": ""
            },
            "type": "mesh3d"
           }
          ],
          "parcoords": [
           {
            "line": {
             "colorbar": {
              "outlinewidth": 0,
              "ticks": ""
             }
            },
            "type": "parcoords"
           }
          ],
          "pie": [
           {
            "automargin": true,
            "type": "pie"
           }
          ],
          "scatter": [
           {
            "fillpattern": {
             "fillmode": "overlay",
             "size": 10,
             "solidity": 0.2
            },
            "type": "scatter"
           }
          ],
          "scatter3d": [
           {
            "line": {
             "colorbar": {
              "outlinewidth": 0,
              "ticks": ""
             }
            },
            "marker": {
             "colorbar": {
              "outlinewidth": 0,
              "ticks": ""
             }
            },
            "type": "scatter3d"
           }
          ],
          "scattercarpet": [
           {
            "marker": {
             "colorbar": {
              "outlinewidth": 0,
              "ticks": ""
             }
            },
            "type": "scattercarpet"
           }
          ],
          "scattergeo": [
           {
            "marker": {
             "colorbar": {
              "outlinewidth": 0,
              "ticks": ""
             }
            },
            "type": "scattergeo"
           }
          ],
          "scattergl": [
           {
            "marker": {
             "colorbar": {
              "outlinewidth": 0,
              "ticks": ""
             }
            },
            "type": "scattergl"
           }
          ],
          "scattermapbox": [
           {
            "marker": {
             "colorbar": {
              "outlinewidth": 0,
              "ticks": ""
             }
            },
            "type": "scattermapbox"
           }
          ],
          "scatterpolar": [
           {
            "marker": {
             "colorbar": {
              "outlinewidth": 0,
              "ticks": ""
             }
            },
            "type": "scatterpolar"
           }
          ],
          "scatterpolargl": [
           {
            "marker": {
             "colorbar": {
              "outlinewidth": 0,
              "ticks": ""
             }
            },
            "type": "scatterpolargl"
           }
          ],
          "scatterternary": [
           {
            "marker": {
             "colorbar": {
              "outlinewidth": 0,
              "ticks": ""
             }
            },
            "type": "scatterternary"
           }
          ],
          "surface": [
           {
            "colorbar": {
             "outlinewidth": 0,
             "ticks": ""
            },
            "colorscale": [
             [
              0,
              "#0d0887"
             ],
             [
              0.1111111111111111,
              "#46039f"
             ],
             [
              0.2222222222222222,
              "#7201a8"
             ],
             [
              0.3333333333333333,
              "#9c179e"
             ],
             [
              0.4444444444444444,
              "#bd3786"
             ],
             [
              0.5555555555555556,
              "#d8576b"
             ],
             [
              0.6666666666666666,
              "#ed7953"
             ],
             [
              0.7777777777777778,
              "#fb9f3a"
             ],
             [
              0.8888888888888888,
              "#fdca26"
             ],
             [
              1,
              "#f0f921"
             ]
            ],
            "type": "surface"
           }
          ],
          "table": [
           {
            "cells": {
             "fill": {
              "color": "#EBF0F8"
             },
             "line": {
              "color": "white"
             }
            },
            "header": {
             "fill": {
              "color": "#C8D4E3"
             },
             "line": {
              "color": "white"
             }
            },
            "type": "table"
           }
          ]
         },
         "layout": {
          "annotationdefaults": {
           "arrowcolor": "#2a3f5f",
           "arrowhead": 0,
           "arrowwidth": 1
          },
          "autotypenumbers": "strict",
          "coloraxis": {
           "colorbar": {
            "outlinewidth": 0,
            "ticks": ""
           }
          },
          "colorscale": {
           "diverging": [
            [
             0,
             "#8e0152"
            ],
            [
             0.1,
             "#c51b7d"
            ],
            [
             0.2,
             "#de77ae"
            ],
            [
             0.3,
             "#f1b6da"
            ],
            [
             0.4,
             "#fde0ef"
            ],
            [
             0.5,
             "#f7f7f7"
            ],
            [
             0.6,
             "#e6f5d0"
            ],
            [
             0.7,
             "#b8e186"
            ],
            [
             0.8,
             "#7fbc41"
            ],
            [
             0.9,
             "#4d9221"
            ],
            [
             1,
             "#276419"
            ]
           ],
           "sequential": [
            [
             0,
             "#0d0887"
            ],
            [
             0.1111111111111111,
             "#46039f"
            ],
            [
             0.2222222222222222,
             "#7201a8"
            ],
            [
             0.3333333333333333,
             "#9c179e"
            ],
            [
             0.4444444444444444,
             "#bd3786"
            ],
            [
             0.5555555555555556,
             "#d8576b"
            ],
            [
             0.6666666666666666,
             "#ed7953"
            ],
            [
             0.7777777777777778,
             "#fb9f3a"
            ],
            [
             0.8888888888888888,
             "#fdca26"
            ],
            [
             1,
             "#f0f921"
            ]
           ],
           "sequentialminus": [
            [
             0,
             "#0d0887"
            ],
            [
             0.1111111111111111,
             "#46039f"
            ],
            [
             0.2222222222222222,
             "#7201a8"
            ],
            [
             0.3333333333333333,
             "#9c179e"
            ],
            [
             0.4444444444444444,
             "#bd3786"
            ],
            [
             0.5555555555555556,
             "#d8576b"
            ],
            [
             0.6666666666666666,
             "#ed7953"
            ],
            [
             0.7777777777777778,
             "#fb9f3a"
            ],
            [
             0.8888888888888888,
             "#fdca26"
            ],
            [
             1,
             "#f0f921"
            ]
           ]
          },
          "colorway": [
           "#636efa",
           "#EF553B",
           "#00cc96",
           "#ab63fa",
           "#FFA15A",
           "#19d3f3",
           "#FF6692",
           "#B6E880",
           "#FF97FF",
           "#FECB52"
          ],
          "font": {
           "color": "#2a3f5f"
          },
          "geo": {
           "bgcolor": "white",
           "lakecolor": "white",
           "landcolor": "#E5ECF6",
           "showlakes": true,
           "showland": true,
           "subunitcolor": "white"
          },
          "hoverlabel": {
           "align": "left"
          },
          "hovermode": "closest",
          "mapbox": {
           "style": "light"
          },
          "paper_bgcolor": "white",
          "plot_bgcolor": "#E5ECF6",
          "polar": {
           "angularaxis": {
            "gridcolor": "white",
            "linecolor": "white",
            "ticks": ""
           },
           "bgcolor": "#E5ECF6",
           "radialaxis": {
            "gridcolor": "white",
            "linecolor": "white",
            "ticks": ""
           }
          },
          "scene": {
           "xaxis": {
            "backgroundcolor": "#E5ECF6",
            "gridcolor": "white",
            "gridwidth": 2,
            "linecolor": "white",
            "showbackground": true,
            "ticks": "",
            "zerolinecolor": "white"
           },
           "yaxis": {
            "backgroundcolor": "#E5ECF6",
            "gridcolor": "white",
            "gridwidth": 2,
            "linecolor": "white",
            "showbackground": true,
            "ticks": "",
            "zerolinecolor": "white"
           },
           "zaxis": {
            "backgroundcolor": "#E5ECF6",
            "gridcolor": "white",
            "gridwidth": 2,
            "linecolor": "white",
            "showbackground": true,
            "ticks": "",
            "zerolinecolor": "white"
           }
          },
          "shapedefaults": {
           "line": {
            "color": "#2a3f5f"
           }
          },
          "ternary": {
           "aaxis": {
            "gridcolor": "white",
            "linecolor": "white",
            "ticks": ""
           },
           "baxis": {
            "gridcolor": "white",
            "linecolor": "white",
            "ticks": ""
           },
           "bgcolor": "#E5ECF6",
           "caxis": {
            "gridcolor": "white",
            "linecolor": "white",
            "ticks": ""
           }
          },
          "title": {
           "x": 0.05
          },
          "xaxis": {
           "automargin": true,
           "gridcolor": "white",
           "linecolor": "white",
           "ticks": "",
           "title": {
            "standoff": 15
           },
           "zerolinecolor": "white",
           "zerolinewidth": 2
          },
          "yaxis": {
           "automargin": true,
           "gridcolor": "white",
           "linecolor": "white",
           "ticks": "",
           "title": {
            "standoff": 15
           },
           "zerolinecolor": "white",
           "zerolinewidth": 2
          }
         }
        },
        "title": {
         "text": "Spam or Legitimate Comments"
        },
        "width": 500,
        "xaxis": {
         "anchor": "y",
         "categoryarray": [
          "legitimate",
          "spam"
         ],
         "categoryorder": "array",
         "domain": [
          0,
          1
         ],
         "title": {
          "text": "Kind of Label"
         }
        },
        "yaxis": {
         "anchor": "x",
         "domain": [
          0,
          1
         ],
         "title": {
          "text": "Count a Spam or Legitimate"
         }
        }
       }
      }
     },
     "metadata": {},
     "output_type": "display_data"
    }
   ],
   "source": [
    "label = peak_time['Label'].value_counts().head(7)\n",
    "label = pd.DataFrame(data=label)\n",
    "label.reset_index(inplace=True)\n",
    "label = label.rename(columns = {'index':'Kind of Label','Label':'Count a Spam or Legitimate'})\n",
    "label\n",
    "\n",
    "fig2 = px.bar(label, x='Kind of Label', y='Count a Spam or Legitimate', \n",
    "              color='Kind of Label', title = 'Spam or Legitimate Comments', width=500, height=600)\n",
    "fig2.show()"
   ]
  },
  {
   "cell_type": "markdown",
   "metadata": {},
   "source": [
    "## **ToyData**\n",
    "\n",
    "**toyData** dibuat untuk mempermudah hasil proses cleaning maupun feature extraction yang sedang dicoba serta bertujuan sebagai sample data yang akan ditampilkan pada hasil seminar hasil dan sidang skripsi. Lalu, toyData mempergunakan 10 row data yang berasal dari sample variabel data dengan melakukan perintah ``.sample(10) `` pada pandas dataFrame"
   ]
  },
  {
   "cell_type": "markdown",
   "metadata": {},
   "source": [
    "### Cleaning Text"
   ]
  },
  {
   "cell_type": "code",
   "execution_count": 87,
   "metadata": {},
   "outputs": [],
   "source": [
    "try_data_cleaning = data.copy()"
   ]
  },
  {
   "cell_type": "code",
   "execution_count": 41,
   "metadata": {},
   "outputs": [
    {
     "data": {
      "text/html": [
       "<div>\n",
       "<style scoped>\n",
       "    .dataframe tbody tr th:only-of-type {\n",
       "        vertical-align: middle;\n",
       "    }\n",
       "\n",
       "    .dataframe tbody tr th {\n",
       "        vertical-align: top;\n",
       "    }\n",
       "\n",
       "    .dataframe thead th {\n",
       "        text-align: right;\n",
       "    }\n",
       "</style>\n",
       "<table border=\"1\" class=\"dataframe\">\n",
       "  <thead>\n",
       "    <tr style=\"text-align: right;\">\n",
       "      <th></th>\n",
       "      <th>Video_Id</th>\n",
       "      <th>Tittle</th>\n",
       "      <th>Description</th>\n",
       "      <th>Name</th>\n",
       "      <th>Comment</th>\n",
       "      <th>Comment_Id</th>\n",
       "      <th>Time</th>\n",
       "      <th>Likes</th>\n",
       "      <th>Reply_Count</th>\n",
       "      <th>Label</th>\n",
       "      <th>Length_Comment</th>\n",
       "    </tr>\n",
       "  </thead>\n",
       "  <tbody>\n",
       "    <tr>\n",
       "      <th>0</th>\n",
       "      <td>0iLgiRBQzzs</td>\n",
       "      <td>Panas! Jokowi VS Prabowo Saling Serang soal Ko...</td>\n",
       "      <td>Debat panas antara kedua pasangan calon presid...</td>\n",
       "      <td>Doharman Patimura Waruwu</td>\n",
       "      <td>https://youtu.be/LBKGyxnpMCU</td>\n",
       "      <td>Ugz-zdD0s87dSDzITuh4AaABAg</td>\n",
       "      <td>2019-01-17 23:06:24</td>\n",
       "      <td>0</td>\n",
       "      <td>0</td>\n",
       "      <td>spam</td>\n",
       "      <td>28</td>\n",
       "    </tr>\n",
       "    <tr>\n",
       "      <th>1</th>\n",
       "      <td>AP0NACavjfk</td>\n",
       "      <td>SkinnyIndonesian24 | Prabowo VS Jokowi - Epic ...</td>\n",
       "      <td>SkinnyIndonesian24 ( Andovi da Lopez sebagai J...</td>\n",
       "      <td>Akiru Syakir</td>\n",
       "      <td>Bantu subscribe youtube gw dong</td>\n",
       "      <td>UgwQM2OHIzkVDtu0PIN4AaABAg</td>\n",
       "      <td>2019-04-10 22:40:00</td>\n",
       "      <td>0</td>\n",
       "      <td>0</td>\n",
       "      <td>spam</td>\n",
       "      <td>31</td>\n",
       "    </tr>\n",
       "    <tr>\n",
       "      <th>2</th>\n",
       "      <td>AP0NACavjfk</td>\n",
       "      <td>SkinnyIndonesian24 | Prabowo VS Jokowi - Epic ...</td>\n",
       "      <td>SkinnyIndonesian24 ( Andovi da Lopez sebagai J...</td>\n",
       "      <td>Teguh Wage Prakoso</td>\n",
       "      <td>hachimon tonkou, kalau buka gerbang ke 8 auto ...</td>\n",
       "      <td>Ugyh7dOOI2953Exf3cp4AaABAg.8tUY_eVh77e8tUhBosQJLg</td>\n",
       "      <td>2019-04-09 02:50:06</td>\n",
       "      <td>0</td>\n",
       "      <td>0</td>\n",
       "      <td>spam</td>\n",
       "      <td>57</td>\n",
       "    </tr>\n",
       "    <tr>\n",
       "      <th>3</th>\n",
       "      <td>AP0NACavjfk</td>\n",
       "      <td>SkinnyIndonesian24 | Prabowo VS Jokowi - Epic ...</td>\n",
       "      <td>SkinnyIndonesian24 ( Andovi da Lopez sebagai J...</td>\n",
       "      <td>hidayah</td>\n",
       "      <td>https://www.youtube.com/channel/UC_iQ1hcNxz1ir...</td>\n",
       "      <td>UgxA-h0VMWXoShPkFEZ4AaABAg</td>\n",
       "      <td>2019-04-10 12:25:49</td>\n",
       "      <td>0</td>\n",
       "      <td>0</td>\n",
       "      <td>spam</td>\n",
       "      <td>56</td>\n",
       "    </tr>\n",
       "    <tr>\n",
       "      <th>4</th>\n",
       "      <td>AP0NACavjfk</td>\n",
       "      <td>SkinnyIndonesian24 | Prabowo VS Jokowi - Epic ...</td>\n",
       "      <td>SkinnyIndonesian24 ( Andovi da Lopez sebagai J...</td>\n",
       "      <td>Derisma Ae</td>\n",
       "      <td>https://youtu.be/aS1FIPcCuh4 CH: Derisma ae, m...</td>\n",
       "      <td>UgybtnYbYjDF7YZJAdN4AaABAg</td>\n",
       "      <td>2019-04-15 16:00:05</td>\n",
       "      <td>0</td>\n",
       "      <td>0</td>\n",
       "      <td>spam</td>\n",
       "      <td>88</td>\n",
       "    </tr>\n",
       "    <tr>\n",
       "      <th>...</th>\n",
       "      <td>...</td>\n",
       "      <td>...</td>\n",
       "      <td>...</td>\n",
       "      <td>...</td>\n",
       "      <td>...</td>\n",
       "      <td>...</td>\n",
       "      <td>...</td>\n",
       "      <td>...</td>\n",
       "      <td>...</td>\n",
       "      <td>...</td>\n",
       "      <td>...</td>\n",
       "    </tr>\n",
       "    <tr>\n",
       "      <th>2998</th>\n",
       "      <td>AP0NACavjfk</td>\n",
       "      <td>SkinnyIndonesian24 | Prabowo VS Jokowi - Epic ...</td>\n",
       "      <td>SkinnyIndonesian24 ( Andovi da Lopez sebagai J...</td>\n",
       "      <td>agus muliandri</td>\n",
       "      <td>Top</td>\n",
       "      <td>UgxG_8lxSoZduOAiE-54AaABAg.8tXxFBA8lZa8tXzXBaY73i</td>\n",
       "      <td>2019-04-10 09:28:02</td>\n",
       "      <td>0</td>\n",
       "      <td>0</td>\n",
       "      <td>legitimate</td>\n",
       "      <td>3</td>\n",
       "    </tr>\n",
       "    <tr>\n",
       "      <th>2999</th>\n",
       "      <td>AP0NACavjfk</td>\n",
       "      <td>SkinnyIndonesian24 | Prabowo VS Jokowi - Epic ...</td>\n",
       "      <td>SkinnyIndonesian24 ( Andovi da Lopez sebagai J...</td>\n",
       "      <td>EXE HUMAN</td>\n",
       "      <td>Creator senior memang beda ya 😎</td>\n",
       "      <td>Ugx4Ep3GEADS4c_w5YF4AaABAg</td>\n",
       "      <td>2019-04-09 11:43:58</td>\n",
       "      <td>0</td>\n",
       "      <td>0</td>\n",
       "      <td>legitimate</td>\n",
       "      <td>31</td>\n",
       "    </tr>\n",
       "    <tr>\n",
       "      <th>3000</th>\n",
       "      <td>AP0NACavjfk</td>\n",
       "      <td>SkinnyIndonesian24 | Prabowo VS Jokowi - Epic ...</td>\n",
       "      <td>SkinnyIndonesian24 ( Andovi da Lopez sebagai J...</td>\n",
       "      <td>Ni Luh Ayu Sibang Sri Padmayanti_056</td>\n",
       "      <td>Keunggulan dan kekurangan nge buat kita semua ...</td>\n",
       "      <td>UgzltfmrOp2dr3DbCPx4AaABAg</td>\n",
       "      <td>2019-04-11 13:48:07</td>\n",
       "      <td>0</td>\n",
       "      <td>0</td>\n",
       "      <td>legitimate</td>\n",
       "      <td>64</td>\n",
       "    </tr>\n",
       "    <tr>\n",
       "      <th>3001</th>\n",
       "      <td>AP0NACavjfk</td>\n",
       "      <td>SkinnyIndonesian24 | Prabowo VS Jokowi - Epic ...</td>\n",
       "      <td>SkinnyIndonesian24 ( Andovi da Lopez sebagai J...</td>\n",
       "      <td>Brigita Deya 183</td>\n",
       "      <td>Keren parahhh</td>\n",
       "      <td>UgyaAGTI4x4ta4TE1cF4AaABAg</td>\n",
       "      <td>2019-04-09 10:20:06</td>\n",
       "      <td>0</td>\n",
       "      <td>0</td>\n",
       "      <td>legitimate</td>\n",
       "      <td>13</td>\n",
       "    </tr>\n",
       "    <tr>\n",
       "      <th>3002</th>\n",
       "      <td>AP0NACavjfk</td>\n",
       "      <td>SkinnyIndonesian24 | Prabowo VS Jokowi - Epic ...</td>\n",
       "      <td>SkinnyIndonesian24 ( Andovi da Lopez sebagai J...</td>\n",
       "      <td>Carl</td>\n",
       "      <td>MEREKA HARUS NONTON NIH</td>\n",
       "      <td>Ugz4K70s5tZHaG_LkIl4AaABAg</td>\n",
       "      <td>2019-04-08 12:59:00</td>\n",
       "      <td>0</td>\n",
       "      <td>0</td>\n",
       "      <td>legitimate</td>\n",
       "      <td>23</td>\n",
       "    </tr>\n",
       "  </tbody>\n",
       "</table>\n",
       "<p>2847 rows × 11 columns</p>\n",
       "</div>"
      ],
      "text/plain": [
       "         Video_Id                                             Tittle  \\\n",
       "0     0iLgiRBQzzs  Panas! Jokowi VS Prabowo Saling Serang soal Ko...   \n",
       "1     AP0NACavjfk  SkinnyIndonesian24 | Prabowo VS Jokowi - Epic ...   \n",
       "2     AP0NACavjfk  SkinnyIndonesian24 | Prabowo VS Jokowi - Epic ...   \n",
       "3     AP0NACavjfk  SkinnyIndonesian24 | Prabowo VS Jokowi - Epic ...   \n",
       "4     AP0NACavjfk  SkinnyIndonesian24 | Prabowo VS Jokowi - Epic ...   \n",
       "...           ...                                                ...   \n",
       "2998  AP0NACavjfk  SkinnyIndonesian24 | Prabowo VS Jokowi - Epic ...   \n",
       "2999  AP0NACavjfk  SkinnyIndonesian24 | Prabowo VS Jokowi - Epic ...   \n",
       "3000  AP0NACavjfk  SkinnyIndonesian24 | Prabowo VS Jokowi - Epic ...   \n",
       "3001  AP0NACavjfk  SkinnyIndonesian24 | Prabowo VS Jokowi - Epic ...   \n",
       "3002  AP0NACavjfk  SkinnyIndonesian24 | Prabowo VS Jokowi - Epic ...   \n",
       "\n",
       "                                            Description  \\\n",
       "0     Debat panas antara kedua pasangan calon presid...   \n",
       "1     SkinnyIndonesian24 ( Andovi da Lopez sebagai J...   \n",
       "2     SkinnyIndonesian24 ( Andovi da Lopez sebagai J...   \n",
       "3     SkinnyIndonesian24 ( Andovi da Lopez sebagai J...   \n",
       "4     SkinnyIndonesian24 ( Andovi da Lopez sebagai J...   \n",
       "...                                                 ...   \n",
       "2998  SkinnyIndonesian24 ( Andovi da Lopez sebagai J...   \n",
       "2999  SkinnyIndonesian24 ( Andovi da Lopez sebagai J...   \n",
       "3000  SkinnyIndonesian24 ( Andovi da Lopez sebagai J...   \n",
       "3001  SkinnyIndonesian24 ( Andovi da Lopez sebagai J...   \n",
       "3002  SkinnyIndonesian24 ( Andovi da Lopez sebagai J...   \n",
       "\n",
       "                                      Name  \\\n",
       "0                 Doharman Patimura Waruwu   \n",
       "1                             Akiru Syakir   \n",
       "2                       Teguh Wage Prakoso   \n",
       "3                                  hidayah   \n",
       "4                               Derisma Ae   \n",
       "...                                    ...   \n",
       "2998                        agus muliandri   \n",
       "2999                             EXE HUMAN   \n",
       "3000  Ni Luh Ayu Sibang Sri Padmayanti_056   \n",
       "3001                      Brigita Deya 183   \n",
       "3002                                  Carl   \n",
       "\n",
       "                                                Comment  \\\n",
       "0                          https://youtu.be/LBKGyxnpMCU   \n",
       "1                       Bantu subscribe youtube gw dong   \n",
       "2     hachimon tonkou, kalau buka gerbang ke 8 auto ...   \n",
       "3     https://www.youtube.com/channel/UC_iQ1hcNxz1ir...   \n",
       "4     https://youtu.be/aS1FIPcCuh4 CH: Derisma ae, m...   \n",
       "...                                                 ...   \n",
       "2998                                                Top   \n",
       "2999                    Creator senior memang beda ya 😎   \n",
       "3000  Keunggulan dan kekurangan nge buat kita semua ...   \n",
       "3001                                      Keren parahhh   \n",
       "3002                            MEREKA HARUS NONTON NIH   \n",
       "\n",
       "                                             Comment_Id                Time  \\\n",
       "0                            Ugz-zdD0s87dSDzITuh4AaABAg 2019-01-17 23:06:24   \n",
       "1                            UgwQM2OHIzkVDtu0PIN4AaABAg 2019-04-10 22:40:00   \n",
       "2     Ugyh7dOOI2953Exf3cp4AaABAg.8tUY_eVh77e8tUhBosQJLg 2019-04-09 02:50:06   \n",
       "3                            UgxA-h0VMWXoShPkFEZ4AaABAg 2019-04-10 12:25:49   \n",
       "4                            UgybtnYbYjDF7YZJAdN4AaABAg 2019-04-15 16:00:05   \n",
       "...                                                 ...                 ...   \n",
       "2998  UgxG_8lxSoZduOAiE-54AaABAg.8tXxFBA8lZa8tXzXBaY73i 2019-04-10 09:28:02   \n",
       "2999                         Ugx4Ep3GEADS4c_w5YF4AaABAg 2019-04-09 11:43:58   \n",
       "3000                         UgzltfmrOp2dr3DbCPx4AaABAg 2019-04-11 13:48:07   \n",
       "3001                         UgyaAGTI4x4ta4TE1cF4AaABAg 2019-04-09 10:20:06   \n",
       "3002                         Ugz4K70s5tZHaG_LkIl4AaABAg 2019-04-08 12:59:00   \n",
       "\n",
       "      Likes  Reply_Count       Label  Length_Comment  \n",
       "0         0            0        spam              28  \n",
       "1         0            0        spam              31  \n",
       "2         0            0        spam              57  \n",
       "3         0            0        spam              56  \n",
       "4         0            0        spam              88  \n",
       "...     ...          ...         ...             ...  \n",
       "2998      0            0  legitimate               3  \n",
       "2999      0            0  legitimate              31  \n",
       "3000      0            0  legitimate              64  \n",
       "3001      0            0  legitimate              13  \n",
       "3002      0            0  legitimate              23  \n",
       "\n",
       "[2847 rows x 11 columns]"
      ]
     },
     "execution_count": 41,
     "metadata": {},
     "output_type": "execute_result"
    }
   ],
   "source": [
    "try_data_cleaning"
   ]
  },
  {
   "cell_type": "code",
   "execution_count": 79,
   "metadata": {},
   "outputs": [],
   "source": [
    "#toyData.to_csv(\"..\\Data\\Comments\\Cleaned_Comments.csv\", index=False)"
   ]
  },
  {
   "cell_type": "code",
   "execution_count": 72,
   "metadata": {},
   "outputs": [],
   "source": [
    "toyData = pd.read_csv(\"../Data/Comments/toyData.csv\")"
   ]
  },
  {
   "cell_type": "code",
   "execution_count": 65,
   "metadata": {},
   "outputs": [],
   "source": [
    "#NLTK_StopWords = stopwords.words('english')\n",
    "factory = StopWordRemoverFactory()\n",
    "Sastrawi_StopWords_id = factory.get_stop_words()\n",
    "Sastrawi_StopWords_id = set(Sastrawi_StopWords_id)"
   ]
  },
  {
   "cell_type": "code",
   "execution_count": 254,
   "metadata": {},
   "outputs": [],
   "source": [
    "def lower(text):\n",
    "    text = text.lower()\n",
    "    return text\n",
    "\n",
    "def remove_numbers(text):\n",
    "    number_pattern = r'\\d+'\n",
    "    without_number = re.sub(pattern=number_pattern, repl=\" \", string=text)\n",
    "    return without_number\n",
    "\n",
    "def remove_emoji(text):\n",
    "    pattern = emoji.get_emoji_regexp()\n",
    "    without_emoji = pattern.sub('', text)\n",
    "    return without_emoji\n",
    "\n",
    "#def replace_url(text, replacement):\n",
    "    text = str(text)\n",
    "    text = re.sub('http[s]?://(?:[a-zA-Z]|[0-9]|[$-_@.&+]|[!*\\(\\),]|(?:%[0-9a-fA-F][0-9a-fA-F]))+', replacement, text)\n",
    "    text = re.sub('[/]?watch(?:[a-zA-Z]|[0-9]|[$-_@.&+]|[!*\\(\\),]|(?:%[0-9a-fA-F][0-9a-fA-F]))+', replacement, text)\n",
    "    return text\n",
    "\n",
    "'''Detect link and replace with url'''\n",
    "urlregex = re.compile(r\"\"\"(?i)\\b((?:https?:(?:/{1,3}|[a-z0-9%])|[a-z0-9.\\-]+[.](?:com|net|org|edu|gov|mil|aero|asia|biz|cat|coop|info|int|jobs|mobi|museum|name|post|pro|tel|travel|xxx|ac|ad|ae|af|ag|ai|al|am|an|ao|aq|ar|as|at|au|aw|ax|az|ba|bb|bd|be|bf|bg|bh|bi|bj|bm|bn|bo|br|bs|bt|bv|bw|by|bz|ca|cc|cd|cf|cg|ch|ci|ck|cl|cm|cn|co|cr|cs|cu|cv|cx|cy|cz|dd|de|dj|dk|dm|do|dz|ec|ee|eg|eh|er|es|et|eu|fi|fj|fk|fm|fo|fr|ga|gb|gd|ge|gf|gg|gh|gi|gl|gm|gn|gp|gq|gr|gs|gt|gu|gw|gy|hk|hm|hn|hr|ht|hu|id|ie|il|im|in|io|iq|ir|is|it|je|jm|jo|jp|ke|kg|kh|ki|km|kn|kp|kr|kw|ky|kz|la|lb|lc|li|lk|lr|ls|lt|lu|lv|ly|ma|mc|md|me|mg|mh|mk|ml|mm|mn|mo|mp|mq|mr|ms|mt|mu|mv|mw|mx|my|mz|na|nc|ne|nf|ng|ni|nl|no|np|nr|nu|nz|om|pa|pe|pf|pg|ph|pk|pl|pm|pn|pr|ps|pt|pw|py|qa|re|ro|rs|ru|rw|sa|sb|sc|sd|se|sg|sh|si|sj|Ja|sk|sl|sm|sn|so|sr|ss|st|su|sv|sx|sy|sz|tc|td|tf|tg|th|tj|tk|tl|tm|tn|to|tp|tr|tt|tv|tw|tz|ua|ug|uk|us|uy|uz|va|vc|ve|vg|vi|vn|vu|wf|ws|ye|yt|yu|za|zm|zw)/)(?:[^\\s()<>{}\\[\\]]+|\\([^\\s()]*?\\([^\\s()]+\\)[^\\s()]*?\\)|\\([^\\s]+?\\))+(?:\\([^\\s()]*?\\([^\\s()]+\\)[^\\s()]*?\\)|\\([^\\s]+?\\)|[^\\s`!()\\[\\]{};:'\".,<>?«»“”‘’])|(?:(?<!@)[a-z0-9]+(?:[.\\-][a-z0-9]+)*[.](?:com|net|org|edu|gov|mil|aero|asia|biz|cat|coop|info|int|jobs|mobi|museum|name|post|pro|tel|travel|xxx|ac|ad|ae|af|ag|ai|al|am|an|ao|aq|ar|as|at|au|aw|ax|az|ba|bb|bd|be|bf|bg|bh|bi|bj|bm|bn|bo|br|bs|bt|bv|bw|by|bz|ca|cc|cd|cf|cg|ch|ci|ck|cl|cm|cn|co|cr|cs|cu|cv|cx|cy|cz|dd|de|dj|dk|dm|do|dz|ec|ee|eg|eh|er|es|et|eu|fi|fj|fk|fm|fo|fr|ga|gb|gd|ge|gf|gg|gh|gi|gl|gm|gn|gp|gq|gr|gs|gt|gu|gw|gy|hk|hm|hn|hr|ht|hu|id|ie|il|im|in|io|iq|ir|is|it|je|jm|jo|jp|ke|kg|kh|ki|km|kn|kp|kr|kw|ky|kz|la|lb|lc|li|lk|lr|ls|lt|lu|lv|ly|ma|mc|md|me|mg|mh|mk|ml|mm|mn|mo|mp|mq|mr|ms|mt|mu|mv|mw|mx|my|mz|na|nc|ne|nf|ng|ni|nl|no|np|nr|nu|nz|om|pa|pe|pf|pg|ph|pk|pl|pm|pn|pr|ps|pt|pw|py|qa|re|ro|rs|ru|rw|sa|sb|sc|sd|se|sg|sh|si|sj|Ja|sk|sl|sm|sn|so|sr|ss|st|su|sv|sx|sy|sz|tc|td|tf|tg|th|tj|tk|tl|tm|tn|to|tp|tr|tt|tv|tw|tz|ua|ug|uk|us|uy|uz|va|vc|ve|vg|vi|vn|vu|wf|ws|ye|yt|yu|za|zm|zw)\\b/?(?!@)))\"\"\")\n",
    "\n",
    "def detecturl(text):\n",
    "    url_filtered_comment = re.sub(urlregex, ' ',text)\n",
    "    return url_filtered_comment\n",
    "\n",
    "def url(text):\n",
    "    punc_table = {ord(c): None for c in punctuation}\n",
    "    text =\"\".join(t if i % 2 else t.translate(punc_table) for (i, t) in enumerate(urlregex.split(text)))\n",
    "    return text\n",
    "\n",
    "def remove_punc_except_urls(s, punctuationRegex=r'#[^.?!,a-zA-Z0-9\\.]'): #[^.,a-zA-Z0-9\\n\\.] #^a-zA-Z0-9\\s\n",
    "  # arrays to keep track of indices\n",
    "  urlInds = []\n",
    "  puncInds = []\n",
    "  # find all the urls\n",
    "  for m in re.finditer(r'(https?|ftp)://[^\\s/$.?#].[^\\s]*', s):\n",
    "    urlInds.append((m.start(0), m.end(0)))\n",
    "  # find all the punctuation\n",
    "  for m in re.finditer(punctuationRegex, s):\n",
    "    puncInds.append((m.start(0), m.end(0)))\n",
    "  # start removing punctuation from end so that indices do not change\n",
    "  puncInds.reverse()\n",
    "  # go through each of the punctuation indices and remove the character if it is not inside a url\n",
    "  for puncRange in puncInds:\n",
    "    inUrl = False\n",
    "    # check each url to see if this character is in it\n",
    "    for urlRange in urlInds:\n",
    "      if puncRange[0] >= urlRange[0] and puncRange[0] <= urlRange[1]:\n",
    "        inUrl = True\n",
    "        break\n",
    "    if not inUrl:\n",
    "      # remove the punctuation from the string\n",
    "      s = s[:puncRange[0]] + s[puncRange[1]:]\n",
    "  return s\n",
    "\n",
    "\n",
    "#def detecturl(text, replace):\n",
    "#    url_filtered_comment = re.sub(urlregex, replace,text)\n",
    "#    return url_filtered_comment\n",
    "\n",
    "'''hastags'''\n",
    "#def fixTags(T):\n",
    "#    getHashtags = re.compile(r\"#(\\w+)\")\n",
    "#    pisahtags = re.compile(r'[A-Z][^A-Z]*')\n",
    "#    t = T\n",
    "#    tagS = re.findall(getHashtags, T)\n",
    "#    for tag in tagS:\n",
    "#        proper_words = ' '.join(re.findall(pisahtags, tagS[0]))\n",
    "#        t = t.replace('#' + tag, proper_words)\n",
    "#    return t\n",
    "\n",
    "#def getTags(T):\n",
    "#    getHashtags = re.compile(r\"#(\\w+)\")\n",
    "#    tagS = re.findall(getHashtags, T)\n",
    "    #isitag = []\n",
    "    #for tag in tagS:       \n",
    "    #    tag = '#'+tag\n",
    "    #    isitag.append(tag)\n",
    "    \n",
    "#    return ', '.join(isitag)\n",
    "\n",
    "'''remove punctuation'''\n",
    "clean_spcl = re.compile('[/(){}\\[\\]\\|!;$]')\n",
    "clean_symbol = re.compile('[^.,a-zA-Z0-9\\.]')\n",
    "simbol = re.compile(r'#(^\\w)')\n",
    "\n",
    "def clean_punct(text):\n",
    "    text = clean_spcl.sub(' ', text)\n",
    "    #text = clean_symbol.sub(' ', text)\n",
    "    return text\n",
    "\n",
    "def hastag(text):   \n",
    "    text = simbol.sub('', text)\n",
    "    return text\n",
    "\n",
    "def clean_symbols(text): #this function remove the #\n",
    "    text = clean_symbol.sub(' ', text)\n",
    "    return text\n",
    "\n",
    "'''white_spaces'''\n",
    "def white_spaces(text):\n",
    "    single_char_pattern = re.compile(r'\\s+')\n",
    "    text = re.sub(pattern=single_char_pattern, repl=' ', string=text)\n",
    "    return text\n",
    "\n",
    "'''Stopwords Sastrawi'''\n",
    "stopwords = set(Sastrawi_StopWords_id)\n",
    "\n",
    "def clean_stopwords(text):\n",
    "    text = ' '.join(word for word in text.split() if word not in stopwords) # hapus stopword dari kolom deskripsi\n",
    "    return text\n",
    "\n",
    "def en_stopwords(text):\n",
    "    df=open('..\\Stopwords_eng\\stopwords_en.txt',\"r\",encoding=\"utf-8\", errors='replace')\n",
    "    en_stop = df.readlines()\n",
    "    df.close()\n",
    "    en_stop = [t.strip().lower() for t in en_stop]\n",
    "    en_stop = set(en_stop)\n",
    "    text = ' '.join(word for word in text.split() if word not in en_stop) # hapus stopword dari kolom deskripsi\n",
    "    return text\n",
    "    \n",
    "def id_stopwords(text):\n",
    "    df=open('..\\Stopwords\\stopwords.txt',\"r\",encoding=\"utf-8\", errors='replace')\n",
    "    id_stop = df.readlines()\n",
    "    df.close()\n",
    "    id_stop = [t.strip().lower() for t in id_stop]\n",
    "    id_stop = set(id_stop)\n",
    "    text = ' '.join(word for word in text.split() if word not in id_stop) # hapus stopword dari kolom deskripsi\n",
    "    return text\n",
    "\n",
    "'''Slangwords'''\n",
    "def slang(text):\n",
    "    df=open('../Slangwords/slangwords.txt',\"r\",encoding=\"utf-8\", errors='replace')\n",
    "    slangS = df.readlines()\n",
    "    slangS = [t.split(\":\") for t in slangS]\n",
    "    slangS = [[k.strip(), v.strip()] for k,v in slangS]\n",
    "    slangS = {k:v for k,v in slangS}\n",
    "\n",
    "    T = TextBlob(text).words\n",
    "    \n",
    "    for i,t in enumerate(T):\n",
    "        if t in slangS.keys():\n",
    "            T[i] = slangS[t]\n",
    "        \n",
    "    T =' '.join(T)\n",
    "\n",
    "    return T"
   ]
  },
  {
   "cell_type": "code",
   "execution_count": 52,
   "metadata": {},
   "outputs": [],
   "source": [
    "def cleaning(text):\n",
    "    text = text.lower()\n",
    "\n",
    "    punctuationRegex=(r'#[^.?!,a-zA-Z0-9\\.]')\n",
    "     # arrays to keep track of indices\n",
    "    urlInds = []\n",
    "    puncInds = []\n",
    "    # find url\n",
    "    for m in re.finditer(r'(https?|ftp)://[^\\s/$.?#].[^\\s]*', text):\n",
    "        urlInds.append((m.start(0), m.end(0)))\n",
    "    # find punctuations\n",
    "    for m in re.finditer(punctuationRegex, text):\n",
    "        puncInds.append((m.start(0), m.end(0)))\n",
    "    #menghapus punctuation dari akhir kata\n",
    "    puncInds.reverse()\n",
    "    for puncRange in puncInds:\n",
    "      inUrl = False\n",
    "      for urlRange in urlInds:\n",
    "        if puncRange[0] >= urlRange[0] and puncRange[0] <= urlRange[1]:\n",
    "          inUrl = True\n",
    "          break\n",
    "      if not inUrl:\n",
    "      #menghapus punctuation dari text\n",
    "        text = text[:puncRange[0]] + text[puncRange[1]:]\n",
    "    \n",
    "    pattern = re.compile(r'\\s+')\n",
    "    text = re.sub(pattern=pattern, repl=' ', string=text)\n",
    "    \n",
    "    return text\n"
   ]
  },
  {
   "cell_type": "code",
   "execution_count": 31,
   "metadata": {},
   "outputs": [],
   "source": [
    "#urlregex = re.compile(r\"\"\"(?i)\\b((?:https?:(?:/{1,3}|[a-z0-9%])|[a-z0-9.\\-]+[.](?:com|net|org|edu|gov|mil|aero|asia|biz|cat|coop|info|int|jobs|mobi|museum|name|post|pro|tel|travel|xxx|ac|ad|ae|af|ag|ai|al|am|an|ao|aq|ar|as|at|au|aw|ax|az|ba|bb|bd|be|bf|bg|bh|bi|bj|bm|bn|bo|br|bs|bt|bv|bw|by|bz|ca|cc|cd|cf|cg|ch|ci|ck|cl|cm|cn|co|cr|cs|cu|cv|cx|cy|cz|dd|de|dj|dk|dm|do|dz|ec|ee|eg|eh|er|es|et|eu|fi|fj|fk|fm|fo|fr|ga|gb|gd|ge|gf|gg|gh|gi|gl|gm|gn|gp|gq|gr|gs|gt|gu|gw|gy|hk|hm|hn|hr|ht|hu|id|ie|il|im|in|io|iq|ir|is|it|je|jm|jo|jp|ke|kg|kh|ki|km|kn|kp|kr|kw|ky|kz|la|lb|lc|li|lk|lr|ls|lt|lu|lv|ly|ma|mc|md|me|mg|mh|mk|ml|mm|mn|mo|mp|mq|mr|ms|mt|mu|mv|mw|mx|my|mz|na|nc|ne|nf|ng|ni|nl|no|np|nr|nu|nz|om|pa|pe|pf|pg|ph|pk|pl|pm|pn|pr|ps|pt|pw|py|qa|re|ro|rs|ru|rw|sa|sb|sc|sd|se|sg|sh|si|sj|Ja|sk|sl|sm|sn|so|sr|ss|st|su|sv|sx|sy|sz|tc|td|tf|tg|th|tj|tk|tl|tm|tn|to|tp|tr|tt|tv|tw|tz|ua|ug|uk|us|uy|uz|va|vc|ve|vg|vi|vn|vu|wf|ws|ye|yt|yu|za|zm|zw)/)(?:[^\\s()<>{}\\[\\]]+|\\([^\\s()]*?\\([^\\s()]+\\)[^\\s()]*?\\)|\\([^\\s]+?\\))+(?:\\([^\\s()]*?\\([^\\s()]+\\)[^\\s()]*?\\)|\\([^\\s]+?\\)|[^\\s`!()\\[\\]{};:'\".,<>?«»“”‘’])|(?:(?<!@)[a-z0-9]+(?:[.\\-][a-z0-9]+)*[.](?:com|net|org|edu|gov|mil|aero|asia|biz|cat|coop|info|int|jobs|mobi|museum|name|post|pro|tel|travel|xxx|ac|ad|ae|af|ag|ai|al|am|an|ao|aq|ar|as|at|au|aw|ax|az|ba|bb|bd|be|bf|bg|bh|bi|bj|bm|bn|bo|br|bs|bt|bv|bw|by|bz|ca|cc|cd|cf|cg|ch|ci|ck|cl|cm|cn|co|cr|cs|cu|cv|cx|cy|cz|dd|de|dj|dk|dm|do|dz|ec|ee|eg|eh|er|es|et|eu|fi|fj|fk|fm|fo|fr|ga|gb|gd|ge|gf|gg|gh|gi|gl|gm|gn|gp|gq|gr|gs|gt|gu|gw|gy|hk|hm|hn|hr|ht|hu|id|ie|il|im|in|io|iq|ir|is|it|je|jm|jo|jp|ke|kg|kh|ki|km|kn|kp|kr|kw|ky|kz|la|lb|lc|li|lk|lr|ls|lt|lu|lv|ly|ma|mc|md|me|mg|mh|mk|ml|mm|mn|mo|mp|mq|mr|ms|mt|mu|mv|mw|mx|my|mz|na|nc|ne|nf|ng|ni|nl|no|np|nr|nu|nz|om|pa|pe|pf|pg|ph|pk|pl|pm|pn|pr|ps|pt|pw|py|qa|re|ro|rs|ru|rw|sa|sb|sc|sd|se|sg|sh|si|sj|Ja|sk|sl|sm|sn|so|sr|ss|st|su|sv|sx|sy|sz|tc|td|tf|tg|th|tj|tk|tl|tm|tn|to|tp|tr|tt|tv|tw|tz|ua|ug|uk|us|uy|uz|va|vc|ve|vg|vi|vn|vu|wf|ws|ye|yt|yu|za|zm|zw)\\b/?(?!@)))\"\"\")\n",
    "\n",
    "#def detecturl(comment):\n",
    "#    url_filtered_comment = re.sub(urlregex, 'url', comment)\n",
    "#    return url_filtered_comment"
   ]
  },
  {
   "cell_type": "code",
   "execution_count": 58,
   "metadata": {},
   "outputs": [],
   "source": [
    "text = toyData[\"Comment\"][8]"
   ]
  },
  {
   "cell_type": "code",
   "execution_count": 59,
   "metadata": {},
   "outputs": [
    {
     "data": {
      "text/plain": [
       "'#justiceforaudrey😫'"
      ]
     },
     "execution_count": 59,
     "metadata": {},
     "output_type": "execute_result"
    }
   ],
   "source": [
    "cleaning(text)"
   ]
  },
  {
   "cell_type": "markdown",
   "metadata": {},
   "source": [
    "**Cleaned_Comment**\n",
    "\n",
    "*for toyData*\n",
    "\n",
    "Pada proses cleaning comment pertama **melakukan** beberapa hal antara lain:\n",
    "- lowercase string\n",
    "- remove punctuation"
   ]
  },
  {
   "cell_type": "code",
   "execution_count": 73,
   "metadata": {},
   "outputs": [],
   "source": [
    "toyData[\"cleanTitle\"] = toyData[\"Tittle\"].apply(lambda x: cleaning(x))"
   ]
  },
  {
   "cell_type": "code",
   "execution_count": 74,
   "metadata": {},
   "outputs": [],
   "source": [
    "toyData['cleanedComment'] = toyData['Comment'].apply(lambda x: cleaning(x))"
   ]
  },
  {
   "cell_type": "code",
   "execution_count": 75,
   "metadata": {},
   "outputs": [
    {
     "data": {
      "text/html": [
       "<div>\n",
       "<style scoped>\n",
       "    .dataframe tbody tr th:only-of-type {\n",
       "        vertical-align: middle;\n",
       "    }\n",
       "\n",
       "    .dataframe tbody tr th {\n",
       "        vertical-align: top;\n",
       "    }\n",
       "\n",
       "    .dataframe thead th {\n",
       "        text-align: right;\n",
       "    }\n",
       "</style>\n",
       "<table border=\"1\" class=\"dataframe\">\n",
       "  <thead>\n",
       "    <tr style=\"text-align: right;\">\n",
       "      <th></th>\n",
       "      <th>Video_Id</th>\n",
       "      <th>Tittle</th>\n",
       "      <th>Description</th>\n",
       "      <th>Name</th>\n",
       "      <th>Comment</th>\n",
       "      <th>Comment_Id</th>\n",
       "      <th>Time</th>\n",
       "      <th>Likes</th>\n",
       "      <th>Reply_Count</th>\n",
       "      <th>Label</th>\n",
       "      <th>Length_Comment</th>\n",
       "      <th>cleanTitle</th>\n",
       "      <th>cleanedComment</th>\n",
       "    </tr>\n",
       "  </thead>\n",
       "  <tbody>\n",
       "    <tr>\n",
       "      <th>0</th>\n",
       "      <td>AP0NACavjfk</td>\n",
       "      <td>SkinnyIndonesian24 | Prabowo VS Jokowi - Epic ...</td>\n",
       "      <td>SkinnyIndonesian24 ( Andovi da Lopez sebagai J...</td>\n",
       "      <td>irvansmaulana CH</td>\n",
       "      <td>next di kasih kaya music gamelan dong yang kay...</td>\n",
       "      <td>Ugy-r9JErVHkhVIuqct4AaABAg</td>\n",
       "      <td>2019-04-09 05:44:01</td>\n",
       "      <td>0</td>\n",
       "      <td>0</td>\n",
       "      <td>legitimate</td>\n",
       "      <td>77</td>\n",
       "      <td>skinnyindonesian24 | prabowo vs jokowi - epic ...</td>\n",
       "      <td>next di kasih kaya music gamelan dong yang kay...</td>\n",
       "    </tr>\n",
       "    <tr>\n",
       "      <th>1</th>\n",
       "      <td>AP0NACavjfk</td>\n",
       "      <td>SkinnyIndonesian24 | Prabowo VS Jokowi - Epic ...</td>\n",
       "      <td>SkinnyIndonesian24 ( Andovi da Lopez sebagai J...</td>\n",
       "      <td>Papa Soni</td>\n",
       "      <td>SAYA 7 TAHUN DALAM YOUTUBE UNTUK SKINNYINDONES...</td>\n",
       "      <td>Ugz8oLZen10iG_JRqgt4AaABAg</td>\n",
       "      <td>2019-04-13 03:37:30</td>\n",
       "      <td>1</td>\n",
       "      <td>0</td>\n",
       "      <td>legitimate</td>\n",
       "      <td>52</td>\n",
       "      <td>skinnyindonesian24 | prabowo vs jokowi - epic ...</td>\n",
       "      <td>saya 7 tahun dalam youtube untuk skinnyindones...</td>\n",
       "    </tr>\n",
       "    <tr>\n",
       "      <th>2</th>\n",
       "      <td>AP0NACavjfk</td>\n",
       "      <td>SkinnyIndonesian24 | Prabowo VS Jokowi - Epic ...</td>\n",
       "      <td>SkinnyIndonesian24 ( Andovi da Lopez sebagai J...</td>\n",
       "      <td>Trending Sedang Viral</td>\n",
       "      <td>keren,tapi ini lebih keren : https://www.youtu...</td>\n",
       "      <td>UgyAm0XlJw78OyUHb5R4AaABAg</td>\n",
       "      <td>2019-04-14 12:42:47</td>\n",
       "      <td>0</td>\n",
       "      <td>0</td>\n",
       "      <td>spam</td>\n",
       "      <td>72</td>\n",
       "      <td>skinnyindonesian24 | prabowo vs jokowi - epic ...</td>\n",
       "      <td>keren,tapi ini lebih keren : https://www.youtu...</td>\n",
       "    </tr>\n",
       "    <tr>\n",
       "      <th>3</th>\n",
       "      <td>AP0NACavjfk</td>\n",
       "      <td>SkinnyIndonesian24 | Prabowo VS Jokowi - Epic ...</td>\n",
       "      <td>SkinnyIndonesian24 ( Andovi da Lopez sebagai J...</td>\n",
       "      <td>Animasi Pado</td>\n",
       "      <td>BINGUNG CARA BUAT INTRO \\nVIDIO???\\nNI COBA LI...</td>\n",
       "      <td>UgxKrgrHeb53S7rkidN4AaABAg</td>\n",
       "      <td>2019-04-16 14:23:33</td>\n",
       "      <td>1</td>\n",
       "      <td>0</td>\n",
       "      <td>spam</td>\n",
       "      <td>105</td>\n",
       "      <td>skinnyindonesian24 | prabowo vs jokowi - epic ...</td>\n",
       "      <td>bingung cara buat intro vidio??? ni coba lihat...</td>\n",
       "    </tr>\n",
       "    <tr>\n",
       "      <th>4</th>\n",
       "      <td>AP0NACavjfk</td>\n",
       "      <td>SkinnyIndonesian24 | Prabowo VS Jokowi - Epic ...</td>\n",
       "      <td>SkinnyIndonesian24 ( Andovi da Lopez sebagai J...</td>\n",
       "      <td>Nuriah Iah</td>\n",
       "      <td>Lah ngapa kpopers di bawa\"</td>\n",
       "      <td>UgwIJGe6NIAi5Usihk54AaABAg</td>\n",
       "      <td>2019-04-09 16:02:38</td>\n",
       "      <td>0</td>\n",
       "      <td>0</td>\n",
       "      <td>legitimate</td>\n",
       "      <td>26</td>\n",
       "      <td>skinnyindonesian24 | prabowo vs jokowi - epic ...</td>\n",
       "      <td>lah ngapa kpopers di bawa\"</td>\n",
       "    </tr>\n",
       "    <tr>\n",
       "      <th>5</th>\n",
       "      <td>AP0NACavjfk</td>\n",
       "      <td>SkinnyIndonesian24 | Prabowo VS Jokowi - Epic ...</td>\n",
       "      <td>SkinnyIndonesian24 ( Andovi da Lopez sebagai J...</td>\n",
       "      <td>Anggi Prihatmi</td>\n",
       "      <td>keren anjir</td>\n",
       "      <td>Ugwx74OtTd3ptswRhj54AaABAg</td>\n",
       "      <td>2019-04-09 10:20:44</td>\n",
       "      <td>0</td>\n",
       "      <td>0</td>\n",
       "      <td>legitimate</td>\n",
       "      <td>11</td>\n",
       "      <td>skinnyindonesian24 | prabowo vs jokowi - epic ...</td>\n",
       "      <td>keren anjir</td>\n",
       "    </tr>\n",
       "    <tr>\n",
       "      <th>6</th>\n",
       "      <td>AP0NACavjfk</td>\n",
       "      <td>SkinnyIndonesian24 | Prabowo VS Jokowi - Epic ...</td>\n",
       "      <td>SkinnyIndonesian24 ( Andovi da Lopez sebagai J...</td>\n",
       "      <td>Ulan Sari</td>\n",
       "      <td>https://youtu.be/chIBrTJC54Y</td>\n",
       "      <td>UgzBcKoScON9Tc6C-tV4AaABAg</td>\n",
       "      <td>2021-05-19 08:57:21</td>\n",
       "      <td>1</td>\n",
       "      <td>0</td>\n",
       "      <td>spam</td>\n",
       "      <td>28</td>\n",
       "      <td>skinnyindonesian24 | prabowo vs jokowi - epic ...</td>\n",
       "      <td>https://youtu.be/chibrtjc54y</td>\n",
       "    </tr>\n",
       "    <tr>\n",
       "      <th>7</th>\n",
       "      <td>AP0NACavjfk</td>\n",
       "      <td>SkinnyIndonesian24 | Prabowo VS Jokowi - Epic ...</td>\n",
       "      <td>SkinnyIndonesian24 ( Andovi da Lopez sebagai J...</td>\n",
       "      <td>Timor Kreatif</td>\n",
       "      <td>Private sexy video 18+\\n http://OUP3fCxH3e.imo...</td>\n",
       "      <td>UgyN6F-dAGapEuqkUIZ4AaABAg</td>\n",
       "      <td>2019-04-09 20:29:08</td>\n",
       "      <td>0</td>\n",
       "      <td>0</td>\n",
       "      <td>spam</td>\n",
       "      <td>66</td>\n",
       "      <td>skinnyindonesian24 | prabowo vs jokowi - epic ...</td>\n",
       "      <td>private sexy video 18+ http://oup3fcxh3e.imobi...</td>\n",
       "    </tr>\n",
       "    <tr>\n",
       "      <th>8</th>\n",
       "      <td>AP0NACavjfk</td>\n",
       "      <td>SkinnyIndonesian24 | Prabowo VS Jokowi - Epic ...</td>\n",
       "      <td>SkinnyIndonesian24 ( Andovi da Lopez sebagai J...</td>\n",
       "      <td>Ariq Mohammad</td>\n",
       "      <td>#JusticeForAudrey😫</td>\n",
       "      <td>UgyUmhDAXitS9AAHjPF4AaABAg</td>\n",
       "      <td>2019-04-10 15:35:28</td>\n",
       "      <td>1</td>\n",
       "      <td>0</td>\n",
       "      <td>spam</td>\n",
       "      <td>18</td>\n",
       "      <td>skinnyindonesian24 | prabowo vs jokowi - epic ...</td>\n",
       "      <td>#justiceforaudrey😫</td>\n",
       "    </tr>\n",
       "    <tr>\n",
       "      <th>9</th>\n",
       "      <td>0iLgiRBQzzs</td>\n",
       "      <td>Panas! Jokowi VS Prabowo Saling Serang soal Ko...</td>\n",
       "      <td>Debat panas antara kedua pasangan calon presid...</td>\n",
       "      <td>Chandra Wijaya</td>\n",
       "      <td>Jokowi 2 priode pak dee</td>\n",
       "      <td>Ugwi90TzmsWs2LUdPf14AaABAg</td>\n",
       "      <td>2019-01-17 19:07:26</td>\n",
       "      <td>0</td>\n",
       "      <td>0</td>\n",
       "      <td>legitimate</td>\n",
       "      <td>23</td>\n",
       "      <td>panas! jokowi vs prabowo saling serang soal ko...</td>\n",
       "      <td>jokowi 2 priode pak dee</td>\n",
       "    </tr>\n",
       "  </tbody>\n",
       "</table>\n",
       "</div>"
      ],
      "text/plain": [
       "      Video_Id                                             Tittle  \\\n",
       "0  AP0NACavjfk  SkinnyIndonesian24 | Prabowo VS Jokowi - Epic ...   \n",
       "1  AP0NACavjfk  SkinnyIndonesian24 | Prabowo VS Jokowi - Epic ...   \n",
       "2  AP0NACavjfk  SkinnyIndonesian24 | Prabowo VS Jokowi - Epic ...   \n",
       "3  AP0NACavjfk  SkinnyIndonesian24 | Prabowo VS Jokowi - Epic ...   \n",
       "4  AP0NACavjfk  SkinnyIndonesian24 | Prabowo VS Jokowi - Epic ...   \n",
       "5  AP0NACavjfk  SkinnyIndonesian24 | Prabowo VS Jokowi - Epic ...   \n",
       "6  AP0NACavjfk  SkinnyIndonesian24 | Prabowo VS Jokowi - Epic ...   \n",
       "7  AP0NACavjfk  SkinnyIndonesian24 | Prabowo VS Jokowi - Epic ...   \n",
       "8  AP0NACavjfk  SkinnyIndonesian24 | Prabowo VS Jokowi - Epic ...   \n",
       "9  0iLgiRBQzzs  Panas! Jokowi VS Prabowo Saling Serang soal Ko...   \n",
       "\n",
       "                                         Description                   Name  \\\n",
       "0  SkinnyIndonesian24 ( Andovi da Lopez sebagai J...       irvansmaulana CH   \n",
       "1  SkinnyIndonesian24 ( Andovi da Lopez sebagai J...              Papa Soni   \n",
       "2  SkinnyIndonesian24 ( Andovi da Lopez sebagai J...  Trending Sedang Viral   \n",
       "3  SkinnyIndonesian24 ( Andovi da Lopez sebagai J...           Animasi Pado   \n",
       "4  SkinnyIndonesian24 ( Andovi da Lopez sebagai J...             Nuriah Iah   \n",
       "5  SkinnyIndonesian24 ( Andovi da Lopez sebagai J...         Anggi Prihatmi   \n",
       "6  SkinnyIndonesian24 ( Andovi da Lopez sebagai J...              Ulan Sari   \n",
       "7  SkinnyIndonesian24 ( Andovi da Lopez sebagai J...          Timor Kreatif   \n",
       "8  SkinnyIndonesian24 ( Andovi da Lopez sebagai J...          Ariq Mohammad   \n",
       "9  Debat panas antara kedua pasangan calon presid...         Chandra Wijaya   \n",
       "\n",
       "                                             Comment  \\\n",
       "0  next di kasih kaya music gamelan dong yang kay...   \n",
       "1  SAYA 7 TAHUN DALAM YOUTUBE UNTUK SKINNYINDONES...   \n",
       "2  keren,tapi ini lebih keren : https://www.youtu...   \n",
       "3  BINGUNG CARA BUAT INTRO \\nVIDIO???\\nNI COBA LI...   \n",
       "4                         Lah ngapa kpopers di bawa\"   \n",
       "5                                        keren anjir   \n",
       "6                       https://youtu.be/chIBrTJC54Y   \n",
       "7  Private sexy video 18+\\n http://OUP3fCxH3e.imo...   \n",
       "8                                 #JusticeForAudrey😫   \n",
       "9                            Jokowi 2 priode pak dee   \n",
       "\n",
       "                   Comment_Id                 Time  Likes  Reply_Count  \\\n",
       "0  Ugy-r9JErVHkhVIuqct4AaABAg  2019-04-09 05:44:01      0            0   \n",
       "1  Ugz8oLZen10iG_JRqgt4AaABAg  2019-04-13 03:37:30      1            0   \n",
       "2  UgyAm0XlJw78OyUHb5R4AaABAg  2019-04-14 12:42:47      0            0   \n",
       "3  UgxKrgrHeb53S7rkidN4AaABAg  2019-04-16 14:23:33      1            0   \n",
       "4  UgwIJGe6NIAi5Usihk54AaABAg  2019-04-09 16:02:38      0            0   \n",
       "5  Ugwx74OtTd3ptswRhj54AaABAg  2019-04-09 10:20:44      0            0   \n",
       "6  UgzBcKoScON9Tc6C-tV4AaABAg  2021-05-19 08:57:21      1            0   \n",
       "7  UgyN6F-dAGapEuqkUIZ4AaABAg  2019-04-09 20:29:08      0            0   \n",
       "8  UgyUmhDAXitS9AAHjPF4AaABAg  2019-04-10 15:35:28      1            0   \n",
       "9  Ugwi90TzmsWs2LUdPf14AaABAg  2019-01-17 19:07:26      0            0   \n",
       "\n",
       "        Label  Length_Comment  \\\n",
       "0  legitimate              77   \n",
       "1  legitimate              52   \n",
       "2        spam              72   \n",
       "3        spam             105   \n",
       "4  legitimate              26   \n",
       "5  legitimate              11   \n",
       "6        spam              28   \n",
       "7        spam              66   \n",
       "8        spam              18   \n",
       "9  legitimate              23   \n",
       "\n",
       "                                          cleanTitle  \\\n",
       "0  skinnyindonesian24 | prabowo vs jokowi - epic ...   \n",
       "1  skinnyindonesian24 | prabowo vs jokowi - epic ...   \n",
       "2  skinnyindonesian24 | prabowo vs jokowi - epic ...   \n",
       "3  skinnyindonesian24 | prabowo vs jokowi - epic ...   \n",
       "4  skinnyindonesian24 | prabowo vs jokowi - epic ...   \n",
       "5  skinnyindonesian24 | prabowo vs jokowi - epic ...   \n",
       "6  skinnyindonesian24 | prabowo vs jokowi - epic ...   \n",
       "7  skinnyindonesian24 | prabowo vs jokowi - epic ...   \n",
       "8  skinnyindonesian24 | prabowo vs jokowi - epic ...   \n",
       "9  panas! jokowi vs prabowo saling serang soal ko...   \n",
       "\n",
       "                                      cleanedComment  \n",
       "0  next di kasih kaya music gamelan dong yang kay...  \n",
       "1  saya 7 tahun dalam youtube untuk skinnyindones...  \n",
       "2  keren,tapi ini lebih keren : https://www.youtu...  \n",
       "3  bingung cara buat intro vidio??? ni coba lihat...  \n",
       "4                         lah ngapa kpopers di bawa\"  \n",
       "5                                        keren anjir  \n",
       "6                       https://youtu.be/chibrtjc54y  \n",
       "7  private sexy video 18+ http://oup3fcxh3e.imobi...  \n",
       "8                                 #justiceforaudrey😫  \n",
       "9                            jokowi 2 priode pak dee  "
      ]
     },
     "execution_count": 75,
     "metadata": {},
     "output_type": "execute_result"
    }
   ],
   "source": [
    "toyData"
   ]
  },
  {
   "cell_type": "code",
   "execution_count": 68,
   "metadata": {},
   "outputs": [],
   "source": [
    "#convert text into lower case\n",
    "#def convert_to_lower(text):\n",
    "#    return text.lower()\n",
    "\n",
    "#remove_numbers on text\n",
    "#def remove_numbers(text):\n",
    "#    number_pattern = r'\\d+'\n",
    "#    without_number = re.sub(pattern=number_pattern, repl=\" \", string=text)\n",
    "#    return without_number\n",
    "\n",
    "#def remove_punctuation(text):\n",
    "#    return text.translate(str.maketrans('', '', string.punctuation))\n",
    "\n",
    "#Komentar spam cenderung memiliki jumlah spasi yang banyak \n",
    "#sehingga komentar tersebut memberikan dampak yang jauh lebih besar \n",
    "#bagi pengguna yang membacanya\n",
    "\n",
    "#def remove_extra_white_spaces(text):\n",
    "#    single_char_pattern = re.compile(r'\\s+')\n",
    "#    without_sc = re.sub(pattern=single_char_pattern, repl=' ', string=text)\n",
    "#    return without_sc\n",
    "\n",
    "#def remove_stopwords(text):\n",
    "#    nlp = spacy.blank(\"id\")\n",
    "#    removed = []\n",
    "#    stop_words = list(STOP_WORDS)\n",
    "#    Teks = nlp(text)\n",
    "#    #tokens = token.text(Teks)\n",
    "#    for i in range(len(Teks)):\n",
    "#        if Teks [i] not in stop_words:\n",
    "#            removed.append(Teks[i])\n",
    "#    return \" \".join(removed)\n"
   ]
  },
  {
   "cell_type": "markdown",
   "metadata": {},
   "source": [
    "## Feature Extraction"
   ]
  },
  {
   "cell_type": "code",
   "execution_count": 99,
   "metadata": {},
   "outputs": [],
   "source": [
    "def url_ratio(text):\n",
    "    pattern =(r\"\"\"(?i)\\b((?:https?:(?:/{1,3}|[a-z0-9%])|[a-z0-9.\\-]+[.](?:com|net|org|edu|gov|mil|aero|asia|biz|cat|coop|info|int|jobs|mobi|museum|name|post|pro|tel|travel|xxx|ac|ad|ae|af|ag|ai|al|am|an|ao|aq|ar|as|at|au|aw|ax|az|ba|bb|bd|be|bf|bg|bh|bi|bj|bm|bn|bo|br|bs|bt|bv|bw|by|bz|ca|cc|cd|cf|cg|ch|ci|ctext|cl|cm|cn|co|cr|cs|cu|cv|cx|cy|cz|dd|de|dj|dtext|dm|do|dz|ec|ee|eg|eh|er|es|et|eu|fi|fj|ftext|fm|fo|fr|ga|gb|gd|ge|gf|gg|gh|gi|gl|gm|gn|gp|gq|gr|gs|gt|gu|gw|gy|htext|hm|hn|hr|ht|hu|id|ie|il|im|in|io|iq|ir|is|it|je|jm|jo|jp|texte|textg|texth|texti|textm|textn|textp|textr|textw|texty|textz|la|lb|lc|li|ltext|lr|ls|lt|lu|lv|ly|ma|mc|md|me|mg|mh|mtext|ml|mm|mn|mo|mp|mq|mr|ms|mt|mu|mv|mw|mx|my|mz|na|nc|ne|nf|ng|ni|nl|no|np|nr|nu|nz|om|pa|pe|pf|pg|ph|ptext|pl|pm|pn|pr|ps|pt|pw|py|qa|re|ro|rs|ru|rw|sa|sb|sc|sd|se|sg|sh|si|sj|Ja|stext|sl|sm|sn|so|sr|ss|st|su|sv|sx|sy|sz|tc|td|tf|tg|th|tj|ttext|tl|tm|tn|to|tp|tr|tt|tv|tw|tz|ua|ug|utext|us|uy|uz|va|vc|ve|vg|vi|vn|vu|wf|ws|ye|yt|yu|za|zm|zw)/)(?:[^\\s()<>{}\\[\\]]+|\\([^\\s()]*?\\([^\\s()]+\\)[^\\s()]*?\\)|\\([^\\s]+?\\))+(?:\\([^\\s()]*?\\([^\\s()]+\\)[^\\s()]*?\\)|\\([^\\s]+?\\)|[^\\s`!()\\[\\]{};:'\".,<>?«»“”‘’])|(?:(?<!@)[a-z0-9]+(?:[.\\-][a-z0-9]+)*[.](?:com|net|org|edu|gov|mil|aero|asia|biz|cat|coop|info|int|jobs|mobi|museum|name|post|pro|tel|travel|xxx|ac|ad|ae|af|ag|ai|al|am|an|ao|aq|ar|as|at|au|aw|ax|az|ba|bb|bd|be|bf|bg|bh|bi|bj|bm|bn|bo|br|bs|bt|bv|bw|by|bz|ca|cc|cd|cf|cg|ch|ci|ctext|cl|cm|cn|co|cr|cs|cu|cv|cx|cy|cz|dd|de|dj|dtext|dm|do|dz|ec|ee|eg|eh|er|es|et|eu|fi|fj|ftext|fm|fo|fr|ga|gb|gd|ge|gf|gg|gh|gi|gl|gm|gn|gp|gq|gr|gs|gt|gu|gw|gy|htext|hm|hn|hr|ht|hu|id|ie|il|im|in|io|iq|ir|is|it|je|jm|jo|jp|texte|textg|texth|texti|textm|textn|textp|textr|textw|texty|textz|la|lb|lc|li|ltext|lr|ls|lt|lu|lv|ly|ma|mc|md|me|mg|mh|mtext|ml|mm|mn|mo|mp|mq|mr|ms|mt|mu|mv|mw|mx|my|mz|na|nc|ne|nf|ng|ni|nl|no|np|nr|nu|nz|om|pa|pe|pf|pg|ph|ptext|pl|pm|pn|pr|ps|pt|pw|py|qa|re|ro|rs|ru|rw|sa|sb|sc|sd|se|sg|sh|si|sj|Ja|stext|sl|sm|sn|so|sr|ss|st|su|sv|sx|sy|sz|tc|td|tf|tg|th|tj|ttext|tl|tm|tn|to|tp|tr|tt|tv|tw|tz|ua|ug|utext|us|uy|uz|va|vc|ve|vg|vi|vn|vu|wf|ws|ye|yt|yu|za|zm|zw)\\b/?(?!@)))\"\"\")\n",
    "    #urls = re.findall(\"http[s]?://(?:[a-zA-Z]|[0-9]|[$-_@.&+]|[!*\\(\\),]|(?:%[0-9a-fA-F][0-9a-fA-F]))+\", text)\n",
    "    urls = re.findall(pattern=pattern, string=text)\n",
    "    url_char = 0\n",
    "    for url in urls:\n",
    "        url_char += len(url)\n",
    "    return url_char/len(text)\n",
    "\n",
    "def count_url(text):\n",
    "    pattern =(r\"\"\"(?i)\\b((?:https?:(?:/{1,3}|[a-z0-9%])|[a-z0-9.\\-]+[.](?:com|net|org|edu|gov|mil|aero|asia|biz|cat|coop|info|int|jobs|mobi|museum|name|post|pro|tel|travel|xxx|ac|ad|ae|af|ag|ai|al|am|an|ao|aq|ar|as|at|au|aw|ax|az|ba|bb|bd|be|bf|bg|bh|bi|bj|bm|bn|bo|br|bs|bt|bv|bw|by|bz|ca|cc|cd|cf|cg|ch|ci|ctext|cl|cm|cn|co|cr|cs|cu|cv|cx|cy|cz|dd|de|dj|dtext|dm|do|dz|ec|ee|eg|eh|er|es|et|eu|fi|fj|ftext|fm|fo|fr|ga|gb|gd|ge|gf|gg|gh|gi|gl|gm|gn|gp|gq|gr|gs|gt|gu|gw|gy|htext|hm|hn|hr|ht|hu|id|ie|il|im|in|io|iq|ir|is|it|je|jm|jo|jp|texte|textg|texth|texti|textm|textn|textp|textr|textw|texty|textz|la|lb|lc|li|ltext|lr|ls|lt|lu|lv|ly|ma|mc|md|me|mg|mh|mtext|ml|mm|mn|mo|mp|mq|mr|ms|mt|mu|mv|mw|mx|my|mz|na|nc|ne|nf|ng|ni|nl|no|np|nr|nu|nz|om|pa|pe|pf|pg|ph|ptext|pl|pm|pn|pr|ps|pt|pw|py|qa|re|ro|rs|ru|rw|sa|sb|sc|sd|se|sg|sh|si|sj|Ja|stext|sl|sm|sn|so|sr|ss|st|su|sv|sx|sy|sz|tc|td|tf|tg|th|tj|ttext|tl|tm|tn|to|tp|tr|tt|tv|tw|tz|ua|ug|utext|us|uy|uz|va|vc|ve|vg|vi|vn|vu|wf|ws|ye|yt|yu|za|zm|zw)/)(?:[^\\s()<>{}\\[\\]]+|\\([^\\s()]*?\\([^\\s()]+\\)[^\\s()]*?\\)|\\([^\\s]+?\\))+(?:\\([^\\s()]*?\\([^\\s()]+\\)[^\\s()]*?\\)|\\([^\\s]+?\\)|[^\\s`!()\\[\\]{};:'\".,<>?«»“”‘’])|(?:(?<!@)[a-z0-9]+(?:[.\\-][a-z0-9]+)*[.](?:com|net|org|edu|gov|mil|aero|asia|biz|cat|coop|info|int|jobs|mobi|museum|name|post|pro|tel|travel|xxx|ac|ad|ae|af|ag|ai|al|am|an|ao|aq|ar|as|at|au|aw|ax|az|ba|bb|bd|be|bf|bg|bh|bi|bj|bm|bn|bo|br|bs|bt|bv|bw|by|bz|ca|cc|cd|cf|cg|ch|ci|ctext|cl|cm|cn|co|cr|cs|cu|cv|cx|cy|cz|dd|de|dj|dtext|dm|do|dz|ec|ee|eg|eh|er|es|et|eu|fi|fj|ftext|fm|fo|fr|ga|gb|gd|ge|gf|gg|gh|gi|gl|gm|gn|gp|gq|gr|gs|gt|gu|gw|gy|htext|hm|hn|hr|ht|hu|id|ie|il|im|in|io|iq|ir|is|it|je|jm|jo|jp|texte|textg|texth|texti|textm|textn|textp|textr|textw|texty|textz|la|lb|lc|li|ltext|lr|ls|lt|lu|lv|ly|ma|mc|md|me|mg|mh|mtext|ml|mm|mn|mo|mp|mq|mr|ms|mt|mu|mv|mw|mx|my|mz|na|nc|ne|nf|ng|ni|nl|no|np|nr|nu|nz|om|pa|pe|pf|pg|ph|ptext|pl|pm|pn|pr|ps|pt|pw|py|qa|re|ro|rs|ru|rw|sa|sb|sc|sd|se|sg|sh|si|sj|Ja|stext|sl|sm|sn|so|sr|ss|st|su|sv|sx|sy|sz|tc|td|tf|tg|th|tj|ttext|tl|tm|tn|to|tp|tr|tt|tv|tw|tz|ua|ug|utext|us|uy|uz|va|vc|ve|vg|vi|vn|vu|wf|ws|ye|yt|yu|za|zm|zw)\\b/?(?!@)))\"\"\")\n",
    "    #urls = re.findall(\"http[s]?://(?:[a-zA-Z]|[0-9]|[$-_@.&+]|[!*\\(\\),]|(?:%[0-9a-fA-F][0-9a-fA-F]))+\", text)\n",
    "    urls = re.findall(pattern=pattern, string=text)\n",
    "    return len(urls)\n",
    "\n",
    "def count_extra_white_spaces(text):\n",
    "    single_char_pattern = r'\\s+'\n",
    "    without_sc = re.findall(pattern=single_char_pattern, string=text)\n",
    "    return len(without_sc)\n",
    "\n",
    "def word_duplicate_ratio(text):\n",
    "    try:\n",
    "        text = unidecode(text)\n",
    "        unique_words = set()\n",
    "        word = []\n",
    "        for i in text:\n",
    "            for d in text.split():      \n",
    "                unique_words.add(d)\n",
    "                word.append(d)\n",
    "        td =len(word)\n",
    "        return(len(unique_words)/td)\n",
    "    except:\n",
    "        if len(word) == 0:\n",
    "            return(1) \n",
    "\n",
    "#def duplicate_ratio(text):\n",
    "#    try:\n",
    "#        word = collections.Counter([i for i in text])\n",
    "#        len_words =[len(d) for d in word]\n",
    "#        return len(word)/sum(len_words)\n",
    "#    except:\n",
    "#        if sum(td) == 0:\n",
    "#            return(\" \")\n",
    "\n",
    "#def count_punctuation((text),(string.punctuation)):\n",
    "#    count = lambda l1,l2: sum([1 for text in l1 if text in l2])\n",
    "#    return count\n",
    "    #df['count_punct'] = df.content.apply(lambda s: count(s, string.punctuation))\n",
    "#def stopwords_ratio()\n",
    "\n",
    "def non_ascii(text): #emoticon count as ascii characters\n",
    "    pattern = (r'[^\\x00-\\x7f]')\n",
    "    non_ascii_count = re.findall(pattern=pattern, string=text)\n",
    "    return len(non_ascii_count)\n",
    "\n",
    "def upper_letters(text):\n",
    "    sum_upper_letters = sum(map(str.isupper, text))\n",
    "    return sum_upper_letters\n",
    "\n",
    "def count_emoji(text):\n",
    "    emoji_list = []\n",
    "    data = re.findall(r'\\X', text)\n",
    "    for word in data:\n",
    "        if any(char in emoji.UNICODE_EMOJI['en'] for char in word):\n",
    "            emoji_list.append(word)\n",
    "    return len(emoji_list)\n",
    "\n",
    "stopwords = set(Sastrawi_StopWords_id)\n",
    "def stopword_ratio(text):\n",
    "    stopword = set(list(word for word in text.split() if word in stopwords))\n",
    "    word = [word for word in text.split()]\n",
    "    return len(stopword)/len(word)"
   ]
  },
  {
   "cell_type": "code",
   "execution_count": 92,
   "metadata": {},
   "outputs": [],
   "source": [
    "text = toyData[\"cleanedComment\"][8]"
   ]
  },
  {
   "cell_type": "code",
   "execution_count": 93,
   "metadata": {},
   "outputs": [
    {
     "data": {
      "text/plain": [
       "'#justiceforaudrey😫'"
      ]
     },
     "execution_count": 93,
     "metadata": {},
     "output_type": "execute_result"
    }
   ],
   "source": [
    "text"
   ]
  },
  {
   "cell_type": "code",
   "execution_count": 128,
   "metadata": {},
   "outputs": [
    {
     "name": "stdout",
     "output_type": "stream",
     "text": [
      "4\n",
      "5\n",
      "0.8\n"
     ]
    }
   ],
   "source": [
    "unique_words = set()\n",
    "word = []\n",
    "for d in text.split():      \n",
    "    unique_words.add(d)\n",
    "    word.append(d)\n",
    "td =len(word)\n",
    "print(len(unique_words))\n",
    "print(td)\n",
    "print(len(unique_words)/td)"
   ]
  },
  {
   "cell_type": "code",
   "execution_count": 98,
   "metadata": {},
   "outputs": [
    {
     "name": "stdout",
     "output_type": "stream",
     "text": [
      "Counter({'u': 8, 'a': 4, 'k': 4, ' ': 3})\n",
      "[1, 1, 1, 1]\n",
      "1.0\n"
     ]
    }
   ],
   "source": [
    "word = collections.Counter([i for i in text])\n",
    "print(word)\n",
    "len_words =[len(d) for d in word]\n",
    "print(len_words)\n",
    "print(len(word)/sum(len_words))"
   ]
  },
  {
   "cell_type": "code",
   "execution_count": 78,
   "metadata": {},
   "outputs": [],
   "source": [
    "toyData['countUrl'] = toyData['Comment'].apply(lambda x: count_url(x))\n",
    "#toyData['urlRatio'] = toyData['Comment'].apply(lambda x: url_ratio(x))\n",
    "toyData['WhiteSpacenum'] = toyData['Comment'].apply(lambda x: count_extra_white_spaces(x))\n",
    "toyData['StopwordRatio'] = toyData['cleanedComment'].apply(lambda x: stopword_ratio(x))\n",
    "toyData['WorldDuplicateRatio'] = toyData['cleanedComment'].apply(lambda x: word_duplicate_ratio(x))\n",
    "toyData['CountEmoji'] = toyData['cleanedComment'].apply(lambda x: count_emoji(x))\n",
    "toyData['CountNonAscii'] = toyData['cleanedComment'].apply(lambda x: non_ascii(x))\n",
    "toyData['CountUpperLetters'] = toyData['Comment'].apply(lambda x: upper_letters(x))"
   ]
  },
  {
   "cell_type": "code",
   "execution_count": 80,
   "metadata": {},
   "outputs": [
    {
     "data": {
      "text/html": [
       "<div>\n",
       "<style scoped>\n",
       "    .dataframe tbody tr th:only-of-type {\n",
       "        vertical-align: middle;\n",
       "    }\n",
       "\n",
       "    .dataframe tbody tr th {\n",
       "        vertical-align: top;\n",
       "    }\n",
       "\n",
       "    .dataframe thead th {\n",
       "        text-align: right;\n",
       "    }\n",
       "</style>\n",
       "<table border=\"1\" class=\"dataframe\">\n",
       "  <thead>\n",
       "    <tr style=\"text-align: right;\">\n",
       "      <th></th>\n",
       "      <th>Video_Id</th>\n",
       "      <th>Tittle</th>\n",
       "      <th>Description</th>\n",
       "      <th>Name</th>\n",
       "      <th>Comment</th>\n",
       "      <th>Comment_Id</th>\n",
       "      <th>Time</th>\n",
       "      <th>Likes</th>\n",
       "      <th>Reply_Count</th>\n",
       "      <th>Label</th>\n",
       "      <th>...</th>\n",
       "      <th>cleanTitle</th>\n",
       "      <th>cleanedComment</th>\n",
       "      <th>countUrl</th>\n",
       "      <th>WhiteSpacenum</th>\n",
       "      <th>CountPunctuation</th>\n",
       "      <th>WorldDuplicateRatio</th>\n",
       "      <th>CountEmoji</th>\n",
       "      <th>CountNonAscii</th>\n",
       "      <th>CountUpperLetters</th>\n",
       "      <th>StopwordRatio</th>\n",
       "    </tr>\n",
       "  </thead>\n",
       "  <tbody>\n",
       "    <tr>\n",
       "      <th>0</th>\n",
       "      <td>AP0NACavjfk</td>\n",
       "      <td>SkinnyIndonesian24 | Prabowo VS Jokowi - Epic ...</td>\n",
       "      <td>SkinnyIndonesian24 ( Andovi da Lopez sebagai J...</td>\n",
       "      <td>irvansmaulana CH</td>\n",
       "      <td>next di kasih kaya music gamelan dong yang kay...</td>\n",
       "      <td>Ugy-r9JErVHkhVIuqct4AaABAg</td>\n",
       "      <td>2019-04-09 05:44:01</td>\n",
       "      <td>0</td>\n",
       "      <td>0</td>\n",
       "      <td>legitimate</td>\n",
       "      <td>...</td>\n",
       "      <td>skinnyindonesian24 | prabowo vs jokowi - epic ...</td>\n",
       "      <td>next di kasih kaya music gamelan dong yang kay...</td>\n",
       "      <td>0</td>\n",
       "      <td>13</td>\n",
       "      <td>0.214286</td>\n",
       "      <td>0.012059</td>\n",
       "      <td>0</td>\n",
       "      <td>0</td>\n",
       "      <td>0</td>\n",
       "      <td>0.214286</td>\n",
       "    </tr>\n",
       "    <tr>\n",
       "      <th>1</th>\n",
       "      <td>AP0NACavjfk</td>\n",
       "      <td>SkinnyIndonesian24 | Prabowo VS Jokowi - Epic ...</td>\n",
       "      <td>SkinnyIndonesian24 ( Andovi da Lopez sebagai J...</td>\n",
       "      <td>Papa Soni</td>\n",
       "      <td>SAYA 7 TAHUN DALAM YOUTUBE UNTUK SKINNYINDONES...</td>\n",
       "      <td>Ugz8oLZen10iG_JRqgt4AaABAg</td>\n",
       "      <td>2019-04-13 03:37:30</td>\n",
       "      <td>1</td>\n",
       "      <td>0</td>\n",
       "      <td>legitimate</td>\n",
       "      <td>...</td>\n",
       "      <td>skinnyindonesian24 | prabowo vs jokowi - epic ...</td>\n",
       "      <td>saya 7 tahun dalam youtube untuk skinnyindones...</td>\n",
       "      <td>0</td>\n",
       "      <td>6</td>\n",
       "      <td>0.428571</td>\n",
       "      <td>0.019231</td>\n",
       "      <td>0</td>\n",
       "      <td>0</td>\n",
       "      <td>43</td>\n",
       "      <td>0.428571</td>\n",
       "    </tr>\n",
       "    <tr>\n",
       "      <th>2</th>\n",
       "      <td>AP0NACavjfk</td>\n",
       "      <td>SkinnyIndonesian24 | Prabowo VS Jokowi - Epic ...</td>\n",
       "      <td>SkinnyIndonesian24 ( Andovi da Lopez sebagai J...</td>\n",
       "      <td>Trending Sedang Viral</td>\n",
       "      <td>keren,tapi ini lebih keren : https://www.youtu...</td>\n",
       "      <td>UgyAm0XlJw78OyUHb5R4AaABAg</td>\n",
       "      <td>2019-04-14 12:42:47</td>\n",
       "      <td>0</td>\n",
       "      <td>0</td>\n",
       "      <td>spam</td>\n",
       "      <td>...</td>\n",
       "      <td>skinnyindonesian24 | prabowo vs jokowi - epic ...</td>\n",
       "      <td>keren,tapi ini lebih keren : https://www.youtu...</td>\n",
       "      <td>1</td>\n",
       "      <td>5</td>\n",
       "      <td>0.166667</td>\n",
       "      <td>0.013889</td>\n",
       "      <td>0</td>\n",
       "      <td>0</td>\n",
       "      <td>5</td>\n",
       "      <td>0.166667</td>\n",
       "    </tr>\n",
       "    <tr>\n",
       "      <th>3</th>\n",
       "      <td>AP0NACavjfk</td>\n",
       "      <td>SkinnyIndonesian24 | Prabowo VS Jokowi - Epic ...</td>\n",
       "      <td>SkinnyIndonesian24 ( Andovi da Lopez sebagai J...</td>\n",
       "      <td>Animasi Pado</td>\n",
       "      <td>BINGUNG CARA BUAT INTRO \\nVIDIO???\\nNI COBA LI...</td>\n",
       "      <td>UgxKrgrHeb53S7rkidN4AaABAg</td>\n",
       "      <td>2019-04-16 14:23:33</td>\n",
       "      <td>1</td>\n",
       "      <td>0</td>\n",
       "      <td>spam</td>\n",
       "      <td>...</td>\n",
       "      <td>skinnyindonesian24 | prabowo vs jokowi - epic ...</td>\n",
       "      <td>bingung cara buat intro vidio??? ni coba lihat...</td>\n",
       "      <td>1</td>\n",
       "      <td>11</td>\n",
       "      <td>0.000000</td>\n",
       "      <td>0.009709</td>\n",
       "      <td>0</td>\n",
       "      <td>0</td>\n",
       "      <td>61</td>\n",
       "      <td>0.000000</td>\n",
       "    </tr>\n",
       "    <tr>\n",
       "      <th>4</th>\n",
       "      <td>AP0NACavjfk</td>\n",
       "      <td>SkinnyIndonesian24 | Prabowo VS Jokowi - Epic ...</td>\n",
       "      <td>SkinnyIndonesian24 ( Andovi da Lopez sebagai J...</td>\n",
       "      <td>Nuriah Iah</td>\n",
       "      <td>Lah ngapa kpopers di bawa\"</td>\n",
       "      <td>UgwIJGe6NIAi5Usihk54AaABAg</td>\n",
       "      <td>2019-04-09 16:02:38</td>\n",
       "      <td>0</td>\n",
       "      <td>0</td>\n",
       "      <td>legitimate</td>\n",
       "      <td>...</td>\n",
       "      <td>skinnyindonesian24 | prabowo vs jokowi - epic ...</td>\n",
       "      <td>lah ngapa kpopers di bawa\"</td>\n",
       "      <td>0</td>\n",
       "      <td>4</td>\n",
       "      <td>0.200000</td>\n",
       "      <td>0.038462</td>\n",
       "      <td>0</td>\n",
       "      <td>0</td>\n",
       "      <td>1</td>\n",
       "      <td>0.200000</td>\n",
       "    </tr>\n",
       "    <tr>\n",
       "      <th>5</th>\n",
       "      <td>AP0NACavjfk</td>\n",
       "      <td>SkinnyIndonesian24 | Prabowo VS Jokowi - Epic ...</td>\n",
       "      <td>SkinnyIndonesian24 ( Andovi da Lopez sebagai J...</td>\n",
       "      <td>Anggi Prihatmi</td>\n",
       "      <td>keren anjir</td>\n",
       "      <td>Ugwx74OtTd3ptswRhj54AaABAg</td>\n",
       "      <td>2019-04-09 10:20:44</td>\n",
       "      <td>0</td>\n",
       "      <td>0</td>\n",
       "      <td>legitimate</td>\n",
       "      <td>...</td>\n",
       "      <td>skinnyindonesian24 | prabowo vs jokowi - epic ...</td>\n",
       "      <td>keren anjir</td>\n",
       "      <td>0</td>\n",
       "      <td>1</td>\n",
       "      <td>0.000000</td>\n",
       "      <td>0.090909</td>\n",
       "      <td>0</td>\n",
       "      <td>0</td>\n",
       "      <td>0</td>\n",
       "      <td>0.000000</td>\n",
       "    </tr>\n",
       "    <tr>\n",
       "      <th>6</th>\n",
       "      <td>AP0NACavjfk</td>\n",
       "      <td>SkinnyIndonesian24 | Prabowo VS Jokowi - Epic ...</td>\n",
       "      <td>SkinnyIndonesian24 ( Andovi da Lopez sebagai J...</td>\n",
       "      <td>Ulan Sari</td>\n",
       "      <td>https://youtu.be/chIBrTJC54Y</td>\n",
       "      <td>UgzBcKoScON9Tc6C-tV4AaABAg</td>\n",
       "      <td>2021-05-19 08:57:21</td>\n",
       "      <td>1</td>\n",
       "      <td>0</td>\n",
       "      <td>spam</td>\n",
       "      <td>...</td>\n",
       "      <td>skinnyindonesian24 | prabowo vs jokowi - epic ...</td>\n",
       "      <td>https://youtu.be/chibrtjc54y</td>\n",
       "      <td>1</td>\n",
       "      <td>0</td>\n",
       "      <td>0.000000</td>\n",
       "      <td>0.035714</td>\n",
       "      <td>0</td>\n",
       "      <td>0</td>\n",
       "      <td>6</td>\n",
       "      <td>0.000000</td>\n",
       "    </tr>\n",
       "    <tr>\n",
       "      <th>7</th>\n",
       "      <td>AP0NACavjfk</td>\n",
       "      <td>SkinnyIndonesian24 | Prabowo VS Jokowi - Epic ...</td>\n",
       "      <td>SkinnyIndonesian24 ( Andovi da Lopez sebagai J...</td>\n",
       "      <td>Timor Kreatif</td>\n",
       "      <td>Private sexy video 18+\\n http://OUP3fCxH3e.imo...</td>\n",
       "      <td>UgyN6F-dAGapEuqkUIZ4AaABAg</td>\n",
       "      <td>2019-04-09 20:29:08</td>\n",
       "      <td>0</td>\n",
       "      <td>0</td>\n",
       "      <td>spam</td>\n",
       "      <td>...</td>\n",
       "      <td>skinnyindonesian24 | prabowo vs jokowi - epic ...</td>\n",
       "      <td>private sexy video 18+ http://oup3fcxh3e.imobi...</td>\n",
       "      <td>1</td>\n",
       "      <td>4</td>\n",
       "      <td>0.000000</td>\n",
       "      <td>0.015385</td>\n",
       "      <td>0</td>\n",
       "      <td>0</td>\n",
       "      <td>9</td>\n",
       "      <td>0.000000</td>\n",
       "    </tr>\n",
       "    <tr>\n",
       "      <th>8</th>\n",
       "      <td>AP0NACavjfk</td>\n",
       "      <td>SkinnyIndonesian24 | Prabowo VS Jokowi - Epic ...</td>\n",
       "      <td>SkinnyIndonesian24 ( Andovi da Lopez sebagai J...</td>\n",
       "      <td>Ariq Mohammad</td>\n",
       "      <td>#JusticeForAudrey😫</td>\n",
       "      <td>UgyUmhDAXitS9AAHjPF4AaABAg</td>\n",
       "      <td>2019-04-10 15:35:28</td>\n",
       "      <td>1</td>\n",
       "      <td>0</td>\n",
       "      <td>spam</td>\n",
       "      <td>...</td>\n",
       "      <td>skinnyindonesian24 | prabowo vs jokowi - epic ...</td>\n",
       "      <td>#justiceforaudrey😫</td>\n",
       "      <td>0</td>\n",
       "      <td>0</td>\n",
       "      <td>0.000000</td>\n",
       "      <td>0.058824</td>\n",
       "      <td>1</td>\n",
       "      <td>1</td>\n",
       "      <td>3</td>\n",
       "      <td>0.000000</td>\n",
       "    </tr>\n",
       "    <tr>\n",
       "      <th>9</th>\n",
       "      <td>0iLgiRBQzzs</td>\n",
       "      <td>Panas! Jokowi VS Prabowo Saling Serang soal Ko...</td>\n",
       "      <td>Debat panas antara kedua pasangan calon presid...</td>\n",
       "      <td>Chandra Wijaya</td>\n",
       "      <td>Jokowi 2 priode pak dee</td>\n",
       "      <td>Ugwi90TzmsWs2LUdPf14AaABAg</td>\n",
       "      <td>2019-01-17 19:07:26</td>\n",
       "      <td>0</td>\n",
       "      <td>0</td>\n",
       "      <td>legitimate</td>\n",
       "      <td>...</td>\n",
       "      <td>panas! jokowi vs prabowo saling serang soal ko...</td>\n",
       "      <td>jokowi 2 priode pak dee</td>\n",
       "      <td>0</td>\n",
       "      <td>4</td>\n",
       "      <td>0.000000</td>\n",
       "      <td>0.043478</td>\n",
       "      <td>0</td>\n",
       "      <td>0</td>\n",
       "      <td>1</td>\n",
       "      <td>0.000000</td>\n",
       "    </tr>\n",
       "  </tbody>\n",
       "</table>\n",
       "<p>10 rows × 21 columns</p>\n",
       "</div>"
      ],
      "text/plain": [
       "      Video_Id                                             Tittle  \\\n",
       "0  AP0NACavjfk  SkinnyIndonesian24 | Prabowo VS Jokowi - Epic ...   \n",
       "1  AP0NACavjfk  SkinnyIndonesian24 | Prabowo VS Jokowi - Epic ...   \n",
       "2  AP0NACavjfk  SkinnyIndonesian24 | Prabowo VS Jokowi - Epic ...   \n",
       "3  AP0NACavjfk  SkinnyIndonesian24 | Prabowo VS Jokowi - Epic ...   \n",
       "4  AP0NACavjfk  SkinnyIndonesian24 | Prabowo VS Jokowi - Epic ...   \n",
       "5  AP0NACavjfk  SkinnyIndonesian24 | Prabowo VS Jokowi - Epic ...   \n",
       "6  AP0NACavjfk  SkinnyIndonesian24 | Prabowo VS Jokowi - Epic ...   \n",
       "7  AP0NACavjfk  SkinnyIndonesian24 | Prabowo VS Jokowi - Epic ...   \n",
       "8  AP0NACavjfk  SkinnyIndonesian24 | Prabowo VS Jokowi - Epic ...   \n",
       "9  0iLgiRBQzzs  Panas! Jokowi VS Prabowo Saling Serang soal Ko...   \n",
       "\n",
       "                                         Description                   Name  \\\n",
       "0  SkinnyIndonesian24 ( Andovi da Lopez sebagai J...       irvansmaulana CH   \n",
       "1  SkinnyIndonesian24 ( Andovi da Lopez sebagai J...              Papa Soni   \n",
       "2  SkinnyIndonesian24 ( Andovi da Lopez sebagai J...  Trending Sedang Viral   \n",
       "3  SkinnyIndonesian24 ( Andovi da Lopez sebagai J...           Animasi Pado   \n",
       "4  SkinnyIndonesian24 ( Andovi da Lopez sebagai J...             Nuriah Iah   \n",
       "5  SkinnyIndonesian24 ( Andovi da Lopez sebagai J...         Anggi Prihatmi   \n",
       "6  SkinnyIndonesian24 ( Andovi da Lopez sebagai J...              Ulan Sari   \n",
       "7  SkinnyIndonesian24 ( Andovi da Lopez sebagai J...          Timor Kreatif   \n",
       "8  SkinnyIndonesian24 ( Andovi da Lopez sebagai J...          Ariq Mohammad   \n",
       "9  Debat panas antara kedua pasangan calon presid...         Chandra Wijaya   \n",
       "\n",
       "                                             Comment  \\\n",
       "0  next di kasih kaya music gamelan dong yang kay...   \n",
       "1  SAYA 7 TAHUN DALAM YOUTUBE UNTUK SKINNYINDONES...   \n",
       "2  keren,tapi ini lebih keren : https://www.youtu...   \n",
       "3  BINGUNG CARA BUAT INTRO \\nVIDIO???\\nNI COBA LI...   \n",
       "4                         Lah ngapa kpopers di bawa\"   \n",
       "5                                        keren anjir   \n",
       "6                       https://youtu.be/chIBrTJC54Y   \n",
       "7  Private sexy video 18+\\n http://OUP3fCxH3e.imo...   \n",
       "8                                 #JusticeForAudrey😫   \n",
       "9                            Jokowi 2 priode pak dee   \n",
       "\n",
       "                   Comment_Id                 Time  Likes  Reply_Count  \\\n",
       "0  Ugy-r9JErVHkhVIuqct4AaABAg  2019-04-09 05:44:01      0            0   \n",
       "1  Ugz8oLZen10iG_JRqgt4AaABAg  2019-04-13 03:37:30      1            0   \n",
       "2  UgyAm0XlJw78OyUHb5R4AaABAg  2019-04-14 12:42:47      0            0   \n",
       "3  UgxKrgrHeb53S7rkidN4AaABAg  2019-04-16 14:23:33      1            0   \n",
       "4  UgwIJGe6NIAi5Usihk54AaABAg  2019-04-09 16:02:38      0            0   \n",
       "5  Ugwx74OtTd3ptswRhj54AaABAg  2019-04-09 10:20:44      0            0   \n",
       "6  UgzBcKoScON9Tc6C-tV4AaABAg  2021-05-19 08:57:21      1            0   \n",
       "7  UgyN6F-dAGapEuqkUIZ4AaABAg  2019-04-09 20:29:08      0            0   \n",
       "8  UgyUmhDAXitS9AAHjPF4AaABAg  2019-04-10 15:35:28      1            0   \n",
       "9  Ugwi90TzmsWs2LUdPf14AaABAg  2019-01-17 19:07:26      0            0   \n",
       "\n",
       "        Label  ...                                         cleanTitle  \\\n",
       "0  legitimate  ...  skinnyindonesian24 | prabowo vs jokowi - epic ...   \n",
       "1  legitimate  ...  skinnyindonesian24 | prabowo vs jokowi - epic ...   \n",
       "2        spam  ...  skinnyindonesian24 | prabowo vs jokowi - epic ...   \n",
       "3        spam  ...  skinnyindonesian24 | prabowo vs jokowi - epic ...   \n",
       "4  legitimate  ...  skinnyindonesian24 | prabowo vs jokowi - epic ...   \n",
       "5  legitimate  ...  skinnyindonesian24 | prabowo vs jokowi - epic ...   \n",
       "6        spam  ...  skinnyindonesian24 | prabowo vs jokowi - epic ...   \n",
       "7        spam  ...  skinnyindonesian24 | prabowo vs jokowi - epic ...   \n",
       "8        spam  ...  skinnyindonesian24 | prabowo vs jokowi - epic ...   \n",
       "9  legitimate  ...  panas! jokowi vs prabowo saling serang soal ko...   \n",
       "\n",
       "                                      cleanedComment countUrl  WhiteSpacenum  \\\n",
       "0  next di kasih kaya music gamelan dong yang kay...        0             13   \n",
       "1  saya 7 tahun dalam youtube untuk skinnyindones...        0              6   \n",
       "2  keren,tapi ini lebih keren : https://www.youtu...        1              5   \n",
       "3  bingung cara buat intro vidio??? ni coba lihat...        1             11   \n",
       "4                         lah ngapa kpopers di bawa\"        0              4   \n",
       "5                                        keren anjir        0              1   \n",
       "6                       https://youtu.be/chibrtjc54y        1              0   \n",
       "7  private sexy video 18+ http://oup3fcxh3e.imobi...        1              4   \n",
       "8                                 #justiceforaudrey😫        0              0   \n",
       "9                            jokowi 2 priode pak dee        0              4   \n",
       "\n",
       "   CountPunctuation  WorldDuplicateRatio  CountEmoji  CountNonAscii  \\\n",
       "0          0.214286             0.012059           0              0   \n",
       "1          0.428571             0.019231           0              0   \n",
       "2          0.166667             0.013889           0              0   \n",
       "3          0.000000             0.009709           0              0   \n",
       "4          0.200000             0.038462           0              0   \n",
       "5          0.000000             0.090909           0              0   \n",
       "6          0.000000             0.035714           0              0   \n",
       "7          0.000000             0.015385           0              0   \n",
       "8          0.000000             0.058824           1              1   \n",
       "9          0.000000             0.043478           0              0   \n",
       "\n",
       "   CountUpperLetters  StopwordRatio  \n",
       "0                  0       0.214286  \n",
       "1                 43       0.428571  \n",
       "2                  5       0.166667  \n",
       "3                 61       0.000000  \n",
       "4                  1       0.200000  \n",
       "5                  0       0.000000  \n",
       "6                  6       0.000000  \n",
       "7                  9       0.000000  \n",
       "8                  3       0.000000  \n",
       "9                  1       0.000000  \n",
       "\n",
       "[10 rows x 21 columns]"
      ]
     },
     "execution_count": 80,
     "metadata": {},
     "output_type": "execute_result"
    }
   ],
   "source": [
    "toyData"
   ]
  },
  {
   "cell_type": "code",
   "execution_count": 69,
   "metadata": {},
   "outputs": [
    {
     "data": {
      "text/plain": [
       "'private sexy video 18+ http://oup3fcxh3e.imobil.design/aed6ai7vs4'"
      ]
     },
     "execution_count": 69,
     "metadata": {},
     "output_type": "execute_result"
    }
   ],
   "source": [
    "toyData[\"cleanedComment\"][7]"
   ]
  },
  {
   "cell_type": "code",
   "execution_count": 103,
   "metadata": {},
   "outputs": [],
   "source": [
    "toyData.to_csv(\"../Data/Comments/toyData_Cleaning.csv\", index=False)"
   ]
  },
  {
   "cell_type": "markdown",
   "metadata": {},
   "source": [
    "--------------------------------------------------------------------------------"
   ]
  },
  {
   "cell_type": "markdown",
   "metadata": {},
   "source": [
    "## **All_Data for the cleaning data**"
   ]
  },
  {
   "cell_type": "markdown",
   "metadata": {},
   "source": [
    "**Cleaned Comment** dan **Cleaned Tittle**\n",
    "\n",
    "Pada proses cleaning comment pertama ini **melakukan** beberapa hal:\n",
    "- lowercase text\n",
    "- remove punctuation\n",
    "dengan fungsi yang sudah dibuat yaitu ``def cleansing(text)``"
   ]
  },
  {
   "cell_type": "code",
   "execution_count": 88,
   "metadata": {},
   "outputs": [],
   "source": [
    "try_data_cleaning[\"cleanTittle\"] = try_data_cleaning[\"Tittle\"].apply(lambda x: cleaning(x))"
   ]
  },
  {
   "cell_type": "code",
   "execution_count": 89,
   "metadata": {},
   "outputs": [],
   "source": [
    "try_data_cleaning[\"cleanComment\"] = try_data_cleaning[\"Comment\"].apply(lambda x: cleaning(x))"
   ]
  },
  {
   "cell_type": "code",
   "execution_count": 91,
   "metadata": {},
   "outputs": [
    {
     "data": {
      "text/html": [
       "<div>\n",
       "<style scoped>\n",
       "    .dataframe tbody tr th:only-of-type {\n",
       "        vertical-align: middle;\n",
       "    }\n",
       "\n",
       "    .dataframe tbody tr th {\n",
       "        vertical-align: top;\n",
       "    }\n",
       "\n",
       "    .dataframe thead th {\n",
       "        text-align: right;\n",
       "    }\n",
       "</style>\n",
       "<table border=\"1\" class=\"dataframe\">\n",
       "  <thead>\n",
       "    <tr style=\"text-align: right;\">\n",
       "      <th></th>\n",
       "      <th>Video_Id</th>\n",
       "      <th>Tittle</th>\n",
       "      <th>Description</th>\n",
       "      <th>Name</th>\n",
       "      <th>Comment</th>\n",
       "      <th>Comment_Id</th>\n",
       "      <th>Time</th>\n",
       "      <th>Likes</th>\n",
       "      <th>Reply_Count</th>\n",
       "      <th>Label</th>\n",
       "      <th>Length_Comment</th>\n",
       "      <th>cleanTittle</th>\n",
       "      <th>cleanComment</th>\n",
       "    </tr>\n",
       "  </thead>\n",
       "  <tbody>\n",
       "    <tr>\n",
       "      <th>456</th>\n",
       "      <td>AP0NACavjfk</td>\n",
       "      <td>SkinnyIndonesian24 | Prabowo VS Jokowi - Epic ...</td>\n",
       "      <td>SkinnyIndonesian24 ( Andovi da Lopez sebagai J...</td>\n",
       "      <td>Supriyadi Xz</td>\n",
       "      <td>Assalamualaikum 😊\\nBantu chanel sayaa ya gan b...</td>\n",
       "      <td>UgwEdiZKl0xGZl1P7F94AaABAg</td>\n",
       "      <td>2019-04-21 07:16:53</td>\n",
       "      <td>1</td>\n",
       "      <td>0</td>\n",
       "      <td>spam</td>\n",
       "      <td>102</td>\n",
       "      <td>skinnyindonesian24 | prabowo vs jokowi - epic ...</td>\n",
       "      <td>assalamualaikum 😊 bantu chanel sayaa ya gan bo...</td>\n",
       "    </tr>\n",
       "  </tbody>\n",
       "</table>\n",
       "</div>"
      ],
      "text/plain": [
       "        Video_Id                                             Tittle  \\\n",
       "456  AP0NACavjfk  SkinnyIndonesian24 | Prabowo VS Jokowi - Epic ...   \n",
       "\n",
       "                                           Description          Name  \\\n",
       "456  SkinnyIndonesian24 ( Andovi da Lopez sebagai J...  Supriyadi Xz   \n",
       "\n",
       "                                               Comment  \\\n",
       "456  Assalamualaikum 😊\\nBantu chanel sayaa ya gan b...   \n",
       "\n",
       "                     Comment_Id                Time  Likes  Reply_Count Label  \\\n",
       "456  UgwEdiZKl0xGZl1P7F94AaABAg 2019-04-21 07:16:53      1            0  spam   \n",
       "\n",
       "     Length_Comment                                        cleanTittle  \\\n",
       "456             102  skinnyindonesian24 | prabowo vs jokowi - epic ...   \n",
       "\n",
       "                                          cleanComment  \n",
       "456  assalamualaikum 😊 bantu chanel sayaa ya gan bo...  "
      ]
     },
     "execution_count": 91,
     "metadata": {},
     "output_type": "execute_result"
    }
   ],
   "source": [
    "try_data_cleaning.sample()"
   ]
  },
  {
   "cell_type": "markdown",
   "metadata": {},
   "source": [
    "**feature extraction**\n",
    "\n",
    "Feature extraction dengan menghitung fitur numerik ini untuk setiap komentar untuk menangkap karakteristik berbeda yang dapat membedakan komentar spam dengan komentar yang sah dengan lebih baik. Feature extraction in terdiri dari:\n",
    "- Count Url\n",
    "- Number of White Space\n",
    "- Stopword ratio\n",
    "- world duplicate ratio\n",
    "- count emoji\n",
    "- count non Ascii character\n",
    "- count upper letters"
   ]
  },
  {
   "cell_type": "code",
   "execution_count": 101,
   "metadata": {},
   "outputs": [],
   "source": [
    "try_data_cleaning['countUrl'] = try_data_cleaning['Comment'].apply(lambda x: count_url(x))\n",
    "try_data_cleaning['WhiteSpacenum'] = try_data_cleaning['Comment'].apply(lambda x: count_extra_white_spaces(x))\n",
    "try_data_cleaning['StopwordRatio'] = try_data_cleaning['cleanComment'].apply(lambda x: stopword_ratio(x))\n",
    "try_data_cleaning['WorldDuplicateRatio'] = try_data_cleaning['cleanComment'].apply(lambda x: word_duplicate_ratio(x))\n",
    "try_data_cleaning['CountEmoji'] = try_data_cleaning['cleanComment'].apply(lambda x: count_emoji(x))\n",
    "try_data_cleaning['CountNonAscii'] = try_data_cleaning['cleanComment'].apply(lambda x: non_ascii(x))\n",
    "try_data_cleaning['CountUpperLetters'] = try_data_cleaning['Comment'].apply(lambda x: upper_letters(x))"
   ]
  },
  {
   "cell_type": "code",
   "execution_count": 102,
   "metadata": {},
   "outputs": [
    {
     "data": {
      "text/html": [
       "<div>\n",
       "<style scoped>\n",
       "    .dataframe tbody tr th:only-of-type {\n",
       "        vertical-align: middle;\n",
       "    }\n",
       "\n",
       "    .dataframe tbody tr th {\n",
       "        vertical-align: top;\n",
       "    }\n",
       "\n",
       "    .dataframe thead th {\n",
       "        text-align: right;\n",
       "    }\n",
       "</style>\n",
       "<table border=\"1\" class=\"dataframe\">\n",
       "  <thead>\n",
       "    <tr style=\"text-align: right;\">\n",
       "      <th></th>\n",
       "      <th>Video_Id</th>\n",
       "      <th>Tittle</th>\n",
       "      <th>Description</th>\n",
       "      <th>Name</th>\n",
       "      <th>Comment</th>\n",
       "      <th>Comment_Id</th>\n",
       "      <th>Time</th>\n",
       "      <th>Likes</th>\n",
       "      <th>Reply_Count</th>\n",
       "      <th>Label</th>\n",
       "      <th>Length_Comment</th>\n",
       "      <th>cleanTittle</th>\n",
       "      <th>cleanComment</th>\n",
       "      <th>countUrl</th>\n",
       "      <th>WhiteSpacenum</th>\n",
       "      <th>StopwordRatio</th>\n",
       "      <th>WorldDuplicateRatio</th>\n",
       "      <th>CountEmoji</th>\n",
       "      <th>CountNonAscii</th>\n",
       "      <th>CountUpperLetters</th>\n",
       "    </tr>\n",
       "  </thead>\n",
       "  <tbody>\n",
       "    <tr>\n",
       "      <th>0</th>\n",
       "      <td>0iLgiRBQzzs</td>\n",
       "      <td>Panas! Jokowi VS Prabowo Saling Serang soal Ko...</td>\n",
       "      <td>Debat panas antara kedua pasangan calon presid...</td>\n",
       "      <td>Doharman Patimura Waruwu</td>\n",
       "      <td>https://youtu.be/LBKGyxnpMCU</td>\n",
       "      <td>Ugz-zdD0s87dSDzITuh4AaABAg</td>\n",
       "      <td>2019-01-17 23:06:24</td>\n",
       "      <td>0</td>\n",
       "      <td>0</td>\n",
       "      <td>spam</td>\n",
       "      <td>28</td>\n",
       "      <td>panas! jokowi vs prabowo saling serang soal ko...</td>\n",
       "      <td>https://youtu.be/lbkgyxnpmcu</td>\n",
       "      <td>1</td>\n",
       "      <td>0</td>\n",
       "      <td>0.000000</td>\n",
       "      <td>0.035714</td>\n",
       "      <td>0</td>\n",
       "      <td>0</td>\n",
       "      <td>7</td>\n",
       "    </tr>\n",
       "    <tr>\n",
       "      <th>1</th>\n",
       "      <td>AP0NACavjfk</td>\n",
       "      <td>SkinnyIndonesian24 | Prabowo VS Jokowi - Epic ...</td>\n",
       "      <td>SkinnyIndonesian24 ( Andovi da Lopez sebagai J...</td>\n",
       "      <td>Akiru Syakir</td>\n",
       "      <td>Bantu subscribe youtube gw dong</td>\n",
       "      <td>UgwQM2OHIzkVDtu0PIN4AaABAg</td>\n",
       "      <td>2019-04-10 22:40:00</td>\n",
       "      <td>0</td>\n",
       "      <td>0</td>\n",
       "      <td>spam</td>\n",
       "      <td>31</td>\n",
       "      <td>skinnyindonesian24 | prabowo vs jokowi - epic ...</td>\n",
       "      <td>bantu subscribe youtube gw dong</td>\n",
       "      <td>0</td>\n",
       "      <td>4</td>\n",
       "      <td>0.000000</td>\n",
       "      <td>0.032258</td>\n",
       "      <td>0</td>\n",
       "      <td>0</td>\n",
       "      <td>1</td>\n",
       "    </tr>\n",
       "    <tr>\n",
       "      <th>2</th>\n",
       "      <td>AP0NACavjfk</td>\n",
       "      <td>SkinnyIndonesian24 | Prabowo VS Jokowi - Epic ...</td>\n",
       "      <td>SkinnyIndonesian24 ( Andovi da Lopez sebagai J...</td>\n",
       "      <td>Teguh Wage Prakoso</td>\n",
       "      <td>hachimon tonkou, kalau buka gerbang ke 8 auto ...</td>\n",
       "      <td>Ugyh7dOOI2953Exf3cp4AaABAg.8tUY_eVh77e8tUhBosQJLg</td>\n",
       "      <td>2019-04-09 02:50:06</td>\n",
       "      <td>0</td>\n",
       "      <td>0</td>\n",
       "      <td>spam</td>\n",
       "      <td>57</td>\n",
       "      <td>skinnyindonesian24 | prabowo vs jokowi - epic ...</td>\n",
       "      <td>hachimon tonkou, kalau buka gerbang ke 8 auto ...</td>\n",
       "      <td>0</td>\n",
       "      <td>9</td>\n",
       "      <td>0.100000</td>\n",
       "      <td>0.017544</td>\n",
       "      <td>0</td>\n",
       "      <td>0</td>\n",
       "      <td>0</td>\n",
       "    </tr>\n",
       "    <tr>\n",
       "      <th>3</th>\n",
       "      <td>AP0NACavjfk</td>\n",
       "      <td>SkinnyIndonesian24 | Prabowo VS Jokowi - Epic ...</td>\n",
       "      <td>SkinnyIndonesian24 ( Andovi da Lopez sebagai J...</td>\n",
       "      <td>hidayah</td>\n",
       "      <td>https://www.youtube.com/channel/UC_iQ1hcNxz1ir...</td>\n",
       "      <td>UgxA-h0VMWXoShPkFEZ4AaABAg</td>\n",
       "      <td>2019-04-10 12:25:49</td>\n",
       "      <td>0</td>\n",
       "      <td>0</td>\n",
       "      <td>spam</td>\n",
       "      <td>56</td>\n",
       "      <td>skinnyindonesian24 | prabowo vs jokowi - epic ...</td>\n",
       "      <td>https://www.youtube.com/channel/uc_iq1hcnxz1ir...</td>\n",
       "      <td>1</td>\n",
       "      <td>0</td>\n",
       "      <td>0.000000</td>\n",
       "      <td>0.017857</td>\n",
       "      <td>0</td>\n",
       "      <td>0</td>\n",
       "      <td>7</td>\n",
       "    </tr>\n",
       "    <tr>\n",
       "      <th>4</th>\n",
       "      <td>AP0NACavjfk</td>\n",
       "      <td>SkinnyIndonesian24 | Prabowo VS Jokowi - Epic ...</td>\n",
       "      <td>SkinnyIndonesian24 ( Andovi da Lopez sebagai J...</td>\n",
       "      <td>Derisma Ae</td>\n",
       "      <td>https://youtu.be/aS1FIPcCuh4 CH: Derisma ae, m...</td>\n",
       "      <td>UgybtnYbYjDF7YZJAdN4AaABAg</td>\n",
       "      <td>2019-04-15 16:00:05</td>\n",
       "      <td>0</td>\n",
       "      <td>0</td>\n",
       "      <td>spam</td>\n",
       "      <td>88</td>\n",
       "      <td>skinnyindonesian24 | prabowo vs jokowi - epic ...</td>\n",
       "      <td>https://youtu.be/as1fipccuh4 ch: derisma ae, m...</td>\n",
       "      <td>1</td>\n",
       "      <td>9</td>\n",
       "      <td>0.100000</td>\n",
       "      <td>0.011364</td>\n",
       "      <td>0</td>\n",
       "      <td>0</td>\n",
       "      <td>17</td>\n",
       "    </tr>\n",
       "    <tr>\n",
       "      <th>...</th>\n",
       "      <td>...</td>\n",
       "      <td>...</td>\n",
       "      <td>...</td>\n",
       "      <td>...</td>\n",
       "      <td>...</td>\n",
       "      <td>...</td>\n",
       "      <td>...</td>\n",
       "      <td>...</td>\n",
       "      <td>...</td>\n",
       "      <td>...</td>\n",
       "      <td>...</td>\n",
       "      <td>...</td>\n",
       "      <td>...</td>\n",
       "      <td>...</td>\n",
       "      <td>...</td>\n",
       "      <td>...</td>\n",
       "      <td>...</td>\n",
       "      <td>...</td>\n",
       "      <td>...</td>\n",
       "      <td>...</td>\n",
       "    </tr>\n",
       "    <tr>\n",
       "      <th>2998</th>\n",
       "      <td>AP0NACavjfk</td>\n",
       "      <td>SkinnyIndonesian24 | Prabowo VS Jokowi - Epic ...</td>\n",
       "      <td>SkinnyIndonesian24 ( Andovi da Lopez sebagai J...</td>\n",
       "      <td>agus muliandri</td>\n",
       "      <td>Top</td>\n",
       "      <td>UgxG_8lxSoZduOAiE-54AaABAg.8tXxFBA8lZa8tXzXBaY73i</td>\n",
       "      <td>2019-04-10 09:28:02</td>\n",
       "      <td>0</td>\n",
       "      <td>0</td>\n",
       "      <td>legitimate</td>\n",
       "      <td>3</td>\n",
       "      <td>skinnyindonesian24 | prabowo vs jokowi - epic ...</td>\n",
       "      <td>top</td>\n",
       "      <td>0</td>\n",
       "      <td>0</td>\n",
       "      <td>0.000000</td>\n",
       "      <td>0.333333</td>\n",
       "      <td>0</td>\n",
       "      <td>0</td>\n",
       "      <td>1</td>\n",
       "    </tr>\n",
       "    <tr>\n",
       "      <th>2999</th>\n",
       "      <td>AP0NACavjfk</td>\n",
       "      <td>SkinnyIndonesian24 | Prabowo VS Jokowi - Epic ...</td>\n",
       "      <td>SkinnyIndonesian24 ( Andovi da Lopez sebagai J...</td>\n",
       "      <td>EXE HUMAN</td>\n",
       "      <td>Creator senior memang beda ya 😎</td>\n",
       "      <td>Ugx4Ep3GEADS4c_w5YF4AaABAg</td>\n",
       "      <td>2019-04-09 11:43:58</td>\n",
       "      <td>0</td>\n",
       "      <td>0</td>\n",
       "      <td>legitimate</td>\n",
       "      <td>31</td>\n",
       "      <td>skinnyindonesian24 | prabowo vs jokowi - epic ...</td>\n",
       "      <td>creator senior memang beda ya 😎</td>\n",
       "      <td>0</td>\n",
       "      <td>5</td>\n",
       "      <td>0.166667</td>\n",
       "      <td>0.033333</td>\n",
       "      <td>1</td>\n",
       "      <td>1</td>\n",
       "      <td>1</td>\n",
       "    </tr>\n",
       "    <tr>\n",
       "      <th>3000</th>\n",
       "      <td>AP0NACavjfk</td>\n",
       "      <td>SkinnyIndonesian24 | Prabowo VS Jokowi - Epic ...</td>\n",
       "      <td>SkinnyIndonesian24 ( Andovi da Lopez sebagai J...</td>\n",
       "      <td>Ni Luh Ayu Sibang Sri Padmayanti_056</td>\n",
       "      <td>Keunggulan dan kekurangan nge buat kita semua ...</td>\n",
       "      <td>UgzltfmrOp2dr3DbCPx4AaABAg</td>\n",
       "      <td>2019-04-11 13:48:07</td>\n",
       "      <td>0</td>\n",
       "      <td>0</td>\n",
       "      <td>legitimate</td>\n",
       "      <td>64</td>\n",
       "      <td>skinnyindonesian24 | prabowo vs jokowi - epic ...</td>\n",
       "      <td>keunggulan dan kekurangan nge buat kita semua ...</td>\n",
       "      <td>0</td>\n",
       "      <td>9</td>\n",
       "      <td>0.200000</td>\n",
       "      <td>0.015625</td>\n",
       "      <td>0</td>\n",
       "      <td>0</td>\n",
       "      <td>1</td>\n",
       "    </tr>\n",
       "    <tr>\n",
       "      <th>3001</th>\n",
       "      <td>AP0NACavjfk</td>\n",
       "      <td>SkinnyIndonesian24 | Prabowo VS Jokowi - Epic ...</td>\n",
       "      <td>SkinnyIndonesian24 ( Andovi da Lopez sebagai J...</td>\n",
       "      <td>Brigita Deya 183</td>\n",
       "      <td>Keren parahhh</td>\n",
       "      <td>UgyaAGTI4x4ta4TE1cF4AaABAg</td>\n",
       "      <td>2019-04-09 10:20:06</td>\n",
       "      <td>0</td>\n",
       "      <td>0</td>\n",
       "      <td>legitimate</td>\n",
       "      <td>13</td>\n",
       "      <td>skinnyindonesian24 | prabowo vs jokowi - epic ...</td>\n",
       "      <td>keren parahhh</td>\n",
       "      <td>0</td>\n",
       "      <td>1</td>\n",
       "      <td>0.000000</td>\n",
       "      <td>0.076923</td>\n",
       "      <td>0</td>\n",
       "      <td>0</td>\n",
       "      <td>1</td>\n",
       "    </tr>\n",
       "    <tr>\n",
       "      <th>3002</th>\n",
       "      <td>AP0NACavjfk</td>\n",
       "      <td>SkinnyIndonesian24 | Prabowo VS Jokowi - Epic ...</td>\n",
       "      <td>SkinnyIndonesian24 ( Andovi da Lopez sebagai J...</td>\n",
       "      <td>Carl</td>\n",
       "      <td>MEREKA HARUS NONTON NIH</td>\n",
       "      <td>Ugz4K70s5tZHaG_LkIl4AaABAg</td>\n",
       "      <td>2019-04-08 12:59:00</td>\n",
       "      <td>0</td>\n",
       "      <td>0</td>\n",
       "      <td>legitimate</td>\n",
       "      <td>23</td>\n",
       "      <td>skinnyindonesian24 | prabowo vs jokowi - epic ...</td>\n",
       "      <td>mereka harus nonton nih</td>\n",
       "      <td>0</td>\n",
       "      <td>3</td>\n",
       "      <td>0.500000</td>\n",
       "      <td>0.043478</td>\n",
       "      <td>0</td>\n",
       "      <td>0</td>\n",
       "      <td>20</td>\n",
       "    </tr>\n",
       "  </tbody>\n",
       "</table>\n",
       "<p>2847 rows × 20 columns</p>\n",
       "</div>"
      ],
      "text/plain": [
       "         Video_Id                                             Tittle  \\\n",
       "0     0iLgiRBQzzs  Panas! Jokowi VS Prabowo Saling Serang soal Ko...   \n",
       "1     AP0NACavjfk  SkinnyIndonesian24 | Prabowo VS Jokowi - Epic ...   \n",
       "2     AP0NACavjfk  SkinnyIndonesian24 | Prabowo VS Jokowi - Epic ...   \n",
       "3     AP0NACavjfk  SkinnyIndonesian24 | Prabowo VS Jokowi - Epic ...   \n",
       "4     AP0NACavjfk  SkinnyIndonesian24 | Prabowo VS Jokowi - Epic ...   \n",
       "...           ...                                                ...   \n",
       "2998  AP0NACavjfk  SkinnyIndonesian24 | Prabowo VS Jokowi - Epic ...   \n",
       "2999  AP0NACavjfk  SkinnyIndonesian24 | Prabowo VS Jokowi - Epic ...   \n",
       "3000  AP0NACavjfk  SkinnyIndonesian24 | Prabowo VS Jokowi - Epic ...   \n",
       "3001  AP0NACavjfk  SkinnyIndonesian24 | Prabowo VS Jokowi - Epic ...   \n",
       "3002  AP0NACavjfk  SkinnyIndonesian24 | Prabowo VS Jokowi - Epic ...   \n",
       "\n",
       "                                            Description  \\\n",
       "0     Debat panas antara kedua pasangan calon presid...   \n",
       "1     SkinnyIndonesian24 ( Andovi da Lopez sebagai J...   \n",
       "2     SkinnyIndonesian24 ( Andovi da Lopez sebagai J...   \n",
       "3     SkinnyIndonesian24 ( Andovi da Lopez sebagai J...   \n",
       "4     SkinnyIndonesian24 ( Andovi da Lopez sebagai J...   \n",
       "...                                                 ...   \n",
       "2998  SkinnyIndonesian24 ( Andovi da Lopez sebagai J...   \n",
       "2999  SkinnyIndonesian24 ( Andovi da Lopez sebagai J...   \n",
       "3000  SkinnyIndonesian24 ( Andovi da Lopez sebagai J...   \n",
       "3001  SkinnyIndonesian24 ( Andovi da Lopez sebagai J...   \n",
       "3002  SkinnyIndonesian24 ( Andovi da Lopez sebagai J...   \n",
       "\n",
       "                                      Name  \\\n",
       "0                 Doharman Patimura Waruwu   \n",
       "1                             Akiru Syakir   \n",
       "2                       Teguh Wage Prakoso   \n",
       "3                                  hidayah   \n",
       "4                               Derisma Ae   \n",
       "...                                    ...   \n",
       "2998                        agus muliandri   \n",
       "2999                             EXE HUMAN   \n",
       "3000  Ni Luh Ayu Sibang Sri Padmayanti_056   \n",
       "3001                      Brigita Deya 183   \n",
       "3002                                  Carl   \n",
       "\n",
       "                                                Comment  \\\n",
       "0                          https://youtu.be/LBKGyxnpMCU   \n",
       "1                       Bantu subscribe youtube gw dong   \n",
       "2     hachimon tonkou, kalau buka gerbang ke 8 auto ...   \n",
       "3     https://www.youtube.com/channel/UC_iQ1hcNxz1ir...   \n",
       "4     https://youtu.be/aS1FIPcCuh4 CH: Derisma ae, m...   \n",
       "...                                                 ...   \n",
       "2998                                                Top   \n",
       "2999                    Creator senior memang beda ya 😎   \n",
       "3000  Keunggulan dan kekurangan nge buat kita semua ...   \n",
       "3001                                      Keren parahhh   \n",
       "3002                            MEREKA HARUS NONTON NIH   \n",
       "\n",
       "                                             Comment_Id                Time  \\\n",
       "0                            Ugz-zdD0s87dSDzITuh4AaABAg 2019-01-17 23:06:24   \n",
       "1                            UgwQM2OHIzkVDtu0PIN4AaABAg 2019-04-10 22:40:00   \n",
       "2     Ugyh7dOOI2953Exf3cp4AaABAg.8tUY_eVh77e8tUhBosQJLg 2019-04-09 02:50:06   \n",
       "3                            UgxA-h0VMWXoShPkFEZ4AaABAg 2019-04-10 12:25:49   \n",
       "4                            UgybtnYbYjDF7YZJAdN4AaABAg 2019-04-15 16:00:05   \n",
       "...                                                 ...                 ...   \n",
       "2998  UgxG_8lxSoZduOAiE-54AaABAg.8tXxFBA8lZa8tXzXBaY73i 2019-04-10 09:28:02   \n",
       "2999                         Ugx4Ep3GEADS4c_w5YF4AaABAg 2019-04-09 11:43:58   \n",
       "3000                         UgzltfmrOp2dr3DbCPx4AaABAg 2019-04-11 13:48:07   \n",
       "3001                         UgyaAGTI4x4ta4TE1cF4AaABAg 2019-04-09 10:20:06   \n",
       "3002                         Ugz4K70s5tZHaG_LkIl4AaABAg 2019-04-08 12:59:00   \n",
       "\n",
       "      Likes  Reply_Count       Label  Length_Comment  \\\n",
       "0         0            0        spam              28   \n",
       "1         0            0        spam              31   \n",
       "2         0            0        spam              57   \n",
       "3         0            0        spam              56   \n",
       "4         0            0        spam              88   \n",
       "...     ...          ...         ...             ...   \n",
       "2998      0            0  legitimate               3   \n",
       "2999      0            0  legitimate              31   \n",
       "3000      0            0  legitimate              64   \n",
       "3001      0            0  legitimate              13   \n",
       "3002      0            0  legitimate              23   \n",
       "\n",
       "                                            cleanTittle  \\\n",
       "0     panas! jokowi vs prabowo saling serang soal ko...   \n",
       "1     skinnyindonesian24 | prabowo vs jokowi - epic ...   \n",
       "2     skinnyindonesian24 | prabowo vs jokowi - epic ...   \n",
       "3     skinnyindonesian24 | prabowo vs jokowi - epic ...   \n",
       "4     skinnyindonesian24 | prabowo vs jokowi - epic ...   \n",
       "...                                                 ...   \n",
       "2998  skinnyindonesian24 | prabowo vs jokowi - epic ...   \n",
       "2999  skinnyindonesian24 | prabowo vs jokowi - epic ...   \n",
       "3000  skinnyindonesian24 | prabowo vs jokowi - epic ...   \n",
       "3001  skinnyindonesian24 | prabowo vs jokowi - epic ...   \n",
       "3002  skinnyindonesian24 | prabowo vs jokowi - epic ...   \n",
       "\n",
       "                                           cleanComment  countUrl  \\\n",
       "0                          https://youtu.be/lbkgyxnpmcu         1   \n",
       "1                       bantu subscribe youtube gw dong         0   \n",
       "2     hachimon tonkou, kalau buka gerbang ke 8 auto ...         0   \n",
       "3     https://www.youtube.com/channel/uc_iq1hcnxz1ir...         1   \n",
       "4     https://youtu.be/as1fipccuh4 ch: derisma ae, m...         1   \n",
       "...                                                 ...       ...   \n",
       "2998                                                top         0   \n",
       "2999                    creator senior memang beda ya 😎         0   \n",
       "3000  keunggulan dan kekurangan nge buat kita semua ...         0   \n",
       "3001                                      keren parahhh         0   \n",
       "3002                            mereka harus nonton nih         0   \n",
       "\n",
       "      WhiteSpacenum  StopwordRatio  WorldDuplicateRatio  CountEmoji  \\\n",
       "0                 0       0.000000             0.035714           0   \n",
       "1                 4       0.000000             0.032258           0   \n",
       "2                 9       0.100000             0.017544           0   \n",
       "3                 0       0.000000             0.017857           0   \n",
       "4                 9       0.100000             0.011364           0   \n",
       "...             ...            ...                  ...         ...   \n",
       "2998              0       0.000000             0.333333           0   \n",
       "2999              5       0.166667             0.033333           1   \n",
       "3000              9       0.200000             0.015625           0   \n",
       "3001              1       0.000000             0.076923           0   \n",
       "3002              3       0.500000             0.043478           0   \n",
       "\n",
       "      CountNonAscii  CountUpperLetters  \n",
       "0                 0                  7  \n",
       "1                 0                  1  \n",
       "2                 0                  0  \n",
       "3                 0                  7  \n",
       "4                 0                 17  \n",
       "...             ...                ...  \n",
       "2998              0                  1  \n",
       "2999              1                  1  \n",
       "3000              0                  1  \n",
       "3001              0                  1  \n",
       "3002              0                 20  \n",
       "\n",
       "[2847 rows x 20 columns]"
      ]
     },
     "execution_count": 102,
     "metadata": {},
     "output_type": "execute_result"
    }
   ],
   "source": [
    "try_data_cleaning"
   ]
  },
  {
   "cell_type": "code",
   "execution_count": 104,
   "metadata": {},
   "outputs": [],
   "source": [
    "try_data_cleaning.to_csv(\"../Data/Comments/dataCleaning.csv\", index=False)"
   ]
  },
  {
   "cell_type": "code",
   "execution_count": null,
   "metadata": {},
   "outputs": [],
   "source": []
  }
 ],
 "metadata": {
  "kernelspec": {
   "display_name": "Python 3 (ipykernel)",
   "language": "python",
   "name": "python3"
  },
  "language_info": {
   "codemirror_mode": {
    "name": "ipython",
    "version": 3
   },
   "file_extension": ".py",
   "mimetype": "text/x-python",
   "name": "python",
   "nbconvert_exporter": "python",
   "pygments_lexer": "ipython3",
   "version": "3.7.11"
  },
  "vscode": {
   "interpreter": {
    "hash": "7e470a54d1f627e8dbc62884db0ab90c1d014850c7adde4c19b633d3b1a7b860"
   }
  }
 },
 "nbformat": 4,
 "nbformat_minor": 2
}
