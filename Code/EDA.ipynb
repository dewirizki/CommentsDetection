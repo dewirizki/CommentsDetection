{
 "cells": [
  {
   "cell_type": "markdown",
   "metadata": {},
   "source": [
    "**Notebook Setup**"
   ]
  },
  {
   "cell_type": "code",
   "execution_count": 42,
   "metadata": {},
   "outputs": [],
   "source": [
    "import pandas as pd\n",
    "import numpy as np\n",
    "import time\n",
    "import datetime\n",
    "import seaborn as sns\n",
    "import matplotlib.pyplot as plt\n",
    "import plotly.graph_objs as go\n",
    "from sklearn.preprocessing import LabelEncoder\n",
    "import plotly.express as px\n",
    "import warnings; warnings.simplefilter('ignore')"
   ]
  },
  {
   "cell_type": "markdown",
   "metadata": {},
   "source": [
    "-------------------------------------"
   ]
  },
  {
   "cell_type": "code",
   "execution_count": 43,
   "metadata": {},
   "outputs": [],
   "source": [
    "eda = pd.read_csv(\"../Data/Assets/ForEDA.csv\")"
   ]
  },
  {
   "cell_type": "code",
   "execution_count": 44,
   "metadata": {},
   "outputs": [
    {
     "name": "stdout",
     "output_type": "stream",
     "text": [
      "<class 'pandas.core.frame.DataFrame'>\n",
      "RangeIndex: 3000 entries, 0 to 2999\n",
      "Data columns (total 10 columns):\n",
      " #   Column       Non-Null Count  Dtype \n",
      "---  ------       --------------  ----- \n",
      " 0   Video_Id     3000 non-null   object\n",
      " 1   Tittle       3000 non-null   object\n",
      " 2   Description  3000 non-null   object\n",
      " 3   Name         3000 non-null   object\n",
      " 4   Comment      3000 non-null   object\n",
      " 5   Comment_Id   3000 non-null   object\n",
      " 6   Time         3000 non-null   object\n",
      " 7   Likes        3000 non-null   int64 \n",
      " 8   Reply_Count  3000 non-null   int64 \n",
      " 9   Label        3000 non-null   object\n",
      "dtypes: int64(2), object(8)\n",
      "memory usage: 234.5+ KB\n"
     ]
    }
   ],
   "source": [
    "eda.info()"
   ]
  },
  {
   "cell_type": "code",
   "execution_count": 45,
   "metadata": {},
   "outputs": [],
   "source": [
    "eda[\"Label\"] = eda[\"Label\"].astype(\"category\")\n",
    "eda[\"Time\"] = eda[\"Time\"].astype(\"datetime64\")"
   ]
  },
  {
   "cell_type": "code",
   "execution_count": 46,
   "metadata": {},
   "outputs": [
    {
     "data": {
      "text/html": [
       "<div>\n",
       "<style scoped>\n",
       "    .dataframe tbody tr th:only-of-type {\n",
       "        vertical-align: middle;\n",
       "    }\n",
       "\n",
       "    .dataframe tbody tr th {\n",
       "        vertical-align: top;\n",
       "    }\n",
       "\n",
       "    .dataframe thead th {\n",
       "        text-align: right;\n",
       "    }\n",
       "</style>\n",
       "<table border=\"1\" class=\"dataframe\">\n",
       "  <thead>\n",
       "    <tr style=\"text-align: right;\">\n",
       "      <th></th>\n",
       "      <th>Video_Id</th>\n",
       "      <th>Tittle</th>\n",
       "      <th>Description</th>\n",
       "      <th>Name</th>\n",
       "      <th>Comment</th>\n",
       "      <th>Comment_Id</th>\n",
       "      <th>Time</th>\n",
       "      <th>Likes</th>\n",
       "      <th>Reply_Count</th>\n",
       "      <th>Label</th>\n",
       "    </tr>\n",
       "  </thead>\n",
       "  <tbody>\n",
       "    <tr>\n",
       "      <th>2340</th>\n",
       "      <td>LU2p56QVUWA</td>\n",
       "      <td>Debat Jokowi Vs Prabowo Soal Ideologi &amp;amp; Pe...</td>\n",
       "      <td>DebatCapres #DebatJokowiPrabowo #DebatKeempatC...</td>\n",
       "      <td>Tralala Trilili</td>\n",
       "      <td>Utang jokowi gak bikin dirinya kaya raya sihhh...</td>\n",
       "      <td>UgxChhfSrmw7Yf_Fct54AaABAg</td>\n",
       "      <td>2019-04-01 23:49:47</td>\n",
       "      <td>90</td>\n",
       "      <td>6</td>\n",
       "      <td>legitimate</td>\n",
       "    </tr>\n",
       "  </tbody>\n",
       "</table>\n",
       "</div>"
      ],
      "text/plain": [
       "         Video_Id                                             Tittle  \\\n",
       "2340  LU2p56QVUWA  Debat Jokowi Vs Prabowo Soal Ideologi &amp; Pe...   \n",
       "\n",
       "                                            Description             Name  \\\n",
       "2340  DebatCapres #DebatJokowiPrabowo #DebatKeempatC...  Tralala Trilili   \n",
       "\n",
       "                                                Comment  \\\n",
       "2340  Utang jokowi gak bikin dirinya kaya raya sihhh...   \n",
       "\n",
       "                      Comment_Id                Time  Likes  Reply_Count  \\\n",
       "2340  UgxChhfSrmw7Yf_Fct54AaABAg 2019-04-01 23:49:47     90            6   \n",
       "\n",
       "           Label  \n",
       "2340  legitimate  "
      ]
     },
     "execution_count": 46,
     "metadata": {},
     "output_type": "execute_result"
    }
   ],
   "source": [
    "eda.sample()"
   ]
  },
  {
   "cell_type": "code",
   "execution_count": 47,
   "metadata": {},
   "outputs": [
    {
     "data": {
      "text/html": [
       "<div>\n",
       "<style scoped>\n",
       "    .dataframe tbody tr th:only-of-type {\n",
       "        vertical-align: middle;\n",
       "    }\n",
       "\n",
       "    .dataframe tbody tr th {\n",
       "        vertical-align: top;\n",
       "    }\n",
       "\n",
       "    .dataframe thead th {\n",
       "        text-align: right;\n",
       "    }\n",
       "</style>\n",
       "<table border=\"1\" class=\"dataframe\">\n",
       "  <thead>\n",
       "    <tr style=\"text-align: right;\">\n",
       "      <th></th>\n",
       "      <th>Likes</th>\n",
       "      <th>Reply_Count</th>\n",
       "    </tr>\n",
       "  </thead>\n",
       "  <tbody>\n",
       "    <tr>\n",
       "      <th>count</th>\n",
       "      <td>3000.000000</td>\n",
       "      <td>3000.000000</td>\n",
       "    </tr>\n",
       "    <tr>\n",
       "      <th>mean</th>\n",
       "      <td>32.097333</td>\n",
       "      <td>0.363000</td>\n",
       "    </tr>\n",
       "    <tr>\n",
       "      <th>std</th>\n",
       "      <td>1588.924487</td>\n",
       "      <td>9.341145</td>\n",
       "    </tr>\n",
       "    <tr>\n",
       "      <th>min</th>\n",
       "      <td>0.000000</td>\n",
       "      <td>0.000000</td>\n",
       "    </tr>\n",
       "    <tr>\n",
       "      <th>25%</th>\n",
       "      <td>0.000000</td>\n",
       "      <td>0.000000</td>\n",
       "    </tr>\n",
       "    <tr>\n",
       "      <th>50%</th>\n",
       "      <td>0.000000</td>\n",
       "      <td>0.000000</td>\n",
       "    </tr>\n",
       "    <tr>\n",
       "      <th>75%</th>\n",
       "      <td>1.000000</td>\n",
       "      <td>0.000000</td>\n",
       "    </tr>\n",
       "    <tr>\n",
       "      <th>max</th>\n",
       "      <td>87019.000000</td>\n",
       "      <td>488.000000</td>\n",
       "    </tr>\n",
       "  </tbody>\n",
       "</table>\n",
       "</div>"
      ],
      "text/plain": [
       "              Likes  Reply_Count\n",
       "count   3000.000000  3000.000000\n",
       "mean      32.097333     0.363000\n",
       "std     1588.924487     9.341145\n",
       "min        0.000000     0.000000\n",
       "25%        0.000000     0.000000\n",
       "50%        0.000000     0.000000\n",
       "75%        1.000000     0.000000\n",
       "max    87019.000000   488.000000"
      ]
     },
     "execution_count": 47,
     "metadata": {},
     "output_type": "execute_result"
    }
   ],
   "source": [
    "eda.describe()"
   ]
  },
  {
   "cell_type": "markdown",
   "metadata": {},
   "source": [
    "## Spam and Legitimate Bar Plot"
   ]
  },
  {
   "cell_type": "code",
   "execution_count": 48,
   "metadata": {},
   "outputs": [
    {
     "data": {
      "application/vnd.plotly.v1+json": {
       "config": {
        "plotlyServerURL": "https://plot.ly"
       },
       "data": [
        {
         "alignmentgroup": "True",
         "hovertemplate": "Kind of Label=%{x}<br>Jumlah=%{y}<extra></extra>",
         "legendgroup": "legitimate",
         "marker": {
          "color": "#636efa",
          "pattern": {
           "shape": ""
          }
         },
         "name": "legitimate",
         "offsetgroup": "legitimate",
         "orientation": "v",
         "showlegend": true,
         "textposition": "auto",
         "type": "bar",
         "x": [
          "legitimate"
         ],
         "xaxis": "x",
         "y": [
          1696
         ],
         "yaxis": "y"
        },
        {
         "alignmentgroup": "True",
         "hovertemplate": "Kind of Label=%{x}<br>Jumlah=%{y}<extra></extra>",
         "legendgroup": "spam",
         "marker": {
          "color": "#EF553B",
          "pattern": {
           "shape": ""
          }
         },
         "name": "spam",
         "offsetgroup": "spam",
         "orientation": "v",
         "showlegend": true,
         "textposition": "auto",
         "type": "bar",
         "x": [
          "spam"
         ],
         "xaxis": "x",
         "y": [
          1304
         ],
         "yaxis": "y"
        }
       ],
       "layout": {
        "barmode": "relative",
        "height": 600,
        "legend": {
         "title": {
          "text": "Kind of Label"
         },
         "tracegroupgap": 0
        },
        "template": {
         "data": {
          "bar": [
           {
            "error_x": {
             "color": "#2a3f5f"
            },
            "error_y": {
             "color": "#2a3f5f"
            },
            "marker": {
             "line": {
              "color": "#E5ECF6",
              "width": 0.5
             },
             "pattern": {
              "fillmode": "overlay",
              "size": 10,
              "solidity": 0.2
             }
            },
            "type": "bar"
           }
          ],
          "barpolar": [
           {
            "marker": {
             "line": {
              "color": "#E5ECF6",
              "width": 0.5
             },
             "pattern": {
              "fillmode": "overlay",
              "size": 10,
              "solidity": 0.2
             }
            },
            "type": "barpolar"
           }
          ],
          "carpet": [
           {
            "aaxis": {
             "endlinecolor": "#2a3f5f",
             "gridcolor": "white",
             "linecolor": "white",
             "minorgridcolor": "white",
             "startlinecolor": "#2a3f5f"
            },
            "baxis": {
             "endlinecolor": "#2a3f5f",
             "gridcolor": "white",
             "linecolor": "white",
             "minorgridcolor": "white",
             "startlinecolor": "#2a3f5f"
            },
            "type": "carpet"
           }
          ],
          "choropleth": [
           {
            "colorbar": {
             "outlinewidth": 0,
             "ticks": ""
            },
            "type": "choropleth"
           }
          ],
          "contour": [
           {
            "colorbar": {
             "outlinewidth": 0,
             "ticks": ""
            },
            "colorscale": [
             [
              0,
              "#0d0887"
             ],
             [
              0.1111111111111111,
              "#46039f"
             ],
             [
              0.2222222222222222,
              "#7201a8"
             ],
             [
              0.3333333333333333,
              "#9c179e"
             ],
             [
              0.4444444444444444,
              "#bd3786"
             ],
             [
              0.5555555555555556,
              "#d8576b"
             ],
             [
              0.6666666666666666,
              "#ed7953"
             ],
             [
              0.7777777777777778,
              "#fb9f3a"
             ],
             [
              0.8888888888888888,
              "#fdca26"
             ],
             [
              1,
              "#f0f921"
             ]
            ],
            "type": "contour"
           }
          ],
          "contourcarpet": [
           {
            "colorbar": {
             "outlinewidth": 0,
             "ticks": ""
            },
            "type": "contourcarpet"
           }
          ],
          "heatmap": [
           {
            "colorbar": {
             "outlinewidth": 0,
             "ticks": ""
            },
            "colorscale": [
             [
              0,
              "#0d0887"
             ],
             [
              0.1111111111111111,
              "#46039f"
             ],
             [
              0.2222222222222222,
              "#7201a8"
             ],
             [
              0.3333333333333333,
              "#9c179e"
             ],
             [
              0.4444444444444444,
              "#bd3786"
             ],
             [
              0.5555555555555556,
              "#d8576b"
             ],
             [
              0.6666666666666666,
              "#ed7953"
             ],
             [
              0.7777777777777778,
              "#fb9f3a"
             ],
             [
              0.8888888888888888,
              "#fdca26"
             ],
             [
              1,
              "#f0f921"
             ]
            ],
            "type": "heatmap"
           }
          ],
          "heatmapgl": [
           {
            "colorbar": {
             "outlinewidth": 0,
             "ticks": ""
            },
            "colorscale": [
             [
              0,
              "#0d0887"
             ],
             [
              0.1111111111111111,
              "#46039f"
             ],
             [
              0.2222222222222222,
              "#7201a8"
             ],
             [
              0.3333333333333333,
              "#9c179e"
             ],
             [
              0.4444444444444444,
              "#bd3786"
             ],
             [
              0.5555555555555556,
              "#d8576b"
             ],
             [
              0.6666666666666666,
              "#ed7953"
             ],
             [
              0.7777777777777778,
              "#fb9f3a"
             ],
             [
              0.8888888888888888,
              "#fdca26"
             ],
             [
              1,
              "#f0f921"
             ]
            ],
            "type": "heatmapgl"
           }
          ],
          "histogram": [
           {
            "marker": {
             "pattern": {
              "fillmode": "overlay",
              "size": 10,
              "solidity": 0.2
             }
            },
            "type": "histogram"
           }
          ],
          "histogram2d": [
           {
            "colorbar": {
             "outlinewidth": 0,
             "ticks": ""
            },
            "colorscale": [
             [
              0,
              "#0d0887"
             ],
             [
              0.1111111111111111,
              "#46039f"
             ],
             [
              0.2222222222222222,
              "#7201a8"
             ],
             [
              0.3333333333333333,
              "#9c179e"
             ],
             [
              0.4444444444444444,
              "#bd3786"
             ],
             [
              0.5555555555555556,
              "#d8576b"
             ],
             [
              0.6666666666666666,
              "#ed7953"
             ],
             [
              0.7777777777777778,
              "#fb9f3a"
             ],
             [
              0.8888888888888888,
              "#fdca26"
             ],
             [
              1,
              "#f0f921"
             ]
            ],
            "type": "histogram2d"
           }
          ],
          "histogram2dcontour": [
           {
            "colorbar": {
             "outlinewidth": 0,
             "ticks": ""
            },
            "colorscale": [
             [
              0,
              "#0d0887"
             ],
             [
              0.1111111111111111,
              "#46039f"
             ],
             [
              0.2222222222222222,
              "#7201a8"
             ],
             [
              0.3333333333333333,
              "#9c179e"
             ],
             [
              0.4444444444444444,
              "#bd3786"
             ],
             [
              0.5555555555555556,
              "#d8576b"
             ],
             [
              0.6666666666666666,
              "#ed7953"
             ],
             [
              0.7777777777777778,
              "#fb9f3a"
             ],
             [
              0.8888888888888888,
              "#fdca26"
             ],
             [
              1,
              "#f0f921"
             ]
            ],
            "type": "histogram2dcontour"
           }
          ],
          "mesh3d": [
           {
            "colorbar": {
             "outlinewidth": 0,
             "ticks": ""
            },
            "type": "mesh3d"
           }
          ],
          "parcoords": [
           {
            "line": {
             "colorbar": {
              "outlinewidth": 0,
              "ticks": ""
             }
            },
            "type": "parcoords"
           }
          ],
          "pie": [
           {
            "automargin": true,
            "type": "pie"
           }
          ],
          "scatter": [
           {
            "fillpattern": {
             "fillmode": "overlay",
             "size": 10,
             "solidity": 0.2
            },
            "type": "scatter"
           }
          ],
          "scatter3d": [
           {
            "line": {
             "colorbar": {
              "outlinewidth": 0,
              "ticks": ""
             }
            },
            "marker": {
             "colorbar": {
              "outlinewidth": 0,
              "ticks": ""
             }
            },
            "type": "scatter3d"
           }
          ],
          "scattercarpet": [
           {
            "marker": {
             "colorbar": {
              "outlinewidth": 0,
              "ticks": ""
             }
            },
            "type": "scattercarpet"
           }
          ],
          "scattergeo": [
           {
            "marker": {
             "colorbar": {
              "outlinewidth": 0,
              "ticks": ""
             }
            },
            "type": "scattergeo"
           }
          ],
          "scattergl": [
           {
            "marker": {
             "colorbar": {
              "outlinewidth": 0,
              "ticks": ""
             }
            },
            "type": "scattergl"
           }
          ],
          "scattermapbox": [
           {
            "marker": {
             "colorbar": {
              "outlinewidth": 0,
              "ticks": ""
             }
            },
            "type": "scattermapbox"
           }
          ],
          "scatterpolar": [
           {
            "marker": {
             "colorbar": {
              "outlinewidth": 0,
              "ticks": ""
             }
            },
            "type": "scatterpolar"
           }
          ],
          "scatterpolargl": [
           {
            "marker": {
             "colorbar": {
              "outlinewidth": 0,
              "ticks": ""
             }
            },
            "type": "scatterpolargl"
           }
          ],
          "scatterternary": [
           {
            "marker": {
             "colorbar": {
              "outlinewidth": 0,
              "ticks": ""
             }
            },
            "type": "scatterternary"
           }
          ],
          "surface": [
           {
            "colorbar": {
             "outlinewidth": 0,
             "ticks": ""
            },
            "colorscale": [
             [
              0,
              "#0d0887"
             ],
             [
              0.1111111111111111,
              "#46039f"
             ],
             [
              0.2222222222222222,
              "#7201a8"
             ],
             [
              0.3333333333333333,
              "#9c179e"
             ],
             [
              0.4444444444444444,
              "#bd3786"
             ],
             [
              0.5555555555555556,
              "#d8576b"
             ],
             [
              0.6666666666666666,
              "#ed7953"
             ],
             [
              0.7777777777777778,
              "#fb9f3a"
             ],
             [
              0.8888888888888888,
              "#fdca26"
             ],
             [
              1,
              "#f0f921"
             ]
            ],
            "type": "surface"
           }
          ],
          "table": [
           {
            "cells": {
             "fill": {
              "color": "#EBF0F8"
             },
             "line": {
              "color": "white"
             }
            },
            "header": {
             "fill": {
              "color": "#C8D4E3"
             },
             "line": {
              "color": "white"
             }
            },
            "type": "table"
           }
          ]
         },
         "layout": {
          "annotationdefaults": {
           "arrowcolor": "#2a3f5f",
           "arrowhead": 0,
           "arrowwidth": 1
          },
          "autotypenumbers": "strict",
          "coloraxis": {
           "colorbar": {
            "outlinewidth": 0,
            "ticks": ""
           }
          },
          "colorscale": {
           "diverging": [
            [
             0,
             "#8e0152"
            ],
            [
             0.1,
             "#c51b7d"
            ],
            [
             0.2,
             "#de77ae"
            ],
            [
             0.3,
             "#f1b6da"
            ],
            [
             0.4,
             "#fde0ef"
            ],
            [
             0.5,
             "#f7f7f7"
            ],
            [
             0.6,
             "#e6f5d0"
            ],
            [
             0.7,
             "#b8e186"
            ],
            [
             0.8,
             "#7fbc41"
            ],
            [
             0.9,
             "#4d9221"
            ],
            [
             1,
             "#276419"
            ]
           ],
           "sequential": [
            [
             0,
             "#0d0887"
            ],
            [
             0.1111111111111111,
             "#46039f"
            ],
            [
             0.2222222222222222,
             "#7201a8"
            ],
            [
             0.3333333333333333,
             "#9c179e"
            ],
            [
             0.4444444444444444,
             "#bd3786"
            ],
            [
             0.5555555555555556,
             "#d8576b"
            ],
            [
             0.6666666666666666,
             "#ed7953"
            ],
            [
             0.7777777777777778,
             "#fb9f3a"
            ],
            [
             0.8888888888888888,
             "#fdca26"
            ],
            [
             1,
             "#f0f921"
            ]
           ],
           "sequentialminus": [
            [
             0,
             "#0d0887"
            ],
            [
             0.1111111111111111,
             "#46039f"
            ],
            [
             0.2222222222222222,
             "#7201a8"
            ],
            [
             0.3333333333333333,
             "#9c179e"
            ],
            [
             0.4444444444444444,
             "#bd3786"
            ],
            [
             0.5555555555555556,
             "#d8576b"
            ],
            [
             0.6666666666666666,
             "#ed7953"
            ],
            [
             0.7777777777777778,
             "#fb9f3a"
            ],
            [
             0.8888888888888888,
             "#fdca26"
            ],
            [
             1,
             "#f0f921"
            ]
           ]
          },
          "colorway": [
           "#636efa",
           "#EF553B",
           "#00cc96",
           "#ab63fa",
           "#FFA15A",
           "#19d3f3",
           "#FF6692",
           "#B6E880",
           "#FF97FF",
           "#FECB52"
          ],
          "font": {
           "color": "#2a3f5f"
          },
          "geo": {
           "bgcolor": "white",
           "lakecolor": "white",
           "landcolor": "#E5ECF6",
           "showlakes": true,
           "showland": true,
           "subunitcolor": "white"
          },
          "hoverlabel": {
           "align": "left"
          },
          "hovermode": "closest",
          "mapbox": {
           "style": "light"
          },
          "paper_bgcolor": "white",
          "plot_bgcolor": "#E5ECF6",
          "polar": {
           "angularaxis": {
            "gridcolor": "white",
            "linecolor": "white",
            "ticks": ""
           },
           "bgcolor": "#E5ECF6",
           "radialaxis": {
            "gridcolor": "white",
            "linecolor": "white",
            "ticks": ""
           }
          },
          "scene": {
           "xaxis": {
            "backgroundcolor": "#E5ECF6",
            "gridcolor": "white",
            "gridwidth": 2,
            "linecolor": "white",
            "showbackground": true,
            "ticks": "",
            "zerolinecolor": "white"
           },
           "yaxis": {
            "backgroundcolor": "#E5ECF6",
            "gridcolor": "white",
            "gridwidth": 2,
            "linecolor": "white",
            "showbackground": true,
            "ticks": "",
            "zerolinecolor": "white"
           },
           "zaxis": {
            "backgroundcolor": "#E5ECF6",
            "gridcolor": "white",
            "gridwidth": 2,
            "linecolor": "white",
            "showbackground": true,
            "ticks": "",
            "zerolinecolor": "white"
           }
          },
          "shapedefaults": {
           "line": {
            "color": "#2a3f5f"
           }
          },
          "ternary": {
           "aaxis": {
            "gridcolor": "white",
            "linecolor": "white",
            "ticks": ""
           },
           "baxis": {
            "gridcolor": "white",
            "linecolor": "white",
            "ticks": ""
           },
           "bgcolor": "#E5ECF6",
           "caxis": {
            "gridcolor": "white",
            "linecolor": "white",
            "ticks": ""
           }
          },
          "title": {
           "x": 0.05
          },
          "xaxis": {
           "automargin": true,
           "gridcolor": "white",
           "linecolor": "white",
           "ticks": "",
           "title": {
            "standoff": 15
           },
           "zerolinecolor": "white",
           "zerolinewidth": 2
          },
          "yaxis": {
           "automargin": true,
           "gridcolor": "white",
           "linecolor": "white",
           "ticks": "",
           "title": {
            "standoff": 15
           },
           "zerolinecolor": "white",
           "zerolinewidth": 2
          }
         }
        },
        "title": {
         "text": "Spam or Legitimate Comments"
        },
        "width": 500,
        "xaxis": {
         "anchor": "y",
         "categoryarray": [
          "legitimate",
          "spam"
         ],
         "categoryorder": "array",
         "domain": [
          0,
          1
         ],
         "title": {
          "text": "Kind of Label"
         }
        },
        "yaxis": {
         "anchor": "x",
         "domain": [
          0,
          1
         ],
         "title": {
          "text": "Jumlah"
         }
        }
       }
      }
     },
     "metadata": {},
     "output_type": "display_data"
    }
   ],
   "source": [
    "label = eda['Label'].value_counts()\n",
    "label = pd.DataFrame(data=label)\n",
    "label.reset_index(inplace=True)\n",
    "label = label.rename(columns = {'index':'Kind of Label','Label':'Jumlah'})\n",
    "label\n",
    "\n",
    "fig2 = px.bar(label, x='Kind of Label', y='Jumlah', \n",
    "              color='Kind of Label', title = 'Spam or Legitimate Comments', width=500, height=600)\n",
    "fig2.show()"
   ]
  },
  {
   "cell_type": "markdown",
   "metadata": {},
   "source": [
    "## Comment that got the most like"
   ]
  },
  {
   "cell_type": "code",
   "execution_count": 49,
   "metadata": {},
   "outputs": [
    {
     "name": "stdout",
     "output_type": "stream",
     "text": [
      "Komentar dengan like terbanyak adalah \n",
      "\n"
     ]
    },
    {
     "data": {
      "text/html": [
       "<div>\n",
       "<style scoped>\n",
       "    .dataframe tbody tr th:only-of-type {\n",
       "        vertical-align: middle;\n",
       "    }\n",
       "\n",
       "    .dataframe tbody tr th {\n",
       "        vertical-align: top;\n",
       "    }\n",
       "\n",
       "    .dataframe thead th {\n",
       "        text-align: right;\n",
       "    }\n",
       "</style>\n",
       "<table border=\"1\" class=\"dataframe\">\n",
       "  <thead>\n",
       "    <tr style=\"text-align: right;\">\n",
       "      <th></th>\n",
       "      <th>Video_Id</th>\n",
       "      <th>Tittle</th>\n",
       "      <th>Description</th>\n",
       "      <th>Name</th>\n",
       "      <th>Comment</th>\n",
       "      <th>Comment_Id</th>\n",
       "      <th>Time</th>\n",
       "      <th>Likes</th>\n",
       "      <th>Reply_Count</th>\n",
       "      <th>Label</th>\n",
       "    </tr>\n",
       "  </thead>\n",
       "  <tbody>\n",
       "    <tr>\n",
       "      <th>818</th>\n",
       "      <td>AP0NACavjfk</td>\n",
       "      <td>SkinnyIndonesian24 | Prabowo VS Jokowi - Epic ...</td>\n",
       "      <td>SkinnyIndonesian24 ( Andovi da Lopez sebagai J...</td>\n",
       "      <td>skinnyindonesian24</td>\n",
       "      <td>Official Teaser Trailer Film Bucin. Tayang Mar...</td>\n",
       "      <td>UgzxHFkIGwOoIvz9xvl4AaABAg</td>\n",
       "      <td>2019-04-08 11:46:13</td>\n",
       "      <td>87019</td>\n",
       "      <td>488</td>\n",
       "      <td>legitimate</td>\n",
       "    </tr>\n",
       "  </tbody>\n",
       "</table>\n",
       "</div>"
      ],
      "text/plain": [
       "        Video_Id                                             Tittle  \\\n",
       "818  AP0NACavjfk  SkinnyIndonesian24 | Prabowo VS Jokowi - Epic ...   \n",
       "\n",
       "                                           Description                Name  \\\n",
       "818  SkinnyIndonesian24 ( Andovi da Lopez sebagai J...  skinnyindonesian24   \n",
       "\n",
       "                                               Comment  \\\n",
       "818  Official Teaser Trailer Film Bucin. Tayang Mar...   \n",
       "\n",
       "                     Comment_Id                Time  Likes  Reply_Count  \\\n",
       "818  UgzxHFkIGwOoIvz9xvl4AaABAg 2019-04-08 11:46:13  87019          488   \n",
       "\n",
       "          Label  \n",
       "818  legitimate  "
      ]
     },
     "execution_count": 49,
     "metadata": {},
     "output_type": "execute_result"
    }
   ],
   "source": [
    "like = eda[eda['Likes']== eda['Likes'].max()]\n",
    "like = pd.DataFrame(like)\n",
    "print(\"Komentar dengan like terbanyak adalah \\n\")\n",
    "like"
   ]
  },
  {
   "cell_type": "markdown",
   "metadata": {},
   "source": [
    "### 10 YouTube Account that comments have most reply"
   ]
  },
  {
   "cell_type": "code",
   "execution_count": 50,
   "metadata": {},
   "outputs": [
    {
     "data": {
      "application/vnd.plotly.v1+json": {
       "config": {
        "plotlyServerURL": "https://plot.ly"
       },
       "data": [
        {
         "alignmentgroup": "True",
         "hovertemplate": "Youtube_Account=%{x}<br>reply_count=%{y}<extra></extra>",
         "legendgroup": "skinnyindonesian24",
         "marker": {
          "color": "#636efa",
          "pattern": {
           "shape": ""
          }
         },
         "name": "skinnyindonesian24",
         "offsetgroup": "skinnyindonesian24",
         "orientation": "v",
         "showlegend": true,
         "textposition": "auto",
         "type": "bar",
         "x": [
          "skinnyindonesian24"
         ],
         "xaxis": "x",
         "y": [
          10
         ],
         "yaxis": "y"
        },
        {
         "alignmentgroup": "True",
         "hovertemplate": "Youtube_Account=%{x}<br>reply_count=%{y}<extra></extra>",
         "legendgroup": "danu sa",
         "marker": {
          "color": "#EF553B",
          "pattern": {
           "shape": ""
          }
         },
         "name": "danu sa",
         "offsetgroup": "danu sa",
         "orientation": "v",
         "showlegend": true,
         "textposition": "auto",
         "type": "bar",
         "x": [
          "danu sa"
         ],
         "xaxis": "x",
         "y": [
          6
         ],
         "yaxis": "y"
        },
        {
         "alignmentgroup": "True",
         "hovertemplate": "Youtube_Account=%{x}<br>reply_count=%{y}<extra></extra>",
         "legendgroup": "MUR Dani",
         "marker": {
          "color": "#00cc96",
          "pattern": {
           "shape": ""
          }
         },
         "name": "MUR Dani",
         "offsetgroup": "MUR Dani",
         "orientation": "v",
         "showlegend": true,
         "textposition": "auto",
         "type": "bar",
         "x": [
          "MUR Dani"
         ],
         "xaxis": "x",
         "y": [
          5
         ],
         "yaxis": "y"
        },
        {
         "alignmentgroup": "True",
         "hovertemplate": "Youtube_Account=%{x}<br>reply_count=%{y}<extra></extra>",
         "legendgroup": "HEN DRI",
         "marker": {
          "color": "#ab63fa",
          "pattern": {
           "shape": ""
          }
         },
         "name": "HEN DRI",
         "offsetgroup": "HEN DRI",
         "orientation": "v",
         "showlegend": true,
         "textposition": "auto",
         "type": "bar",
         "x": [
          "HEN DRI"
         ],
         "xaxis": "x",
         "y": [
          5
         ],
         "yaxis": "y"
        },
        {
         "alignmentgroup": "True",
         "hovertemplate": "Youtube_Account=%{x}<br>reply_count=%{y}<extra></extra>",
         "legendgroup": "FAHA LIAN",
         "marker": {
          "color": "#FFA15A",
          "pattern": {
           "shape": ""
          }
         },
         "name": "FAHA LIAN",
         "offsetgroup": "FAHA LIAN",
         "orientation": "v",
         "showlegend": true,
         "textposition": "auto",
         "type": "bar",
         "x": [
          "FAHA LIAN"
         ],
         "xaxis": "x",
         "y": [
          5
         ],
         "yaxis": "y"
        },
        {
         "alignmentgroup": "True",
         "hovertemplate": "Youtube_Account=%{x}<br>reply_count=%{y}<extra></extra>",
         "legendgroup": "dio mario",
         "marker": {
          "color": "#19d3f3",
          "pattern": {
           "shape": ""
          }
         },
         "name": "dio mario",
         "offsetgroup": "dio mario",
         "orientation": "v",
         "showlegend": true,
         "textposition": "auto",
         "type": "bar",
         "x": [
          "dio mario"
         ],
         "xaxis": "x",
         "y": [
          4
         ],
         "yaxis": "y"
        },
        {
         "alignmentgroup": "True",
         "hovertemplate": "Youtube_Account=%{x}<br>reply_count=%{y}<extra></extra>",
         "legendgroup": "ZUHUDIL ASHAR",
         "marker": {
          "color": "#FF6692",
          "pattern": {
           "shape": ""
          }
         },
         "name": "ZUHUDIL ASHAR",
         "offsetgroup": "ZUHUDIL ASHAR",
         "orientation": "v",
         "showlegend": true,
         "textposition": "auto",
         "type": "bar",
         "x": [
          "ZUHUDIL ASHAR"
         ],
         "xaxis": "x",
         "y": [
          4
         ],
         "yaxis": "y"
        },
        {
         "alignmentgroup": "True",
         "hovertemplate": "Youtube_Account=%{x}<br>reply_count=%{y}<extra></extra>",
         "legendgroup": "Annisa Dewi",
         "marker": {
          "color": "#B6E880",
          "pattern": {
           "shape": ""
          }
         },
         "name": "Annisa Dewi",
         "offsetgroup": "Annisa Dewi",
         "orientation": "v",
         "showlegend": true,
         "textposition": "auto",
         "type": "bar",
         "x": [
          "Annisa Dewi"
         ],
         "xaxis": "x",
         "y": [
          4
         ],
         "yaxis": "y"
        },
        {
         "alignmentgroup": "True",
         "hovertemplate": "Youtube_Account=%{x}<br>reply_count=%{y}<extra></extra>",
         "legendgroup": "thinkxy",
         "marker": {
          "color": "#FF97FF",
          "pattern": {
           "shape": ""
          }
         },
         "name": "thinkxy",
         "offsetgroup": "thinkxy",
         "orientation": "v",
         "showlegend": true,
         "textposition": "auto",
         "type": "bar",
         "x": [
          "thinkxy"
         ],
         "xaxis": "x",
         "y": [
          4
         ],
         "yaxis": "y"
        },
        {
         "alignmentgroup": "True",
         "hovertemplate": "Youtube_Account=%{x}<br>reply_count=%{y}<extra></extra>",
         "legendgroup": "Leslar Entertainment IG",
         "marker": {
          "color": "#FECB52",
          "pattern": {
           "shape": ""
          }
         },
         "name": "Leslar Entertainment IG",
         "offsetgroup": "Leslar Entertainment IG",
         "orientation": "v",
         "showlegend": true,
         "textposition": "auto",
         "type": "bar",
         "x": [
          "Leslar Entertainment IG"
         ],
         "xaxis": "x",
         "y": [
          3
         ],
         "yaxis": "y"
        }
       ],
       "layout": {
        "barmode": "relative",
        "legend": {
         "title": {
          "text": "Youtube_Account"
         },
         "tracegroupgap": 0
        },
        "template": {
         "data": {
          "bar": [
           {
            "error_x": {
             "color": "#2a3f5f"
            },
            "error_y": {
             "color": "#2a3f5f"
            },
            "marker": {
             "line": {
              "color": "#E5ECF6",
              "width": 0.5
             },
             "pattern": {
              "fillmode": "overlay",
              "size": 10,
              "solidity": 0.2
             }
            },
            "type": "bar"
           }
          ],
          "barpolar": [
           {
            "marker": {
             "line": {
              "color": "#E5ECF6",
              "width": 0.5
             },
             "pattern": {
              "fillmode": "overlay",
              "size": 10,
              "solidity": 0.2
             }
            },
            "type": "barpolar"
           }
          ],
          "carpet": [
           {
            "aaxis": {
             "endlinecolor": "#2a3f5f",
             "gridcolor": "white",
             "linecolor": "white",
             "minorgridcolor": "white",
             "startlinecolor": "#2a3f5f"
            },
            "baxis": {
             "endlinecolor": "#2a3f5f",
             "gridcolor": "white",
             "linecolor": "white",
             "minorgridcolor": "white",
             "startlinecolor": "#2a3f5f"
            },
            "type": "carpet"
           }
          ],
          "choropleth": [
           {
            "colorbar": {
             "outlinewidth": 0,
             "ticks": ""
            },
            "type": "choropleth"
           }
          ],
          "contour": [
           {
            "colorbar": {
             "outlinewidth": 0,
             "ticks": ""
            },
            "colorscale": [
             [
              0,
              "#0d0887"
             ],
             [
              0.1111111111111111,
              "#46039f"
             ],
             [
              0.2222222222222222,
              "#7201a8"
             ],
             [
              0.3333333333333333,
              "#9c179e"
             ],
             [
              0.4444444444444444,
              "#bd3786"
             ],
             [
              0.5555555555555556,
              "#d8576b"
             ],
             [
              0.6666666666666666,
              "#ed7953"
             ],
             [
              0.7777777777777778,
              "#fb9f3a"
             ],
             [
              0.8888888888888888,
              "#fdca26"
             ],
             [
              1,
              "#f0f921"
             ]
            ],
            "type": "contour"
           }
          ],
          "contourcarpet": [
           {
            "colorbar": {
             "outlinewidth": 0,
             "ticks": ""
            },
            "type": "contourcarpet"
           }
          ],
          "heatmap": [
           {
            "colorbar": {
             "outlinewidth": 0,
             "ticks": ""
            },
            "colorscale": [
             [
              0,
              "#0d0887"
             ],
             [
              0.1111111111111111,
              "#46039f"
             ],
             [
              0.2222222222222222,
              "#7201a8"
             ],
             [
              0.3333333333333333,
              "#9c179e"
             ],
             [
              0.4444444444444444,
              "#bd3786"
             ],
             [
              0.5555555555555556,
              "#d8576b"
             ],
             [
              0.6666666666666666,
              "#ed7953"
             ],
             [
              0.7777777777777778,
              "#fb9f3a"
             ],
             [
              0.8888888888888888,
              "#fdca26"
             ],
             [
              1,
              "#f0f921"
             ]
            ],
            "type": "heatmap"
           }
          ],
          "heatmapgl": [
           {
            "colorbar": {
             "outlinewidth": 0,
             "ticks": ""
            },
            "colorscale": [
             [
              0,
              "#0d0887"
             ],
             [
              0.1111111111111111,
              "#46039f"
             ],
             [
              0.2222222222222222,
              "#7201a8"
             ],
             [
              0.3333333333333333,
              "#9c179e"
             ],
             [
              0.4444444444444444,
              "#bd3786"
             ],
             [
              0.5555555555555556,
              "#d8576b"
             ],
             [
              0.6666666666666666,
              "#ed7953"
             ],
             [
              0.7777777777777778,
              "#fb9f3a"
             ],
             [
              0.8888888888888888,
              "#fdca26"
             ],
             [
              1,
              "#f0f921"
             ]
            ],
            "type": "heatmapgl"
           }
          ],
          "histogram": [
           {
            "marker": {
             "pattern": {
              "fillmode": "overlay",
              "size": 10,
              "solidity": 0.2
             }
            },
            "type": "histogram"
           }
          ],
          "histogram2d": [
           {
            "colorbar": {
             "outlinewidth": 0,
             "ticks": ""
            },
            "colorscale": [
             [
              0,
              "#0d0887"
             ],
             [
              0.1111111111111111,
              "#46039f"
             ],
             [
              0.2222222222222222,
              "#7201a8"
             ],
             [
              0.3333333333333333,
              "#9c179e"
             ],
             [
              0.4444444444444444,
              "#bd3786"
             ],
             [
              0.5555555555555556,
              "#d8576b"
             ],
             [
              0.6666666666666666,
              "#ed7953"
             ],
             [
              0.7777777777777778,
              "#fb9f3a"
             ],
             [
              0.8888888888888888,
              "#fdca26"
             ],
             [
              1,
              "#f0f921"
             ]
            ],
            "type": "histogram2d"
           }
          ],
          "histogram2dcontour": [
           {
            "colorbar": {
             "outlinewidth": 0,
             "ticks": ""
            },
            "colorscale": [
             [
              0,
              "#0d0887"
             ],
             [
              0.1111111111111111,
              "#46039f"
             ],
             [
              0.2222222222222222,
              "#7201a8"
             ],
             [
              0.3333333333333333,
              "#9c179e"
             ],
             [
              0.4444444444444444,
              "#bd3786"
             ],
             [
              0.5555555555555556,
              "#d8576b"
             ],
             [
              0.6666666666666666,
              "#ed7953"
             ],
             [
              0.7777777777777778,
              "#fb9f3a"
             ],
             [
              0.8888888888888888,
              "#fdca26"
             ],
             [
              1,
              "#f0f921"
             ]
            ],
            "type": "histogram2dcontour"
           }
          ],
          "mesh3d": [
           {
            "colorbar": {
             "outlinewidth": 0,
             "ticks": ""
            },
            "type": "mesh3d"
           }
          ],
          "parcoords": [
           {
            "line": {
             "colorbar": {
              "outlinewidth": 0,
              "ticks": ""
             }
            },
            "type": "parcoords"
           }
          ],
          "pie": [
           {
            "automargin": true,
            "type": "pie"
           }
          ],
          "scatter": [
           {
            "fillpattern": {
             "fillmode": "overlay",
             "size": 10,
             "solidity": 0.2
            },
            "type": "scatter"
           }
          ],
          "scatter3d": [
           {
            "line": {
             "colorbar": {
              "outlinewidth": 0,
              "ticks": ""
             }
            },
            "marker": {
             "colorbar": {
              "outlinewidth": 0,
              "ticks": ""
             }
            },
            "type": "scatter3d"
           }
          ],
          "scattercarpet": [
           {
            "marker": {
             "colorbar": {
              "outlinewidth": 0,
              "ticks": ""
             }
            },
            "type": "scattercarpet"
           }
          ],
          "scattergeo": [
           {
            "marker": {
             "colorbar": {
              "outlinewidth": 0,
              "ticks": ""
             }
            },
            "type": "scattergeo"
           }
          ],
          "scattergl": [
           {
            "marker": {
             "colorbar": {
              "outlinewidth": 0,
              "ticks": ""
             }
            },
            "type": "scattergl"
           }
          ],
          "scattermapbox": [
           {
            "marker": {
             "colorbar": {
              "outlinewidth": 0,
              "ticks": ""
             }
            },
            "type": "scattermapbox"
           }
          ],
          "scatterpolar": [
           {
            "marker": {
             "colorbar": {
              "outlinewidth": 0,
              "ticks": ""
             }
            },
            "type": "scatterpolar"
           }
          ],
          "scatterpolargl": [
           {
            "marker": {
             "colorbar": {
              "outlinewidth": 0,
              "ticks": ""
             }
            },
            "type": "scatterpolargl"
           }
          ],
          "scatterternary": [
           {
            "marker": {
             "colorbar": {
              "outlinewidth": 0,
              "ticks": ""
             }
            },
            "type": "scatterternary"
           }
          ],
          "surface": [
           {
            "colorbar": {
             "outlinewidth": 0,
             "ticks": ""
            },
            "colorscale": [
             [
              0,
              "#0d0887"
             ],
             [
              0.1111111111111111,
              "#46039f"
             ],
             [
              0.2222222222222222,
              "#7201a8"
             ],
             [
              0.3333333333333333,
              "#9c179e"
             ],
             [
              0.4444444444444444,
              "#bd3786"
             ],
             [
              0.5555555555555556,
              "#d8576b"
             ],
             [
              0.6666666666666666,
              "#ed7953"
             ],
             [
              0.7777777777777778,
              "#fb9f3a"
             ],
             [
              0.8888888888888888,
              "#fdca26"
             ],
             [
              1,
              "#f0f921"
             ]
            ],
            "type": "surface"
           }
          ],
          "table": [
           {
            "cells": {
             "fill": {
              "color": "#EBF0F8"
             },
             "line": {
              "color": "white"
             }
            },
            "header": {
             "fill": {
              "color": "#C8D4E3"
             },
             "line": {
              "color": "white"
             }
            },
            "type": "table"
           }
          ]
         },
         "layout": {
          "annotationdefaults": {
           "arrowcolor": "#2a3f5f",
           "arrowhead": 0,
           "arrowwidth": 1
          },
          "autotypenumbers": "strict",
          "coloraxis": {
           "colorbar": {
            "outlinewidth": 0,
            "ticks": ""
           }
          },
          "colorscale": {
           "diverging": [
            [
             0,
             "#8e0152"
            ],
            [
             0.1,
             "#c51b7d"
            ],
            [
             0.2,
             "#de77ae"
            ],
            [
             0.3,
             "#f1b6da"
            ],
            [
             0.4,
             "#fde0ef"
            ],
            [
             0.5,
             "#f7f7f7"
            ],
            [
             0.6,
             "#e6f5d0"
            ],
            [
             0.7,
             "#b8e186"
            ],
            [
             0.8,
             "#7fbc41"
            ],
            [
             0.9,
             "#4d9221"
            ],
            [
             1,
             "#276419"
            ]
           ],
           "sequential": [
            [
             0,
             "#0d0887"
            ],
            [
             0.1111111111111111,
             "#46039f"
            ],
            [
             0.2222222222222222,
             "#7201a8"
            ],
            [
             0.3333333333333333,
             "#9c179e"
            ],
            [
             0.4444444444444444,
             "#bd3786"
            ],
            [
             0.5555555555555556,
             "#d8576b"
            ],
            [
             0.6666666666666666,
             "#ed7953"
            ],
            [
             0.7777777777777778,
             "#fb9f3a"
            ],
            [
             0.8888888888888888,
             "#fdca26"
            ],
            [
             1,
             "#f0f921"
            ]
           ],
           "sequentialminus": [
            [
             0,
             "#0d0887"
            ],
            [
             0.1111111111111111,
             "#46039f"
            ],
            [
             0.2222222222222222,
             "#7201a8"
            ],
            [
             0.3333333333333333,
             "#9c179e"
            ],
            [
             0.4444444444444444,
             "#bd3786"
            ],
            [
             0.5555555555555556,
             "#d8576b"
            ],
            [
             0.6666666666666666,
             "#ed7953"
            ],
            [
             0.7777777777777778,
             "#fb9f3a"
            ],
            [
             0.8888888888888888,
             "#fdca26"
            ],
            [
             1,
             "#f0f921"
            ]
           ]
          },
          "colorway": [
           "#636efa",
           "#EF553B",
           "#00cc96",
           "#ab63fa",
           "#FFA15A",
           "#19d3f3",
           "#FF6692",
           "#B6E880",
           "#FF97FF",
           "#FECB52"
          ],
          "font": {
           "color": "#2a3f5f"
          },
          "geo": {
           "bgcolor": "white",
           "lakecolor": "white",
           "landcolor": "#E5ECF6",
           "showlakes": true,
           "showland": true,
           "subunitcolor": "white"
          },
          "hoverlabel": {
           "align": "left"
          },
          "hovermode": "closest",
          "mapbox": {
           "style": "light"
          },
          "paper_bgcolor": "white",
          "plot_bgcolor": "#E5ECF6",
          "polar": {
           "angularaxis": {
            "gridcolor": "white",
            "linecolor": "white",
            "ticks": ""
           },
           "bgcolor": "#E5ECF6",
           "radialaxis": {
            "gridcolor": "white",
            "linecolor": "white",
            "ticks": ""
           }
          },
          "scene": {
           "xaxis": {
            "backgroundcolor": "#E5ECF6",
            "gridcolor": "white",
            "gridwidth": 2,
            "linecolor": "white",
            "showbackground": true,
            "ticks": "",
            "zerolinecolor": "white"
           },
           "yaxis": {
            "backgroundcolor": "#E5ECF6",
            "gridcolor": "white",
            "gridwidth": 2,
            "linecolor": "white",
            "showbackground": true,
            "ticks": "",
            "zerolinecolor": "white"
           },
           "zaxis": {
            "backgroundcolor": "#E5ECF6",
            "gridcolor": "white",
            "gridwidth": 2,
            "linecolor": "white",
            "showbackground": true,
            "ticks": "",
            "zerolinecolor": "white"
           }
          },
          "shapedefaults": {
           "line": {
            "color": "#2a3f5f"
           }
          },
          "ternary": {
           "aaxis": {
            "gridcolor": "white",
            "linecolor": "white",
            "ticks": ""
           },
           "baxis": {
            "gridcolor": "white",
            "linecolor": "white",
            "ticks": ""
           },
           "bgcolor": "#E5ECF6",
           "caxis": {
            "gridcolor": "white",
            "linecolor": "white",
            "ticks": ""
           }
          },
          "title": {
           "x": 0.05
          },
          "xaxis": {
           "automargin": true,
           "gridcolor": "white",
           "linecolor": "white",
           "ticks": "",
           "title": {
            "standoff": 15
           },
           "zerolinecolor": "white",
           "zerolinewidth": 2
          },
          "yaxis": {
           "automargin": true,
           "gridcolor": "white",
           "linecolor": "white",
           "ticks": "",
           "title": {
            "standoff": 15
           },
           "zerolinecolor": "white",
           "zerolinewidth": 2
          }
         }
        },
        "title": {
         "text": "10 YouTube Account that comments have most reply"
        },
        "xaxis": {
         "anchor": "y",
         "categoryarray": [
          "skinnyindonesian24",
          "danu sa",
          "MUR Dani",
          "HEN DRI",
          "FAHA LIAN",
          "dio mario",
          "ZUHUDIL ASHAR",
          "Annisa Dewi",
          "thinkxy",
          "Leslar Entertainment IG"
         ],
         "categoryorder": "array",
         "domain": [
          0,
          1
         ],
         "title": {
          "text": "Youtube_Account"
         }
        },
        "yaxis": {
         "anchor": "x",
         "domain": [
          0,
          1
         ],
         "title": {
          "text": "reply_count"
         }
        }
       }
      }
     },
     "metadata": {},
     "output_type": "display_data"
    }
   ],
   "source": [
    "account = eda['Name'].value_counts().head(10)\n",
    "account = pd.DataFrame(data=account)\n",
    "account.reset_index(inplace=True)\n",
    "account = account.rename(columns = {\"index\" : \"Youtube_Account\",\n",
    "                                    'Name': \"reply_count\"})\n",
    "fig = px.bar(account, x='Youtube_Account', y='reply_count',\n",
    "            color='Youtube_Account', title='10 YouTube Account that comments have most reply')\n",
    "fig.show()"
   ]
  },
  {
   "cell_type": "code",
   "execution_count": 12,
   "metadata": {},
   "outputs": [
    {
     "data": {
      "text/html": [
       "<div>\n",
       "<style scoped>\n",
       "    .dataframe tbody tr th:only-of-type {\n",
       "        vertical-align: middle;\n",
       "    }\n",
       "\n",
       "    .dataframe tbody tr th {\n",
       "        vertical-align: top;\n",
       "    }\n",
       "\n",
       "    .dataframe thead th {\n",
       "        text-align: right;\n",
       "    }\n",
       "</style>\n",
       "<table border=\"1\" class=\"dataframe\">\n",
       "  <thead>\n",
       "    <tr style=\"text-align: right;\">\n",
       "      <th></th>\n",
       "      <th>Youtube_Account</th>\n",
       "      <th>reply_count</th>\n",
       "    </tr>\n",
       "  </thead>\n",
       "  <tbody>\n",
       "    <tr>\n",
       "      <th>2</th>\n",
       "      <td>MUR Dani</td>\n",
       "      <td>5</td>\n",
       "    </tr>\n",
       "  </tbody>\n",
       "</table>\n",
       "</div>"
      ],
      "text/plain": [
       "  Youtube_Account  reply_count\n",
       "2        MUR Dani            5"
      ]
     },
     "execution_count": 12,
     "metadata": {},
     "output_type": "execute_result"
    }
   ],
   "source": [
    "account.sample()"
   ]
  },
  {
   "cell_type": "markdown",
   "metadata": {},
   "source": [
    "## Time"
   ]
  },
  {
   "cell_type": "code",
   "execution_count": 53,
   "metadata": {},
   "outputs": [],
   "source": [
    "peak_time = eda.copy()\n",
    "times = peak_time['Time']"
   ]
  },
  {
   "cell_type": "code",
   "execution_count": 55,
   "metadata": {},
   "outputs": [],
   "source": [
    "LabelTime = peak_time.groupby([peak_time[\"Time\"].dt.hour, \"Label\"]).size().reset_index(name='counts')"
   ]
  },
  {
   "cell_type": "code",
   "execution_count": 56,
   "metadata": {},
   "outputs": [
    {
     "data": {
      "text/html": [
       "<div>\n",
       "<style scoped>\n",
       "    .dataframe tbody tr th:only-of-type {\n",
       "        vertical-align: middle;\n",
       "    }\n",
       "\n",
       "    .dataframe tbody tr th {\n",
       "        vertical-align: top;\n",
       "    }\n",
       "\n",
       "    .dataframe thead th {\n",
       "        text-align: right;\n",
       "    }\n",
       "</style>\n",
       "<table border=\"1\" class=\"dataframe\">\n",
       "  <thead>\n",
       "    <tr style=\"text-align: right;\">\n",
       "      <th></th>\n",
       "      <th>Time</th>\n",
       "      <th>Label</th>\n",
       "      <th>counts</th>\n",
       "    </tr>\n",
       "  </thead>\n",
       "  <tbody>\n",
       "    <tr>\n",
       "      <th>0</th>\n",
       "      <td>0</td>\n",
       "      <td>legitimate</td>\n",
       "      <td>48</td>\n",
       "    </tr>\n",
       "    <tr>\n",
       "      <th>1</th>\n",
       "      <td>0</td>\n",
       "      <td>spam</td>\n",
       "      <td>37</td>\n",
       "    </tr>\n",
       "    <tr>\n",
       "      <th>2</th>\n",
       "      <td>1</td>\n",
       "      <td>legitimate</td>\n",
       "      <td>59</td>\n",
       "    </tr>\n",
       "    <tr>\n",
       "      <th>3</th>\n",
       "      <td>1</td>\n",
       "      <td>spam</td>\n",
       "      <td>46</td>\n",
       "    </tr>\n",
       "    <tr>\n",
       "      <th>4</th>\n",
       "      <td>2</td>\n",
       "      <td>legitimate</td>\n",
       "      <td>62</td>\n",
       "    </tr>\n",
       "    <tr>\n",
       "      <th>5</th>\n",
       "      <td>2</td>\n",
       "      <td>spam</td>\n",
       "      <td>44</td>\n",
       "    </tr>\n",
       "    <tr>\n",
       "      <th>6</th>\n",
       "      <td>3</td>\n",
       "      <td>legitimate</td>\n",
       "      <td>80</td>\n",
       "    </tr>\n",
       "    <tr>\n",
       "      <th>7</th>\n",
       "      <td>3</td>\n",
       "      <td>spam</td>\n",
       "      <td>63</td>\n",
       "    </tr>\n",
       "    <tr>\n",
       "      <th>8</th>\n",
       "      <td>4</td>\n",
       "      <td>legitimate</td>\n",
       "      <td>82</td>\n",
       "    </tr>\n",
       "    <tr>\n",
       "      <th>9</th>\n",
       "      <td>4</td>\n",
       "      <td>spam</td>\n",
       "      <td>47</td>\n",
       "    </tr>\n",
       "    <tr>\n",
       "      <th>10</th>\n",
       "      <td>5</td>\n",
       "      <td>legitimate</td>\n",
       "      <td>83</td>\n",
       "    </tr>\n",
       "    <tr>\n",
       "      <th>11</th>\n",
       "      <td>5</td>\n",
       "      <td>spam</td>\n",
       "      <td>64</td>\n",
       "    </tr>\n",
       "    <tr>\n",
       "      <th>12</th>\n",
       "      <td>6</td>\n",
       "      <td>legitimate</td>\n",
       "      <td>88</td>\n",
       "    </tr>\n",
       "    <tr>\n",
       "      <th>13</th>\n",
       "      <td>6</td>\n",
       "      <td>spam</td>\n",
       "      <td>54</td>\n",
       "    </tr>\n",
       "    <tr>\n",
       "      <th>14</th>\n",
       "      <td>7</td>\n",
       "      <td>legitimate</td>\n",
       "      <td>83</td>\n",
       "    </tr>\n",
       "    <tr>\n",
       "      <th>15</th>\n",
       "      <td>7</td>\n",
       "      <td>spam</td>\n",
       "      <td>66</td>\n",
       "    </tr>\n",
       "    <tr>\n",
       "      <th>16</th>\n",
       "      <td>8</td>\n",
       "      <td>legitimate</td>\n",
       "      <td>88</td>\n",
       "    </tr>\n",
       "    <tr>\n",
       "      <th>17</th>\n",
       "      <td>8</td>\n",
       "      <td>spam</td>\n",
       "      <td>61</td>\n",
       "    </tr>\n",
       "    <tr>\n",
       "      <th>18</th>\n",
       "      <td>9</td>\n",
       "      <td>legitimate</td>\n",
       "      <td>93</td>\n",
       "    </tr>\n",
       "    <tr>\n",
       "      <th>19</th>\n",
       "      <td>9</td>\n",
       "      <td>spam</td>\n",
       "      <td>77</td>\n",
       "    </tr>\n",
       "    <tr>\n",
       "      <th>20</th>\n",
       "      <td>10</td>\n",
       "      <td>legitimate</td>\n",
       "      <td>95</td>\n",
       "    </tr>\n",
       "    <tr>\n",
       "      <th>21</th>\n",
       "      <td>10</td>\n",
       "      <td>spam</td>\n",
       "      <td>56</td>\n",
       "    </tr>\n",
       "    <tr>\n",
       "      <th>22</th>\n",
       "      <td>11</td>\n",
       "      <td>legitimate</td>\n",
       "      <td>92</td>\n",
       "    </tr>\n",
       "    <tr>\n",
       "      <th>23</th>\n",
       "      <td>11</td>\n",
       "      <td>spam</td>\n",
       "      <td>68</td>\n",
       "    </tr>\n",
       "    <tr>\n",
       "      <th>24</th>\n",
       "      <td>12</td>\n",
       "      <td>legitimate</td>\n",
       "      <td>90</td>\n",
       "    </tr>\n",
       "    <tr>\n",
       "      <th>25</th>\n",
       "      <td>12</td>\n",
       "      <td>spam</td>\n",
       "      <td>86</td>\n",
       "    </tr>\n",
       "    <tr>\n",
       "      <th>26</th>\n",
       "      <td>13</td>\n",
       "      <td>legitimate</td>\n",
       "      <td>127</td>\n",
       "    </tr>\n",
       "    <tr>\n",
       "      <th>27</th>\n",
       "      <td>13</td>\n",
       "      <td>spam</td>\n",
       "      <td>83</td>\n",
       "    </tr>\n",
       "    <tr>\n",
       "      <th>28</th>\n",
       "      <td>14</td>\n",
       "      <td>legitimate</td>\n",
       "      <td>121</td>\n",
       "    </tr>\n",
       "    <tr>\n",
       "      <th>29</th>\n",
       "      <td>14</td>\n",
       "      <td>spam</td>\n",
       "      <td>79</td>\n",
       "    </tr>\n",
       "    <tr>\n",
       "      <th>30</th>\n",
       "      <td>15</td>\n",
       "      <td>legitimate</td>\n",
       "      <td>106</td>\n",
       "    </tr>\n",
       "    <tr>\n",
       "      <th>31</th>\n",
       "      <td>15</td>\n",
       "      <td>spam</td>\n",
       "      <td>72</td>\n",
       "    </tr>\n",
       "    <tr>\n",
       "      <th>32</th>\n",
       "      <td>16</td>\n",
       "      <td>legitimate</td>\n",
       "      <td>64</td>\n",
       "    </tr>\n",
       "    <tr>\n",
       "      <th>33</th>\n",
       "      <td>16</td>\n",
       "      <td>spam</td>\n",
       "      <td>67</td>\n",
       "    </tr>\n",
       "    <tr>\n",
       "      <th>34</th>\n",
       "      <td>17</td>\n",
       "      <td>legitimate</td>\n",
       "      <td>57</td>\n",
       "    </tr>\n",
       "    <tr>\n",
       "      <th>35</th>\n",
       "      <td>17</td>\n",
       "      <td>spam</td>\n",
       "      <td>56</td>\n",
       "    </tr>\n",
       "    <tr>\n",
       "      <th>36</th>\n",
       "      <td>18</td>\n",
       "      <td>legitimate</td>\n",
       "      <td>50</td>\n",
       "    </tr>\n",
       "    <tr>\n",
       "      <th>37</th>\n",
       "      <td>18</td>\n",
       "      <td>spam</td>\n",
       "      <td>36</td>\n",
       "    </tr>\n",
       "    <tr>\n",
       "      <th>38</th>\n",
       "      <td>19</td>\n",
       "      <td>legitimate</td>\n",
       "      <td>24</td>\n",
       "    </tr>\n",
       "    <tr>\n",
       "      <th>39</th>\n",
       "      <td>19</td>\n",
       "      <td>spam</td>\n",
       "      <td>34</td>\n",
       "    </tr>\n",
       "    <tr>\n",
       "      <th>40</th>\n",
       "      <td>20</td>\n",
       "      <td>legitimate</td>\n",
       "      <td>21</td>\n",
       "    </tr>\n",
       "    <tr>\n",
       "      <th>41</th>\n",
       "      <td>20</td>\n",
       "      <td>spam</td>\n",
       "      <td>29</td>\n",
       "    </tr>\n",
       "    <tr>\n",
       "      <th>42</th>\n",
       "      <td>21</td>\n",
       "      <td>legitimate</td>\n",
       "      <td>20</td>\n",
       "    </tr>\n",
       "    <tr>\n",
       "      <th>43</th>\n",
       "      <td>21</td>\n",
       "      <td>spam</td>\n",
       "      <td>13</td>\n",
       "    </tr>\n",
       "    <tr>\n",
       "      <th>44</th>\n",
       "      <td>22</td>\n",
       "      <td>legitimate</td>\n",
       "      <td>25</td>\n",
       "    </tr>\n",
       "    <tr>\n",
       "      <th>45</th>\n",
       "      <td>22</td>\n",
       "      <td>spam</td>\n",
       "      <td>21</td>\n",
       "    </tr>\n",
       "    <tr>\n",
       "      <th>46</th>\n",
       "      <td>23</td>\n",
       "      <td>legitimate</td>\n",
       "      <td>38</td>\n",
       "    </tr>\n",
       "    <tr>\n",
       "      <th>47</th>\n",
       "      <td>23</td>\n",
       "      <td>spam</td>\n",
       "      <td>45</td>\n",
       "    </tr>\n",
       "  </tbody>\n",
       "</table>\n",
       "</div>"
      ],
      "text/plain": [
       "    Time       Label  counts\n",
       "0      0  legitimate      48\n",
       "1      0        spam      37\n",
       "2      1  legitimate      59\n",
       "3      1        spam      46\n",
       "4      2  legitimate      62\n",
       "5      2        spam      44\n",
       "6      3  legitimate      80\n",
       "7      3        spam      63\n",
       "8      4  legitimate      82\n",
       "9      4        spam      47\n",
       "10     5  legitimate      83\n",
       "11     5        spam      64\n",
       "12     6  legitimate      88\n",
       "13     6        spam      54\n",
       "14     7  legitimate      83\n",
       "15     7        spam      66\n",
       "16     8  legitimate      88\n",
       "17     8        spam      61\n",
       "18     9  legitimate      93\n",
       "19     9        spam      77\n",
       "20    10  legitimate      95\n",
       "21    10        spam      56\n",
       "22    11  legitimate      92\n",
       "23    11        spam      68\n",
       "24    12  legitimate      90\n",
       "25    12        spam      86\n",
       "26    13  legitimate     127\n",
       "27    13        spam      83\n",
       "28    14  legitimate     121\n",
       "29    14        spam      79\n",
       "30    15  legitimate     106\n",
       "31    15        spam      72\n",
       "32    16  legitimate      64\n",
       "33    16        spam      67\n",
       "34    17  legitimate      57\n",
       "35    17        spam      56\n",
       "36    18  legitimate      50\n",
       "37    18        spam      36\n",
       "38    19  legitimate      24\n",
       "39    19        spam      34\n",
       "40    20  legitimate      21\n",
       "41    20        spam      29\n",
       "42    21  legitimate      20\n",
       "43    21        spam      13\n",
       "44    22  legitimate      25\n",
       "45    22        spam      21\n",
       "46    23  legitimate      38\n",
       "47    23        spam      45"
      ]
     },
     "execution_count": 56,
     "metadata": {},
     "output_type": "execute_result"
    }
   ],
   "source": [
    "LabelTime"
   ]
  },
  {
   "cell_type": "code",
   "execution_count": 57,
   "metadata": {},
   "outputs": [
    {
     "data": {
      "application/vnd.plotly.v1+json": {
       "config": {
        "plotlyServerURL": "https://plot.ly"
       },
       "data": [
        {
         "hovertemplate": "Label=legitimate<br>Time=%{x}<br>Total=%{y}<extra></extra>",
         "legendgroup": "legitimate",
         "line": {
          "color": "#636efa",
          "dash": "solid"
         },
         "marker": {
          "symbol": "circle"
         },
         "mode": "lines",
         "name": "legitimate",
         "orientation": "v",
         "showlegend": true,
         "type": "scatter",
         "x": [
          0,
          1,
          2,
          3,
          4,
          5,
          6,
          7,
          8,
          9,
          10,
          11,
          12,
          13,
          14,
          15,
          16,
          17,
          18,
          19,
          20,
          21,
          22,
          23
         ],
         "xaxis": "x",
         "y": [
          48,
          59,
          62,
          80,
          82,
          83,
          88,
          83,
          88,
          93,
          95,
          92,
          90,
          127,
          121,
          106,
          64,
          57,
          50,
          24,
          21,
          20,
          25,
          38
         ],
         "yaxis": "y"
        },
        {
         "hovertemplate": "Label=spam<br>Time=%{x}<br>Total=%{y}<extra></extra>",
         "legendgroup": "spam",
         "line": {
          "color": "#EF553B",
          "dash": "solid"
         },
         "marker": {
          "symbol": "circle"
         },
         "mode": "lines",
         "name": "spam",
         "orientation": "v",
         "showlegend": true,
         "type": "scatter",
         "x": [
          0,
          1,
          2,
          3,
          4,
          5,
          6,
          7,
          8,
          9,
          10,
          11,
          12,
          13,
          14,
          15,
          16,
          17,
          18,
          19,
          20,
          21,
          22,
          23
         ],
         "xaxis": "x",
         "y": [
          37,
          46,
          44,
          63,
          47,
          64,
          54,
          66,
          61,
          77,
          56,
          68,
          86,
          83,
          79,
          72,
          67,
          56,
          36,
          34,
          29,
          13,
          21,
          45
         ],
         "yaxis": "y"
        }
       ],
       "layout": {
        "height": 400,
        "legend": {
         "title": {
          "text": "Label"
         },
         "tracegroupgap": 0
        },
        "template": {
         "data": {
          "bar": [
           {
            "error_x": {
             "color": "#2a3f5f"
            },
            "error_y": {
             "color": "#2a3f5f"
            },
            "marker": {
             "line": {
              "color": "#E5ECF6",
              "width": 0.5
             },
             "pattern": {
              "fillmode": "overlay",
              "size": 10,
              "solidity": 0.2
             }
            },
            "type": "bar"
           }
          ],
          "barpolar": [
           {
            "marker": {
             "line": {
              "color": "#E5ECF6",
              "width": 0.5
             },
             "pattern": {
              "fillmode": "overlay",
              "size": 10,
              "solidity": 0.2
             }
            },
            "type": "barpolar"
           }
          ],
          "carpet": [
           {
            "aaxis": {
             "endlinecolor": "#2a3f5f",
             "gridcolor": "white",
             "linecolor": "white",
             "minorgridcolor": "white",
             "startlinecolor": "#2a3f5f"
            },
            "baxis": {
             "endlinecolor": "#2a3f5f",
             "gridcolor": "white",
             "linecolor": "white",
             "minorgridcolor": "white",
             "startlinecolor": "#2a3f5f"
            },
            "type": "carpet"
           }
          ],
          "choropleth": [
           {
            "colorbar": {
             "outlinewidth": 0,
             "ticks": ""
            },
            "type": "choropleth"
           }
          ],
          "contour": [
           {
            "colorbar": {
             "outlinewidth": 0,
             "ticks": ""
            },
            "colorscale": [
             [
              0,
              "#0d0887"
             ],
             [
              0.1111111111111111,
              "#46039f"
             ],
             [
              0.2222222222222222,
              "#7201a8"
             ],
             [
              0.3333333333333333,
              "#9c179e"
             ],
             [
              0.4444444444444444,
              "#bd3786"
             ],
             [
              0.5555555555555556,
              "#d8576b"
             ],
             [
              0.6666666666666666,
              "#ed7953"
             ],
             [
              0.7777777777777778,
              "#fb9f3a"
             ],
             [
              0.8888888888888888,
              "#fdca26"
             ],
             [
              1,
              "#f0f921"
             ]
            ],
            "type": "contour"
           }
          ],
          "contourcarpet": [
           {
            "colorbar": {
             "outlinewidth": 0,
             "ticks": ""
            },
            "type": "contourcarpet"
           }
          ],
          "heatmap": [
           {
            "colorbar": {
             "outlinewidth": 0,
             "ticks": ""
            },
            "colorscale": [
             [
              0,
              "#0d0887"
             ],
             [
              0.1111111111111111,
              "#46039f"
             ],
             [
              0.2222222222222222,
              "#7201a8"
             ],
             [
              0.3333333333333333,
              "#9c179e"
             ],
             [
              0.4444444444444444,
              "#bd3786"
             ],
             [
              0.5555555555555556,
              "#d8576b"
             ],
             [
              0.6666666666666666,
              "#ed7953"
             ],
             [
              0.7777777777777778,
              "#fb9f3a"
             ],
             [
              0.8888888888888888,
              "#fdca26"
             ],
             [
              1,
              "#f0f921"
             ]
            ],
            "type": "heatmap"
           }
          ],
          "heatmapgl": [
           {
            "colorbar": {
             "outlinewidth": 0,
             "ticks": ""
            },
            "colorscale": [
             [
              0,
              "#0d0887"
             ],
             [
              0.1111111111111111,
              "#46039f"
             ],
             [
              0.2222222222222222,
              "#7201a8"
             ],
             [
              0.3333333333333333,
              "#9c179e"
             ],
             [
              0.4444444444444444,
              "#bd3786"
             ],
             [
              0.5555555555555556,
              "#d8576b"
             ],
             [
              0.6666666666666666,
              "#ed7953"
             ],
             [
              0.7777777777777778,
              "#fb9f3a"
             ],
             [
              0.8888888888888888,
              "#fdca26"
             ],
             [
              1,
              "#f0f921"
             ]
            ],
            "type": "heatmapgl"
           }
          ],
          "histogram": [
           {
            "marker": {
             "pattern": {
              "fillmode": "overlay",
              "size": 10,
              "solidity": 0.2
             }
            },
            "type": "histogram"
           }
          ],
          "histogram2d": [
           {
            "colorbar": {
             "outlinewidth": 0,
             "ticks": ""
            },
            "colorscale": [
             [
              0,
              "#0d0887"
             ],
             [
              0.1111111111111111,
              "#46039f"
             ],
             [
              0.2222222222222222,
              "#7201a8"
             ],
             [
              0.3333333333333333,
              "#9c179e"
             ],
             [
              0.4444444444444444,
              "#bd3786"
             ],
             [
              0.5555555555555556,
              "#d8576b"
             ],
             [
              0.6666666666666666,
              "#ed7953"
             ],
             [
              0.7777777777777778,
              "#fb9f3a"
             ],
             [
              0.8888888888888888,
              "#fdca26"
             ],
             [
              1,
              "#f0f921"
             ]
            ],
            "type": "histogram2d"
           }
          ],
          "histogram2dcontour": [
           {
            "colorbar": {
             "outlinewidth": 0,
             "ticks": ""
            },
            "colorscale": [
             [
              0,
              "#0d0887"
             ],
             [
              0.1111111111111111,
              "#46039f"
             ],
             [
              0.2222222222222222,
              "#7201a8"
             ],
             [
              0.3333333333333333,
              "#9c179e"
             ],
             [
              0.4444444444444444,
              "#bd3786"
             ],
             [
              0.5555555555555556,
              "#d8576b"
             ],
             [
              0.6666666666666666,
              "#ed7953"
             ],
             [
              0.7777777777777778,
              "#fb9f3a"
             ],
             [
              0.8888888888888888,
              "#fdca26"
             ],
             [
              1,
              "#f0f921"
             ]
            ],
            "type": "histogram2dcontour"
           }
          ],
          "mesh3d": [
           {
            "colorbar": {
             "outlinewidth": 0,
             "ticks": ""
            },
            "type": "mesh3d"
           }
          ],
          "parcoords": [
           {
            "line": {
             "colorbar": {
              "outlinewidth": 0,
              "ticks": ""
             }
            },
            "type": "parcoords"
           }
          ],
          "pie": [
           {
            "automargin": true,
            "type": "pie"
           }
          ],
          "scatter": [
           {
            "fillpattern": {
             "fillmode": "overlay",
             "size": 10,
             "solidity": 0.2
            },
            "type": "scatter"
           }
          ],
          "scatter3d": [
           {
            "line": {
             "colorbar": {
              "outlinewidth": 0,
              "ticks": ""
             }
            },
            "marker": {
             "colorbar": {
              "outlinewidth": 0,
              "ticks": ""
             }
            },
            "type": "scatter3d"
           }
          ],
          "scattercarpet": [
           {
            "marker": {
             "colorbar": {
              "outlinewidth": 0,
              "ticks": ""
             }
            },
            "type": "scattercarpet"
           }
          ],
          "scattergeo": [
           {
            "marker": {
             "colorbar": {
              "outlinewidth": 0,
              "ticks": ""
             }
            },
            "type": "scattergeo"
           }
          ],
          "scattergl": [
           {
            "marker": {
             "colorbar": {
              "outlinewidth": 0,
              "ticks": ""
             }
            },
            "type": "scattergl"
           }
          ],
          "scattermapbox": [
           {
            "marker": {
             "colorbar": {
              "outlinewidth": 0,
              "ticks": ""
             }
            },
            "type": "scattermapbox"
           }
          ],
          "scatterpolar": [
           {
            "marker": {
             "colorbar": {
              "outlinewidth": 0,
              "ticks": ""
             }
            },
            "type": "scatterpolar"
           }
          ],
          "scatterpolargl": [
           {
            "marker": {
             "colorbar": {
              "outlinewidth": 0,
              "ticks": ""
             }
            },
            "type": "scatterpolargl"
           }
          ],
          "scatterternary": [
           {
            "marker": {
             "colorbar": {
              "outlinewidth": 0,
              "ticks": ""
             }
            },
            "type": "scatterternary"
           }
          ],
          "surface": [
           {
            "colorbar": {
             "outlinewidth": 0,
             "ticks": ""
            },
            "colorscale": [
             [
              0,
              "#0d0887"
             ],
             [
              0.1111111111111111,
              "#46039f"
             ],
             [
              0.2222222222222222,
              "#7201a8"
             ],
             [
              0.3333333333333333,
              "#9c179e"
             ],
             [
              0.4444444444444444,
              "#bd3786"
             ],
             [
              0.5555555555555556,
              "#d8576b"
             ],
             [
              0.6666666666666666,
              "#ed7953"
             ],
             [
              0.7777777777777778,
              "#fb9f3a"
             ],
             [
              0.8888888888888888,
              "#fdca26"
             ],
             [
              1,
              "#f0f921"
             ]
            ],
            "type": "surface"
           }
          ],
          "table": [
           {
            "cells": {
             "fill": {
              "color": "#EBF0F8"
             },
             "line": {
              "color": "white"
             }
            },
            "header": {
             "fill": {
              "color": "#C8D4E3"
             },
             "line": {
              "color": "white"
             }
            },
            "type": "table"
           }
          ]
         },
         "layout": {
          "annotationdefaults": {
           "arrowcolor": "#2a3f5f",
           "arrowhead": 0,
           "arrowwidth": 1
          },
          "autotypenumbers": "strict",
          "coloraxis": {
           "colorbar": {
            "outlinewidth": 0,
            "ticks": ""
           }
          },
          "colorscale": {
           "diverging": [
            [
             0,
             "#8e0152"
            ],
            [
             0.1,
             "#c51b7d"
            ],
            [
             0.2,
             "#de77ae"
            ],
            [
             0.3,
             "#f1b6da"
            ],
            [
             0.4,
             "#fde0ef"
            ],
            [
             0.5,
             "#f7f7f7"
            ],
            [
             0.6,
             "#e6f5d0"
            ],
            [
             0.7,
             "#b8e186"
            ],
            [
             0.8,
             "#7fbc41"
            ],
            [
             0.9,
             "#4d9221"
            ],
            [
             1,
             "#276419"
            ]
           ],
           "sequential": [
            [
             0,
             "#0d0887"
            ],
            [
             0.1111111111111111,
             "#46039f"
            ],
            [
             0.2222222222222222,
             "#7201a8"
            ],
            [
             0.3333333333333333,
             "#9c179e"
            ],
            [
             0.4444444444444444,
             "#bd3786"
            ],
            [
             0.5555555555555556,
             "#d8576b"
            ],
            [
             0.6666666666666666,
             "#ed7953"
            ],
            [
             0.7777777777777778,
             "#fb9f3a"
            ],
            [
             0.8888888888888888,
             "#fdca26"
            ],
            [
             1,
             "#f0f921"
            ]
           ],
           "sequentialminus": [
            [
             0,
             "#0d0887"
            ],
            [
             0.1111111111111111,
             "#46039f"
            ],
            [
             0.2222222222222222,
             "#7201a8"
            ],
            [
             0.3333333333333333,
             "#9c179e"
            ],
            [
             0.4444444444444444,
             "#bd3786"
            ],
            [
             0.5555555555555556,
             "#d8576b"
            ],
            [
             0.6666666666666666,
             "#ed7953"
            ],
            [
             0.7777777777777778,
             "#fb9f3a"
            ],
            [
             0.8888888888888888,
             "#fdca26"
            ],
            [
             1,
             "#f0f921"
            ]
           ]
          },
          "colorway": [
           "#636efa",
           "#EF553B",
           "#00cc96",
           "#ab63fa",
           "#FFA15A",
           "#19d3f3",
           "#FF6692",
           "#B6E880",
           "#FF97FF",
           "#FECB52"
          ],
          "font": {
           "color": "#2a3f5f"
          },
          "geo": {
           "bgcolor": "white",
           "lakecolor": "white",
           "landcolor": "#E5ECF6",
           "showlakes": true,
           "showland": true,
           "subunitcolor": "white"
          },
          "hoverlabel": {
           "align": "left"
          },
          "hovermode": "closest",
          "mapbox": {
           "style": "light"
          },
          "paper_bgcolor": "white",
          "plot_bgcolor": "#E5ECF6",
          "polar": {
           "angularaxis": {
            "gridcolor": "white",
            "linecolor": "white",
            "ticks": ""
           },
           "bgcolor": "#E5ECF6",
           "radialaxis": {
            "gridcolor": "white",
            "linecolor": "white",
            "ticks": ""
           }
          },
          "scene": {
           "xaxis": {
            "backgroundcolor": "#E5ECF6",
            "gridcolor": "white",
            "gridwidth": 2,
            "linecolor": "white",
            "showbackground": true,
            "ticks": "",
            "zerolinecolor": "white"
           },
           "yaxis": {
            "backgroundcolor": "#E5ECF6",
            "gridcolor": "white",
            "gridwidth": 2,
            "linecolor": "white",
            "showbackground": true,
            "ticks": "",
            "zerolinecolor": "white"
           },
           "zaxis": {
            "backgroundcolor": "#E5ECF6",
            "gridcolor": "white",
            "gridwidth": 2,
            "linecolor": "white",
            "showbackground": true,
            "ticks": "",
            "zerolinecolor": "white"
           }
          },
          "shapedefaults": {
           "line": {
            "color": "#2a3f5f"
           }
          },
          "ternary": {
           "aaxis": {
            "gridcolor": "white",
            "linecolor": "white",
            "ticks": ""
           },
           "baxis": {
            "gridcolor": "white",
            "linecolor": "white",
            "ticks": ""
           },
           "bgcolor": "#E5ECF6",
           "caxis": {
            "gridcolor": "white",
            "linecolor": "white",
            "ticks": ""
           }
          },
          "title": {
           "x": 0.05
          },
          "xaxis": {
           "automargin": true,
           "gridcolor": "white",
           "linecolor": "white",
           "ticks": "",
           "title": {
            "standoff": 15
           },
           "zerolinecolor": "white",
           "zerolinewidth": 2
          },
          "yaxis": {
           "automargin": true,
           "gridcolor": "white",
           "linecolor": "white",
           "ticks": "",
           "title": {
            "standoff": 15
           },
           "zerolinecolor": "white",
           "zerolinewidth": 2
          }
         }
        },
        "title": {
         "text": "Peak Hour Comments Based on Label"
        },
        "width": 800,
        "xaxis": {
         "anchor": "y",
         "domain": [
          0,
          1
         ],
         "title": {
          "text": "Time"
         }
        },
        "yaxis": {
         "anchor": "x",
         "domain": [
          0,
          1
         ],
         "title": {
          "text": "Total"
         }
        }
       }
      }
     },
     "metadata": {},
     "output_type": "display_data"
    }
   ],
   "source": [
    "LabelTime = LabelTime.rename(columns={'counts':'Total'})\n",
    "fig2 = px.line(LabelTime, x=\"Time\", y='Total', \n",
    "              color='Label', title = 'Peak Hour Comments Based on Label', width=800, height=400)\n",
    "fig2.show()"
   ]
  },
  {
   "cell_type": "code",
   "execution_count": 8,
   "metadata": {},
   "outputs": [
    {
     "data": {
      "text/html": [
       "<div>\n",
       "<style scoped>\n",
       "    .dataframe tbody tr th:only-of-type {\n",
       "        vertical-align: middle;\n",
       "    }\n",
       "\n",
       "    .dataframe tbody tr th {\n",
       "        vertical-align: top;\n",
       "    }\n",
       "\n",
       "    .dataframe thead th {\n",
       "        text-align: right;\n",
       "    }\n",
       "</style>\n",
       "<table border=\"1\" class=\"dataframe\">\n",
       "  <thead>\n",
       "    <tr style=\"text-align: right;\">\n",
       "      <th></th>\n",
       "      <th>Video_Id</th>\n",
       "      <th>Tittle</th>\n",
       "      <th>Description</th>\n",
       "      <th>Name</th>\n",
       "      <th>Comment</th>\n",
       "      <th>Comment_Id</th>\n",
       "      <th>Time</th>\n",
       "      <th>Likes</th>\n",
       "      <th>Reply_Count</th>\n",
       "      <th>Label</th>\n",
       "      <th>Date</th>\n",
       "    </tr>\n",
       "  </thead>\n",
       "  <tbody>\n",
       "    <tr>\n",
       "      <th>2084</th>\n",
       "      <td>AP0NACavjfk</td>\n",
       "      <td>SkinnyIndonesian24 | Prabowo VS Jokowi - Epic ...</td>\n",
       "      <td>SkinnyIndonesian24 ( Andovi da Lopez sebagai J...</td>\n",
       "      <td>Rezza BGenk</td>\n",
       "      <td>Dewasalah dalam berdemokrasi !\\nMERDEKA</td>\n",
       "      <td>UgwBGk0ByvFNsC1bsMt4AaABAg</td>\n",
       "      <td>2019-04-12 13:12:48</td>\n",
       "      <td>0</td>\n",
       "      <td>0</td>\n",
       "      <td>legitimate</td>\n",
       "      <td>Friday</td>\n",
       "    </tr>\n",
       "  </tbody>\n",
       "</table>\n",
       "</div>"
      ],
      "text/plain": [
       "         Video_Id                                             Tittle  \\\n",
       "2084  AP0NACavjfk  SkinnyIndonesian24 | Prabowo VS Jokowi - Epic ...   \n",
       "\n",
       "                                            Description         Name  \\\n",
       "2084  SkinnyIndonesian24 ( Andovi da Lopez sebagai J...  Rezza BGenk   \n",
       "\n",
       "                                      Comment                  Comment_Id  \\\n",
       "2084  Dewasalah dalam berdemokrasi !\\nMERDEKA  UgwBGk0ByvFNsC1bsMt4AaABAg   \n",
       "\n",
       "                    Time  Likes  Reply_Count       Label    Date  \n",
       "2084 2019-04-12 13:12:48      0            0  legitimate  Friday  "
      ]
     },
     "execution_count": 8,
     "metadata": {},
     "output_type": "execute_result"
    }
   ],
   "source": [
    "peak_time[\"Date\"] = peak_time[\"Time\"].dt.day_name()\n",
    "peak_time.sample()"
   ]
  },
  {
   "cell_type": "code",
   "execution_count": 9,
   "metadata": {},
   "outputs": [
    {
     "data": {
      "text/plain": [
       "0    23:06:24\n",
       "1    22:40:00\n",
       "2    02:50:06\n",
       "3    12:25:49\n",
       "4    16:00:05\n",
       "Name: Period, dtype: object"
      ]
     },
     "execution_count": 9,
     "metadata": {},
     "output_type": "execute_result"
    }
   ],
   "source": [
    "def time(date):\n",
    "    Time = date.time()\n",
    "    return Time\n",
    "\n",
    "peak_time['Period'] = times.map(time)\n",
    "peak_time['Period'].head()"
   ]
  },
  {
   "cell_type": "code",
   "execution_count": 47,
   "metadata": {},
   "outputs": [],
   "source": [
    "def time_groups(time):\n",
    "    if time >= datetime.time(0,0) and time <= datetime.time(1,0):\n",
    "        return '24:00 - 01:00'\n",
    "    elif time >= datetime.time(1,0) and time <= datetime.time(2,0):\n",
    "        return '01:00 - 02:00 '\n",
    "    elif time >= datetime.time(2,0) and time <= datetime.time(3,0):\n",
    "        return '02:00 - 03:00 '\n",
    "    elif time >= datetime.time(3,0) and time <= datetime.time(4,0):\n",
    "        return '03:00 - 04:00'\n",
    "    elif time >= datetime.time(4,0) and time <= datetime.time(5,0):\n",
    "        return '04:00 - 05:00'\n",
    "    elif time >= datetime.time(5,0) and time <= datetime.time(6,0):\n",
    "        return '05:00 - 06:00 '\n",
    "    elif time >= datetime.time(6,0) and time <= datetime.time(7,0):\n",
    "        return '06:00 - 07:00 '\n",
    "    elif time >= datetime.time(7,0) and time <= datetime.time(8,0):\n",
    "        return '07:00 - 08:00 '\n",
    "    elif time >= datetime.time(8,0) and time <= datetime.time(9,0):\n",
    "        return '08:00 - 09:00 '\n",
    "    elif time >= datetime.time(9,0) and time <= datetime.time(10,0):\n",
    "        return '09:00 - 10:00 '\n",
    "    elif time >= datetime.time(10,0) and time <= datetime.time(11,0):\n",
    "        return '10:00 - 11:00 '\n",
    "    elif time >= datetime.time(11,0) and time <= datetime.time(12,0):\n",
    "        return '11:00 - 12:00'\n",
    "    elif time >= datetime.time(12,0) and time <= datetime.time(13,0):\n",
    "        return '12:00 - 13:00'\n",
    "    elif time >= datetime.time(13,0) and time <= datetime.time(14,0):\n",
    "        return '13:00 - 14:00'\n",
    "    elif time >= datetime.time(14,0) and time <= datetime.time(15,0):\n",
    "        return '14:00 - 15:00'\n",
    "    elif time >= datetime.time(15,0) and time <= datetime.time(16,0):\n",
    "        return '15:00 - 16:00'\n",
    "    elif time >= datetime.time(16,0) and time <= datetime.time(17,0):\n",
    "        return '16:00 - 17:00'\n",
    "    elif time >= datetime.time(17,0) and time <= datetime.time(18,0):\n",
    "        return '17:00 - 18:00'\n",
    "    elif time >= datetime.time(18,0) and time <= datetime.time(19,0):\n",
    "        return '18:00 - 19:00'\n",
    "    elif time >= datetime.time(19,0) and time <= datetime.time(20,0):\n",
    "        return '19:00 - 20:00'\n",
    "    elif time >= datetime.time(20,0) and time <= datetime.time(21,0):\n",
    "        return '20:00 - 21:00'\n",
    "    elif time >= datetime.time(21,0) and time <= datetime.time(22,0):\n",
    "        return '21:00 - 22:00'\n",
    "    elif time >= datetime.time(22,0) and time <= datetime.time(23,0):\n",
    "        return '22:00 - 23:00'\n",
    "    else:\n",
    "        return '23:00 - 24:00'"
   ]
  },
  {
   "cell_type": "code",
   "execution_count": 11,
   "metadata": {},
   "outputs": [],
   "source": [
    "peak_time = peak_time.set_index(\"Period\")"
   ]
  },
  {
   "cell_type": "code",
   "execution_count": 13,
   "metadata": {},
   "outputs": [
    {
     "data": {
      "text/html": [
       "<div>\n",
       "<style scoped>\n",
       "    .dataframe tbody tr th:only-of-type {\n",
       "        vertical-align: middle;\n",
       "    }\n",
       "\n",
       "    .dataframe tbody tr th {\n",
       "        vertical-align: top;\n",
       "    }\n",
       "\n",
       "    .dataframe thead th {\n",
       "        text-align: right;\n",
       "    }\n",
       "</style>\n",
       "<table border=\"1\" class=\"dataframe\">\n",
       "  <thead>\n",
       "    <tr style=\"text-align: right;\">\n",
       "      <th></th>\n",
       "      <th>Video_Id</th>\n",
       "      <th>Tittle</th>\n",
       "      <th>Description</th>\n",
       "      <th>Name</th>\n",
       "      <th>Comment</th>\n",
       "      <th>Comment_Id</th>\n",
       "      <th>Time</th>\n",
       "      <th>Likes</th>\n",
       "      <th>Reply_Count</th>\n",
       "      <th>Label</th>\n",
       "      <th>Date</th>\n",
       "    </tr>\n",
       "    <tr>\n",
       "      <th>Period</th>\n",
       "      <th></th>\n",
       "      <th></th>\n",
       "      <th></th>\n",
       "      <th></th>\n",
       "      <th></th>\n",
       "      <th></th>\n",
       "      <th></th>\n",
       "      <th></th>\n",
       "      <th></th>\n",
       "      <th></th>\n",
       "      <th></th>\n",
       "    </tr>\n",
       "  </thead>\n",
       "  <tbody>\n",
       "    <tr>\n",
       "      <th>23:06:24</th>\n",
       "      <td>0iLgiRBQzzs</td>\n",
       "      <td>Panas! Jokowi VS Prabowo Saling Serang soal Ko...</td>\n",
       "      <td>Debat panas antara kedua pasangan calon presid...</td>\n",
       "      <td>Doharman Patimura Waruwu</td>\n",
       "      <td>https://youtu.be/LBKGyxnpMCU</td>\n",
       "      <td>Ugz-zdD0s87dSDzITuh4AaABAg</td>\n",
       "      <td>2019-01-17 23:06:24</td>\n",
       "      <td>0</td>\n",
       "      <td>0</td>\n",
       "      <td>spam</td>\n",
       "      <td>Thursday</td>\n",
       "    </tr>\n",
       "    <tr>\n",
       "      <th>22:40:00</th>\n",
       "      <td>AP0NACavjfk</td>\n",
       "      <td>SkinnyIndonesian24 | Prabowo VS Jokowi - Epic ...</td>\n",
       "      <td>SkinnyIndonesian24 ( Andovi da Lopez sebagai J...</td>\n",
       "      <td>Akiru Syakir</td>\n",
       "      <td>Bantu subscribe youtube gw dong</td>\n",
       "      <td>UgwQM2OHIzkVDtu0PIN4AaABAg</td>\n",
       "      <td>2019-04-10 22:40:00</td>\n",
       "      <td>0</td>\n",
       "      <td>0</td>\n",
       "      <td>spam</td>\n",
       "      <td>Wednesday</td>\n",
       "    </tr>\n",
       "    <tr>\n",
       "      <th>02:50:06</th>\n",
       "      <td>AP0NACavjfk</td>\n",
       "      <td>SkinnyIndonesian24 | Prabowo VS Jokowi - Epic ...</td>\n",
       "      <td>SkinnyIndonesian24 ( Andovi da Lopez sebagai J...</td>\n",
       "      <td>Teguh Wage Prakoso</td>\n",
       "      <td>hachimon tonkou, kalau buka gerbang ke 8 auto ...</td>\n",
       "      <td>Ugyh7dOOI2953Exf3cp4AaABAg.8tUY_eVh77e8tUhBosQJLg</td>\n",
       "      <td>2019-04-09 02:50:06</td>\n",
       "      <td>0</td>\n",
       "      <td>0</td>\n",
       "      <td>spam</td>\n",
       "      <td>Tuesday</td>\n",
       "    </tr>\n",
       "    <tr>\n",
       "      <th>12:25:49</th>\n",
       "      <td>AP0NACavjfk</td>\n",
       "      <td>SkinnyIndonesian24 | Prabowo VS Jokowi - Epic ...</td>\n",
       "      <td>SkinnyIndonesian24 ( Andovi da Lopez sebagai J...</td>\n",
       "      <td>hidayah</td>\n",
       "      <td>https://www.youtube.com/channel/UC_iQ1hcNxz1ir...</td>\n",
       "      <td>UgxA-h0VMWXoShPkFEZ4AaABAg</td>\n",
       "      <td>2019-04-10 12:25:49</td>\n",
       "      <td>0</td>\n",
       "      <td>0</td>\n",
       "      <td>spam</td>\n",
       "      <td>Wednesday</td>\n",
       "    </tr>\n",
       "    <tr>\n",
       "      <th>16:00:05</th>\n",
       "      <td>AP0NACavjfk</td>\n",
       "      <td>SkinnyIndonesian24 | Prabowo VS Jokowi - Epic ...</td>\n",
       "      <td>SkinnyIndonesian24 ( Andovi da Lopez sebagai J...</td>\n",
       "      <td>Derisma Ae</td>\n",
       "      <td>https://youtu.be/aS1FIPcCuh4 CH: Derisma ae, m...</td>\n",
       "      <td>UgybtnYbYjDF7YZJAdN4AaABAg</td>\n",
       "      <td>2019-04-15 16:00:05</td>\n",
       "      <td>0</td>\n",
       "      <td>0</td>\n",
       "      <td>spam</td>\n",
       "      <td>Monday</td>\n",
       "    </tr>\n",
       "    <tr>\n",
       "      <th>...</th>\n",
       "      <td>...</td>\n",
       "      <td>...</td>\n",
       "      <td>...</td>\n",
       "      <td>...</td>\n",
       "      <td>...</td>\n",
       "      <td>...</td>\n",
       "      <td>...</td>\n",
       "      <td>...</td>\n",
       "      <td>...</td>\n",
       "      <td>...</td>\n",
       "      <td>...</td>\n",
       "    </tr>\n",
       "    <tr>\n",
       "      <th>09:28:02</th>\n",
       "      <td>AP0NACavjfk</td>\n",
       "      <td>SkinnyIndonesian24 | Prabowo VS Jokowi - Epic ...</td>\n",
       "      <td>SkinnyIndonesian24 ( Andovi da Lopez sebagai J...</td>\n",
       "      <td>agus muliandri</td>\n",
       "      <td>Top</td>\n",
       "      <td>UgxG_8lxSoZduOAiE-54AaABAg.8tXxFBA8lZa8tXzXBaY73i</td>\n",
       "      <td>2019-04-10 09:28:02</td>\n",
       "      <td>0</td>\n",
       "      <td>0</td>\n",
       "      <td>legitimate</td>\n",
       "      <td>Wednesday</td>\n",
       "    </tr>\n",
       "    <tr>\n",
       "      <th>11:43:58</th>\n",
       "      <td>AP0NACavjfk</td>\n",
       "      <td>SkinnyIndonesian24 | Prabowo VS Jokowi - Epic ...</td>\n",
       "      <td>SkinnyIndonesian24 ( Andovi da Lopez sebagai J...</td>\n",
       "      <td>EXE HUMAN</td>\n",
       "      <td>Creator senior memang beda ya 😎</td>\n",
       "      <td>Ugx4Ep3GEADS4c_w5YF4AaABAg</td>\n",
       "      <td>2019-04-09 11:43:58</td>\n",
       "      <td>0</td>\n",
       "      <td>0</td>\n",
       "      <td>legitimate</td>\n",
       "      <td>Tuesday</td>\n",
       "    </tr>\n",
       "    <tr>\n",
       "      <th>13:48:07</th>\n",
       "      <td>AP0NACavjfk</td>\n",
       "      <td>SkinnyIndonesian24 | Prabowo VS Jokowi - Epic ...</td>\n",
       "      <td>SkinnyIndonesian24 ( Andovi da Lopez sebagai J...</td>\n",
       "      <td>Ni Luh Ayu Sibang Sri Padmayanti_056</td>\n",
       "      <td>Keunggulan dan kekurangan nge buat kita semua ...</td>\n",
       "      <td>UgzltfmrOp2dr3DbCPx4AaABAg</td>\n",
       "      <td>2019-04-11 13:48:07</td>\n",
       "      <td>0</td>\n",
       "      <td>0</td>\n",
       "      <td>legitimate</td>\n",
       "      <td>Thursday</td>\n",
       "    </tr>\n",
       "    <tr>\n",
       "      <th>10:20:06</th>\n",
       "      <td>AP0NACavjfk</td>\n",
       "      <td>SkinnyIndonesian24 | Prabowo VS Jokowi - Epic ...</td>\n",
       "      <td>SkinnyIndonesian24 ( Andovi da Lopez sebagai J...</td>\n",
       "      <td>Brigita Deya 183</td>\n",
       "      <td>Keren parahhh</td>\n",
       "      <td>UgyaAGTI4x4ta4TE1cF4AaABAg</td>\n",
       "      <td>2019-04-09 10:20:06</td>\n",
       "      <td>0</td>\n",
       "      <td>0</td>\n",
       "      <td>legitimate</td>\n",
       "      <td>Tuesday</td>\n",
       "    </tr>\n",
       "    <tr>\n",
       "      <th>12:59:00</th>\n",
       "      <td>AP0NACavjfk</td>\n",
       "      <td>SkinnyIndonesian24 | Prabowo VS Jokowi - Epic ...</td>\n",
       "      <td>SkinnyIndonesian24 ( Andovi da Lopez sebagai J...</td>\n",
       "      <td>Carl</td>\n",
       "      <td>MEREKA HARUS NONTON NIH</td>\n",
       "      <td>Ugz4K70s5tZHaG_LkIl4AaABAg</td>\n",
       "      <td>2019-04-08 12:59:00</td>\n",
       "      <td>0</td>\n",
       "      <td>0</td>\n",
       "      <td>legitimate</td>\n",
       "      <td>Monday</td>\n",
       "    </tr>\n",
       "  </tbody>\n",
       "</table>\n",
       "<p>3000 rows × 11 columns</p>\n",
       "</div>"
      ],
      "text/plain": [
       "             Video_Id                                             Tittle  \\\n",
       "Period                                                                     \n",
       "23:06:24  0iLgiRBQzzs  Panas! Jokowi VS Prabowo Saling Serang soal Ko...   \n",
       "22:40:00  AP0NACavjfk  SkinnyIndonesian24 | Prabowo VS Jokowi - Epic ...   \n",
       "02:50:06  AP0NACavjfk  SkinnyIndonesian24 | Prabowo VS Jokowi - Epic ...   \n",
       "12:25:49  AP0NACavjfk  SkinnyIndonesian24 | Prabowo VS Jokowi - Epic ...   \n",
       "16:00:05  AP0NACavjfk  SkinnyIndonesian24 | Prabowo VS Jokowi - Epic ...   \n",
       "...               ...                                                ...   \n",
       "09:28:02  AP0NACavjfk  SkinnyIndonesian24 | Prabowo VS Jokowi - Epic ...   \n",
       "11:43:58  AP0NACavjfk  SkinnyIndonesian24 | Prabowo VS Jokowi - Epic ...   \n",
       "13:48:07  AP0NACavjfk  SkinnyIndonesian24 | Prabowo VS Jokowi - Epic ...   \n",
       "10:20:06  AP0NACavjfk  SkinnyIndonesian24 | Prabowo VS Jokowi - Epic ...   \n",
       "12:59:00  AP0NACavjfk  SkinnyIndonesian24 | Prabowo VS Jokowi - Epic ...   \n",
       "\n",
       "                                                Description  \\\n",
       "Period                                                        \n",
       "23:06:24  Debat panas antara kedua pasangan calon presid...   \n",
       "22:40:00  SkinnyIndonesian24 ( Andovi da Lopez sebagai J...   \n",
       "02:50:06  SkinnyIndonesian24 ( Andovi da Lopez sebagai J...   \n",
       "12:25:49  SkinnyIndonesian24 ( Andovi da Lopez sebagai J...   \n",
       "16:00:05  SkinnyIndonesian24 ( Andovi da Lopez sebagai J...   \n",
       "...                                                     ...   \n",
       "09:28:02  SkinnyIndonesian24 ( Andovi da Lopez sebagai J...   \n",
       "11:43:58  SkinnyIndonesian24 ( Andovi da Lopez sebagai J...   \n",
       "13:48:07  SkinnyIndonesian24 ( Andovi da Lopez sebagai J...   \n",
       "10:20:06  SkinnyIndonesian24 ( Andovi da Lopez sebagai J...   \n",
       "12:59:00  SkinnyIndonesian24 ( Andovi da Lopez sebagai J...   \n",
       "\n",
       "                                          Name  \\\n",
       "Period                                           \n",
       "23:06:24              Doharman Patimura Waruwu   \n",
       "22:40:00                          Akiru Syakir   \n",
       "02:50:06                    Teguh Wage Prakoso   \n",
       "12:25:49                               hidayah   \n",
       "16:00:05                            Derisma Ae   \n",
       "...                                        ...   \n",
       "09:28:02                        agus muliandri   \n",
       "11:43:58                             EXE HUMAN   \n",
       "13:48:07  Ni Luh Ayu Sibang Sri Padmayanti_056   \n",
       "10:20:06                      Brigita Deya 183   \n",
       "12:59:00                                  Carl   \n",
       "\n",
       "                                                    Comment  \\\n",
       "Period                                                        \n",
       "23:06:24                       https://youtu.be/LBKGyxnpMCU   \n",
       "22:40:00                    Bantu subscribe youtube gw dong   \n",
       "02:50:06  hachimon tonkou, kalau buka gerbang ke 8 auto ...   \n",
       "12:25:49  https://www.youtube.com/channel/UC_iQ1hcNxz1ir...   \n",
       "16:00:05  https://youtu.be/aS1FIPcCuh4 CH: Derisma ae, m...   \n",
       "...                                                     ...   \n",
       "09:28:02                                                Top   \n",
       "11:43:58                    Creator senior memang beda ya 😎   \n",
       "13:48:07  Keunggulan dan kekurangan nge buat kita semua ...   \n",
       "10:20:06                                      Keren parahhh   \n",
       "12:59:00                            MEREKA HARUS NONTON NIH   \n",
       "\n",
       "                                                 Comment_Id  \\\n",
       "Period                                                        \n",
       "23:06:24                         Ugz-zdD0s87dSDzITuh4AaABAg   \n",
       "22:40:00                         UgwQM2OHIzkVDtu0PIN4AaABAg   \n",
       "02:50:06  Ugyh7dOOI2953Exf3cp4AaABAg.8tUY_eVh77e8tUhBosQJLg   \n",
       "12:25:49                         UgxA-h0VMWXoShPkFEZ4AaABAg   \n",
       "16:00:05                         UgybtnYbYjDF7YZJAdN4AaABAg   \n",
       "...                                                     ...   \n",
       "09:28:02  UgxG_8lxSoZduOAiE-54AaABAg.8tXxFBA8lZa8tXzXBaY73i   \n",
       "11:43:58                         Ugx4Ep3GEADS4c_w5YF4AaABAg   \n",
       "13:48:07                         UgzltfmrOp2dr3DbCPx4AaABAg   \n",
       "10:20:06                         UgyaAGTI4x4ta4TE1cF4AaABAg   \n",
       "12:59:00                         Ugz4K70s5tZHaG_LkIl4AaABAg   \n",
       "\n",
       "                        Time  Likes  Reply_Count       Label       Date  \n",
       "Period                                                                   \n",
       "23:06:24 2019-01-17 23:06:24      0            0        spam   Thursday  \n",
       "22:40:00 2019-04-10 22:40:00      0            0        spam  Wednesday  \n",
       "02:50:06 2019-04-09 02:50:06      0            0        spam    Tuesday  \n",
       "12:25:49 2019-04-10 12:25:49      0            0        spam  Wednesday  \n",
       "16:00:05 2019-04-15 16:00:05      0            0        spam     Monday  \n",
       "...                      ...    ...          ...         ...        ...  \n",
       "09:28:02 2019-04-10 09:28:02      0            0  legitimate  Wednesday  \n",
       "11:43:58 2019-04-09 11:43:58      0            0  legitimate    Tuesday  \n",
       "13:48:07 2019-04-11 13:48:07      0            0  legitimate   Thursday  \n",
       "10:20:06 2019-04-09 10:20:06      0            0  legitimate    Tuesday  \n",
       "12:59:00 2019-04-08 12:59:00      0            0  legitimate     Monday  \n",
       "\n",
       "[3000 rows x 11 columns]"
      ]
     },
     "execution_count": 13,
     "metadata": {},
     "output_type": "execute_result"
    }
   ],
   "source": [
    "peak_time"
   ]
  },
  {
   "cell_type": "code",
   "execution_count": 48,
   "metadata": {},
   "outputs": [
    {
     "data": {
      "text/html": [
       "<div>\n",
       "<style scoped>\n",
       "    .dataframe tbody tr th:only-of-type {\n",
       "        vertical-align: middle;\n",
       "    }\n",
       "\n",
       "    .dataframe tbody tr th {\n",
       "        vertical-align: top;\n",
       "    }\n",
       "\n",
       "    .dataframe thead th {\n",
       "        text-align: right;\n",
       "    }\n",
       "</style>\n",
       "<table border=\"1\" class=\"dataframe\">\n",
       "  <thead>\n",
       "    <tr style=\"text-align: right;\">\n",
       "      <th></th>\n",
       "      <th>Video_Id</th>\n",
       "      <th>Tittle</th>\n",
       "      <th>Description</th>\n",
       "      <th>Name</th>\n",
       "      <th>Comment</th>\n",
       "      <th>Comment_Id</th>\n",
       "      <th>Time</th>\n",
       "      <th>Likes</th>\n",
       "      <th>Reply_Count</th>\n",
       "      <th>Label</th>\n",
       "      <th>Date</th>\n",
       "      <th>Period</th>\n",
       "      <th>Period_groups</th>\n",
       "    </tr>\n",
       "  </thead>\n",
       "  <tbody>\n",
       "    <tr>\n",
       "      <th>1005</th>\n",
       "      <td>AP0NACavjfk</td>\n",
       "      <td>SkinnyIndonesian24 | Prabowo VS Jokowi - Epic ...</td>\n",
       "      <td>SkinnyIndonesian24 ( Andovi da Lopez sebagai J...</td>\n",
       "      <td>Ramadhan Dwi Saputra</td>\n",
       "      <td>https://youtu.be/Kbryz0mxuMY\\nMungkin bisa dib...</td>\n",
       "      <td>UgzZeqksPq3jn_s8Ffh4AaABAg</td>\n",
       "      <td>2019-04-08 14:02:55</td>\n",
       "      <td>0</td>\n",
       "      <td>0</td>\n",
       "      <td>spam</td>\n",
       "      <td>Monday</td>\n",
       "      <td>14:02:55</td>\n",
       "      <td>14:00 - 15:00</td>\n",
       "    </tr>\n",
       "  </tbody>\n",
       "</table>\n",
       "</div>"
      ],
      "text/plain": [
       "         Video_Id                                             Tittle  \\\n",
       "1005  AP0NACavjfk  SkinnyIndonesian24 | Prabowo VS Jokowi - Epic ...   \n",
       "\n",
       "                                            Description                  Name  \\\n",
       "1005  SkinnyIndonesian24 ( Andovi da Lopez sebagai J...  Ramadhan Dwi Saputra   \n",
       "\n",
       "                                                Comment  \\\n",
       "1005  https://youtu.be/Kbryz0mxuMY\\nMungkin bisa dib...   \n",
       "\n",
       "                      Comment_Id                Time  Likes  Reply_Count  \\\n",
       "1005  UgzZeqksPq3jn_s8Ffh4AaABAg 2019-04-08 14:02:55      0            0   \n",
       "\n",
       "     Label    Date    Period  Period_groups  \n",
       "1005  spam  Monday  14:02:55  14:00 - 15:00  "
      ]
     },
     "execution_count": 48,
     "metadata": {},
     "output_type": "execute_result"
    }
   ],
   "source": [
    "peak_time[\"Period_groups\"] = peak_time['Period'].map(time_groups)\n",
    "peak_time.sample()"
   ]
  },
  {
   "cell_type": "code",
   "execution_count": 54,
   "metadata": {},
   "outputs": [],
   "source": [
    "LabelTime = peak_time.groupby(['Period_groups', 'Label']).size().reset_index(name='counts')\\\n",
    "                            .sort_values(['Period_groups'], ascending=False)"
   ]
  },
  {
   "cell_type": "code",
   "execution_count": 67,
   "metadata": {},
   "outputs": [
    {
     "data": {
      "application/vnd.plotly.v1+json": {
       "config": {
        "plotlyServerURL": "https://plot.ly"
       },
       "data": [
        {
         "hovertemplate": "Label=spam<br>Period_groups=%{x}<br>Total=%{y}<extra></extra>",
         "legendgroup": "spam",
         "line": {
          "color": "#636efa",
          "dash": "solid"
         },
         "marker": {
          "symbol": "circle"
         },
         "mode": "lines",
         "name": "spam",
         "orientation": "v",
         "showlegend": true,
         "type": "scatter",
         "x": [
          "24:00 - 01:00",
          "23:00 - 24:00",
          "22:00 - 23:00",
          "21:00 - 22:00",
          "20:00 - 21:00",
          "19:00 - 20:00",
          "18:00 - 19:00",
          "17:00 - 18:00",
          "16:00 - 17:00",
          "15:00 - 16:00",
          "14:00 - 15:00",
          "13:00 - 14:00",
          "12:00 - 13:00",
          "11:00 - 12:00",
          "10:00 - 11:00 ",
          "09:00 - 10:00 ",
          "08:00 - 09:00 ",
          "07:00 - 08:00 ",
          "06:00 - 07:00 ",
          "05:00 - 06:00 ",
          "04:00 - 05:00",
          "03:00 - 04:00",
          "02:00 - 03:00 ",
          "01:00 - 02:00 "
         ],
         "xaxis": "x",
         "y": [
          37,
          45,
          21,
          13,
          29,
          34,
          36,
          56,
          67,
          72,
          79,
          83,
          86,
          68,
          56,
          77,
          61,
          66,
          54,
          64,
          47,
          63,
          44,
          46
         ],
         "yaxis": "y"
        },
        {
         "hovertemplate": "Label=legitimate<br>Period_groups=%{x}<br>Total=%{y}<extra></extra>",
         "legendgroup": "legitimate",
         "line": {
          "color": "#EF553B",
          "dash": "solid"
         },
         "marker": {
          "symbol": "circle"
         },
         "mode": "lines",
         "name": "legitimate",
         "orientation": "v",
         "showlegend": true,
         "type": "scatter",
         "x": [
          "24:00 - 01:00",
          "23:00 - 24:00",
          "22:00 - 23:00",
          "21:00 - 22:00",
          "20:00 - 21:00",
          "19:00 - 20:00",
          "18:00 - 19:00",
          "17:00 - 18:00",
          "16:00 - 17:00",
          "15:00 - 16:00",
          "14:00 - 15:00",
          "13:00 - 14:00",
          "12:00 - 13:00",
          "11:00 - 12:00",
          "10:00 - 11:00 ",
          "09:00 - 10:00 ",
          "08:00 - 09:00 ",
          "07:00 - 08:00 ",
          "06:00 - 07:00 ",
          "05:00 - 06:00 ",
          "04:00 - 05:00",
          "03:00 - 04:00",
          "02:00 - 03:00 ",
          "01:00 - 02:00 "
         ],
         "xaxis": "x",
         "y": [
          48,
          38,
          25,
          20,
          21,
          24,
          50,
          57,
          64,
          106,
          121,
          127,
          90,
          92,
          95,
          93,
          88,
          83,
          88,
          83,
          82,
          80,
          62,
          59
         ],
         "yaxis": "y"
        }
       ],
       "layout": {
        "height": 400,
        "legend": {
         "title": {
          "text": "Label"
         },
         "tracegroupgap": 0
        },
        "template": {
         "data": {
          "bar": [
           {
            "error_x": {
             "color": "#2a3f5f"
            },
            "error_y": {
             "color": "#2a3f5f"
            },
            "marker": {
             "line": {
              "color": "#E5ECF6",
              "width": 0.5
             },
             "pattern": {
              "fillmode": "overlay",
              "size": 10,
              "solidity": 0.2
             }
            },
            "type": "bar"
           }
          ],
          "barpolar": [
           {
            "marker": {
             "line": {
              "color": "#E5ECF6",
              "width": 0.5
             },
             "pattern": {
              "fillmode": "overlay",
              "size": 10,
              "solidity": 0.2
             }
            },
            "type": "barpolar"
           }
          ],
          "carpet": [
           {
            "aaxis": {
             "endlinecolor": "#2a3f5f",
             "gridcolor": "white",
             "linecolor": "white",
             "minorgridcolor": "white",
             "startlinecolor": "#2a3f5f"
            },
            "baxis": {
             "endlinecolor": "#2a3f5f",
             "gridcolor": "white",
             "linecolor": "white",
             "minorgridcolor": "white",
             "startlinecolor": "#2a3f5f"
            },
            "type": "carpet"
           }
          ],
          "choropleth": [
           {
            "colorbar": {
             "outlinewidth": 0,
             "ticks": ""
            },
            "type": "choropleth"
           }
          ],
          "contour": [
           {
            "colorbar": {
             "outlinewidth": 0,
             "ticks": ""
            },
            "colorscale": [
             [
              0,
              "#0d0887"
             ],
             [
              0.1111111111111111,
              "#46039f"
             ],
             [
              0.2222222222222222,
              "#7201a8"
             ],
             [
              0.3333333333333333,
              "#9c179e"
             ],
             [
              0.4444444444444444,
              "#bd3786"
             ],
             [
              0.5555555555555556,
              "#d8576b"
             ],
             [
              0.6666666666666666,
              "#ed7953"
             ],
             [
              0.7777777777777778,
              "#fb9f3a"
             ],
             [
              0.8888888888888888,
              "#fdca26"
             ],
             [
              1,
              "#f0f921"
             ]
            ],
            "type": "contour"
           }
          ],
          "contourcarpet": [
           {
            "colorbar": {
             "outlinewidth": 0,
             "ticks": ""
            },
            "type": "contourcarpet"
           }
          ],
          "heatmap": [
           {
            "colorbar": {
             "outlinewidth": 0,
             "ticks": ""
            },
            "colorscale": [
             [
              0,
              "#0d0887"
             ],
             [
              0.1111111111111111,
              "#46039f"
             ],
             [
              0.2222222222222222,
              "#7201a8"
             ],
             [
              0.3333333333333333,
              "#9c179e"
             ],
             [
              0.4444444444444444,
              "#bd3786"
             ],
             [
              0.5555555555555556,
              "#d8576b"
             ],
             [
              0.6666666666666666,
              "#ed7953"
             ],
             [
              0.7777777777777778,
              "#fb9f3a"
             ],
             [
              0.8888888888888888,
              "#fdca26"
             ],
             [
              1,
              "#f0f921"
             ]
            ],
            "type": "heatmap"
           }
          ],
          "heatmapgl": [
           {
            "colorbar": {
             "outlinewidth": 0,
             "ticks": ""
            },
            "colorscale": [
             [
              0,
              "#0d0887"
             ],
             [
              0.1111111111111111,
              "#46039f"
             ],
             [
              0.2222222222222222,
              "#7201a8"
             ],
             [
              0.3333333333333333,
              "#9c179e"
             ],
             [
              0.4444444444444444,
              "#bd3786"
             ],
             [
              0.5555555555555556,
              "#d8576b"
             ],
             [
              0.6666666666666666,
              "#ed7953"
             ],
             [
              0.7777777777777778,
              "#fb9f3a"
             ],
             [
              0.8888888888888888,
              "#fdca26"
             ],
             [
              1,
              "#f0f921"
             ]
            ],
            "type": "heatmapgl"
           }
          ],
          "histogram": [
           {
            "marker": {
             "pattern": {
              "fillmode": "overlay",
              "size": 10,
              "solidity": 0.2
             }
            },
            "type": "histogram"
           }
          ],
          "histogram2d": [
           {
            "colorbar": {
             "outlinewidth": 0,
             "ticks": ""
            },
            "colorscale": [
             [
              0,
              "#0d0887"
             ],
             [
              0.1111111111111111,
              "#46039f"
             ],
             [
              0.2222222222222222,
              "#7201a8"
             ],
             [
              0.3333333333333333,
              "#9c179e"
             ],
             [
              0.4444444444444444,
              "#bd3786"
             ],
             [
              0.5555555555555556,
              "#d8576b"
             ],
             [
              0.6666666666666666,
              "#ed7953"
             ],
             [
              0.7777777777777778,
              "#fb9f3a"
             ],
             [
              0.8888888888888888,
              "#fdca26"
             ],
             [
              1,
              "#f0f921"
             ]
            ],
            "type": "histogram2d"
           }
          ],
          "histogram2dcontour": [
           {
            "colorbar": {
             "outlinewidth": 0,
             "ticks": ""
            },
            "colorscale": [
             [
              0,
              "#0d0887"
             ],
             [
              0.1111111111111111,
              "#46039f"
             ],
             [
              0.2222222222222222,
              "#7201a8"
             ],
             [
              0.3333333333333333,
              "#9c179e"
             ],
             [
              0.4444444444444444,
              "#bd3786"
             ],
             [
              0.5555555555555556,
              "#d8576b"
             ],
             [
              0.6666666666666666,
              "#ed7953"
             ],
             [
              0.7777777777777778,
              "#fb9f3a"
             ],
             [
              0.8888888888888888,
              "#fdca26"
             ],
             [
              1,
              "#f0f921"
             ]
            ],
            "type": "histogram2dcontour"
           }
          ],
          "mesh3d": [
           {
            "colorbar": {
             "outlinewidth": 0,
             "ticks": ""
            },
            "type": "mesh3d"
           }
          ],
          "parcoords": [
           {
            "line": {
             "colorbar": {
              "outlinewidth": 0,
              "ticks": ""
             }
            },
            "type": "parcoords"
           }
          ],
          "pie": [
           {
            "automargin": true,
            "type": "pie"
           }
          ],
          "scatter": [
           {
            "fillpattern": {
             "fillmode": "overlay",
             "size": 10,
             "solidity": 0.2
            },
            "type": "scatter"
           }
          ],
          "scatter3d": [
           {
            "line": {
             "colorbar": {
              "outlinewidth": 0,
              "ticks": ""
             }
            },
            "marker": {
             "colorbar": {
              "outlinewidth": 0,
              "ticks": ""
             }
            },
            "type": "scatter3d"
           }
          ],
          "scattercarpet": [
           {
            "marker": {
             "colorbar": {
              "outlinewidth": 0,
              "ticks": ""
             }
            },
            "type": "scattercarpet"
           }
          ],
          "scattergeo": [
           {
            "marker": {
             "colorbar": {
              "outlinewidth": 0,
              "ticks": ""
             }
            },
            "type": "scattergeo"
           }
          ],
          "scattergl": [
           {
            "marker": {
             "colorbar": {
              "outlinewidth": 0,
              "ticks": ""
             }
            },
            "type": "scattergl"
           }
          ],
          "scattermapbox": [
           {
            "marker": {
             "colorbar": {
              "outlinewidth": 0,
              "ticks": ""
             }
            },
            "type": "scattermapbox"
           }
          ],
          "scatterpolar": [
           {
            "marker": {
             "colorbar": {
              "outlinewidth": 0,
              "ticks": ""
             }
            },
            "type": "scatterpolar"
           }
          ],
          "scatterpolargl": [
           {
            "marker": {
             "colorbar": {
              "outlinewidth": 0,
              "ticks": ""
             }
            },
            "type": "scatterpolargl"
           }
          ],
          "scatterternary": [
           {
            "marker": {
             "colorbar": {
              "outlinewidth": 0,
              "ticks": ""
             }
            },
            "type": "scatterternary"
           }
          ],
          "surface": [
           {
            "colorbar": {
             "outlinewidth": 0,
             "ticks": ""
            },
            "colorscale": [
             [
              0,
              "#0d0887"
             ],
             [
              0.1111111111111111,
              "#46039f"
             ],
             [
              0.2222222222222222,
              "#7201a8"
             ],
             [
              0.3333333333333333,
              "#9c179e"
             ],
             [
              0.4444444444444444,
              "#bd3786"
             ],
             [
              0.5555555555555556,
              "#d8576b"
             ],
             [
              0.6666666666666666,
              "#ed7953"
             ],
             [
              0.7777777777777778,
              "#fb9f3a"
             ],
             [
              0.8888888888888888,
              "#fdca26"
             ],
             [
              1,
              "#f0f921"
             ]
            ],
            "type": "surface"
           }
          ],
          "table": [
           {
            "cells": {
             "fill": {
              "color": "#EBF0F8"
             },
             "line": {
              "color": "white"
             }
            },
            "header": {
             "fill": {
              "color": "#C8D4E3"
             },
             "line": {
              "color": "white"
             }
            },
            "type": "table"
           }
          ]
         },
         "layout": {
          "annotationdefaults": {
           "arrowcolor": "#2a3f5f",
           "arrowhead": 0,
           "arrowwidth": 1
          },
          "autotypenumbers": "strict",
          "coloraxis": {
           "colorbar": {
            "outlinewidth": 0,
            "ticks": ""
           }
          },
          "colorscale": {
           "diverging": [
            [
             0,
             "#8e0152"
            ],
            [
             0.1,
             "#c51b7d"
            ],
            [
             0.2,
             "#de77ae"
            ],
            [
             0.3,
             "#f1b6da"
            ],
            [
             0.4,
             "#fde0ef"
            ],
            [
             0.5,
             "#f7f7f7"
            ],
            [
             0.6,
             "#e6f5d0"
            ],
            [
             0.7,
             "#b8e186"
            ],
            [
             0.8,
             "#7fbc41"
            ],
            [
             0.9,
             "#4d9221"
            ],
            [
             1,
             "#276419"
            ]
           ],
           "sequential": [
            [
             0,
             "#0d0887"
            ],
            [
             0.1111111111111111,
             "#46039f"
            ],
            [
             0.2222222222222222,
             "#7201a8"
            ],
            [
             0.3333333333333333,
             "#9c179e"
            ],
            [
             0.4444444444444444,
             "#bd3786"
            ],
            [
             0.5555555555555556,
             "#d8576b"
            ],
            [
             0.6666666666666666,
             "#ed7953"
            ],
            [
             0.7777777777777778,
             "#fb9f3a"
            ],
            [
             0.8888888888888888,
             "#fdca26"
            ],
            [
             1,
             "#f0f921"
            ]
           ],
           "sequentialminus": [
            [
             0,
             "#0d0887"
            ],
            [
             0.1111111111111111,
             "#46039f"
            ],
            [
             0.2222222222222222,
             "#7201a8"
            ],
            [
             0.3333333333333333,
             "#9c179e"
            ],
            [
             0.4444444444444444,
             "#bd3786"
            ],
            [
             0.5555555555555556,
             "#d8576b"
            ],
            [
             0.6666666666666666,
             "#ed7953"
            ],
            [
             0.7777777777777778,
             "#fb9f3a"
            ],
            [
             0.8888888888888888,
             "#fdca26"
            ],
            [
             1,
             "#f0f921"
            ]
           ]
          },
          "colorway": [
           "#636efa",
           "#EF553B",
           "#00cc96",
           "#ab63fa",
           "#FFA15A",
           "#19d3f3",
           "#FF6692",
           "#B6E880",
           "#FF97FF",
           "#FECB52"
          ],
          "font": {
           "color": "#2a3f5f"
          },
          "geo": {
           "bgcolor": "white",
           "lakecolor": "white",
           "landcolor": "#E5ECF6",
           "showlakes": true,
           "showland": true,
           "subunitcolor": "white"
          },
          "hoverlabel": {
           "align": "left"
          },
          "hovermode": "closest",
          "mapbox": {
           "style": "light"
          },
          "paper_bgcolor": "white",
          "plot_bgcolor": "#E5ECF6",
          "polar": {
           "angularaxis": {
            "gridcolor": "white",
            "linecolor": "white",
            "ticks": ""
           },
           "bgcolor": "#E5ECF6",
           "radialaxis": {
            "gridcolor": "white",
            "linecolor": "white",
            "ticks": ""
           }
          },
          "scene": {
           "xaxis": {
            "backgroundcolor": "#E5ECF6",
            "gridcolor": "white",
            "gridwidth": 2,
            "linecolor": "white",
            "showbackground": true,
            "ticks": "",
            "zerolinecolor": "white"
           },
           "yaxis": {
            "backgroundcolor": "#E5ECF6",
            "gridcolor": "white",
            "gridwidth": 2,
            "linecolor": "white",
            "showbackground": true,
            "ticks": "",
            "zerolinecolor": "white"
           },
           "zaxis": {
            "backgroundcolor": "#E5ECF6",
            "gridcolor": "white",
            "gridwidth": 2,
            "linecolor": "white",
            "showbackground": true,
            "ticks": "",
            "zerolinecolor": "white"
           }
          },
          "shapedefaults": {
           "line": {
            "color": "#2a3f5f"
           }
          },
          "ternary": {
           "aaxis": {
            "gridcolor": "white",
            "linecolor": "white",
            "ticks": ""
           },
           "baxis": {
            "gridcolor": "white",
            "linecolor": "white",
            "ticks": ""
           },
           "bgcolor": "#E5ECF6",
           "caxis": {
            "gridcolor": "white",
            "linecolor": "white",
            "ticks": ""
           }
          },
          "title": {
           "x": 0.05
          },
          "xaxis": {
           "automargin": true,
           "gridcolor": "white",
           "linecolor": "white",
           "ticks": "",
           "title": {
            "standoff": 15
           },
           "zerolinecolor": "white",
           "zerolinewidth": 2
          },
          "yaxis": {
           "automargin": true,
           "gridcolor": "white",
           "linecolor": "white",
           "ticks": "",
           "title": {
            "standoff": 15
           },
           "zerolinecolor": "white",
           "zerolinewidth": 2
          }
         }
        },
        "title": {
         "text": "Peak Time Comments Based on Label"
        },
        "width": 1000,
        "xaxis": {
         "anchor": "y",
         "domain": [
          0,
          1
         ],
         "title": {
          "text": "Period_groups"
         }
        },
        "yaxis": {
         "anchor": "x",
         "domain": [
          0,
          1
         ],
         "title": {
          "text": "Total"
         }
        }
       }
      }
     },
     "metadata": {},
     "output_type": "display_data"
    }
   ],
   "source": [
    "LabelTime = LabelTime.rename(columns={'counts':'Total'})\n",
    "fig2 = px.line(LabelTime, x='Period_groups', y='Total', \n",
    "              color='Label', title = 'Peak Time Comments Based on Label', width=1000, height=400)\n",
    "fig2.show()"
   ]
  },
  {
   "cell_type": "code",
   "execution_count": 68,
   "metadata": {},
   "outputs": [],
   "source": [
    "LabelDay = peak_time.groupby(['Date', 'Label']).size().reset_index(name='counts')\\\n",
    "                            .sort_values(['Date'], ascending=False)"
   ]
  },
  {
   "cell_type": "code",
   "execution_count": 69,
   "metadata": {},
   "outputs": [
    {
     "data": {
      "application/vnd.plotly.v1+json": {
       "config": {
        "plotlyServerURL": "https://plot.ly"
       },
       "data": [
        {
         "hovertemplate": "Label=legitimate<br>Date=%{x}<br>Total=%{y}<extra></extra>",
         "legendgroup": "legitimate",
         "line": {
          "color": "#636efa",
          "dash": "solid"
         },
         "marker": {
          "symbol": "circle"
         },
         "mode": "lines",
         "name": "legitimate",
         "orientation": "v",
         "showlegend": true,
         "type": "scatter",
         "x": [
          "Wednesday",
          "Tuesday",
          "Thursday",
          "Sunday",
          "Saturday",
          "Monday",
          "Friday"
         ],
         "xaxis": "x",
         "y": [
          290,
          427,
          211,
          144,
          170,
          257,
          197
         ],
         "yaxis": "y"
        },
        {
         "hovertemplate": "Label=spam<br>Date=%{x}<br>Total=%{y}<extra></extra>",
         "legendgroup": "spam",
         "line": {
          "color": "#EF553B",
          "dash": "solid"
         },
         "marker": {
          "symbol": "circle"
         },
         "mode": "lines",
         "name": "spam",
         "orientation": "v",
         "showlegend": true,
         "type": "scatter",
         "x": [
          "Wednesday",
          "Tuesday",
          "Thursday",
          "Sunday",
          "Saturday",
          "Monday",
          "Friday"
         ],
         "xaxis": "x",
         "y": [
          244,
          261,
          206,
          128,
          151,
          158,
          156
         ],
         "yaxis": "y"
        }
       ],
       "layout": {
        "height": 400,
        "legend": {
         "title": {
          "text": "Label"
         },
         "tracegroupgap": 0
        },
        "template": {
         "data": {
          "bar": [
           {
            "error_x": {
             "color": "#2a3f5f"
            },
            "error_y": {
             "color": "#2a3f5f"
            },
            "marker": {
             "line": {
              "color": "#E5ECF6",
              "width": 0.5
             },
             "pattern": {
              "fillmode": "overlay",
              "size": 10,
              "solidity": 0.2
             }
            },
            "type": "bar"
           }
          ],
          "barpolar": [
           {
            "marker": {
             "line": {
              "color": "#E5ECF6",
              "width": 0.5
             },
             "pattern": {
              "fillmode": "overlay",
              "size": 10,
              "solidity": 0.2
             }
            },
            "type": "barpolar"
           }
          ],
          "carpet": [
           {
            "aaxis": {
             "endlinecolor": "#2a3f5f",
             "gridcolor": "white",
             "linecolor": "white",
             "minorgridcolor": "white",
             "startlinecolor": "#2a3f5f"
            },
            "baxis": {
             "endlinecolor": "#2a3f5f",
             "gridcolor": "white",
             "linecolor": "white",
             "minorgridcolor": "white",
             "startlinecolor": "#2a3f5f"
            },
            "type": "carpet"
           }
          ],
          "choropleth": [
           {
            "colorbar": {
             "outlinewidth": 0,
             "ticks": ""
            },
            "type": "choropleth"
           }
          ],
          "contour": [
           {
            "colorbar": {
             "outlinewidth": 0,
             "ticks": ""
            },
            "colorscale": [
             [
              0,
              "#0d0887"
             ],
             [
              0.1111111111111111,
              "#46039f"
             ],
             [
              0.2222222222222222,
              "#7201a8"
             ],
             [
              0.3333333333333333,
              "#9c179e"
             ],
             [
              0.4444444444444444,
              "#bd3786"
             ],
             [
              0.5555555555555556,
              "#d8576b"
             ],
             [
              0.6666666666666666,
              "#ed7953"
             ],
             [
              0.7777777777777778,
              "#fb9f3a"
             ],
             [
              0.8888888888888888,
              "#fdca26"
             ],
             [
              1,
              "#f0f921"
             ]
            ],
            "type": "contour"
           }
          ],
          "contourcarpet": [
           {
            "colorbar": {
             "outlinewidth": 0,
             "ticks": ""
            },
            "type": "contourcarpet"
           }
          ],
          "heatmap": [
           {
            "colorbar": {
             "outlinewidth": 0,
             "ticks": ""
            },
            "colorscale": [
             [
              0,
              "#0d0887"
             ],
             [
              0.1111111111111111,
              "#46039f"
             ],
             [
              0.2222222222222222,
              "#7201a8"
             ],
             [
              0.3333333333333333,
              "#9c179e"
             ],
             [
              0.4444444444444444,
              "#bd3786"
             ],
             [
              0.5555555555555556,
              "#d8576b"
             ],
             [
              0.6666666666666666,
              "#ed7953"
             ],
             [
              0.7777777777777778,
              "#fb9f3a"
             ],
             [
              0.8888888888888888,
              "#fdca26"
             ],
             [
              1,
              "#f0f921"
             ]
            ],
            "type": "heatmap"
           }
          ],
          "heatmapgl": [
           {
            "colorbar": {
             "outlinewidth": 0,
             "ticks": ""
            },
            "colorscale": [
             [
              0,
              "#0d0887"
             ],
             [
              0.1111111111111111,
              "#46039f"
             ],
             [
              0.2222222222222222,
              "#7201a8"
             ],
             [
              0.3333333333333333,
              "#9c179e"
             ],
             [
              0.4444444444444444,
              "#bd3786"
             ],
             [
              0.5555555555555556,
              "#d8576b"
             ],
             [
              0.6666666666666666,
              "#ed7953"
             ],
             [
              0.7777777777777778,
              "#fb9f3a"
             ],
             [
              0.8888888888888888,
              "#fdca26"
             ],
             [
              1,
              "#f0f921"
             ]
            ],
            "type": "heatmapgl"
           }
          ],
          "histogram": [
           {
            "marker": {
             "pattern": {
              "fillmode": "overlay",
              "size": 10,
              "solidity": 0.2
             }
            },
            "type": "histogram"
           }
          ],
          "histogram2d": [
           {
            "colorbar": {
             "outlinewidth": 0,
             "ticks": ""
            },
            "colorscale": [
             [
              0,
              "#0d0887"
             ],
             [
              0.1111111111111111,
              "#46039f"
             ],
             [
              0.2222222222222222,
              "#7201a8"
             ],
             [
              0.3333333333333333,
              "#9c179e"
             ],
             [
              0.4444444444444444,
              "#bd3786"
             ],
             [
              0.5555555555555556,
              "#d8576b"
             ],
             [
              0.6666666666666666,
              "#ed7953"
             ],
             [
              0.7777777777777778,
              "#fb9f3a"
             ],
             [
              0.8888888888888888,
              "#fdca26"
             ],
             [
              1,
              "#f0f921"
             ]
            ],
            "type": "histogram2d"
           }
          ],
          "histogram2dcontour": [
           {
            "colorbar": {
             "outlinewidth": 0,
             "ticks": ""
            },
            "colorscale": [
             [
              0,
              "#0d0887"
             ],
             [
              0.1111111111111111,
              "#46039f"
             ],
             [
              0.2222222222222222,
              "#7201a8"
             ],
             [
              0.3333333333333333,
              "#9c179e"
             ],
             [
              0.4444444444444444,
              "#bd3786"
             ],
             [
              0.5555555555555556,
              "#d8576b"
             ],
             [
              0.6666666666666666,
              "#ed7953"
             ],
             [
              0.7777777777777778,
              "#fb9f3a"
             ],
             [
              0.8888888888888888,
              "#fdca26"
             ],
             [
              1,
              "#f0f921"
             ]
            ],
            "type": "histogram2dcontour"
           }
          ],
          "mesh3d": [
           {
            "colorbar": {
             "outlinewidth": 0,
             "ticks": ""
            },
            "type": "mesh3d"
           }
          ],
          "parcoords": [
           {
            "line": {
             "colorbar": {
              "outlinewidth": 0,
              "ticks": ""
             }
            },
            "type": "parcoords"
           }
          ],
          "pie": [
           {
            "automargin": true,
            "type": "pie"
           }
          ],
          "scatter": [
           {
            "fillpattern": {
             "fillmode": "overlay",
             "size": 10,
             "solidity": 0.2
            },
            "type": "scatter"
           }
          ],
          "scatter3d": [
           {
            "line": {
             "colorbar": {
              "outlinewidth": 0,
              "ticks": ""
             }
            },
            "marker": {
             "colorbar": {
              "outlinewidth": 0,
              "ticks": ""
             }
            },
            "type": "scatter3d"
           }
          ],
          "scattercarpet": [
           {
            "marker": {
             "colorbar": {
              "outlinewidth": 0,
              "ticks": ""
             }
            },
            "type": "scattercarpet"
           }
          ],
          "scattergeo": [
           {
            "marker": {
             "colorbar": {
              "outlinewidth": 0,
              "ticks": ""
             }
            },
            "type": "scattergeo"
           }
          ],
          "scattergl": [
           {
            "marker": {
             "colorbar": {
              "outlinewidth": 0,
              "ticks": ""
             }
            },
            "type": "scattergl"
           }
          ],
          "scattermapbox": [
           {
            "marker": {
             "colorbar": {
              "outlinewidth": 0,
              "ticks": ""
             }
            },
            "type": "scattermapbox"
           }
          ],
          "scatterpolar": [
           {
            "marker": {
             "colorbar": {
              "outlinewidth": 0,
              "ticks": ""
             }
            },
            "type": "scatterpolar"
           }
          ],
          "scatterpolargl": [
           {
            "marker": {
             "colorbar": {
              "outlinewidth": 0,
              "ticks": ""
             }
            },
            "type": "scatterpolargl"
           }
          ],
          "scatterternary": [
           {
            "marker": {
             "colorbar": {
              "outlinewidth": 0,
              "ticks": ""
             }
            },
            "type": "scatterternary"
           }
          ],
          "surface": [
           {
            "colorbar": {
             "outlinewidth": 0,
             "ticks": ""
            },
            "colorscale": [
             [
              0,
              "#0d0887"
             ],
             [
              0.1111111111111111,
              "#46039f"
             ],
             [
              0.2222222222222222,
              "#7201a8"
             ],
             [
              0.3333333333333333,
              "#9c179e"
             ],
             [
              0.4444444444444444,
              "#bd3786"
             ],
             [
              0.5555555555555556,
              "#d8576b"
             ],
             [
              0.6666666666666666,
              "#ed7953"
             ],
             [
              0.7777777777777778,
              "#fb9f3a"
             ],
             [
              0.8888888888888888,
              "#fdca26"
             ],
             [
              1,
              "#f0f921"
             ]
            ],
            "type": "surface"
           }
          ],
          "table": [
           {
            "cells": {
             "fill": {
              "color": "#EBF0F8"
             },
             "line": {
              "color": "white"
             }
            },
            "header": {
             "fill": {
              "color": "#C8D4E3"
             },
             "line": {
              "color": "white"
             }
            },
            "type": "table"
           }
          ]
         },
         "layout": {
          "annotationdefaults": {
           "arrowcolor": "#2a3f5f",
           "arrowhead": 0,
           "arrowwidth": 1
          },
          "autotypenumbers": "strict",
          "coloraxis": {
           "colorbar": {
            "outlinewidth": 0,
            "ticks": ""
           }
          },
          "colorscale": {
           "diverging": [
            [
             0,
             "#8e0152"
            ],
            [
             0.1,
             "#c51b7d"
            ],
            [
             0.2,
             "#de77ae"
            ],
            [
             0.3,
             "#f1b6da"
            ],
            [
             0.4,
             "#fde0ef"
            ],
            [
             0.5,
             "#f7f7f7"
            ],
            [
             0.6,
             "#e6f5d0"
            ],
            [
             0.7,
             "#b8e186"
            ],
            [
             0.8,
             "#7fbc41"
            ],
            [
             0.9,
             "#4d9221"
            ],
            [
             1,
             "#276419"
            ]
           ],
           "sequential": [
            [
             0,
             "#0d0887"
            ],
            [
             0.1111111111111111,
             "#46039f"
            ],
            [
             0.2222222222222222,
             "#7201a8"
            ],
            [
             0.3333333333333333,
             "#9c179e"
            ],
            [
             0.4444444444444444,
             "#bd3786"
            ],
            [
             0.5555555555555556,
             "#d8576b"
            ],
            [
             0.6666666666666666,
             "#ed7953"
            ],
            [
             0.7777777777777778,
             "#fb9f3a"
            ],
            [
             0.8888888888888888,
             "#fdca26"
            ],
            [
             1,
             "#f0f921"
            ]
           ],
           "sequentialminus": [
            [
             0,
             "#0d0887"
            ],
            [
             0.1111111111111111,
             "#46039f"
            ],
            [
             0.2222222222222222,
             "#7201a8"
            ],
            [
             0.3333333333333333,
             "#9c179e"
            ],
            [
             0.4444444444444444,
             "#bd3786"
            ],
            [
             0.5555555555555556,
             "#d8576b"
            ],
            [
             0.6666666666666666,
             "#ed7953"
            ],
            [
             0.7777777777777778,
             "#fb9f3a"
            ],
            [
             0.8888888888888888,
             "#fdca26"
            ],
            [
             1,
             "#f0f921"
            ]
           ]
          },
          "colorway": [
           "#636efa",
           "#EF553B",
           "#00cc96",
           "#ab63fa",
           "#FFA15A",
           "#19d3f3",
           "#FF6692",
           "#B6E880",
           "#FF97FF",
           "#FECB52"
          ],
          "font": {
           "color": "#2a3f5f"
          },
          "geo": {
           "bgcolor": "white",
           "lakecolor": "white",
           "landcolor": "#E5ECF6",
           "showlakes": true,
           "showland": true,
           "subunitcolor": "white"
          },
          "hoverlabel": {
           "align": "left"
          },
          "hovermode": "closest",
          "mapbox": {
           "style": "light"
          },
          "paper_bgcolor": "white",
          "plot_bgcolor": "#E5ECF6",
          "polar": {
           "angularaxis": {
            "gridcolor": "white",
            "linecolor": "white",
            "ticks": ""
           },
           "bgcolor": "#E5ECF6",
           "radialaxis": {
            "gridcolor": "white",
            "linecolor": "white",
            "ticks": ""
           }
          },
          "scene": {
           "xaxis": {
            "backgroundcolor": "#E5ECF6",
            "gridcolor": "white",
            "gridwidth": 2,
            "linecolor": "white",
            "showbackground": true,
            "ticks": "",
            "zerolinecolor": "white"
           },
           "yaxis": {
            "backgroundcolor": "#E5ECF6",
            "gridcolor": "white",
            "gridwidth": 2,
            "linecolor": "white",
            "showbackground": true,
            "ticks": "",
            "zerolinecolor": "white"
           },
           "zaxis": {
            "backgroundcolor": "#E5ECF6",
            "gridcolor": "white",
            "gridwidth": 2,
            "linecolor": "white",
            "showbackground": true,
            "ticks": "",
            "zerolinecolor": "white"
           }
          },
          "shapedefaults": {
           "line": {
            "color": "#2a3f5f"
           }
          },
          "ternary": {
           "aaxis": {
            "gridcolor": "white",
            "linecolor": "white",
            "ticks": ""
           },
           "baxis": {
            "gridcolor": "white",
            "linecolor": "white",
            "ticks": ""
           },
           "bgcolor": "#E5ECF6",
           "caxis": {
            "gridcolor": "white",
            "linecolor": "white",
            "ticks": ""
           }
          },
          "title": {
           "x": 0.05
          },
          "xaxis": {
           "automargin": true,
           "gridcolor": "white",
           "linecolor": "white",
           "ticks": "",
           "title": {
            "standoff": 15
           },
           "zerolinecolor": "white",
           "zerolinewidth": 2
          },
          "yaxis": {
           "automargin": true,
           "gridcolor": "white",
           "linecolor": "white",
           "ticks": "",
           "title": {
            "standoff": 15
           },
           "zerolinecolor": "white",
           "zerolinewidth": 2
          }
         }
        },
        "title": {
         "text": "Peak Day Comments Based on Label"
        },
        "width": 1000,
        "xaxis": {
         "anchor": "y",
         "domain": [
          0,
          1
         ],
         "title": {
          "text": "Date"
         }
        },
        "yaxis": {
         "anchor": "x",
         "domain": [
          0,
          1
         ],
         "title": {
          "text": "Total"
         }
        }
       }
      }
     },
     "metadata": {},
     "output_type": "display_data"
    }
   ],
   "source": [
    "LabelDay = LabelDay.rename(columns={'counts':'Total'})\n",
    "fig2 = px.line(LabelDay, x='Date', y='Total', \n",
    "              color='Label', title = 'Peak Day Comments Based on Label', width=1000, height=400)\n",
    "fig2.show()"
   ]
  },
  {
   "cell_type": "markdown",
   "metadata": {},
   "source": [
    "### Clean Comments"
   ]
  },
  {
   "cell_type": "code",
   "execution_count": 51,
   "metadata": {},
   "outputs": [],
   "source": [
    "clean = pd.read_csv(\"..\\Data\\Assets\\dataCleaning.csv\")"
   ]
  },
  {
   "cell_type": "code",
   "execution_count": 52,
   "metadata": {},
   "outputs": [
    {
     "data": {
      "text/html": [
       "<div>\n",
       "<style scoped>\n",
       "    .dataframe tbody tr th:only-of-type {\n",
       "        vertical-align: middle;\n",
       "    }\n",
       "\n",
       "    .dataframe tbody tr th {\n",
       "        vertical-align: top;\n",
       "    }\n",
       "\n",
       "    .dataframe thead th {\n",
       "        text-align: right;\n",
       "    }\n",
       "</style>\n",
       "<table border=\"1\" class=\"dataframe\">\n",
       "  <thead>\n",
       "    <tr style=\"text-align: right;\">\n",
       "      <th></th>\n",
       "      <th>Video_Id</th>\n",
       "      <th>Tittle</th>\n",
       "      <th>Description</th>\n",
       "      <th>Name</th>\n",
       "      <th>Comment</th>\n",
       "      <th>Comment_Id</th>\n",
       "      <th>Time</th>\n",
       "      <th>Likes</th>\n",
       "      <th>Reply_Count</th>\n",
       "      <th>Label</th>\n",
       "      <th>...</th>\n",
       "      <th>CountUpperLetters</th>\n",
       "      <th>SimilarityTitle</th>\n",
       "      <th>SimilarityDesc</th>\n",
       "      <th>LenComment</th>\n",
       "      <th>NameLen</th>\n",
       "      <th>UrlRatio</th>\n",
       "      <th>LexicalRichness</th>\n",
       "      <th>LexicalDensity</th>\n",
       "      <th>CommentRandomness</th>\n",
       "      <th>NameRandomness</th>\n",
       "    </tr>\n",
       "  </thead>\n",
       "  <tbody>\n",
       "    <tr>\n",
       "      <th>2392</th>\n",
       "      <td>LU2p56QVUWA</td>\n",
       "      <td>Debat Jokowi Vs Prabowo Soal Ideologi &amp;amp; Pe...</td>\n",
       "      <td>DebatCapres #DebatJokowiPrabowo #DebatKeempatC...</td>\n",
       "      <td>Hiburan 89</td>\n",
       "      <td>@muhammad amdad udh gw dua lo gk faham sama g 20</td>\n",
       "      <td>Ugy5vqdmxBXSupQP5Bh4AaABAg.8t70qppzKGv997AMsYe-3N</td>\n",
       "      <td>2020-05-26 12:25:41</td>\n",
       "      <td>0</td>\n",
       "      <td>0</td>\n",
       "      <td>legitimate</td>\n",
       "      <td>...</td>\n",
       "      <td>0</td>\n",
       "      <td>0.0</td>\n",
       "      <td>0.0</td>\n",
       "      <td>48</td>\n",
       "      <td>10</td>\n",
       "      <td>0.0</td>\n",
       "      <td>100.0</td>\n",
       "      <td>45.454545</td>\n",
       "      <td>0.071591</td>\n",
       "      <td>0.332193</td>\n",
       "    </tr>\n",
       "  </tbody>\n",
       "</table>\n",
       "<p>1 rows × 31 columns</p>\n",
       "</div>"
      ],
      "text/plain": [
       "         Video_Id                                             Tittle  \\\n",
       "2392  LU2p56QVUWA  Debat Jokowi Vs Prabowo Soal Ideologi &amp; Pe...   \n",
       "\n",
       "                                            Description        Name  \\\n",
       "2392  DebatCapres #DebatJokowiPrabowo #DebatKeempatC...  Hiburan 89   \n",
       "\n",
       "                                               Comment  \\\n",
       "2392  @muhammad amdad udh gw dua lo gk faham sama g 20   \n",
       "\n",
       "                                             Comment_Id                 Time  \\\n",
       "2392  Ugy5vqdmxBXSupQP5Bh4AaABAg.8t70qppzKGv997AMsYe-3N  2020-05-26 12:25:41   \n",
       "\n",
       "      Likes  Reply_Count       Label  ... CountUpperLetters SimilarityTitle  \\\n",
       "2392      0            0  legitimate  ...                 0             0.0   \n",
       "\n",
       "     SimilarityDesc  LenComment  NameLen  UrlRatio  LexicalRichness  \\\n",
       "2392            0.0          48       10       0.0            100.0   \n",
       "\n",
       "      LexicalDensity  CommentRandomness  NameRandomness  \n",
       "2392       45.454545           0.071591        0.332193  \n",
       "\n",
       "[1 rows x 31 columns]"
      ]
     },
     "execution_count": 52,
     "metadata": {},
     "output_type": "execute_result"
    }
   ],
   "source": [
    "clean.sample()"
   ]
  },
  {
   "cell_type": "code",
   "execution_count": 53,
   "metadata": {},
   "outputs": [
    {
     "data": {
      "text/html": [
       "<div>\n",
       "<style scoped>\n",
       "    .dataframe tbody tr th:only-of-type {\n",
       "        vertical-align: middle;\n",
       "    }\n",
       "\n",
       "    .dataframe tbody tr th {\n",
       "        vertical-align: top;\n",
       "    }\n",
       "\n",
       "    .dataframe thead th {\n",
       "        text-align: right;\n",
       "    }\n",
       "</style>\n",
       "<table border=\"1\" class=\"dataframe\">\n",
       "  <thead>\n",
       "    <tr style=\"text-align: right;\">\n",
       "      <th></th>\n",
       "      <th>Video_Id</th>\n",
       "      <th>Tittle</th>\n",
       "      <th>Description</th>\n",
       "      <th>Name</th>\n",
       "      <th>Comment</th>\n",
       "      <th>Comment_Id</th>\n",
       "      <th>Time</th>\n",
       "      <th>Likes</th>\n",
       "      <th>Reply_Count</th>\n",
       "      <th>Label</th>\n",
       "      <th>...</th>\n",
       "      <th>CountUpperLetters</th>\n",
       "      <th>SimilarityTitle</th>\n",
       "      <th>SimilarityDesc</th>\n",
       "      <th>LenComment</th>\n",
       "      <th>NameLen</th>\n",
       "      <th>UrlRatio</th>\n",
       "      <th>LexicalRichness</th>\n",
       "      <th>LexicalDensity</th>\n",
       "      <th>CommentRandomness</th>\n",
       "      <th>NameRandomness</th>\n",
       "    </tr>\n",
       "  </thead>\n",
       "  <tbody>\n",
       "    <tr>\n",
       "      <th>0</th>\n",
       "      <td>0iLgiRBQzzs</td>\n",
       "      <td>Panas! Jokowi VS Prabowo Saling Serang soal Ko...</td>\n",
       "      <td>Debat panas antara kedua pasangan calon presid...</td>\n",
       "      <td>Doharman Patimura Waruwu</td>\n",
       "      <td>https://youtu.be/LBKGyxnpMCU</td>\n",
       "      <td>Ugz-zdD0s87dSDzITuh4AaABAg</td>\n",
       "      <td>2019-01-17 23:06:24</td>\n",
       "      <td>0</td>\n",
       "      <td>0</td>\n",
       "      <td>spam</td>\n",
       "      <td>...</td>\n",
       "      <td>7</td>\n",
       "      <td>0.0</td>\n",
       "      <td>0.000000</td>\n",
       "      <td>28</td>\n",
       "      <td>24</td>\n",
       "      <td>1.000000</td>\n",
       "      <td>100.0</td>\n",
       "      <td>100.000000</td>\n",
       "      <td>0.145843</td>\n",
       "      <td>0.147430</td>\n",
       "    </tr>\n",
       "    <tr>\n",
       "      <th>1</th>\n",
       "      <td>AP0NACavjfk</td>\n",
       "      <td>SkinnyIndonesian24 | Prabowo VS Jokowi - Epic ...</td>\n",
       "      <td>SkinnyIndonesian24 ( Andovi da Lopez sebagai J...</td>\n",
       "      <td>Akiru Syakir</td>\n",
       "      <td>Bantu subscribe youtube gw dong</td>\n",
       "      <td>UgwQM2OHIzkVDtu0PIN4AaABAg</td>\n",
       "      <td>2019-04-10 22:40:00</td>\n",
       "      <td>0</td>\n",
       "      <td>0</td>\n",
       "      <td>spam</td>\n",
       "      <td>...</td>\n",
       "      <td>1</td>\n",
       "      <td>0.0</td>\n",
       "      <td>0.000000</td>\n",
       "      <td>31</td>\n",
       "      <td>12</td>\n",
       "      <td>0.000000</td>\n",
       "      <td>100.0</td>\n",
       "      <td>40.000000</td>\n",
       "      <td>0.122352</td>\n",
       "      <td>0.257080</td>\n",
       "    </tr>\n",
       "    <tr>\n",
       "      <th>2</th>\n",
       "      <td>AP0NACavjfk</td>\n",
       "      <td>SkinnyIndonesian24 | Prabowo VS Jokowi - Epic ...</td>\n",
       "      <td>SkinnyIndonesian24 ( Andovi da Lopez sebagai J...</td>\n",
       "      <td>Teguh Wage Prakoso</td>\n",
       "      <td>hachimon tonkou, kalau buka gerbang ke 8 auto ...</td>\n",
       "      <td>Ugyh7dOOI2953Exf3cp4AaABAg.8tUY_eVh77e8tUhBosQJLg</td>\n",
       "      <td>2019-04-09 02:50:06</td>\n",
       "      <td>0</td>\n",
       "      <td>0</td>\n",
       "      <td>spam</td>\n",
       "      <td>...</td>\n",
       "      <td>0</td>\n",
       "      <td>0.0</td>\n",
       "      <td>0.000000</td>\n",
       "      <td>57</td>\n",
       "      <td>18</td>\n",
       "      <td>0.000000</td>\n",
       "      <td>100.0</td>\n",
       "      <td>50.000000</td>\n",
       "      <td>0.068595</td>\n",
       "      <td>0.200798</td>\n",
       "    </tr>\n",
       "    <tr>\n",
       "      <th>3</th>\n",
       "      <td>AP0NACavjfk</td>\n",
       "      <td>SkinnyIndonesian24 | Prabowo VS Jokowi - Epic ...</td>\n",
       "      <td>SkinnyIndonesian24 ( Andovi da Lopez sebagai J...</td>\n",
       "      <td>hidayah</td>\n",
       "      <td>https://www.youtube.com/channel/UC_iQ1hcNxz1ir...</td>\n",
       "      <td>UgxA-h0VMWXoShPkFEZ4AaABAg</td>\n",
       "      <td>2019-04-10 12:25:49</td>\n",
       "      <td>0</td>\n",
       "      <td>0</td>\n",
       "      <td>spam</td>\n",
       "      <td>...</td>\n",
       "      <td>7</td>\n",
       "      <td>0.0</td>\n",
       "      <td>0.000000</td>\n",
       "      <td>56</td>\n",
       "      <td>7</td>\n",
       "      <td>1.000000</td>\n",
       "      <td>100.0</td>\n",
       "      <td>0.000000</td>\n",
       "      <td>0.083523</td>\n",
       "      <td>0.319418</td>\n",
       "    </tr>\n",
       "    <tr>\n",
       "      <th>4</th>\n",
       "      <td>AP0NACavjfk</td>\n",
       "      <td>SkinnyIndonesian24 | Prabowo VS Jokowi - Epic ...</td>\n",
       "      <td>SkinnyIndonesian24 ( Andovi da Lopez sebagai J...</td>\n",
       "      <td>Derisma Ae</td>\n",
       "      <td>https://youtu.be/aS1FIPcCuh4 CH: Derisma ae, m...</td>\n",
       "      <td>UgybtnYbYjDF7YZJAdN4AaABAg</td>\n",
       "      <td>2019-04-15 16:00:05</td>\n",
       "      <td>0</td>\n",
       "      <td>0</td>\n",
       "      <td>spam</td>\n",
       "      <td>...</td>\n",
       "      <td>17</td>\n",
       "      <td>0.0</td>\n",
       "      <td>0.000000</td>\n",
       "      <td>88</td>\n",
       "      <td>10</td>\n",
       "      <td>0.318182</td>\n",
       "      <td>100.0</td>\n",
       "      <td>70.000000</td>\n",
       "      <td>0.051711</td>\n",
       "      <td>0.312193</td>\n",
       "    </tr>\n",
       "    <tr>\n",
       "      <th>...</th>\n",
       "      <td>...</td>\n",
       "      <td>...</td>\n",
       "      <td>...</td>\n",
       "      <td>...</td>\n",
       "      <td>...</td>\n",
       "      <td>...</td>\n",
       "      <td>...</td>\n",
       "      <td>...</td>\n",
       "      <td>...</td>\n",
       "      <td>...</td>\n",
       "      <td>...</td>\n",
       "      <td>...</td>\n",
       "      <td>...</td>\n",
       "      <td>...</td>\n",
       "      <td>...</td>\n",
       "      <td>...</td>\n",
       "      <td>...</td>\n",
       "      <td>...</td>\n",
       "      <td>...</td>\n",
       "      <td>...</td>\n",
       "      <td>...</td>\n",
       "    </tr>\n",
       "    <tr>\n",
       "      <th>2995</th>\n",
       "      <td>AP0NACavjfk</td>\n",
       "      <td>SkinnyIndonesian24 | Prabowo VS Jokowi - Epic ...</td>\n",
       "      <td>SkinnyIndonesian24 ( Andovi da Lopez sebagai J...</td>\n",
       "      <td>agus muliandri</td>\n",
       "      <td>Top</td>\n",
       "      <td>UgxG_8lxSoZduOAiE-54AaABAg.8tXxFBA8lZa8tXzXBaY73i</td>\n",
       "      <td>2019-04-10 09:28:02</td>\n",
       "      <td>0</td>\n",
       "      <td>0</td>\n",
       "      <td>legitimate</td>\n",
       "      <td>...</td>\n",
       "      <td>1</td>\n",
       "      <td>0.0</td>\n",
       "      <td>0.000000</td>\n",
       "      <td>3</td>\n",
       "      <td>14</td>\n",
       "      <td>0.000000</td>\n",
       "      <td>100.0</td>\n",
       "      <td>100.000000</td>\n",
       "      <td>0.528321</td>\n",
       "      <td>0.241342</td>\n",
       "    </tr>\n",
       "    <tr>\n",
       "      <th>2996</th>\n",
       "      <td>AP0NACavjfk</td>\n",
       "      <td>SkinnyIndonesian24 | Prabowo VS Jokowi - Epic ...</td>\n",
       "      <td>SkinnyIndonesian24 ( Andovi da Lopez sebagai J...</td>\n",
       "      <td>EXE HUMAN</td>\n",
       "      <td>Creator senior memang beda ya 😎</td>\n",
       "      <td>Ugx4Ep3GEADS4c_w5YF4AaABAg</td>\n",
       "      <td>2019-04-09 11:43:58</td>\n",
       "      <td>0</td>\n",
       "      <td>0</td>\n",
       "      <td>legitimate</td>\n",
       "      <td>...</td>\n",
       "      <td>1</td>\n",
       "      <td>0.0</td>\n",
       "      <td>0.083333</td>\n",
       "      <td>31</td>\n",
       "      <td>9</td>\n",
       "      <td>0.000000</td>\n",
       "      <td>100.0</td>\n",
       "      <td>83.333333</td>\n",
       "      <td>0.119891</td>\n",
       "      <td>0.327523</td>\n",
       "    </tr>\n",
       "    <tr>\n",
       "      <th>2997</th>\n",
       "      <td>AP0NACavjfk</td>\n",
       "      <td>SkinnyIndonesian24 | Prabowo VS Jokowi - Epic ...</td>\n",
       "      <td>SkinnyIndonesian24 ( Andovi da Lopez sebagai J...</td>\n",
       "      <td>Ni Luh Ayu Sibang Sri Padmayanti_056</td>\n",
       "      <td>Keunggulan dan kekurangan nge buat kita semua ...</td>\n",
       "      <td>UgzltfmrOp2dr3DbCPx4AaABAg</td>\n",
       "      <td>2019-04-11 13:48:07</td>\n",
       "      <td>0</td>\n",
       "      <td>0</td>\n",
       "      <td>legitimate</td>\n",
       "      <td>...</td>\n",
       "      <td>1</td>\n",
       "      <td>0.0</td>\n",
       "      <td>0.125000</td>\n",
       "      <td>64</td>\n",
       "      <td>36</td>\n",
       "      <td>0.000000</td>\n",
       "      <td>100.0</td>\n",
       "      <td>60.000000</td>\n",
       "      <td>0.058311</td>\n",
       "      <td>0.116132</td>\n",
       "    </tr>\n",
       "    <tr>\n",
       "      <th>2998</th>\n",
       "      <td>AP0NACavjfk</td>\n",
       "      <td>SkinnyIndonesian24 | Prabowo VS Jokowi - Epic ...</td>\n",
       "      <td>SkinnyIndonesian24 ( Andovi da Lopez sebagai J...</td>\n",
       "      <td>Brigita Deya 183</td>\n",
       "      <td>Keren parahhh</td>\n",
       "      <td>UgyaAGTI4x4ta4TE1cF4AaABAg</td>\n",
       "      <td>2019-04-09 10:20:06</td>\n",
       "      <td>0</td>\n",
       "      <td>0</td>\n",
       "      <td>legitimate</td>\n",
       "      <td>...</td>\n",
       "      <td>1</td>\n",
       "      <td>0.0</td>\n",
       "      <td>0.000000</td>\n",
       "      <td>13</td>\n",
       "      <td>16</td>\n",
       "      <td>0.000000</td>\n",
       "      <td>100.0</td>\n",
       "      <td>100.000000</td>\n",
       "      <td>0.221011</td>\n",
       "      <td>0.226562</td>\n",
       "    </tr>\n",
       "    <tr>\n",
       "      <th>2999</th>\n",
       "      <td>AP0NACavjfk</td>\n",
       "      <td>SkinnyIndonesian24 | Prabowo VS Jokowi - Epic ...</td>\n",
       "      <td>SkinnyIndonesian24 ( Andovi da Lopez sebagai J...</td>\n",
       "      <td>Carl</td>\n",
       "      <td>MEREKA HARUS NONTON NIH</td>\n",
       "      <td>Ugz4K70s5tZHaG_LkIl4AaABAg</td>\n",
       "      <td>2019-04-08 12:59:00</td>\n",
       "      <td>0</td>\n",
       "      <td>0</td>\n",
       "      <td>legitimate</td>\n",
       "      <td>...</td>\n",
       "      <td>20</td>\n",
       "      <td>0.0</td>\n",
       "      <td>0.000000</td>\n",
       "      <td>23</td>\n",
       "      <td>4</td>\n",
       "      <td>0.000000</td>\n",
       "      <td>100.0</td>\n",
       "      <td>50.000000</td>\n",
       "      <td>0.153662</td>\n",
       "      <td>0.500000</td>\n",
       "    </tr>\n",
       "  </tbody>\n",
       "</table>\n",
       "<p>3000 rows × 31 columns</p>\n",
       "</div>"
      ],
      "text/plain": [
       "         Video_Id                                             Tittle  \\\n",
       "0     0iLgiRBQzzs  Panas! Jokowi VS Prabowo Saling Serang soal Ko...   \n",
       "1     AP0NACavjfk  SkinnyIndonesian24 | Prabowo VS Jokowi - Epic ...   \n",
       "2     AP0NACavjfk  SkinnyIndonesian24 | Prabowo VS Jokowi - Epic ...   \n",
       "3     AP0NACavjfk  SkinnyIndonesian24 | Prabowo VS Jokowi - Epic ...   \n",
       "4     AP0NACavjfk  SkinnyIndonesian24 | Prabowo VS Jokowi - Epic ...   \n",
       "...           ...                                                ...   \n",
       "2995  AP0NACavjfk  SkinnyIndonesian24 | Prabowo VS Jokowi - Epic ...   \n",
       "2996  AP0NACavjfk  SkinnyIndonesian24 | Prabowo VS Jokowi - Epic ...   \n",
       "2997  AP0NACavjfk  SkinnyIndonesian24 | Prabowo VS Jokowi - Epic ...   \n",
       "2998  AP0NACavjfk  SkinnyIndonesian24 | Prabowo VS Jokowi - Epic ...   \n",
       "2999  AP0NACavjfk  SkinnyIndonesian24 | Prabowo VS Jokowi - Epic ...   \n",
       "\n",
       "                                            Description  \\\n",
       "0     Debat panas antara kedua pasangan calon presid...   \n",
       "1     SkinnyIndonesian24 ( Andovi da Lopez sebagai J...   \n",
       "2     SkinnyIndonesian24 ( Andovi da Lopez sebagai J...   \n",
       "3     SkinnyIndonesian24 ( Andovi da Lopez sebagai J...   \n",
       "4     SkinnyIndonesian24 ( Andovi da Lopez sebagai J...   \n",
       "...                                                 ...   \n",
       "2995  SkinnyIndonesian24 ( Andovi da Lopez sebagai J...   \n",
       "2996  SkinnyIndonesian24 ( Andovi da Lopez sebagai J...   \n",
       "2997  SkinnyIndonesian24 ( Andovi da Lopez sebagai J...   \n",
       "2998  SkinnyIndonesian24 ( Andovi da Lopez sebagai J...   \n",
       "2999  SkinnyIndonesian24 ( Andovi da Lopez sebagai J...   \n",
       "\n",
       "                                      Name  \\\n",
       "0                 Doharman Patimura Waruwu   \n",
       "1                             Akiru Syakir   \n",
       "2                       Teguh Wage Prakoso   \n",
       "3                                  hidayah   \n",
       "4                               Derisma Ae   \n",
       "...                                    ...   \n",
       "2995                        agus muliandri   \n",
       "2996                             EXE HUMAN   \n",
       "2997  Ni Luh Ayu Sibang Sri Padmayanti_056   \n",
       "2998                      Brigita Deya 183   \n",
       "2999                                  Carl   \n",
       "\n",
       "                                                Comment  \\\n",
       "0                          https://youtu.be/LBKGyxnpMCU   \n",
       "1                       Bantu subscribe youtube gw dong   \n",
       "2     hachimon tonkou, kalau buka gerbang ke 8 auto ...   \n",
       "3     https://www.youtube.com/channel/UC_iQ1hcNxz1ir...   \n",
       "4     https://youtu.be/aS1FIPcCuh4 CH: Derisma ae, m...   \n",
       "...                                                 ...   \n",
       "2995                                                Top   \n",
       "2996                    Creator senior memang beda ya 😎   \n",
       "2997  Keunggulan dan kekurangan nge buat kita semua ...   \n",
       "2998                                      Keren parahhh   \n",
       "2999                            MEREKA HARUS NONTON NIH   \n",
       "\n",
       "                                             Comment_Id                 Time  \\\n",
       "0                            Ugz-zdD0s87dSDzITuh4AaABAg  2019-01-17 23:06:24   \n",
       "1                            UgwQM2OHIzkVDtu0PIN4AaABAg  2019-04-10 22:40:00   \n",
       "2     Ugyh7dOOI2953Exf3cp4AaABAg.8tUY_eVh77e8tUhBosQJLg  2019-04-09 02:50:06   \n",
       "3                            UgxA-h0VMWXoShPkFEZ4AaABAg  2019-04-10 12:25:49   \n",
       "4                            UgybtnYbYjDF7YZJAdN4AaABAg  2019-04-15 16:00:05   \n",
       "...                                                 ...                  ...   \n",
       "2995  UgxG_8lxSoZduOAiE-54AaABAg.8tXxFBA8lZa8tXzXBaY73i  2019-04-10 09:28:02   \n",
       "2996                         Ugx4Ep3GEADS4c_w5YF4AaABAg  2019-04-09 11:43:58   \n",
       "2997                         UgzltfmrOp2dr3DbCPx4AaABAg  2019-04-11 13:48:07   \n",
       "2998                         UgyaAGTI4x4ta4TE1cF4AaABAg  2019-04-09 10:20:06   \n",
       "2999                         Ugz4K70s5tZHaG_LkIl4AaABAg  2019-04-08 12:59:00   \n",
       "\n",
       "      Likes  Reply_Count       Label  ... CountUpperLetters SimilarityTitle  \\\n",
       "0         0            0        spam  ...                 7             0.0   \n",
       "1         0            0        spam  ...                 1             0.0   \n",
       "2         0            0        spam  ...                 0             0.0   \n",
       "3         0            0        spam  ...                 7             0.0   \n",
       "4         0            0        spam  ...                17             0.0   \n",
       "...     ...          ...         ...  ...               ...             ...   \n",
       "2995      0            0  legitimate  ...                 1             0.0   \n",
       "2996      0            0  legitimate  ...                 1             0.0   \n",
       "2997      0            0  legitimate  ...                 1             0.0   \n",
       "2998      0            0  legitimate  ...                 1             0.0   \n",
       "2999      0            0  legitimate  ...                20             0.0   \n",
       "\n",
       "     SimilarityDesc  LenComment  NameLen  UrlRatio  LexicalRichness  \\\n",
       "0          0.000000          28       24  1.000000            100.0   \n",
       "1          0.000000          31       12  0.000000            100.0   \n",
       "2          0.000000          57       18  0.000000            100.0   \n",
       "3          0.000000          56        7  1.000000            100.0   \n",
       "4          0.000000          88       10  0.318182            100.0   \n",
       "...             ...         ...      ...       ...              ...   \n",
       "2995       0.000000           3       14  0.000000            100.0   \n",
       "2996       0.083333          31        9  0.000000            100.0   \n",
       "2997       0.125000          64       36  0.000000            100.0   \n",
       "2998       0.000000          13       16  0.000000            100.0   \n",
       "2999       0.000000          23        4  0.000000            100.0   \n",
       "\n",
       "      LexicalDensity  CommentRandomness  NameRandomness  \n",
       "0         100.000000           0.145843        0.147430  \n",
       "1          40.000000           0.122352        0.257080  \n",
       "2          50.000000           0.068595        0.200798  \n",
       "3           0.000000           0.083523        0.319418  \n",
       "4          70.000000           0.051711        0.312193  \n",
       "...              ...                ...             ...  \n",
       "2995      100.000000           0.528321        0.241342  \n",
       "2996       83.333333           0.119891        0.327523  \n",
       "2997       60.000000           0.058311        0.116132  \n",
       "2998      100.000000           0.221011        0.226562  \n",
       "2999       50.000000           0.153662        0.500000  \n",
       "\n",
       "[3000 rows x 31 columns]"
      ]
     },
     "execution_count": 53,
     "metadata": {},
     "output_type": "execute_result"
    }
   ],
   "source": [
    "clean"
   ]
  },
  {
   "cell_type": "code",
   "execution_count": 54,
   "metadata": {},
   "outputs": [
    {
     "data": {
      "text/html": [
       "<div>\n",
       "<style scoped>\n",
       "    .dataframe tbody tr th:only-of-type {\n",
       "        vertical-align: middle;\n",
       "    }\n",
       "\n",
       "    .dataframe tbody tr th {\n",
       "        vertical-align: top;\n",
       "    }\n",
       "\n",
       "    .dataframe thead th {\n",
       "        text-align: right;\n",
       "    }\n",
       "</style>\n",
       "<table border=\"1\" class=\"dataframe\">\n",
       "  <thead>\n",
       "    <tr style=\"text-align: right;\">\n",
       "      <th></th>\n",
       "      <th>Likes</th>\n",
       "      <th>Reply_Count</th>\n",
       "      <th>LengthSentence</th>\n",
       "      <th>CommentLength</th>\n",
       "      <th>countUrl</th>\n",
       "      <th>WhiteSpacenum</th>\n",
       "      <th>StopwordRatio</th>\n",
       "      <th>WorldDuplicateRatio</th>\n",
       "      <th>CountEmoji</th>\n",
       "      <th>CountNonAscii</th>\n",
       "      <th>CountUpperLetters</th>\n",
       "      <th>SimilarityTitle</th>\n",
       "      <th>SimilarityDesc</th>\n",
       "      <th>LenComment</th>\n",
       "      <th>NameLen</th>\n",
       "      <th>UrlRatio</th>\n",
       "      <th>LexicalRichness</th>\n",
       "      <th>LexicalDensity</th>\n",
       "      <th>CommentRandomness</th>\n",
       "      <th>NameRandomness</th>\n",
       "    </tr>\n",
       "  </thead>\n",
       "  <tbody>\n",
       "    <tr>\n",
       "      <th>count</th>\n",
       "      <td>3000.000000</td>\n",
       "      <td>3000.000000</td>\n",
       "      <td>3000.000000</td>\n",
       "      <td>3000.000000</td>\n",
       "      <td>3000.000000</td>\n",
       "      <td>3000.000000</td>\n",
       "      <td>3000.000000</td>\n",
       "      <td>3000.000000</td>\n",
       "      <td>3000.00000</td>\n",
       "      <td>3000.000000</td>\n",
       "      <td>3000.000000</td>\n",
       "      <td>3000.000000</td>\n",
       "      <td>3000.000000</td>\n",
       "      <td>3000.000000</td>\n",
       "      <td>3000.000000</td>\n",
       "      <td>3000.000000</td>\n",
       "      <td>3000.000000</td>\n",
       "      <td>3000.000000</td>\n",
       "      <td>3000.000000</td>\n",
       "      <td>3000.000000</td>\n",
       "    </tr>\n",
       "    <tr>\n",
       "      <th>mean</th>\n",
       "      <td>32.097333</td>\n",
       "      <td>0.363000</td>\n",
       "      <td>1.268667</td>\n",
       "      <td>8.573000</td>\n",
       "      <td>0.324000</td>\n",
       "      <td>7.746000</td>\n",
       "      <td>0.089131</td>\n",
       "      <td>0.965841</td>\n",
       "      <td>0.49700</td>\n",
       "      <td>0.543333</td>\n",
       "      <td>6.596333</td>\n",
       "      <td>0.031212</td>\n",
       "      <td>0.063724</td>\n",
       "      <td>64.196667</td>\n",
       "      <td>12.761333</td>\n",
       "      <td>0.184776</td>\n",
       "      <td>94.655930</td>\n",
       "      <td>49.535404</td>\n",
       "      <td>0.124376</td>\n",
       "      <td>0.268773</td>\n",
       "    </tr>\n",
       "    <tr>\n",
       "      <th>std</th>\n",
       "      <td>1588.924487</td>\n",
       "      <td>9.341145</td>\n",
       "      <td>0.818153</td>\n",
       "      <td>13.365286</td>\n",
       "      <td>0.672687</td>\n",
       "      <td>13.779457</td>\n",
       "      <td>0.123214</td>\n",
       "      <td>0.103641</td>\n",
       "      <td>1.60982</td>\n",
       "      <td>1.710292</td>\n",
       "      <td>16.529099</td>\n",
       "      <td>0.144222</td>\n",
       "      <td>0.171486</td>\n",
       "      <td>103.185560</td>\n",
       "      <td>4.880879</td>\n",
       "      <td>0.328472</td>\n",
       "      <td>12.188639</td>\n",
       "      <td>33.630231</td>\n",
       "      <td>0.096655</td>\n",
       "      <td>0.076037</td>\n",
       "    </tr>\n",
       "    <tr>\n",
       "      <th>min</th>\n",
       "      <td>0.000000</td>\n",
       "      <td>0.000000</td>\n",
       "      <td>1.000000</td>\n",
       "      <td>0.000000</td>\n",
       "      <td>0.000000</td>\n",
       "      <td>0.000000</td>\n",
       "      <td>0.000000</td>\n",
       "      <td>0.000000</td>\n",
       "      <td>0.00000</td>\n",
       "      <td>0.000000</td>\n",
       "      <td>0.000000</td>\n",
       "      <td>0.000000</td>\n",
       "      <td>0.000000</td>\n",
       "      <td>1.000000</td>\n",
       "      <td>1.000000</td>\n",
       "      <td>0.000000</td>\n",
       "      <td>0.000000</td>\n",
       "      <td>0.000000</td>\n",
       "      <td>-0.000000</td>\n",
       "      <td>-0.000000</td>\n",
       "    </tr>\n",
       "    <tr>\n",
       "      <th>25%</th>\n",
       "      <td>0.000000</td>\n",
       "      <td>0.000000</td>\n",
       "      <td>1.000000</td>\n",
       "      <td>2.000000</td>\n",
       "      <td>0.000000</td>\n",
       "      <td>1.000000</td>\n",
       "      <td>0.000000</td>\n",
       "      <td>1.000000</td>\n",
       "      <td>0.00000</td>\n",
       "      <td>0.000000</td>\n",
       "      <td>1.000000</td>\n",
       "      <td>0.000000</td>\n",
       "      <td>0.000000</td>\n",
       "      <td>22.000000</td>\n",
       "      <td>10.000000</td>\n",
       "      <td>0.000000</td>\n",
       "      <td>95.454545</td>\n",
       "      <td>20.000000</td>\n",
       "      <td>0.056550</td>\n",
       "      <td>0.220620</td>\n",
       "    </tr>\n",
       "    <tr>\n",
       "      <th>50%</th>\n",
       "      <td>0.000000</td>\n",
       "      <td>0.000000</td>\n",
       "      <td>1.000000</td>\n",
       "      <td>5.000000</td>\n",
       "      <td>0.000000</td>\n",
       "      <td>4.000000</td>\n",
       "      <td>0.000000</td>\n",
       "      <td>1.000000</td>\n",
       "      <td>0.00000</td>\n",
       "      <td>0.000000</td>\n",
       "      <td>2.000000</td>\n",
       "      <td>0.000000</td>\n",
       "      <td>0.000000</td>\n",
       "      <td>41.000000</td>\n",
       "      <td>12.000000</td>\n",
       "      <td>0.000000</td>\n",
       "      <td>100.000000</td>\n",
       "      <td>53.846154</td>\n",
       "      <td>0.097898</td>\n",
       "      <td>0.257080</td>\n",
       "    </tr>\n",
       "    <tr>\n",
       "      <th>75%</th>\n",
       "      <td>1.000000</td>\n",
       "      <td>0.000000</td>\n",
       "      <td>1.000000</td>\n",
       "      <td>10.000000</td>\n",
       "      <td>1.000000</td>\n",
       "      <td>9.000000</td>\n",
       "      <td>0.166667</td>\n",
       "      <td>1.000000</td>\n",
       "      <td>0.00000</td>\n",
       "      <td>0.000000</td>\n",
       "      <td>6.000000</td>\n",
       "      <td>0.000000</td>\n",
       "      <td>0.066667</td>\n",
       "      <td>73.000000</td>\n",
       "      <td>15.000000</td>\n",
       "      <td>0.294737</td>\n",
       "      <td>100.000000</td>\n",
       "      <td>75.000000</td>\n",
       "      <td>0.153414</td>\n",
       "      <td>0.312193</td>\n",
       "    </tr>\n",
       "    <tr>\n",
       "      <th>max</th>\n",
       "      <td>87019.000000</td>\n",
       "      <td>488.000000</td>\n",
       "      <td>18.000000</td>\n",
       "      <td>318.000000</td>\n",
       "      <td>16.000000</td>\n",
       "      <td>319.000000</td>\n",
       "      <td>1.000000</td>\n",
       "      <td>1.000000</td>\n",
       "      <td>42.00000</td>\n",
       "      <td>42.000000</td>\n",
       "      <td>411.000000</td>\n",
       "      <td>3.000000</td>\n",
       "      <td>2.000000</td>\n",
       "      <td>2500.000000</td>\n",
       "      <td>49.000000</td>\n",
       "      <td>1.000000</td>\n",
       "      <td>100.000000</td>\n",
       "      <td>100.000000</td>\n",
       "      <td>0.528321</td>\n",
       "      <td>0.528321</td>\n",
       "    </tr>\n",
       "  </tbody>\n",
       "</table>\n",
       "</div>"
      ],
      "text/plain": [
       "              Likes  Reply_Count  LengthSentence  CommentLength     countUrl  \\\n",
       "count   3000.000000  3000.000000     3000.000000    3000.000000  3000.000000   \n",
       "mean      32.097333     0.363000        1.268667       8.573000     0.324000   \n",
       "std     1588.924487     9.341145        0.818153      13.365286     0.672687   \n",
       "min        0.000000     0.000000        1.000000       0.000000     0.000000   \n",
       "25%        0.000000     0.000000        1.000000       2.000000     0.000000   \n",
       "50%        0.000000     0.000000        1.000000       5.000000     0.000000   \n",
       "75%        1.000000     0.000000        1.000000      10.000000     1.000000   \n",
       "max    87019.000000   488.000000       18.000000     318.000000    16.000000   \n",
       "\n",
       "       WhiteSpacenum  StopwordRatio  WorldDuplicateRatio  CountEmoji  \\\n",
       "count    3000.000000    3000.000000          3000.000000  3000.00000   \n",
       "mean        7.746000       0.089131             0.965841     0.49700   \n",
       "std        13.779457       0.123214             0.103641     1.60982   \n",
       "min         0.000000       0.000000             0.000000     0.00000   \n",
       "25%         1.000000       0.000000             1.000000     0.00000   \n",
       "50%         4.000000       0.000000             1.000000     0.00000   \n",
       "75%         9.000000       0.166667             1.000000     0.00000   \n",
       "max       319.000000       1.000000             1.000000    42.00000   \n",
       "\n",
       "       CountNonAscii  CountUpperLetters  SimilarityTitle  SimilarityDesc  \\\n",
       "count    3000.000000        3000.000000      3000.000000     3000.000000   \n",
       "mean        0.543333           6.596333         0.031212        0.063724   \n",
       "std         1.710292          16.529099         0.144222        0.171486   \n",
       "min         0.000000           0.000000         0.000000        0.000000   \n",
       "25%         0.000000           1.000000         0.000000        0.000000   \n",
       "50%         0.000000           2.000000         0.000000        0.000000   \n",
       "75%         0.000000           6.000000         0.000000        0.066667   \n",
       "max        42.000000         411.000000         3.000000        2.000000   \n",
       "\n",
       "        LenComment      NameLen     UrlRatio  LexicalRichness  LexicalDensity  \\\n",
       "count  3000.000000  3000.000000  3000.000000      3000.000000     3000.000000   \n",
       "mean     64.196667    12.761333     0.184776        94.655930       49.535404   \n",
       "std     103.185560     4.880879     0.328472        12.188639       33.630231   \n",
       "min       1.000000     1.000000     0.000000         0.000000        0.000000   \n",
       "25%      22.000000    10.000000     0.000000        95.454545       20.000000   \n",
       "50%      41.000000    12.000000     0.000000       100.000000       53.846154   \n",
       "75%      73.000000    15.000000     0.294737       100.000000       75.000000   \n",
       "max    2500.000000    49.000000     1.000000       100.000000      100.000000   \n",
       "\n",
       "       CommentRandomness  NameRandomness  \n",
       "count        3000.000000     3000.000000  \n",
       "mean            0.124376        0.268773  \n",
       "std             0.096655        0.076037  \n",
       "min            -0.000000       -0.000000  \n",
       "25%             0.056550        0.220620  \n",
       "50%             0.097898        0.257080  \n",
       "75%             0.153414        0.312193  \n",
       "max             0.528321        0.528321  "
      ]
     },
     "execution_count": 54,
     "metadata": {},
     "output_type": "execute_result"
    }
   ],
   "source": [
    "clean.describe()"
   ]
  },
  {
   "cell_type": "markdown",
   "metadata": {},
   "source": [
    "## Exploratory Data Analysis After Cleaning Data"
   ]
  },
  {
   "cell_type": "markdown",
   "metadata": {},
   "source": [
    "**Rata-Rata Presentase Stopword**"
   ]
  },
  {
   "cell_type": "code",
   "execution_count": 55,
   "metadata": {},
   "outputs": [
    {
     "name": "stdout",
     "output_type": "stream",
     "text": [
      "Average stopwords percentage of spam : 0.09993990388400174\n",
      "Average stopwords percentage of legitimate : 0.08082052650378317\n"
     ]
    }
   ],
   "source": [
    "print('Average stopwords percentage of spam :',clean[clean['Label']=='spam'].StopwordRatio.mean())\n",
    "print('Average stopwords percentage of legitimate :',clean[clean['Label']!='spam'].StopwordRatio.mean())"
   ]
  },
  {
   "cell_type": "code",
   "execution_count": 56,
   "metadata": {},
   "outputs": [
    {
     "data": {
      "application/vnd.plotly.v1+json": {
       "config": {
        "plotlyServerURL": "https://plot.ly"
       },
       "data": [
        {
         "alignmentgroup": "True",
         "hovertemplate": "x=%{x}<br>y=%{y}<extra></extra>",
         "legendgroup": "",
         "marker": {
          "color": "#636efa",
          "pattern": {
           "shape": ""
          }
         },
         "name": "",
         "offsetgroup": "",
         "orientation": "h",
         "showlegend": false,
         "textposition": "auto",
         "type": "bar",
         "x": [
          0.10131093782627143,
          0.08250282235601289
         ],
         "xaxis": "x",
         "y": [
          "Spam",
          "Legitimate"
         ],
         "yaxis": "y"
        }
       ],
       "layout": {
        "barmode": "relative",
        "height": 600,
        "legend": {
         "tracegroupgap": 0
        },
        "template": {
         "data": {
          "bar": [
           {
            "error_x": {
             "color": "#2a3f5f"
            },
            "error_y": {
             "color": "#2a3f5f"
            },
            "marker": {
             "line": {
              "color": "#E5ECF6",
              "width": 0.5
             },
             "pattern": {
              "fillmode": "overlay",
              "size": 10,
              "solidity": 0.2
             }
            },
            "type": "bar"
           }
          ],
          "barpolar": [
           {
            "marker": {
             "line": {
              "color": "#E5ECF6",
              "width": 0.5
             },
             "pattern": {
              "fillmode": "overlay",
              "size": 10,
              "solidity": 0.2
             }
            },
            "type": "barpolar"
           }
          ],
          "carpet": [
           {
            "aaxis": {
             "endlinecolor": "#2a3f5f",
             "gridcolor": "white",
             "linecolor": "white",
             "minorgridcolor": "white",
             "startlinecolor": "#2a3f5f"
            },
            "baxis": {
             "endlinecolor": "#2a3f5f",
             "gridcolor": "white",
             "linecolor": "white",
             "minorgridcolor": "white",
             "startlinecolor": "#2a3f5f"
            },
            "type": "carpet"
           }
          ],
          "choropleth": [
           {
            "colorbar": {
             "outlinewidth": 0,
             "ticks": ""
            },
            "type": "choropleth"
           }
          ],
          "contour": [
           {
            "colorbar": {
             "outlinewidth": 0,
             "ticks": ""
            },
            "colorscale": [
             [
              0,
              "#0d0887"
             ],
             [
              0.1111111111111111,
              "#46039f"
             ],
             [
              0.2222222222222222,
              "#7201a8"
             ],
             [
              0.3333333333333333,
              "#9c179e"
             ],
             [
              0.4444444444444444,
              "#bd3786"
             ],
             [
              0.5555555555555556,
              "#d8576b"
             ],
             [
              0.6666666666666666,
              "#ed7953"
             ],
             [
              0.7777777777777778,
              "#fb9f3a"
             ],
             [
              0.8888888888888888,
              "#fdca26"
             ],
             [
              1,
              "#f0f921"
             ]
            ],
            "type": "contour"
           }
          ],
          "contourcarpet": [
           {
            "colorbar": {
             "outlinewidth": 0,
             "ticks": ""
            },
            "type": "contourcarpet"
           }
          ],
          "heatmap": [
           {
            "colorbar": {
             "outlinewidth": 0,
             "ticks": ""
            },
            "colorscale": [
             [
              0,
              "#0d0887"
             ],
             [
              0.1111111111111111,
              "#46039f"
             ],
             [
              0.2222222222222222,
              "#7201a8"
             ],
             [
              0.3333333333333333,
              "#9c179e"
             ],
             [
              0.4444444444444444,
              "#bd3786"
             ],
             [
              0.5555555555555556,
              "#d8576b"
             ],
             [
              0.6666666666666666,
              "#ed7953"
             ],
             [
              0.7777777777777778,
              "#fb9f3a"
             ],
             [
              0.8888888888888888,
              "#fdca26"
             ],
             [
              1,
              "#f0f921"
             ]
            ],
            "type": "heatmap"
           }
          ],
          "heatmapgl": [
           {
            "colorbar": {
             "outlinewidth": 0,
             "ticks": ""
            },
            "colorscale": [
             [
              0,
              "#0d0887"
             ],
             [
              0.1111111111111111,
              "#46039f"
             ],
             [
              0.2222222222222222,
              "#7201a8"
             ],
             [
              0.3333333333333333,
              "#9c179e"
             ],
             [
              0.4444444444444444,
              "#bd3786"
             ],
             [
              0.5555555555555556,
              "#d8576b"
             ],
             [
              0.6666666666666666,
              "#ed7953"
             ],
             [
              0.7777777777777778,
              "#fb9f3a"
             ],
             [
              0.8888888888888888,
              "#fdca26"
             ],
             [
              1,
              "#f0f921"
             ]
            ],
            "type": "heatmapgl"
           }
          ],
          "histogram": [
           {
            "marker": {
             "pattern": {
              "fillmode": "overlay",
              "size": 10,
              "solidity": 0.2
             }
            },
            "type": "histogram"
           }
          ],
          "histogram2d": [
           {
            "colorbar": {
             "outlinewidth": 0,
             "ticks": ""
            },
            "colorscale": [
             [
              0,
              "#0d0887"
             ],
             [
              0.1111111111111111,
              "#46039f"
             ],
             [
              0.2222222222222222,
              "#7201a8"
             ],
             [
              0.3333333333333333,
              "#9c179e"
             ],
             [
              0.4444444444444444,
              "#bd3786"
             ],
             [
              0.5555555555555556,
              "#d8576b"
             ],
             [
              0.6666666666666666,
              "#ed7953"
             ],
             [
              0.7777777777777778,
              "#fb9f3a"
             ],
             [
              0.8888888888888888,
              "#fdca26"
             ],
             [
              1,
              "#f0f921"
             ]
            ],
            "type": "histogram2d"
           }
          ],
          "histogram2dcontour": [
           {
            "colorbar": {
             "outlinewidth": 0,
             "ticks": ""
            },
            "colorscale": [
             [
              0,
              "#0d0887"
             ],
             [
              0.1111111111111111,
              "#46039f"
             ],
             [
              0.2222222222222222,
              "#7201a8"
             ],
             [
              0.3333333333333333,
              "#9c179e"
             ],
             [
              0.4444444444444444,
              "#bd3786"
             ],
             [
              0.5555555555555556,
              "#d8576b"
             ],
             [
              0.6666666666666666,
              "#ed7953"
             ],
             [
              0.7777777777777778,
              "#fb9f3a"
             ],
             [
              0.8888888888888888,
              "#fdca26"
             ],
             [
              1,
              "#f0f921"
             ]
            ],
            "type": "histogram2dcontour"
           }
          ],
          "mesh3d": [
           {
            "colorbar": {
             "outlinewidth": 0,
             "ticks": ""
            },
            "type": "mesh3d"
           }
          ],
          "parcoords": [
           {
            "line": {
             "colorbar": {
              "outlinewidth": 0,
              "ticks": ""
             }
            },
            "type": "parcoords"
           }
          ],
          "pie": [
           {
            "automargin": true,
            "type": "pie"
           }
          ],
          "scatter": [
           {
            "fillpattern": {
             "fillmode": "overlay",
             "size": 10,
             "solidity": 0.2
            },
            "type": "scatter"
           }
          ],
          "scatter3d": [
           {
            "line": {
             "colorbar": {
              "outlinewidth": 0,
              "ticks": ""
             }
            },
            "marker": {
             "colorbar": {
              "outlinewidth": 0,
              "ticks": ""
             }
            },
            "type": "scatter3d"
           }
          ],
          "scattercarpet": [
           {
            "marker": {
             "colorbar": {
              "outlinewidth": 0,
              "ticks": ""
             }
            },
            "type": "scattercarpet"
           }
          ],
          "scattergeo": [
           {
            "marker": {
             "colorbar": {
              "outlinewidth": 0,
              "ticks": ""
             }
            },
            "type": "scattergeo"
           }
          ],
          "scattergl": [
           {
            "marker": {
             "colorbar": {
              "outlinewidth": 0,
              "ticks": ""
             }
            },
            "type": "scattergl"
           }
          ],
          "scattermapbox": [
           {
            "marker": {
             "colorbar": {
              "outlinewidth": 0,
              "ticks": ""
             }
            },
            "type": "scattermapbox"
           }
          ],
          "scatterpolar": [
           {
            "marker": {
             "colorbar": {
              "outlinewidth": 0,
              "ticks": ""
             }
            },
            "type": "scatterpolar"
           }
          ],
          "scatterpolargl": [
           {
            "marker": {
             "colorbar": {
              "outlinewidth": 0,
              "ticks": ""
             }
            },
            "type": "scatterpolargl"
           }
          ],
          "scatterternary": [
           {
            "marker": {
             "colorbar": {
              "outlinewidth": 0,
              "ticks": ""
             }
            },
            "type": "scatterternary"
           }
          ],
          "surface": [
           {
            "colorbar": {
             "outlinewidth": 0,
             "ticks": ""
            },
            "colorscale": [
             [
              0,
              "#0d0887"
             ],
             [
              0.1111111111111111,
              "#46039f"
             ],
             [
              0.2222222222222222,
              "#7201a8"
             ],
             [
              0.3333333333333333,
              "#9c179e"
             ],
             [
              0.4444444444444444,
              "#bd3786"
             ],
             [
              0.5555555555555556,
              "#d8576b"
             ],
             [
              0.6666666666666666,
              "#ed7953"
             ],
             [
              0.7777777777777778,
              "#fb9f3a"
             ],
             [
              0.8888888888888888,
              "#fdca26"
             ],
             [
              1,
              "#f0f921"
             ]
            ],
            "type": "surface"
           }
          ],
          "table": [
           {
            "cells": {
             "fill": {
              "color": "#EBF0F8"
             },
             "line": {
              "color": "white"
             }
            },
            "header": {
             "fill": {
              "color": "#C8D4E3"
             },
             "line": {
              "color": "white"
             }
            },
            "type": "table"
           }
          ]
         },
         "layout": {
          "annotationdefaults": {
           "arrowcolor": "#2a3f5f",
           "arrowhead": 0,
           "arrowwidth": 1
          },
          "autotypenumbers": "strict",
          "coloraxis": {
           "colorbar": {
            "outlinewidth": 0,
            "ticks": ""
           }
          },
          "colorscale": {
           "diverging": [
            [
             0,
             "#8e0152"
            ],
            [
             0.1,
             "#c51b7d"
            ],
            [
             0.2,
             "#de77ae"
            ],
            [
             0.3,
             "#f1b6da"
            ],
            [
             0.4,
             "#fde0ef"
            ],
            [
             0.5,
             "#f7f7f7"
            ],
            [
             0.6,
             "#e6f5d0"
            ],
            [
             0.7,
             "#b8e186"
            ],
            [
             0.8,
             "#7fbc41"
            ],
            [
             0.9,
             "#4d9221"
            ],
            [
             1,
             "#276419"
            ]
           ],
           "sequential": [
            [
             0,
             "#0d0887"
            ],
            [
             0.1111111111111111,
             "#46039f"
            ],
            [
             0.2222222222222222,
             "#7201a8"
            ],
            [
             0.3333333333333333,
             "#9c179e"
            ],
            [
             0.4444444444444444,
             "#bd3786"
            ],
            [
             0.5555555555555556,
             "#d8576b"
            ],
            [
             0.6666666666666666,
             "#ed7953"
            ],
            [
             0.7777777777777778,
             "#fb9f3a"
            ],
            [
             0.8888888888888888,
             "#fdca26"
            ],
            [
             1,
             "#f0f921"
            ]
           ],
           "sequentialminus": [
            [
             0,
             "#0d0887"
            ],
            [
             0.1111111111111111,
             "#46039f"
            ],
            [
             0.2222222222222222,
             "#7201a8"
            ],
            [
             0.3333333333333333,
             "#9c179e"
            ],
            [
             0.4444444444444444,
             "#bd3786"
            ],
            [
             0.5555555555555556,
             "#d8576b"
            ],
            [
             0.6666666666666666,
             "#ed7953"
            ],
            [
             0.7777777777777778,
             "#fb9f3a"
            ],
            [
             0.8888888888888888,
             "#fdca26"
            ],
            [
             1,
             "#f0f921"
            ]
           ]
          },
          "colorway": [
           "#636efa",
           "#EF553B",
           "#00cc96",
           "#ab63fa",
           "#FFA15A",
           "#19d3f3",
           "#FF6692",
           "#B6E880",
           "#FF97FF",
           "#FECB52"
          ],
          "font": {
           "color": "#2a3f5f"
          },
          "geo": {
           "bgcolor": "white",
           "lakecolor": "white",
           "landcolor": "#E5ECF6",
           "showlakes": true,
           "showland": true,
           "subunitcolor": "white"
          },
          "hoverlabel": {
           "align": "left"
          },
          "hovermode": "closest",
          "mapbox": {
           "style": "light"
          },
          "paper_bgcolor": "white",
          "plot_bgcolor": "#E5ECF6",
          "polar": {
           "angularaxis": {
            "gridcolor": "white",
            "linecolor": "white",
            "ticks": ""
           },
           "bgcolor": "#E5ECF6",
           "radialaxis": {
            "gridcolor": "white",
            "linecolor": "white",
            "ticks": ""
           }
          },
          "scene": {
           "xaxis": {
            "backgroundcolor": "#E5ECF6",
            "gridcolor": "white",
            "gridwidth": 2,
            "linecolor": "white",
            "showbackground": true,
            "ticks": "",
            "zerolinecolor": "white"
           },
           "yaxis": {
            "backgroundcolor": "#E5ECF6",
            "gridcolor": "white",
            "gridwidth": 2,
            "linecolor": "white",
            "showbackground": true,
            "ticks": "",
            "zerolinecolor": "white"
           },
           "zaxis": {
            "backgroundcolor": "#E5ECF6",
            "gridcolor": "white",
            "gridwidth": 2,
            "linecolor": "white",
            "showbackground": true,
            "ticks": "",
            "zerolinecolor": "white"
           }
          },
          "shapedefaults": {
           "line": {
            "color": "#2a3f5f"
           }
          },
          "ternary": {
           "aaxis": {
            "gridcolor": "white",
            "linecolor": "white",
            "ticks": ""
           },
           "baxis": {
            "gridcolor": "white",
            "linecolor": "white",
            "ticks": ""
           },
           "bgcolor": "#E5ECF6",
           "caxis": {
            "gridcolor": "white",
            "linecolor": "white",
            "ticks": ""
           }
          },
          "title": {
           "x": 0.05
          },
          "xaxis": {
           "automargin": true,
           "gridcolor": "white",
           "linecolor": "white",
           "ticks": "",
           "title": {
            "standoff": 15
           },
           "zerolinecolor": "white",
           "zerolinewidth": 2
          },
          "yaxis": {
           "automargin": true,
           "gridcolor": "white",
           "linecolor": "white",
           "ticks": "",
           "title": {
            "standoff": 15
           },
           "zerolinecolor": "white",
           "zerolinewidth": 2
          }
         }
        },
        "title": {
         "text": "Rata Rata Persentase"
        },
        "width": 1200,
        "xaxis": {
         "anchor": "y",
         "domain": [
          0,
          1
         ],
         "title": {
          "text": "x"
         }
        },
        "yaxis": {
         "anchor": "x",
         "domain": [
          0,
          1
         ],
         "title": {
          "text": "y"
         }
        }
       }
      }
     },
     "metadata": {},
     "output_type": "display_data"
    }
   ],
   "source": [
    "fig2 = px.bar(x=[0.10131093782627143, 0.08250282235601289], y=[\"Spam\", \"Legitimate\"],\n",
    "            title = 'Rata Rata Persentase', width=1200, height=600)\n",
    "fig2.show()"
   ]
  },
  {
   "cell_type": "code",
   "execution_count": 57,
   "metadata": {},
   "outputs": [],
   "source": [
    "result = clean.copy()"
   ]
  },
  {
   "cell_type": "code",
   "execution_count": 58,
   "metadata": {},
   "outputs": [
    {
     "data": {
      "text/plain": [
       "Index(['Video_Id', 'Tittle', 'Description', 'Name', 'Comment', 'Comment_Id',\n",
       "       'Time', 'Likes', 'Reply_Count', 'Label', 'cleanTittle', 'cleanComment',\n",
       "       'cleanDesc', 'LengthSentence', 'CommentLength', 'countUrl',\n",
       "       'WhiteSpacenum', 'StopwordRatio', 'WorldDuplicateRatio', 'CountEmoji',\n",
       "       'CountNonAscii', 'CountUpperLetters', 'SimilarityTitle',\n",
       "       'SimilarityDesc', 'LenComment', 'NameLen', 'UrlRatio',\n",
       "       'LexicalRichness', 'LexicalDensity', 'CommentRandomness',\n",
       "       'NameRandomness'],\n",
       "      dtype='object')"
      ]
     },
     "execution_count": 58,
     "metadata": {},
     "output_type": "execute_result"
    }
   ],
   "source": [
    "result.columns"
   ]
  },
  {
   "cell_type": "code",
   "execution_count": 59,
   "metadata": {},
   "outputs": [],
   "source": [
    "VData =result.drop(['Video_Id', \"Tittle\", \"Description\", \"Name\", \"Comment\", \"Time\", \"cleanComment\", \"cleanDesc\", \"cleanTittle\"], axis=1)"
   ]
  },
  {
   "cell_type": "code",
   "execution_count": 60,
   "metadata": {},
   "outputs": [],
   "source": [
    "y = result.drop(['Video_Id', \"Tittle\", \"Description\", \"Name\", \"Comment\", \"Time\", \"cleanComment\", \"cleanDesc\", \"cleanTittle\"], axis=1)"
   ]
  },
  {
   "cell_type": "code",
   "execution_count": 61,
   "metadata": {},
   "outputs": [],
   "source": [
    "VData = VData.set_index(\"Comment_Id\")"
   ]
  },
  {
   "cell_type": "code",
   "execution_count": 62,
   "metadata": {},
   "outputs": [
    {
     "data": {
      "text/html": [
       "<div>\n",
       "<style scoped>\n",
       "    .dataframe tbody tr th:only-of-type {\n",
       "        vertical-align: middle;\n",
       "    }\n",
       "\n",
       "    .dataframe tbody tr th {\n",
       "        vertical-align: top;\n",
       "    }\n",
       "\n",
       "    .dataframe thead th {\n",
       "        text-align: right;\n",
       "    }\n",
       "</style>\n",
       "<table border=\"1\" class=\"dataframe\">\n",
       "  <thead>\n",
       "    <tr style=\"text-align: right;\">\n",
       "      <th></th>\n",
       "      <th>Likes</th>\n",
       "      <th>Reply_Count</th>\n",
       "      <th>Label</th>\n",
       "      <th>LengthSentence</th>\n",
       "      <th>CommentLength</th>\n",
       "      <th>countUrl</th>\n",
       "      <th>WhiteSpacenum</th>\n",
       "      <th>StopwordRatio</th>\n",
       "      <th>WorldDuplicateRatio</th>\n",
       "      <th>CountEmoji</th>\n",
       "      <th>...</th>\n",
       "      <th>CountUpperLetters</th>\n",
       "      <th>SimilarityTitle</th>\n",
       "      <th>SimilarityDesc</th>\n",
       "      <th>LenComment</th>\n",
       "      <th>NameLen</th>\n",
       "      <th>UrlRatio</th>\n",
       "      <th>LexicalRichness</th>\n",
       "      <th>LexicalDensity</th>\n",
       "      <th>CommentRandomness</th>\n",
       "      <th>NameRandomness</th>\n",
       "    </tr>\n",
       "    <tr>\n",
       "      <th>Comment_Id</th>\n",
       "      <th></th>\n",
       "      <th></th>\n",
       "      <th></th>\n",
       "      <th></th>\n",
       "      <th></th>\n",
       "      <th></th>\n",
       "      <th></th>\n",
       "      <th></th>\n",
       "      <th></th>\n",
       "      <th></th>\n",
       "      <th></th>\n",
       "      <th></th>\n",
       "      <th></th>\n",
       "      <th></th>\n",
       "      <th></th>\n",
       "      <th></th>\n",
       "      <th></th>\n",
       "      <th></th>\n",
       "      <th></th>\n",
       "      <th></th>\n",
       "      <th></th>\n",
       "    </tr>\n",
       "  </thead>\n",
       "  <tbody>\n",
       "    <tr>\n",
       "      <th>Ugz-zdD0s87dSDzITuh4AaABAg</th>\n",
       "      <td>0</td>\n",
       "      <td>0</td>\n",
       "      <td>spam</td>\n",
       "      <td>1</td>\n",
       "      <td>1</td>\n",
       "      <td>1</td>\n",
       "      <td>0</td>\n",
       "      <td>0.0</td>\n",
       "      <td>1.0</td>\n",
       "      <td>0</td>\n",
       "      <td>...</td>\n",
       "      <td>7</td>\n",
       "      <td>0.0</td>\n",
       "      <td>0.0</td>\n",
       "      <td>28</td>\n",
       "      <td>24</td>\n",
       "      <td>1.000000</td>\n",
       "      <td>100.0</td>\n",
       "      <td>100.0</td>\n",
       "      <td>0.145843</td>\n",
       "      <td>0.147430</td>\n",
       "    </tr>\n",
       "    <tr>\n",
       "      <th>UgwQM2OHIzkVDtu0PIN4AaABAg</th>\n",
       "      <td>0</td>\n",
       "      <td>0</td>\n",
       "      <td>spam</td>\n",
       "      <td>1</td>\n",
       "      <td>5</td>\n",
       "      <td>0</td>\n",
       "      <td>4</td>\n",
       "      <td>0.0</td>\n",
       "      <td>1.0</td>\n",
       "      <td>0</td>\n",
       "      <td>...</td>\n",
       "      <td>1</td>\n",
       "      <td>0.0</td>\n",
       "      <td>0.0</td>\n",
       "      <td>31</td>\n",
       "      <td>12</td>\n",
       "      <td>0.000000</td>\n",
       "      <td>100.0</td>\n",
       "      <td>40.0</td>\n",
       "      <td>0.122352</td>\n",
       "      <td>0.257080</td>\n",
       "    </tr>\n",
       "    <tr>\n",
       "      <th>Ugyh7dOOI2953Exf3cp4AaABAg.8tUY_eVh77e8tUhBosQJLg</th>\n",
       "      <td>0</td>\n",
       "      <td>0</td>\n",
       "      <td>spam</td>\n",
       "      <td>1</td>\n",
       "      <td>10</td>\n",
       "      <td>0</td>\n",
       "      <td>9</td>\n",
       "      <td>0.1</td>\n",
       "      <td>1.0</td>\n",
       "      <td>0</td>\n",
       "      <td>...</td>\n",
       "      <td>0</td>\n",
       "      <td>0.0</td>\n",
       "      <td>0.0</td>\n",
       "      <td>57</td>\n",
       "      <td>18</td>\n",
       "      <td>0.000000</td>\n",
       "      <td>100.0</td>\n",
       "      <td>50.0</td>\n",
       "      <td>0.068595</td>\n",
       "      <td>0.200798</td>\n",
       "    </tr>\n",
       "    <tr>\n",
       "      <th>UgxA-h0VMWXoShPkFEZ4AaABAg</th>\n",
       "      <td>0</td>\n",
       "      <td>0</td>\n",
       "      <td>spam</td>\n",
       "      <td>1</td>\n",
       "      <td>1</td>\n",
       "      <td>1</td>\n",
       "      <td>0</td>\n",
       "      <td>0.0</td>\n",
       "      <td>1.0</td>\n",
       "      <td>0</td>\n",
       "      <td>...</td>\n",
       "      <td>7</td>\n",
       "      <td>0.0</td>\n",
       "      <td>0.0</td>\n",
       "      <td>56</td>\n",
       "      <td>7</td>\n",
       "      <td>1.000000</td>\n",
       "      <td>100.0</td>\n",
       "      <td>0.0</td>\n",
       "      <td>0.083523</td>\n",
       "      <td>0.319418</td>\n",
       "    </tr>\n",
       "    <tr>\n",
       "      <th>UgybtnYbYjDF7YZJAdN4AaABAg</th>\n",
       "      <td>0</td>\n",
       "      <td>0</td>\n",
       "      <td>spam</td>\n",
       "      <td>1</td>\n",
       "      <td>10</td>\n",
       "      <td>1</td>\n",
       "      <td>9</td>\n",
       "      <td>0.1</td>\n",
       "      <td>1.0</td>\n",
       "      <td>0</td>\n",
       "      <td>...</td>\n",
       "      <td>17</td>\n",
       "      <td>0.0</td>\n",
       "      <td>0.0</td>\n",
       "      <td>88</td>\n",
       "      <td>10</td>\n",
       "      <td>0.318182</td>\n",
       "      <td>100.0</td>\n",
       "      <td>70.0</td>\n",
       "      <td>0.051711</td>\n",
       "      <td>0.312193</td>\n",
       "    </tr>\n",
       "  </tbody>\n",
       "</table>\n",
       "<p>5 rows × 21 columns</p>\n",
       "</div>"
      ],
      "text/plain": [
       "                                                   Likes  Reply_Count Label  \\\n",
       "Comment_Id                                                                    \n",
       "Ugz-zdD0s87dSDzITuh4AaABAg                             0            0  spam   \n",
       "UgwQM2OHIzkVDtu0PIN4AaABAg                             0            0  spam   \n",
       "Ugyh7dOOI2953Exf3cp4AaABAg.8tUY_eVh77e8tUhBosQJLg      0            0  spam   \n",
       "UgxA-h0VMWXoShPkFEZ4AaABAg                             0            0  spam   \n",
       "UgybtnYbYjDF7YZJAdN4AaABAg                             0            0  spam   \n",
       "\n",
       "                                                   LengthSentence  \\\n",
       "Comment_Id                                                          \n",
       "Ugz-zdD0s87dSDzITuh4AaABAg                                      1   \n",
       "UgwQM2OHIzkVDtu0PIN4AaABAg                                      1   \n",
       "Ugyh7dOOI2953Exf3cp4AaABAg.8tUY_eVh77e8tUhBosQJLg               1   \n",
       "UgxA-h0VMWXoShPkFEZ4AaABAg                                      1   \n",
       "UgybtnYbYjDF7YZJAdN4AaABAg                                      1   \n",
       "\n",
       "                                                   CommentLength  countUrl  \\\n",
       "Comment_Id                                                                   \n",
       "Ugz-zdD0s87dSDzITuh4AaABAg                                     1         1   \n",
       "UgwQM2OHIzkVDtu0PIN4AaABAg                                     5         0   \n",
       "Ugyh7dOOI2953Exf3cp4AaABAg.8tUY_eVh77e8tUhBosQJLg             10         0   \n",
       "UgxA-h0VMWXoShPkFEZ4AaABAg                                     1         1   \n",
       "UgybtnYbYjDF7YZJAdN4AaABAg                                    10         1   \n",
       "\n",
       "                                                   WhiteSpacenum  \\\n",
       "Comment_Id                                                         \n",
       "Ugz-zdD0s87dSDzITuh4AaABAg                                     0   \n",
       "UgwQM2OHIzkVDtu0PIN4AaABAg                                     4   \n",
       "Ugyh7dOOI2953Exf3cp4AaABAg.8tUY_eVh77e8tUhBosQJLg              9   \n",
       "UgxA-h0VMWXoShPkFEZ4AaABAg                                     0   \n",
       "UgybtnYbYjDF7YZJAdN4AaABAg                                     9   \n",
       "\n",
       "                                                   StopwordRatio  \\\n",
       "Comment_Id                                                         \n",
       "Ugz-zdD0s87dSDzITuh4AaABAg                                   0.0   \n",
       "UgwQM2OHIzkVDtu0PIN4AaABAg                                   0.0   \n",
       "Ugyh7dOOI2953Exf3cp4AaABAg.8tUY_eVh77e8tUhBosQJLg            0.1   \n",
       "UgxA-h0VMWXoShPkFEZ4AaABAg                                   0.0   \n",
       "UgybtnYbYjDF7YZJAdN4AaABAg                                   0.1   \n",
       "\n",
       "                                                   WorldDuplicateRatio  \\\n",
       "Comment_Id                                                               \n",
       "Ugz-zdD0s87dSDzITuh4AaABAg                                         1.0   \n",
       "UgwQM2OHIzkVDtu0PIN4AaABAg                                         1.0   \n",
       "Ugyh7dOOI2953Exf3cp4AaABAg.8tUY_eVh77e8tUhBosQJLg                  1.0   \n",
       "UgxA-h0VMWXoShPkFEZ4AaABAg                                         1.0   \n",
       "UgybtnYbYjDF7YZJAdN4AaABAg                                         1.0   \n",
       "\n",
       "                                                   CountEmoji  ...  \\\n",
       "Comment_Id                                                     ...   \n",
       "Ugz-zdD0s87dSDzITuh4AaABAg                                  0  ...   \n",
       "UgwQM2OHIzkVDtu0PIN4AaABAg                                  0  ...   \n",
       "Ugyh7dOOI2953Exf3cp4AaABAg.8tUY_eVh77e8tUhBosQJLg           0  ...   \n",
       "UgxA-h0VMWXoShPkFEZ4AaABAg                                  0  ...   \n",
       "UgybtnYbYjDF7YZJAdN4AaABAg                                  0  ...   \n",
       "\n",
       "                                                   CountUpperLetters  \\\n",
       "Comment_Id                                                             \n",
       "Ugz-zdD0s87dSDzITuh4AaABAg                                         7   \n",
       "UgwQM2OHIzkVDtu0PIN4AaABAg                                         1   \n",
       "Ugyh7dOOI2953Exf3cp4AaABAg.8tUY_eVh77e8tUhBosQJLg                  0   \n",
       "UgxA-h0VMWXoShPkFEZ4AaABAg                                         7   \n",
       "UgybtnYbYjDF7YZJAdN4AaABAg                                        17   \n",
       "\n",
       "                                                   SimilarityTitle  \\\n",
       "Comment_Id                                                           \n",
       "Ugz-zdD0s87dSDzITuh4AaABAg                                     0.0   \n",
       "UgwQM2OHIzkVDtu0PIN4AaABAg                                     0.0   \n",
       "Ugyh7dOOI2953Exf3cp4AaABAg.8tUY_eVh77e8tUhBosQJLg              0.0   \n",
       "UgxA-h0VMWXoShPkFEZ4AaABAg                                     0.0   \n",
       "UgybtnYbYjDF7YZJAdN4AaABAg                                     0.0   \n",
       "\n",
       "                                                   SimilarityDesc  LenComment  \\\n",
       "Comment_Id                                                                      \n",
       "Ugz-zdD0s87dSDzITuh4AaABAg                                    0.0          28   \n",
       "UgwQM2OHIzkVDtu0PIN4AaABAg                                    0.0          31   \n",
       "Ugyh7dOOI2953Exf3cp4AaABAg.8tUY_eVh77e8tUhBosQJLg             0.0          57   \n",
       "UgxA-h0VMWXoShPkFEZ4AaABAg                                    0.0          56   \n",
       "UgybtnYbYjDF7YZJAdN4AaABAg                                    0.0          88   \n",
       "\n",
       "                                                   NameLen  UrlRatio  \\\n",
       "Comment_Id                                                             \n",
       "Ugz-zdD0s87dSDzITuh4AaABAg                              24  1.000000   \n",
       "UgwQM2OHIzkVDtu0PIN4AaABAg                              12  0.000000   \n",
       "Ugyh7dOOI2953Exf3cp4AaABAg.8tUY_eVh77e8tUhBosQJLg       18  0.000000   \n",
       "UgxA-h0VMWXoShPkFEZ4AaABAg                               7  1.000000   \n",
       "UgybtnYbYjDF7YZJAdN4AaABAg                              10  0.318182   \n",
       "\n",
       "                                                   LexicalRichness  \\\n",
       "Comment_Id                                                           \n",
       "Ugz-zdD0s87dSDzITuh4AaABAg                                   100.0   \n",
       "UgwQM2OHIzkVDtu0PIN4AaABAg                                   100.0   \n",
       "Ugyh7dOOI2953Exf3cp4AaABAg.8tUY_eVh77e8tUhBosQJLg            100.0   \n",
       "UgxA-h0VMWXoShPkFEZ4AaABAg                                   100.0   \n",
       "UgybtnYbYjDF7YZJAdN4AaABAg                                   100.0   \n",
       "\n",
       "                                                   LexicalDensity  \\\n",
       "Comment_Id                                                          \n",
       "Ugz-zdD0s87dSDzITuh4AaABAg                                  100.0   \n",
       "UgwQM2OHIzkVDtu0PIN4AaABAg                                   40.0   \n",
       "Ugyh7dOOI2953Exf3cp4AaABAg.8tUY_eVh77e8tUhBosQJLg            50.0   \n",
       "UgxA-h0VMWXoShPkFEZ4AaABAg                                    0.0   \n",
       "UgybtnYbYjDF7YZJAdN4AaABAg                                   70.0   \n",
       "\n",
       "                                                   CommentRandomness  \\\n",
       "Comment_Id                                                             \n",
       "Ugz-zdD0s87dSDzITuh4AaABAg                                  0.145843   \n",
       "UgwQM2OHIzkVDtu0PIN4AaABAg                                  0.122352   \n",
       "Ugyh7dOOI2953Exf3cp4AaABAg.8tUY_eVh77e8tUhBosQJLg           0.068595   \n",
       "UgxA-h0VMWXoShPkFEZ4AaABAg                                  0.083523   \n",
       "UgybtnYbYjDF7YZJAdN4AaABAg                                  0.051711   \n",
       "\n",
       "                                                   NameRandomness  \n",
       "Comment_Id                                                         \n",
       "Ugz-zdD0s87dSDzITuh4AaABAg                               0.147430  \n",
       "UgwQM2OHIzkVDtu0PIN4AaABAg                               0.257080  \n",
       "Ugyh7dOOI2953Exf3cp4AaABAg.8tUY_eVh77e8tUhBosQJLg        0.200798  \n",
       "UgxA-h0VMWXoShPkFEZ4AaABAg                               0.319418  \n",
       "UgybtnYbYjDF7YZJAdN4AaABAg                               0.312193  \n",
       "\n",
       "[5 rows x 21 columns]"
      ]
     },
     "execution_count": 62,
     "metadata": {},
     "output_type": "execute_result"
    }
   ],
   "source": [
    "VData.head()"
   ]
  },
  {
   "cell_type": "code",
   "execution_count": 63,
   "metadata": {},
   "outputs": [],
   "source": [
    "label_encoder = LabelEncoder()"
   ]
  },
  {
   "cell_type": "code",
   "execution_count": 64,
   "metadata": {},
   "outputs": [],
   "source": [
    "VData[\"Label\"] = label_encoder.fit_transform(VData['Label'])"
   ]
  },
  {
   "cell_type": "code",
   "execution_count": 65,
   "metadata": {},
   "outputs": [
    {
     "data": {
      "text/html": [
       "<div>\n",
       "<style scoped>\n",
       "    .dataframe tbody tr th:only-of-type {\n",
       "        vertical-align: middle;\n",
       "    }\n",
       "\n",
       "    .dataframe tbody tr th {\n",
       "        vertical-align: top;\n",
       "    }\n",
       "\n",
       "    .dataframe thead th {\n",
       "        text-align: right;\n",
       "    }\n",
       "</style>\n",
       "<table border=\"1\" class=\"dataframe\">\n",
       "  <thead>\n",
       "    <tr style=\"text-align: right;\">\n",
       "      <th></th>\n",
       "      <th>Likes</th>\n",
       "      <th>Reply_Count</th>\n",
       "      <th>Label</th>\n",
       "      <th>LengthSentence</th>\n",
       "      <th>CommentLength</th>\n",
       "      <th>countUrl</th>\n",
       "      <th>WhiteSpacenum</th>\n",
       "      <th>StopwordRatio</th>\n",
       "      <th>WorldDuplicateRatio</th>\n",
       "      <th>CountEmoji</th>\n",
       "      <th>...</th>\n",
       "      <th>CountUpperLetters</th>\n",
       "      <th>SimilarityTitle</th>\n",
       "      <th>SimilarityDesc</th>\n",
       "      <th>LenComment</th>\n",
       "      <th>NameLen</th>\n",
       "      <th>UrlRatio</th>\n",
       "      <th>LexicalRichness</th>\n",
       "      <th>LexicalDensity</th>\n",
       "      <th>CommentRandomness</th>\n",
       "      <th>NameRandomness</th>\n",
       "    </tr>\n",
       "    <tr>\n",
       "      <th>Comment_Id</th>\n",
       "      <th></th>\n",
       "      <th></th>\n",
       "      <th></th>\n",
       "      <th></th>\n",
       "      <th></th>\n",
       "      <th></th>\n",
       "      <th></th>\n",
       "      <th></th>\n",
       "      <th></th>\n",
       "      <th></th>\n",
       "      <th></th>\n",
       "      <th></th>\n",
       "      <th></th>\n",
       "      <th></th>\n",
       "      <th></th>\n",
       "      <th></th>\n",
       "      <th></th>\n",
       "      <th></th>\n",
       "      <th></th>\n",
       "      <th></th>\n",
       "      <th></th>\n",
       "    </tr>\n",
       "  </thead>\n",
       "  <tbody>\n",
       "    <tr>\n",
       "      <th>Ugz-zdD0s87dSDzITuh4AaABAg</th>\n",
       "      <td>0</td>\n",
       "      <td>0</td>\n",
       "      <td>1</td>\n",
       "      <td>1</td>\n",
       "      <td>1</td>\n",
       "      <td>1</td>\n",
       "      <td>0</td>\n",
       "      <td>0.000000</td>\n",
       "      <td>1.000000</td>\n",
       "      <td>0</td>\n",
       "      <td>...</td>\n",
       "      <td>7</td>\n",
       "      <td>0.0</td>\n",
       "      <td>0.000000</td>\n",
       "      <td>28</td>\n",
       "      <td>24</td>\n",
       "      <td>1.000000</td>\n",
       "      <td>100.000000</td>\n",
       "      <td>100.000000</td>\n",
       "      <td>0.145843</td>\n",
       "      <td>0.147430</td>\n",
       "    </tr>\n",
       "    <tr>\n",
       "      <th>UgwQM2OHIzkVDtu0PIN4AaABAg</th>\n",
       "      <td>0</td>\n",
       "      <td>0</td>\n",
       "      <td>1</td>\n",
       "      <td>1</td>\n",
       "      <td>5</td>\n",
       "      <td>0</td>\n",
       "      <td>4</td>\n",
       "      <td>0.000000</td>\n",
       "      <td>1.000000</td>\n",
       "      <td>0</td>\n",
       "      <td>...</td>\n",
       "      <td>1</td>\n",
       "      <td>0.0</td>\n",
       "      <td>0.000000</td>\n",
       "      <td>31</td>\n",
       "      <td>12</td>\n",
       "      <td>0.000000</td>\n",
       "      <td>100.000000</td>\n",
       "      <td>40.000000</td>\n",
       "      <td>0.122352</td>\n",
       "      <td>0.257080</td>\n",
       "    </tr>\n",
       "    <tr>\n",
       "      <th>Ugyh7dOOI2953Exf3cp4AaABAg.8tUY_eVh77e8tUhBosQJLg</th>\n",
       "      <td>0</td>\n",
       "      <td>0</td>\n",
       "      <td>1</td>\n",
       "      <td>1</td>\n",
       "      <td>10</td>\n",
       "      <td>0</td>\n",
       "      <td>9</td>\n",
       "      <td>0.100000</td>\n",
       "      <td>1.000000</td>\n",
       "      <td>0</td>\n",
       "      <td>...</td>\n",
       "      <td>0</td>\n",
       "      <td>0.0</td>\n",
       "      <td>0.000000</td>\n",
       "      <td>57</td>\n",
       "      <td>18</td>\n",
       "      <td>0.000000</td>\n",
       "      <td>100.000000</td>\n",
       "      <td>50.000000</td>\n",
       "      <td>0.068595</td>\n",
       "      <td>0.200798</td>\n",
       "    </tr>\n",
       "    <tr>\n",
       "      <th>UgxA-h0VMWXoShPkFEZ4AaABAg</th>\n",
       "      <td>0</td>\n",
       "      <td>0</td>\n",
       "      <td>1</td>\n",
       "      <td>1</td>\n",
       "      <td>1</td>\n",
       "      <td>1</td>\n",
       "      <td>0</td>\n",
       "      <td>0.000000</td>\n",
       "      <td>1.000000</td>\n",
       "      <td>0</td>\n",
       "      <td>...</td>\n",
       "      <td>7</td>\n",
       "      <td>0.0</td>\n",
       "      <td>0.000000</td>\n",
       "      <td>56</td>\n",
       "      <td>7</td>\n",
       "      <td>1.000000</td>\n",
       "      <td>100.000000</td>\n",
       "      <td>0.000000</td>\n",
       "      <td>0.083523</td>\n",
       "      <td>0.319418</td>\n",
       "    </tr>\n",
       "    <tr>\n",
       "      <th>UgybtnYbYjDF7YZJAdN4AaABAg</th>\n",
       "      <td>0</td>\n",
       "      <td>0</td>\n",
       "      <td>1</td>\n",
       "      <td>1</td>\n",
       "      <td>10</td>\n",
       "      <td>1</td>\n",
       "      <td>9</td>\n",
       "      <td>0.100000</td>\n",
       "      <td>1.000000</td>\n",
       "      <td>0</td>\n",
       "      <td>...</td>\n",
       "      <td>17</td>\n",
       "      <td>0.0</td>\n",
       "      <td>0.000000</td>\n",
       "      <td>88</td>\n",
       "      <td>10</td>\n",
       "      <td>0.318182</td>\n",
       "      <td>100.000000</td>\n",
       "      <td>70.000000</td>\n",
       "      <td>0.051711</td>\n",
       "      <td>0.312193</td>\n",
       "    </tr>\n",
       "    <tr>\n",
       "      <th>...</th>\n",
       "      <td>...</td>\n",
       "      <td>...</td>\n",
       "      <td>...</td>\n",
       "      <td>...</td>\n",
       "      <td>...</td>\n",
       "      <td>...</td>\n",
       "      <td>...</td>\n",
       "      <td>...</td>\n",
       "      <td>...</td>\n",
       "      <td>...</td>\n",
       "      <td>...</td>\n",
       "      <td>...</td>\n",
       "      <td>...</td>\n",
       "      <td>...</td>\n",
       "      <td>...</td>\n",
       "      <td>...</td>\n",
       "      <td>...</td>\n",
       "      <td>...</td>\n",
       "      <td>...</td>\n",
       "      <td>...</td>\n",
       "      <td>...</td>\n",
       "    </tr>\n",
       "    <tr>\n",
       "      <th>UgwgzEZ28gdg9OwuDAV4AaABAg</th>\n",
       "      <td>0</td>\n",
       "      <td>0</td>\n",
       "      <td>1</td>\n",
       "      <td>1</td>\n",
       "      <td>11</td>\n",
       "      <td>1</td>\n",
       "      <td>10</td>\n",
       "      <td>0.000000</td>\n",
       "      <td>0.900000</td>\n",
       "      <td>2</td>\n",
       "      <td>...</td>\n",
       "      <td>8</td>\n",
       "      <td>0.0</td>\n",
       "      <td>0.142857</td>\n",
       "      <td>92</td>\n",
       "      <td>18</td>\n",
       "      <td>0.304348</td>\n",
       "      <td>83.333333</td>\n",
       "      <td>54.545455</td>\n",
       "      <td>0.048911</td>\n",
       "      <td>0.200798</td>\n",
       "    </tr>\n",
       "    <tr>\n",
       "      <th>UgxaK-di85EvEDdD0aF4AaABAg</th>\n",
       "      <td>0</td>\n",
       "      <td>0</td>\n",
       "      <td>1</td>\n",
       "      <td>1</td>\n",
       "      <td>1</td>\n",
       "      <td>1</td>\n",
       "      <td>0</td>\n",
       "      <td>0.000000</td>\n",
       "      <td>1.000000</td>\n",
       "      <td>0</td>\n",
       "      <td>...</td>\n",
       "      <td>3</td>\n",
       "      <td>0.0</td>\n",
       "      <td>0.000000</td>\n",
       "      <td>28</td>\n",
       "      <td>4</td>\n",
       "      <td>1.000000</td>\n",
       "      <td>100.000000</td>\n",
       "      <td>0.000000</td>\n",
       "      <td>0.154459</td>\n",
       "      <td>0.500000</td>\n",
       "    </tr>\n",
       "    <tr>\n",
       "      <th>UgyCw1ji8uc7PC2pS4l4AaABAg</th>\n",
       "      <td>0</td>\n",
       "      <td>0</td>\n",
       "      <td>1</td>\n",
       "      <td>1</td>\n",
       "      <td>5</td>\n",
       "      <td>0</td>\n",
       "      <td>4</td>\n",
       "      <td>0.000000</td>\n",
       "      <td>1.000000</td>\n",
       "      <td>0</td>\n",
       "      <td>...</td>\n",
       "      <td>38</td>\n",
       "      <td>0.0</td>\n",
       "      <td>0.000000</td>\n",
       "      <td>51</td>\n",
       "      <td>5</td>\n",
       "      <td>0.000000</td>\n",
       "      <td>100.000000</td>\n",
       "      <td>20.000000</td>\n",
       "      <td>0.084012</td>\n",
       "      <td>0.464386</td>\n",
       "    </tr>\n",
       "    <tr>\n",
       "      <th>UgxCkHGIazptstZVu4F4AaABAg.8tYBmgJog8j8tYLSCvRQSH</th>\n",
       "      <td>0</td>\n",
       "      <td>0</td>\n",
       "      <td>1</td>\n",
       "      <td>1</td>\n",
       "      <td>9</td>\n",
       "      <td>1</td>\n",
       "      <td>9</td>\n",
       "      <td>0.222222</td>\n",
       "      <td>0.888889</td>\n",
       "      <td>0</td>\n",
       "      <td>...</td>\n",
       "      <td>7</td>\n",
       "      <td>0.0</td>\n",
       "      <td>0.000000</td>\n",
       "      <td>73</td>\n",
       "      <td>8</td>\n",
       "      <td>0.383562</td>\n",
       "      <td>88.888889</td>\n",
       "      <td>44.444444</td>\n",
       "      <td>0.062160</td>\n",
       "      <td>0.343750</td>\n",
       "    </tr>\n",
       "    <tr>\n",
       "      <th>UgxI9bdgN9UbQM1Y62F4AaABAg</th>\n",
       "      <td>0</td>\n",
       "      <td>0</td>\n",
       "      <td>1</td>\n",
       "      <td>1</td>\n",
       "      <td>1</td>\n",
       "      <td>1</td>\n",
       "      <td>0</td>\n",
       "      <td>0.000000</td>\n",
       "      <td>1.000000</td>\n",
       "      <td>0</td>\n",
       "      <td>...</td>\n",
       "      <td>0</td>\n",
       "      <td>0.0</td>\n",
       "      <td>0.000000</td>\n",
       "      <td>37</td>\n",
       "      <td>11</td>\n",
       "      <td>1.000000</td>\n",
       "      <td>100.000000</td>\n",
       "      <td>100.000000</td>\n",
       "      <td>0.107838</td>\n",
       "      <td>0.258668</td>\n",
       "    </tr>\n",
       "  </tbody>\n",
       "</table>\n",
       "<p>1304 rows × 21 columns</p>\n",
       "</div>"
      ],
      "text/plain": [
       "                                                   Likes  Reply_Count  Label  \\\n",
       "Comment_Id                                                                     \n",
       "Ugz-zdD0s87dSDzITuh4AaABAg                             0            0      1   \n",
       "UgwQM2OHIzkVDtu0PIN4AaABAg                             0            0      1   \n",
       "Ugyh7dOOI2953Exf3cp4AaABAg.8tUY_eVh77e8tUhBosQJLg      0            0      1   \n",
       "UgxA-h0VMWXoShPkFEZ4AaABAg                             0            0      1   \n",
       "UgybtnYbYjDF7YZJAdN4AaABAg                             0            0      1   \n",
       "...                                                  ...          ...    ...   \n",
       "UgwgzEZ28gdg9OwuDAV4AaABAg                             0            0      1   \n",
       "UgxaK-di85EvEDdD0aF4AaABAg                             0            0      1   \n",
       "UgyCw1ji8uc7PC2pS4l4AaABAg                             0            0      1   \n",
       "UgxCkHGIazptstZVu4F4AaABAg.8tYBmgJog8j8tYLSCvRQSH      0            0      1   \n",
       "UgxI9bdgN9UbQM1Y62F4AaABAg                             0            0      1   \n",
       "\n",
       "                                                   LengthSentence  \\\n",
       "Comment_Id                                                          \n",
       "Ugz-zdD0s87dSDzITuh4AaABAg                                      1   \n",
       "UgwQM2OHIzkVDtu0PIN4AaABAg                                      1   \n",
       "Ugyh7dOOI2953Exf3cp4AaABAg.8tUY_eVh77e8tUhBosQJLg               1   \n",
       "UgxA-h0VMWXoShPkFEZ4AaABAg                                      1   \n",
       "UgybtnYbYjDF7YZJAdN4AaABAg                                      1   \n",
       "...                                                           ...   \n",
       "UgwgzEZ28gdg9OwuDAV4AaABAg                                      1   \n",
       "UgxaK-di85EvEDdD0aF4AaABAg                                      1   \n",
       "UgyCw1ji8uc7PC2pS4l4AaABAg                                      1   \n",
       "UgxCkHGIazptstZVu4F4AaABAg.8tYBmgJog8j8tYLSCvRQSH               1   \n",
       "UgxI9bdgN9UbQM1Y62F4AaABAg                                      1   \n",
       "\n",
       "                                                   CommentLength  countUrl  \\\n",
       "Comment_Id                                                                   \n",
       "Ugz-zdD0s87dSDzITuh4AaABAg                                     1         1   \n",
       "UgwQM2OHIzkVDtu0PIN4AaABAg                                     5         0   \n",
       "Ugyh7dOOI2953Exf3cp4AaABAg.8tUY_eVh77e8tUhBosQJLg             10         0   \n",
       "UgxA-h0VMWXoShPkFEZ4AaABAg                                     1         1   \n",
       "UgybtnYbYjDF7YZJAdN4AaABAg                                    10         1   \n",
       "...                                                          ...       ...   \n",
       "UgwgzEZ28gdg9OwuDAV4AaABAg                                    11         1   \n",
       "UgxaK-di85EvEDdD0aF4AaABAg                                     1         1   \n",
       "UgyCw1ji8uc7PC2pS4l4AaABAg                                     5         0   \n",
       "UgxCkHGIazptstZVu4F4AaABAg.8tYBmgJog8j8tYLSCvRQSH              9         1   \n",
       "UgxI9bdgN9UbQM1Y62F4AaABAg                                     1         1   \n",
       "\n",
       "                                                   WhiteSpacenum  \\\n",
       "Comment_Id                                                         \n",
       "Ugz-zdD0s87dSDzITuh4AaABAg                                     0   \n",
       "UgwQM2OHIzkVDtu0PIN4AaABAg                                     4   \n",
       "Ugyh7dOOI2953Exf3cp4AaABAg.8tUY_eVh77e8tUhBosQJLg              9   \n",
       "UgxA-h0VMWXoShPkFEZ4AaABAg                                     0   \n",
       "UgybtnYbYjDF7YZJAdN4AaABAg                                     9   \n",
       "...                                                          ...   \n",
       "UgwgzEZ28gdg9OwuDAV4AaABAg                                    10   \n",
       "UgxaK-di85EvEDdD0aF4AaABAg                                     0   \n",
       "UgyCw1ji8uc7PC2pS4l4AaABAg                                     4   \n",
       "UgxCkHGIazptstZVu4F4AaABAg.8tYBmgJog8j8tYLSCvRQSH              9   \n",
       "UgxI9bdgN9UbQM1Y62F4AaABAg                                     0   \n",
       "\n",
       "                                                   StopwordRatio  \\\n",
       "Comment_Id                                                         \n",
       "Ugz-zdD0s87dSDzITuh4AaABAg                              0.000000   \n",
       "UgwQM2OHIzkVDtu0PIN4AaABAg                              0.000000   \n",
       "Ugyh7dOOI2953Exf3cp4AaABAg.8tUY_eVh77e8tUhBosQJLg       0.100000   \n",
       "UgxA-h0VMWXoShPkFEZ4AaABAg                              0.000000   \n",
       "UgybtnYbYjDF7YZJAdN4AaABAg                              0.100000   \n",
       "...                                                          ...   \n",
       "UgwgzEZ28gdg9OwuDAV4AaABAg                              0.000000   \n",
       "UgxaK-di85EvEDdD0aF4AaABAg                              0.000000   \n",
       "UgyCw1ji8uc7PC2pS4l4AaABAg                              0.000000   \n",
       "UgxCkHGIazptstZVu4F4AaABAg.8tYBmgJog8j8tYLSCvRQSH       0.222222   \n",
       "UgxI9bdgN9UbQM1Y62F4AaABAg                              0.000000   \n",
       "\n",
       "                                                   WorldDuplicateRatio  \\\n",
       "Comment_Id                                                               \n",
       "Ugz-zdD0s87dSDzITuh4AaABAg                                    1.000000   \n",
       "UgwQM2OHIzkVDtu0PIN4AaABAg                                    1.000000   \n",
       "Ugyh7dOOI2953Exf3cp4AaABAg.8tUY_eVh77e8tUhBosQJLg             1.000000   \n",
       "UgxA-h0VMWXoShPkFEZ4AaABAg                                    1.000000   \n",
       "UgybtnYbYjDF7YZJAdN4AaABAg                                    1.000000   \n",
       "...                                                                ...   \n",
       "UgwgzEZ28gdg9OwuDAV4AaABAg                                    0.900000   \n",
       "UgxaK-di85EvEDdD0aF4AaABAg                                    1.000000   \n",
       "UgyCw1ji8uc7PC2pS4l4AaABAg                                    1.000000   \n",
       "UgxCkHGIazptstZVu4F4AaABAg.8tYBmgJog8j8tYLSCvRQSH             0.888889   \n",
       "UgxI9bdgN9UbQM1Y62F4AaABAg                                    1.000000   \n",
       "\n",
       "                                                   CountEmoji  ...  \\\n",
       "Comment_Id                                                     ...   \n",
       "Ugz-zdD0s87dSDzITuh4AaABAg                                  0  ...   \n",
       "UgwQM2OHIzkVDtu0PIN4AaABAg                                  0  ...   \n",
       "Ugyh7dOOI2953Exf3cp4AaABAg.8tUY_eVh77e8tUhBosQJLg           0  ...   \n",
       "UgxA-h0VMWXoShPkFEZ4AaABAg                                  0  ...   \n",
       "UgybtnYbYjDF7YZJAdN4AaABAg                                  0  ...   \n",
       "...                                                       ...  ...   \n",
       "UgwgzEZ28gdg9OwuDAV4AaABAg                                  2  ...   \n",
       "UgxaK-di85EvEDdD0aF4AaABAg                                  0  ...   \n",
       "UgyCw1ji8uc7PC2pS4l4AaABAg                                  0  ...   \n",
       "UgxCkHGIazptstZVu4F4AaABAg.8tYBmgJog8j8tYLSCvRQSH           0  ...   \n",
       "UgxI9bdgN9UbQM1Y62F4AaABAg                                  0  ...   \n",
       "\n",
       "                                                   CountUpperLetters  \\\n",
       "Comment_Id                                                             \n",
       "Ugz-zdD0s87dSDzITuh4AaABAg                                         7   \n",
       "UgwQM2OHIzkVDtu0PIN4AaABAg                                         1   \n",
       "Ugyh7dOOI2953Exf3cp4AaABAg.8tUY_eVh77e8tUhBosQJLg                  0   \n",
       "UgxA-h0VMWXoShPkFEZ4AaABAg                                         7   \n",
       "UgybtnYbYjDF7YZJAdN4AaABAg                                        17   \n",
       "...                                                              ...   \n",
       "UgwgzEZ28gdg9OwuDAV4AaABAg                                         8   \n",
       "UgxaK-di85EvEDdD0aF4AaABAg                                         3   \n",
       "UgyCw1ji8uc7PC2pS4l4AaABAg                                        38   \n",
       "UgxCkHGIazptstZVu4F4AaABAg.8tYBmgJog8j8tYLSCvRQSH                  7   \n",
       "UgxI9bdgN9UbQM1Y62F4AaABAg                                         0   \n",
       "\n",
       "                                                   SimilarityTitle  \\\n",
       "Comment_Id                                                           \n",
       "Ugz-zdD0s87dSDzITuh4AaABAg                                     0.0   \n",
       "UgwQM2OHIzkVDtu0PIN4AaABAg                                     0.0   \n",
       "Ugyh7dOOI2953Exf3cp4AaABAg.8tUY_eVh77e8tUhBosQJLg              0.0   \n",
       "UgxA-h0VMWXoShPkFEZ4AaABAg                                     0.0   \n",
       "UgybtnYbYjDF7YZJAdN4AaABAg                                     0.0   \n",
       "...                                                            ...   \n",
       "UgwgzEZ28gdg9OwuDAV4AaABAg                                     0.0   \n",
       "UgxaK-di85EvEDdD0aF4AaABAg                                     0.0   \n",
       "UgyCw1ji8uc7PC2pS4l4AaABAg                                     0.0   \n",
       "UgxCkHGIazptstZVu4F4AaABAg.8tYBmgJog8j8tYLSCvRQSH              0.0   \n",
       "UgxI9bdgN9UbQM1Y62F4AaABAg                                     0.0   \n",
       "\n",
       "                                                   SimilarityDesc  LenComment  \\\n",
       "Comment_Id                                                                      \n",
       "Ugz-zdD0s87dSDzITuh4AaABAg                               0.000000          28   \n",
       "UgwQM2OHIzkVDtu0PIN4AaABAg                               0.000000          31   \n",
       "Ugyh7dOOI2953Exf3cp4AaABAg.8tUY_eVh77e8tUhBosQJLg        0.000000          57   \n",
       "UgxA-h0VMWXoShPkFEZ4AaABAg                               0.000000          56   \n",
       "UgybtnYbYjDF7YZJAdN4AaABAg                               0.000000          88   \n",
       "...                                                           ...         ...   \n",
       "UgwgzEZ28gdg9OwuDAV4AaABAg                               0.142857          92   \n",
       "UgxaK-di85EvEDdD0aF4AaABAg                               0.000000          28   \n",
       "UgyCw1ji8uc7PC2pS4l4AaABAg                               0.000000          51   \n",
       "UgxCkHGIazptstZVu4F4AaABAg.8tYBmgJog8j8tYLSCvRQSH        0.000000          73   \n",
       "UgxI9bdgN9UbQM1Y62F4AaABAg                               0.000000          37   \n",
       "\n",
       "                                                   NameLen  UrlRatio  \\\n",
       "Comment_Id                                                             \n",
       "Ugz-zdD0s87dSDzITuh4AaABAg                              24  1.000000   \n",
       "UgwQM2OHIzkVDtu0PIN4AaABAg                              12  0.000000   \n",
       "Ugyh7dOOI2953Exf3cp4AaABAg.8tUY_eVh77e8tUhBosQJLg       18  0.000000   \n",
       "UgxA-h0VMWXoShPkFEZ4AaABAg                               7  1.000000   \n",
       "UgybtnYbYjDF7YZJAdN4AaABAg                              10  0.318182   \n",
       "...                                                    ...       ...   \n",
       "UgwgzEZ28gdg9OwuDAV4AaABAg                              18  0.304348   \n",
       "UgxaK-di85EvEDdD0aF4AaABAg                               4  1.000000   \n",
       "UgyCw1ji8uc7PC2pS4l4AaABAg                               5  0.000000   \n",
       "UgxCkHGIazptstZVu4F4AaABAg.8tYBmgJog8j8tYLSCvRQSH        8  0.383562   \n",
       "UgxI9bdgN9UbQM1Y62F4AaABAg                              11  1.000000   \n",
       "\n",
       "                                                   LexicalRichness  \\\n",
       "Comment_Id                                                           \n",
       "Ugz-zdD0s87dSDzITuh4AaABAg                              100.000000   \n",
       "UgwQM2OHIzkVDtu0PIN4AaABAg                              100.000000   \n",
       "Ugyh7dOOI2953Exf3cp4AaABAg.8tUY_eVh77e8tUhBosQJLg       100.000000   \n",
       "UgxA-h0VMWXoShPkFEZ4AaABAg                              100.000000   \n",
       "UgybtnYbYjDF7YZJAdN4AaABAg                              100.000000   \n",
       "...                                                            ...   \n",
       "UgwgzEZ28gdg9OwuDAV4AaABAg                               83.333333   \n",
       "UgxaK-di85EvEDdD0aF4AaABAg                              100.000000   \n",
       "UgyCw1ji8uc7PC2pS4l4AaABAg                              100.000000   \n",
       "UgxCkHGIazptstZVu4F4AaABAg.8tYBmgJog8j8tYLSCvRQSH        88.888889   \n",
       "UgxI9bdgN9UbQM1Y62F4AaABAg                              100.000000   \n",
       "\n",
       "                                                   LexicalDensity  \\\n",
       "Comment_Id                                                          \n",
       "Ugz-zdD0s87dSDzITuh4AaABAg                             100.000000   \n",
       "UgwQM2OHIzkVDtu0PIN4AaABAg                              40.000000   \n",
       "Ugyh7dOOI2953Exf3cp4AaABAg.8tUY_eVh77e8tUhBosQJLg       50.000000   \n",
       "UgxA-h0VMWXoShPkFEZ4AaABAg                               0.000000   \n",
       "UgybtnYbYjDF7YZJAdN4AaABAg                              70.000000   \n",
       "...                                                           ...   \n",
       "UgwgzEZ28gdg9OwuDAV4AaABAg                              54.545455   \n",
       "UgxaK-di85EvEDdD0aF4AaABAg                               0.000000   \n",
       "UgyCw1ji8uc7PC2pS4l4AaABAg                              20.000000   \n",
       "UgxCkHGIazptstZVu4F4AaABAg.8tYBmgJog8j8tYLSCvRQSH       44.444444   \n",
       "UgxI9bdgN9UbQM1Y62F4AaABAg                             100.000000   \n",
       "\n",
       "                                                   CommentRandomness  \\\n",
       "Comment_Id                                                             \n",
       "Ugz-zdD0s87dSDzITuh4AaABAg                                  0.145843   \n",
       "UgwQM2OHIzkVDtu0PIN4AaABAg                                  0.122352   \n",
       "Ugyh7dOOI2953Exf3cp4AaABAg.8tUY_eVh77e8tUhBosQJLg           0.068595   \n",
       "UgxA-h0VMWXoShPkFEZ4AaABAg                                  0.083523   \n",
       "UgybtnYbYjDF7YZJAdN4AaABAg                                  0.051711   \n",
       "...                                                              ...   \n",
       "UgwgzEZ28gdg9OwuDAV4AaABAg                                  0.048911   \n",
       "UgxaK-di85EvEDdD0aF4AaABAg                                  0.154459   \n",
       "UgyCw1ji8uc7PC2pS4l4AaABAg                                  0.084012   \n",
       "UgxCkHGIazptstZVu4F4AaABAg.8tYBmgJog8j8tYLSCvRQSH           0.062160   \n",
       "UgxI9bdgN9UbQM1Y62F4AaABAg                                  0.107838   \n",
       "\n",
       "                                                   NameRandomness  \n",
       "Comment_Id                                                         \n",
       "Ugz-zdD0s87dSDzITuh4AaABAg                               0.147430  \n",
       "UgwQM2OHIzkVDtu0PIN4AaABAg                               0.257080  \n",
       "Ugyh7dOOI2953Exf3cp4AaABAg.8tUY_eVh77e8tUhBosQJLg        0.200798  \n",
       "UgxA-h0VMWXoShPkFEZ4AaABAg                               0.319418  \n",
       "UgybtnYbYjDF7YZJAdN4AaABAg                               0.312193  \n",
       "...                                                           ...  \n",
       "UgwgzEZ28gdg9OwuDAV4AaABAg                               0.200798  \n",
       "UgxaK-di85EvEDdD0aF4AaABAg                               0.500000  \n",
       "UgyCw1ji8uc7PC2pS4l4AaABAg                               0.464386  \n",
       "UgxCkHGIazptstZVu4F4AaABAg.8tYBmgJog8j8tYLSCvRQSH        0.343750  \n",
       "UgxI9bdgN9UbQM1Y62F4AaABAg                               0.258668  \n",
       "\n",
       "[1304 rows x 21 columns]"
      ]
     },
     "execution_count": 65,
     "metadata": {},
     "output_type": "execute_result"
    }
   ],
   "source": [
    "spam = VData[VData[\"Label\"] == 1]\n",
    "spam"
   ]
  },
  {
   "cell_type": "code",
   "execution_count": 66,
   "metadata": {},
   "outputs": [
    {
     "data": {
      "text/html": [
       "<div>\n",
       "<style scoped>\n",
       "    .dataframe tbody tr th:only-of-type {\n",
       "        vertical-align: middle;\n",
       "    }\n",
       "\n",
       "    .dataframe tbody tr th {\n",
       "        vertical-align: top;\n",
       "    }\n",
       "\n",
       "    .dataframe thead th {\n",
       "        text-align: right;\n",
       "    }\n",
       "</style>\n",
       "<table border=\"1\" class=\"dataframe\">\n",
       "  <thead>\n",
       "    <tr style=\"text-align: right;\">\n",
       "      <th></th>\n",
       "      <th>Likes</th>\n",
       "      <th>Reply_Count</th>\n",
       "      <th>Label</th>\n",
       "      <th>LengthSentence</th>\n",
       "      <th>CommentLength</th>\n",
       "      <th>countUrl</th>\n",
       "      <th>WhiteSpacenum</th>\n",
       "      <th>StopwordRatio</th>\n",
       "      <th>WorldDuplicateRatio</th>\n",
       "      <th>CountEmoji</th>\n",
       "      <th>...</th>\n",
       "      <th>CountUpperLetters</th>\n",
       "      <th>SimilarityTitle</th>\n",
       "      <th>SimilarityDesc</th>\n",
       "      <th>LenComment</th>\n",
       "      <th>NameLen</th>\n",
       "      <th>UrlRatio</th>\n",
       "      <th>LexicalRichness</th>\n",
       "      <th>LexicalDensity</th>\n",
       "      <th>CommentRandomness</th>\n",
       "      <th>NameRandomness</th>\n",
       "    </tr>\n",
       "    <tr>\n",
       "      <th>Comment_Id</th>\n",
       "      <th></th>\n",
       "      <th></th>\n",
       "      <th></th>\n",
       "      <th></th>\n",
       "      <th></th>\n",
       "      <th></th>\n",
       "      <th></th>\n",
       "      <th></th>\n",
       "      <th></th>\n",
       "      <th></th>\n",
       "      <th></th>\n",
       "      <th></th>\n",
       "      <th></th>\n",
       "      <th></th>\n",
       "      <th></th>\n",
       "      <th></th>\n",
       "      <th></th>\n",
       "      <th></th>\n",
       "      <th></th>\n",
       "      <th></th>\n",
       "      <th></th>\n",
       "    </tr>\n",
       "  </thead>\n",
       "  <tbody>\n",
       "    <tr>\n",
       "      <th>UgymWIjnqV3Z9JOVGkV4AaABAg</th>\n",
       "      <td>1</td>\n",
       "      <td>0</td>\n",
       "      <td>0</td>\n",
       "      <td>1</td>\n",
       "      <td>8</td>\n",
       "      <td>0</td>\n",
       "      <td>7</td>\n",
       "      <td>0.125000</td>\n",
       "      <td>1.000000</td>\n",
       "      <td>1</td>\n",
       "      <td>...</td>\n",
       "      <td>1</td>\n",
       "      <td>0.000000</td>\n",
       "      <td>0.200000</td>\n",
       "      <td>43</td>\n",
       "      <td>13</td>\n",
       "      <td>0.000000</td>\n",
       "      <td>100.000000</td>\n",
       "      <td>12.500000</td>\n",
       "      <td>0.088523</td>\n",
       "      <td>0.249146</td>\n",
       "    </tr>\n",
       "    <tr>\n",
       "      <th>UgzxHFkIGwOoIvz9xvl4AaABAg</th>\n",
       "      <td>87019</td>\n",
       "      <td>488</td>\n",
       "      <td>0</td>\n",
       "      <td>4</td>\n",
       "      <td>69</td>\n",
       "      <td>5</td>\n",
       "      <td>74</td>\n",
       "      <td>0.014493</td>\n",
       "      <td>0.695652</td>\n",
       "      <td>0</td>\n",
       "      <td>...</td>\n",
       "      <td>74</td>\n",
       "      <td>0.131148</td>\n",
       "      <td>0.056604</td>\n",
       "      <td>588</td>\n",
       "      <td>18</td>\n",
       "      <td>0.289116</td>\n",
       "      <td>69.565217</td>\n",
       "      <td>14.492754</td>\n",
       "      <td>0.008282</td>\n",
       "      <td>0.174982</td>\n",
       "    </tr>\n",
       "    <tr>\n",
       "      <th>UgzStrrzMVkeANhiC414AaABAg.8qD2VVBYdUu8qWQTAlgely</th>\n",
       "      <td>0</td>\n",
       "      <td>0</td>\n",
       "      <td>0</td>\n",
       "      <td>1</td>\n",
       "      <td>24</td>\n",
       "      <td>0</td>\n",
       "      <td>26</td>\n",
       "      <td>0.291667</td>\n",
       "      <td>0.958333</td>\n",
       "      <td>0</td>\n",
       "      <td>...</td>\n",
       "      <td>1</td>\n",
       "      <td>0.000000</td>\n",
       "      <td>0.125000</td>\n",
       "      <td>160</td>\n",
       "      <td>12</td>\n",
       "      <td>0.000000</td>\n",
       "      <td>95.833333</td>\n",
       "      <td>75.000000</td>\n",
       "      <td>0.024783</td>\n",
       "      <td>0.251838</td>\n",
       "    </tr>\n",
       "    <tr>\n",
       "      <th>UgwWQZwdVyABD6jrxoN4AaABAg.8qa0xYsftAb8r5LKzbta4f</th>\n",
       "      <td>0</td>\n",
       "      <td>0</td>\n",
       "      <td>0</td>\n",
       "      <td>1</td>\n",
       "      <td>3</td>\n",
       "      <td>0</td>\n",
       "      <td>2</td>\n",
       "      <td>0.000000</td>\n",
       "      <td>1.000000</td>\n",
       "      <td>0</td>\n",
       "      <td>...</td>\n",
       "      <td>1</td>\n",
       "      <td>0.000000</td>\n",
       "      <td>0.000000</td>\n",
       "      <td>22</td>\n",
       "      <td>20</td>\n",
       "      <td>0.000000</td>\n",
       "      <td>100.000000</td>\n",
       "      <td>100.000000</td>\n",
       "      <td>0.113232</td>\n",
       "      <td>0.163298</td>\n",
       "    </tr>\n",
       "    <tr>\n",
       "      <th>Ugy_PVnJ1aN4TlQlH_N4AaABAg</th>\n",
       "      <td>0</td>\n",
       "      <td>0</td>\n",
       "      <td>0</td>\n",
       "      <td>1</td>\n",
       "      <td>4</td>\n",
       "      <td>0</td>\n",
       "      <td>3</td>\n",
       "      <td>0.000000</td>\n",
       "      <td>0.500000</td>\n",
       "      <td>0</td>\n",
       "      <td>...</td>\n",
       "      <td>0</td>\n",
       "      <td>0.200000</td>\n",
       "      <td>0.000000</td>\n",
       "      <td>33</td>\n",
       "      <td>14</td>\n",
       "      <td>0.000000</td>\n",
       "      <td>50.000000</td>\n",
       "      <td>100.000000</td>\n",
       "      <td>0.091395</td>\n",
       "      <td>0.203026</td>\n",
       "    </tr>\n",
       "    <tr>\n",
       "      <th>...</th>\n",
       "      <td>...</td>\n",
       "      <td>...</td>\n",
       "      <td>...</td>\n",
       "      <td>...</td>\n",
       "      <td>...</td>\n",
       "      <td>...</td>\n",
       "      <td>...</td>\n",
       "      <td>...</td>\n",
       "      <td>...</td>\n",
       "      <td>...</td>\n",
       "      <td>...</td>\n",
       "      <td>...</td>\n",
       "      <td>...</td>\n",
       "      <td>...</td>\n",
       "      <td>...</td>\n",
       "      <td>...</td>\n",
       "      <td>...</td>\n",
       "      <td>...</td>\n",
       "      <td>...</td>\n",
       "      <td>...</td>\n",
       "      <td>...</td>\n",
       "    </tr>\n",
       "    <tr>\n",
       "      <th>UgxG_8lxSoZduOAiE-54AaABAg.8tXxFBA8lZa8tXzXBaY73i</th>\n",
       "      <td>0</td>\n",
       "      <td>0</td>\n",
       "      <td>0</td>\n",
       "      <td>1</td>\n",
       "      <td>1</td>\n",
       "      <td>0</td>\n",
       "      <td>0</td>\n",
       "      <td>0.000000</td>\n",
       "      <td>1.000000</td>\n",
       "      <td>0</td>\n",
       "      <td>...</td>\n",
       "      <td>1</td>\n",
       "      <td>0.000000</td>\n",
       "      <td>0.000000</td>\n",
       "      <td>3</td>\n",
       "      <td>14</td>\n",
       "      <td>0.000000</td>\n",
       "      <td>100.000000</td>\n",
       "      <td>100.000000</td>\n",
       "      <td>0.528321</td>\n",
       "      <td>0.241342</td>\n",
       "    </tr>\n",
       "    <tr>\n",
       "      <th>Ugx4Ep3GEADS4c_w5YF4AaABAg</th>\n",
       "      <td>0</td>\n",
       "      <td>0</td>\n",
       "      <td>0</td>\n",
       "      <td>1</td>\n",
       "      <td>6</td>\n",
       "      <td>0</td>\n",
       "      <td>5</td>\n",
       "      <td>0.166667</td>\n",
       "      <td>1.000000</td>\n",
       "      <td>1</td>\n",
       "      <td>...</td>\n",
       "      <td>1</td>\n",
       "      <td>0.000000</td>\n",
       "      <td>0.083333</td>\n",
       "      <td>31</td>\n",
       "      <td>9</td>\n",
       "      <td>0.000000</td>\n",
       "      <td>100.000000</td>\n",
       "      <td>83.333333</td>\n",
       "      <td>0.119891</td>\n",
       "      <td>0.327523</td>\n",
       "    </tr>\n",
       "    <tr>\n",
       "      <th>UgzltfmrOp2dr3DbCPx4AaABAg</th>\n",
       "      <td>0</td>\n",
       "      <td>0</td>\n",
       "      <td>0</td>\n",
       "      <td>1</td>\n",
       "      <td>10</td>\n",
       "      <td>0</td>\n",
       "      <td>9</td>\n",
       "      <td>0.200000</td>\n",
       "      <td>1.000000</td>\n",
       "      <td>0</td>\n",
       "      <td>...</td>\n",
       "      <td>1</td>\n",
       "      <td>0.000000</td>\n",
       "      <td>0.125000</td>\n",
       "      <td>64</td>\n",
       "      <td>36</td>\n",
       "      <td>0.000000</td>\n",
       "      <td>100.000000</td>\n",
       "      <td>60.000000</td>\n",
       "      <td>0.058311</td>\n",
       "      <td>0.116132</td>\n",
       "    </tr>\n",
       "    <tr>\n",
       "      <th>UgyaAGTI4x4ta4TE1cF4AaABAg</th>\n",
       "      <td>0</td>\n",
       "      <td>0</td>\n",
       "      <td>0</td>\n",
       "      <td>1</td>\n",
       "      <td>2</td>\n",
       "      <td>0</td>\n",
       "      <td>1</td>\n",
       "      <td>0.000000</td>\n",
       "      <td>1.000000</td>\n",
       "      <td>0</td>\n",
       "      <td>...</td>\n",
       "      <td>1</td>\n",
       "      <td>0.000000</td>\n",
       "      <td>0.000000</td>\n",
       "      <td>13</td>\n",
       "      <td>16</td>\n",
       "      <td>0.000000</td>\n",
       "      <td>100.000000</td>\n",
       "      <td>100.000000</td>\n",
       "      <td>0.221011</td>\n",
       "      <td>0.226562</td>\n",
       "    </tr>\n",
       "    <tr>\n",
       "      <th>Ugz4K70s5tZHaG_LkIl4AaABAg</th>\n",
       "      <td>0</td>\n",
       "      <td>0</td>\n",
       "      <td>0</td>\n",
       "      <td>1</td>\n",
       "      <td>4</td>\n",
       "      <td>0</td>\n",
       "      <td>3</td>\n",
       "      <td>0.500000</td>\n",
       "      <td>1.000000</td>\n",
       "      <td>0</td>\n",
       "      <td>...</td>\n",
       "      <td>20</td>\n",
       "      <td>0.000000</td>\n",
       "      <td>0.000000</td>\n",
       "      <td>23</td>\n",
       "      <td>4</td>\n",
       "      <td>0.000000</td>\n",
       "      <td>100.000000</td>\n",
       "      <td>50.000000</td>\n",
       "      <td>0.153662</td>\n",
       "      <td>0.500000</td>\n",
       "    </tr>\n",
       "  </tbody>\n",
       "</table>\n",
       "<p>1696 rows × 21 columns</p>\n",
       "</div>"
      ],
      "text/plain": [
       "                                                   Likes  Reply_Count  Label  \\\n",
       "Comment_Id                                                                     \n",
       "UgymWIjnqV3Z9JOVGkV4AaABAg                             1            0      0   \n",
       "UgzxHFkIGwOoIvz9xvl4AaABAg                         87019          488      0   \n",
       "UgzStrrzMVkeANhiC414AaABAg.8qD2VVBYdUu8qWQTAlgely      0            0      0   \n",
       "UgwWQZwdVyABD6jrxoN4AaABAg.8qa0xYsftAb8r5LKzbta4f      0            0      0   \n",
       "Ugy_PVnJ1aN4TlQlH_N4AaABAg                             0            0      0   \n",
       "...                                                  ...          ...    ...   \n",
       "UgxG_8lxSoZduOAiE-54AaABAg.8tXxFBA8lZa8tXzXBaY73i      0            0      0   \n",
       "Ugx4Ep3GEADS4c_w5YF4AaABAg                             0            0      0   \n",
       "UgzltfmrOp2dr3DbCPx4AaABAg                             0            0      0   \n",
       "UgyaAGTI4x4ta4TE1cF4AaABAg                             0            0      0   \n",
       "Ugz4K70s5tZHaG_LkIl4AaABAg                             0            0      0   \n",
       "\n",
       "                                                   LengthSentence  \\\n",
       "Comment_Id                                                          \n",
       "UgymWIjnqV3Z9JOVGkV4AaABAg                                      1   \n",
       "UgzxHFkIGwOoIvz9xvl4AaABAg                                      4   \n",
       "UgzStrrzMVkeANhiC414AaABAg.8qD2VVBYdUu8qWQTAlgely               1   \n",
       "UgwWQZwdVyABD6jrxoN4AaABAg.8qa0xYsftAb8r5LKzbta4f               1   \n",
       "Ugy_PVnJ1aN4TlQlH_N4AaABAg                                      1   \n",
       "...                                                           ...   \n",
       "UgxG_8lxSoZduOAiE-54AaABAg.8tXxFBA8lZa8tXzXBaY73i               1   \n",
       "Ugx4Ep3GEADS4c_w5YF4AaABAg                                      1   \n",
       "UgzltfmrOp2dr3DbCPx4AaABAg                                      1   \n",
       "UgyaAGTI4x4ta4TE1cF4AaABAg                                      1   \n",
       "Ugz4K70s5tZHaG_LkIl4AaABAg                                      1   \n",
       "\n",
       "                                                   CommentLength  countUrl  \\\n",
       "Comment_Id                                                                   \n",
       "UgymWIjnqV3Z9JOVGkV4AaABAg                                     8         0   \n",
       "UgzxHFkIGwOoIvz9xvl4AaABAg                                    69         5   \n",
       "UgzStrrzMVkeANhiC414AaABAg.8qD2VVBYdUu8qWQTAlgely             24         0   \n",
       "UgwWQZwdVyABD6jrxoN4AaABAg.8qa0xYsftAb8r5LKzbta4f              3         0   \n",
       "Ugy_PVnJ1aN4TlQlH_N4AaABAg                                     4         0   \n",
       "...                                                          ...       ...   \n",
       "UgxG_8lxSoZduOAiE-54AaABAg.8tXxFBA8lZa8tXzXBaY73i              1         0   \n",
       "Ugx4Ep3GEADS4c_w5YF4AaABAg                                     6         0   \n",
       "UgzltfmrOp2dr3DbCPx4AaABAg                                    10         0   \n",
       "UgyaAGTI4x4ta4TE1cF4AaABAg                                     2         0   \n",
       "Ugz4K70s5tZHaG_LkIl4AaABAg                                     4         0   \n",
       "\n",
       "                                                   WhiteSpacenum  \\\n",
       "Comment_Id                                                         \n",
       "UgymWIjnqV3Z9JOVGkV4AaABAg                                     7   \n",
       "UgzxHFkIGwOoIvz9xvl4AaABAg                                    74   \n",
       "UgzStrrzMVkeANhiC414AaABAg.8qD2VVBYdUu8qWQTAlgely             26   \n",
       "UgwWQZwdVyABD6jrxoN4AaABAg.8qa0xYsftAb8r5LKzbta4f              2   \n",
       "Ugy_PVnJ1aN4TlQlH_N4AaABAg                                     3   \n",
       "...                                                          ...   \n",
       "UgxG_8lxSoZduOAiE-54AaABAg.8tXxFBA8lZa8tXzXBaY73i              0   \n",
       "Ugx4Ep3GEADS4c_w5YF4AaABAg                                     5   \n",
       "UgzltfmrOp2dr3DbCPx4AaABAg                                     9   \n",
       "UgyaAGTI4x4ta4TE1cF4AaABAg                                     1   \n",
       "Ugz4K70s5tZHaG_LkIl4AaABAg                                     3   \n",
       "\n",
       "                                                   StopwordRatio  \\\n",
       "Comment_Id                                                         \n",
       "UgymWIjnqV3Z9JOVGkV4AaABAg                              0.125000   \n",
       "UgzxHFkIGwOoIvz9xvl4AaABAg                              0.014493   \n",
       "UgzStrrzMVkeANhiC414AaABAg.8qD2VVBYdUu8qWQTAlgely       0.291667   \n",
       "UgwWQZwdVyABD6jrxoN4AaABAg.8qa0xYsftAb8r5LKzbta4f       0.000000   \n",
       "Ugy_PVnJ1aN4TlQlH_N4AaABAg                              0.000000   \n",
       "...                                                          ...   \n",
       "UgxG_8lxSoZduOAiE-54AaABAg.8tXxFBA8lZa8tXzXBaY73i       0.000000   \n",
       "Ugx4Ep3GEADS4c_w5YF4AaABAg                              0.166667   \n",
       "UgzltfmrOp2dr3DbCPx4AaABAg                              0.200000   \n",
       "UgyaAGTI4x4ta4TE1cF4AaABAg                              0.000000   \n",
       "Ugz4K70s5tZHaG_LkIl4AaABAg                              0.500000   \n",
       "\n",
       "                                                   WorldDuplicateRatio  \\\n",
       "Comment_Id                                                               \n",
       "UgymWIjnqV3Z9JOVGkV4AaABAg                                    1.000000   \n",
       "UgzxHFkIGwOoIvz9xvl4AaABAg                                    0.695652   \n",
       "UgzStrrzMVkeANhiC414AaABAg.8qD2VVBYdUu8qWQTAlgely             0.958333   \n",
       "UgwWQZwdVyABD6jrxoN4AaABAg.8qa0xYsftAb8r5LKzbta4f             1.000000   \n",
       "Ugy_PVnJ1aN4TlQlH_N4AaABAg                                    0.500000   \n",
       "...                                                                ...   \n",
       "UgxG_8lxSoZduOAiE-54AaABAg.8tXxFBA8lZa8tXzXBaY73i             1.000000   \n",
       "Ugx4Ep3GEADS4c_w5YF4AaABAg                                    1.000000   \n",
       "UgzltfmrOp2dr3DbCPx4AaABAg                                    1.000000   \n",
       "UgyaAGTI4x4ta4TE1cF4AaABAg                                    1.000000   \n",
       "Ugz4K70s5tZHaG_LkIl4AaABAg                                    1.000000   \n",
       "\n",
       "                                                   CountEmoji  ...  \\\n",
       "Comment_Id                                                     ...   \n",
       "UgymWIjnqV3Z9JOVGkV4AaABAg                                  1  ...   \n",
       "UgzxHFkIGwOoIvz9xvl4AaABAg                                  0  ...   \n",
       "UgzStrrzMVkeANhiC414AaABAg.8qD2VVBYdUu8qWQTAlgely           0  ...   \n",
       "UgwWQZwdVyABD6jrxoN4AaABAg.8qa0xYsftAb8r5LKzbta4f           0  ...   \n",
       "Ugy_PVnJ1aN4TlQlH_N4AaABAg                                  0  ...   \n",
       "...                                                       ...  ...   \n",
       "UgxG_8lxSoZduOAiE-54AaABAg.8tXxFBA8lZa8tXzXBaY73i           0  ...   \n",
       "Ugx4Ep3GEADS4c_w5YF4AaABAg                                  1  ...   \n",
       "UgzltfmrOp2dr3DbCPx4AaABAg                                  0  ...   \n",
       "UgyaAGTI4x4ta4TE1cF4AaABAg                                  0  ...   \n",
       "Ugz4K70s5tZHaG_LkIl4AaABAg                                  0  ...   \n",
       "\n",
       "                                                   CountUpperLetters  \\\n",
       "Comment_Id                                                             \n",
       "UgymWIjnqV3Z9JOVGkV4AaABAg                                         1   \n",
       "UgzxHFkIGwOoIvz9xvl4AaABAg                                        74   \n",
       "UgzStrrzMVkeANhiC414AaABAg.8qD2VVBYdUu8qWQTAlgely                  1   \n",
       "UgwWQZwdVyABD6jrxoN4AaABAg.8qa0xYsftAb8r5LKzbta4f                  1   \n",
       "Ugy_PVnJ1aN4TlQlH_N4AaABAg                                         0   \n",
       "...                                                              ...   \n",
       "UgxG_8lxSoZduOAiE-54AaABAg.8tXxFBA8lZa8tXzXBaY73i                  1   \n",
       "Ugx4Ep3GEADS4c_w5YF4AaABAg                                         1   \n",
       "UgzltfmrOp2dr3DbCPx4AaABAg                                         1   \n",
       "UgyaAGTI4x4ta4TE1cF4AaABAg                                         1   \n",
       "Ugz4K70s5tZHaG_LkIl4AaABAg                                        20   \n",
       "\n",
       "                                                   SimilarityTitle  \\\n",
       "Comment_Id                                                           \n",
       "UgymWIjnqV3Z9JOVGkV4AaABAg                                0.000000   \n",
       "UgzxHFkIGwOoIvz9xvl4AaABAg                                0.131148   \n",
       "UgzStrrzMVkeANhiC414AaABAg.8qD2VVBYdUu8qWQTAlgely         0.000000   \n",
       "UgwWQZwdVyABD6jrxoN4AaABAg.8qa0xYsftAb8r5LKzbta4f         0.000000   \n",
       "Ugy_PVnJ1aN4TlQlH_N4AaABAg                                0.200000   \n",
       "...                                                            ...   \n",
       "UgxG_8lxSoZduOAiE-54AaABAg.8tXxFBA8lZa8tXzXBaY73i         0.000000   \n",
       "Ugx4Ep3GEADS4c_w5YF4AaABAg                                0.000000   \n",
       "UgzltfmrOp2dr3DbCPx4AaABAg                                0.000000   \n",
       "UgyaAGTI4x4ta4TE1cF4AaABAg                                0.000000   \n",
       "Ugz4K70s5tZHaG_LkIl4AaABAg                                0.000000   \n",
       "\n",
       "                                                   SimilarityDesc  LenComment  \\\n",
       "Comment_Id                                                                      \n",
       "UgymWIjnqV3Z9JOVGkV4AaABAg                               0.200000          43   \n",
       "UgzxHFkIGwOoIvz9xvl4AaABAg                               0.056604         588   \n",
       "UgzStrrzMVkeANhiC414AaABAg.8qD2VVBYdUu8qWQTAlgely        0.125000         160   \n",
       "UgwWQZwdVyABD6jrxoN4AaABAg.8qa0xYsftAb8r5LKzbta4f        0.000000          22   \n",
       "Ugy_PVnJ1aN4TlQlH_N4AaABAg                               0.000000          33   \n",
       "...                                                           ...         ...   \n",
       "UgxG_8lxSoZduOAiE-54AaABAg.8tXxFBA8lZa8tXzXBaY73i        0.000000           3   \n",
       "Ugx4Ep3GEADS4c_w5YF4AaABAg                               0.083333          31   \n",
       "UgzltfmrOp2dr3DbCPx4AaABAg                               0.125000          64   \n",
       "UgyaAGTI4x4ta4TE1cF4AaABAg                               0.000000          13   \n",
       "Ugz4K70s5tZHaG_LkIl4AaABAg                               0.000000          23   \n",
       "\n",
       "                                                   NameLen  UrlRatio  \\\n",
       "Comment_Id                                                             \n",
       "UgymWIjnqV3Z9JOVGkV4AaABAg                              13  0.000000   \n",
       "UgzxHFkIGwOoIvz9xvl4AaABAg                              18  0.289116   \n",
       "UgzStrrzMVkeANhiC414AaABAg.8qD2VVBYdUu8qWQTAlgely       12  0.000000   \n",
       "UgwWQZwdVyABD6jrxoN4AaABAg.8qa0xYsftAb8r5LKzbta4f       20  0.000000   \n",
       "Ugy_PVnJ1aN4TlQlH_N4AaABAg                              14  0.000000   \n",
       "...                                                    ...       ...   \n",
       "UgxG_8lxSoZduOAiE-54AaABAg.8tXxFBA8lZa8tXzXBaY73i       14  0.000000   \n",
       "Ugx4Ep3GEADS4c_w5YF4AaABAg                               9  0.000000   \n",
       "UgzltfmrOp2dr3DbCPx4AaABAg                              36  0.000000   \n",
       "UgyaAGTI4x4ta4TE1cF4AaABAg                              16  0.000000   \n",
       "Ugz4K70s5tZHaG_LkIl4AaABAg                               4  0.000000   \n",
       "\n",
       "                                                   LexicalRichness  \\\n",
       "Comment_Id                                                           \n",
       "UgymWIjnqV3Z9JOVGkV4AaABAg                              100.000000   \n",
       "UgzxHFkIGwOoIvz9xvl4AaABAg                               69.565217   \n",
       "UgzStrrzMVkeANhiC414AaABAg.8qD2VVBYdUu8qWQTAlgely        95.833333   \n",
       "UgwWQZwdVyABD6jrxoN4AaABAg.8qa0xYsftAb8r5LKzbta4f       100.000000   \n",
       "Ugy_PVnJ1aN4TlQlH_N4AaABAg                               50.000000   \n",
       "...                                                            ...   \n",
       "UgxG_8lxSoZduOAiE-54AaABAg.8tXxFBA8lZa8tXzXBaY73i       100.000000   \n",
       "Ugx4Ep3GEADS4c_w5YF4AaABAg                              100.000000   \n",
       "UgzltfmrOp2dr3DbCPx4AaABAg                              100.000000   \n",
       "UgyaAGTI4x4ta4TE1cF4AaABAg                              100.000000   \n",
       "Ugz4K70s5tZHaG_LkIl4AaABAg                              100.000000   \n",
       "\n",
       "                                                   LexicalDensity  \\\n",
       "Comment_Id                                                          \n",
       "UgymWIjnqV3Z9JOVGkV4AaABAg                              12.500000   \n",
       "UgzxHFkIGwOoIvz9xvl4AaABAg                              14.492754   \n",
       "UgzStrrzMVkeANhiC414AaABAg.8qD2VVBYdUu8qWQTAlgely       75.000000   \n",
       "UgwWQZwdVyABD6jrxoN4AaABAg.8qa0xYsftAb8r5LKzbta4f      100.000000   \n",
       "Ugy_PVnJ1aN4TlQlH_N4AaABAg                             100.000000   \n",
       "...                                                           ...   \n",
       "UgxG_8lxSoZduOAiE-54AaABAg.8tXxFBA8lZa8tXzXBaY73i      100.000000   \n",
       "Ugx4Ep3GEADS4c_w5YF4AaABAg                              83.333333   \n",
       "UgzltfmrOp2dr3DbCPx4AaABAg                              60.000000   \n",
       "UgyaAGTI4x4ta4TE1cF4AaABAg                             100.000000   \n",
       "Ugz4K70s5tZHaG_LkIl4AaABAg                              50.000000   \n",
       "\n",
       "                                                   CommentRandomness  \\\n",
       "Comment_Id                                                             \n",
       "UgymWIjnqV3Z9JOVGkV4AaABAg                                  0.088523   \n",
       "UgzxHFkIGwOoIvz9xvl4AaABAg                                  0.008282   \n",
       "UgzStrrzMVkeANhiC414AaABAg.8qD2VVBYdUu8qWQTAlgely           0.024783   \n",
       "UgwWQZwdVyABD6jrxoN4AaABAg.8qa0xYsftAb8r5LKzbta4f           0.113232   \n",
       "Ugy_PVnJ1aN4TlQlH_N4AaABAg                                  0.091395   \n",
       "...                                                              ...   \n",
       "UgxG_8lxSoZduOAiE-54AaABAg.8tXxFBA8lZa8tXzXBaY73i           0.528321   \n",
       "Ugx4Ep3GEADS4c_w5YF4AaABAg                                  0.119891   \n",
       "UgzltfmrOp2dr3DbCPx4AaABAg                                  0.058311   \n",
       "UgyaAGTI4x4ta4TE1cF4AaABAg                                  0.221011   \n",
       "Ugz4K70s5tZHaG_LkIl4AaABAg                                  0.153662   \n",
       "\n",
       "                                                   NameRandomness  \n",
       "Comment_Id                                                         \n",
       "UgymWIjnqV3Z9JOVGkV4AaABAg                               0.249146  \n",
       "UgzxHFkIGwOoIvz9xvl4AaABAg                               0.174982  \n",
       "UgzStrrzMVkeANhiC414AaABAg.8qD2VVBYdUu8qWQTAlgely        0.251838  \n",
       "UgwWQZwdVyABD6jrxoN4AaABAg.8qa0xYsftAb8r5LKzbta4f        0.163298  \n",
       "Ugy_PVnJ1aN4TlQlH_N4AaABAg                               0.203026  \n",
       "...                                                           ...  \n",
       "UgxG_8lxSoZduOAiE-54AaABAg.8tXxFBA8lZa8tXzXBaY73i        0.241342  \n",
       "Ugx4Ep3GEADS4c_w5YF4AaABAg                               0.327523  \n",
       "UgzltfmrOp2dr3DbCPx4AaABAg                               0.116132  \n",
       "UgyaAGTI4x4ta4TE1cF4AaABAg                               0.226562  \n",
       "Ugz4K70s5tZHaG_LkIl4AaABAg                               0.500000  \n",
       "\n",
       "[1696 rows x 21 columns]"
      ]
     },
     "execution_count": 66,
     "metadata": {},
     "output_type": "execute_result"
    }
   ],
   "source": [
    "Legit = VData[VData[\"Label\"] == 0]\n",
    "Legit"
   ]
  },
  {
   "cell_type": "code",
   "execution_count": 67,
   "metadata": {},
   "outputs": [
    {
     "data": {
      "text/html": [
       "<div>\n",
       "<style scoped>\n",
       "    .dataframe tbody tr th:only-of-type {\n",
       "        vertical-align: middle;\n",
       "    }\n",
       "\n",
       "    .dataframe tbody tr th {\n",
       "        vertical-align: top;\n",
       "    }\n",
       "\n",
       "    .dataframe thead th {\n",
       "        text-align: right;\n",
       "    }\n",
       "</style>\n",
       "<table border=\"1\" class=\"dataframe\">\n",
       "  <thead>\n",
       "    <tr style=\"text-align: right;\">\n",
       "      <th></th>\n",
       "      <th>Likes</th>\n",
       "      <th>Reply_Count</th>\n",
       "      <th>LengthSentence</th>\n",
       "      <th>CommentLength</th>\n",
       "      <th>countUrl</th>\n",
       "      <th>WhiteSpacenum</th>\n",
       "      <th>StopwordRatio</th>\n",
       "      <th>WorldDuplicateRatio</th>\n",
       "      <th>CountEmoji</th>\n",
       "      <th>CountNonAscii</th>\n",
       "      <th>CountUpperLetters</th>\n",
       "      <th>SimilarityTitle</th>\n",
       "      <th>SimilarityDesc</th>\n",
       "      <th>LenComment</th>\n",
       "      <th>NameLen</th>\n",
       "      <th>UrlRatio</th>\n",
       "      <th>LexicalRichness</th>\n",
       "      <th>LexicalDensity</th>\n",
       "      <th>CommentRandomness</th>\n",
       "      <th>NameRandomness</th>\n",
       "    </tr>\n",
       "    <tr>\n",
       "      <th>Comment_Id</th>\n",
       "      <th></th>\n",
       "      <th></th>\n",
       "      <th></th>\n",
       "      <th></th>\n",
       "      <th></th>\n",
       "      <th></th>\n",
       "      <th></th>\n",
       "      <th></th>\n",
       "      <th></th>\n",
       "      <th></th>\n",
       "      <th></th>\n",
       "      <th></th>\n",
       "      <th></th>\n",
       "      <th></th>\n",
       "      <th></th>\n",
       "      <th></th>\n",
       "      <th></th>\n",
       "      <th></th>\n",
       "      <th></th>\n",
       "      <th></th>\n",
       "    </tr>\n",
       "  </thead>\n",
       "  <tbody>\n",
       "    <tr>\n",
       "      <th>Ugz-zdD0s87dSDzITuh4AaABAg</th>\n",
       "      <td>0</td>\n",
       "      <td>0</td>\n",
       "      <td>1</td>\n",
       "      <td>1</td>\n",
       "      <td>1</td>\n",
       "      <td>0</td>\n",
       "      <td>0.000000</td>\n",
       "      <td>1.0</td>\n",
       "      <td>0</td>\n",
       "      <td>0</td>\n",
       "      <td>7</td>\n",
       "      <td>0.0</td>\n",
       "      <td>0.000000</td>\n",
       "      <td>28</td>\n",
       "      <td>24</td>\n",
       "      <td>1.000000</td>\n",
       "      <td>100.0</td>\n",
       "      <td>100.000000</td>\n",
       "      <td>0.145843</td>\n",
       "      <td>0.147430</td>\n",
       "    </tr>\n",
       "    <tr>\n",
       "      <th>UgwQM2OHIzkVDtu0PIN4AaABAg</th>\n",
       "      <td>0</td>\n",
       "      <td>0</td>\n",
       "      <td>1</td>\n",
       "      <td>5</td>\n",
       "      <td>0</td>\n",
       "      <td>4</td>\n",
       "      <td>0.000000</td>\n",
       "      <td>1.0</td>\n",
       "      <td>0</td>\n",
       "      <td>0</td>\n",
       "      <td>1</td>\n",
       "      <td>0.0</td>\n",
       "      <td>0.000000</td>\n",
       "      <td>31</td>\n",
       "      <td>12</td>\n",
       "      <td>0.000000</td>\n",
       "      <td>100.0</td>\n",
       "      <td>40.000000</td>\n",
       "      <td>0.122352</td>\n",
       "      <td>0.257080</td>\n",
       "    </tr>\n",
       "    <tr>\n",
       "      <th>Ugyh7dOOI2953Exf3cp4AaABAg.8tUY_eVh77e8tUhBosQJLg</th>\n",
       "      <td>0</td>\n",
       "      <td>0</td>\n",
       "      <td>1</td>\n",
       "      <td>10</td>\n",
       "      <td>0</td>\n",
       "      <td>9</td>\n",
       "      <td>0.100000</td>\n",
       "      <td>1.0</td>\n",
       "      <td>0</td>\n",
       "      <td>0</td>\n",
       "      <td>0</td>\n",
       "      <td>0.0</td>\n",
       "      <td>0.000000</td>\n",
       "      <td>57</td>\n",
       "      <td>18</td>\n",
       "      <td>0.000000</td>\n",
       "      <td>100.0</td>\n",
       "      <td>50.000000</td>\n",
       "      <td>0.068595</td>\n",
       "      <td>0.200798</td>\n",
       "    </tr>\n",
       "    <tr>\n",
       "      <th>UgxA-h0VMWXoShPkFEZ4AaABAg</th>\n",
       "      <td>0</td>\n",
       "      <td>0</td>\n",
       "      <td>1</td>\n",
       "      <td>1</td>\n",
       "      <td>1</td>\n",
       "      <td>0</td>\n",
       "      <td>0.000000</td>\n",
       "      <td>1.0</td>\n",
       "      <td>0</td>\n",
       "      <td>0</td>\n",
       "      <td>7</td>\n",
       "      <td>0.0</td>\n",
       "      <td>0.000000</td>\n",
       "      <td>56</td>\n",
       "      <td>7</td>\n",
       "      <td>1.000000</td>\n",
       "      <td>100.0</td>\n",
       "      <td>0.000000</td>\n",
       "      <td>0.083523</td>\n",
       "      <td>0.319418</td>\n",
       "    </tr>\n",
       "    <tr>\n",
       "      <th>UgybtnYbYjDF7YZJAdN4AaABAg</th>\n",
       "      <td>0</td>\n",
       "      <td>0</td>\n",
       "      <td>1</td>\n",
       "      <td>10</td>\n",
       "      <td>1</td>\n",
       "      <td>9</td>\n",
       "      <td>0.100000</td>\n",
       "      <td>1.0</td>\n",
       "      <td>0</td>\n",
       "      <td>0</td>\n",
       "      <td>17</td>\n",
       "      <td>0.0</td>\n",
       "      <td>0.000000</td>\n",
       "      <td>88</td>\n",
       "      <td>10</td>\n",
       "      <td>0.318182</td>\n",
       "      <td>100.0</td>\n",
       "      <td>70.000000</td>\n",
       "      <td>0.051711</td>\n",
       "      <td>0.312193</td>\n",
       "    </tr>\n",
       "    <tr>\n",
       "      <th>...</th>\n",
       "      <td>...</td>\n",
       "      <td>...</td>\n",
       "      <td>...</td>\n",
       "      <td>...</td>\n",
       "      <td>...</td>\n",
       "      <td>...</td>\n",
       "      <td>...</td>\n",
       "      <td>...</td>\n",
       "      <td>...</td>\n",
       "      <td>...</td>\n",
       "      <td>...</td>\n",
       "      <td>...</td>\n",
       "      <td>...</td>\n",
       "      <td>...</td>\n",
       "      <td>...</td>\n",
       "      <td>...</td>\n",
       "      <td>...</td>\n",
       "      <td>...</td>\n",
       "      <td>...</td>\n",
       "      <td>...</td>\n",
       "    </tr>\n",
       "    <tr>\n",
       "      <th>UgxG_8lxSoZduOAiE-54AaABAg.8tXxFBA8lZa8tXzXBaY73i</th>\n",
       "      <td>0</td>\n",
       "      <td>0</td>\n",
       "      <td>1</td>\n",
       "      <td>1</td>\n",
       "      <td>0</td>\n",
       "      <td>0</td>\n",
       "      <td>0.000000</td>\n",
       "      <td>1.0</td>\n",
       "      <td>0</td>\n",
       "      <td>0</td>\n",
       "      <td>1</td>\n",
       "      <td>0.0</td>\n",
       "      <td>0.000000</td>\n",
       "      <td>3</td>\n",
       "      <td>14</td>\n",
       "      <td>0.000000</td>\n",
       "      <td>100.0</td>\n",
       "      <td>100.000000</td>\n",
       "      <td>0.528321</td>\n",
       "      <td>0.241342</td>\n",
       "    </tr>\n",
       "    <tr>\n",
       "      <th>Ugx4Ep3GEADS4c_w5YF4AaABAg</th>\n",
       "      <td>0</td>\n",
       "      <td>0</td>\n",
       "      <td>1</td>\n",
       "      <td>6</td>\n",
       "      <td>0</td>\n",
       "      <td>5</td>\n",
       "      <td>0.166667</td>\n",
       "      <td>1.0</td>\n",
       "      <td>1</td>\n",
       "      <td>1</td>\n",
       "      <td>1</td>\n",
       "      <td>0.0</td>\n",
       "      <td>0.083333</td>\n",
       "      <td>31</td>\n",
       "      <td>9</td>\n",
       "      <td>0.000000</td>\n",
       "      <td>100.0</td>\n",
       "      <td>83.333333</td>\n",
       "      <td>0.119891</td>\n",
       "      <td>0.327523</td>\n",
       "    </tr>\n",
       "    <tr>\n",
       "      <th>UgzltfmrOp2dr3DbCPx4AaABAg</th>\n",
       "      <td>0</td>\n",
       "      <td>0</td>\n",
       "      <td>1</td>\n",
       "      <td>10</td>\n",
       "      <td>0</td>\n",
       "      <td>9</td>\n",
       "      <td>0.200000</td>\n",
       "      <td>1.0</td>\n",
       "      <td>0</td>\n",
       "      <td>0</td>\n",
       "      <td>1</td>\n",
       "      <td>0.0</td>\n",
       "      <td>0.125000</td>\n",
       "      <td>64</td>\n",
       "      <td>36</td>\n",
       "      <td>0.000000</td>\n",
       "      <td>100.0</td>\n",
       "      <td>60.000000</td>\n",
       "      <td>0.058311</td>\n",
       "      <td>0.116132</td>\n",
       "    </tr>\n",
       "    <tr>\n",
       "      <th>UgyaAGTI4x4ta4TE1cF4AaABAg</th>\n",
       "      <td>0</td>\n",
       "      <td>0</td>\n",
       "      <td>1</td>\n",
       "      <td>2</td>\n",
       "      <td>0</td>\n",
       "      <td>1</td>\n",
       "      <td>0.000000</td>\n",
       "      <td>1.0</td>\n",
       "      <td>0</td>\n",
       "      <td>0</td>\n",
       "      <td>1</td>\n",
       "      <td>0.0</td>\n",
       "      <td>0.000000</td>\n",
       "      <td>13</td>\n",
       "      <td>16</td>\n",
       "      <td>0.000000</td>\n",
       "      <td>100.0</td>\n",
       "      <td>100.000000</td>\n",
       "      <td>0.221011</td>\n",
       "      <td>0.226562</td>\n",
       "    </tr>\n",
       "    <tr>\n",
       "      <th>Ugz4K70s5tZHaG_LkIl4AaABAg</th>\n",
       "      <td>0</td>\n",
       "      <td>0</td>\n",
       "      <td>1</td>\n",
       "      <td>4</td>\n",
       "      <td>0</td>\n",
       "      <td>3</td>\n",
       "      <td>0.500000</td>\n",
       "      <td>1.0</td>\n",
       "      <td>0</td>\n",
       "      <td>0</td>\n",
       "      <td>20</td>\n",
       "      <td>0.0</td>\n",
       "      <td>0.000000</td>\n",
       "      <td>23</td>\n",
       "      <td>4</td>\n",
       "      <td>0.000000</td>\n",
       "      <td>100.0</td>\n",
       "      <td>50.000000</td>\n",
       "      <td>0.153662</td>\n",
       "      <td>0.500000</td>\n",
       "    </tr>\n",
       "  </tbody>\n",
       "</table>\n",
       "<p>3000 rows × 20 columns</p>\n",
       "</div>"
      ],
      "text/plain": [
       "                                                   Likes  Reply_Count  \\\n",
       "Comment_Id                                                              \n",
       "Ugz-zdD0s87dSDzITuh4AaABAg                             0            0   \n",
       "UgwQM2OHIzkVDtu0PIN4AaABAg                             0            0   \n",
       "Ugyh7dOOI2953Exf3cp4AaABAg.8tUY_eVh77e8tUhBosQJLg      0            0   \n",
       "UgxA-h0VMWXoShPkFEZ4AaABAg                             0            0   \n",
       "UgybtnYbYjDF7YZJAdN4AaABAg                             0            0   \n",
       "...                                                  ...          ...   \n",
       "UgxG_8lxSoZduOAiE-54AaABAg.8tXxFBA8lZa8tXzXBaY73i      0            0   \n",
       "Ugx4Ep3GEADS4c_w5YF4AaABAg                             0            0   \n",
       "UgzltfmrOp2dr3DbCPx4AaABAg                             0            0   \n",
       "UgyaAGTI4x4ta4TE1cF4AaABAg                             0            0   \n",
       "Ugz4K70s5tZHaG_LkIl4AaABAg                             0            0   \n",
       "\n",
       "                                                   LengthSentence  \\\n",
       "Comment_Id                                                          \n",
       "Ugz-zdD0s87dSDzITuh4AaABAg                                      1   \n",
       "UgwQM2OHIzkVDtu0PIN4AaABAg                                      1   \n",
       "Ugyh7dOOI2953Exf3cp4AaABAg.8tUY_eVh77e8tUhBosQJLg               1   \n",
       "UgxA-h0VMWXoShPkFEZ4AaABAg                                      1   \n",
       "UgybtnYbYjDF7YZJAdN4AaABAg                                      1   \n",
       "...                                                           ...   \n",
       "UgxG_8lxSoZduOAiE-54AaABAg.8tXxFBA8lZa8tXzXBaY73i               1   \n",
       "Ugx4Ep3GEADS4c_w5YF4AaABAg                                      1   \n",
       "UgzltfmrOp2dr3DbCPx4AaABAg                                      1   \n",
       "UgyaAGTI4x4ta4TE1cF4AaABAg                                      1   \n",
       "Ugz4K70s5tZHaG_LkIl4AaABAg                                      1   \n",
       "\n",
       "                                                   CommentLength  countUrl  \\\n",
       "Comment_Id                                                                   \n",
       "Ugz-zdD0s87dSDzITuh4AaABAg                                     1         1   \n",
       "UgwQM2OHIzkVDtu0PIN4AaABAg                                     5         0   \n",
       "Ugyh7dOOI2953Exf3cp4AaABAg.8tUY_eVh77e8tUhBosQJLg             10         0   \n",
       "UgxA-h0VMWXoShPkFEZ4AaABAg                                     1         1   \n",
       "UgybtnYbYjDF7YZJAdN4AaABAg                                    10         1   \n",
       "...                                                          ...       ...   \n",
       "UgxG_8lxSoZduOAiE-54AaABAg.8tXxFBA8lZa8tXzXBaY73i              1         0   \n",
       "Ugx4Ep3GEADS4c_w5YF4AaABAg                                     6         0   \n",
       "UgzltfmrOp2dr3DbCPx4AaABAg                                    10         0   \n",
       "UgyaAGTI4x4ta4TE1cF4AaABAg                                     2         0   \n",
       "Ugz4K70s5tZHaG_LkIl4AaABAg                                     4         0   \n",
       "\n",
       "                                                   WhiteSpacenum  \\\n",
       "Comment_Id                                                         \n",
       "Ugz-zdD0s87dSDzITuh4AaABAg                                     0   \n",
       "UgwQM2OHIzkVDtu0PIN4AaABAg                                     4   \n",
       "Ugyh7dOOI2953Exf3cp4AaABAg.8tUY_eVh77e8tUhBosQJLg              9   \n",
       "UgxA-h0VMWXoShPkFEZ4AaABAg                                     0   \n",
       "UgybtnYbYjDF7YZJAdN4AaABAg                                     9   \n",
       "...                                                          ...   \n",
       "UgxG_8lxSoZduOAiE-54AaABAg.8tXxFBA8lZa8tXzXBaY73i              0   \n",
       "Ugx4Ep3GEADS4c_w5YF4AaABAg                                     5   \n",
       "UgzltfmrOp2dr3DbCPx4AaABAg                                     9   \n",
       "UgyaAGTI4x4ta4TE1cF4AaABAg                                     1   \n",
       "Ugz4K70s5tZHaG_LkIl4AaABAg                                     3   \n",
       "\n",
       "                                                   StopwordRatio  \\\n",
       "Comment_Id                                                         \n",
       "Ugz-zdD0s87dSDzITuh4AaABAg                              0.000000   \n",
       "UgwQM2OHIzkVDtu0PIN4AaABAg                              0.000000   \n",
       "Ugyh7dOOI2953Exf3cp4AaABAg.8tUY_eVh77e8tUhBosQJLg       0.100000   \n",
       "UgxA-h0VMWXoShPkFEZ4AaABAg                              0.000000   \n",
       "UgybtnYbYjDF7YZJAdN4AaABAg                              0.100000   \n",
       "...                                                          ...   \n",
       "UgxG_8lxSoZduOAiE-54AaABAg.8tXxFBA8lZa8tXzXBaY73i       0.000000   \n",
       "Ugx4Ep3GEADS4c_w5YF4AaABAg                              0.166667   \n",
       "UgzltfmrOp2dr3DbCPx4AaABAg                              0.200000   \n",
       "UgyaAGTI4x4ta4TE1cF4AaABAg                              0.000000   \n",
       "Ugz4K70s5tZHaG_LkIl4AaABAg                              0.500000   \n",
       "\n",
       "                                                   WorldDuplicateRatio  \\\n",
       "Comment_Id                                                               \n",
       "Ugz-zdD0s87dSDzITuh4AaABAg                                         1.0   \n",
       "UgwQM2OHIzkVDtu0PIN4AaABAg                                         1.0   \n",
       "Ugyh7dOOI2953Exf3cp4AaABAg.8tUY_eVh77e8tUhBosQJLg                  1.0   \n",
       "UgxA-h0VMWXoShPkFEZ4AaABAg                                         1.0   \n",
       "UgybtnYbYjDF7YZJAdN4AaABAg                                         1.0   \n",
       "...                                                                ...   \n",
       "UgxG_8lxSoZduOAiE-54AaABAg.8tXxFBA8lZa8tXzXBaY73i                  1.0   \n",
       "Ugx4Ep3GEADS4c_w5YF4AaABAg                                         1.0   \n",
       "UgzltfmrOp2dr3DbCPx4AaABAg                                         1.0   \n",
       "UgyaAGTI4x4ta4TE1cF4AaABAg                                         1.0   \n",
       "Ugz4K70s5tZHaG_LkIl4AaABAg                                         1.0   \n",
       "\n",
       "                                                   CountEmoji  CountNonAscii  \\\n",
       "Comment_Id                                                                     \n",
       "Ugz-zdD0s87dSDzITuh4AaABAg                                  0              0   \n",
       "UgwQM2OHIzkVDtu0PIN4AaABAg                                  0              0   \n",
       "Ugyh7dOOI2953Exf3cp4AaABAg.8tUY_eVh77e8tUhBosQJLg           0              0   \n",
       "UgxA-h0VMWXoShPkFEZ4AaABAg                                  0              0   \n",
       "UgybtnYbYjDF7YZJAdN4AaABAg                                  0              0   \n",
       "...                                                       ...            ...   \n",
       "UgxG_8lxSoZduOAiE-54AaABAg.8tXxFBA8lZa8tXzXBaY73i           0              0   \n",
       "Ugx4Ep3GEADS4c_w5YF4AaABAg                                  1              1   \n",
       "UgzltfmrOp2dr3DbCPx4AaABAg                                  0              0   \n",
       "UgyaAGTI4x4ta4TE1cF4AaABAg                                  0              0   \n",
       "Ugz4K70s5tZHaG_LkIl4AaABAg                                  0              0   \n",
       "\n",
       "                                                   CountUpperLetters  \\\n",
       "Comment_Id                                                             \n",
       "Ugz-zdD0s87dSDzITuh4AaABAg                                         7   \n",
       "UgwQM2OHIzkVDtu0PIN4AaABAg                                         1   \n",
       "Ugyh7dOOI2953Exf3cp4AaABAg.8tUY_eVh77e8tUhBosQJLg                  0   \n",
       "UgxA-h0VMWXoShPkFEZ4AaABAg                                         7   \n",
       "UgybtnYbYjDF7YZJAdN4AaABAg                                        17   \n",
       "...                                                              ...   \n",
       "UgxG_8lxSoZduOAiE-54AaABAg.8tXxFBA8lZa8tXzXBaY73i                  1   \n",
       "Ugx4Ep3GEADS4c_w5YF4AaABAg                                         1   \n",
       "UgzltfmrOp2dr3DbCPx4AaABAg                                         1   \n",
       "UgyaAGTI4x4ta4TE1cF4AaABAg                                         1   \n",
       "Ugz4K70s5tZHaG_LkIl4AaABAg                                        20   \n",
       "\n",
       "                                                   SimilarityTitle  \\\n",
       "Comment_Id                                                           \n",
       "Ugz-zdD0s87dSDzITuh4AaABAg                                     0.0   \n",
       "UgwQM2OHIzkVDtu0PIN4AaABAg                                     0.0   \n",
       "Ugyh7dOOI2953Exf3cp4AaABAg.8tUY_eVh77e8tUhBosQJLg              0.0   \n",
       "UgxA-h0VMWXoShPkFEZ4AaABAg                                     0.0   \n",
       "UgybtnYbYjDF7YZJAdN4AaABAg                                     0.0   \n",
       "...                                                            ...   \n",
       "UgxG_8lxSoZduOAiE-54AaABAg.8tXxFBA8lZa8tXzXBaY73i              0.0   \n",
       "Ugx4Ep3GEADS4c_w5YF4AaABAg                                     0.0   \n",
       "UgzltfmrOp2dr3DbCPx4AaABAg                                     0.0   \n",
       "UgyaAGTI4x4ta4TE1cF4AaABAg                                     0.0   \n",
       "Ugz4K70s5tZHaG_LkIl4AaABAg                                     0.0   \n",
       "\n",
       "                                                   SimilarityDesc  LenComment  \\\n",
       "Comment_Id                                                                      \n",
       "Ugz-zdD0s87dSDzITuh4AaABAg                               0.000000          28   \n",
       "UgwQM2OHIzkVDtu0PIN4AaABAg                               0.000000          31   \n",
       "Ugyh7dOOI2953Exf3cp4AaABAg.8tUY_eVh77e8tUhBosQJLg        0.000000          57   \n",
       "UgxA-h0VMWXoShPkFEZ4AaABAg                               0.000000          56   \n",
       "UgybtnYbYjDF7YZJAdN4AaABAg                               0.000000          88   \n",
       "...                                                           ...         ...   \n",
       "UgxG_8lxSoZduOAiE-54AaABAg.8tXxFBA8lZa8tXzXBaY73i        0.000000           3   \n",
       "Ugx4Ep3GEADS4c_w5YF4AaABAg                               0.083333          31   \n",
       "UgzltfmrOp2dr3DbCPx4AaABAg                               0.125000          64   \n",
       "UgyaAGTI4x4ta4TE1cF4AaABAg                               0.000000          13   \n",
       "Ugz4K70s5tZHaG_LkIl4AaABAg                               0.000000          23   \n",
       "\n",
       "                                                   NameLen  UrlRatio  \\\n",
       "Comment_Id                                                             \n",
       "Ugz-zdD0s87dSDzITuh4AaABAg                              24  1.000000   \n",
       "UgwQM2OHIzkVDtu0PIN4AaABAg                              12  0.000000   \n",
       "Ugyh7dOOI2953Exf3cp4AaABAg.8tUY_eVh77e8tUhBosQJLg       18  0.000000   \n",
       "UgxA-h0VMWXoShPkFEZ4AaABAg                               7  1.000000   \n",
       "UgybtnYbYjDF7YZJAdN4AaABAg                              10  0.318182   \n",
       "...                                                    ...       ...   \n",
       "UgxG_8lxSoZduOAiE-54AaABAg.8tXxFBA8lZa8tXzXBaY73i       14  0.000000   \n",
       "Ugx4Ep3GEADS4c_w5YF4AaABAg                               9  0.000000   \n",
       "UgzltfmrOp2dr3DbCPx4AaABAg                              36  0.000000   \n",
       "UgyaAGTI4x4ta4TE1cF4AaABAg                              16  0.000000   \n",
       "Ugz4K70s5tZHaG_LkIl4AaABAg                               4  0.000000   \n",
       "\n",
       "                                                   LexicalRichness  \\\n",
       "Comment_Id                                                           \n",
       "Ugz-zdD0s87dSDzITuh4AaABAg                                   100.0   \n",
       "UgwQM2OHIzkVDtu0PIN4AaABAg                                   100.0   \n",
       "Ugyh7dOOI2953Exf3cp4AaABAg.8tUY_eVh77e8tUhBosQJLg            100.0   \n",
       "UgxA-h0VMWXoShPkFEZ4AaABAg                                   100.0   \n",
       "UgybtnYbYjDF7YZJAdN4AaABAg                                   100.0   \n",
       "...                                                            ...   \n",
       "UgxG_8lxSoZduOAiE-54AaABAg.8tXxFBA8lZa8tXzXBaY73i            100.0   \n",
       "Ugx4Ep3GEADS4c_w5YF4AaABAg                                   100.0   \n",
       "UgzltfmrOp2dr3DbCPx4AaABAg                                   100.0   \n",
       "UgyaAGTI4x4ta4TE1cF4AaABAg                                   100.0   \n",
       "Ugz4K70s5tZHaG_LkIl4AaABAg                                   100.0   \n",
       "\n",
       "                                                   LexicalDensity  \\\n",
       "Comment_Id                                                          \n",
       "Ugz-zdD0s87dSDzITuh4AaABAg                             100.000000   \n",
       "UgwQM2OHIzkVDtu0PIN4AaABAg                              40.000000   \n",
       "Ugyh7dOOI2953Exf3cp4AaABAg.8tUY_eVh77e8tUhBosQJLg       50.000000   \n",
       "UgxA-h0VMWXoShPkFEZ4AaABAg                               0.000000   \n",
       "UgybtnYbYjDF7YZJAdN4AaABAg                              70.000000   \n",
       "...                                                           ...   \n",
       "UgxG_8lxSoZduOAiE-54AaABAg.8tXxFBA8lZa8tXzXBaY73i      100.000000   \n",
       "Ugx4Ep3GEADS4c_w5YF4AaABAg                              83.333333   \n",
       "UgzltfmrOp2dr3DbCPx4AaABAg                              60.000000   \n",
       "UgyaAGTI4x4ta4TE1cF4AaABAg                             100.000000   \n",
       "Ugz4K70s5tZHaG_LkIl4AaABAg                              50.000000   \n",
       "\n",
       "                                                   CommentRandomness  \\\n",
       "Comment_Id                                                             \n",
       "Ugz-zdD0s87dSDzITuh4AaABAg                                  0.145843   \n",
       "UgwQM2OHIzkVDtu0PIN4AaABAg                                  0.122352   \n",
       "Ugyh7dOOI2953Exf3cp4AaABAg.8tUY_eVh77e8tUhBosQJLg           0.068595   \n",
       "UgxA-h0VMWXoShPkFEZ4AaABAg                                  0.083523   \n",
       "UgybtnYbYjDF7YZJAdN4AaABAg                                  0.051711   \n",
       "...                                                              ...   \n",
       "UgxG_8lxSoZduOAiE-54AaABAg.8tXxFBA8lZa8tXzXBaY73i           0.528321   \n",
       "Ugx4Ep3GEADS4c_w5YF4AaABAg                                  0.119891   \n",
       "UgzltfmrOp2dr3DbCPx4AaABAg                                  0.058311   \n",
       "UgyaAGTI4x4ta4TE1cF4AaABAg                                  0.221011   \n",
       "Ugz4K70s5tZHaG_LkIl4AaABAg                                  0.153662   \n",
       "\n",
       "                                                   NameRandomness  \n",
       "Comment_Id                                                         \n",
       "Ugz-zdD0s87dSDzITuh4AaABAg                               0.147430  \n",
       "UgwQM2OHIzkVDtu0PIN4AaABAg                               0.257080  \n",
       "Ugyh7dOOI2953Exf3cp4AaABAg.8tUY_eVh77e8tUhBosQJLg        0.200798  \n",
       "UgxA-h0VMWXoShPkFEZ4AaABAg                               0.319418  \n",
       "UgybtnYbYjDF7YZJAdN4AaABAg                               0.312193  \n",
       "...                                                           ...  \n",
       "UgxG_8lxSoZduOAiE-54AaABAg.8tXxFBA8lZa8tXzXBaY73i        0.241342  \n",
       "Ugx4Ep3GEADS4c_w5YF4AaABAg                               0.327523  \n",
       "UgzltfmrOp2dr3DbCPx4AaABAg                               0.116132  \n",
       "UgyaAGTI4x4ta4TE1cF4AaABAg                               0.226562  \n",
       "Ugz4K70s5tZHaG_LkIl4AaABAg                               0.500000  \n",
       "\n",
       "[3000 rows x 20 columns]"
      ]
     },
     "execution_count": 67,
     "metadata": {},
     "output_type": "execute_result"
    }
   ],
   "source": [
    "SData = VData.drop([\"Label\"],axis=1)\n",
    "SData"
   ]
  },
  {
   "cell_type": "code",
   "execution_count": 68,
   "metadata": {},
   "outputs": [],
   "source": [
    "def normalize(df, result):\n",
    "    result = df.copy()\n",
    "    for feature_name in result.columns:\n",
    "        max_value = result[feature_name].max()\n",
    "        min_value = result[feature_name].min()\n",
    "        result[feature_name] = (df[feature_name] - min_value) / (max_value - min_value)\n",
    "    return result"
   ]
  },
  {
   "cell_type": "code",
   "execution_count": 69,
   "metadata": {},
   "outputs": [],
   "source": [
    "scaledData=normalize(SData, SData)"
   ]
  },
  {
   "cell_type": "code",
   "execution_count": 70,
   "metadata": {},
   "outputs": [
    {
     "data": {
      "text/html": [
       "<div>\n",
       "<style scoped>\n",
       "    .dataframe tbody tr th:only-of-type {\n",
       "        vertical-align: middle;\n",
       "    }\n",
       "\n",
       "    .dataframe tbody tr th {\n",
       "        vertical-align: top;\n",
       "    }\n",
       "\n",
       "    .dataframe thead th {\n",
       "        text-align: right;\n",
       "    }\n",
       "</style>\n",
       "<table border=\"1\" class=\"dataframe\">\n",
       "  <thead>\n",
       "    <tr style=\"text-align: right;\">\n",
       "      <th></th>\n",
       "      <th>Likes</th>\n",
       "      <th>Reply_Count</th>\n",
       "      <th>LengthSentence</th>\n",
       "      <th>CommentLength</th>\n",
       "      <th>countUrl</th>\n",
       "      <th>WhiteSpacenum</th>\n",
       "      <th>StopwordRatio</th>\n",
       "      <th>WorldDuplicateRatio</th>\n",
       "      <th>CountEmoji</th>\n",
       "      <th>CountNonAscii</th>\n",
       "      <th>CountUpperLetters</th>\n",
       "      <th>SimilarityTitle</th>\n",
       "      <th>SimilarityDesc</th>\n",
       "      <th>LenComment</th>\n",
       "      <th>NameLen</th>\n",
       "      <th>UrlRatio</th>\n",
       "      <th>LexicalRichness</th>\n",
       "      <th>LexicalDensity</th>\n",
       "      <th>CommentRandomness</th>\n",
       "      <th>NameRandomness</th>\n",
       "    </tr>\n",
       "    <tr>\n",
       "      <th>Comment_Id</th>\n",
       "      <th></th>\n",
       "      <th></th>\n",
       "      <th></th>\n",
       "      <th></th>\n",
       "      <th></th>\n",
       "      <th></th>\n",
       "      <th></th>\n",
       "      <th></th>\n",
       "      <th></th>\n",
       "      <th></th>\n",
       "      <th></th>\n",
       "      <th></th>\n",
       "      <th></th>\n",
       "      <th></th>\n",
       "      <th></th>\n",
       "      <th></th>\n",
       "      <th></th>\n",
       "      <th></th>\n",
       "      <th></th>\n",
       "      <th></th>\n",
       "    </tr>\n",
       "  </thead>\n",
       "  <tbody>\n",
       "    <tr>\n",
       "      <th>Ugz-zdD0s87dSDzITuh4AaABAg</th>\n",
       "      <td>0.0</td>\n",
       "      <td>0.0</td>\n",
       "      <td>0.0</td>\n",
       "      <td>0.003145</td>\n",
       "      <td>0.0625</td>\n",
       "      <td>0.000000</td>\n",
       "      <td>0.000000</td>\n",
       "      <td>1.0</td>\n",
       "      <td>0.00000</td>\n",
       "      <td>0.00000</td>\n",
       "      <td>0.017032</td>\n",
       "      <td>0.0</td>\n",
       "      <td>0.000000</td>\n",
       "      <td>0.010804</td>\n",
       "      <td>0.479167</td>\n",
       "      <td>1.000000</td>\n",
       "      <td>1.0</td>\n",
       "      <td>1.000000</td>\n",
       "      <td>0.276051</td>\n",
       "      <td>0.279054</td>\n",
       "    </tr>\n",
       "    <tr>\n",
       "      <th>UgwQM2OHIzkVDtu0PIN4AaABAg</th>\n",
       "      <td>0.0</td>\n",
       "      <td>0.0</td>\n",
       "      <td>0.0</td>\n",
       "      <td>0.015723</td>\n",
       "      <td>0.0000</td>\n",
       "      <td>0.012539</td>\n",
       "      <td>0.000000</td>\n",
       "      <td>1.0</td>\n",
       "      <td>0.00000</td>\n",
       "      <td>0.00000</td>\n",
       "      <td>0.002433</td>\n",
       "      <td>0.0</td>\n",
       "      <td>0.000000</td>\n",
       "      <td>0.012005</td>\n",
       "      <td>0.229167</td>\n",
       "      <td>0.000000</td>\n",
       "      <td>1.0</td>\n",
       "      <td>0.400000</td>\n",
       "      <td>0.231586</td>\n",
       "      <td>0.486599</td>\n",
       "    </tr>\n",
       "    <tr>\n",
       "      <th>Ugyh7dOOI2953Exf3cp4AaABAg.8tUY_eVh77e8tUhBosQJLg</th>\n",
       "      <td>0.0</td>\n",
       "      <td>0.0</td>\n",
       "      <td>0.0</td>\n",
       "      <td>0.031447</td>\n",
       "      <td>0.0000</td>\n",
       "      <td>0.028213</td>\n",
       "      <td>0.100000</td>\n",
       "      <td>1.0</td>\n",
       "      <td>0.00000</td>\n",
       "      <td>0.00000</td>\n",
       "      <td>0.000000</td>\n",
       "      <td>0.0</td>\n",
       "      <td>0.000000</td>\n",
       "      <td>0.022409</td>\n",
       "      <td>0.354167</td>\n",
       "      <td>0.000000</td>\n",
       "      <td>1.0</td>\n",
       "      <td>0.500000</td>\n",
       "      <td>0.129836</td>\n",
       "      <td>0.380069</td>\n",
       "    </tr>\n",
       "    <tr>\n",
       "      <th>UgxA-h0VMWXoShPkFEZ4AaABAg</th>\n",
       "      <td>0.0</td>\n",
       "      <td>0.0</td>\n",
       "      <td>0.0</td>\n",
       "      <td>0.003145</td>\n",
       "      <td>0.0625</td>\n",
       "      <td>0.000000</td>\n",
       "      <td>0.000000</td>\n",
       "      <td>1.0</td>\n",
       "      <td>0.00000</td>\n",
       "      <td>0.00000</td>\n",
       "      <td>0.017032</td>\n",
       "      <td>0.0</td>\n",
       "      <td>0.000000</td>\n",
       "      <td>0.022009</td>\n",
       "      <td>0.125000</td>\n",
       "      <td>1.000000</td>\n",
       "      <td>1.0</td>\n",
       "      <td>0.000000</td>\n",
       "      <td>0.158091</td>\n",
       "      <td>0.604591</td>\n",
       "    </tr>\n",
       "    <tr>\n",
       "      <th>UgybtnYbYjDF7YZJAdN4AaABAg</th>\n",
       "      <td>0.0</td>\n",
       "      <td>0.0</td>\n",
       "      <td>0.0</td>\n",
       "      <td>0.031447</td>\n",
       "      <td>0.0625</td>\n",
       "      <td>0.028213</td>\n",
       "      <td>0.100000</td>\n",
       "      <td>1.0</td>\n",
       "      <td>0.00000</td>\n",
       "      <td>0.00000</td>\n",
       "      <td>0.041363</td>\n",
       "      <td>0.0</td>\n",
       "      <td>0.000000</td>\n",
       "      <td>0.034814</td>\n",
       "      <td>0.187500</td>\n",
       "      <td>0.318182</td>\n",
       "      <td>1.0</td>\n",
       "      <td>0.700000</td>\n",
       "      <td>0.097878</td>\n",
       "      <td>0.590915</td>\n",
       "    </tr>\n",
       "    <tr>\n",
       "      <th>...</th>\n",
       "      <td>...</td>\n",
       "      <td>...</td>\n",
       "      <td>...</td>\n",
       "      <td>...</td>\n",
       "      <td>...</td>\n",
       "      <td>...</td>\n",
       "      <td>...</td>\n",
       "      <td>...</td>\n",
       "      <td>...</td>\n",
       "      <td>...</td>\n",
       "      <td>...</td>\n",
       "      <td>...</td>\n",
       "      <td>...</td>\n",
       "      <td>...</td>\n",
       "      <td>...</td>\n",
       "      <td>...</td>\n",
       "      <td>...</td>\n",
       "      <td>...</td>\n",
       "      <td>...</td>\n",
       "      <td>...</td>\n",
       "    </tr>\n",
       "    <tr>\n",
       "      <th>UgxG_8lxSoZduOAiE-54AaABAg.8tXxFBA8lZa8tXzXBaY73i</th>\n",
       "      <td>0.0</td>\n",
       "      <td>0.0</td>\n",
       "      <td>0.0</td>\n",
       "      <td>0.003145</td>\n",
       "      <td>0.0000</td>\n",
       "      <td>0.000000</td>\n",
       "      <td>0.000000</td>\n",
       "      <td>1.0</td>\n",
       "      <td>0.00000</td>\n",
       "      <td>0.00000</td>\n",
       "      <td>0.002433</td>\n",
       "      <td>0.0</td>\n",
       "      <td>0.000000</td>\n",
       "      <td>0.000800</td>\n",
       "      <td>0.270833</td>\n",
       "      <td>0.000000</td>\n",
       "      <td>1.0</td>\n",
       "      <td>1.000000</td>\n",
       "      <td>1.000000</td>\n",
       "      <td>0.456809</td>\n",
       "    </tr>\n",
       "    <tr>\n",
       "      <th>Ugx4Ep3GEADS4c_w5YF4AaABAg</th>\n",
       "      <td>0.0</td>\n",
       "      <td>0.0</td>\n",
       "      <td>0.0</td>\n",
       "      <td>0.018868</td>\n",
       "      <td>0.0000</td>\n",
       "      <td>0.015674</td>\n",
       "      <td>0.166667</td>\n",
       "      <td>1.0</td>\n",
       "      <td>0.02381</td>\n",
       "      <td>0.02381</td>\n",
       "      <td>0.002433</td>\n",
       "      <td>0.0</td>\n",
       "      <td>0.041667</td>\n",
       "      <td>0.012005</td>\n",
       "      <td>0.166667</td>\n",
       "      <td>0.000000</td>\n",
       "      <td>1.0</td>\n",
       "      <td>0.833333</td>\n",
       "      <td>0.226929</td>\n",
       "      <td>0.619931</td>\n",
       "    </tr>\n",
       "    <tr>\n",
       "      <th>UgzltfmrOp2dr3DbCPx4AaABAg</th>\n",
       "      <td>0.0</td>\n",
       "      <td>0.0</td>\n",
       "      <td>0.0</td>\n",
       "      <td>0.031447</td>\n",
       "      <td>0.0000</td>\n",
       "      <td>0.028213</td>\n",
       "      <td>0.200000</td>\n",
       "      <td>1.0</td>\n",
       "      <td>0.00000</td>\n",
       "      <td>0.00000</td>\n",
       "      <td>0.002433</td>\n",
       "      <td>0.0</td>\n",
       "      <td>0.062500</td>\n",
       "      <td>0.025210</td>\n",
       "      <td>0.729167</td>\n",
       "      <td>0.000000</td>\n",
       "      <td>1.0</td>\n",
       "      <td>0.600000</td>\n",
       "      <td>0.110370</td>\n",
       "      <td>0.219814</td>\n",
       "    </tr>\n",
       "    <tr>\n",
       "      <th>UgyaAGTI4x4ta4TE1cF4AaABAg</th>\n",
       "      <td>0.0</td>\n",
       "      <td>0.0</td>\n",
       "      <td>0.0</td>\n",
       "      <td>0.006289</td>\n",
       "      <td>0.0000</td>\n",
       "      <td>0.003135</td>\n",
       "      <td>0.000000</td>\n",
       "      <td>1.0</td>\n",
       "      <td>0.00000</td>\n",
       "      <td>0.00000</td>\n",
       "      <td>0.002433</td>\n",
       "      <td>0.0</td>\n",
       "      <td>0.000000</td>\n",
       "      <td>0.004802</td>\n",
       "      <td>0.312500</td>\n",
       "      <td>0.000000</td>\n",
       "      <td>1.0</td>\n",
       "      <td>1.000000</td>\n",
       "      <td>0.418327</td>\n",
       "      <td>0.428835</td>\n",
       "    </tr>\n",
       "    <tr>\n",
       "      <th>Ugz4K70s5tZHaG_LkIl4AaABAg</th>\n",
       "      <td>0.0</td>\n",
       "      <td>0.0</td>\n",
       "      <td>0.0</td>\n",
       "      <td>0.012579</td>\n",
       "      <td>0.0000</td>\n",
       "      <td>0.009404</td>\n",
       "      <td>0.500000</td>\n",
       "      <td>1.0</td>\n",
       "      <td>0.00000</td>\n",
       "      <td>0.00000</td>\n",
       "      <td>0.048662</td>\n",
       "      <td>0.0</td>\n",
       "      <td>0.000000</td>\n",
       "      <td>0.008804</td>\n",
       "      <td>0.062500</td>\n",
       "      <td>0.000000</td>\n",
       "      <td>1.0</td>\n",
       "      <td>0.500000</td>\n",
       "      <td>0.290849</td>\n",
       "      <td>0.946395</td>\n",
       "    </tr>\n",
       "  </tbody>\n",
       "</table>\n",
       "<p>3000 rows × 20 columns</p>\n",
       "</div>"
      ],
      "text/plain": [
       "                                                   Likes  Reply_Count  \\\n",
       "Comment_Id                                                              \n",
       "Ugz-zdD0s87dSDzITuh4AaABAg                           0.0          0.0   \n",
       "UgwQM2OHIzkVDtu0PIN4AaABAg                           0.0          0.0   \n",
       "Ugyh7dOOI2953Exf3cp4AaABAg.8tUY_eVh77e8tUhBosQJLg    0.0          0.0   \n",
       "UgxA-h0VMWXoShPkFEZ4AaABAg                           0.0          0.0   \n",
       "UgybtnYbYjDF7YZJAdN4AaABAg                           0.0          0.0   \n",
       "...                                                  ...          ...   \n",
       "UgxG_8lxSoZduOAiE-54AaABAg.8tXxFBA8lZa8tXzXBaY73i    0.0          0.0   \n",
       "Ugx4Ep3GEADS4c_w5YF4AaABAg                           0.0          0.0   \n",
       "UgzltfmrOp2dr3DbCPx4AaABAg                           0.0          0.0   \n",
       "UgyaAGTI4x4ta4TE1cF4AaABAg                           0.0          0.0   \n",
       "Ugz4K70s5tZHaG_LkIl4AaABAg                           0.0          0.0   \n",
       "\n",
       "                                                   LengthSentence  \\\n",
       "Comment_Id                                                          \n",
       "Ugz-zdD0s87dSDzITuh4AaABAg                                    0.0   \n",
       "UgwQM2OHIzkVDtu0PIN4AaABAg                                    0.0   \n",
       "Ugyh7dOOI2953Exf3cp4AaABAg.8tUY_eVh77e8tUhBosQJLg             0.0   \n",
       "UgxA-h0VMWXoShPkFEZ4AaABAg                                    0.0   \n",
       "UgybtnYbYjDF7YZJAdN4AaABAg                                    0.0   \n",
       "...                                                           ...   \n",
       "UgxG_8lxSoZduOAiE-54AaABAg.8tXxFBA8lZa8tXzXBaY73i             0.0   \n",
       "Ugx4Ep3GEADS4c_w5YF4AaABAg                                    0.0   \n",
       "UgzltfmrOp2dr3DbCPx4AaABAg                                    0.0   \n",
       "UgyaAGTI4x4ta4TE1cF4AaABAg                                    0.0   \n",
       "Ugz4K70s5tZHaG_LkIl4AaABAg                                    0.0   \n",
       "\n",
       "                                                   CommentLength  countUrl  \\\n",
       "Comment_Id                                                                   \n",
       "Ugz-zdD0s87dSDzITuh4AaABAg                              0.003145    0.0625   \n",
       "UgwQM2OHIzkVDtu0PIN4AaABAg                              0.015723    0.0000   \n",
       "Ugyh7dOOI2953Exf3cp4AaABAg.8tUY_eVh77e8tUhBosQJLg       0.031447    0.0000   \n",
       "UgxA-h0VMWXoShPkFEZ4AaABAg                              0.003145    0.0625   \n",
       "UgybtnYbYjDF7YZJAdN4AaABAg                              0.031447    0.0625   \n",
       "...                                                          ...       ...   \n",
       "UgxG_8lxSoZduOAiE-54AaABAg.8tXxFBA8lZa8tXzXBaY73i       0.003145    0.0000   \n",
       "Ugx4Ep3GEADS4c_w5YF4AaABAg                              0.018868    0.0000   \n",
       "UgzltfmrOp2dr3DbCPx4AaABAg                              0.031447    0.0000   \n",
       "UgyaAGTI4x4ta4TE1cF4AaABAg                              0.006289    0.0000   \n",
       "Ugz4K70s5tZHaG_LkIl4AaABAg                              0.012579    0.0000   \n",
       "\n",
       "                                                   WhiteSpacenum  \\\n",
       "Comment_Id                                                         \n",
       "Ugz-zdD0s87dSDzITuh4AaABAg                              0.000000   \n",
       "UgwQM2OHIzkVDtu0PIN4AaABAg                              0.012539   \n",
       "Ugyh7dOOI2953Exf3cp4AaABAg.8tUY_eVh77e8tUhBosQJLg       0.028213   \n",
       "UgxA-h0VMWXoShPkFEZ4AaABAg                              0.000000   \n",
       "UgybtnYbYjDF7YZJAdN4AaABAg                              0.028213   \n",
       "...                                                          ...   \n",
       "UgxG_8lxSoZduOAiE-54AaABAg.8tXxFBA8lZa8tXzXBaY73i       0.000000   \n",
       "Ugx4Ep3GEADS4c_w5YF4AaABAg                              0.015674   \n",
       "UgzltfmrOp2dr3DbCPx4AaABAg                              0.028213   \n",
       "UgyaAGTI4x4ta4TE1cF4AaABAg                              0.003135   \n",
       "Ugz4K70s5tZHaG_LkIl4AaABAg                              0.009404   \n",
       "\n",
       "                                                   StopwordRatio  \\\n",
       "Comment_Id                                                         \n",
       "Ugz-zdD0s87dSDzITuh4AaABAg                              0.000000   \n",
       "UgwQM2OHIzkVDtu0PIN4AaABAg                              0.000000   \n",
       "Ugyh7dOOI2953Exf3cp4AaABAg.8tUY_eVh77e8tUhBosQJLg       0.100000   \n",
       "UgxA-h0VMWXoShPkFEZ4AaABAg                              0.000000   \n",
       "UgybtnYbYjDF7YZJAdN4AaABAg                              0.100000   \n",
       "...                                                          ...   \n",
       "UgxG_8lxSoZduOAiE-54AaABAg.8tXxFBA8lZa8tXzXBaY73i       0.000000   \n",
       "Ugx4Ep3GEADS4c_w5YF4AaABAg                              0.166667   \n",
       "UgzltfmrOp2dr3DbCPx4AaABAg                              0.200000   \n",
       "UgyaAGTI4x4ta4TE1cF4AaABAg                              0.000000   \n",
       "Ugz4K70s5tZHaG_LkIl4AaABAg                              0.500000   \n",
       "\n",
       "                                                   WorldDuplicateRatio  \\\n",
       "Comment_Id                                                               \n",
       "Ugz-zdD0s87dSDzITuh4AaABAg                                         1.0   \n",
       "UgwQM2OHIzkVDtu0PIN4AaABAg                                         1.0   \n",
       "Ugyh7dOOI2953Exf3cp4AaABAg.8tUY_eVh77e8tUhBosQJLg                  1.0   \n",
       "UgxA-h0VMWXoShPkFEZ4AaABAg                                         1.0   \n",
       "UgybtnYbYjDF7YZJAdN4AaABAg                                         1.0   \n",
       "...                                                                ...   \n",
       "UgxG_8lxSoZduOAiE-54AaABAg.8tXxFBA8lZa8tXzXBaY73i                  1.0   \n",
       "Ugx4Ep3GEADS4c_w5YF4AaABAg                                         1.0   \n",
       "UgzltfmrOp2dr3DbCPx4AaABAg                                         1.0   \n",
       "UgyaAGTI4x4ta4TE1cF4AaABAg                                         1.0   \n",
       "Ugz4K70s5tZHaG_LkIl4AaABAg                                         1.0   \n",
       "\n",
       "                                                   CountEmoji  CountNonAscii  \\\n",
       "Comment_Id                                                                     \n",
       "Ugz-zdD0s87dSDzITuh4AaABAg                            0.00000        0.00000   \n",
       "UgwQM2OHIzkVDtu0PIN4AaABAg                            0.00000        0.00000   \n",
       "Ugyh7dOOI2953Exf3cp4AaABAg.8tUY_eVh77e8tUhBosQJLg     0.00000        0.00000   \n",
       "UgxA-h0VMWXoShPkFEZ4AaABAg                            0.00000        0.00000   \n",
       "UgybtnYbYjDF7YZJAdN4AaABAg                            0.00000        0.00000   \n",
       "...                                                       ...            ...   \n",
       "UgxG_8lxSoZduOAiE-54AaABAg.8tXxFBA8lZa8tXzXBaY73i     0.00000        0.00000   \n",
       "Ugx4Ep3GEADS4c_w5YF4AaABAg                            0.02381        0.02381   \n",
       "UgzltfmrOp2dr3DbCPx4AaABAg                            0.00000        0.00000   \n",
       "UgyaAGTI4x4ta4TE1cF4AaABAg                            0.00000        0.00000   \n",
       "Ugz4K70s5tZHaG_LkIl4AaABAg                            0.00000        0.00000   \n",
       "\n",
       "                                                   CountUpperLetters  \\\n",
       "Comment_Id                                                             \n",
       "Ugz-zdD0s87dSDzITuh4AaABAg                                  0.017032   \n",
       "UgwQM2OHIzkVDtu0PIN4AaABAg                                  0.002433   \n",
       "Ugyh7dOOI2953Exf3cp4AaABAg.8tUY_eVh77e8tUhBosQJLg           0.000000   \n",
       "UgxA-h0VMWXoShPkFEZ4AaABAg                                  0.017032   \n",
       "UgybtnYbYjDF7YZJAdN4AaABAg                                  0.041363   \n",
       "...                                                              ...   \n",
       "UgxG_8lxSoZduOAiE-54AaABAg.8tXxFBA8lZa8tXzXBaY73i           0.002433   \n",
       "Ugx4Ep3GEADS4c_w5YF4AaABAg                                  0.002433   \n",
       "UgzltfmrOp2dr3DbCPx4AaABAg                                  0.002433   \n",
       "UgyaAGTI4x4ta4TE1cF4AaABAg                                  0.002433   \n",
       "Ugz4K70s5tZHaG_LkIl4AaABAg                                  0.048662   \n",
       "\n",
       "                                                   SimilarityTitle  \\\n",
       "Comment_Id                                                           \n",
       "Ugz-zdD0s87dSDzITuh4AaABAg                                     0.0   \n",
       "UgwQM2OHIzkVDtu0PIN4AaABAg                                     0.0   \n",
       "Ugyh7dOOI2953Exf3cp4AaABAg.8tUY_eVh77e8tUhBosQJLg              0.0   \n",
       "UgxA-h0VMWXoShPkFEZ4AaABAg                                     0.0   \n",
       "UgybtnYbYjDF7YZJAdN4AaABAg                                     0.0   \n",
       "...                                                            ...   \n",
       "UgxG_8lxSoZduOAiE-54AaABAg.8tXxFBA8lZa8tXzXBaY73i              0.0   \n",
       "Ugx4Ep3GEADS4c_w5YF4AaABAg                                     0.0   \n",
       "UgzltfmrOp2dr3DbCPx4AaABAg                                     0.0   \n",
       "UgyaAGTI4x4ta4TE1cF4AaABAg                                     0.0   \n",
       "Ugz4K70s5tZHaG_LkIl4AaABAg                                     0.0   \n",
       "\n",
       "                                                   SimilarityDesc  LenComment  \\\n",
       "Comment_Id                                                                      \n",
       "Ugz-zdD0s87dSDzITuh4AaABAg                               0.000000    0.010804   \n",
       "UgwQM2OHIzkVDtu0PIN4AaABAg                               0.000000    0.012005   \n",
       "Ugyh7dOOI2953Exf3cp4AaABAg.8tUY_eVh77e8tUhBosQJLg        0.000000    0.022409   \n",
       "UgxA-h0VMWXoShPkFEZ4AaABAg                               0.000000    0.022009   \n",
       "UgybtnYbYjDF7YZJAdN4AaABAg                               0.000000    0.034814   \n",
       "...                                                           ...         ...   \n",
       "UgxG_8lxSoZduOAiE-54AaABAg.8tXxFBA8lZa8tXzXBaY73i        0.000000    0.000800   \n",
       "Ugx4Ep3GEADS4c_w5YF4AaABAg                               0.041667    0.012005   \n",
       "UgzltfmrOp2dr3DbCPx4AaABAg                               0.062500    0.025210   \n",
       "UgyaAGTI4x4ta4TE1cF4AaABAg                               0.000000    0.004802   \n",
       "Ugz4K70s5tZHaG_LkIl4AaABAg                               0.000000    0.008804   \n",
       "\n",
       "                                                    NameLen  UrlRatio  \\\n",
       "Comment_Id                                                              \n",
       "Ugz-zdD0s87dSDzITuh4AaABAg                         0.479167  1.000000   \n",
       "UgwQM2OHIzkVDtu0PIN4AaABAg                         0.229167  0.000000   \n",
       "Ugyh7dOOI2953Exf3cp4AaABAg.8tUY_eVh77e8tUhBosQJLg  0.354167  0.000000   \n",
       "UgxA-h0VMWXoShPkFEZ4AaABAg                         0.125000  1.000000   \n",
       "UgybtnYbYjDF7YZJAdN4AaABAg                         0.187500  0.318182   \n",
       "...                                                     ...       ...   \n",
       "UgxG_8lxSoZduOAiE-54AaABAg.8tXxFBA8lZa8tXzXBaY73i  0.270833  0.000000   \n",
       "Ugx4Ep3GEADS4c_w5YF4AaABAg                         0.166667  0.000000   \n",
       "UgzltfmrOp2dr3DbCPx4AaABAg                         0.729167  0.000000   \n",
       "UgyaAGTI4x4ta4TE1cF4AaABAg                         0.312500  0.000000   \n",
       "Ugz4K70s5tZHaG_LkIl4AaABAg                         0.062500  0.000000   \n",
       "\n",
       "                                                   LexicalRichness  \\\n",
       "Comment_Id                                                           \n",
       "Ugz-zdD0s87dSDzITuh4AaABAg                                     1.0   \n",
       "UgwQM2OHIzkVDtu0PIN4AaABAg                                     1.0   \n",
       "Ugyh7dOOI2953Exf3cp4AaABAg.8tUY_eVh77e8tUhBosQJLg              1.0   \n",
       "UgxA-h0VMWXoShPkFEZ4AaABAg                                     1.0   \n",
       "UgybtnYbYjDF7YZJAdN4AaABAg                                     1.0   \n",
       "...                                                            ...   \n",
       "UgxG_8lxSoZduOAiE-54AaABAg.8tXxFBA8lZa8tXzXBaY73i              1.0   \n",
       "Ugx4Ep3GEADS4c_w5YF4AaABAg                                     1.0   \n",
       "UgzltfmrOp2dr3DbCPx4AaABAg                                     1.0   \n",
       "UgyaAGTI4x4ta4TE1cF4AaABAg                                     1.0   \n",
       "Ugz4K70s5tZHaG_LkIl4AaABAg                                     1.0   \n",
       "\n",
       "                                                   LexicalDensity  \\\n",
       "Comment_Id                                                          \n",
       "Ugz-zdD0s87dSDzITuh4AaABAg                               1.000000   \n",
       "UgwQM2OHIzkVDtu0PIN4AaABAg                               0.400000   \n",
       "Ugyh7dOOI2953Exf3cp4AaABAg.8tUY_eVh77e8tUhBosQJLg        0.500000   \n",
       "UgxA-h0VMWXoShPkFEZ4AaABAg                               0.000000   \n",
       "UgybtnYbYjDF7YZJAdN4AaABAg                               0.700000   \n",
       "...                                                           ...   \n",
       "UgxG_8lxSoZduOAiE-54AaABAg.8tXxFBA8lZa8tXzXBaY73i        1.000000   \n",
       "Ugx4Ep3GEADS4c_w5YF4AaABAg                               0.833333   \n",
       "UgzltfmrOp2dr3DbCPx4AaABAg                               0.600000   \n",
       "UgyaAGTI4x4ta4TE1cF4AaABAg                               1.000000   \n",
       "Ugz4K70s5tZHaG_LkIl4AaABAg                               0.500000   \n",
       "\n",
       "                                                   CommentRandomness  \\\n",
       "Comment_Id                                                             \n",
       "Ugz-zdD0s87dSDzITuh4AaABAg                                  0.276051   \n",
       "UgwQM2OHIzkVDtu0PIN4AaABAg                                  0.231586   \n",
       "Ugyh7dOOI2953Exf3cp4AaABAg.8tUY_eVh77e8tUhBosQJLg           0.129836   \n",
       "UgxA-h0VMWXoShPkFEZ4AaABAg                                  0.158091   \n",
       "UgybtnYbYjDF7YZJAdN4AaABAg                                  0.097878   \n",
       "...                                                              ...   \n",
       "UgxG_8lxSoZduOAiE-54AaABAg.8tXxFBA8lZa8tXzXBaY73i           1.000000   \n",
       "Ugx4Ep3GEADS4c_w5YF4AaABAg                                  0.226929   \n",
       "UgzltfmrOp2dr3DbCPx4AaABAg                                  0.110370   \n",
       "UgyaAGTI4x4ta4TE1cF4AaABAg                                  0.418327   \n",
       "Ugz4K70s5tZHaG_LkIl4AaABAg                                  0.290849   \n",
       "\n",
       "                                                   NameRandomness  \n",
       "Comment_Id                                                         \n",
       "Ugz-zdD0s87dSDzITuh4AaABAg                               0.279054  \n",
       "UgwQM2OHIzkVDtu0PIN4AaABAg                               0.486599  \n",
       "Ugyh7dOOI2953Exf3cp4AaABAg.8tUY_eVh77e8tUhBosQJLg        0.380069  \n",
       "UgxA-h0VMWXoShPkFEZ4AaABAg                               0.604591  \n",
       "UgybtnYbYjDF7YZJAdN4AaABAg                               0.590915  \n",
       "...                                                           ...  \n",
       "UgxG_8lxSoZduOAiE-54AaABAg.8tXxFBA8lZa8tXzXBaY73i        0.456809  \n",
       "Ugx4Ep3GEADS4c_w5YF4AaABAg                               0.619931  \n",
       "UgzltfmrOp2dr3DbCPx4AaABAg                               0.219814  \n",
       "UgyaAGTI4x4ta4TE1cF4AaABAg                               0.428835  \n",
       "Ugz4K70s5tZHaG_LkIl4AaABAg                               0.946395  \n",
       "\n",
       "[3000 rows x 20 columns]"
      ]
     },
     "execution_count": 70,
     "metadata": {},
     "output_type": "execute_result"
    }
   ],
   "source": [
    "scaledData"
   ]
  },
  {
   "cell_type": "code",
   "execution_count": 71,
   "metadata": {},
   "outputs": [
    {
     "data": {
      "text/html": [
       "<div>\n",
       "<style scoped>\n",
       "    .dataframe tbody tr th:only-of-type {\n",
       "        vertical-align: middle;\n",
       "    }\n",
       "\n",
       "    .dataframe tbody tr th {\n",
       "        vertical-align: top;\n",
       "    }\n",
       "\n",
       "    .dataframe thead th {\n",
       "        text-align: right;\n",
       "    }\n",
       "</style>\n",
       "<table border=\"1\" class=\"dataframe\">\n",
       "  <thead>\n",
       "    <tr style=\"text-align: right;\">\n",
       "      <th></th>\n",
       "      <th>Likes</th>\n",
       "      <th>Reply_Count</th>\n",
       "      <th>LengthSentence</th>\n",
       "      <th>CommentLength</th>\n",
       "      <th>countUrl</th>\n",
       "      <th>WhiteSpacenum</th>\n",
       "      <th>StopwordRatio</th>\n",
       "      <th>WorldDuplicateRatio</th>\n",
       "      <th>CountEmoji</th>\n",
       "      <th>CountNonAscii</th>\n",
       "      <th>CountUpperLetters</th>\n",
       "      <th>SimilarityTitle</th>\n",
       "      <th>SimilarityDesc</th>\n",
       "      <th>LenComment</th>\n",
       "      <th>NameLen</th>\n",
       "      <th>UrlRatio</th>\n",
       "      <th>LexicalRichness</th>\n",
       "      <th>LexicalDensity</th>\n",
       "      <th>CommentRandomness</th>\n",
       "      <th>NameRandomness</th>\n",
       "    </tr>\n",
       "  </thead>\n",
       "  <tbody>\n",
       "    <tr>\n",
       "      <th>count</th>\n",
       "      <td>3000.000000</td>\n",
       "      <td>3000.000000</td>\n",
       "      <td>3000.000000</td>\n",
       "      <td>3000.000000</td>\n",
       "      <td>3000.000000</td>\n",
       "      <td>3000.000000</td>\n",
       "      <td>3000.000000</td>\n",
       "      <td>3000.000000</td>\n",
       "      <td>3000.000000</td>\n",
       "      <td>3000.000000</td>\n",
       "      <td>3000.000000</td>\n",
       "      <td>3000.000000</td>\n",
       "      <td>3000.000000</td>\n",
       "      <td>3000.000000</td>\n",
       "      <td>3000.000000</td>\n",
       "      <td>3000.000000</td>\n",
       "      <td>3000.000000</td>\n",
       "      <td>3000.000000</td>\n",
       "      <td>3000.000000</td>\n",
       "      <td>3000.000000</td>\n",
       "    </tr>\n",
       "    <tr>\n",
       "      <th>mean</th>\n",
       "      <td>0.000369</td>\n",
       "      <td>0.000744</td>\n",
       "      <td>0.015804</td>\n",
       "      <td>0.026959</td>\n",
       "      <td>0.020250</td>\n",
       "      <td>0.024282</td>\n",
       "      <td>0.089131</td>\n",
       "      <td>0.965841</td>\n",
       "      <td>0.011833</td>\n",
       "      <td>0.012937</td>\n",
       "      <td>0.016049</td>\n",
       "      <td>0.010404</td>\n",
       "      <td>0.031862</td>\n",
       "      <td>0.025289</td>\n",
       "      <td>0.245028</td>\n",
       "      <td>0.184776</td>\n",
       "      <td>0.946559</td>\n",
       "      <td>0.495354</td>\n",
       "      <td>0.235418</td>\n",
       "      <td>0.508730</td>\n",
       "    </tr>\n",
       "    <tr>\n",
       "      <th>std</th>\n",
       "      <td>0.018260</td>\n",
       "      <td>0.019142</td>\n",
       "      <td>0.048127</td>\n",
       "      <td>0.042029</td>\n",
       "      <td>0.042043</td>\n",
       "      <td>0.043196</td>\n",
       "      <td>0.123214</td>\n",
       "      <td>0.103641</td>\n",
       "      <td>0.038329</td>\n",
       "      <td>0.040721</td>\n",
       "      <td>0.040217</td>\n",
       "      <td>0.048074</td>\n",
       "      <td>0.085743</td>\n",
       "      <td>0.041291</td>\n",
       "      <td>0.101685</td>\n",
       "      <td>0.328472</td>\n",
       "      <td>0.121886</td>\n",
       "      <td>0.336302</td>\n",
       "      <td>0.182948</td>\n",
       "      <td>0.143923</td>\n",
       "    </tr>\n",
       "    <tr>\n",
       "      <th>min</th>\n",
       "      <td>0.000000</td>\n",
       "      <td>0.000000</td>\n",
       "      <td>0.000000</td>\n",
       "      <td>0.000000</td>\n",
       "      <td>0.000000</td>\n",
       "      <td>0.000000</td>\n",
       "      <td>0.000000</td>\n",
       "      <td>0.000000</td>\n",
       "      <td>0.000000</td>\n",
       "      <td>0.000000</td>\n",
       "      <td>0.000000</td>\n",
       "      <td>0.000000</td>\n",
       "      <td>0.000000</td>\n",
       "      <td>0.000000</td>\n",
       "      <td>0.000000</td>\n",
       "      <td>0.000000</td>\n",
       "      <td>0.000000</td>\n",
       "      <td>0.000000</td>\n",
       "      <td>0.000000</td>\n",
       "      <td>0.000000</td>\n",
       "    </tr>\n",
       "    <tr>\n",
       "      <th>25%</th>\n",
       "      <td>0.000000</td>\n",
       "      <td>0.000000</td>\n",
       "      <td>0.000000</td>\n",
       "      <td>0.006289</td>\n",
       "      <td>0.000000</td>\n",
       "      <td>0.003135</td>\n",
       "      <td>0.000000</td>\n",
       "      <td>1.000000</td>\n",
       "      <td>0.000000</td>\n",
       "      <td>0.000000</td>\n",
       "      <td>0.002433</td>\n",
       "      <td>0.000000</td>\n",
       "      <td>0.000000</td>\n",
       "      <td>0.008403</td>\n",
       "      <td>0.187500</td>\n",
       "      <td>0.000000</td>\n",
       "      <td>0.954545</td>\n",
       "      <td>0.200000</td>\n",
       "      <td>0.107036</td>\n",
       "      <td>0.417586</td>\n",
       "    </tr>\n",
       "    <tr>\n",
       "      <th>50%</th>\n",
       "      <td>0.000000</td>\n",
       "      <td>0.000000</td>\n",
       "      <td>0.000000</td>\n",
       "      <td>0.015723</td>\n",
       "      <td>0.000000</td>\n",
       "      <td>0.012539</td>\n",
       "      <td>0.000000</td>\n",
       "      <td>1.000000</td>\n",
       "      <td>0.000000</td>\n",
       "      <td>0.000000</td>\n",
       "      <td>0.004866</td>\n",
       "      <td>0.000000</td>\n",
       "      <td>0.000000</td>\n",
       "      <td>0.016006</td>\n",
       "      <td>0.229167</td>\n",
       "      <td>0.000000</td>\n",
       "      <td>1.000000</td>\n",
       "      <td>0.538462</td>\n",
       "      <td>0.185301</td>\n",
       "      <td>0.486599</td>\n",
       "    </tr>\n",
       "    <tr>\n",
       "      <th>75%</th>\n",
       "      <td>0.000011</td>\n",
       "      <td>0.000000</td>\n",
       "      <td>0.000000</td>\n",
       "      <td>0.031447</td>\n",
       "      <td>0.062500</td>\n",
       "      <td>0.028213</td>\n",
       "      <td>0.166667</td>\n",
       "      <td>1.000000</td>\n",
       "      <td>0.000000</td>\n",
       "      <td>0.000000</td>\n",
       "      <td>0.014599</td>\n",
       "      <td>0.000000</td>\n",
       "      <td>0.033333</td>\n",
       "      <td>0.028812</td>\n",
       "      <td>0.291667</td>\n",
       "      <td>0.294737</td>\n",
       "      <td>1.000000</td>\n",
       "      <td>0.750000</td>\n",
       "      <td>0.290379</td>\n",
       "      <td>0.590915</td>\n",
       "    </tr>\n",
       "    <tr>\n",
       "      <th>max</th>\n",
       "      <td>1.000000</td>\n",
       "      <td>1.000000</td>\n",
       "      <td>1.000000</td>\n",
       "      <td>1.000000</td>\n",
       "      <td>1.000000</td>\n",
       "      <td>1.000000</td>\n",
       "      <td>1.000000</td>\n",
       "      <td>1.000000</td>\n",
       "      <td>1.000000</td>\n",
       "      <td>1.000000</td>\n",
       "      <td>1.000000</td>\n",
       "      <td>1.000000</td>\n",
       "      <td>1.000000</td>\n",
       "      <td>1.000000</td>\n",
       "      <td>1.000000</td>\n",
       "      <td>1.000000</td>\n",
       "      <td>1.000000</td>\n",
       "      <td>1.000000</td>\n",
       "      <td>1.000000</td>\n",
       "      <td>1.000000</td>\n",
       "    </tr>\n",
       "  </tbody>\n",
       "</table>\n",
       "</div>"
      ],
      "text/plain": [
       "             Likes  Reply_Count  LengthSentence  CommentLength     countUrl  \\\n",
       "count  3000.000000  3000.000000     3000.000000    3000.000000  3000.000000   \n",
       "mean      0.000369     0.000744        0.015804       0.026959     0.020250   \n",
       "std       0.018260     0.019142        0.048127       0.042029     0.042043   \n",
       "min       0.000000     0.000000        0.000000       0.000000     0.000000   \n",
       "25%       0.000000     0.000000        0.000000       0.006289     0.000000   \n",
       "50%       0.000000     0.000000        0.000000       0.015723     0.000000   \n",
       "75%       0.000011     0.000000        0.000000       0.031447     0.062500   \n",
       "max       1.000000     1.000000        1.000000       1.000000     1.000000   \n",
       "\n",
       "       WhiteSpacenum  StopwordRatio  WorldDuplicateRatio   CountEmoji  \\\n",
       "count    3000.000000    3000.000000          3000.000000  3000.000000   \n",
       "mean        0.024282       0.089131             0.965841     0.011833   \n",
       "std         0.043196       0.123214             0.103641     0.038329   \n",
       "min         0.000000       0.000000             0.000000     0.000000   \n",
       "25%         0.003135       0.000000             1.000000     0.000000   \n",
       "50%         0.012539       0.000000             1.000000     0.000000   \n",
       "75%         0.028213       0.166667             1.000000     0.000000   \n",
       "max         1.000000       1.000000             1.000000     1.000000   \n",
       "\n",
       "       CountNonAscii  CountUpperLetters  SimilarityTitle  SimilarityDesc  \\\n",
       "count    3000.000000        3000.000000      3000.000000     3000.000000   \n",
       "mean        0.012937           0.016049         0.010404        0.031862   \n",
       "std         0.040721           0.040217         0.048074        0.085743   \n",
       "min         0.000000           0.000000         0.000000        0.000000   \n",
       "25%         0.000000           0.002433         0.000000        0.000000   \n",
       "50%         0.000000           0.004866         0.000000        0.000000   \n",
       "75%         0.000000           0.014599         0.000000        0.033333   \n",
       "max         1.000000           1.000000         1.000000        1.000000   \n",
       "\n",
       "        LenComment      NameLen     UrlRatio  LexicalRichness  LexicalDensity  \\\n",
       "count  3000.000000  3000.000000  3000.000000      3000.000000     3000.000000   \n",
       "mean      0.025289     0.245028     0.184776         0.946559        0.495354   \n",
       "std       0.041291     0.101685     0.328472         0.121886        0.336302   \n",
       "min       0.000000     0.000000     0.000000         0.000000        0.000000   \n",
       "25%       0.008403     0.187500     0.000000         0.954545        0.200000   \n",
       "50%       0.016006     0.229167     0.000000         1.000000        0.538462   \n",
       "75%       0.028812     0.291667     0.294737         1.000000        0.750000   \n",
       "max       1.000000     1.000000     1.000000         1.000000        1.000000   \n",
       "\n",
       "       CommentRandomness  NameRandomness  \n",
       "count        3000.000000     3000.000000  \n",
       "mean            0.235418        0.508730  \n",
       "std             0.182948        0.143923  \n",
       "min             0.000000        0.000000  \n",
       "25%             0.107036        0.417586  \n",
       "50%             0.185301        0.486599  \n",
       "75%             0.290379        0.590915  \n",
       "max             1.000000        1.000000  "
      ]
     },
     "execution_count": 71,
     "metadata": {},
     "output_type": "execute_result"
    }
   ],
   "source": [
    "scaledData.describe()"
   ]
  },
  {
   "cell_type": "code",
   "execution_count": 72,
   "metadata": {},
   "outputs": [
    {
     "data": {
      "image/png": "[encoded data removed]",
      "text/plain": [
       "<Figure size 720x1800 with 19 Axes>"
      ]
     },
     "metadata": {
      "needs_background": "light"
     },
     "output_type": "display_data"
    }
   ],
   "source": [
    "features = [\"Likes\", \"Reply_Count\", \"LengthSentence\", \"countUrl\", \"WhiteSpacenum\",\n",
    "            \"StopwordRatio\", \"WorldDuplicateRatio\", \"CountEmoji\", \"CountNonAscii\",\n",
    "            \"CountUpperLetters\", \"SimilarityTitle\", \"SimilarityDesc\",\"LenComment\", \"NameLen\", \"UrlRatio\",\n",
    "            \"LexicalRichness\", \"LexicalDensity\", \"CommentRandomness\",\n",
    "            \"NameRandomness\"]\n",
    "\n",
    "fig, axes = plt.subplots(len(features),1, figsize = (10,25))\n",
    "\n",
    "for i in range(len(features)):\n",
    "    sns.kdeplot(Legit[features[i]], ax = axes[i], label = \"Legitimate\")\n",
    "    sns.kdeplot(spam[features[i]], ax = axes[i], label = \"Spam\")\n",
    "    axes[i].set_xlabel(features[i])\n",
    "    axes[i].legend()\n",
    "\n",
    "plt.tight_layout()\n",
    "plt.show()"
   ]
  },
  {
   "cell_type": "markdown",
   "metadata": {},
   "source": [
    "Hasil dari subplot feature, pada hipotesis awal untuk count url dan url ratio merupakan feature yang diharapkan mampu membedakan antara spam comments dan legitimate comments. Akan tetapi, tidak terlalu memiliki pengaruh yang besar hal itu bisa dikarenakan user hanya mengisi komentar dengan link saja tidak dengan pernyataan atau kalimat-kalimat promosi terlebih dahulu."
   ]
  },
  {
   "cell_type": "code",
   "execution_count": 73,
   "metadata": {},
   "outputs": [],
   "source": [
    "y = y.drop(columns=[\"Comment_Id\"])"
   ]
  },
  {
   "cell_type": "code",
   "execution_count": 74,
   "metadata": {},
   "outputs": [],
   "source": [
    "dfDummies = pd.get_dummies(y)"
   ]
  },
  {
   "cell_type": "code",
   "execution_count": 75,
   "metadata": {},
   "outputs": [
    {
     "data": {
      "text/html": [
       "<div>\n",
       "<style scoped>\n",
       "    .dataframe tbody tr th:only-of-type {\n",
       "        vertical-align: middle;\n",
       "    }\n",
       "\n",
       "    .dataframe tbody tr th {\n",
       "        vertical-align: top;\n",
       "    }\n",
       "\n",
       "    .dataframe thead th {\n",
       "        text-align: right;\n",
       "    }\n",
       "</style>\n",
       "<table border=\"1\" class=\"dataframe\">\n",
       "  <thead>\n",
       "    <tr style=\"text-align: right;\">\n",
       "      <th></th>\n",
       "      <th>Likes</th>\n",
       "      <th>Reply_Count</th>\n",
       "      <th>LengthSentence</th>\n",
       "      <th>CommentLength</th>\n",
       "      <th>countUrl</th>\n",
       "      <th>WhiteSpacenum</th>\n",
       "      <th>StopwordRatio</th>\n",
       "      <th>WorldDuplicateRatio</th>\n",
       "      <th>CountEmoji</th>\n",
       "      <th>CountNonAscii</th>\n",
       "      <th>...</th>\n",
       "      <th>SimilarityDesc</th>\n",
       "      <th>LenComment</th>\n",
       "      <th>NameLen</th>\n",
       "      <th>UrlRatio</th>\n",
       "      <th>LexicalRichness</th>\n",
       "      <th>LexicalDensity</th>\n",
       "      <th>CommentRandomness</th>\n",
       "      <th>NameRandomness</th>\n",
       "      <th>Label_legitimate</th>\n",
       "      <th>Label_spam</th>\n",
       "    </tr>\n",
       "  </thead>\n",
       "  <tbody>\n",
       "    <tr>\n",
       "      <th>0</th>\n",
       "      <td>0</td>\n",
       "      <td>0</td>\n",
       "      <td>1</td>\n",
       "      <td>1</td>\n",
       "      <td>1</td>\n",
       "      <td>0</td>\n",
       "      <td>0.000000</td>\n",
       "      <td>1.0</td>\n",
       "      <td>0</td>\n",
       "      <td>0</td>\n",
       "      <td>...</td>\n",
       "      <td>0.000000</td>\n",
       "      <td>28</td>\n",
       "      <td>24</td>\n",
       "      <td>1.000000</td>\n",
       "      <td>100.0</td>\n",
       "      <td>100.000000</td>\n",
       "      <td>0.145843</td>\n",
       "      <td>0.147430</td>\n",
       "      <td>0</td>\n",
       "      <td>1</td>\n",
       "    </tr>\n",
       "    <tr>\n",
       "      <th>1</th>\n",
       "      <td>0</td>\n",
       "      <td>0</td>\n",
       "      <td>1</td>\n",
       "      <td>5</td>\n",
       "      <td>0</td>\n",
       "      <td>4</td>\n",
       "      <td>0.000000</td>\n",
       "      <td>1.0</td>\n",
       "      <td>0</td>\n",
       "      <td>0</td>\n",
       "      <td>...</td>\n",
       "      <td>0.000000</td>\n",
       "      <td>31</td>\n",
       "      <td>12</td>\n",
       "      <td>0.000000</td>\n",
       "      <td>100.0</td>\n",
       "      <td>40.000000</td>\n",
       "      <td>0.122352</td>\n",
       "      <td>0.257080</td>\n",
       "      <td>0</td>\n",
       "      <td>1</td>\n",
       "    </tr>\n",
       "    <tr>\n",
       "      <th>2</th>\n",
       "      <td>0</td>\n",
       "      <td>0</td>\n",
       "      <td>1</td>\n",
       "      <td>10</td>\n",
       "      <td>0</td>\n",
       "      <td>9</td>\n",
       "      <td>0.100000</td>\n",
       "      <td>1.0</td>\n",
       "      <td>0</td>\n",
       "      <td>0</td>\n",
       "      <td>...</td>\n",
       "      <td>0.000000</td>\n",
       "      <td>57</td>\n",
       "      <td>18</td>\n",
       "      <td>0.000000</td>\n",
       "      <td>100.0</td>\n",
       "      <td>50.000000</td>\n",
       "      <td>0.068595</td>\n",
       "      <td>0.200798</td>\n",
       "      <td>0</td>\n",
       "      <td>1</td>\n",
       "    </tr>\n",
       "    <tr>\n",
       "      <th>3</th>\n",
       "      <td>0</td>\n",
       "      <td>0</td>\n",
       "      <td>1</td>\n",
       "      <td>1</td>\n",
       "      <td>1</td>\n",
       "      <td>0</td>\n",
       "      <td>0.000000</td>\n",
       "      <td>1.0</td>\n",
       "      <td>0</td>\n",
       "      <td>0</td>\n",
       "      <td>...</td>\n",
       "      <td>0.000000</td>\n",
       "      <td>56</td>\n",
       "      <td>7</td>\n",
       "      <td>1.000000</td>\n",
       "      <td>100.0</td>\n",
       "      <td>0.000000</td>\n",
       "      <td>0.083523</td>\n",
       "      <td>0.319418</td>\n",
       "      <td>0</td>\n",
       "      <td>1</td>\n",
       "    </tr>\n",
       "    <tr>\n",
       "      <th>4</th>\n",
       "      <td>0</td>\n",
       "      <td>0</td>\n",
       "      <td>1</td>\n",
       "      <td>10</td>\n",
       "      <td>1</td>\n",
       "      <td>9</td>\n",
       "      <td>0.100000</td>\n",
       "      <td>1.0</td>\n",
       "      <td>0</td>\n",
       "      <td>0</td>\n",
       "      <td>...</td>\n",
       "      <td>0.000000</td>\n",
       "      <td>88</td>\n",
       "      <td>10</td>\n",
       "      <td>0.318182</td>\n",
       "      <td>100.0</td>\n",
       "      <td>70.000000</td>\n",
       "      <td>0.051711</td>\n",
       "      <td>0.312193</td>\n",
       "      <td>0</td>\n",
       "      <td>1</td>\n",
       "    </tr>\n",
       "    <tr>\n",
       "      <th>...</th>\n",
       "      <td>...</td>\n",
       "      <td>...</td>\n",
       "      <td>...</td>\n",
       "      <td>...</td>\n",
       "      <td>...</td>\n",
       "      <td>...</td>\n",
       "      <td>...</td>\n",
       "      <td>...</td>\n",
       "      <td>...</td>\n",
       "      <td>...</td>\n",
       "      <td>...</td>\n",
       "      <td>...</td>\n",
       "      <td>...</td>\n",
       "      <td>...</td>\n",
       "      <td>...</td>\n",
       "      <td>...</td>\n",
       "      <td>...</td>\n",
       "      <td>...</td>\n",
       "      <td>...</td>\n",
       "      <td>...</td>\n",
       "      <td>...</td>\n",
       "    </tr>\n",
       "    <tr>\n",
       "      <th>2995</th>\n",
       "      <td>0</td>\n",
       "      <td>0</td>\n",
       "      <td>1</td>\n",
       "      <td>1</td>\n",
       "      <td>0</td>\n",
       "      <td>0</td>\n",
       "      <td>0.000000</td>\n",
       "      <td>1.0</td>\n",
       "      <td>0</td>\n",
       "      <td>0</td>\n",
       "      <td>...</td>\n",
       "      <td>0.000000</td>\n",
       "      <td>3</td>\n",
       "      <td>14</td>\n",
       "      <td>0.000000</td>\n",
       "      <td>100.0</td>\n",
       "      <td>100.000000</td>\n",
       "      <td>0.528321</td>\n",
       "      <td>0.241342</td>\n",
       "      <td>1</td>\n",
       "      <td>0</td>\n",
       "    </tr>\n",
       "    <tr>\n",
       "      <th>2996</th>\n",
       "      <td>0</td>\n",
       "      <td>0</td>\n",
       "      <td>1</td>\n",
       "      <td>6</td>\n",
       "      <td>0</td>\n",
       "      <td>5</td>\n",
       "      <td>0.166667</td>\n",
       "      <td>1.0</td>\n",
       "      <td>1</td>\n",
       "      <td>1</td>\n",
       "      <td>...</td>\n",
       "      <td>0.083333</td>\n",
       "      <td>31</td>\n",
       "      <td>9</td>\n",
       "      <td>0.000000</td>\n",
       "      <td>100.0</td>\n",
       "      <td>83.333333</td>\n",
       "      <td>0.119891</td>\n",
       "      <td>0.327523</td>\n",
       "      <td>1</td>\n",
       "      <td>0</td>\n",
       "    </tr>\n",
       "    <tr>\n",
       "      <th>2997</th>\n",
       "      <td>0</td>\n",
       "      <td>0</td>\n",
       "      <td>1</td>\n",
       "      <td>10</td>\n",
       "      <td>0</td>\n",
       "      <td>9</td>\n",
       "      <td>0.200000</td>\n",
       "      <td>1.0</td>\n",
       "      <td>0</td>\n",
       "      <td>0</td>\n",
       "      <td>...</td>\n",
       "      <td>0.125000</td>\n",
       "      <td>64</td>\n",
       "      <td>36</td>\n",
       "      <td>0.000000</td>\n",
       "      <td>100.0</td>\n",
       "      <td>60.000000</td>\n",
       "      <td>0.058311</td>\n",
       "      <td>0.116132</td>\n",
       "      <td>1</td>\n",
       "      <td>0</td>\n",
       "    </tr>\n",
       "    <tr>\n",
       "      <th>2998</th>\n",
       "      <td>0</td>\n",
       "      <td>0</td>\n",
       "      <td>1</td>\n",
       "      <td>2</td>\n",
       "      <td>0</td>\n",
       "      <td>1</td>\n",
       "      <td>0.000000</td>\n",
       "      <td>1.0</td>\n",
       "      <td>0</td>\n",
       "      <td>0</td>\n",
       "      <td>...</td>\n",
       "      <td>0.000000</td>\n",
       "      <td>13</td>\n",
       "      <td>16</td>\n",
       "      <td>0.000000</td>\n",
       "      <td>100.0</td>\n",
       "      <td>100.000000</td>\n",
       "      <td>0.221011</td>\n",
       "      <td>0.226562</td>\n",
       "      <td>1</td>\n",
       "      <td>0</td>\n",
       "    </tr>\n",
       "    <tr>\n",
       "      <th>2999</th>\n",
       "      <td>0</td>\n",
       "      <td>0</td>\n",
       "      <td>1</td>\n",
       "      <td>4</td>\n",
       "      <td>0</td>\n",
       "      <td>3</td>\n",
       "      <td>0.500000</td>\n",
       "      <td>1.0</td>\n",
       "      <td>0</td>\n",
       "      <td>0</td>\n",
       "      <td>...</td>\n",
       "      <td>0.000000</td>\n",
       "      <td>23</td>\n",
       "      <td>4</td>\n",
       "      <td>0.000000</td>\n",
       "      <td>100.0</td>\n",
       "      <td>50.000000</td>\n",
       "      <td>0.153662</td>\n",
       "      <td>0.500000</td>\n",
       "      <td>1</td>\n",
       "      <td>0</td>\n",
       "    </tr>\n",
       "  </tbody>\n",
       "</table>\n",
       "<p>3000 rows × 22 columns</p>\n",
       "</div>"
      ],
      "text/plain": [
       "      Likes  Reply_Count  LengthSentence  CommentLength  countUrl  \\\n",
       "0         0            0               1              1         1   \n",
       "1         0            0               1              5         0   \n",
       "2         0            0               1             10         0   \n",
       "3         0            0               1              1         1   \n",
       "4         0            0               1             10         1   \n",
       "...     ...          ...             ...            ...       ...   \n",
       "2995      0            0               1              1         0   \n",
       "2996      0            0               1              6         0   \n",
       "2997      0            0               1             10         0   \n",
       "2998      0            0               1              2         0   \n",
       "2999      0            0               1              4         0   \n",
       "\n",
       "      WhiteSpacenum  StopwordRatio  WorldDuplicateRatio  CountEmoji  \\\n",
       "0                 0       0.000000                  1.0           0   \n",
       "1                 4       0.000000                  1.0           0   \n",
       "2                 9       0.100000                  1.0           0   \n",
       "3                 0       0.000000                  1.0           0   \n",
       "4                 9       0.100000                  1.0           0   \n",
       "...             ...            ...                  ...         ...   \n",
       "2995              0       0.000000                  1.0           0   \n",
       "2996              5       0.166667                  1.0           1   \n",
       "2997              9       0.200000                  1.0           0   \n",
       "2998              1       0.000000                  1.0           0   \n",
       "2999              3       0.500000                  1.0           0   \n",
       "\n",
       "      CountNonAscii  ...  SimilarityDesc  LenComment  NameLen  UrlRatio  \\\n",
       "0                 0  ...        0.000000          28       24  1.000000   \n",
       "1                 0  ...        0.000000          31       12  0.000000   \n",
       "2                 0  ...        0.000000          57       18  0.000000   \n",
       "3                 0  ...        0.000000          56        7  1.000000   \n",
       "4                 0  ...        0.000000          88       10  0.318182   \n",
       "...             ...  ...             ...         ...      ...       ...   \n",
       "2995              0  ...        0.000000           3       14  0.000000   \n",
       "2996              1  ...        0.083333          31        9  0.000000   \n",
       "2997              0  ...        0.125000          64       36  0.000000   \n",
       "2998              0  ...        0.000000          13       16  0.000000   \n",
       "2999              0  ...        0.000000          23        4  0.000000   \n",
       "\n",
       "      LexicalRichness  LexicalDensity  CommentRandomness  NameRandomness  \\\n",
       "0               100.0      100.000000           0.145843        0.147430   \n",
       "1               100.0       40.000000           0.122352        0.257080   \n",
       "2               100.0       50.000000           0.068595        0.200798   \n",
       "3               100.0        0.000000           0.083523        0.319418   \n",
       "4               100.0       70.000000           0.051711        0.312193   \n",
       "...               ...             ...                ...             ...   \n",
       "2995            100.0      100.000000           0.528321        0.241342   \n",
       "2996            100.0       83.333333           0.119891        0.327523   \n",
       "2997            100.0       60.000000           0.058311        0.116132   \n",
       "2998            100.0      100.000000           0.221011        0.226562   \n",
       "2999            100.0       50.000000           0.153662        0.500000   \n",
       "\n",
       "      Label_legitimate  Label_spam  \n",
       "0                    0           1  \n",
       "1                    0           1  \n",
       "2                    0           1  \n",
       "3                    0           1  \n",
       "4                    0           1  \n",
       "...                ...         ...  \n",
       "2995                 1           0  \n",
       "2996                 1           0  \n",
       "2997                 1           0  \n",
       "2998                 1           0  \n",
       "2999                 1           0  \n",
       "\n",
       "[3000 rows x 22 columns]"
      ]
     },
     "execution_count": 75,
     "metadata": {},
     "output_type": "execute_result"
    }
   ],
   "source": [
    "dfDummies"
   ]
  },
  {
   "cell_type": "code",
   "execution_count": 76,
   "metadata": {},
   "outputs": [
    {
     "data": {
      "image/png": "[encoded data removed]",
      "text/plain": [
       "<Figure size 864x720 with 2 Axes>"
      ]
     },
     "metadata": {
      "needs_background": "light"
     },
     "output_type": "display_data"
    }
   ],
   "source": [
    "corr2 = dfDummies.corr() # We already examined SalePrice correlations\n",
    "plt.figure(figsize=(12, 10))\n",
    "\n",
    "heatmap = sns.heatmap(corr2[(corr2 >= 0.5) | (corr2 <= -0.4)], \n",
    "            cmap='magma', vmax=1.0, vmin=-1.0, linewidths=0.1,\n",
    "            annot=True, annot_kws={\"size\": 8}, square=True);\n",
    "\n",
    "heatmap.set_title('Correlation Heatmap', fontdict={'fontsize':12}, pad=12);\n",
    "plt.savefig('..\\Image\\Heatmap Correlation.png', dpi=300, bbox_inches='tight')"
   ]
  },
  {
   "cell_type": "code",
   "execution_count": 77,
   "metadata": {},
   "outputs": [],
   "source": [
    "features = [\"Likes\", \"Reply_Count\", \"LengthSentence\", \"countUrl\", \"WhiteSpacenum\",\n",
    "            \"StopwordRatio\", \"WorldDuplicateRatio\", \"CountEmoji\", \"CountNonAscii\",\n",
    "            \"CountUpperLetters\", \"SimilarityTitle\", \"SimilarityDesc\",\"LenComment\", \"NameLen\", \"UrlRatio\",\n",
    "            \"LexicalRichness\", \"LexicalDensity\", \"CommentRandomness\",\n",
    "            \"NameRandomness\"]\n",
    "\n",
    "def normalize(df, result):\n",
    "    result = df.copy()\n",
    "    for feature_name in features:\n",
    "        max_value = result[feature_name].max()\n",
    "        min_value = result[feature_name].min()\n",
    "        result[feature_name] = (df[feature_name] - min_value) / (max_value - min_value)\n",
    "    return result"
   ]
  },
  {
   "cell_type": "code",
   "execution_count": 78,
   "metadata": {},
   "outputs": [],
   "source": [
    "normData = normalize(clean, clean)"
   ]
  },
  {
   "cell_type": "code",
   "execution_count": 79,
   "metadata": {},
   "outputs": [
    {
     "data": {
      "text/html": [
       "<div>\n",
       "<style scoped>\n",
       "    .dataframe tbody tr th:only-of-type {\n",
       "        vertical-align: middle;\n",
       "    }\n",
       "\n",
       "    .dataframe tbody tr th {\n",
       "        vertical-align: top;\n",
       "    }\n",
       "\n",
       "    .dataframe thead th {\n",
       "        text-align: right;\n",
       "    }\n",
       "</style>\n",
       "<table border=\"1\" class=\"dataframe\">\n",
       "  <thead>\n",
       "    <tr style=\"text-align: right;\">\n",
       "      <th></th>\n",
       "      <th>Video_Id</th>\n",
       "      <th>Tittle</th>\n",
       "      <th>Description</th>\n",
       "      <th>Name</th>\n",
       "      <th>Comment</th>\n",
       "      <th>Comment_Id</th>\n",
       "      <th>Time</th>\n",
       "      <th>Likes</th>\n",
       "      <th>Reply_Count</th>\n",
       "      <th>Label</th>\n",
       "      <th>...</th>\n",
       "      <th>CountUpperLetters</th>\n",
       "      <th>SimilarityTitle</th>\n",
       "      <th>SimilarityDesc</th>\n",
       "      <th>LenComment</th>\n",
       "      <th>NameLen</th>\n",
       "      <th>UrlRatio</th>\n",
       "      <th>LexicalRichness</th>\n",
       "      <th>LexicalDensity</th>\n",
       "      <th>CommentRandomness</th>\n",
       "      <th>NameRandomness</th>\n",
       "    </tr>\n",
       "  </thead>\n",
       "  <tbody>\n",
       "    <tr>\n",
       "      <th>0</th>\n",
       "      <td>0iLgiRBQzzs</td>\n",
       "      <td>Panas! Jokowi VS Prabowo Saling Serang soal Ko...</td>\n",
       "      <td>Debat panas antara kedua pasangan calon presid...</td>\n",
       "      <td>Doharman Patimura Waruwu</td>\n",
       "      <td>https://youtu.be/LBKGyxnpMCU</td>\n",
       "      <td>Ugz-zdD0s87dSDzITuh4AaABAg</td>\n",
       "      <td>2019-01-17 23:06:24</td>\n",
       "      <td>0.0</td>\n",
       "      <td>0.0</td>\n",
       "      <td>spam</td>\n",
       "      <td>...</td>\n",
       "      <td>0.017032</td>\n",
       "      <td>0.0</td>\n",
       "      <td>0.000000</td>\n",
       "      <td>0.010804</td>\n",
       "      <td>0.479167</td>\n",
       "      <td>1.000000</td>\n",
       "      <td>1.0</td>\n",
       "      <td>1.000000</td>\n",
       "      <td>0.276051</td>\n",
       "      <td>0.279054</td>\n",
       "    </tr>\n",
       "    <tr>\n",
       "      <th>1</th>\n",
       "      <td>AP0NACavjfk</td>\n",
       "      <td>SkinnyIndonesian24 | Prabowo VS Jokowi - Epic ...</td>\n",
       "      <td>SkinnyIndonesian24 ( Andovi da Lopez sebagai J...</td>\n",
       "      <td>Akiru Syakir</td>\n",
       "      <td>Bantu subscribe youtube gw dong</td>\n",
       "      <td>UgwQM2OHIzkVDtu0PIN4AaABAg</td>\n",
       "      <td>2019-04-10 22:40:00</td>\n",
       "      <td>0.0</td>\n",
       "      <td>0.0</td>\n",
       "      <td>spam</td>\n",
       "      <td>...</td>\n",
       "      <td>0.002433</td>\n",
       "      <td>0.0</td>\n",
       "      <td>0.000000</td>\n",
       "      <td>0.012005</td>\n",
       "      <td>0.229167</td>\n",
       "      <td>0.000000</td>\n",
       "      <td>1.0</td>\n",
       "      <td>0.400000</td>\n",
       "      <td>0.231586</td>\n",
       "      <td>0.486599</td>\n",
       "    </tr>\n",
       "    <tr>\n",
       "      <th>2</th>\n",
       "      <td>AP0NACavjfk</td>\n",
       "      <td>SkinnyIndonesian24 | Prabowo VS Jokowi - Epic ...</td>\n",
       "      <td>SkinnyIndonesian24 ( Andovi da Lopez sebagai J...</td>\n",
       "      <td>Teguh Wage Prakoso</td>\n",
       "      <td>hachimon tonkou, kalau buka gerbang ke 8 auto ...</td>\n",
       "      <td>Ugyh7dOOI2953Exf3cp4AaABAg.8tUY_eVh77e8tUhBosQJLg</td>\n",
       "      <td>2019-04-09 02:50:06</td>\n",
       "      <td>0.0</td>\n",
       "      <td>0.0</td>\n",
       "      <td>spam</td>\n",
       "      <td>...</td>\n",
       "      <td>0.000000</td>\n",
       "      <td>0.0</td>\n",
       "      <td>0.000000</td>\n",
       "      <td>0.022409</td>\n",
       "      <td>0.354167</td>\n",
       "      <td>0.000000</td>\n",
       "      <td>1.0</td>\n",
       "      <td>0.500000</td>\n",
       "      <td>0.129836</td>\n",
       "      <td>0.380069</td>\n",
       "    </tr>\n",
       "    <tr>\n",
       "      <th>3</th>\n",
       "      <td>AP0NACavjfk</td>\n",
       "      <td>SkinnyIndonesian24 | Prabowo VS Jokowi - Epic ...</td>\n",
       "      <td>SkinnyIndonesian24 ( Andovi da Lopez sebagai J...</td>\n",
       "      <td>hidayah</td>\n",
       "      <td>https://www.youtube.com/channel/UC_iQ1hcNxz1ir...</td>\n",
       "      <td>UgxA-h0VMWXoShPkFEZ4AaABAg</td>\n",
       "      <td>2019-04-10 12:25:49</td>\n",
       "      <td>0.0</td>\n",
       "      <td>0.0</td>\n",
       "      <td>spam</td>\n",
       "      <td>...</td>\n",
       "      <td>0.017032</td>\n",
       "      <td>0.0</td>\n",
       "      <td>0.000000</td>\n",
       "      <td>0.022009</td>\n",
       "      <td>0.125000</td>\n",
       "      <td>1.000000</td>\n",
       "      <td>1.0</td>\n",
       "      <td>0.000000</td>\n",
       "      <td>0.158091</td>\n",
       "      <td>0.604591</td>\n",
       "    </tr>\n",
       "    <tr>\n",
       "      <th>4</th>\n",
       "      <td>AP0NACavjfk</td>\n",
       "      <td>SkinnyIndonesian24 | Prabowo VS Jokowi - Epic ...</td>\n",
       "      <td>SkinnyIndonesian24 ( Andovi da Lopez sebagai J...</td>\n",
       "      <td>Derisma Ae</td>\n",
       "      <td>https://youtu.be/aS1FIPcCuh4 CH: Derisma ae, m...</td>\n",
       "      <td>UgybtnYbYjDF7YZJAdN4AaABAg</td>\n",
       "      <td>2019-04-15 16:00:05</td>\n",
       "      <td>0.0</td>\n",
       "      <td>0.0</td>\n",
       "      <td>spam</td>\n",
       "      <td>...</td>\n",
       "      <td>0.041363</td>\n",
       "      <td>0.0</td>\n",
       "      <td>0.000000</td>\n",
       "      <td>0.034814</td>\n",
       "      <td>0.187500</td>\n",
       "      <td>0.318182</td>\n",
       "      <td>1.0</td>\n",
       "      <td>0.700000</td>\n",
       "      <td>0.097878</td>\n",
       "      <td>0.590915</td>\n",
       "    </tr>\n",
       "    <tr>\n",
       "      <th>...</th>\n",
       "      <td>...</td>\n",
       "      <td>...</td>\n",
       "      <td>...</td>\n",
       "      <td>...</td>\n",
       "      <td>...</td>\n",
       "      <td>...</td>\n",
       "      <td>...</td>\n",
       "      <td>...</td>\n",
       "      <td>...</td>\n",
       "      <td>...</td>\n",
       "      <td>...</td>\n",
       "      <td>...</td>\n",
       "      <td>...</td>\n",
       "      <td>...</td>\n",
       "      <td>...</td>\n",
       "      <td>...</td>\n",
       "      <td>...</td>\n",
       "      <td>...</td>\n",
       "      <td>...</td>\n",
       "      <td>...</td>\n",
       "      <td>...</td>\n",
       "    </tr>\n",
       "    <tr>\n",
       "      <th>2995</th>\n",
       "      <td>AP0NACavjfk</td>\n",
       "      <td>SkinnyIndonesian24 | Prabowo VS Jokowi - Epic ...</td>\n",
       "      <td>SkinnyIndonesian24 ( Andovi da Lopez sebagai J...</td>\n",
       "      <td>agus muliandri</td>\n",
       "      <td>Top</td>\n",
       "      <td>UgxG_8lxSoZduOAiE-54AaABAg.8tXxFBA8lZa8tXzXBaY73i</td>\n",
       "      <td>2019-04-10 09:28:02</td>\n",
       "      <td>0.0</td>\n",
       "      <td>0.0</td>\n",
       "      <td>legitimate</td>\n",
       "      <td>...</td>\n",
       "      <td>0.002433</td>\n",
       "      <td>0.0</td>\n",
       "      <td>0.000000</td>\n",
       "      <td>0.000800</td>\n",
       "      <td>0.270833</td>\n",
       "      <td>0.000000</td>\n",
       "      <td>1.0</td>\n",
       "      <td>1.000000</td>\n",
       "      <td>1.000000</td>\n",
       "      <td>0.456809</td>\n",
       "    </tr>\n",
       "    <tr>\n",
       "      <th>2996</th>\n",
       "      <td>AP0NACavjfk</td>\n",
       "      <td>SkinnyIndonesian24 | Prabowo VS Jokowi - Epic ...</td>\n",
       "      <td>SkinnyIndonesian24 ( Andovi da Lopez sebagai J...</td>\n",
       "      <td>EXE HUMAN</td>\n",
       "      <td>Creator senior memang beda ya 😎</td>\n",
       "      <td>Ugx4Ep3GEADS4c_w5YF4AaABAg</td>\n",
       "      <td>2019-04-09 11:43:58</td>\n",
       "      <td>0.0</td>\n",
       "      <td>0.0</td>\n",
       "      <td>legitimate</td>\n",
       "      <td>...</td>\n",
       "      <td>0.002433</td>\n",
       "      <td>0.0</td>\n",
       "      <td>0.041667</td>\n",
       "      <td>0.012005</td>\n",
       "      <td>0.166667</td>\n",
       "      <td>0.000000</td>\n",
       "      <td>1.0</td>\n",
       "      <td>0.833333</td>\n",
       "      <td>0.226929</td>\n",
       "      <td>0.619931</td>\n",
       "    </tr>\n",
       "    <tr>\n",
       "      <th>2997</th>\n",
       "      <td>AP0NACavjfk</td>\n",
       "      <td>SkinnyIndonesian24 | Prabowo VS Jokowi - Epic ...</td>\n",
       "      <td>SkinnyIndonesian24 ( Andovi da Lopez sebagai J...</td>\n",
       "      <td>Ni Luh Ayu Sibang Sri Padmayanti_056</td>\n",
       "      <td>Keunggulan dan kekurangan nge buat kita semua ...</td>\n",
       "      <td>UgzltfmrOp2dr3DbCPx4AaABAg</td>\n",
       "      <td>2019-04-11 13:48:07</td>\n",
       "      <td>0.0</td>\n",
       "      <td>0.0</td>\n",
       "      <td>legitimate</td>\n",
       "      <td>...</td>\n",
       "      <td>0.002433</td>\n",
       "      <td>0.0</td>\n",
       "      <td>0.062500</td>\n",
       "      <td>0.025210</td>\n",
       "      <td>0.729167</td>\n",
       "      <td>0.000000</td>\n",
       "      <td>1.0</td>\n",
       "      <td>0.600000</td>\n",
       "      <td>0.110370</td>\n",
       "      <td>0.219814</td>\n",
       "    </tr>\n",
       "    <tr>\n",
       "      <th>2998</th>\n",
       "      <td>AP0NACavjfk</td>\n",
       "      <td>SkinnyIndonesian24 | Prabowo VS Jokowi - Epic ...</td>\n",
       "      <td>SkinnyIndonesian24 ( Andovi da Lopez sebagai J...</td>\n",
       "      <td>Brigita Deya 183</td>\n",
       "      <td>Keren parahhh</td>\n",
       "      <td>UgyaAGTI4x4ta4TE1cF4AaABAg</td>\n",
       "      <td>2019-04-09 10:20:06</td>\n",
       "      <td>0.0</td>\n",
       "      <td>0.0</td>\n",
       "      <td>legitimate</td>\n",
       "      <td>...</td>\n",
       "      <td>0.002433</td>\n",
       "      <td>0.0</td>\n",
       "      <td>0.000000</td>\n",
       "      <td>0.004802</td>\n",
       "      <td>0.312500</td>\n",
       "      <td>0.000000</td>\n",
       "      <td>1.0</td>\n",
       "      <td>1.000000</td>\n",
       "      <td>0.418327</td>\n",
       "      <td>0.428835</td>\n",
       "    </tr>\n",
       "    <tr>\n",
       "      <th>2999</th>\n",
       "      <td>AP0NACavjfk</td>\n",
       "      <td>SkinnyIndonesian24 | Prabowo VS Jokowi - Epic ...</td>\n",
       "      <td>SkinnyIndonesian24 ( Andovi da Lopez sebagai J...</td>\n",
       "      <td>Carl</td>\n",
       "      <td>MEREKA HARUS NONTON NIH</td>\n",
       "      <td>Ugz4K70s5tZHaG_LkIl4AaABAg</td>\n",
       "      <td>2019-04-08 12:59:00</td>\n",
       "      <td>0.0</td>\n",
       "      <td>0.0</td>\n",
       "      <td>legitimate</td>\n",
       "      <td>...</td>\n",
       "      <td>0.048662</td>\n",
       "      <td>0.0</td>\n",
       "      <td>0.000000</td>\n",
       "      <td>0.008804</td>\n",
       "      <td>0.062500</td>\n",
       "      <td>0.000000</td>\n",
       "      <td>1.0</td>\n",
       "      <td>0.500000</td>\n",
       "      <td>0.290849</td>\n",
       "      <td>0.946395</td>\n",
       "    </tr>\n",
       "  </tbody>\n",
       "</table>\n",
       "<p>3000 rows × 31 columns</p>\n",
       "</div>"
      ],
      "text/plain": [
       "         Video_Id                                             Tittle  \\\n",
       "0     0iLgiRBQzzs  Panas! Jokowi VS Prabowo Saling Serang soal Ko...   \n",
       "1     AP0NACavjfk  SkinnyIndonesian24 | Prabowo VS Jokowi - Epic ...   \n",
       "2     AP0NACavjfk  SkinnyIndonesian24 | Prabowo VS Jokowi - Epic ...   \n",
       "3     AP0NACavjfk  SkinnyIndonesian24 | Prabowo VS Jokowi - Epic ...   \n",
       "4     AP0NACavjfk  SkinnyIndonesian24 | Prabowo VS Jokowi - Epic ...   \n",
       "...           ...                                                ...   \n",
       "2995  AP0NACavjfk  SkinnyIndonesian24 | Prabowo VS Jokowi - Epic ...   \n",
       "2996  AP0NACavjfk  SkinnyIndonesian24 | Prabowo VS Jokowi - Epic ...   \n",
       "2997  AP0NACavjfk  SkinnyIndonesian24 | Prabowo VS Jokowi - Epic ...   \n",
       "2998  AP0NACavjfk  SkinnyIndonesian24 | Prabowo VS Jokowi - Epic ...   \n",
       "2999  AP0NACavjfk  SkinnyIndonesian24 | Prabowo VS Jokowi - Epic ...   \n",
       "\n",
       "                                            Description  \\\n",
       "0     Debat panas antara kedua pasangan calon presid...   \n",
       "1     SkinnyIndonesian24 ( Andovi da Lopez sebagai J...   \n",
       "2     SkinnyIndonesian24 ( Andovi da Lopez sebagai J...   \n",
       "3     SkinnyIndonesian24 ( Andovi da Lopez sebagai J...   \n",
       "4     SkinnyIndonesian24 ( Andovi da Lopez sebagai J...   \n",
       "...                                                 ...   \n",
       "2995  SkinnyIndonesian24 ( Andovi da Lopez sebagai J...   \n",
       "2996  SkinnyIndonesian24 ( Andovi da Lopez sebagai J...   \n",
       "2997  SkinnyIndonesian24 ( Andovi da Lopez sebagai J...   \n",
       "2998  SkinnyIndonesian24 ( Andovi da Lopez sebagai J...   \n",
       "2999  SkinnyIndonesian24 ( Andovi da Lopez sebagai J...   \n",
       "\n",
       "                                      Name  \\\n",
       "0                 Doharman Patimura Waruwu   \n",
       "1                             Akiru Syakir   \n",
       "2                       Teguh Wage Prakoso   \n",
       "3                                  hidayah   \n",
       "4                               Derisma Ae   \n",
       "...                                    ...   \n",
       "2995                        agus muliandri   \n",
       "2996                             EXE HUMAN   \n",
       "2997  Ni Luh Ayu Sibang Sri Padmayanti_056   \n",
       "2998                      Brigita Deya 183   \n",
       "2999                                  Carl   \n",
       "\n",
       "                                                Comment  \\\n",
       "0                          https://youtu.be/LBKGyxnpMCU   \n",
       "1                       Bantu subscribe youtube gw dong   \n",
       "2     hachimon tonkou, kalau buka gerbang ke 8 auto ...   \n",
       "3     https://www.youtube.com/channel/UC_iQ1hcNxz1ir...   \n",
       "4     https://youtu.be/aS1FIPcCuh4 CH: Derisma ae, m...   \n",
       "...                                                 ...   \n",
       "2995                                                Top   \n",
       "2996                    Creator senior memang beda ya 😎   \n",
       "2997  Keunggulan dan kekurangan nge buat kita semua ...   \n",
       "2998                                      Keren parahhh   \n",
       "2999                            MEREKA HARUS NONTON NIH   \n",
       "\n",
       "                                             Comment_Id                 Time  \\\n",
       "0                            Ugz-zdD0s87dSDzITuh4AaABAg  2019-01-17 23:06:24   \n",
       "1                            UgwQM2OHIzkVDtu0PIN4AaABAg  2019-04-10 22:40:00   \n",
       "2     Ugyh7dOOI2953Exf3cp4AaABAg.8tUY_eVh77e8tUhBosQJLg  2019-04-09 02:50:06   \n",
       "3                            UgxA-h0VMWXoShPkFEZ4AaABAg  2019-04-10 12:25:49   \n",
       "4                            UgybtnYbYjDF7YZJAdN4AaABAg  2019-04-15 16:00:05   \n",
       "...                                                 ...                  ...   \n",
       "2995  UgxG_8lxSoZduOAiE-54AaABAg.8tXxFBA8lZa8tXzXBaY73i  2019-04-10 09:28:02   \n",
       "2996                         Ugx4Ep3GEADS4c_w5YF4AaABAg  2019-04-09 11:43:58   \n",
       "2997                         UgzltfmrOp2dr3DbCPx4AaABAg  2019-04-11 13:48:07   \n",
       "2998                         UgyaAGTI4x4ta4TE1cF4AaABAg  2019-04-09 10:20:06   \n",
       "2999                         Ugz4K70s5tZHaG_LkIl4AaABAg  2019-04-08 12:59:00   \n",
       "\n",
       "      Likes  Reply_Count       Label  ... CountUpperLetters SimilarityTitle  \\\n",
       "0       0.0          0.0        spam  ...          0.017032             0.0   \n",
       "1       0.0          0.0        spam  ...          0.002433             0.0   \n",
       "2       0.0          0.0        spam  ...          0.000000             0.0   \n",
       "3       0.0          0.0        spam  ...          0.017032             0.0   \n",
       "4       0.0          0.0        spam  ...          0.041363             0.0   \n",
       "...     ...          ...         ...  ...               ...             ...   \n",
       "2995    0.0          0.0  legitimate  ...          0.002433             0.0   \n",
       "2996    0.0          0.0  legitimate  ...          0.002433             0.0   \n",
       "2997    0.0          0.0  legitimate  ...          0.002433             0.0   \n",
       "2998    0.0          0.0  legitimate  ...          0.002433             0.0   \n",
       "2999    0.0          0.0  legitimate  ...          0.048662             0.0   \n",
       "\n",
       "     SimilarityDesc  LenComment   NameLen  UrlRatio  LexicalRichness  \\\n",
       "0          0.000000    0.010804  0.479167  1.000000              1.0   \n",
       "1          0.000000    0.012005  0.229167  0.000000              1.0   \n",
       "2          0.000000    0.022409  0.354167  0.000000              1.0   \n",
       "3          0.000000    0.022009  0.125000  1.000000              1.0   \n",
       "4          0.000000    0.034814  0.187500  0.318182              1.0   \n",
       "...             ...         ...       ...       ...              ...   \n",
       "2995       0.000000    0.000800  0.270833  0.000000              1.0   \n",
       "2996       0.041667    0.012005  0.166667  0.000000              1.0   \n",
       "2997       0.062500    0.025210  0.729167  0.000000              1.0   \n",
       "2998       0.000000    0.004802  0.312500  0.000000              1.0   \n",
       "2999       0.000000    0.008804  0.062500  0.000000              1.0   \n",
       "\n",
       "      LexicalDensity  CommentRandomness  NameRandomness  \n",
       "0           1.000000           0.276051        0.279054  \n",
       "1           0.400000           0.231586        0.486599  \n",
       "2           0.500000           0.129836        0.380069  \n",
       "3           0.000000           0.158091        0.604591  \n",
       "4           0.700000           0.097878        0.590915  \n",
       "...              ...                ...             ...  \n",
       "2995        1.000000           1.000000        0.456809  \n",
       "2996        0.833333           0.226929        0.619931  \n",
       "2997        0.600000           0.110370        0.219814  \n",
       "2998        1.000000           0.418327        0.428835  \n",
       "2999        0.500000           0.290849        0.946395  \n",
       "\n",
       "[3000 rows x 31 columns]"
      ]
     },
     "execution_count": 79,
     "metadata": {},
     "output_type": "execute_result"
    }
   ],
   "source": [
    "normData"
   ]
  },
  {
   "cell_type": "code",
   "execution_count": 114,
   "metadata": {},
   "outputs": [],
   "source": [
    "normData.to_csv(\"../Data/Assets/DataNormalization.csv\", index=False)"
   ]
  },
  {
   "cell_type": "code",
   "execution_count": null,
   "metadata": {},
   "outputs": [],
   "source": []
  }
 ],
 "metadata": {
  "kernelspec": {
   "display_name": "Python 3.7.11 ('base')",
   "language": "python",
   "name": "python3"
  },
  "language_info": {
   "codemirror_mode": {
    "name": "ipython",
    "version": 3
   },
   "file_extension": ".py",
   "mimetype": "text/x-python",
   "name": "python",
   "nbconvert_exporter": "python",
   "pygments_lexer": "ipython3",
   "version": "3.7.11"
  },
  "orig_nbformat": 4,
  "vscode": {
   "interpreter": {
    "hash": "7e470a54d1f627e8dbc62884db0ab90c1d014850c7adde4c19b633d3b1a7b860"
   }
  }
 },
 "nbformat": 4,
 "nbformat_minor": 2
}
