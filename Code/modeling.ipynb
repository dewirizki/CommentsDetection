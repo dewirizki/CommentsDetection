{
 "cells": [
  {
   "cell_type": "code",
   "execution_count": 1,
   "metadata": {},
   "outputs": [
    {
     "name": "stdout",
     "output_type": "stream",
     "text": [
      "Collecting multimodal-transformers\n",
      "  Downloading multimodal_transformers-0.1.4a0.tar.gz (18 kB)\n",
      "Collecting torch\n",
      "  Downloading torch-1.12.0-cp37-cp37m-win_amd64.whl (161.9 MB)\n",
      "Collecting transformers==3.1\n",
      "  Downloading transformers-3.1.0-py3-none-any.whl (884 kB)\n",
      "Requirement already satisfied: numpy in c:\\users\\dewi\\anaconda3\\envs\\skripsi\\lib\\site-packages (from multimodal-transformers) (1.20.3)\n",
      "Requirement already satisfied: tqdm in c:\\users\\dewi\\anaconda3\\envs\\skripsi\\lib\\site-packages (from multimodal-transformers) (4.62.3)\n",
      "Requirement already satisfied: scipy in c:\\users\\dewi\\anaconda3\\envs\\skripsi\\lib\\site-packages (from multimodal-transformers) (1.7.1)\n",
      "Requirement already satisfied: networkx in c:\\users\\dewi\\anaconda3\\envs\\skripsi\\lib\\site-packages (from multimodal-transformers) (2.6.3)\n",
      "Requirement already satisfied: scikit-learn in c:\\users\\dewi\\anaconda3\\envs\\skripsi\\lib\\site-packages (from multimodal-transformers) (1.0.2)\n",
      "Requirement already satisfied: pandas in c:\\users\\dewi\\anaconda3\\envs\\skripsi\\lib\\site-packages (from multimodal-transformers) (1.0.5)\n",
      "Requirement already satisfied: regex!=2019.12.17 in c:\\users\\dewi\\anaconda3\\envs\\skripsi\\lib\\site-packages (from transformers==3.1->multimodal-transformers) (2021.8.3)\n",
      "Requirement already satisfied: requests in c:\\users\\dewi\\anaconda3\\envs\\skripsi\\lib\\site-packages (from transformers==3.1->multimodal-transformers) (2.26.0)\n",
      "Requirement already satisfied: filelock in c:\\users\\dewi\\anaconda3\\envs\\skripsi\\lib\\site-packages (from transformers==3.1->multimodal-transformers) (3.3.1)\n",
      "Requirement already satisfied: packaging in c:\\users\\dewi\\anaconda3\\envs\\skripsi\\lib\\site-packages (from transformers==3.1->multimodal-transformers) (21.0)\n",
      "Collecting tokenizers==0.8.1.rc2\n",
      "  Downloading tokenizers-0.8.1rc2-cp37-cp37m-win_amd64.whl (1.9 MB)\n",
      "Collecting sacremoses\n",
      "  Downloading sacremoses-0.0.53.tar.gz (880 kB)\n",
      "Collecting sentencepiece!=0.1.92\n",
      "  Downloading sentencepiece-0.1.96-cp37-cp37m-win_amd64.whl (1.1 MB)\n",
      "Requirement already satisfied: colorama in c:\\users\\dewi\\anaconda3\\envs\\skripsi\\lib\\site-packages (from tqdm->multimodal-transformers) (0.4.4)\n",
      "Requirement already satisfied: pyparsing>=2.0.2 in c:\\users\\dewi\\anaconda3\\envs\\skripsi\\lib\\site-packages (from packaging->transformers==3.1->multimodal-transformers) (3.0.4)\n",
      "Requirement already satisfied: pytz>=2017.2 in c:\\users\\dewi\\anaconda3\\envs\\skripsi\\lib\\site-packages (from pandas->multimodal-transformers) (2021.3)\n",
      "Requirement already satisfied: python-dateutil>=2.6.1 in c:\\users\\dewi\\anaconda3\\envs\\skripsi\\lib\\site-packages (from pandas->multimodal-transformers) (2.8.2)\n",
      "Requirement already satisfied: six>=1.5 in c:\\users\\dewi\\anaconda3\\envs\\skripsi\\lib\\site-packages (from python-dateutil>=2.6.1->pandas->multimodal-transformers) (1.16.0)\n",
      "Requirement already satisfied: idna<4,>=2.5 in c:\\users\\dewi\\anaconda3\\envs\\skripsi\\lib\\site-packages (from requests->transformers==3.1->multimodal-transformers) (3.2)\n",
      "Requirement already satisfied: urllib3<1.27,>=1.21.1 in c:\\users\\dewi\\anaconda3\\envs\\skripsi\\lib\\site-packages (from requests->transformers==3.1->multimodal-transformers) (1.26.7)\n",
      "Requirement already satisfied: charset-normalizer~=2.0.0 in c:\\users\\dewi\\anaconda3\\envs\\skripsi\\lib\\site-packages (from requests->transformers==3.1->multimodal-transformers) (2.0.4)\n",
      "Requirement already satisfied: certifi>=2017.4.17 in c:\\users\\dewi\\anaconda3\\envs\\skripsi\\lib\\site-packages (from requests->transformers==3.1->multimodal-transformers) (2021.10.8)\n",
      "Requirement already satisfied: click in c:\\users\\dewi\\anaconda3\\envs\\skripsi\\lib\\site-packages (from sacremoses->transformers==3.1->multimodal-transformers) (8.0.3)\n",
      "Requirement already satisfied: joblib in c:\\users\\dewi\\anaconda3\\envs\\skripsi\\lib\\site-packages (from sacremoses->transformers==3.1->multimodal-transformers) (1.1.0)\n",
      "Requirement already satisfied: importlib-metadata in c:\\users\\dewi\\anaconda3\\envs\\skripsi\\lib\\site-packages (from click->sacremoses->transformers==3.1->multimodal-transformers) (4.11.3)\n",
      "Requirement already satisfied: typing-extensions>=3.6.4 in c:\\users\\dewi\\anaconda3\\envs\\skripsi\\lib\\site-packages (from importlib-metadata->click->sacremoses->transformers==3.1->multimodal-transformers) (3.10.0.2)\n",
      "Requirement already satisfied: zipp>=0.5 in c:\\users\\dewi\\anaconda3\\envs\\skripsi\\lib\\site-packages (from importlib-metadata->click->sacremoses->transformers==3.1->multimodal-transformers) (3.6.0)\n",
      "Requirement already satisfied: threadpoolctl>=2.0.0 in c:\\users\\dewi\\anaconda3\\envs\\skripsi\\lib\\site-packages (from scikit-learn->multimodal-transformers) (2.2.0)\n",
      "Building wheels for collected packages: multimodal-transformers, sacremoses\n",
      "  Building wheel for multimodal-transformers (setup.py): started\n",
      "  Building wheel for multimodal-transformers (setup.py): finished with status 'done'\n",
      "  Created wheel for multimodal-transformers: filename=multimodal_transformers-0.1.4a0-py3-none-any.whl size=20631 sha256=06d2f020afcb99658c99c35cc6b02f39eb0044508d60320f54397d96f6758321\n",
      "  Stored in directory: c:\\users\\asus.laptop-evkq06qk\\appdata\\local\\pip\\cache\\wheels\\98\\7d\\6d\\4398271d9112fbed70c0b1ddb6af3ccc25beddc9d7d5d625a1\n",
      "  Building wheel for sacremoses (setup.py): started\n",
      "  Building wheel for sacremoses (setup.py): finished with status 'done'\n",
      "  Created wheel for sacremoses: filename=sacremoses-0.0.53-py3-none-any.whl size=895260 sha256=d90f908725b4ea8054c63475bfd564376496a326c320067a5642e9a7bd4eab24\n",
      "  Stored in directory: c:\\users\\asus.laptop-evkq06qk\\appdata\\local\\pip\\cache\\wheels\\87\\39\\dd\\a83eeef36d0bf98e7a4d1933a4ad2d660295a40613079bafc9\n",
      "Successfully built multimodal-transformers sacremoses\n",
      "Installing collected packages: tokenizers, sentencepiece, sacremoses, transformers, torch, multimodal-transformers\n",
      "Successfully installed multimodal-transformers-0.1.4a0 sacremoses-0.0.53 sentencepiece-0.1.96 tokenizers-0.8.1rc2 torch-1.12.0 transformers-3.1.0\n"
     ]
    }
   ],
   "source": [
    "! pip install multimodal-transformers"
   ]
  },
  {
   "cell_type": "code",
   "execution_count": 2,
   "metadata": {},
   "outputs": [
    {
     "name": "stderr",
     "output_type": "stream",
     "text": [
      "WARNING:root:Limited tf.compat.v2.summary API due to missing TensorBoard installation.\n"
     ]
    }
   ],
   "source": [
    "from dataclasses import dataclass, field\n",
    "import json\n",
    "import logging\n",
    "import os\n",
    "import matplotlib.pyplot as plt\n",
    "import seaborn as sns\n",
    "from typing import Optional\n",
    "\n",
    "import numpy as np\n",
    "import pandas as pd\n",
    "from transformers import (\n",
    "    AutoTokenizer,\n",
    "    AutoConfig,\n",
    "    Trainer,\n",
    "    EvalPrediction,\n",
    "    set_seed\n",
    ")\n",
    "\n",
    "from transformers.training_args import TrainingArguments\n",
    "from imblearn.over_sampling import SMOTE\n",
    "from imblearn.pipeline import Pipeline as imbpipeline\n",
    "from multimodal_transformers.data import load_data_from_folder\n",
    "from multimodal_transformers.model import TabularConfig\n",
    "from multimodal_transformers.model import AutoModelWithTabular\n",
    "import warnings; warnings.simplefilter('ignore')\n",
    "\n",
    "logging.basicConfig(level=logging.INFO)\n",
    "os.environ['COMET_MODE'] = 'DISABLED'"
   ]
  },
  {
   "cell_type": "code",
   "execution_count": 6,
   "metadata": {},
   "outputs": [
    {
     "name": "stdout",
     "output_type": "stream",
     "text": [
      "No GPU available, using the CPU instead.\n"
     ]
    }
   ],
   "source": [
    "import torch\n",
    "\n",
    "# If there's a GPU available...\n",
    "if torch.cuda.is_available():    \n",
    "\n",
    "    # Tell PyTorch to use the GPU.    \n",
    "    device = torch.device(\"cuda\")\n",
    "\n",
    "    print('There are %d GPU(s) available.' % torch.cuda.device_count())\n",
    "\n",
    "    print('We will use the GPU:', torch.cuda.get_device_name(0))\n",
    "\n",
    "# If not...\n",
    "else:\n",
    "    print('No GPU available, using the CPU instead.')\n",
    "    device = torch.device(\"cpu\")"
   ]
  },
  {
   "cell_type": "code",
   "execution_count": null,
   "metadata": {},
   "outputs": [],
   "source": []
  }
 ],
 "metadata": {
  "kernelspec": {
   "display_name": "Python 3.7.11 ('base')",
   "language": "python",
   "name": "python3"
  },
  "language_info": {
   "codemirror_mode": {
    "name": "ipython",
    "version": 3
   },
   "file_extension": ".py",
   "mimetype": "text/x-python",
   "name": "python",
   "nbconvert_exporter": "python",
   "pygments_lexer": "ipython3",
   "version": "3.7.11"
  },
  "orig_nbformat": 4,
  "vscode": {
   "interpreter": {
    "hash": "7e470a54d1f627e8dbc62884db0ab90c1d014850c7adde4c19b633d3b1a7b860"
   }
  }
 },
 "nbformat": 4,
 "nbformat_minor": 2
}
